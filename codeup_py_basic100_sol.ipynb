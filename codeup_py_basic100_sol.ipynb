{
 "cells": [
  {
   "cell_type": "code",
   "execution_count": 2,
   "id": "ec8d3c24",
   "metadata": {},
   "outputs": [
    {
     "name": "stdout",
     "output_type": "stream",
     "text": [
      "87\n",
      "13\n"
     ]
    }
   ],
   "source": [
    "#6079 : [기초-종합] 언제까지 더해야 할까?(py)\n",
    "x = int(input())\n",
    "y = []\n",
    "z = 1\n",
    "\n",
    "for i in range(x+1):\n",
    "    y.append(z)\n",
    "    if sum(y) >= x:\n",
    "        break\n",
    "    z += 1\n",
    "\n",
    "print(y[-1])"
   ]
  },
  {
   "cell_type": "code",
   "execution_count": 4,
   "id": "4ea86c20",
   "metadata": {},
   "outputs": [
    {
     "name": "stdout",
     "output_type": "stream",
     "text": [
      "2 3\n",
      "1 1\n",
      "1 2\n",
      "1 3\n",
      "2 1\n",
      "2 2\n",
      "2 3\n"
     ]
    }
   ],
   "source": [
    "#6080 : [기초-종합] 주사위 2개 던지기(설명)(py)\n",
    "n, m = map(int, input().split())\n",
    "\n",
    "for i in range(1, n+1):\n",
    "    for j in range(1, m+1):\n",
    "        print(i,j)"
   ]
  },
  {
   "cell_type": "code",
   "execution_count": null,
   "id": "f4542294",
   "metadata": {},
   "outputs": [],
   "source": []
  }
 ],
 "metadata": {
  "kernelspec": {
   "display_name": "Python 3",
   "language": "python",
   "name": "python3"
  },
  "language_info": {
   "codemirror_mode": {
    "name": "ipython",
    "version": 3
   },
   "file_extension": ".py",
   "mimetype": "text/x-python",
   "name": "python",
   "nbconvert_exporter": "python",
   "pygments_lexer": "ipython3",
   "version": "3.8.8"
  }
 },
 "nbformat": 4,
 "nbformat_minor": 5
}
