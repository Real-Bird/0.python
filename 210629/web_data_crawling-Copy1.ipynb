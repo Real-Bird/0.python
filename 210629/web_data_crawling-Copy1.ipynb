{
 "cells": [
  {
   "cell_type": "code",
   "execution_count": 2,
   "source": [
    "import requests\r\n",
    "from bs4 import BeautifulSoup"
   ],
   "outputs": [],
   "metadata": {}
  },
  {
   "cell_type": "code",
   "execution_count": 3,
   "source": [
    "headers = {\"User-Agent\":\"Mozilla/5.0\"}\r\n",
    "url = \"https://news.naver.com/main/list.nhn?mode=LSD&mid=sec&sid1=001\"\r\n",
    "html = requests.get(url, headers = headers).text\r\n",
    "soup = BeautifulSoup(html, \"html.parser\")\r\n",
    "type06 = soup.find(\"ul\", {\"class\" : \"type06_headline\"})\r\n",
    "dl = type06.find_all(\"dl\")\r\n",
    "for no, item2 in enumerate(dl):\r\n",
    "    try:\r\n",
    "        img = item2.find(\"dt\",{\"class\" : \"photo\"}).find(\"img\")\r\n",
    "        print(\"img = \", img[\"src\"])\r\n",
    "        link = item2.find(\"dt\",{\"class\": \"\"}).find(\"a\")\r\n",
    "        print(\"link = \",link[\"href\"])\r\n",
    "        print(\"title = \",link.text.replace(\"\\t\",\"\")[1:len(link.text)+1])\r\n",
    "        content = item2.find(\"dd\")\r\n",
    "        print(\"content = \", content.text.replace(\"\\t\",\"\").replace(\"\\n\",\"\").split(\"...\")[0])\r\n",
    "        print(\"-\"*30)\r\n",
    "    except:\r\n",
    "        print(\"No data = \", no)"
   ],
   "outputs": [
    {
     "output_type": "stream",
     "name": "stdout",
     "text": [
      "img =  https://imgnews.pstatic.net/image/origin/015/2021/08/10/4590193.jpg?type=nf106_72\n",
      "link =  https://news.naver.com/main/read.naver?mode=LSD&mid=sec&sid1=001&oid=015&aid=0004590193\n",
      "title =  \n",
      " 러시아 갑부, 야생 곰 쫓으려 총 쐈다가…사람 맞아 숨져\n",
      "\n",
      "content =  러시아 극동 캄차카주의 주의회 의원이자 갑부 기업인이 야생 곰을 쫓으려고 총을 쐈다가 실수로 근처에 있는 사람을 맞혀 숨지게 하 …한국경제1분전\n",
      "------------------------------\n",
      "img =  https://imgnews.pstatic.net/image/origin/003/2021/08/10/10658142.jpg?type=nf106_72\n",
      "link =  https://news.naver.com/main/read.naver?mode=LSD&mid=sec&sid1=001&oid=003&aid=0010658142\n",
      "title =  \n",
      " 홍콩 최대 규모 교원노조 해산…中 \"악성 종양\" 압박\n",
      "\n",
      "content =  [서울=뉴시스] 김난영 기자 = 중국·홍콩 당국과 관영 매체의 압박에 홍콩 최대 규모 교원노조가 결국 해산의 길을 가게 됐다.  …뉴시스1분전\n",
      "------------------------------\n",
      "img =  https://imgnews.pstatic.net/image/origin/077/2021/08/10/5288450.jpg?type=nf106_72\n",
      "link =  https://news.naver.com/main/read.naver?mode=LSD&mid=sec&sid1=001&oid=077&aid=0005288450\n",
      "title =  \n",
      " Italy Heatwave\n",
      "\n",
      "content =  A woman refreshes herself at a fountain in downtown Rome, Tuesday, Aug. …AP연합뉴스1분전\n",
      "------------------------------\n",
      "img =  https://imgnews.pstatic.net/image/origin/077/2021/08/10/5288449.jpg?type=nf106_72\n",
      "link =  https://news.naver.com/main/read.naver?mode=LSD&mid=sec&sid1=001&oid=077&aid=0005288449\n",
      "title =  \n",
      " Qatar Afghanistan\n",
      "\n",
      "content =  Yue Xiaoying China's special envoy to Afghanistan, Yue Xiaoying, left,  …AP연합뉴스1분전\n",
      "------------------------------\n",
      "img =  https://imgnews.pstatic.net/image/origin/001/2021/08/10/12591765.jpg?type=nf106_72\n",
      "link =  https://news.naver.com/main/read.naver?mode=LSD&mid=sec&sid1=001&oid=001&aid=0012591765\n",
      "title =  \n",
      " '우려가 현실로' 결국 2천명대까지…더 시급해진 백신접종 속도전(종합)\n",
      "\n",
      "content =  수도권 4단계·비수도권 3단계 고강도 거리두기도 약발 안 먹혀 '비상' 모더나 수급 불안에 3분기 접종계획 차질…델타형 변이 대 …연합뉴스1분전\n",
      "------------------------------\n",
      "img =  https://imgnews.pstatic.net/image/origin/022/2021/08/10/3608807.jpg?type=nf106_72\n",
      "link =  https://news.naver.com/main/read.naver?mode=LSD&mid=sec&sid1=001&oid=022&aid=0003608807\n",
      "title =  \n",
      " [사설] 與, 언론중재법 강행 처리 시동… 입법독재 후과 안 두렵나\n",
      "\n",
      "content =  언론단체들 반대 결의·서명 돌입 정연주 방심위장, 언론 협박 논란 대통령, 반헌법 폭거 입장 밝혀야 더불어민주당이 어제 언론사의 …세계일보신문A27면 1분전\n",
      "------------------------------\n",
      "img =  https://imgnews.pstatic.net/image/origin/022/2021/08/10/3608806.jpg?type=nf106_72\n",
      "link =  https://news.naver.com/main/read.naver?mode=LSD&mid=sec&sid1=001&oid=022&aid=0003608806\n",
      "title =  \n",
      " [사설] 北 “南 안보위협 직면할 것”, 도발에 철저히 대비해야\n",
      "\n",
      "content =  김여정 북한 노동당 부부장. 연합뉴스 김여정 북한 노동당 부부장이 16일부터 시작되는 한·미연합훈련을 앞두고 실시된 ‘사전 훈련 …세계일보신문A27면 1분전\n",
      "------------------------------\n",
      "img =  https://imgnews.pstatic.net/image/origin/022/2021/08/10/3608805.jpg?type=nf106_72\n",
      "link =  https://news.naver.com/main/read.naver?mode=LSD&mid=sec&sid1=001&oid=022&aid=0003608805\n",
      "title =  \n",
      " [사설] 휴전 하루 만에 다시 충돌, 비호감만 키우는 ‘명낙 대전’\n",
      "\n",
      "content =  더불어민주당 대선 경선에서 경합 중인 이재명 경기지사와 이낙연 전 대표가 ‘네거티브 중단’을 선언한 지 하루 만에 또다시 충돌했 …세계일보신문A27면 1분전\n",
      "------------------------------\n",
      "img =  https://imgnews.pstatic.net/image/origin/022/2021/08/10/3608804.jpg?type=nf106_72\n",
      "link =  https://news.naver.com/main/read.naver?mode=LSD&mid=sec&sid1=001&oid=022&aid=0003608804\n",
      "title =  \n",
      " [설왕설래] 김연경 묘목\n",
      "\n",
      "content =  서남아시아와 남유럽 사이에 위치한 터키. 다르다넬스해협과 마르마라해, 보스포루스해협을 경계로 서쪽 3%는 유럽에, 동쪽 97%는 …세계일보신문A27면 1분전\n",
      "------------------------------\n",
      "img =  https://imgnews.pstatic.net/image/origin/022/2021/08/10/3608803.jpg?type=nf106_72\n",
      "link =  https://news.naver.com/main/read.naver?mode=LSD&mid=sec&sid1=001&oid=022&aid=0003608803\n",
      "title =  \n",
      " [데스크의눈] 한국 정치 품격을 높이자\n",
      "\n",
      "content =  내년 대선 여야 사활건 전쟁 대선 주자들 막말·비방 속출 갈등·분노의 정치 계속되면 누가 대통령 돼도 미래 암울 공화당 조지 W …세계일보신문A27면 1분전\n",
      "------------------------------\n"
     ]
    }
   ],
   "metadata": {}
  },
  {
   "cell_type": "code",
   "execution_count": null,
   "source": [],
   "outputs": [],
   "metadata": {}
  }
 ],
 "metadata": {
  "kernelspec": {
   "name": "python3",
   "display_name": "Python 3.8.10 64-bit"
  },
  "language_info": {
   "codemirror_mode": {
    "name": "ipython",
    "version": 3
   },
   "file_extension": ".py",
   "mimetype": "text/x-python",
   "name": "python",
   "nbconvert_exporter": "python",
   "pygments_lexer": "ipython3",
   "version": "3.8.10"
  },
  "interpreter": {
   "hash": "435c7524b81c754d2a38f9b1930a50d7a83318eec9a7b6faab8c4b8cfd59b603"
  }
 },
 "nbformat": 4,
 "nbformat_minor": 5
}