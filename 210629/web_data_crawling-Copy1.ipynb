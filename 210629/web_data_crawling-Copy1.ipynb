{
 "cells": [
  {
   "cell_type": "code",
   "execution_count": 1,
   "id": "81b60189",
   "metadata": {},
   "outputs": [],
   "source": [
    "import requests\n",
    "from bs4 import BeautifulSoup"
   ]
  },
  {
   "cell_type": "code",
   "execution_count": 23,
   "id": "34c11530",
   "metadata": {},
   "outputs": [
    {
     "name": "stdout",
     "output_type": "stream",
     "text": [
      "img =  https://imgnews.pstatic.net/image/origin/366/2021/06/29/739988.jpg?type=nf106_72\n",
      "link =  https://news.naver.com/main/read.nhn?mode=LSD&mid=sec&sid1=001&oid=366&aid=0000739988\n",
      "title =  \n",
      " 테슬라, 중국 1위 배터리업체 CATL과 계약 연장…“中 시장 지배력 강화 포석”\r\n",
      "\n",
      "content =  중국의 시장 점유율 1위 배터리 제조업체 CATL이 미국의 전기차(EV) 제조업체 테슬라와 공급 계약을 연장했다고 로이터 통신과 …조선비즈1분전\n",
      "------------------------------\n",
      "img =  https://imgnews.pstatic.net/image/origin/079/2021/06/29/3521877.jpg?type=nf106_72\n",
      "link =  https://news.naver.com/main/read.nhn?mode=LSD&mid=sec&sid1=001&oid=079&aid=0003521877\n",
      "title =  \n",
      " 발언대로 향하는 김기현 원내대표\r\n",
      "\n",
      "content =  [CBS노컷뉴스 윤창원 기자] 29일 국회에서 열린 국민의힘 의원총회에서 김기현 원내대표가 모두발언을 하기위해 단사으로 나오고  …노컷뉴스1분전\n",
      "------------------------------\n",
      "img =  https://imgnews.pstatic.net/image/origin/079/2021/06/29/3521876.jpg?type=nf106_72\n",
      "link =  https://news.naver.com/main/read.nhn?mode=LSD&mid=sec&sid1=001&oid=079&aid=0003521876\n",
      "title =  \n",
      " 발언하는 김기현 원내대표\r\n",
      "\n",
      "content =  [CBS노컷뉴스 윤창원 기자] 29일 국회에서 열린 국민의힘 의원총회에서 김기현 원내대표가 모두발언을 하고 있다. ▶ 확 달라진 …노컷뉴스1분전\n",
      "------------------------------\n",
      "img =  https://imgnews.pstatic.net/image/origin/119/2021/06/29/2506215.jpg?type=nf106_72\n",
      "link =  https://news.naver.com/main/read.nhn?mode=LSD&mid=sec&sid1=001&oid=119&aid=0002506215\n",
      "title =  \n",
      " 김두관, 더불어민주당 대선 후보 선출 예비후보 등록\r\n",
      "\n",
      "content =  김두관 더불어민주당 의원이 29일 서울 여의도 더불어민주당 중앙당사에서 제20대 대통령 선거 예비후보자 등록을 하고 있다.데일리안1분전\n",
      "------------------------------\n",
      "img =  https://imgnews.pstatic.net/image/origin/079/2021/06/29/3521875.jpg?type=nf106_72\n",
      "link =  https://news.naver.com/main/read.nhn?mode=LSD&mid=sec&sid1=001&oid=079&aid=0003521875\n",
      "title =  \n",
      " 의총 발언하는 김기현\r\n",
      "\n",
      "content =  [CBS노컷뉴스 윤창원 기자] 29일 국회에서 열린 국민의힘 의원총회에서 김기현 원내대표가 모두발언을 하고 있다. ▶ 확 달라진 …노컷뉴스1분전\n",
      "------------------------------\n",
      "img =  https://imgnews.pstatic.net/image/origin/079/2021/06/29/3521874.jpg?type=nf106_72\n",
      "link =  https://news.naver.com/main/read.nhn?mode=LSD&mid=sec&sid1=001&oid=079&aid=0003521874\n",
      "title =  \n",
      " 국민의힘 의원총회\r\n",
      "\n",
      "content =  [CBS노컷뉴스 윤창원 기자] 29일 국회에서 열린 국민의힘 의원총회에서 김기현 원내대표가 모두발언을 하고 있다. ▶ 확 달라진 …노컷뉴스1분전\n",
      "------------------------------\n",
      "No data =  6\n",
      "img =  https://imgnews.pstatic.net/image/origin/047/2021/06/29/2317999.jpg?type=nf106_72\n",
      "link =  https://news.naver.com/main/read.nhn?mode=LSD&mid=sec&sid1=001&oid=047&aid=0002317999\n",
      "title =  \n",
      " 한국전쟁 인도교 폭파 희생자 추모하는 위령제를 아시나요?\r\n",
      "\n",
      "content =  [마초의 잡설 2.0] 15주기 한강인도교 폭파 희생자 합동위령추모제 ▲ 28일 낮 15주기 한강인도교 폭파 희생자 합동위령추모 …오마이뉴스1분전\n",
      "------------------------------\n",
      "img =  https://imgnews.pstatic.net/image/origin/018/2021/06/29/4970834.jpg?type=nf106_72\n",
      "link =  https://news.naver.com/main/read.nhn?mode=LSD&mid=sec&sid1=001&oid=018&aid=0004970834\n",
      "title =  \n",
      " 젖소 초유 추출물로 화장품 만든  '팜스킨'…A-벤처스 선정\r\n",
      "\n",
      "content =  곽태일 팜스킨 대표. (사진=농식품부) [세종=이데일리 원다연 기자] 젖소의 초유 추출물을 활용한 화장품으로 한해 110억여원의 …이데일리1분전\n",
      "------------------------------\n",
      "img =  https://imgnews.pstatic.net/image/origin/030/2021/06/29/2954041.jpg?type=nf106_72\n",
      "link =  https://news.naver.com/main/read.nhn?mode=LSD&mid=sec&sid1=001&oid=030&aid=0002954041\n",
      "title =  \n",
      " 원자력연 2호 연구소기업 '서울프로폴리스', 과기정통부 우수기업연구소 선정\r\n",
      "\n",
      "content =  한국원자력연구원(원장 박원석)은 연구원 제2호 연구소기업인 서울프로폴리스(대표 이승완)가 과기정통부 우수기업연구소로 선정됐다고  …전자신문1분전\n",
      "------------------------------\n"
     ]
    }
   ],
   "source": [
    "headers = {\"User-Agent\":\"Mozilla/5.0\"}\n",
    "url = \"https://news.naver.com/main/list.nhn?mode=LSD&mid=sec&sid1=001\"\n",
    "html = requests.get(url, headers = headers).text\n",
    "soup = BeautifulSoup(html, \"html.parser\")\n",
    "type06 = soup.find(\"ul\", {\"class\" : \"type06_headline\"})\n",
    "dl = type06.find_all(\"dl\")\n",
    "for no, item2 in enumerate(dl):\n",
    "    try:\n",
    "        img = item2.find(\"dt\",{\"class\" : \"photo\"}).find(\"img\")\n",
    "        print(\"img = \", img[\"src\"])\n",
    "        link = item2.find(\"dt\",{\"class\": \"\"}).find(\"a\")\n",
    "        print(\"link = \",link[\"href\"])\n",
    "        print(\"title = \",link.text.replace(\"\\t\",\"\")[1:len(link.text)+1])\n",
    "        content = item2.find(\"dd\")\n",
    "        print(\"content = \", content.text.replace(\"\\t\",\"\").replace(\"\\n\",\"\").split(\"...\")[0])\n",
    "        print(\"-\"*30)\n",
    "    except:\n",
    "        print(\"No data = \", no)"
   ]
  },
  {
   "cell_type": "code",
   "execution_count": null,
   "id": "41a4025c",
   "metadata": {},
   "outputs": [],
   "source": []
  }
 ],
 "metadata": {
  "kernelspec": {
   "display_name": "Python 3",
   "language": "python",
   "name": "python3"
  },
  "language_info": {
   "codemirror_mode": {
    "name": "ipython",
    "version": 3
   },
   "file_extension": ".py",
   "mimetype": "text/x-python",
   "name": "python",
   "nbconvert_exporter": "python",
   "pygments_lexer": "ipython3",
   "version": "3.8.8"
  }
 },
 "nbformat": 4,
 "nbformat_minor": 5
}
