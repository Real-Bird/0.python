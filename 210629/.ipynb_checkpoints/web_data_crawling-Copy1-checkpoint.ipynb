{
 "cells": [
  {
   "cell_type": "code",
   "execution_count": 3,
   "id": "81b60189",
   "metadata": {},
   "outputs": [],
   "source": [
    "import requests\n",
    "from bs4 import BeautifulSoup"
   ]
  },
  {
   "cell_type": "code",
   "execution_count": 5,
   "id": "34c11530",
   "metadata": {},
   "outputs": [
    {
     "name": "stdout",
     "output_type": "stream",
     "text": [
      "No image\n",
      "No image\n",
      "No image\n",
      "No image\n",
      "No image\n",
      "No image\n",
      "No image\n",
      "No image\n",
      "No image\n",
      "No image\n"
     ]
    }
   ],
   "source": [
    "headers = {\"User-Agent\":\"Mozilla/5.0\"}\n",
    "url = \"https://news.naver.com/main/list.nhn?mode=LSD&mid=sec&sid1=001\"\n",
    "html = requests.get(url, headers = headers).text\n",
    "soup = BeautifulSoup(html, \"html.parser\")\n",
    "type06 = soup.find(\"ul\", {\"class\" : \"type06_headline\"})\n",
    "dl = type06.find_all(\"dl\")\n",
    "for item2 in dl:\n",
    "    try:\n",
    "        img = item2.find(\"dt\",{\"class\" : \"photo\"}).find(\"img\")\n",
    "        print(\"img = \", img[\"srd\"])\n",
    "        print(\"-\"*30)\n",
    "    except:\n",
    "        print(\"No image\")"
   ]
  },
  {
   "cell_type": "code",
   "execution_count": 7,
   "id": "82d6db1e",
   "metadata": {},
   "outputs": [
    {
     "name": "stdout",
     "output_type": "stream",
     "text": [
      "https://news.naver.com/main/read.nhn?mode=LSD&mid=sec&sid1=001&oid=091&aid=0008824646\n",
      "\n",
      " INDIA KASHMIR CONFLICTS\r\n",
      "\n",
      "https://news.naver.com/main/read.nhn?mode=LSD&mid=sec&sid1=001&oid=091&aid=0008824645\n",
      "\n",
      " INDIA KASHMIR CONFLICTS\r\n",
      "\n",
      "https://news.naver.com/main/read.nhn?mode=LSD&mid=sec&sid1=001&oid=091&aid=0008824644\n",
      "\n",
      " INDIA KASHMIR CONFLICTS\r\n",
      "\n",
      "https://news.naver.com/main/read.nhn?mode=LSD&mid=sec&sid1=001&oid=077&aid=0005242794\n",
      "\n",
      " Britain Tennis Wimbledon\r\n",
      "\n",
      "https://news.naver.com/main/read.nhn?mode=LSD&mid=sec&sid1=001&oid=091&aid=0008824643\n",
      "\n",
      " INDIA KASHMIR CONFLICTS\r\n",
      "\n",
      "https://news.naver.com/main/read.nhn?mode=LSD&mid=sec&sid1=001&oid=091&aid=0008824642\n",
      "\n",
      " INDIA KASHMIR CONFLICTS\r\n",
      "\n",
      "https://news.naver.com/main/read.nhn?mode=LSD&mid=sec&sid1=001&oid=091&aid=0008824641\n",
      "\n",
      " SPAIN ECONOMY STOCK MARKET\r\n",
      "\n",
      "https://news.naver.com/main/read.nhn?mode=LSD&mid=sec&sid1=001&oid=091&aid=0008824640\n",
      "\n",
      " CHINA COMMUNIST PARTY CENTENARY\r\n",
      "\n",
      "https://news.naver.com/main/read.nhn?mode=LSD&mid=sec&sid1=001&oid=091&aid=0008824639\n",
      "\n",
      " EPA OUTLOOK\r\n",
      "\n",
      "https://news.naver.com/main/read.nhn?mode=LSD&mid=sec&sid1=001&oid=091&aid=0008824638\n",
      "\n",
      " SPAIN ECONOMY STOCK MARKET\r\n",
      "\n"
     ]
    }
   ],
   "source": [
    "dl = type06.find_all(\"dl\")\n",
    "for item2 in dl:\n",
    "    link = item2.find(\"dt\",{\"class\": \"\"}).find(\"a\")\n",
    "    print(link[\"href\"])\n",
    "    print(link.text.replace(\"\\t\",\"\")[1:len(link.text)+1])"
   ]
  },
  {
   "cell_type": "code",
   "execution_count": 8,
   "id": "61d969ea",
   "metadata": {},
   "outputs": [
    {
     "name": "stdout",
     "output_type": "stream",
     "text": [
      "Special Police Officer (SPO), his wife and daughter killed in militant  …EPA연합뉴스1분전\n",
      "Special Police Officer (SPO), his wife and daughter killed in militant  …EPA연합뉴스1분전\n",
      "Special Police Officer (SPO), his wife and daughter killed in militant  …EPA연합뉴스1분전\n",
      "Housekeeping staff use a mist spray to disinfect the seats on Centre Co …AP연합뉴스1분전\n",
      "Special Police Officer (SPO), his wife and daughter killed in militant  …EPA연합뉴스1분전\n",
      "Special Police Officer (SPO), his wife and daughter killed in militant  …EPA연합뉴스1분전\n",
      "Spanish IBEX 35 drops a 0.23 percent Information panels display the evo …EPA연합뉴스1분전\n",
      "China to mark 100th founding anniversary of the Chinese Communist Party …EPA연합뉴스1분전\n",
      "EPA OUTLOOK We expect to move pictures on the following news, entertain …EPA연합뉴스1분전\n",
      "Spanish IBEX 35 drops a 0.23 percent Information panels display the evo …EPA연합뉴스1분전\n"
     ]
    }
   ],
   "source": [
    "dl = type06.find_all(\"dl\")\n",
    "for item2 in dl:\n",
    "    try:\n",
    "        content = item2.find(\"dd\")\n",
    "        print(content.text.replace(\"\\t\",\"\").replace(\"\\n\",\"\").split(\"...\")[0])\n",
    "    except:\n",
    "        print(\"No Content\")"
   ]
  },
  {
   "cell_type": "code",
   "execution_count": null,
   "id": "b74978f3",
   "metadata": {},
   "outputs": [],
   "source": []
  }
 ],
 "metadata": {
  "kernelspec": {
   "display_name": "Python 3",
   "language": "python",
   "name": "python3"
  },
  "language_info": {
   "codemirror_mode": {
    "name": "ipython",
    "version": 3
   },
   "file_extension": ".py",
   "mimetype": "text/x-python",
   "name": "python",
   "nbconvert_exporter": "python",
   "pygments_lexer": "ipython3",
   "version": "3.8.8"
  }
 },
 "nbformat": 4,
 "nbformat_minor": 5
}
