{
 "cells": [
  {
   "cell_type": "code",
   "execution_count": 2,
   "metadata": {
    "id": "b-TBKa0RmDYO"
   },
   "outputs": [],
   "source": [
    "import pandas as pd \n",
    "from sklearn import svm, metrics \n",
    "from sklearn.model_selection import train_test_split"
   ]
  },
  {
   "cell_type": "code",
   "execution_count": 12,
   "metadata": {
    "id": "AhXFqwlYmDYP"
   },
   "outputs": [],
   "source": [
    "csv = pd.read_csv(\"iris.csv\") "
   ]
  },
  {
   "cell_type": "code",
   "execution_count": 13,
   "metadata": {
    "id": "I-W4v-TZmDYQ"
   },
   "outputs": [],
   "source": [
    "csv_data = csv[ [\"SepalLength\",\"SepalWidth\",\"PetalLength\",\"PetalWidth\"] ]\n",
    "csv_label = csv[\"Name\"]"
   ]
  },
  {
   "cell_type": "code",
   "execution_count": 14,
   "metadata": {
    "id": "88Wf2LObmDYQ",
    "outputId": "f034f4f2-6eaa-4555-bad8-1951333367c0"
   },
   "outputs": [],
   "source": [
    "train_data, test_data , train_label, test_label  =  \\\n",
    "train_test_split(csv_data, csv_label)"
   ]
  },
  {
   "cell_type": "code",
   "execution_count": 15,
   "metadata": {
    "id": "tfoD8xI2mDYR",
    "outputId": "fdc4a32e-0e80-4233-9101-f0cb22efd5ef",
    "scrolled": false
   },
   "outputs": [
    {
     "data": {
      "text/plain": [
       "SVC()"
      ]
     },
     "execution_count": 15,
     "metadata": {},
     "output_type": "execute_result"
    }
   ],
   "source": [
    "model = svm.SVC(  )\n",
    "model.fit(train_data, train_label) "
   ]
  },
  {
   "cell_type": "code",
   "execution_count": 16,
   "metadata": {
    "id": "4dL2RkeDmDYS"
   },
   "outputs": [],
   "source": [
    "pre = model.predict( test_data )"
   ]
  },
  {
   "cell_type": "code",
   "execution_count": 17,
   "metadata": {
    "id": "I72rmpCTmDYS",
    "outputId": "438e613a-2e3b-4ce1-a578-1460789e7691"
   },
   "outputs": [
    {
     "name": "stdout",
     "output_type": "stream",
     "text": [
      "정답률 =  0.9210526315789473\n"
     ]
    }
   ],
   "source": [
    "ac_score = metrics.accuracy_score( test_label, pre ) \n",
    "print(\"정답률 = \" , ac_score)"
   ]
  },
  {
   "cell_type": "code",
   "execution_count": null,
   "metadata": {},
   "outputs": [],
   "source": []
  }
 ],
 "metadata": {
  "colab": {
   "collapsed_sections": [],
   "name": "ex03_iris.ipynb",
   "provenance": []
  },
  "kernelspec": {
   "display_name": "Python 3",
   "language": "python",
   "name": "python3"
  },
  "language_info": {
   "codemirror_mode": {
    "name": "ipython",
    "version": 3
   },
   "file_extension": ".py",
   "mimetype": "text/x-python",
   "name": "python",
   "nbconvert_exporter": "python",
   "pygments_lexer": "ipython3",
   "version": "3.8.8"
  }
 },
 "nbformat": 4,
 "nbformat_minor": 1
}
