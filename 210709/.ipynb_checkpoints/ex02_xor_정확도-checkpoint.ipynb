{
 "cells": [
  {
   "cell_type": "code",
   "execution_count": 1,
   "metadata": {
    "id": "TK0VcaCSl0A5"
   },
   "outputs": [],
   "source": [
    "import pandas  as  pd\n",
    "from sklearn import svm, metrics"
   ]
  },
  {
   "cell_type": "code",
   "execution_count": null,
   "metadata": {
    "id": "QL_ccZd7l0A6"
   },
   "outputs": [],
   "source": [
    "xor_input = [ \n",
    "    [0,0,0] ,\n",
    "    [0,1,1] ,\n",
    "    [1,0,1] ,\n",
    "    [1,1,0]  \n",
    "]\n",
    "\n",
    "xor_df = pd. #TODO  ( xor_input )  \n",
    "xor_data = xor_df. #TODO  [ :, 0:1] \n",
    "xor_label = xor_df. #TODO  c[ :, 2] "
   ]
  },
  {
   "cell_type": "code",
   "execution_count": null,
   "metadata": {
    "id": "OrjUys0Ol0A7",
    "outputId": "9a4880bd-b637-4f9f-ad79-14674fa0fc6b"
   },
   "outputs": [
    {
     "name": "stderr",
     "output_type": "stream",
     "text": [
      "A:\\Python\\Anaconda3_201903\\lib\\site-packages\\sklearn\\svm\\base.py:196: FutureWarning: The default value of gamma will change from 'auto' to 'scale' in version 0.22 to account better for unscaled features. Set gamma explicitly to 'auto' or 'scale' to avoid this warning.\n",
      "  \"avoid this warning.\", FutureWarning)\n"
     ]
    },
    {
     "data": {
      "text/plain": [
       "SVC(C=1.0, cache_size=200, class_weight=None, coef0=0.0,\n",
       "  decision_function_shape='ovr', degree=3, gamma='auto_deprecated',\n",
       "  kernel='rbf', max_iter=-1, probability=False, random_state=None,\n",
       "  shrinking=True, tol=0.001, verbose=False)"
      ]
     },
     "execution_count": 8,
     "metadata": {
      "tags": []
     },
     "output_type": "execute_result"
    }
   ],
   "source": [
    "clf =  #TODO  \n",
    "clf. #TODO  "
   ]
  },
  {
   "cell_type": "code",
   "execution_count": null,
   "metadata": {
    "id": "6OwSzMZdl0A8"
   },
   "outputs": [],
   "source": [
    "pre = clf. #TODO  "
   ]
  },
  {
   "cell_type": "code",
   "execution_count": null,
   "metadata": {
    "id": "nzmCOM1nl0A9",
    "outputId": "1770d856-0a05-402f-cf5e-f970701f7535"
   },
   "outputs": [
    {
     "name": "stdout",
     "output_type": "stream",
     "text": [
      "정답률 =  1.0\n"
     ]
    }
   ],
   "source": [
    "ac_score =   #TODO   \n",
    "print(\"정답률 = \" , ac_score)"
   ]
  },
  {
   "cell_type": "code",
   "execution_count": null,
   "metadata": {
    "id": "QAm_Vcb0l0A9"
   },
   "outputs": [],
   "source": []
  }
 ],
 "metadata": {
  "colab": {
   "collapsed_sections": [],
   "name": "ex02_xor_정확도.ipynb",
   "provenance": []
  },
  "kernelspec": {
   "display_name": "Python 3",
   "language": "python",
   "name": "python3"
  },
  "language_info": {
   "codemirror_mode": {
    "name": "ipython",
    "version": 3
   },
   "file_extension": ".py",
   "mimetype": "text/x-python",
   "name": "python",
   "nbconvert_exporter": "python",
   "pygments_lexer": "ipython3",
   "version": "3.8.8"
  }
 },
 "nbformat": 4,
 "nbformat_minor": 1
}
