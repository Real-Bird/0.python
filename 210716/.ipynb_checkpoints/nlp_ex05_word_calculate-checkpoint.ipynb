{
 "cells": [
  {
   "cell_type": "code",
   "execution_count": 1,
   "metadata": {
    "id": "0lBvDOWyY6t4"
   },
   "outputs": [
    {
     "name": "stderr",
     "output_type": "stream",
     "text": [
      "C:\\Users\\marbi\\anaconda3\\lib\\site-packages\\gensim\\similarities\\__init__.py:15: UserWarning: The gensim.similarities.levenshtein submodule is disabled, because the optional Levenshtein package <https://pypi.org/project/python-Levenshtein/> is unavailable. Install Levenhstein (e.g. `pip install python-Levenshtein`) to suppress this warning.\n",
      "  warnings.warn(msg)\n"
     ]
    }
   ],
   "source": [
    "from gensim.models import word2vec\n",
    "model = word2vec.Word2Vec.load(\"D:/python/w2v/wiki.model\")"
   ]
  },
  {
   "cell_type": "code",
   "execution_count": 2,
   "metadata": {},
   "outputs": [
    {
     "name": "stdout",
     "output_type": "stream",
     "text": [
      "[('엄마', 0.9368489384651184), ('役', 0.848401665687561), ('아저씨', 0.8271180391311646), ('뱀파이어', 0.8219587206840515), ('아줌마', 0.8140140771865845), ('짱', 0.8128606081008911), ('애니원', 0.8111182451248169), ('천방지축', 0.8028424978256226), ('이웃집', 0.8022874593734741), ('미녀', 0.797886312007904)]\n",
      "('엄마', 0.9368489384651184)\n"
     ]
    }
   ],
   "source": [
    "result = model.wv.most_similar(\"아빠\")\n",
    "print(result)\n",
    "print(result[0])"
   ]
  },
  {
   "cell_type": "code",
   "execution_count": 3,
   "metadata": {},
   "outputs": [
    {
     "name": "stdout",
     "output_type": "stream",
     "text": [
      "[('엄마', 0.9368489384651184), ('役', 0.848401665687561)]\n"
     ]
    }
   ],
   "source": [
    "result = model.wv.most_similar(\"아빠\", topn=2)\n",
    "print(result)"
   ]
  },
  {
   "cell_type": "code",
   "execution_count": 4,
   "metadata": {},
   "outputs": [
    {
     "name": "stdout",
     "output_type": "stream",
     "text": [
      "[('UTF', 0.4032071828842163), ('십육진법', 0.40128830075263977), ('어파', 0.3949264883995056), ('아랍어', 0.39421752095222473), ('포르투갈어', 0.3883157968521118), ('주기율표', 0.3847517669200897), ('아라비아', 0.3844713866710663), ('남아메리카', 0.37646788358688354), ('8859-15', 0.3732810318470001), ('정규화', 0.37173157930374146)]\n"
     ]
    }
   ],
   "source": [
    "result = model.wv.most_similar(\"아빠\", \"엄마\")\n",
    "print(result)"
   ]
  },
  {
   "cell_type": "code",
   "execution_count": 5,
   "metadata": {},
   "outputs": [
    {
     "name": "stdout",
     "output_type": "stream",
     "text": [
      "[('지상', 0.4896845519542694), ('킬로칼로리', 0.48266562819480896), ('량', 0.4540238678455353), ('단계', 0.4531170427799225), ('번째', 0.44307437539100647), ('진법', 0.44255995750427246), ('차로', 0.431395560503006), ('나노초', 0.4197939336299896), ('kV', 0.41859933733940125), ('위', 0.415874183177948)]\n"
     ]
    }
   ],
   "source": [
    "result = model.wv.most_similar(\"신발\", \"엄마\")\n",
    "print(result)"
   ]
  },
  {
   "cell_type": "code",
   "execution_count": 7,
   "metadata": {},
   "outputs": [
    {
     "name": "stdout",
     "output_type": "stream",
     "text": [
      "[('엄마', 0.8092657923698425)]\n"
     ]
    }
   ],
   "source": [
    "result = model.wv.most_similar(positive = [\"아빠\", \"여자\"], negative = [\"남자\"],\n",
    "                              topn=1)\n",
    "print(result)"
   ]
  },
  {
   "cell_type": "code",
   "execution_count": 8,
   "metadata": {},
   "outputs": [
    {
     "name": "stdout",
     "output_type": "stream",
     "text": [
      "[('도쿄', 0.5033303499221802)]\n"
     ]
    }
   ],
   "source": [
    "result = model.wv.most_similar(positive = [\"서울\", \"일본\"], negative = [\"한국\"],\n",
    "                              topn=1)\n",
    "print(result)"
   ]
  },
  {
   "cell_type": "code",
   "execution_count": 9,
   "metadata": {},
   "outputs": [
    {
     "name": "stdout",
     "output_type": "stream",
     "text": [
      "[('여자', 0.7754374742507935)]\n"
     ]
    }
   ],
   "source": [
    "result = model.wv.most_similar(positive = [\"오른쪽\", \"남자\"], negative = [\"왼쪽\"],\n",
    "                              topn=1)\n",
    "print(result)"
   ]
  },
  {
   "cell_type": "code",
   "execution_count": 10,
   "metadata": {},
   "outputs": [
    {
     "name": "stdout",
     "output_type": "stream",
     "text": [
      "[('코엑스', 0.753319501876831), ('신사동', 0.7222009301185608), ('여의도', 0.7080156803131104), ('한남동', 0.7058446407318115), ('논현동', 0.704301118850708)]\n"
     ]
    }
   ],
   "source": [
    "result = model.wv.most_similar(positive = [\"서울\", \"맛집\"], topn=5)\n",
    "print(result)"
   ]
  },
  {
   "cell_type": "code",
   "execution_count": 11,
   "metadata": {},
   "outputs": [
    {
     "name": "stdout",
     "output_type": "stream",
     "text": [
      "[('이경규', 0.8721577525138855)]\n"
     ]
    }
   ],
   "source": [
    "result = model.wv.most_similar(positive = [\"유재석\"], topn=1)\n",
    "print(result)"
   ]
  },
  {
   "cell_type": "code",
   "execution_count": null,
   "metadata": {},
   "outputs": [],
   "source": []
  }
 ],
 "metadata": {
  "colab": {
   "name": "nlp_ex05_word_calculate.ipynb",
   "provenance": []
  },
  "kernelspec": {
   "display_name": "Python 3",
   "language": "python",
   "name": "python3"
  },
  "language_info": {
   "codemirror_mode": {
    "name": "ipython",
    "version": 3
   },
   "file_extension": ".py",
   "mimetype": "text/x-python",
   "name": "python",
   "nbconvert_exporter": "python",
   "pygments_lexer": "ipython3",
   "version": "3.8.8"
  }
 },
 "nbformat": 4,
 "nbformat_minor": 1
}
