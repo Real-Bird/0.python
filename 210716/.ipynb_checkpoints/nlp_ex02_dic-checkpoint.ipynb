{
 "cells": [
  {
   "cell_type": "code",
   "execution_count": 1,
   "metadata": {
    "id": "EmZ0ABDNYeWE"
   },
   "outputs": [],
   "source": [
    "from keras.preprocessing.text import Tokenizer\n",
    "samples = ['The cat sat on the mat.', 'The dog ate my homework.']\n",
    "\n",
    "# 가장 빈도가 높은 1,000개의 단어만 선택하도록 Tokenizer 객체 생성\n",
    "tokenizer = Tokenizer(num_words=1000)"
   ]
  },
  {
   "cell_type": "code",
   "execution_count": 2,
   "metadata": {
    "id": "qNtRyngIYeWI",
    "outputId": "e8ca3082-01f5-473b-f047-cd4273b1012e"
   },
   "outputs": [
    {
     "name": "stdout",
     "output_type": "stream",
     "text": [
      "각 단어의 인덱스: \n",
      " {'the': 1, 'cat': 2, 'sat': 3, 'on': 4, 'mat': 5, 'dog': 6, 'ate': 7, 'my': 8, 'homework': 9}\n"
     ]
    }
   ],
   "source": [
    "# 단어 인덱스를 구축\n",
    "tokenizer.fit_on_texts(samples)\n",
    "\n",
    "word_index = tokenizer.word_index\n",
    "print(\"각 단어의 인덱스: \\n\", word_index) "
   ]
  },
  {
   "cell_type": "code",
   "execution_count": 3,
   "metadata": {
    "id": "TecgZZJgYeWK",
    "outputId": "c1ec722d-d6b8-407b-d52a-792d97a2f700"
   },
   "outputs": [
    {
     "name": "stdout",
     "output_type": "stream",
     "text": [
      "sequences [[1, 2, 3, 4, 1, 5], [1, 6, 7, 8, 9]]\n"
     ]
    }
   ],
   "source": [
    "# 문자열을 정수 인덱스의 리스트로 변환\n",
    "sequences = tokenizer.texts_to_sequences(samples)\n",
    "print(\"sequences\",  sequences  )"
   ]
  },
  {
   "cell_type": "code",
   "execution_count": 5,
   "metadata": {
    "id": "zVRpfLIpYeWK",
    "outputId": "c9bc08b6-ddf7-4053-cb71-bbdcf9e22895"
   },
   "outputs": [
    {
     "name": "stdout",
     "output_type": "stream",
     "text": [
      "index_word : {1: 'the', 2: 'cat', 3: 'sat', 4: 'on', 5: 'mat', 6: 'dog', 7: 'ate', 8: 'my', 9: 'homework'}\n",
      "단어 출현 빈도수 :  defaultdict(<class 'int'>, {1: 2, 2: 1, 5: 1, 4: 1, 3: 1, 8: 1, 7: 1, 6: 1, 9: 1})\n",
      "문장 수 :  2\n"
     ]
    }
   ],
   "source": [
    "print(\"index_word :\" , tokenizer.index_word  )\n",
    "print(\"단어 출현 빈도수 : \" , tokenizer.index_docs  )\n",
    "print(\"문장 수 : \" , tokenizer.document_count) #문장 수"
   ]
  },
  {
   "cell_type": "code",
   "execution_count": null,
   "metadata": {},
   "outputs": [],
   "source": []
  }
 ],
 "metadata": {
  "colab": {
   "collapsed_sections": [],
   "name": "nlp_ex02_dic.ipynb",
   "provenance": []
  },
  "kernelspec": {
   "display_name": "Python 3",
   "language": "python",
   "name": "python3"
  },
  "language_info": {
   "codemirror_mode": {
    "name": "ipython",
    "version": 3
   },
   "file_extension": ".py",
   "mimetype": "text/x-python",
   "name": "python",
   "nbconvert_exporter": "python",
   "pygments_lexer": "ipython3",
   "version": "3.8.8"
  }
 },
 "nbformat": 4,
 "nbformat_minor": 1
}
