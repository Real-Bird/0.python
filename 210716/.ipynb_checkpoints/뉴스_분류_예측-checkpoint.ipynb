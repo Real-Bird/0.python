{
 "cells": [
  {
   "cell_type": "markdown",
   "id": "a2f7fe80",
   "metadata": {},
   "source": [
    "### 뉴스 분류 예측 프로그램\n",
    "1. 뉴스 크롤링 및 라벨링\n",
    "2. one_hot_encoding, embeded\n",
    "3. 학습\n",
    "4. 테스트\n",
    "5. 실행"
   ]
  },
  {
   "cell_type": "markdown",
   "id": "c16616a6",
   "metadata": {},
   "source": [
    "### 형태소 분석 및 모델 설정"
   ]
  },
  {
   "cell_type": "markdown",
   "id": "862df719",
   "metadata": {},
   "source": [
    "##### train data"
   ]
  },
  {
   "cell_type": "code",
   "execution_count": 1,
   "id": "1043bdc2",
   "metadata": {
    "scrolled": false
   },
   "outputs": [
    {
     "name": "stderr",
     "output_type": "stream",
     "text": [
      "C:\\Users\\marbi\\anaconda3\\lib\\site-packages\\gensim\\similarities\\__init__.py:15: UserWarning: The gensim.similarities.levenshtein submodule is disabled, because the optional Levenshtein package <https://pypi.org/project/python-Levenshtein/> is unavailable. Install Levenhstein (e.g. `pip install python-Levenshtein`) to suppress this warning.\n",
      "  warnings.warn(msg)\n"
     ]
    }
   ],
   "source": [
    "from konlpy.tag import Okt\n",
    "import csv\n",
    "from keras.preprocessing.text import Tokenizer\n",
    "\n",
    "okt = Okt()\n",
    "\n",
    "file_news = open('Article_shuffled.csv', 'r')\n",
    "news_line = csv.reader(file_news)\n",
    "\n",
    "train_data = []\n",
    "\n",
    "for i in news_line:\n",
    "    category = okt.pos(i[0], norm=True, stem=True)\n",
    "    for j in range(len(category)):\n",
    "        train_data.append(category[j][0])\n",
    "\n",
    "for i in news_line:\n",
    "    title = okt.pos(i[1], norm=True, stem=True)\n",
    "    for j in range(len(title)):\n",
    "        if not title[j][1] in ['Josa', 'Eomi', 'Punctuation',\"Foreign\"]:\n",
    "            train_data.append(title[j][0])        "
   ]
  },
  {
   "cell_type": "code",
   "execution_count": 2,
   "id": "9e7b9b77",
   "metadata": {},
   "outputs": [],
   "source": [
    "from sklearn.preprocessing import LabelEncoder\n",
    "# LabelEncoder를 객체로 생성한 후 , fit( ) 과 transform( ) 으로 label 인코딩 수행. \n",
    "encoder = LabelEncoder()\n",
    "encoder.fit(train_data)\n",
    "labels = encoder.transform(train_data)\n",
    "y_train = labels"
   ]
  },
  {
   "cell_type": "code",
   "execution_count": 4,
   "id": "b9b6932c",
   "metadata": {
    "scrolled": true
   },
   "outputs": [],
   "source": [
    "tokenizer = Tokenizer(num_words=1000)\n",
    "\n",
    "# 단어 인덱스를 구축\n",
    "tokenizer.fit_on_texts(train_data)\n",
    "\n",
    "# print(\"index_word :\" , tokenizer.index_word )\n",
    "# print(\"word_index :\" , tokenizer.word_index )\n",
    "# print(\"단어 출현 빈도수 : \" , tokenizer.index_docs )\n",
    "# print(\"문장 수 : \" , tokenizer.document_count) #문장 수\n",
    "\n",
    "# 문자열을 정수 인덱스의 리스트로 변환\n",
    "sequences = tokenizer.texts_to_sequences(train_data)\n",
    "# print(\"sequences\",  sequences  )\n",
    "\n",
    "# 원-핫 이진 벡터 표현\n",
    "one_hot_results = tokenizer.texts_to_matrix(train_data, mode=\"binary\")\n",
    "# print( \"one_hot_results\", one_hot_results  )\n"
   ]
  },
  {
   "cell_type": "markdown",
   "id": "38fec8fc",
   "metadata": {},
   "source": [
    "##### test data"
   ]
  },
  {
   "cell_type": "code",
   "execution_count": 6,
   "id": "4132ae48",
   "metadata": {},
   "outputs": [],
   "source": [
    "test_news = open('Article_shuffled_test.csv', 'r')\n",
    "test_line = csv.reader(test_news)\n",
    "\n",
    "test_data = []\n",
    "\n",
    "try:\n",
    "    for i in test_line:\n",
    "        t_category = okt.pos(i[0], norm=True, stem=True)\n",
    "        for j in range(len(t_category)):\n",
    "            test_data.append(t_category[j][0])\n",
    "except:\n",
    "    pass\n",
    "\n",
    "try:\n",
    "    for i in test_line:\n",
    "        title = okt.pos(i[1], norm=True, stem=True)\n",
    "        for j in range(len(title)):\n",
    "            if not title[j][1] in ['Josa', 'Eomi', 'Punctuation']:\n",
    "                test_data.append(title[j][0])\n",
    "except:\n",
    "    pass"
   ]
  },
  {
   "cell_type": "code",
   "execution_count": 7,
   "id": "c02a79ee",
   "metadata": {},
   "outputs": [],
   "source": [
    "encoder.fit(test_data)\n",
    "t_labels = encoder.transform(test_data)\n",
    "y_test = t_labels"
   ]
  },
  {
   "cell_type": "code",
   "execution_count": 8,
   "id": "e21863b0",
   "metadata": {},
   "outputs": [
    {
     "data": {
      "text/plain": [
       "array([ 1,  1,  0, ..., 10,  8, 14])"
      ]
     },
     "execution_count": 8,
     "metadata": {},
     "output_type": "execute_result"
    }
   ],
   "source": [
    "y_test"
   ]
  },
  {
   "cell_type": "code",
   "execution_count": 9,
   "id": "e79986bb",
   "metadata": {},
   "outputs": [],
   "source": [
    "tokenizer.fit_on_texts(test_data)\n",
    "\n",
    "t_sequences = tokenizer.texts_to_sequences(test_data)\n",
    "\n",
    "t_one_hot_results = tokenizer.texts_to_matrix(test_data, mode=\"binary\")"
   ]
  },
  {
   "cell_type": "code",
   "execution_count": 11,
   "id": "6ec74b19",
   "metadata": {},
   "outputs": [],
   "source": [
    "import numpy as np\n",
    "\n",
    "# y_train = []\n",
    "# y_test = []\n",
    "\n",
    "# for i in range(len(labels)):\n",
    "#     if labels[i] == \"IT과학\":\n",
    "#         y_train.append([0, 1])\n",
    "#     else:\n",
    "#         y_train.append([1, 0])\n",
    "\n",
    "# for i in range(len(test_labels)):\n",
    "#     if test_labels[i] == \"IT과학\":\n",
    "#         y_train.append([0, 1])\n",
    "#     else:\n",
    "#         y_train.append([1, 0])\n",
    "\n",
    "y_train = np.array(y_train)\n",
    "y_test = np.array(y_test)"
   ]
  },
  {
   "cell_type": "code",
   "execution_count": 13,
   "id": "02d98c33",
   "metadata": {},
   "outputs": [
    {
     "name": "stdout",
     "output_type": "stream",
     "text": [
      "(8316, 20)\n"
     ]
    }
   ],
   "source": [
    "####### 데이터 준비 \n",
    "from tensorflow.keras.layers import Embedding\n",
    "from tensorflow.keras import preprocessing\n",
    "\n",
    "max_features = 10000 # 특성으로 사용할 단어의 수\n",
    "maxlen = 20  # 사용할 텍스트의 길이(가장 빈번한 20 개의 단어만 사용합니다)\n",
    "\n",
    "# 리스트를 (samples, maxlen) 크기의 2D 정수 텐서로 변환.\n",
    "x_train = preprocessing.sequence.pad_sequences(sequences, maxlen=maxlen) # 가장 빈번한 단어 최대 maxlen(20)개만\n",
    "x_test = preprocessing.sequence.pad_sequences(t_sequences, maxlen=maxlen)\n",
    "print(x_train.shape)"
   ]
  },
  {
   "cell_type": "code",
   "execution_count": 14,
   "id": "1fcc16e6",
   "metadata": {},
   "outputs": [],
   "source": [
    "####### 모델 생성\n",
    "\n",
    "from keras.models import Sequential\n",
    "from keras.layers import Flatten, Dense, Embedding\n",
    "\n",
    "model = Sequential()\n",
    "\n",
    "# 가능한 토큰의 개수(1,0000)와 임베딩 차원(8)로 설정 \n",
    "model.add(Embedding(10000, 8, input_length=maxlen))\n",
    "# Embedding 층의 출력 크기는 (samples, maxlen, 8)가 됨\n",
    "\n",
    "model.add(Flatten())  #(samples, maxlen * 8) 크기의 2D 텐서로 펼침"
   ]
  },
  {
   "cell_type": "code",
   "execution_count": 15,
   "id": "8b147890",
   "metadata": {},
   "outputs": [
    {
     "name": "stdout",
     "output_type": "stream",
     "text": [
      "Model: \"sequential\"\n",
      "_________________________________________________________________\n",
      "Layer (type)                 Output Shape              Param #   \n",
      "=================================================================\n",
      "embedding (Embedding)        (None, 20, 8)             80000     \n",
      "_________________________________________________________________\n",
      "flatten (Flatten)            (None, 160)               0         \n",
      "_________________________________________________________________\n",
      "dense (Dense)                (None, 1)                 161       \n",
      "=================================================================\n",
      "Total params: 80,161\n",
      "Trainable params: 80,161\n",
      "Non-trainable params: 0\n",
      "_________________________________________________________________\n"
     ]
    }
   ],
   "source": [
    "# 분류기를 추가\n",
    "model.add(Dense(1, activation='sigmoid'))\n",
    "model.compile(optimizer='rmsprop', loss='binary_crossentropy', metrics=['acc'])\n",
    "model.summary()"
   ]
  },
  {
   "cell_type": "code",
   "execution_count": 16,
   "id": "f22b49c1",
   "metadata": {},
   "outputs": [
    {
     "name": "stdout",
     "output_type": "stream",
     "text": [
      "Epoch 1/10\n",
      "182/182 [==============================] - 14s 7ms/step - loss: 0.3763 - acc: 0.3562 - val_loss: -0.2625 - val_acc: 0.3735\n",
      "Epoch 2/10\n",
      "182/182 [==============================] - 0s 1ms/step - loss: -0.3905 - acc: 0.3468 - val_loss: -0.9074 - val_acc: 0.3735\n",
      "Epoch 3/10\n",
      "182/182 [==============================] - 0s 1ms/step - loss: -1.1921 - acc: 0.3547 - val_loss: -1.8545 - val_acc: 0.3735\n",
      "Epoch 4/10\n",
      "182/182 [==============================] - 0s 1ms/step - loss: -2.2373 - acc: 0.3548 - val_loss: -3.1310 - val_acc: 0.3735\n",
      "Epoch 5/10\n",
      "182/182 [==============================] - 0s 1ms/step - loss: -3.5912 - acc: 0.3588 - val_loss: -4.7238 - val_acc: 0.3735\n",
      "Epoch 6/10\n",
      "182/182 [==============================] - 0s 1ms/step - loss: -5.4011 - acc: 0.3556 - val_loss: -6.6385 - val_acc: 0.3735\n",
      "Epoch 7/10\n",
      "182/182 [==============================] - 0s 2ms/step - loss: -7.5277 - acc: 0.3589 - val_loss: -8.8882 - val_acc: 0.3735\n",
      "Epoch 8/10\n",
      "182/182 [==============================] - 0s 1ms/step - loss: -9.6969 - acc: 0.3591 - val_loss: -11.4286 - val_acc: 0.3735\n",
      "Epoch 9/10\n",
      "182/182 [==============================] - 0s 1ms/step - loss: -12.3329 - acc: 0.3566 - val_loss: -14.3351 - val_acc: 0.3735\n",
      "Epoch 10/10\n",
      "182/182 [==============================] - 0s 1ms/step - loss: -15.6534 - acc: 0.3573 - val_loss: -17.5244 - val_acc: 0.3735\n"
     ]
    }
   ],
   "source": [
    "####### 학습\n",
    "\n",
    "history = model.fit(x_train, y_train,\n",
    "                    epochs=10,\n",
    "                    batch_size=32,\n",
    "                    validation_split=0.3)"
   ]
  },
  {
   "cell_type": "code",
   "execution_count": 18,
   "id": "d629b22c",
   "metadata": {},
   "outputs": [
    {
     "data": {
      "text/plain": [
       "array([[1.        ],\n",
       "       [1.        ],\n",
       "       [0.87467885],\n",
       "       ...,\n",
       "       [1.        ],\n",
       "       [1.        ],\n",
       "       [1.        ]], dtype=float32)"
      ]
     },
     "execution_count": 18,
     "metadata": {},
     "output_type": "execute_result"
    }
   ],
   "source": [
    "model.predict(x_test,batch_size=32)"
   ]
  },
  {
   "cell_type": "code",
   "execution_count": 20,
   "id": "2bd48394",
   "metadata": {},
   "outputs": [
    {
     "data": {
      "image/png": "[encoded data removed]",
      "text/plain": [
       "<Figure size 432x288 with 1 Axes>"
      ]
     },
     "metadata": {
      "needs_background": "light"
     },
     "output_type": "display_data"
    }
   ],
   "source": [
    "import matplotlib.pyplot as plt\n",
    "\n",
    "history = history.history\n",
    "\n",
    "plt.plot(history[\"loss\"])\n",
    "plt.plot(history[\"val_loss\"])\n",
    "plt.ylabel('Loss')\n",
    "plt.xlabel('Epoch')\n",
    "plt.legend(['Training', 'Verification'], loc=0)\n",
    "plt.show()"
   ]
  },
  {
   "cell_type": "code",
   "execution_count": null,
   "id": "25e5460a",
   "metadata": {},
   "outputs": [],
   "source": []
  }
 ],
 "metadata": {
  "kernelspec": {
   "display_name": "Python 3",
   "language": "python",
   "name": "python3"
  },
  "language_info": {
   "codemirror_mode": {
    "name": "ipython",
    "version": 3
   },
   "file_extension": ".py",
   "mimetype": "text/x-python",
   "name": "python",
   "nbconvert_exporter": "python",
   "pygments_lexer": "ipython3",
   "version": "3.8.8"
  }
 },
 "nbformat": 4,
 "nbformat_minor": 5
}
