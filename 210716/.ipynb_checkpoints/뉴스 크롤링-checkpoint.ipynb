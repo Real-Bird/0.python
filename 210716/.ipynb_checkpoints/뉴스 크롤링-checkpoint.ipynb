{
 "cells": [
  {
   "cell_type": "markdown",
   "id": "7fe67799",
   "metadata": {},
   "source": [
    "##### 네이버 뉴스 크롤링"
   ]
  },
  {
   "cell_type": "code",
   "execution_count": 1,
   "id": "bfbdd888",
   "metadata": {},
   "outputs": [
    {
     "name": "stdout",
     "output_type": "stream",
     "text": [
      "{'start_year': 2021, 'start_month': 6, 'end_year': 2021, 'end_month': 6}\n"
     ]
    }
   ],
   "source": [
    "from korea_news_crawler.articlecrawler import ArticleCrawler\n",
    "Crawler = ArticleCrawler()  \n",
    "Crawler.set_category(\"IT과학\", \"economy\")  \n",
    "Crawler.set_date_range(2021, 6, 2021, 6)  \n",
    "Crawler.start()"
   ]
  },
  {
   "cell_type": "markdown",
   "id": "8af504d0",
   "metadata": {},
   "source": [
    "##### 뉴스 csv 합치기"
   ]
  },
  {
   "cell_type": "code",
   "execution_count": 6,
   "id": "ac79d2ad",
   "metadata": {},
   "outputs": [],
   "source": [
    "import csv\n",
    " \n",
    "category = ['IT과학', 'economy']\n",
    " \n",
    "file_unity = open('Article_unity_test.csv', 'w', encoding='cp949')\n",
    "wcsv = csv.writer(file_unity)\n",
    " \n",
    "count = 0\n",
    " \n",
    "for category_element in category:\n",
    "    file = open('../output/Article_'+category_element+'_202106_202106.csv', 'r', encoding='cp949', newline=\"\")\n",
    "    line = csv.reader(file)\n",
    "    try:\n",
    "        for line_text in line:\n",
    "            wcsv.writerow([line_text[1], line_text[3], line_text[4]])\n",
    "    except:\n",
    "        pass"
   ]
  },
  {
   "cell_type": "markdown",
   "id": "00f7fb2a",
   "metadata": {},
   "source": [
    "##### 뉴스 섞기"
   ]
  },
  {
   "cell_type": "code",
   "execution_count": 7,
   "id": "0eb0c157",
   "metadata": {},
   "outputs": [],
   "source": [
    "import random\n",
    " \n",
    "file = open('Article_unity_test.csv', 'r', encoding='cp949')\n",
    "line = file.readlines()\n",
    "random.shuffle(line)\n",
    "rcsv = csv.reader(line)\n",
    " \n",
    "file_write = open('Article_shuffled_test.csv', 'w', encoding='cp949', newline=\"\")\n",
    "wcsv = csv.writer(file_write)\n",
    " \n",
    "for i in rcsv:\n",
    "    try:\n",
    "        wcsv.writerow([i[0].strip(), i[1], i[2]])\n",
    "    except:\n",
    "        pass"
   ]
  },
  {
   "cell_type": "code",
   "execution_count": null,
   "id": "232e6fcf",
   "metadata": {},
   "outputs": [],
   "source": []
  }
 ],
 "metadata": {
  "kernelspec": {
   "display_name": "Python 3",
   "language": "python",
   "name": "python3"
  },
  "language_info": {
   "codemirror_mode": {
    "name": "ipython",
    "version": 3
   },
   "file_extension": ".py",
   "mimetype": "text/x-python",
   "name": "python",
   "nbconvert_exporter": "python",
   "pygments_lexer": "ipython3",
   "version": "3.8.8"
  }
 },
 "nbformat": 4,
 "nbformat_minor": 5
}
