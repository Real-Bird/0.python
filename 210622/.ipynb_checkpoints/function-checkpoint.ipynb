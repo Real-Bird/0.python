{
 "cells": [
  {
   "cell_type": "markdown",
   "id": "efc481ea",
   "metadata": {},
   "source": [
    "# function -> 특별한 목적의 작업을 수행하도록 설계된 독립적 블록"
   ]
  },
  {
   "cell_type": "markdown",
   "id": "c45eb6ec",
   "metadata": {},
   "source": [
    "- def 함수명(매개변수1, 매개변수2....매개변수n): (매개변수는 있어도 되고 없어도 됨)\n",
    "- 실행문\n",
    "- return 변수(있어도 되고 없어도 됨)"
   ]
  },
  {
   "cell_type": "markdown",
   "id": "0c1af728",
   "metadata": {},
   "source": [
    "### 1.인자없이 실행함수"
   ]
  },
  {
   "cell_type": "code",
   "execution_count": 4,
   "id": "a5a0cb41",
   "metadata": {},
   "outputs": [],
   "source": [
    "def hello():\n",
    "    print(\"1\")\n",
    "    print(\"2\")\n",
    "    print(\"3\")\n",
    "    print(\"100\")"
   ]
  },
  {
   "cell_type": "code",
   "execution_count": 6,
   "id": "e91907c4",
   "metadata": {},
   "outputs": [
    {
     "name": "stdout",
     "output_type": "stream",
     "text": [
      "1\n",
      "2\n",
      "3\n",
      "100\n"
     ]
    }
   ],
   "source": [
    "# 실행\n",
    "hello()"
   ]
  },
  {
   "cell_type": "markdown",
   "id": "336caa87",
   "metadata": {},
   "source": [
    "### 2. 인자 받아서 실행"
   ]
  },
  {
   "cell_type": "code",
   "execution_count": 8,
   "id": "7b81f368",
   "metadata": {},
   "outputs": [],
   "source": [
    "def sum(a, b):\n",
    "    c = a + b\n",
    "    print(c)"
   ]
  },
  {
   "cell_type": "code",
   "execution_count": 9,
   "id": "fa1d5705",
   "metadata": {},
   "outputs": [
    {
     "name": "stdout",
     "output_type": "stream",
     "text": [
      "8\n"
     ]
    }
   ],
   "source": [
    "sum(3,5)"
   ]
  },
  {
   "cell_type": "code",
   "execution_count": 12,
   "id": "87f24a31",
   "metadata": {},
   "outputs": [
    {
     "name": "stdout",
     "output_type": "stream",
     "text": [
      "8\n"
     ]
    }
   ],
   "source": [
    "x = 3 ; y = 5\n",
    "sum(x, y)"
   ]
  },
  {
   "cell_type": "code",
   "execution_count": 13,
   "id": "a78033ad",
   "metadata": {},
   "outputs": [
    {
     "name": "stdout",
     "output_type": "stream",
     "text": [
      "8\n",
      "res =  None\n"
     ]
    }
   ],
   "source": [
    "res = sum(x,y)\n",
    "print(\"res = \", res)"
   ]
  },
  {
   "cell_type": "markdown",
   "id": "3cb87b59",
   "metadata": {},
   "source": [
    "### 3. 인자를 받아서 실행 후 결과값 return"
   ]
  },
  {
   "cell_type": "code",
   "execution_count": 17,
   "id": "6eb676e1",
   "metadata": {},
   "outputs": [],
   "source": [
    "def fun(a, b):\n",
    "    c = a*b\n",
    "    print(\"c = \", c)\n",
    "    return c"
   ]
  },
  {
   "cell_type": "code",
   "execution_count": 15,
   "id": "3032c29f",
   "metadata": {},
   "outputs": [
    {
     "name": "stdout",
     "output_type": "stream",
     "text": [
      "c =  15\n",
      "temp =  15\n"
     ]
    }
   ],
   "source": [
    "temp = fun(3,5)\n",
    "print(\"temp = \", temp)"
   ]
  },
  {
   "cell_type": "code",
   "execution_count": 18,
   "id": "73d4fd2a",
   "metadata": {},
   "outputs": [],
   "source": [
    "def fun1(a, b):\n",
    "    return a+b,a*b,a-b"
   ]
  },
  {
   "cell_type": "code",
   "execution_count": 19,
   "id": "f085af2b",
   "metadata": {},
   "outputs": [
    {
     "name": "stdout",
     "output_type": "stream",
     "text": [
      "(8, 15, -2)\n"
     ]
    }
   ],
   "source": [
    "temp1 = fun1(3,5)\n",
    "print(temp1)"
   ]
  },
  {
   "cell_type": "code",
   "execution_count": 20,
   "id": "337c8a73",
   "metadata": {},
   "outputs": [
    {
     "data": {
      "text/plain": [
       "8"
      ]
     },
     "execution_count": 20,
     "metadata": {},
     "output_type": "execute_result"
    }
   ],
   "source": [
    "temp1[0]"
   ]
  },
  {
   "cell_type": "code",
   "execution_count": 21,
   "id": "f6fba1fc",
   "metadata": {},
   "outputs": [],
   "source": [
    "x,y,z = fun1(8,5)"
   ]
  },
  {
   "cell_type": "code",
   "execution_count": 22,
   "id": "9cf8c44e",
   "metadata": {},
   "outputs": [
    {
     "data": {
      "text/plain": [
       "13"
      ]
     },
     "execution_count": 22,
     "metadata": {},
     "output_type": "execute_result"
    }
   ],
   "source": [
    "x"
   ]
  },
  {
   "cell_type": "code",
   "execution_count": 23,
   "id": "6a7d3ade",
   "metadata": {},
   "outputs": [
    {
     "data": {
      "text/plain": [
       "40"
      ]
     },
     "execution_count": 23,
     "metadata": {},
     "output_type": "execute_result"
    }
   ],
   "source": [
    "y"
   ]
  },
  {
   "cell_type": "code",
   "execution_count": 24,
   "id": "cb3e774c",
   "metadata": {},
   "outputs": [
    {
     "data": {
      "text/plain": [
       "3"
      ]
     },
     "execution_count": 24,
     "metadata": {},
     "output_type": "execute_result"
    }
   ],
   "source": [
    "z"
   ]
  },
  {
   "cell_type": "code",
   "execution_count": 26,
   "id": "1e6ca04d",
   "metadata": {},
   "outputs": [
    {
     "ename": "ValueError",
     "evalue": "not enough values to unpack (expected 4, got 3)",
     "output_type": "error",
     "traceback": [
      "\u001b[1;31m---------------------------------------------------------------------------\u001b[0m",
      "\u001b[1;31mValueError\u001b[0m                                Traceback (most recent call last)",
      "\u001b[1;32m<ipython-input-26-ed08aa65f3d4>\u001b[0m in \u001b[0;36m<module>\u001b[1;34m\u001b[0m\n\u001b[0;32m      1\u001b[0m \u001b[1;31m# return 개수보다 변수 개수가 적어서 발생\u001b[0m\u001b[1;33m\u001b[0m\u001b[1;33m\u001b[0m\u001b[1;33m\u001b[0m\u001b[0m\n\u001b[1;32m----> 2\u001b[1;33m \u001b[0mx\u001b[0m\u001b[1;33m,\u001b[0m \u001b[0my\u001b[0m\u001b[1;33m,\u001b[0m \u001b[0mz\u001b[0m\u001b[1;33m,\u001b[0m \u001b[0mn\u001b[0m \u001b[1;33m=\u001b[0m \u001b[0mfun1\u001b[0m\u001b[1;33m(\u001b[0m\u001b[1;36m8\u001b[0m\u001b[1;33m,\u001b[0m\u001b[1;36m5\u001b[0m\u001b[1;33m)\u001b[0m\u001b[1;33m\u001b[0m\u001b[1;33m\u001b[0m\u001b[0m\n\u001b[0m",
      "\u001b[1;31mValueError\u001b[0m: not enough values to unpack (expected 4, got 3)"
     ]
    }
   ],
   "source": [
    "# return 개수보다 변수 개수가 적거나 많아서 발생하는 에러\n",
    "x, y, z, n = fun1(8,5)"
   ]
  },
  {
   "cell_type": "code",
   "execution_count": 27,
   "id": "e277a976",
   "metadata": {},
   "outputs": [
    {
     "name": "stdout",
     "output_type": "stream",
     "text": [
      "8\n",
      "15\n",
      "-2\n"
     ]
    }
   ],
   "source": [
    "for i in temp1:\n",
    "    print(i)"
   ]
  },
  {
   "cell_type": "markdown",
   "id": "2877da8a",
   "metadata": {},
   "source": [
    "#### 입력값이 몇 개인지 모를 때"
   ]
  },
  {
   "cell_type": "code",
   "execution_count": 28,
   "id": "6c037366",
   "metadata": {},
   "outputs": [],
   "source": [
    "def sum_many(*args):\n",
    "    print(\"args = \", args)\n",
    "    total = 0\n",
    "    for i in args:\n",
    "        total += i\n",
    "    return total"
   ]
  },
  {
   "cell_type": "code",
   "execution_count": 30,
   "id": "a04a77fe",
   "metadata": {},
   "outputs": [
    {
     "name": "stdout",
     "output_type": "stream",
     "text": [
      "args =  (1, 2, 3, 4, 5, 6, 7, 8, 9, 10)\n",
      "tot =  55\n"
     ]
    }
   ],
   "source": [
    "tot = sum_many(1,2,3,4,5,6,7,8,9,10)\n",
    "print(\"tot = \", tot)"
   ]
  },
  {
   "cell_type": "markdown",
   "id": "ae386c3b",
   "metadata": {},
   "source": [
    "#### 변수명과 값을 함께 파라미터로 받아서 처리"
   ]
  },
  {
   "cell_type": "code",
   "execution_count": 34,
   "id": "f9582e30",
   "metadata": {},
   "outputs": [],
   "source": [
    "def name(**kwargs):\n",
    "    print(\"kw = \", kwargs)\n",
    "    for i in kwargs.items():\n",
    "        print(i)\n",
    "    return"
   ]
  },
  {
   "cell_type": "code",
   "execution_count": 35,
   "id": "b65e5e47",
   "metadata": {},
   "outputs": [
    {
     "name": "stdout",
     "output_type": "stream",
     "text": [
      "kw =  {'age': '33', 'name': 'kjy_815'}\n",
      "('age', '33')\n",
      "('name', 'kjy_815')\n"
     ]
    }
   ],
   "source": [
    "name(age=\"33\",name=\"kjy_815\")"
   ]
  },
  {
   "cell_type": "code",
   "execution_count": 37,
   "id": "e6a1cf2a",
   "metadata": {},
   "outputs": [],
   "source": [
    "def std_arg(arg): # arg, 키워드=arg 받음\n",
    "    print(\"std_arg = \", arg)\n",
    "def pos_only_arg(arg,/): #키워드 받지 않고 arg만 받음\n",
    "    print(\"pos_only_arg = \", arg)\n",
    "def kwd_only_arg(*, arg): #키워드 사용해야 arg 받음\n",
    "    print(\"kwd_only_arg = \", arg)\n",
    "def combined_example(pos_only, /, standard, *, kwd_only):\n",
    "    print(pos_only, standard, kwd_only)"
   ]
  },
  {
   "cell_type": "code",
   "execution_count": 44,
   "id": "d9fac22a",
   "metadata": {},
   "outputs": [
    {
     "name": "stdout",
     "output_type": "stream",
     "text": [
      "std_arg =  2\n"
     ]
    }
   ],
   "source": [
    "std_arg(2)"
   ]
  },
  {
   "cell_type": "code",
   "execution_count": 46,
   "id": "55c1a028",
   "metadata": {},
   "outputs": [
    {
     "name": "stdout",
     "output_type": "stream",
     "text": [
      "pos_only_arg =  1\n"
     ]
    }
   ],
   "source": [
    "pos_only_arg(1)"
   ]
  },
  {
   "cell_type": "code",
   "execution_count": 48,
   "id": "cdea34b5",
   "metadata": {},
   "outputs": [
    {
     "name": "stdout",
     "output_type": "stream",
     "text": [
      "kwd_only_arg =  3\n"
     ]
    }
   ],
   "source": [
    "kwd_only_arg(arg=3)"
   ]
  },
  {
   "cell_type": "code",
   "execution_count": 52,
   "id": "06c2dd26",
   "metadata": {},
   "outputs": [
    {
     "name": "stdout",
     "output_type": "stream",
     "text": [
      "1 2 3\n"
     ]
    }
   ],
   "source": [
    "combined_example(1, 2, kwd_only=3)"
   ]
  },
  {
   "cell_type": "code",
   "execution_count": null,
   "id": "677ba442",
   "metadata": {},
   "outputs": [],
   "source": []
  }
 ],
 "metadata": {
  "kernelspec": {
   "display_name": "Python 3",
   "language": "python",
   "name": "python3"
  },
  "language_info": {
   "codemirror_mode": {
    "name": "ipython",
    "version": 3
   },
   "file_extension": ".py",
   "mimetype": "text/x-python",
   "name": "python",
   "nbconvert_exporter": "python",
   "pygments_lexer": "ipython3",
   "version": "3.8.8"
  }
 },
 "nbformat": 4,
 "nbformat_minor": 5
}
