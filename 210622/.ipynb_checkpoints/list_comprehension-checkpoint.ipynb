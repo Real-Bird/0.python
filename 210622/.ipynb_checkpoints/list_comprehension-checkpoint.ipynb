{
 "cells": [
  {
   "cell_type": "markdown",
   "id": "0c9922d7",
   "metadata": {},
   "source": [
    "### 실습1\n",
    "1. 1~1000 사이 숫자에서 3의 배수로 구성된 리스트 a를 만들기\n",
    "2. range() 숫자 발생 -> list로 만들기"
   ]
  },
  {
   "cell_type": "code",
   "execution_count": 8,
   "id": "189acb87",
   "metadata": {},
   "outputs": [
    {
     "name": "stdout",
     "output_type": "stream",
     "text": [
      "[3, 6, 9, 12, 15]\n"
     ]
    }
   ],
   "source": [
    "a = []\n",
    "\n",
    "for i in range(1,1000):\n",
    "    if i % 3 == 0 :\n",
    "        a.append(i)\n",
    "print(a[:5])"
   ]
  },
  {
   "cell_type": "code",
   "execution_count": 5,
   "id": "0e68b015",
   "metadata": {},
   "outputs": [
    {
     "name": "stdout",
     "output_type": "stream",
     "text": [
      "[3, 6, 9, 12, 15]\n"
     ]
    }
   ],
   "source": [
    "a1 = []\n",
    "for i in range(3, 1000, 3):\n",
    "    a1.append(i)\n",
    "print(a1[:5])"
   ]
  },
  {
   "cell_type": "code",
   "execution_count": 9,
   "id": "e815805d",
   "metadata": {},
   "outputs": [
    {
     "name": "stdout",
     "output_type": "stream",
     "text": [
      "[3, 6, 9, 12, 15]\n"
     ]
    }
   ],
   "source": [
    "a2 = list(range(3,1000,3)); print(a[:5])"
   ]
  },
  {
   "cell_type": "markdown",
   "id": "dd67f1ee",
   "metadata": {},
   "source": [
    "### 실습2\n",
    "1. a에서 홀수를 추출해서 b를 만들기"
   ]
  },
  {
   "cell_type": "code",
   "execution_count": 15,
   "id": "3367ba23",
   "metadata": {},
   "outputs": [
    {
     "name": "stdout",
     "output_type": "stream",
     "text": [
      "[3, 9, 15, 21, 27]\n"
     ]
    }
   ],
   "source": [
    "b = []\n",
    "\n",
    "for i in a:\n",
    "    if i % 2 == 1:\n",
    "    #if i % 2 != 0:\n",
    "        b.append(i)\n",
    "print(b[:5])"
   ]
  },
  {
   "cell_type": "code",
   "execution_count": 12,
   "id": "f16a002b",
   "metadata": {},
   "outputs": [
    {
     "name": "stdout",
     "output_type": "stream",
     "text": [
      "[3, 9, 15, 21, 27]\n"
     ]
    }
   ],
   "source": [
    "b1 = a[::2]; print(b1[:5])"
   ]
  },
  {
   "cell_type": "markdown",
   "id": "68ad2154",
   "metadata": {},
   "source": [
    "### 실습3\n",
    "1. c에서 1~7 리스트 값을 만들기(for문)"
   ]
  },
  {
   "cell_type": "code",
   "execution_count": 16,
   "id": "11d02681",
   "metadata": {},
   "outputs": [
    {
     "name": "stdout",
     "output_type": "stream",
     "text": [
      "[1, 2, 3, 4, 5, 6, 7]\n"
     ]
    }
   ],
   "source": [
    "c = []\n",
    "\n",
    "for i in range(1,8):\n",
    "    c.append(i)\n",
    "print(c)"
   ]
  },
  {
   "cell_type": "code",
   "execution_count": 19,
   "id": "f443497b",
   "metadata": {},
   "outputs": [
    {
     "data": {
      "text/plain": [
       "[1, 2, 3, 4, 5, 6, 7]"
      ]
     },
     "execution_count": 19,
     "metadata": {},
     "output_type": "execute_result"
    }
   ],
   "source": [
    "# 리스트 comprehension\n",
    "c1 = [i for i in range(1,8)]\n",
    "c1"
   ]
  },
  {
   "cell_type": "markdown",
   "id": "f09056c3",
   "metadata": {},
   "source": [
    "### 실습4\n",
    "1. 1~7로 구성된 num을 만들고\n",
    "2. 각 요소의 제곱된 리스트 d를 만들기"
   ]
  },
  {
   "cell_type": "code",
   "execution_count": 23,
   "id": "41151572",
   "metadata": {},
   "outputs": [
    {
     "data": {
      "text/plain": [
       "[1, 4, 9, 16, 25, 36, 49]"
      ]
     },
     "execution_count": 23,
     "metadata": {},
     "output_type": "execute_result"
    }
   ],
   "source": [
    "num = list(range(1,8))\n",
    "\n",
    "d = []\n",
    "for i in num:\n",
    "    d.append(i**2)\n",
    "d"
   ]
  },
  {
   "cell_type": "code",
   "execution_count": 24,
   "id": "ed6f1767",
   "metadata": {},
   "outputs": [
    {
     "name": "stdout",
     "output_type": "stream",
     "text": [
      "[1, 4, 9, 16, 25, 36, 49]\n"
     ]
    }
   ],
   "source": [
    "num = [i for i in range(1,8)]\n",
    "d1 = [pow(j,2) for j in num]\n",
    "\n",
    "print(d1)"
   ]
  },
  {
   "cell_type": "code",
   "execution_count": 25,
   "id": "92bffa8c",
   "metadata": {},
   "outputs": [
    {
     "data": {
      "text/plain": [
       "[1, 4, 9, 16, 25, 36, 49]"
      ]
     },
     "execution_count": 25,
     "metadata": {},
     "output_type": "execute_result"
    }
   ],
   "source": [
    "[i**2 for i in list(range(1, 8))]"
   ]
  },
  {
   "cell_type": "markdown",
   "id": "a6ed7ab4",
   "metadata": {},
   "source": [
    "### 실습5\n",
    "1. 1~7로 구성된 리스트 num1을 만들고\n",
    "2. 3보다 큰 수만 제곱한 리스트 만들기"
   ]
  },
  {
   "cell_type": "code",
   "execution_count": 27,
   "id": "6600abd1",
   "metadata": {},
   "outputs": [
    {
     "name": "stdout",
     "output_type": "stream",
     "text": [
      "[16, 25, 36, 49]\n"
     ]
    }
   ],
   "source": [
    "num1 = list(range(1,8))\n",
    "e = []\n",
    "for j in num1:\n",
    "    if j > 3:\n",
    "        e.append(j**2)\n",
    "print(e)"
   ]
  },
  {
   "cell_type": "code",
   "execution_count": 30,
   "id": "07bd1bb6",
   "metadata": {},
   "outputs": [
    {
     "name": "stdout",
     "output_type": "stream",
     "text": [
      "[16, 25, 36, 49]\n"
     ]
    }
   ],
   "source": [
    "# [반복실행문 for 반복변수 in 반복범위 if 조건문]\n",
    "e1 = [j**2 for j in num1 if j > 3]\n",
    "print(e1)"
   ]
  },
  {
   "cell_type": "markdown",
   "id": "167c9502",
   "metadata": {},
   "source": [
    "### 실습6\n",
    "1. 1~7로 구성된 리스트 num2를 만들고\n",
    "2. 3보다 크면 제곱, 3보다 작으면  3제곱한 리스트 만들기"
   ]
  },
  {
   "cell_type": "code",
   "execution_count": 34,
   "id": "01b8ac68",
   "metadata": {},
   "outputs": [
    {
     "name": "stdout",
     "output_type": "stream",
     "text": [
      "[1, 8, 27, 16, 25, 36, 49]\n"
     ]
    }
   ],
   "source": [
    "num2 = list(range(1,8))\n",
    "e2 = []\n",
    "for i in num2:\n",
    "    if i > 3:\n",
    "        e2.append(i**2)\n",
    "    else:\n",
    "        e2.append(i**3)\n",
    "print(e2)"
   ]
  },
  {
   "cell_type": "code",
   "execution_count": 35,
   "id": "3d388637",
   "metadata": {},
   "outputs": [
    {
     "name": "stdout",
     "output_type": "stream",
     "text": [
      "[1, 8, 27, 16, 25, 36, 49]\n"
     ]
    }
   ],
   "source": [
    "e2 = [i**2 if i > 3 else i**3 for i in num2]\n",
    "print(e2)"
   ]
  }
 ],
 "metadata": {
  "kernelspec": {
   "display_name": "Python 3",
   "language": "python",
   "name": "python3"
  },
  "language_info": {
   "codemirror_mode": {
    "name": "ipython",
    "version": 3
   },
   "file_extension": ".py",
   "mimetype": "text/x-python",
   "name": "python",
   "nbconvert_exporter": "python",
   "pygments_lexer": "ipython3",
   "version": "3.8.8"
  }
 },
 "nbformat": 4,
 "nbformat_minor": 5
}
