{
 "cells": [
  {
   "cell_type": "markdown",
   "id": "12cae136",
   "metadata": {},
   "source": [
    "### [ 파이썬과 MariaDB 연동 ] \n",
    "pymysql 설치 \n"
   ]
  },
  {
   "cell_type": "code",
   "execution_count": 1,
   "id": "104248c9",
   "metadata": {},
   "outputs": [
    {
     "name": "stdout",
     "output_type": "stream",
     "text": [
      "Collecting pymysql\n",
      "  Downloading PyMySQL-1.0.2-py3-none-any.whl (43 kB)\n",
      "Installing collected packages: pymysql\n",
      "Successfully installed pymysql-1.0.2\n",
      "Note: you may need to restart the kernel to use updated packages.\n"
     ]
    }
   ],
   "source": [
    "pip install pymysql"
   ]
  },
  {
   "cell_type": "markdown",
   "id": "6285faa0",
   "metadata": {},
   "source": [
    "#### DB 연결"
   ]
  },
  {
   "cell_type": "code",
   "execution_count": 5,
   "id": "2df6fc47",
   "metadata": {},
   "outputs": [],
   "source": [
    "import pymysql\n",
    "\n",
    "# DB 연결 \n",
    "conn = pymysql.connect(host=\"127.0.0.1\", user=\"root\", password=\"root\", db=\"test\", charset=\"utf8\")\n",
    "cur = conn.cursor()"
   ]
  },
  {
   "cell_type": "markdown",
   "id": "b24be52e",
   "metadata": {},
   "source": [
    "###### SQL 실행"
   ]
  },
  {
   "cell_type": "code",
   "execution_count": 6,
   "id": "3947c5d6",
   "metadata": {},
   "outputs": [],
   "source": [
    "sql1 =\"create table user (id varchar(100) primary key, name varchar(100), password varchar(100) ) DEFAULT CHARSET=utf8 \" "
   ]
  },
  {
   "cell_type": "code",
   "execution_count": 7,
   "id": "47962c7e",
   "metadata": {
    "scrolled": true
   },
   "outputs": [
    {
     "data": {
      "text/plain": [
       "0"
      ]
     },
     "execution_count": 7,
     "metadata": {},
     "output_type": "execute_result"
    }
   ],
   "source": [
    "cur.execute(sql1)"
   ]
  },
  {
   "cell_type": "code",
   "execution_count": 8,
   "id": "b67a0577",
   "metadata": {},
   "outputs": [
    {
     "data": {
      "text/plain": [
       "1"
      ]
     },
     "execution_count": 8,
     "metadata": {},
     "output_type": "execute_result"
    }
   ],
   "source": [
    "insert_sql1 = \"insert into user values ('hong','홍길동','1234')\" ;\n",
    "cur.execute(insert_sql1)"
   ]
  },
  {
   "cell_type": "code",
   "execution_count": 9,
   "id": "0d5160c1",
   "metadata": {},
   "outputs": [
    {
     "data": {
      "text/plain": [
       "1"
      ]
     },
     "execution_count": 9,
     "metadata": {},
     "output_type": "execute_result"
    }
   ],
   "source": [
    "insert_sql2 = \"insert into user values ('lee','이길동','1234')\" ;\n",
    "cur.execute(insert_sql2)"
   ]
  },
  {
   "cell_type": "code",
   "execution_count": 10,
   "id": "afd47f2a",
   "metadata": {},
   "outputs": [
    {
     "data": {
      "text/plain": [
       "1"
      ]
     },
     "execution_count": 10,
     "metadata": {},
     "output_type": "execute_result"
    }
   ],
   "source": [
    "insert_sql3 = \"insert into user values ('kim','김길동','1234')\" ;\n",
    "cur.execute(insert_sql3)"
   ]
  },
  {
   "cell_type": "markdown",
   "id": "d3a27c17",
   "metadata": {},
   "source": [
    "##### 커밋\n",
    " "
   ]
  },
  {
   "cell_type": "code",
   "execution_count": 11,
   "id": "dc6b5cbe",
   "metadata": {},
   "outputs": [],
   "source": [
    "conn.commit()"
   ]
  },
  {
   "cell_type": "markdown",
   "id": "2c6ad9bb",
   "metadata": {},
   "source": [
    "#### select "
   ]
  },
  {
   "cell_type": "code",
   "execution_count": 36,
   "id": "fff1ddab",
   "metadata": {},
   "outputs": [
    {
     "data": {
      "text/plain": [
       "4"
      ]
     },
     "execution_count": 36,
     "metadata": {},
     "output_type": "execute_result"
    }
   ],
   "source": [
    "select_sql = \"select * from user \" \n",
    "cur.execute(select_sql)"
   ]
  },
  {
   "cell_type": "code",
   "execution_count": 37,
   "id": "fdd31619",
   "metadata": {},
   "outputs": [
    {
     "name": "stdout",
     "output_type": "stream",
     "text": [
      "bark 박박박 1234\n",
      "hong 홍길동 1234\n",
      "kim 김길동 1234\n",
      "lee 이길동 1234\n"
     ]
    }
   ],
   "source": [
    "while(True) :\n",
    "    row = cur.fetchone() # 데이터 하나 추출\n",
    "    if row==None :\n",
    "        break; \n",
    "    print(row[0],row[1],row[2])"
   ]
  },
  {
   "cell_type": "markdown",
   "id": "99ffacd2",
   "metadata": {},
   "source": [
    "### 회원가입\n",
    "이름, 아이디, 패스워드 입력받은 후 DB저장"
   ]
  },
  {
   "cell_type": "code",
   "execution_count": 49,
   "id": "8d1ec9ef",
   "metadata": {},
   "outputs": [
    {
     "name": "stdout",
     "output_type": "stream",
     "text": [
      "이름을 입력하세요> 김개똥\n",
      "아이디를 입력하세요> boom\n",
      "패스워드를 입력하세요> 1234\n"
     ]
    }
   ],
   "source": [
    "name = input(\"이름을 입력하세요> \")\n",
    "userid = input(\"아이디를 입력하세요> \")\n",
    "userpw = input(\"패스워드를 입력하세요> \")"
   ]
  },
  {
   "cell_type": "code",
   "execution_count": 61,
   "id": "66ca28bb",
   "metadata": {},
   "outputs": [
    {
     "name": "stdout",
     "output_type": "stream",
     "text": [
      "insert into user values('boom', '김개똥', '1234' )\n",
      "1\n"
     ]
    }
   ],
   "source": [
    "insert_sql5 = \"insert into user values('{}', '{}', '{}' )\".format(userid, name, userpw)\n",
    "result = cur.execute(insert_sql5)\n",
    "print(insert_sql5)\n",
    "print(result)\n",
    "conn.commit()"
   ]
  },
  {
   "cell_type": "code",
   "execution_count": 60,
   "id": "adfc1e92",
   "metadata": {},
   "outputs": [],
   "source": [
    "delete_sql = \"delete from user where name = '김개똥' \"\n",
    "cur.execute(delete_sql)\n",
    "conn.commit()"
   ]
  },
  {
   "cell_type": "code",
   "execution_count": 62,
   "id": "5cdde2ce",
   "metadata": {},
   "outputs": [
    {
     "data": {
      "text/plain": [
       "5"
      ]
     },
     "execution_count": 62,
     "metadata": {},
     "output_type": "execute_result"
    }
   ],
   "source": [
    "select_sql = \"select * from user\"\n",
    "cur.execute(select_sql)"
   ]
  },
  {
   "cell_type": "code",
   "execution_count": 63,
   "id": "2a2cdac1",
   "metadata": {},
   "outputs": [
    {
     "name": "stdout",
     "output_type": "stream",
     "text": [
      "김개똥\n",
      "('boom', '김개똥', '1234')\n"
     ]
    }
   ],
   "source": [
    "member = input()\n",
    "\n",
    "while True:\n",
    "    row = cur.fetchone()\n",
    "    if row[1] == member:\n",
    "        print(row)\n",
    "        break"
   ]
  },
  {
   "cell_type": "code",
   "execution_count": null,
   "id": "ec0fa2ce",
   "metadata": {},
   "outputs": [],
   "source": []
  }
 ],
 "metadata": {
  "kernelspec": {
   "display_name": "Python 3",
   "language": "python",
   "name": "python3"
  },
  "language_info": {
   "codemirror_mode": {
    "name": "ipython",
    "version": 3
   },
   "file_extension": ".py",
   "mimetype": "text/x-python",
   "name": "python",
   "nbconvert_exporter": "python",
   "pygments_lexer": "ipython3",
   "version": "3.8.8"
  }
 },
 "nbformat": 4,
 "nbformat_minor": 5
}
