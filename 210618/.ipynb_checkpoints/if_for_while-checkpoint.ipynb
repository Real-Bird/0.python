{
 "cells": [
  {
   "cell_type": "code",
   "execution_count": 1,
   "id": "15435d51",
   "metadata": {},
   "outputs": [],
   "source": [
    "a = 10 ; b = 15 ; c = 10"
   ]
  },
  {
   "cell_type": "code",
   "execution_count": 2,
   "id": "87f3dc4a",
   "metadata": {},
   "outputs": [
    {
     "data": {
      "text/plain": [
       "False"
      ]
     },
     "execution_count": 2,
     "metadata": {},
     "output_type": "execute_result"
    }
   ],
   "source": [
    "a == b"
   ]
  },
  {
   "cell_type": "code",
   "execution_count": 3,
   "id": "b937fd84",
   "metadata": {},
   "outputs": [
    {
     "data": {
      "text/plain": [
       "True"
      ]
     },
     "execution_count": 3,
     "metadata": {},
     "output_type": "execute_result"
    }
   ],
   "source": [
    "a != b"
   ]
  },
  {
   "cell_type": "code",
   "execution_count": 4,
   "id": "df8f73dc",
   "metadata": {},
   "outputs": [
    {
     "data": {
      "text/plain": [
       "False"
      ]
     },
     "execution_count": 4,
     "metadata": {},
     "output_type": "execute_result"
    }
   ],
   "source": [
    "a > b"
   ]
  },
  {
   "cell_type": "code",
   "execution_count": 5,
   "id": "9e4e3df3",
   "metadata": {},
   "outputs": [
    {
     "data": {
      "text/plain": [
       "False"
      ]
     },
     "execution_count": 5,
     "metadata": {},
     "output_type": "execute_result"
    }
   ],
   "source": [
    "a >= b"
   ]
  },
  {
   "cell_type": "code",
   "execution_count": 6,
   "id": "0b349a0d",
   "metadata": {},
   "outputs": [
    {
     "data": {
      "text/plain": [
       "True"
      ]
     },
     "execution_count": 6,
     "metadata": {},
     "output_type": "execute_result"
    }
   ],
   "source": [
    "a in (10, 20, 30)"
   ]
  },
  {
   "cell_type": "code",
   "execution_count": 9,
   "id": "d94340c9",
   "metadata": {},
   "outputs": [
    {
     "data": {
      "text/plain": [
       "140732542560336"
      ]
     },
     "execution_count": 9,
     "metadata": {},
     "output_type": "execute_result"
    }
   ],
   "source": [
    "id(c)"
   ]
  },
  {
   "cell_type": "markdown",
   "id": "612130a8",
   "metadata": {},
   "source": [
    "### (조건문)"
   ]
  },
  {
   "cell_type": "code",
   "execution_count": null,
   "id": "27974b7c",
   "metadata": {},
   "outputs": [],
   "source": [
    "# type 1\n",
    "# if(조건문):\n",
    "#     명령문.."
   ]
  },
  {
   "cell_type": "code",
   "execution_count": 10,
   "id": "175f4423",
   "metadata": {},
   "outputs": [
    {
     "name": "stdout",
     "output_type": "stream",
     "text": [
      "참\n"
     ]
    }
   ],
   "source": [
    "py = True\n",
    "if(py):\n",
    "    print(\"참\")"
   ]
  },
  {
   "cell_type": "code",
   "execution_count": 11,
   "id": "4eb2727f",
   "metadata": {},
   "outputs": [],
   "source": [
    "py = False\n",
    "if(py):\n",
    "    print(\"참\")"
   ]
  },
  {
   "cell_type": "code",
   "execution_count": null,
   "id": "b5e5c7df",
   "metadata": {},
   "outputs": [],
   "source": [
    "# type 2\n",
    "# if (조건문):\n",
    "#     참일 때 실행문1\n",
    "#     참일 때 실행문2\n",
    "# else:\n",
    "#     거짓일 때 실행문1\n",
    "#     거짓일 때 실행문2"
   ]
  },
  {
   "cell_type": "code",
   "execution_count": 17,
   "id": "73807d21",
   "metadata": {},
   "outputs": [
    {
     "name": "stdout",
     "output_type": "stream",
     "text": [
      "거짓\n"
     ]
    }
   ],
   "source": [
    "py = False\n",
    "if(py):\n",
    "    print(\"참\")\n",
    "      #print(\"참 2\")\n",
    "else:\n",
    "    print(\"거짓\")"
   ]
  },
  {
   "cell_type": "code",
   "execution_count": 18,
   "id": "4f6cecbd",
   "metadata": {},
   "outputs": [],
   "source": [
    "# type 3\n",
    "# if (조건1):\n",
    "#     조건1 참1\n",
    "#     조건1 참2\n",
    "# elif(조건2):\n",
    "#     조건2 참1\n",
    "#     조건2 참2\n",
    "# elif(조건3):\n",
    "#     조건3 참1\n",
    "#     조건3 참2\n",
    "# else:\n",
    "#     모든 조건 거짓"
   ]
  },
  {
   "cell_type": "code",
   "execution_count": 19,
   "id": "0f8aa82b",
   "metadata": {},
   "outputs": [
    {
     "name": "stdout",
     "output_type": "stream",
     "text": [
      "py2 참\n"
     ]
    }
   ],
   "source": [
    "py1 = False\n",
    "py2 = True\n",
    "if(py1):\n",
    "    print(\"py1 참\")\n",
    "elif(py2):\n",
    "    print(\"py2 참\")\n",
    "else:\n",
    "    print(\"둘 다 거짓\")"
   ]
  },
  {
   "cell_type": "code",
   "execution_count": 23,
   "id": "09747afc",
   "metadata": {},
   "outputs": [
    {
     "name": "stdout",
     "output_type": "stream",
     "text": [
      "py1 참\n"
     ]
    }
   ],
   "source": [
    "# 0->False, 나머지는 True\n",
    "py1 = -1\n",
    "py2 = 0\n",
    "if(py1):\n",
    "    print(\"py1 참\")\n",
    "elif(py2):\n",
    "    print(\"py2 참\")\n",
    "else:\n",
    "    print(\"둘 다 거짓\")"
   ]
  },
  {
   "cell_type": "code",
   "execution_count": 28,
   "id": "6cdbd014",
   "metadata": {},
   "outputs": [
    {
     "name": "stdout",
     "output_type": "stream",
     "text": [
      "py2 참\n"
     ]
    }
   ],
   "source": [
    "a = 10; b =10\n",
    "py1 = True\n",
    "py2 = False\n",
    "if(py1 & py2):\n",
    "    print(\"py1 참\")\n",
    "elif(py1 | py2):\n",
    "    print(\"py2 참\")\n",
    "else:\n",
    "    print(\"둘 다 거짓\")"
   ]
  },
  {
   "cell_type": "markdown",
   "id": "15a33327",
   "metadata": {},
   "source": [
    "### (반복문)"
   ]
  },
  {
   "cell_type": "code",
   "execution_count": 29,
   "id": "e9cb55d6",
   "metadata": {},
   "outputs": [
    {
     "name": "stdout",
     "output_type": "stream",
     "text": [
      "1\n",
      "2\n",
      "3\n"
     ]
    }
   ],
   "source": [
    "a1=1;a2=2;a3=3\n",
    "print(a1)\n",
    "print(a2)\n",
    "print(a3)"
   ]
  },
  {
   "cell_type": "code",
   "execution_count": 30,
   "id": "b19f4ee8",
   "metadata": {},
   "outputs": [
    {
     "name": "stdout",
     "output_type": "stream",
     "text": [
      "1\n",
      "2\n",
      "3\n"
     ]
    }
   ],
   "source": [
    "a = [1, 2, 3]\n",
    "print(a[0])\n",
    "print(a[1])\n",
    "print(a[2])"
   ]
  },
  {
   "cell_type": "code",
   "execution_count": 31,
   "id": "d2d5cc79",
   "metadata": {},
   "outputs": [],
   "source": [
    "# for (반복문을 받는 변수 ) in (반복문):\n",
    "#     변수 처리"
   ]
  },
  {
   "cell_type": "code",
   "execution_count": 32,
   "id": "78f65b78",
   "metadata": {},
   "outputs": [
    {
     "name": "stdout",
     "output_type": "stream",
     "text": [
      "1\n",
      "2\n",
      "3\n"
     ]
    }
   ],
   "source": [
    "for i in a:\n",
    "    print(i)"
   ]
  },
  {
   "cell_type": "code",
   "execution_count": 36,
   "id": "f4a68a79",
   "metadata": {},
   "outputs": [],
   "source": [
    "# TypeError: 'int' object is not iterable\n",
    "# abc = 3\n",
    "# for i in abc:\n",
    "#     print(i)"
   ]
  },
  {
   "cell_type": "code",
   "execution_count": 38,
   "id": "2416e548",
   "metadata": {},
   "outputs": [
    {
     "name": "stdout",
     "output_type": "stream",
     "text": [
      "befor =  0\n",
      "a\n",
      "b\n",
      "c\n",
      "befor=  c\n"
     ]
    }
   ],
   "source": [
    "abc = \"abc\"\n",
    "j = 0\n",
    "print(\"befor = \", j)\n",
    "for j in abc:\n",
    "    print(j)\n",
    "print(\"befor= \", j)"
   ]
  },
  {
   "cell_type": "code",
   "execution_count": 40,
   "id": "756652e5",
   "metadata": {},
   "outputs": [
    {
     "data": {
      "text/plain": [
       "[1, 2, 3, 4, 5, 6, 7, 8, 9]"
      ]
     },
     "execution_count": 40,
     "metadata": {},
     "output_type": "execute_result"
    }
   ],
   "source": [
    "list(range(1,10))"
   ]
  },
  {
   "cell_type": "code",
   "execution_count": 41,
   "id": "4a2eb31f",
   "metadata": {},
   "outputs": [
    {
     "data": {
      "text/plain": [
       "[0, 1, 2, 3, 4, 5, 6, 7, 8, 9]"
      ]
     },
     "execution_count": 41,
     "metadata": {},
     "output_type": "execute_result"
    }
   ],
   "source": [
    "list(range(10))"
   ]
  },
  {
   "cell_type": "code",
   "execution_count": 42,
   "id": "5a2c0fd3",
   "metadata": {},
   "outputs": [
    {
     "data": {
      "text/plain": [
       "[1, 3, 5, 7, 9]"
      ]
     },
     "execution_count": 42,
     "metadata": {},
     "output_type": "execute_result"
    }
   ],
   "source": [
    "list(range(1,10,2))"
   ]
  },
  {
   "cell_type": "code",
   "execution_count": 43,
   "id": "91144740",
   "metadata": {},
   "outputs": [
    {
     "data": {
      "text/plain": [
       "[1, 2, 3, 4, 5, 6, 7, 8, 9]"
      ]
     },
     "execution_count": 43,
     "metadata": {},
     "output_type": "execute_result"
    }
   ],
   "source": [
    "aa = list(range(1,10))\n",
    "aa"
   ]
  },
  {
   "cell_type": "code",
   "execution_count": 45,
   "id": "329b4c14",
   "metadata": {},
   "outputs": [
    {
     "data": {
      "text/plain": [
       "[1, 3, 5, 7, 9]"
      ]
     },
     "execution_count": 45,
     "metadata": {},
     "output_type": "execute_result"
    }
   ],
   "source": [
    "aa[0:10:2]"
   ]
  },
  {
   "cell_type": "markdown",
   "id": "f8e73b65",
   "metadata": {},
   "source": [
    "##### (1~10 중에서 홀수만 출력)\n",
    "1. 값%2 == 1"
   ]
  },
  {
   "cell_type": "code",
   "execution_count": 49,
   "id": "5861690e",
   "metadata": {},
   "outputs": [
    {
     "name": "stdout",
     "output_type": "stream",
     "text": [
      "홀수 =  1\n",
      "홀수 =  3\n",
      "홀수 =  5\n",
      "홀수 =  7\n",
      "홀수 =  9\n"
     ]
    }
   ],
   "source": [
    "for i in range(1, 10):\n",
    "    if i%2==1 :\n",
    "        print(\"홀수 = \", i)"
   ]
  },
  {
   "cell_type": "code",
   "execution_count": 50,
   "id": "923053ae",
   "metadata": {},
   "outputs": [
    {
     "name": "stdout",
     "output_type": "stream",
     "text": [
      "홀수 =  1\n",
      "홀수 =  3\n",
      "홀수 =  5\n",
      "홀수 =  7\n",
      "홀수 =  9\n"
     ]
    }
   ],
   "source": [
    "for i in range(1, 10):\n",
    "    if i%2 != 0:\n",
    "        print(\"홀수 = \", i)"
   ]
  },
  {
   "cell_type": "markdown",
   "id": "7bed6e6a",
   "metadata": {},
   "source": [
    "### (1 ~ 10중 홀짝 판정)\n",
    "1. 홀수와 짝수 판정"
   ]
  },
  {
   "cell_type": "code",
   "execution_count": 53,
   "id": "f1406e4a",
   "metadata": {},
   "outputs": [
    {
     "name": "stdout",
     "output_type": "stream",
     "text": [
      "짝수 =  0\n",
      "홀수 =  1\n",
      "짝수 =  2\n",
      "홀수 =  3\n",
      "짝수 =  4\n",
      "홀수 =  5\n",
      "짝수 =  6\n",
      "홀수 =  7\n",
      "짝수 =  8\n",
      "홀수 =  9\n"
     ]
    }
   ],
   "source": [
    "for k in range(0,10):\n",
    "    if k % 2 == 0:\n",
    "        print(\"짝수 = \", k)\n",
    "    else:\n",
    "        print(\"홀수 = \", k)"
   ]
  },
  {
   "cell_type": "code",
   "execution_count": 55,
   "id": "6411ef7b",
   "metadata": {},
   "outputs": [
    {
     "name": "stdout",
     "output_type": "stream",
     "text": [
      "화면에서 입력 받음바보멍청이\n"
     ]
    },
    {
     "data": {
      "text/plain": [
       "'바보멍청이'"
      ]
     },
     "execution_count": 55,
     "metadata": {},
     "output_type": "execute_result"
    }
   ],
   "source": [
    "input(\"화면에서 입력 받음\")"
   ]
  },
  {
   "cell_type": "code",
   "execution_count": 56,
   "id": "1d6a1ce9",
   "metadata": {},
   "outputs": [
    {
     "name": "stdout",
     "output_type": "stream",
     "text": [
      "입력> 123\n"
     ]
    }
   ],
   "source": [
    "x = input(\"입력> \")"
   ]
  },
  {
   "cell_type": "code",
   "execution_count": 58,
   "id": "60383fb8",
   "metadata": {},
   "outputs": [
    {
     "data": {
      "text/plain": [
       "str"
      ]
     },
     "execution_count": 58,
     "metadata": {},
     "output_type": "execute_result"
    }
   ],
   "source": [
    "type(x)"
   ]
  },
  {
   "cell_type": "code",
   "execution_count": 59,
   "id": "07bddab1",
   "metadata": {},
   "outputs": [
    {
     "name": "stdout",
     "output_type": "stream",
     "text": [
      "입력> 123\n"
     ]
    }
   ],
   "source": [
    "x = int(input(\"입력> \"))"
   ]
  },
  {
   "cell_type": "code",
   "execution_count": 60,
   "id": "b2d173e8",
   "metadata": {},
   "outputs": [
    {
     "data": {
      "text/plain": [
       "int"
      ]
     },
     "execution_count": 60,
     "metadata": {},
     "output_type": "execute_result"
    }
   ],
   "source": [
    "type(x)"
   ]
  },
  {
   "cell_type": "code",
   "execution_count": 61,
   "id": "235a977a",
   "metadata": {
    "scrolled": true
   },
   "outputs": [
    {
     "name": "stdout",
     "output_type": "stream",
     "text": [
      "크다\n"
     ]
    }
   ],
   "source": [
    "if x > 0:\n",
    "    print('크다')"
   ]
  },
  {
   "cell_type": "code",
   "execution_count": 62,
   "id": "6b011daf",
   "metadata": {},
   "outputs": [
    {
     "name": "stdout",
     "output_type": "stream",
     "text": [
      "숫자는> -3\n",
      "음수\n"
     ]
    }
   ],
   "source": [
    "x = int(input(\"숫자는> \"))\n",
    "if x > 0:\n",
    "    print(\"양수\")\n",
    "else:\n",
    "    print(\"음수\")"
   ]
  },
  {
   "cell_type": "markdown",
   "id": "7de60755",
   "metadata": {},
   "source": [
    "### (화면에서 숫자를 입력받아서 처리)\n",
    "1. 음수, 제로, 1, 1보다 큰 수를 판정"
   ]
  },
  {
   "cell_type": "code",
   "execution_count": 66,
   "id": "de4367f8",
   "metadata": {},
   "outputs": [
    {
     "name": "stdout",
     "output_type": "stream",
     "text": [
      "숫자는? 2\n",
      " 1보다 큰 수\n"
     ]
    }
   ],
   "source": [
    "num = int(input(\"숫자는? \"))\n",
    "if num < 0:\n",
    "    print(\"Negative Num\")\n",
    "elif num == 0:\n",
    "    print(\"Zero\")\n",
    "elif num == 1:\n",
    "    print(\"Only One\")\n",
    "else:\n",
    "    print(\" 1보다 큰 수\")"
   ]
  },
  {
   "cell_type": "markdown",
   "id": "8c9f4ddc",
   "metadata": {},
   "source": [
    "### (정수를 입력 받아서)\n",
    "1. 90점 이상 A등급\n",
    "2. 89~80 B등급\n",
    "3. 79~70 C등급\n",
    "4. 나머지 기타 등급 출력"
   ]
  },
  {
   "cell_type": "code",
   "execution_count": 71,
   "id": "fc0b729d",
   "metadata": {},
   "outputs": [
    {
     "name": "stdout",
     "output_type": "stream",
     "text": [
      "점수는> 60\n",
      "기타 등급\n"
     ]
    }
   ],
   "source": [
    "score = int(input(\"점수는> \"))\n",
    "if score >= 90:\n",
    "    print(\" A  등급\")\n",
    "elif score >=80:\n",
    "    print(\" B 등급\")\n",
    "elif score >= 70:\n",
    "    print(\" C 등급\")\n",
    "else:\n",
    "    print(\"기타 등급\")"
   ]
  },
  {
   "cell_type": "code",
   "execution_count": 81,
   "id": "cc11a9a1",
   "metadata": {},
   "outputs": [
    {
     "name": "stdout",
     "output_type": "stream",
     "text": [
      "조건 만족 5\n",
      "조건 만족 4\n",
      "조건 만족 3\n",
      "조건 만족 2\n",
      "조건 만족 1\n",
      "종료\n"
     ]
    }
   ],
   "source": [
    "#while\n",
    "count = 5\n",
    "while count > 0:\n",
    "    print(\"조건 만족\", count)\n",
    "    count -= 1#count = count -1\n",
    "    #count =- 1 -> count에 -1 할당\n",
    "else:\n",
    "    print(\"종료\")"
   ]
  },
  {
   "cell_type": "code",
   "execution_count": 83,
   "id": "a8bb9669",
   "metadata": {},
   "outputs": [
    {
     "name": "stdout",
     "output_type": "stream",
     "text": [
      "n =  1\n",
      "n =  2\n",
      "n =  3\n",
      "n =  4\n"
     ]
    }
   ],
   "source": [
    "for n in range(1, 10):\n",
    "    if n > 4:\n",
    "        break\n",
    "    print(\"n = \", n)"
   ]
  },
  {
   "cell_type": "code",
   "execution_count": 84,
   "id": "beda5cfe",
   "metadata": {},
   "outputs": [
    {
     "name": "stdout",
     "output_type": "stream",
     "text": [
      "n =  1\n",
      "n =  2\n",
      "n =  4\n",
      "n =  5\n",
      "n =  7\n",
      "n =  8\n"
     ]
    }
   ],
   "source": [
    "for n in range(1, 10):\n",
    "    if n%3 == 0:\n",
    "        continue\n",
    "    print(\"n = \", n)"
   ]
  },
  {
   "cell_type": "markdown",
   "id": "02ef3647",
   "metadata": {},
   "source": [
    "### (list, dictionary for loop)"
   ]
  },
  {
   "cell_type": "code",
   "execution_count": 87,
   "id": "a4d916f7",
   "metadata": {},
   "outputs": [
    {
     "name": "stdout",
     "output_type": "stream",
     "text": [
      "<class 'list'>\n",
      "apple\n",
      "peer\n",
      "banana\n"
     ]
    }
   ],
   "source": [
    "fruit = [\"apple\",\"peer\",\"banana\"]\n",
    "print(type(fruit))\n",
    "for i in fruit:\n",
    "    print(i)"
   ]
  },
  {
   "cell_type": "code",
   "execution_count": 92,
   "id": "08eaad5a",
   "metadata": {},
   "outputs": [
    {
     "name": "stdout",
     "output_type": "stream",
     "text": [
      "<class 'dict'>\n",
      "apple\n",
      "peer\n",
      "banana\n"
     ]
    }
   ],
   "source": [
    "# dictionary for loop\n",
    "fruit_price = {\"apple\":3500,\n",
    "              \"peer\":2500,\n",
    "              \"banana\": 8000}\n",
    "print(type(fruit_price))\n",
    "#과일명 출력\n",
    "for i in fruit_price.keys():\n",
    "    print(i)"
   ]
  },
  {
   "cell_type": "code",
   "execution_count": 94,
   "id": "691d93c8",
   "metadata": {},
   "outputs": [
    {
     "name": "stdout",
     "output_type": "stream",
     "text": [
      "3500\n",
      "2500\n",
      "1500\n"
     ]
    }
   ],
   "source": [
    "#과일값 출력\n",
    "for i in fruit_price.values():\n",
    "    print(i)"
   ]
  },
  {
   "cell_type": "code",
   "execution_count": 99,
   "id": "551f1cb7",
   "metadata": {},
   "outputs": [
    {
     "name": "stdout",
     "output_type": "stream",
     "text": [
      "apple =  3500\n"
     ]
    }
   ],
   "source": [
    "#apple의 가격은?\n",
    "for i in fruit_price.items():\n",
    "    if (i[0] == \"apple\"):\n",
    "        print(\"apple = \",i[1])"
   ]
  },
  {
   "cell_type": "markdown",
   "id": "e70ed0e5",
   "metadata": {},
   "source": [
    "### (실습)\n",
    "1. fruit_price 데이터에서 \n",
    "2. 3000원이 넘는 과일 이름과 3000원 미만의 과일 이름 출력\n",
    "- 작업절차 :\n",
    "    - high=[]; low=[]\n",
    "    - for 데이터 로드\n",
    "    - if 가격 체크\n",
    "    - True면 high, False면 low\n",
    "    - high, low 출력"
   ]
  },
  {
   "cell_type": "code",
   "execution_count": 121,
   "id": "8e73415c",
   "metadata": {},
   "outputs": [
    {
     "name": "stdout",
     "output_type": "stream",
     "text": [
      "3000원 이상 과일 :  ['apple', 'banana']\n",
      "3000원 미만 과일 :  ['peer']\n"
     ]
    }
   ],
   "source": [
    "fruit_price = {\"apple\":3500,\n",
    "              \"peer\":2500,\n",
    "              \"banana\": 8000} ; high = [] ; low = []\n",
    "for i in fruit_price.items():\n",
    "    if (i[1] >=3000):\n",
    "        high.append(i[0])\n",
    "    else:\n",
    "        low.append(i[0])\n",
    "print(\"3000원 이상 과일 : \",high)\n",
    "print(\"3000원 미만 과일 : \", low)"
   ]
  },
  {
   "cell_type": "markdown",
   "id": "3afd1014",
   "metadata": {},
   "source": [
    "### (실습)\n",
    "#과일명 : [과일가격, 개수]\n",
    "#과일가격이 3000원 이상인 과일은 총 몇 개?\n",
    "- fruit_count = {\"apple\":[3500,10],\n",
    "                      \"peer\":[2500,5],\n",
    "                      \"cherry\":[5000,2],\n",
    "                      \"banana\":[2900,7]}"
   ]
  },
  {
   "cell_type": "code",
   "execution_count": 134,
   "id": "5b7e8955",
   "metadata": {},
   "outputs": [
    {
     "name": "stdout",
     "output_type": "stream",
     "text": [
      "3천 원 이상 과일 총 개수 =  12\n"
     ]
    }
   ],
   "source": [
    "fruit_count = {\"apple\":[3500,10],\n",
    "                \"peer\":[2500,5],\n",
    "                \"cherry\":[5000,2],\n",
    "                \"banana\":[2900,7]}\n",
    "count = 0\n",
    "for i in fruit_count.items():\n",
    "    if(i[1][0] >= 3000):\n",
    "        count += i[1][1]\n",
    "print(\"3천 원 이상 과일 총 개수 = \",count)"
   ]
  },
  {
   "cell_type": "code",
   "execution_count": null,
   "id": "90002471",
   "metadata": {},
   "outputs": [],
   "source": []
  }
 ],
 "metadata": {
  "kernelspec": {
   "display_name": "Python 3",
   "language": "python",
   "name": "python3"
  },
  "language_info": {
   "codemirror_mode": {
    "name": "ipython",
    "version": 3
   },
   "file_extension": ".py",
   "mimetype": "text/x-python",
   "name": "python",
   "nbconvert_exporter": "python",
   "pygments_lexer": "ipython3",
   "version": "3.8.8"
  }
 },
 "nbformat": 4,
 "nbformat_minor": 5
}
