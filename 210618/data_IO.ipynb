{
 "cells": [
  {
   "cell_type": "code",
   "execution_count": 8,
   "id": "f1ffef33",
   "metadata": {},
   "outputs": [],
   "source": [
    "fruit = {\"apple\":3500,\n",
    "              \"peer\":2500,\n",
    "              \"banana\": 8000}"
   ]
  },
  {
   "cell_type": "code",
   "execution_count": 9,
   "id": "bb60fe9a",
   "metadata": {},
   "outputs": [],
   "source": [
    "fp = open(\"C:/Users/학생/0.python/test.txt\", \"wt\")\n",
    "for item in fruit.items():\n",
    "    print(item, file=fp)\n",
    "fp.close()"
   ]
  },
  {
   "cell_type": "markdown",
   "id": "d3bdca7a",
   "metadata": {},
   "source": [
    "- \\t #white space t => tab\n",
    "- \\n #white space n => enter"
   ]
  },
  {
   "cell_type": "code",
   "execution_count": 10,
   "id": "17a36549",
   "metadata": {},
   "outputs": [],
   "source": [
    "fp1 = open(\"C:/Users/학생/0.python/test1.txt\", \"wt\")\n",
    "fp1.write(\"apple 3500\\n\") #white space n\n",
    "fp1.write(\"peer 2500\\n\")\n",
    "fp1.write(\"cherry 5000\\n\")\n",
    "fp1.close()"
   ]
  },
  {
   "cell_type": "code",
   "execution_count": 16,
   "id": "0e10565e",
   "metadata": {},
   "outputs": [],
   "source": [
    "import csv\n",
    "with open(\"C:/Users/학생/0.python/test6.csv\", \"w\", newline=\"\") as fp:\n",
    "    writer = csv.writer(fp, delimiter=\",\")\n",
    "    writer.writerow([\"apple\", 3500])\n",
    "    writer.writerow([\"peer\", 2000])\n",
    "    writer.writerow([\"cherry\", 5000])"
   ]
  },
  {
   "cell_type": "code",
   "execution_count": 22,
   "id": "16d12336",
   "metadata": {},
   "outputs": [],
   "source": [
    "#한 번 읽어오면 내용 소멸\n",
    "#중복 사용시 다시 읽어와야 함\n",
    "fp = open(\"C:/Users/학생/0.python/test.txt\", \"rt\")"
   ]
  },
  {
   "cell_type": "code",
   "execution_count": 23,
   "id": "5b58ad43",
   "metadata": {},
   "outputs": [
    {
     "name": "stdout",
     "output_type": "stream",
     "text": [
      "[\"('apple', 3500)\\n\", \"('peer', 2500)\\n\", \"('banana', 8000)\\n\"]\n"
     ]
    }
   ],
   "source": [
    "fruit = fp.readlines()\n",
    "print(fruit)"
   ]
  },
  {
   "cell_type": "code",
   "execution_count": 25,
   "id": "340ecf09",
   "metadata": {},
   "outputs": [
    {
     "name": "stdout",
     "output_type": "stream",
     "text": [
      "('apple', 3500)\n",
      "\n"
     ]
    }
   ],
   "source": [
    "print(fruit[0])"
   ]
  },
  {
   "cell_type": "code",
   "execution_count": 39,
   "id": "e45b0231",
   "metadata": {},
   "outputs": [
    {
     "data": {
      "text/plain": [
       "<_csv.reader at 0x18f1b2a5100>"
      ]
     },
     "execution_count": 39,
     "metadata": {},
     "output_type": "execute_result"
    }
   ],
   "source": [
    "import csv\n",
    "\n",
    "f = open(\"C:/Users/학생/0.python/test6.csv\", \"rt\")\n",
    "csv.reader(f)"
   ]
  },
  {
   "cell_type": "code",
   "execution_count": 30,
   "id": "797b75a8",
   "metadata": {},
   "outputs": [
    {
     "data": {
      "text/plain": [
       "[['apple', '3500'], ['peer', '2000'], ['cherry', '5000']]"
      ]
     },
     "execution_count": 30,
     "metadata": {},
     "output_type": "execute_result"
    }
   ],
   "source": [
    "list(csv.reader(f))"
   ]
  },
  {
   "cell_type": "code",
   "execution_count": 40,
   "id": "e2b96710",
   "metadata": {
    "scrolled": true
   },
   "outputs": [
    {
     "name": "stdout",
     "output_type": "stream",
     "text": [
      "['apple', '3500']\n",
      "['peer', '2000']\n",
      "['cherry', '5000']\n",
      "[['apple', '3500'], ['peer', '2000'], ['cherry', '5000']]\n"
     ]
    }
   ],
   "source": [
    "fruit=[]\n",
    "for i in csv.reader(f):\n",
    "    print(i)\n",
    "    fruit.append(i)\n",
    "print(fruit)"
   ]
  },
  {
   "cell_type": "code",
   "execution_count": null,
   "id": "4ef74951",
   "metadata": {},
   "outputs": [],
   "source": []
  }
 ],
 "metadata": {
  "kernelspec": {
   "display_name": "Python 3",
   "language": "python",
   "name": "python3"
  },
  "language_info": {
   "codemirror_mode": {
    "name": "ipython",
    "version": 3
   },
   "file_extension": ".py",
   "mimetype": "text/x-python",
   "name": "python",
   "nbconvert_exporter": "python",
   "pygments_lexer": "ipython3",
   "version": "3.8.8"
  }
 },
 "nbformat": 4,
 "nbformat_minor": 5
}
