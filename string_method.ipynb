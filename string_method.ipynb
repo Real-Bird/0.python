{
 "cells": [
  {
   "cell_type": "markdown",
   "id": "2a4229a3",
   "metadata": {},
   "source": [
    "capitalize() : 첫 문자를 대문자로 변환"
   ]
  },
  {
   "cell_type": "code",
   "execution_count": 2,
   "id": "15fc8af6",
   "metadata": {},
   "outputs": [
    {
     "data": {
      "text/plain": [
       "'Hello, and welcome to my world.'"
      ]
     },
     "execution_count": 2,
     "metadata": {},
     "output_type": "execute_result"
    }
   ],
   "source": [
    "txt = \"hello, and welcome to my world.\"\n",
    "\n",
    "txt.capitalize()"
   ]
  },
  {
   "cell_type": "markdown",
   "id": "25f44371",
   "metadata": {},
   "source": [
    "casefold() : 모든 문자를 소문자로 변환"
   ]
  },
  {
   "cell_type": "code",
   "execution_count": 3,
   "id": "68e0b97f",
   "metadata": {},
   "outputs": [
    {
     "data": {
      "text/plain": [
       "'hello, and welcome to my world.'"
      ]
     },
     "execution_count": 3,
     "metadata": {},
     "output_type": "execute_result"
    }
   ],
   "source": [
    "txt.casefold()"
   ]
  },
  {
   "cell_type": "markdown",
   "id": "8bd4f1da",
   "metadata": {},
   "source": [
    "center(i) : 문자열을 i만큼의 공간 가운데에 정렬"
   ]
  },
  {
   "cell_type": "code",
   "execution_count": 4,
   "id": "c745e067",
   "metadata": {},
   "outputs": [
    {
     "data": {
      "text/plain": [
       "'       banana       '"
      ]
     },
     "execution_count": 4,
     "metadata": {},
     "output_type": "execute_result"
    }
   ],
   "source": [
    "txt = \"banana\"\n",
    "\n",
    "txt.center(20)\n"
   ]
  },
  {
   "cell_type": "code",
   "execution_count": 5,
   "id": "c50e3af3",
   "metadata": {},
   "outputs": [
    {
     "data": {
      "text/plain": [
       "'_______banana_______'"
      ]
     },
     "execution_count": 5,
     "metadata": {},
     "output_type": "execute_result"
    }
   ],
   "source": [
    "txt.center(20,\"_\")"
   ]
  },
  {
   "cell_type": "markdown",
   "id": "f0f3dfaf",
   "metadata": {},
   "source": [
    "count(\"str\", start, end) : 해당 문자열이 객체에 얼마나 있는지 셈"
   ]
  },
  {
   "cell_type": "code",
   "execution_count": 6,
   "id": "2c5e6cbd",
   "metadata": {},
   "outputs": [
    {
     "data": {
      "text/plain": [
       "2"
      ]
     },
     "execution_count": 6,
     "metadata": {},
     "output_type": "execute_result"
    }
   ],
   "source": [
    "txt = \"I love apples, apple are my favorite fruit\"\n",
    "\n",
    "txt.count(\"apple\")"
   ]
  },
  {
   "cell_type": "code",
   "execution_count": 7,
   "id": "e422caf9",
   "metadata": {},
   "outputs": [
    {
     "data": {
      "text/plain": [
       "1"
      ]
     },
     "execution_count": 7,
     "metadata": {},
     "output_type": "execute_result"
    }
   ],
   "source": [
    "txt.count(\"apple\", 10, 24)"
   ]
  },
  {
   "cell_type": "markdown",
   "id": "5ef450c0",
   "metadata": {},
   "source": [
    "encode() : 영어 외 문자를 converting<br>\n",
    "특수문자를 표현하려면 .decode()를 붙여 써야 함"
   ]
  },
  {
   "cell_type": "code",
   "execution_count": 8,
   "id": "44e59ee3",
   "metadata": {},
   "outputs": [
    {
     "name": "stdout",
     "output_type": "stream",
     "text": [
      "b'\\xec\\x95\\x88\\xeb\\x85\\x95\\xed\\x95\\x98\\xec\\x84\\xb8\\xec\\x9a\\x94'\n",
      "안녕하세요\n"
     ]
    }
   ],
   "source": [
    "txt = \"안녕하세요\"\n",
    "\n",
    "print(txt.encode())\n",
    "print(txt.encode().decode())"
   ]
  },
  {
   "cell_type": "code",
   "execution_count": 9,
   "id": "50f23ed0",
   "metadata": {},
   "outputs": [
    {
     "name": "stdout",
     "output_type": "stream",
     "text": [
      "b'\\xbe\\xc8\\xb3\\xe7\\xc7\\xcf\\xbc\\xbc\\xbf\\xe4'\n",
      "안녕하세요\n"
     ]
    }
   ],
   "source": [
    "txt = \"안녕하세요\"\n",
    "\n",
    "print(txt.encode(\"euc-kr\")) #한글  encoding: utf-8, cp949, euc-kr\n",
    "print(txt.encode().decode())"
   ]
  },
  {
   "cell_type": "markdown",
   "id": "fb3c2049",
   "metadata": {},
   "source": [
    "endswith(\"str\") : 문장 끝이 \"str\"로 끝나면 True, 아니면 False"
   ]
  },
  {
   "cell_type": "code",
   "execution_count": 12,
   "id": "e2015785",
   "metadata": {},
   "outputs": [
    {
     "name": "stdout",
     "output_type": "stream",
     "text": [
      "True\n",
      "False\n"
     ]
    }
   ],
   "source": [
    "txt = \"Hello, welcome to my world.\"\n",
    "\n",
    "print(txt.endswith(\"my world.\"))\n",
    "print(txt.endswith(\"my world\"))"
   ]
  },
  {
   "cell_type": "markdown",
   "id": "3b4057b2",
   "metadata": {},
   "source": [
    "find(\"str\") : \"str\"의 index 번호를 알려줌<br>\n",
    "                    \"str\"이 없으면 -1 return"
   ]
  },
  {
   "cell_type": "code",
   "execution_count": 13,
   "id": "2397d485",
   "metadata": {},
   "outputs": [
    {
     "data": {
      "text/plain": [
       "7"
      ]
     },
     "execution_count": 13,
     "metadata": {},
     "output_type": "execute_result"
    }
   ],
   "source": [
    "txt = \"Hello, welcome to my world.\"\n",
    "\n",
    "txt.find(\"welcome\")"
   ]
  },
  {
   "cell_type": "markdown",
   "id": "7ebea57e",
   "metadata": {},
   "source": [
    "format() : \"str\"의 {}에 값을 넣어줌<br>\n",
    "\"str {var:.2f}\".format() : {}의 출력 형태를 정의"
   ]
  },
  {
   "cell_type": "code",
   "execution_count": 14,
   "id": "30bf398c",
   "metadata": {
    "scrolled": true
   },
   "outputs": [
    {
     "data": {
      "text/plain": [
       "\"My name is John, I'm 36\""
      ]
     },
     "execution_count": 14,
     "metadata": {},
     "output_type": "execute_result"
    }
   ],
   "source": [
    "\"My name is {}, I'm {}\".format(\"John\", 36)"
   ]
  },
  {
   "cell_type": "code",
   "execution_count": 15,
   "id": "ba5725aa",
   "metadata": {},
   "outputs": [
    {
     "data": {
      "text/plain": [
       "\"My name is John, I'm 36\""
      ]
     },
     "execution_count": 15,
     "metadata": {},
     "output_type": "execute_result"
    }
   ],
   "source": [
    "\"My name is {0}, I'm {1}\".format(\"John\", 36)"
   ]
  },
  {
   "cell_type": "code",
   "execution_count": 16,
   "id": "68db157e",
   "metadata": {},
   "outputs": [
    {
     "data": {
      "text/plain": [
       "\"My name is 36, I'm John\""
      ]
     },
     "execution_count": 16,
     "metadata": {},
     "output_type": "execute_result"
    }
   ],
   "source": [
    "\"My name is {1}, I'm {0}\".format(\"John\", 36)"
   ]
  },
  {
   "cell_type": "code",
   "execution_count": 17,
   "id": "08ff2a88",
   "metadata": {},
   "outputs": [
    {
     "name": "stdout",
     "output_type": "stream",
     "text": [
      "For only 49.00 dollars!\n"
     ]
    }
   ],
   "source": [
    "txt = \"For only {price:.2f} dollars!\"\n",
    "print(txt.format(price = 49))"
   ]
  },
  {
   "cell_type": "markdown",
   "id": "a13dcedf",
   "metadata": {},
   "source": [
    "join() : 문자열 합침"
   ]
  },
  {
   "cell_type": "code",
   "execution_count": 18,
   "id": "c5d4f746",
   "metadata": {},
   "outputs": [
    {
     "data": {
      "text/plain": [
       "'a,b,c'"
      ]
     },
     "execution_count": 18,
     "metadata": {},
     "output_type": "execute_result"
    }
   ],
   "source": [
    "a = [\"a\", \"b\", \"c\"]\n",
    "\",\".join(a)"
   ]
  },
  {
   "cell_type": "code",
   "execution_count": 19,
   "id": "3bfcd8dd",
   "metadata": {},
   "outputs": [],
   "source": [
    "a = \"d:/python/text6.csv\""
   ]
  },
  {
   "cell_type": "markdown",
   "id": "ed50ea37",
   "metadata": {},
   "source": [
    "split(\"delimiter\") : delimiter로 \"str\" 쪼개서 리스트 저장"
   ]
  },
  {
   "cell_type": "code",
   "execution_count": 20,
   "id": "6f3a52f7",
   "metadata": {},
   "outputs": [
    {
     "data": {
      "text/plain": [
       "['d:', 'python', 'text6.csv']"
      ]
     },
     "execution_count": 20,
     "metadata": {},
     "output_type": "execute_result"
    }
   ],
   "source": [
    "a.split(\"/\")"
   ]
  },
  {
   "cell_type": "code",
   "execution_count": 21,
   "id": "48dd5b3b",
   "metadata": {},
   "outputs": [
    {
     "data": {
      "text/plain": [
       "'aaaa'"
      ]
     },
     "execution_count": 21,
     "metadata": {},
     "output_type": "execute_result"
    }
   ],
   "source": [
    "a = \"c://python/text6.csv//aaaa\"\n",
    "\n",
    "a.split('//')[-1]"
   ]
  },
  {
   "cell_type": "code",
   "execution_count": 22,
   "id": "605d3170",
   "metadata": {},
   "outputs": [
    {
     "data": {
      "text/plain": [
       "['APPA', '포럼', '폐막…포스트코로나', '시대', '개인정보보호', '원칙', '공감대기사입력', '2021']"
      ]
     },
     "execution_count": 22,
     "metadata": {},
     "output_type": "execute_result"
    }
   ],
   "source": [
    "a = \"APPA 포럼 폐막…포스트코로나 시대 개인정보보호 원칙 공감대\\\n",
    "기사입력 2021.06.18. 오후 12:00 최종수정 2021.06.18. 오후 2:01\"\n",
    "\n",
    "a.split(\"오후\")[0].split(\".\")[0].split(\" \")"
   ]
  },
  {
   "cell_type": "code",
   "execution_count": 23,
   "id": "25ad0d4f",
   "metadata": {},
   "outputs": [
    {
     "data": {
      "text/plain": [
       "['APPA 포럼 폐막…',\n",
       " '포스트코로나 시대 ',\n",
       " '개인정보보호 원칙 공감대',\n",
       " '기사입력 2021.06.18. 오후 12:00 ',\n",
       " '최종수정 2021.06.18. 오후 2:01']"
      ]
     },
     "execution_count": 23,
     "metadata": {},
     "output_type": "execute_result"
    }
   ],
   "source": [
    "a = \"\"\"APPA 포럼 폐막…\n",
    "포스트코로나 시대 \n",
    "개인정보보호 원칙 공감대\n",
    "기사입력 2021.06.18. 오후 12:00 \n",
    "최종수정 2021.06.18. 오후 2:01\"\"\"\n",
    "\n",
    "a.split(\"\\n\")"
   ]
  },
  {
   "cell_type": "markdown",
   "id": "b92a7716",
   "metadata": {},
   "source": [
    "replace(\"oldstr\", \"newstr\") : \"oldstr\"을 \"newstr\"로 변환"
   ]
  },
  {
   "cell_type": "code",
   "execution_count": 24,
   "id": "9833229c",
   "metadata": {},
   "outputs": [
    {
     "data": {
      "text/plain": [
       "'python hello'"
      ]
     },
     "execution_count": 24,
     "metadata": {},
     "output_type": "execute_result"
    }
   ],
   "source": [
    "a = \"python hell\"\n",
    "\n",
    "a.replace(\"hell\", \"hello\")"
   ]
  },
  {
   "cell_type": "code",
   "execution_count": 25,
   "id": "4e4afb95",
   "metadata": {},
   "outputs": [],
   "source": [
    "a = \"python\"\n",
    "str1 = \"py\"\n",
    "str2 = \"ja\""
   ]
  },
  {
   "cell_type": "markdown",
   "id": "6d237554",
   "metadata": {},
   "source": [
    "maketrans(str1, str2) : str1을 str2로 변환(문자열 길이 같아야 함)<br>\n",
    "translate(str) : 기존 문자열을 str로 변환"
   ]
  },
  {
   "cell_type": "code",
   "execution_count": 26,
   "id": "100745ec",
   "metadata": {},
   "outputs": [
    {
     "name": "stdout",
     "output_type": "stream",
     "text": [
      "jathon\n"
     ]
    }
   ],
   "source": [
    "string = a.maketrans(str1, str2)\n",
    "print(a.translate(string))"
   ]
  },
  {
   "cell_type": "markdown",
   "id": "53fafbdf",
   "metadata": {},
   "source": [
    "title() : 각 단어의 첫 글자를 대문자로 변환"
   ]
  },
  {
   "cell_type": "code",
   "execution_count": 27,
   "id": "5c9c0d4d",
   "metadata": {},
   "outputs": [
    {
     "data": {
      "text/plain": [
       "'Welcome To My World'"
      ]
     },
     "execution_count": 27,
     "metadata": {},
     "output_type": "execute_result"
    }
   ],
   "source": [
    "txt = \"Welcome to my world\"\n",
    "\n",
    "txt.title()"
   ]
  },
  {
   "cell_type": "markdown",
   "id": "144f373b",
   "metadata": {},
   "source": [
    "strip() : 특정 문자 제거. default 공백"
   ]
  },
  {
   "cell_type": "code",
   "execution_count": 28,
   "id": "b92c017b",
   "metadata": {},
   "outputs": [
    {
     "data": {
      "text/plain": [
       "'banana'"
      ]
     },
     "execution_count": 28,
     "metadata": {},
     "output_type": "execute_result"
    }
   ],
   "source": [
    "txt = \"     banana     \"\n",
    "\n",
    "txt.strip()"
   ]
  },
  {
   "cell_type": "markdown",
   "id": "a64caff5",
   "metadata": {},
   "source": [
    "index() : 문자열이 시작하는 첫 번째 index 반환"
   ]
  },
  {
   "cell_type": "code",
   "execution_count": 29,
   "id": "2542100c",
   "metadata": {},
   "outputs": [
    {
     "data": {
      "text/plain": [
       "7"
      ]
     },
     "execution_count": 29,
     "metadata": {},
     "output_type": "execute_result"
    }
   ],
   "source": [
    "txt = \"Hello, welcome to my world.\"\n",
    "\n",
    "txt.index(\"welcome\")"
   ]
  },
  {
   "cell_type": "markdown",
   "id": "6abe9a28",
   "metadata": {},
   "source": [
    "expandtabs(): 탭 간격 설정"
   ]
  },
  {
   "cell_type": "code",
   "execution_count": 30,
   "id": "a9a0a1ad",
   "metadata": {},
   "outputs": [
    {
     "name": "stdout",
     "output_type": "stream",
     "text": [
      "H\te\tl\tl\to\n",
      "H       e       l       l       o\n",
      "H e l l o\n",
      "H   e   l   l   o\n",
      "H         e         l         l         o\n"
     ]
    }
   ],
   "source": [
    "txt = \"H\\te\\tl\\tl\\to\"\n",
    "\n",
    "print(txt)\n",
    "print(txt.expandtabs())\n",
    "print(txt.expandtabs(2))\n",
    "print(txt.expandtabs(4))\n",
    "print(txt.expandtabs(10))"
   ]
  },
  {
   "cell_type": "markdown",
   "id": "4600ce5b",
   "metadata": {},
   "source": [
    "isalnum(): 알파벳이나 숫자면 True, 공백 및 특수기호(!#%&?) 등이 있으면 False"
   ]
  },
  {
   "cell_type": "code",
   "execution_count": 35,
   "id": "19379675",
   "metadata": {},
   "outputs": [
    {
     "name": "stdout",
     "output_type": "stream",
     "text": [
      "True\n",
      "False\n"
     ]
    }
   ],
   "source": [
    "txt = \"Company12\"\n",
    "txt1 = \"Company!12\"\n",
    "\n",
    "x = txt.isalnum()\n",
    "x1 = txt1.isalnum()\n",
    "print(x)\n",
    "print(x1)"
   ]
  },
  {
   "cell_type": "markdown",
   "id": "dec5e3cb",
   "metadata": {},
   "source": [
    "isalpha(): 알파벳이면 True, 아니면 False"
   ]
  },
  {
   "cell_type": "code",
   "execution_count": 37,
   "id": "5853eecb",
   "metadata": {},
   "outputs": [
    {
     "name": "stdout",
     "output_type": "stream",
     "text": [
      "False\n",
      "True\n"
     ]
    }
   ],
   "source": [
    "txt = \"Company10\"\n",
    "txt1 = \"Company\"\n",
    "x = txt.isalpha()\n",
    "x1 = txt1.isalpha()\n",
    "print(x)\n",
    "print(x1)"
   ]
  },
  {
   "cell_type": "markdown",
   "id": "e7fe3293",
   "metadata": {},
   "source": [
    "isdecimal(): 십진수면 True, 아니면 False"
   ]
  },
  {
   "cell_type": "code",
   "execution_count": 38,
   "id": "d3f51e78",
   "metadata": {},
   "outputs": [
    {
     "name": "stdout",
     "output_type": "stream",
     "text": [
      "True\n",
      "False\n"
     ]
    }
   ],
   "source": [
    "a = \"\\u0030\" #unicode for 0\n",
    "b = \"\\u0047\" #unicode for G\n",
    "\n",
    "print(a.isdecimal())\n",
    "print(b.isdecimal())"
   ]
  },
  {
   "cell_type": "markdown",
   "id": "34c0131c",
   "metadata": {},
   "source": [
    "isdigit(): 문자열이 모두 숫자면 True, 아니면 False"
   ]
  },
  {
   "cell_type": "code",
   "execution_count": 46,
   "id": "7dc0d198",
   "metadata": {},
   "outputs": [
    {
     "name": "stdout",
     "output_type": "stream",
     "text": [
      "True\n",
      "False\n"
     ]
    }
   ],
   "source": [
    "a = \"123456\"\n",
    "b = \"a123456\"\n",
    "\n",
    "print(a.isdigit())\n",
    "print(b.isdigit())"
   ]
  },
  {
   "cell_type": "markdown",
   "id": "fb54a96a",
   "metadata": {},
   "source": [
    "isidentifier(): 유효한 식별자면 True, 아니면 False  \n",
    "유효한 식별자 : 알파벳, 숫자, _로 이루어진 문자열이면서 숫자나 기호로 시작하지 않는 문자열"
   ]
  },
  {
   "cell_type": "code",
   "execution_count": 47,
   "id": "10156e0e",
   "metadata": {},
   "outputs": [
    {
     "name": "stdout",
     "output_type": "stream",
     "text": [
      "True\n",
      "True\n",
      "False\n",
      "False\n"
     ]
    }
   ],
   "source": [
    "a = \"MyFolder\"\n",
    "b = \"Demo002\"\n",
    "c = \"2bring\"\n",
    "d = \"my demo\"\n",
    "\n",
    "print(a.isidentifier())\n",
    "print(b.isidentifier())\n",
    "print(c.isidentifier())\n",
    "print(d.isidentifier())"
   ]
  },
  {
   "cell_type": "markdown",
   "id": "7dac9f74",
   "metadata": {},
   "source": [
    "islower(): 문자열이 모두 소문자면 True, 아니면 False"
   ]
  },
  {
   "cell_type": "code",
   "execution_count": 50,
   "id": "e5b16acd",
   "metadata": {},
   "outputs": [
    {
     "name": "stdout",
     "output_type": "stream",
     "text": [
      "False\n",
      "True\n",
      "False\n"
     ]
    }
   ],
   "source": [
    "a = \"Hello world!\"\n",
    "b = \"hello 123\"\n",
    "c = \"mynameisPeter\"\n",
    "\n",
    "print(a.islower())\n",
    "print(b.islower())\n",
    "print(c.islower())"
   ]
  },
  {
   "cell_type": "markdown",
   "id": "2b25a6c0",
   "metadata": {},
   "source": [
    "isnumeric(): 문자열이 0~9사이 숫자면 True, 아니면 False"
   ]
  },
  {
   "cell_type": "code",
   "execution_count": 51,
   "id": "60e2beb2",
   "metadata": {},
   "outputs": [
    {
     "name": "stdout",
     "output_type": "stream",
     "text": [
      "True\n",
      "False\n",
      "False\n",
      "False\n",
      "False\n"
     ]
    }
   ],
   "source": [
    "a = \"0\"\n",
    "b = \"a\"\n",
    "c = \"10km2\"\n",
    "d = \"-1\"\n",
    "e = \"1.5\"\n",
    "\n",
    "print(a.isnumeric())\n",
    "print(b.isnumeric())\n",
    "print(c.isnumeric())\n",
    "print(d.isnumeric())\n",
    "print(e.isnumeric())"
   ]
  },
  {
   "cell_type": "markdown",
   "id": "fac2f473",
   "metadata": {},
   "source": [
    "isprintable(): 프린트가 가능한 경우에 true 아니면 false.  \n",
    "유니코드상에서 other로 구분되어 있는 문자는 false로 반환함"
   ]
  },
  {
   "cell_type": "code",
   "execution_count": 54,
   "id": "f5feb04e",
   "metadata": {},
   "outputs": [
    {
     "name": "stdout",
     "output_type": "stream",
     "text": [
      "False\n"
     ]
    }
   ],
   "source": [
    "txt = \"Hello!\\nAre you #1?\"\n",
    "\n",
    "x = txt.isprintable()\n",
    "\n",
    "print(x)"
   ]
  },
  {
   "cell_type": "markdown",
   "id": "dd6543e7",
   "metadata": {},
   "source": [
    "isspace(): 문자열이 모두 공백이면 True, 아니면 False"
   ]
  },
  {
   "cell_type": "code",
   "execution_count": 56,
   "id": "1dcaa51b",
   "metadata": {},
   "outputs": [
    {
     "name": "stdout",
     "output_type": "stream",
     "text": [
      "False\n",
      "True\n"
     ]
    }
   ],
   "source": [
    "txt = \"   s   \"\n",
    "txt1 = \"      \"\n",
    "\n",
    "x = txt.isspace()\n",
    "x1 = txt1.isspace()\n",
    "\n",
    "print(x)\n",
    "print(x1)"
   ]
  },
  {
   "cell_type": "markdown",
   "id": "b4222c2a",
   "metadata": {},
   "source": [
    "istitle(): 문자열의 시작이 대문자이면서 남은 문자열이 소문자이면 True, 아니면 False"
   ]
  },
  {
   "cell_type": "code",
   "execution_count": 58,
   "id": "83b289e5",
   "metadata": {},
   "outputs": [
    {
     "name": "stdout",
     "output_type": "stream",
     "text": [
      "False\n",
      "True\n",
      "True\n",
      "True\n",
      "False\n"
     ]
    }
   ],
   "source": [
    "a = \"HELLO, AND WELCOME TO MY WORLD\"\n",
    "b = \"Hello\"\n",
    "c = \"22 Names\"\n",
    "d = \"This Is %'!?\"\n",
    "e = \"hi guys\"\n",
    "\n",
    "print(a.istitle())\n",
    "print(b.istitle())\n",
    "print(c.istitle())\n",
    "print(d.istitle())\n",
    "print(e.istitle())"
   ]
  },
  {
   "cell_type": "markdown",
   "id": "56754406",
   "metadata": {},
   "source": [
    "isupper(): 문자열이 모두 대문자이면 True, 아니면 False"
   ]
  },
  {
   "cell_type": "code",
   "execution_count": 59,
   "id": "97cb8c6a",
   "metadata": {},
   "outputs": [
    {
     "name": "stdout",
     "output_type": "stream",
     "text": [
      "False\n",
      "False\n",
      "True\n"
     ]
    }
   ],
   "source": [
    "a = \"Hello World!\"\n",
    "b = \"hello 123\"\n",
    "c = \"MY NAME IS PETER\"\n",
    "\n",
    "print(a.isupper())\n",
    "print(b.isupper())\n",
    "print(c.isupper())"
   ]
  },
  {
   "cell_type": "markdown",
   "id": "85516ce9",
   "metadata": {},
   "source": [
    "ljust(): 왼쪽부터 칸 수 확보"
   ]
  },
  {
   "cell_type": "code",
   "execution_count": 60,
   "id": "300337e7",
   "metadata": {},
   "outputs": [
    {
     "name": "stdout",
     "output_type": "stream",
     "text": [
      "bananaOOOOOOOOOOOOOO\n"
     ]
    }
   ],
   "source": [
    "txt = \"banana\"\n",
    "\n",
    "x = txt.ljust(20, \"O\")\n",
    "\n",
    "print(x)"
   ]
  },
  {
   "cell_type": "markdown",
   "id": "cab6734b",
   "metadata": {},
   "source": [
    "lower(): 문자열을 모두 소문자로 변경"
   ]
  },
  {
   "cell_type": "code",
   "execution_count": 61,
   "id": "c9dbae88",
   "metadata": {},
   "outputs": [
    {
     "name": "stdout",
     "output_type": "stream",
     "text": [
      "hello my friends\n"
     ]
    }
   ],
   "source": [
    "txt = \"Hello my FRIENDS\"\n",
    "\n",
    "x = txt.lower()\n",
    "\n",
    "print(x)"
   ]
  },
  {
   "cell_type": "markdown",
   "id": "11563635",
   "metadata": {},
   "source": [
    "lstrip(): 왼쪽부터 특정 문자 제거"
   ]
  },
  {
   "cell_type": "code",
   "execution_count": 63,
   "id": "29c869e5",
   "metadata": {},
   "outputs": [
    {
     "name": "stdout",
     "output_type": "stream",
     "text": [
      "banana\n"
     ]
    }
   ],
   "source": [
    "txt = \",,,,,ssaaww.....banana\"\n",
    "\n",
    "x = txt.lstrip(\",.asw\")\n",
    "\n",
    "print(x)"
   ]
  },
  {
   "cell_type": "markdown",
   "id": "aeae5329",
   "metadata": {},
   "source": [
    "partition(): 문자열에 첫 번째로 등장하는 parameter 기준으로 문자열 나눔"
   ]
  },
  {
   "cell_type": "code",
   "execution_count": 67,
   "id": "9214bc92",
   "metadata": {},
   "outputs": [
    {
     "name": "stdout",
     "output_type": "stream",
     "text": [
      "('I ', 'c', 'ould eat bananas all day')\n"
     ]
    }
   ],
   "source": [
    "txt = \"I could eat bananas all day\"\n",
    "\n",
    "x = txt.partition(\"c\")\n",
    "\n",
    "print(x)"
   ]
  },
  {
   "cell_type": "markdown",
   "id": "b5a146da",
   "metadata": {},
   "source": [
    "rfind(): parameter를 오른쪽부터 찾아서 index 반환, 없으면 -1 반환"
   ]
  },
  {
   "cell_type": "code",
   "execution_count": 68,
   "id": "781e7eff",
   "metadata": {},
   "outputs": [
    {
     "name": "stdout",
     "output_type": "stream",
     "text": [
      "13\n"
     ]
    }
   ],
   "source": [
    "txt = \"Hello, welcome to my world.\"\n",
    "\n",
    "x = txt.rfind(\"e\")\n",
    "\n",
    "print(x)"
   ]
  },
  {
   "cell_type": "code",
   "execution_count": 69,
   "id": "610ac7a2",
   "metadata": {},
   "outputs": [
    {
     "name": "stdout",
     "output_type": "stream",
     "text": [
      "8\n"
     ]
    }
   ],
   "source": [
    "txt = \"Hello, welcome to my world.\"\n",
    "\n",
    "x = txt.rfind(\"e\", 5, 10)\n",
    "\n",
    "print(x)"
   ]
  },
  {
   "cell_type": "code",
   "execution_count": 71,
   "id": "25fcd19b",
   "metadata": {},
   "outputs": [
    {
     "name": "stdout",
     "output_type": "stream",
     "text": [
      "-1\n"
     ]
    }
   ],
   "source": [
    "txt = \"Hello, welcome to my world.\"\n",
    "\n",
    "print(txt.rfind(\"q\"))"
   ]
  },
  {
   "cell_type": "markdown",
   "id": "5cc3ca0f",
   "metadata": {},
   "source": [
    "rindex(): 오른쪽부터 parameter를 찾아 index 반환, 못 찾으면 에러 발생"
   ]
  },
  {
   "cell_type": "code",
   "execution_count": 72,
   "id": "399f148a",
   "metadata": {},
   "outputs": [
    {
     "name": "stdout",
     "output_type": "stream",
     "text": [
      "13\n"
     ]
    }
   ],
   "source": [
    "txt = \"Hello, welcome to my world.\"\n",
    "\n",
    "x = txt.rindex(\"e\")\n",
    "\n",
    "print(x)"
   ]
  },
  {
   "cell_type": "code",
   "execution_count": 73,
   "id": "6d0f7608",
   "metadata": {},
   "outputs": [
    {
     "name": "stdout",
     "output_type": "stream",
     "text": [
      "8\n"
     ]
    }
   ],
   "source": [
    "txt = \"Hello, welcome to my world.\"\n",
    "\n",
    "x = txt.rindex(\"e\", 5, 10)\n",
    "\n",
    "print(x)"
   ]
  },
  {
   "cell_type": "code",
   "execution_count": 75,
   "id": "7981244f",
   "metadata": {},
   "outputs": [],
   "source": [
    "# txt = \"Hello, welcome to my world.\"\n",
    "\n",
    "# print(txt.rindex(\"q\"))\n",
    "\n",
    "# ValueError: substring not found"
   ]
  },
  {
   "cell_type": "markdown",
   "id": "facc78e5",
   "metadata": {},
   "source": [
    "rjust(): 오른쪽부터 칸 수 확보"
   ]
  },
  {
   "cell_type": "code",
   "execution_count": 76,
   "id": "40b55baa",
   "metadata": {},
   "outputs": [
    {
     "name": "stdout",
     "output_type": "stream",
     "text": [
      "OOOOOOOOOOOOOObanana\n"
     ]
    }
   ],
   "source": [
    "txt = \"banana\"\n",
    "\n",
    "x = txt.rjust(20, \"O\")\n",
    "\n",
    "print(x)"
   ]
  },
  {
   "cell_type": "markdown",
   "id": "c79aba1c",
   "metadata": {},
   "source": [
    "rpartition(): 문자열 오른쪽에서 첫 번째로 등장하는 parameter 기준으로 문자열 나눔"
   ]
  },
  {
   "cell_type": "code",
   "execution_count": 79,
   "id": "52f04710",
   "metadata": {},
   "outputs": [
    {
     "name": "stdout",
     "output_type": "stream",
     "text": [
      "('I could eat bananas all day, bananas are my favorite fru', 'i', 't')\n"
     ]
    }
   ],
   "source": [
    "txt = \"I could eat bananas all day, bananas are my favorite fruit\"\n",
    "\n",
    "x = txt.rpartition(\"i\")\n",
    "\n",
    "print(x)"
   ]
  },
  {
   "cell_type": "markdown",
   "id": "5d39e026",
   "metadata": {},
   "source": [
    "rsplit(): 오른쪽을 기준으로 문자열 쪼갬  \n",
    "maxsplit 값은 몇 번 쪼갤 것인지 정함"
   ]
  },
  {
   "cell_type": "code",
   "execution_count": 85,
   "id": "4b2813f7",
   "metadata": {},
   "outputs": [
    {
     "name": "stdout",
     "output_type": "stream",
     "text": [
      "['apple', 'banana', 'cherry']\n"
     ]
    }
   ],
   "source": [
    "txt = \"apple, banana, cherry\"\n",
    "\n",
    "# setting the maxsplit parameter to 1, will return a list with 2 elements!\n",
    "x = txt.rsplit(\", \", 2)\n",
    "\n",
    "print(x)"
   ]
  },
  {
   "cell_type": "markdown",
   "id": "c797fa36",
   "metadata": {},
   "source": [
    "rstrip(): 문자열의 오른쪽의 parameter 제거"
   ]
  },
  {
   "cell_type": "code",
   "execution_count": 88,
   "id": "b1fba220",
   "metadata": {},
   "outputs": [
    {
     "name": "stdout",
     "output_type": "stream",
     "text": [
      "banana\n"
     ]
    }
   ],
   "source": [
    "txt = \"banana,,,,,ssqqqww.....\"\n",
    "\n",
    "x = txt.rstrip(\",.qsw\")\n",
    "\n",
    "print(x)"
   ]
  },
  {
   "cell_type": "markdown",
   "id": "497b35f9",
   "metadata": {},
   "source": [
    "splitlines(): 문자열을 line으로 쪼갠 후 list 반환  \n",
    "parameter값이 True면 특수기호 포함, False면 미포함(default False)"
   ]
  },
  {
   "cell_type": "code",
   "execution_count": 90,
   "id": "67ff77e7",
   "metadata": {},
   "outputs": [
    {
     "name": "stdout",
     "output_type": "stream",
     "text": [
      "['Thank you for the music', 'Welcome to the jungle']\n"
     ]
    }
   ],
   "source": [
    "txt = \"Thank you for the music\\nWelcome to the jungle\"\n",
    "\n",
    "x = txt.splitlines()\n",
    "\n",
    "print(x)"
   ]
  },
  {
   "cell_type": "markdown",
   "id": "4946fd94",
   "metadata": {},
   "source": [
    "startswith(): 문자열이 parameter로 시작하면 True, 아니면 False"
   ]
  },
  {
   "cell_type": "code",
   "execution_count": 91,
   "id": "5213b22d",
   "metadata": {},
   "outputs": [
    {
     "name": "stdout",
     "output_type": "stream",
     "text": [
      "True\n"
     ]
    }
   ],
   "source": [
    "txt = \"Hello, welcome to my world.\"\n",
    "\n",
    "x = txt.startswith(\"wel\", 7, 20)\n",
    "\n",
    "print(x)"
   ]
  },
  {
   "cell_type": "markdown",
   "id": "24efaab4",
   "metadata": {},
   "source": [
    "swapcase(): 문자열의 대문자, 소문자 swap"
   ]
  },
  {
   "cell_type": "code",
   "execution_count": 92,
   "id": "0e76c9dc",
   "metadata": {},
   "outputs": [
    {
     "name": "stdout",
     "output_type": "stream",
     "text": [
      "hELLO mY nAME iS peter\n"
     ]
    }
   ],
   "source": [
    "txt = \"Hello My Name Is PETER\"\n",
    "\n",
    "x = txt.swapcase()\n",
    "\n",
    "print(x)"
   ]
  },
  {
   "cell_type": "markdown",
   "id": "ad8f304c",
   "metadata": {},
   "source": [
    "title(): 문자열을 title로 만들어줌(각 단어 첫 글자를 upper 변환)"
   ]
  },
  {
   "cell_type": "code",
   "execution_count": 93,
   "id": "95d66064",
   "metadata": {},
   "outputs": [
    {
     "name": "stdout",
     "output_type": "stream",
     "text": [
      "Welcome To My World\n"
     ]
    }
   ],
   "source": [
    "txt = \"Welcome to my world\"\n",
    "\n",
    "x = txt.title()\n",
    "\n",
    "print(x)"
   ]
  },
  {
   "cell_type": "markdown",
   "id": "2538a5e8",
   "metadata": {},
   "source": [
    "upper(): 대문자로 변환"
   ]
  },
  {
   "cell_type": "code",
   "execution_count": 94,
   "id": "d0c565d3",
   "metadata": {},
   "outputs": [
    {
     "name": "stdout",
     "output_type": "stream",
     "text": [
      "HELLO MY FRIENDS\n"
     ]
    }
   ],
   "source": [
    "txt = \"Hello my friends\"\n",
    "\n",
    "x = txt.upper()\n",
    "\n",
    "print(x)"
   ]
  },
  {
   "cell_type": "markdown",
   "id": "92da556b",
   "metadata": {},
   "source": [
    "zfill(): 문자열 길이가 parameter에 맞게끔 왼쪽부터 0을 붙여줌"
   ]
  },
  {
   "cell_type": "code",
   "execution_count": 95,
   "id": "1305d3e4",
   "metadata": {},
   "outputs": [
    {
     "name": "stdout",
     "output_type": "stream",
     "text": [
      "00000hello\n",
      "welcome to the jungle\n",
      "000010.000\n"
     ]
    }
   ],
   "source": [
    "a = \"hello\"\n",
    "b = \"welcome to the jungle\"\n",
    "c = \"10.000\"\n",
    "\n",
    "print(a.zfill(10))\n",
    "print(b.zfill(10))\n",
    "print(c.zfill(10))"
   ]
  },
  {
   "cell_type": "code",
   "execution_count": null,
   "id": "e31034e2",
   "metadata": {},
   "outputs": [],
   "source": []
  }
 ],
 "metadata": {
  "kernelspec": {
   "display_name": "Python 3",
   "language": "python",
   "name": "python3"
  },
  "language_info": {
   "codemirror_mode": {
    "name": "ipython",
    "version": 3
   },
   "file_extension": ".py",
   "mimetype": "text/x-python",
   "name": "python",
   "nbconvert_exporter": "python",
   "pygments_lexer": "ipython3",
   "version": "3.8.8"
  }
 },
 "nbformat": 4,
 "nbformat_minor": 5
}
