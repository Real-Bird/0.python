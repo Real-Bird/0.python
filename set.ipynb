{
 "cells": [
  {
   "cell_type": "markdown",
   "id": "84ffeacc",
   "metadata": {},
   "source": [
    "## SET  생성\n",
    "\n",
    "1. 변수명 = {요소1, 요소2, 요소3......}<br>\n",
    "2. 순서 X, 변경 X, 중복 허용X<br>\n",
    "3. 중복을 없애고 데이터를 새로 받을 때 사용"
   ]
  },
  {
   "cell_type": "code",
   "execution_count": 2,
   "id": "d7a983ae",
   "metadata": {},
   "outputs": [
    {
     "data": {
      "text/plain": [
       "{1, 2, 3, 4, 5}"
      ]
     },
     "execution_count": 2,
     "metadata": {},
     "output_type": "execute_result"
    }
   ],
   "source": [
    "a = {1, 3, 4, 5,3, 2}\n",
    "a"
   ]
  },
  {
   "cell_type": "code",
   "execution_count": 5,
   "id": "69cd264c",
   "metadata": {},
   "outputs": [
    {
     "data": {
      "text/plain": [
       "[1, 1, 2, 2, 3, 4, 5, 5, 7, 8]"
      ]
     },
     "execution_count": 5,
     "metadata": {},
     "output_type": "execute_result"
    }
   ],
   "source": [
    "a1 = [1, 1, 2, 2, 3, 4, 5, 5, 7, 8]; a1"
   ]
  },
  {
   "cell_type": "code",
   "execution_count": 7,
   "id": "2f6eea0c",
   "metadata": {},
   "outputs": [
    {
     "data": {
      "text/plain": [
       "[1, 2, 3, 4, 5, 7, 8]"
      ]
     },
     "execution_count": 7,
     "metadata": {},
     "output_type": "execute_result"
    }
   ],
   "source": [
    "list(set(a1))"
   ]
  },
  {
   "cell_type": "code",
   "execution_count": 8,
   "id": "1d45a039",
   "metadata": {},
   "outputs": [
    {
     "data": {
      "text/plain": [
       "set"
      ]
     },
     "execution_count": 8,
     "metadata": {},
     "output_type": "execute_result"
    }
   ],
   "source": [
    "type(a)"
   ]
  },
  {
   "cell_type": "code",
   "execution_count": 9,
   "id": "db4b9283",
   "metadata": {},
   "outputs": [
    {
     "name": "stdout",
     "output_type": "stream",
     "text": [
      "{'a', 'b', 'c'}\n",
      "{1, 2, 3}\n",
      "{False, True}\n"
     ]
    }
   ],
   "source": [
    "set1 = {\"a\", \"b\", \"c\", \"a\"}\n",
    "set2 = {1, 2, 3, 2, 1}\n",
    "set3 = {False, True, True}\n",
    "print(set1)\n",
    "print(set2)\n",
    "print(set3)"
   ]
  },
  {
   "cell_type": "code",
   "execution_count": 15,
   "id": "15cf8103",
   "metadata": {},
   "outputs": [
    {
     "data": {
      "text/plain": [
       "{1, 2, False, 'a'}"
      ]
     },
     "execution_count": 15,
     "metadata": {},
     "output_type": "execute_result"
    }
   ],
   "source": [
    "# 1 -> True, 0 -> False로 인식\n",
    "\n",
    "set4= {1 ,2, \"a\", \"a\", 2, True, False}\n",
    "set4"
   ]
  },
  {
   "cell_type": "code",
   "execution_count": 16,
   "id": "06f0a431",
   "metadata": {},
   "outputs": [
    {
     "data": {
      "text/plain": [
       "{'a', 'b', 'c', 'f'}"
      ]
     },
     "execution_count": 16,
     "metadata": {},
     "output_type": "execute_result"
    }
   ],
   "source": [
    "set1.add(\"f\")\n",
    "set1"
   ]
  },
  {
   "cell_type": "code",
   "execution_count": 17,
   "id": "75e7e0e4",
   "metadata": {},
   "outputs": [
    {
     "data": {
      "text/plain": [
       "{1, False, 'a'}"
      ]
     },
     "execution_count": 17,
     "metadata": {},
     "output_type": "execute_result"
    }
   ],
   "source": [
    "set5 = {\"a\", 1, False}\n",
    "set5"
   ]
  },
  {
   "cell_type": "code",
   "execution_count": 18,
   "id": "cb252f6f",
   "metadata": {},
   "outputs": [],
   "source": [
    "set5.clear()"
   ]
  },
  {
   "cell_type": "code",
   "execution_count": 19,
   "id": "6b327588",
   "metadata": {},
   "outputs": [
    {
     "data": {
      "text/plain": [
       "set()"
      ]
     },
     "execution_count": 19,
     "metadata": {},
     "output_type": "execute_result"
    }
   ],
   "source": [
    "set5"
   ]
  },
  {
   "cell_type": "code",
   "execution_count": 20,
   "id": "171894b2",
   "metadata": {},
   "outputs": [
    {
     "data": {
      "text/plain": [
       "{'a', 'b', 'c', 'f'}"
      ]
     },
     "execution_count": 20,
     "metadata": {},
     "output_type": "execute_result"
    }
   ],
   "source": [
    "x = set1.copy(); x"
   ]
  },
  {
   "cell_type": "code",
   "execution_count": 63,
   "id": "64130b48",
   "metadata": {},
   "outputs": [
    {
     "data": {
      "text/plain": [
       "{1}"
      ]
     },
     "execution_count": 63,
     "metadata": {},
     "output_type": "execute_result"
    }
   ],
   "source": [
    "x = {1, 2, 3}\n",
    "y = {2, 3, 4}\n",
    "z = x.difference(y)\n",
    "z"
   ]
  },
  {
   "cell_type": "code",
   "execution_count": 64,
   "id": "fd72753b",
   "metadata": {},
   "outputs": [
    {
     "data": {
      "text/plain": [
       "{4}"
      ]
     },
     "execution_count": 64,
     "metadata": {},
     "output_type": "execute_result"
    }
   ],
   "source": [
    "y.difference(x)"
   ]
  },
  {
   "cell_type": "code",
   "execution_count": 23,
   "id": "cf11f74c",
   "metadata": {},
   "outputs": [
    {
     "data": {
      "text/plain": [
       "{1, 2, 3, 4}"
      ]
     },
     "execution_count": 23,
     "metadata": {},
     "output_type": "execute_result"
    }
   ],
   "source": [
    "x.union(y)"
   ]
  },
  {
   "cell_type": "code",
   "execution_count": 31,
   "id": "4a0113ec",
   "metadata": {},
   "outputs": [
    {
     "data": {
      "text/plain": [
       "{1}"
      ]
     },
     "execution_count": 31,
     "metadata": {},
     "output_type": "execute_result"
    }
   ],
   "source": [
    "x.difference_update(y);x"
   ]
  },
  {
   "cell_type": "code",
   "execution_count": 34,
   "id": "04fd7601",
   "metadata": {},
   "outputs": [
    {
     "data": {
      "text/plain": [
       "{1, 2, 3}"
      ]
     },
     "execution_count": 34,
     "metadata": {},
     "output_type": "execute_result"
    }
   ],
   "source": [
    "x = {1, 2, 3}\n",
    "x.discard(4) #항목 제거\n",
    "x"
   ]
  },
  {
   "cell_type": "code",
   "execution_count": 35,
   "id": "5059b044",
   "metadata": {},
   "outputs": [
    {
     "data": {
      "text/plain": [
       "{2, 3}"
      ]
     },
     "execution_count": 35,
     "metadata": {},
     "output_type": "execute_result"
    }
   ],
   "source": [
    "x = {1, 2, 3}\n",
    "y = {2, 3, 4}\n",
    "x.intersection(y)"
   ]
  },
  {
   "cell_type": "code",
   "execution_count": 46,
   "id": "f027cd1d",
   "metadata": {},
   "outputs": [
    {
     "name": "stdout",
     "output_type": "stream",
     "text": [
      "공통 숫자 :  [2, 3]\n"
     ]
    }
   ],
   "source": [
    "# set 사용하지 않고\n",
    "# for, if만 사용하여\n",
    "#x1과 y1에 공통으로 있는 숫자 찾기\n",
    "x1 = [1, 2, 3]\n",
    "y1 = [2, 3 ,4]\n",
    "k = []\n",
    "for i in x1:\n",
    "    for j in y1:\n",
    "        if i == j:\n",
    "            k.append(i)\n",
    "print(\"공통 숫자 : \", k)"
   ]
  },
  {
   "cell_type": "code",
   "execution_count": 47,
   "id": "786cc2d3",
   "metadata": {},
   "outputs": [
    {
     "name": "stdout",
     "output_type": "stream",
     "text": [
      "공통 숫자 :  [2, 3]\n"
     ]
    }
   ],
   "source": [
    "k1 = []\n",
    "for i in x1:\n",
    "    if i in y1:\n",
    "        k1.append(i)\n",
    "print(\"공통 숫자 : \", k1)"
   ]
  },
  {
   "cell_type": "code",
   "execution_count": 50,
   "id": "6eb0c606",
   "metadata": {},
   "outputs": [
    {
     "data": {
      "text/plain": [
       "{2, 3}"
      ]
     },
     "execution_count": 50,
     "metadata": {},
     "output_type": "execute_result"
    }
   ],
   "source": [
    "z = set(x1).intersection(set(y1))\n",
    "z"
   ]
  },
  {
   "cell_type": "code",
   "execution_count": 53,
   "id": "3216b5ac",
   "metadata": {},
   "outputs": [
    {
     "data": {
      "text/plain": [
       "True"
      ]
     },
     "execution_count": 53,
     "metadata": {},
     "output_type": "execute_result"
    }
   ],
   "source": [
    "x = {1, 2, 3}\n",
    "y = {2, 3 ,4}\n",
    "z = {5, 6, 7}\n",
    "x.isdisjoint(y) # 중복된 숫자가 있으면 False, 없으면 True\n",
    "x.isdisjoint(z)"
   ]
  },
  {
   "cell_type": "code",
   "execution_count": 54,
   "id": "419d7361",
   "metadata": {},
   "outputs": [
    {
     "data": {
      "text/plain": [
       "False"
      ]
     },
     "execution_count": 54,
     "metadata": {},
     "output_type": "execute_result"
    }
   ],
   "source": [
    "x = {1, 2, 3}\n",
    "y = {2, 3 ,4, 5, 6}\n",
    "x.issubset(y) # 앞의 객체가 뒤의 객체에 포함되었으면 True"
   ]
  },
  {
   "cell_type": "code",
   "execution_count": 55,
   "id": "cdf422d6",
   "metadata": {},
   "outputs": [
    {
     "data": {
      "text/plain": [
       "True"
      ]
     },
     "execution_count": 55,
     "metadata": {},
     "output_type": "execute_result"
    }
   ],
   "source": [
    "x = {2, 3}\n",
    "y = {2, 3 ,4, 5, 6}\n",
    "x.issubset(y)"
   ]
  },
  {
   "cell_type": "code",
   "execution_count": 59,
   "id": "4d76e7e4",
   "metadata": {},
   "outputs": [
    {
     "data": {
      "text/plain": [
       "False"
      ]
     },
     "execution_count": 59,
     "metadata": {},
     "output_type": "execute_result"
    }
   ],
   "source": [
    "x = {2, 3}\n",
    "y = {2, 3 ,4, 5, 6}\n",
    "x.issuperset(y)"
   ]
  },
  {
   "cell_type": "code",
   "execution_count": 58,
   "id": "20964296",
   "metadata": {},
   "outputs": [
    {
     "data": {
      "text/plain": [
       "True"
      ]
     },
     "execution_count": 58,
     "metadata": {},
     "output_type": "execute_result"
    }
   ],
   "source": [
    "x = {2, 3}\n",
    "y = {2, 3 ,4, 5, 6}\n",
    "y.issuperset(x) # 앞의 객체가 뒤의 객체를 포함하면 True"
   ]
  },
  {
   "cell_type": "code",
   "execution_count": 61,
   "id": "7ebef579",
   "metadata": {},
   "outputs": [
    {
     "data": {
      "text/plain": [
       "{1, 2, 3, 4, 5, 6, 7}"
      ]
     },
     "execution_count": 61,
     "metadata": {},
     "output_type": "execute_result"
    }
   ],
   "source": [
    "x = {1, 2, 3, 7}\n",
    "y = {2, 3 ,4, 5, 6}\n",
    "x.union(y) # 합집합"
   ]
  },
  {
   "cell_type": "code",
   "execution_count": null,
   "id": "8e1d7eed",
   "metadata": {},
   "outputs": [],
   "source": []
  }
 ],
 "metadata": {
  "kernelspec": {
   "display_name": "Python 3",
   "language": "python",
   "name": "python3"
  },
  "language_info": {
   "codemirror_mode": {
    "name": "ipython",
    "version": 3
   },
   "file_extension": ".py",
   "mimetype": "text/x-python",
   "name": "python",
   "nbconvert_exporter": "python",
   "pygments_lexer": "ipython3",
   "version": "3.8.8"
  }
 },
 "nbformat": 4,
 "nbformat_minor": 5
}
