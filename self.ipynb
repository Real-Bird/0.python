{
 "cells": [
  {
   "cell_type": "markdown",
   "id": "55c14c6e",
   "metadata": {},
   "source": [
    "### n개 숫자의 중앙값 알고리즘"
   ]
  },
  {
   "cell_type": "code",
   "execution_count": 9,
   "id": "0fa2f093",
   "metadata": {},
   "outputs": [
    {
     "name": "stdout",
     "output_type": "stream",
     "text": [
      "32 45 78 11 24 35 32 25\n",
      "[11, 24, 25, 32, 32, 35, 45, 78]\n",
      "짝수 개수의 중앙값 =  32.0\n"
     ]
    }
   ],
   "source": [
    "n = list(sorted(map(int, input().split())))\n",
    "print(n)\n",
    "if len(n) % 2 == 0:\n",
    "    x = (n[(len(n)//2)-1] + n[(len(n)//2)]) / 2\n",
    "    print(\"짝수 개수의 중앙값 = \", x)\n",
    "else:\n",
    "    x = n[(len(n)//2)]\n",
    "    print(\"홀수 개수의 중앙값 = \", x)"
   ]
  },
  {
   "cell_type": "code",
   "execution_count": 17,
   "id": "2ec15977",
   "metadata": {},
   "outputs": [
    {
     "name": "stdout",
     "output_type": "stream",
     "text": [
      "2 2 -2 -2\n",
      "평균 =  0.0\n",
      "표준편차 =  2.0\n",
      "분산 =  4.0\n"
     ]
    }
   ],
   "source": [
    "n = list(sorted(map(int, input().split())))\n",
    "x = sum(n)/len(n)\n",
    "print(\"평균 = \", x)\n",
    "y = []\n",
    "for i in n:\n",
    "    y.append(abs(i))\n",
    "y1 = (sum(y)-x) / len(n)\n",
    "print(\"표준편차 = \", y1)\n",
    "z = []\n",
    "for i in n:\n",
    "    z.append(((i-x)**2))\n",
    "z1 = sum(z)/len(n)\n",
    "print(\"분산 = \", z1)"
   ]
  },
  {
   "cell_type": "code",
   "execution_count": 16,
   "id": "9de86b9f",
   "metadata": {},
   "outputs": [
    {
     "name": "stdout",
     "output_type": "stream",
     "text": [
      "4 0 0 -4\n",
      "평균 =  0.0\n",
      "표준편차 =  2.0\n",
      "분산 =  8.0\n"
     ]
    }
   ],
   "source": [
    "n = list(sorted(map(int, input().split())))\n",
    "x = sum(n)/len(n)\n",
    "print(\"평균 = \", x)\n",
    "y = []\n",
    "for i in n:\n",
    "    y.append(abs(i))\n",
    "y1 = (sum(y)-x) / len(n)\n",
    "print(\"표준편차 = \", y1)\n",
    "z = []\n",
    "for i in n:\n",
    "    z.append(((i-x)**2))\n",
    "z1 = sum(z)/len(n)\n",
    "print(\"분산 = \", z1)"
   ]
  },
  {
   "cell_type": "code",
   "execution_count": null,
   "id": "798f5fc4",
   "metadata": {},
   "outputs": [],
   "source": []
  }
 ],
 "metadata": {
  "kernelspec": {
   "display_name": "Python 3",
   "language": "python",
   "name": "python3"
  },
  "language_info": {
   "codemirror_mode": {
    "name": "ipython",
    "version": 3
   },
   "file_extension": ".py",
   "mimetype": "text/x-python",
   "name": "python",
   "nbconvert_exporter": "python",
   "pygments_lexer": "ipython3",
   "version": "3.8.8"
  }
 },
 "nbformat": 4,
 "nbformat_minor": 5
}
