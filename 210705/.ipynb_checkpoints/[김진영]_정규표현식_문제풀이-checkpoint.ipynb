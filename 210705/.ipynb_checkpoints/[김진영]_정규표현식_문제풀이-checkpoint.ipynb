{
 "cells": [
  {
   "cell_type": "code",
   "execution_count": 4,
   "id": "946878e3",
   "metadata": {},
   "outputs": [],
   "source": [
    "import re"
   ]
  },
  {
   "cell_type": "markdown",
   "id": "112688b4",
   "metadata": {},
   "source": [
    "### 1번"
   ]
  },
  {
   "cell_type": "code",
   "execution_count": 6,
   "id": "c8f091f5",
   "metadata": {},
   "outputs": [
    {
     "name": "stdout",
     "output_type": "stream",
     "text": [
      "핸드폰 번호 입력> 010-1111-2222\n",
      "정상 입력했습니다. 010-1111-2222\n"
     ]
    }
   ],
   "source": [
    "# 핸드폰전화번호를 입력받고 전화번호 형식에 맞는 지 확인하는 \n",
    "# 프로그램을 작성하세요.  \n",
    "# 단, 다음과 같은 형식이어야 합니다. 010-1111-2222 \n",
    "\n",
    "try:\n",
    "    phone = input(\"핸드폰 번호 입력> \")\n",
    "    result = re.search(\"^010-[\\d]{4}-[\\d]{4}$\", phone).group()\n",
    "    if phone == result:\n",
    "        print(\"정상 입력했습니다.\", phone)\n",
    "except:\n",
    "    print(\"잘못된 형식입니다.\")"
   ]
  },
  {
   "cell_type": "markdown",
   "id": "40bd90e1",
   "metadata": {},
   "source": [
    "### 2번"
   ]
  },
  {
   "cell_type": "code",
   "execution_count": 21,
   "id": "ce6f2a7e",
   "metadata": {},
   "outputs": [
    {
     "name": "stdout",
     "output_type": "stream",
     "text": [
      "생년월일 6자리 입력> 921211\n",
      "정상 입력했습니다. 921211\n"
     ]
    }
   ],
   "source": [
    "# 생년월일을 입력받고 형식에 맞는지  확인하는 \n",
    "# 프로그램을 작성하세요.  \n",
    "# 단,다음과 같은 형식이어야 합니다.     \n",
    "#     901211   즉, 년도2자리,  월2자리,  일2자리\n",
    "try:\n",
    "    birth = input(\"생년월일 6자리 입력> \")\n",
    "    ymd = re.search(\"^[\\d]{2}[0|1]{1}[\\d]{1}[0-3]{1}[\\d]{1}$\", birth).group()\n",
    "    if (ymd[2] == \"1\" and ymd[3] >= \"3\") or (ymd[4] == \"3\" and ymd[5] >= \"2\"):\n",
    "        print(\"잘못된 형식입니다.\")\n",
    "    else:\n",
    "        print(\"정상 입력했습니다.\", birth)\n",
    "except:\n",
    "    \n",
    "        print(\"잘못된 형식입니다.\")"
   ]
  },
  {
   "cell_type": "markdown",
   "id": "332a7a76",
   "metadata": {},
   "source": [
    "### 3번"
   ]
  },
  {
   "cell_type": "code",
   "execution_count": 22,
   "id": "7e22a3ca",
   "metadata": {},
   "outputs": [
    {
     "name": "stdout",
     "output_type": "stream",
     "text": [
      "주민등록번호 입력('-'포함)> 901211-1348776\n",
      "남자\n"
     ]
    }
   ],
   "source": [
    "# 주민등록번호를 입력받습니다. \n",
    "# 주민등록번호가 모두 숫자로 되어 있지 않으면, \"숫자로 입력하세요\".메세지 출력.\n",
    "# 주민등록번호가 14자리가 아니면 \"13자리로 입력하세요\" 메세지 출력. \n",
    "# 올바르게 입력되면 남자인지 여자인지 출력합니다.  \n",
    "# 7번째 자리가 1이면 \"남자\", 2면 \"여자\"\n",
    "# ex) 901211-1348776\n",
    "ssn = input(\"주민등록번호 입력('-'포함)> \")\n",
    "if len(ssn) != 14:\n",
    "    print(\"13자리로 입력하세요.\")\n",
    "else:\n",
    "    try:\n",
    "        res = re.search(\"^\\d{6}-[\\d]{7}$\", ssn).group().replace(\"-\",\"\")\n",
    "        if res[6] == \"1\" or res[6] == \"3\" or res[6] == \"9\":\n",
    "            print(\"남자\")\n",
    "        elif res[6] == \"2\" or res[6] == \"4\" or res[6] == \"0\":\n",
    "            print(\"여자\")\n",
    "        elif int(res[6]) >= 5 or int(res[6]) <= 8:\n",
    "            print(\"외국인\")\n",
    "        else:\n",
    "            print(\"유효하지 않습니다.\")   \n",
    "    except:\n",
    "        print(\"숫자를 입력하세요\")"
   ]
  },
  {
   "cell_type": "code",
   "execution_count": null,
   "id": "e2773275",
   "metadata": {},
   "outputs": [],
   "source": []
  }
 ],
 "metadata": {
  "kernelspec": {
   "display_name": "Python 3",
   "language": "python",
   "name": "python3"
  },
  "language_info": {
   "codemirror_mode": {
    "name": "ipython",
    "version": 3
   },
   "file_extension": ".py",
   "mimetype": "text/x-python",
   "name": "python",
   "nbconvert_exporter": "python",
   "pygments_lexer": "ipython3",
   "version": "3.8.8"
  }
 },
 "nbformat": 4,
 "nbformat_minor": 5
}
