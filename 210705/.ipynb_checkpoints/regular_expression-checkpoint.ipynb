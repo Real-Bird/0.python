{
 "cells": [
  {
   "cell_type": "code",
   "execution_count": 1,
   "id": "af0c5d62",
   "metadata": {},
   "outputs": [
    {
     "data": {
      "text/plain": [
       "<re.Match object; span=(4, 5), match='a'>"
      ]
     },
     "execution_count": 1,
     "metadata": {},
     "output_type": "execute_result"
    }
   ],
   "source": [
    "# 정규표현식 모듈\n",
    "import re\n",
    "r = re.compile('[ab]') # a 또는 b 문자 패턴 객체\n",
    "\n",
    "r.search(\"pizza\")"
   ]
  },
  {
   "cell_type": "code",
   "execution_count": 5,
   "id": "e90a2580",
   "metadata": {},
   "outputs": [
    {
     "data": {
      "text/plain": [
       "<re.Match object; span=(0, 1), match='a'>"
      ]
     },
     "execution_count": 5,
     "metadata": {},
     "output_type": "execute_result"
    }
   ],
   "source": [
    "r.match(\"pizza\") # 무조건 문자열 처음부터 패턴 매칭 되는지 확인\n",
    "# a or b로 시작하는지 찾음\n",
    "r.match(\"absolute\")"
   ]
  },
  {
   "cell_type": "code",
   "execution_count": 7,
   "id": "5c72e04c",
   "metadata": {},
   "outputs": [
    {
     "data": {
      "text/plain": [
       "<re.Match object; span=(1, 2), match='p'>"
      ]
     },
     "execution_count": 7,
     "metadata": {},
     "output_type": "execute_result"
    }
   ],
   "source": [
    "re.search(\"[pP]\", \"apPle\")"
   ]
  },
  {
   "cell_type": "markdown",
   "id": "8bfdf64e",
   "metadata": {},
   "source": [
    "### 정규표현식 메타 문자"
   ]
  },
  {
   "cell_type": "code",
   "execution_count": 12,
   "id": "039657f5",
   "metadata": {},
   "outputs": [
    {
     "data": {
      "text/plain": [
       "<re.Match object; span=(0, 3), match='abc'>"
      ]
     },
     "execution_count": 12,
     "metadata": {},
     "output_type": "execute_result"
    }
   ],
   "source": [
    "# . : 임의의 한글자 의미\n",
    "r = re.compile(\"a.c\") # . 자리는 한글자 오되 모든 문자 가능\n",
    "r.search(\"abc\")"
   ]
  },
  {
   "cell_type": "code",
   "execution_count": 14,
   "id": "fd99a6e7",
   "metadata": {},
   "outputs": [],
   "source": [
    "r.search(\"affc\") # 패턴에 맞는 문자열 없음"
   ]
  },
  {
   "cell_type": "code",
   "execution_count": 15,
   "id": "af15e89f",
   "metadata": {},
   "outputs": [],
   "source": [
    "r.search(\"ac\") # 패턴에 맞는 문자열 없음"
   ]
  },
  {
   "cell_type": "code",
   "execution_count": 20,
   "id": "b7bb674f",
   "metadata": {},
   "outputs": [
    {
     "data": {
      "text/plain": [
       "<re.Match object; span=(0, 2), match='cw'>"
      ]
     },
     "execution_count": 20,
     "metadata": {},
     "output_type": "execute_result"
    }
   ],
   "source": [
    "# ? : 바로 앞 문자가 하나 또는 0개 존재\n",
    "r = re.compile(\"ck?w\") # c와 w는 꼭 있어야 함. k는 옵션\n",
    "r.search(\"cw\")"
   ]
  },
  {
   "cell_type": "code",
   "execution_count": 21,
   "id": "61921598",
   "metadata": {},
   "outputs": [
    {
     "data": {
      "text/plain": [
       "<re.Match object; span=(0, 3), match='ckw'>"
      ]
     },
     "execution_count": 21,
     "metadata": {},
     "output_type": "execute_result"
    }
   ],
   "source": [
    "r.search(\"ckw\")"
   ]
  },
  {
   "cell_type": "code",
   "execution_count": 23,
   "id": "26b58c02",
   "metadata": {},
   "outputs": [],
   "source": [
    "r.search(\"ckkw\") # 패턴에 맞는 문자열 없음\n",
    "# 패턴: ? 앞에 k가 1개 또는 0개, but k가 2개 존재"
   ]
  },
  {
   "cell_type": "code",
   "execution_count": 24,
   "id": "047495a0",
   "metadata": {},
   "outputs": [
    {
     "data": {
      "text/plain": [
       "<re.Match object; span=(0, 4), match='ckkw'>"
      ]
     },
     "execution_count": 24,
     "metadata": {},
     "output_type": "execute_result"
    }
   ],
   "source": [
    "# * : 바로 앞 문자가 0개 이상\n",
    "r = re.compile(\"ck*w\")\n",
    "r.search(\"ckkw\")"
   ]
  },
  {
   "cell_type": "code",
   "execution_count": 25,
   "id": "b47f435a",
   "metadata": {},
   "outputs": [
    {
     "data": {
      "text/plain": [
       "<re.Match object; span=(0, 2), match='cw'>"
      ]
     },
     "execution_count": 25,
     "metadata": {},
     "output_type": "execute_result"
    }
   ],
   "source": [
    "r.search(\"cw\")"
   ]
  },
  {
   "cell_type": "code",
   "execution_count": 26,
   "id": "9752c78b",
   "metadata": {},
   "outputs": [],
   "source": [
    "r.search(\"ckaw\") # 패턴에 맞는 문자열 없음\n",
    "# 패턴: * 앞에 k가 0개 이상, but k자리에 a가 존재"
   ]
  },
  {
   "cell_type": "code",
   "execution_count": 27,
   "id": "9289cdfe",
   "metadata": {},
   "outputs": [
    {
     "data": {
      "text/plain": [
       "<re.Match object; span=(0, 12), match='ckkkkkkkkkkw'>"
      ]
     },
     "execution_count": 27,
     "metadata": {},
     "output_type": "execute_result"
    }
   ],
   "source": [
    "# + : 바로 앞 문자가 반드시 1개 이상 존재해야 함\n",
    "r = re.compile(\"ck+w\")\n",
    "r.search(\"ckkkkkkkkkkw\")"
   ]
  },
  {
   "cell_type": "code",
   "execution_count": 29,
   "id": "ed41bd92",
   "metadata": {},
   "outputs": [],
   "source": [
    "r.search(\"cw\") # 패턴에 맞는 문자열 없음\n",
    "r.search(\"ckaw\") # 패턴에 맞는 문자열 없음\n",
    "# 패턴: + 앞에 k가 반드시 1개 이상, but k가 없거나 k자리에 a가 존재"
   ]
  },
  {
   "cell_type": "code",
   "execution_count": 41,
   "id": "80d48349",
   "metadata": {},
   "outputs": [
    {
     "data": {
      "text/plain": [
       "<re.Match object; span=(0, 1), match='c'>"
      ]
     },
     "execution_count": 41,
     "metadata": {},
     "output_type": "execute_result"
    }
   ],
   "source": [
    "# ^ : 다음 문자로 시작 확인\n",
    "r = re.compile(\"^c\")\n",
    "r.search(\"ckw\")"
   ]
  },
  {
   "cell_type": "code",
   "execution_count": 43,
   "id": "cc976bd9",
   "metadata": {},
   "outputs": [],
   "source": [
    "r.search(\"kw\") # 패턴에 맞는 문자열 없음\n",
    "# 패턴: ^ 다음 c가 왔으므로 문자열은 c로 시작"
   ]
  },
  {
   "cell_type": "code",
   "execution_count": 44,
   "id": "a2d9407c",
   "metadata": {},
   "outputs": [
    {
     "data": {
      "text/plain": [
       "<re.Match object; span=(0, 3), match='ckc'>"
      ]
     },
     "execution_count": 44,
     "metadata": {},
     "output_type": "execute_result"
    }
   ],
   "source": [
    "r = re.compile(\"^c.c\")\n",
    "r.search(\"ckc\")"
   ]
  },
  {
   "cell_type": "code",
   "execution_count": 45,
   "id": "1f60d74e",
   "metadata": {},
   "outputs": [],
   "source": [
    "r.search(\"aacacaa\") # 패턴에 맞는 문자열 없음\n",
    "# 패턴: c로 시작하고 세 번째 문자가 c이면서 사이에 아무 문자 하나 존재"
   ]
  },
  {
   "cell_type": "code",
   "execution_count": 46,
   "id": "4f7f0fb8",
   "metadata": {},
   "outputs": [
    {
     "data": {
      "text/plain": [
       "<re.Match object; span=(3, 6), match='ckc'>"
      ]
     },
     "execution_count": 46,
     "metadata": {},
     "output_type": "execute_result"
    }
   ],
   "source": [
    "r = re.compile(\"c.c\")\n",
    "r.search(\"aaackcaaa\")"
   ]
  },
  {
   "cell_type": "code",
   "execution_count": 47,
   "id": "3393c897",
   "metadata": {},
   "outputs": [
    {
     "data": {
      "text/plain": [
       "<re.Match object; span=(0, 3), match='ckc'>"
      ]
     },
     "execution_count": 47,
     "metadata": {},
     "output_type": "execute_result"
    }
   ],
   "source": [
    "# $ : 앞의 문자로 종료\n",
    "r = re.compile(\"c.c$\")\n",
    "r.search(\"ckc\")"
   ]
  },
  {
   "cell_type": "code",
   "execution_count": 49,
   "id": "bea64922",
   "metadata": {},
   "outputs": [],
   "source": [
    "r.search(\"ckca\") # 패턴에 맞는 문자열 없음\n",
    "# 패턴: $ 앞에 c가 있으므로 문자열 마지막은 c"
   ]
  },
  {
   "cell_type": "code",
   "execution_count": 88,
   "id": "8f31e04d",
   "metadata": {},
   "outputs": [
    {
     "data": {
      "text/plain": [
       "<re.Match object; span=(0, 1), match='a'>"
      ]
     },
     "execution_count": 88,
     "metadata": {},
     "output_type": "execute_result"
    }
   ],
   "source": [
    "# [^문자1문자2...] : [] 안에 문자들을 제외, 개별 문자로 인식\n",
    "r1 = re.compile(\"[^c.c]\")\n",
    "r1.search(\"aaackcaaa\")"
   ]
  },
  {
   "cell_type": "code",
   "execution_count": 95,
   "id": "7a216067",
   "metadata": {},
   "outputs": [
    {
     "name": "stdout",
     "output_type": "stream",
     "text": [
      "<re.Match object; span=(0, 1), match='a'>\n",
      "<re.Match object; span=(3, 4), match='.'>\n"
     ]
    }
   ],
   "source": [
    "# [] 안에서는 모든 문자가 낱개로 인식, 밖에서는 역할로 인식\n",
    "#example\n",
    "r2 = re.compile(\".\") # 아무 문자나 1개\n",
    "r3 = re.compile(\"[.]\") # .(period)가 있는가\n",
    "print(r2.search(\"abc.\"))\n",
    "print(r3.search(\"abc.\"))"
   ]
  },
  {
   "cell_type": "code",
   "execution_count": 87,
   "id": "41eaa2a8",
   "metadata": {},
   "outputs": [
    {
     "data": {
      "text/plain": [
       "<re.Match object; span=(2, 3), match='a'>"
      ]
     },
     "execution_count": 87,
     "metadata": {},
     "output_type": "execute_result"
    }
   ],
   "source": [
    "r1.search(\"c.a\") # [^.]의 .은 모든 문자 1개가 아닌 period 제외"
   ]
  },
  {
   "cell_type": "code",
   "execution_count": 61,
   "id": "1ea7c121",
   "metadata": {},
   "outputs": [
    {
     "data": {
      "text/plain": [
       "<re.Match object; span=(12, 13), match='z'>"
      ]
     },
     "execution_count": 61,
     "metadata": {},
     "output_type": "execute_result"
    }
   ],
   "source": [
    "#r = re.compile(\"abcdef\") # == [a-f]\n",
    "r = re.compile(\"[a-z]\") # 소문자 a부터 z까지 문자 검증\n",
    "r.search(\"000111222333zaaaabbbccc\")"
   ]
  },
  {
   "cell_type": "code",
   "execution_count": 65,
   "id": "9867edca",
   "metadata": {},
   "outputs": [
    {
     "data": {
      "text/plain": [
       "<re.Match object; span=(5, 6), match='A'>"
      ]
     },
     "execution_count": 65,
     "metadata": {},
     "output_type": "execute_result"
    }
   ],
   "source": [
    "r = re.compile(\"[A-Za-z]\") # 대문자 A부터 Z까지 or 소문자 a부터 z까지 문자 검증\n",
    "r.search(\"00011AABB1222333zaaaabbbccc\")"
   ]
  },
  {
   "cell_type": "code",
   "execution_count": 72,
   "id": "71a43252",
   "metadata": {},
   "outputs": [
    {
     "data": {
      "text/plain": [
       "<re.Match object; span=(0, 1), match='탈'>"
      ]
     },
     "execution_count": 72,
     "metadata": {},
     "output_type": "execute_result"
    }
   ],
   "source": [
    "r = re.compile(\"[가-힣]\")\n",
    "r.search(\"탈자[삽입 지시] 기호(⁁)\")"
   ]
  },
  {
   "cell_type": "code",
   "execution_count": 73,
   "id": "9e0cbb2a",
   "metadata": {},
   "outputs": [
    {
     "name": "stdout",
     "output_type": "stream",
     "text": [
      "경우는 \"배가 고프다\"라고 말했다\n"
     ]
    }
   ],
   "source": [
    "print(\"경우는 \\\"배가 고프다\\\"라고 말했다\")"
   ]
  },
  {
   "cell_type": "code",
   "execution_count": 74,
   "id": "30a1e680",
   "metadata": {},
   "outputs": [
    {
     "name": "stdout",
     "output_type": "stream",
     "text": [
      "\"를 쓰려면 \\를 \"앞에 붙여야 해\n"
     ]
    }
   ],
   "source": [
    "print(\"\\\"를 쓰려면 \\\\를 \\\"앞에 붙여야 해\")"
   ]
  },
  {
   "cell_type": "code",
   "execution_count": 75,
   "id": "a49beedb",
   "metadata": {},
   "outputs": [
    {
     "name": "stdout",
     "output_type": "stream",
     "text": [
      "경우는 '배가 고프다'라고 생각했다\n"
     ]
    }
   ],
   "source": [
    "print(\"경우는 '배가 고프다'라고 생각했다\")"
   ]
  },
  {
   "cell_type": "code",
   "execution_count": 83,
   "id": "8c89d172",
   "metadata": {},
   "outputs": [
    {
     "name": "stdout",
     "output_type": "stream",
     "text": [
      "문자열을 쓰려면 ''를 쓰거나 \\\"\\\"를 써야 해\n",
      "''로 시작했으면 \"\"를 포함하거나 \\'\\'이렇게 써야 해\n",
      "즉, 문자열 시작종료와 같은 쿼테이션이 \\없이 중복되어서는 안 돼\n"
     ]
    }
   ],
   "source": [
    "print(\"문자열을 쓰려면 ''를 쓰거나 \\\\\\\"\\\\\\\"를 써야 해\\n\\\n",
    "''로 시작했으면 \\\"\\\"를 포함하거나 \\\\'\\\\'이렇게 써야 해\\n\\\n",
    "즉, 문자열 시작종료와 같은 쿼테이션이 \\\\없이 중복되어서는 안 돼\")"
   ]
  },
  {
   "cell_type": "markdown",
   "id": "430f8f19",
   "metadata": {},
   "source": [
    "### 정규표현식 축약 표현"
   ]
  },
  {
   "cell_type": "code",
   "execution_count": 82,
   "id": "da4af0eb",
   "metadata": {},
   "outputs": [
    {
     "data": {
      "text/plain": [
       "<re.Match object; span=(8, 12), match='7000'>"
      ]
     },
     "execution_count": 82,
     "metadata": {},
     "output_type": "execute_result"
    }
   ],
   "source": [
    "# \\d == [0-9]\n",
    "r = re.compile(\"\\d+\")\n",
    "r.search(\"햄버거는 무려 7000원이나 함\")"
   ]
  },
  {
   "cell_type": "code",
   "execution_count": 116,
   "id": "02d9f57e",
   "metadata": {},
   "outputs": [
    {
     "data": {
      "text/plain": [
       "<re.Match object; span=(0, 8), match='햄버거는 무려 '>"
      ]
     },
     "execution_count": 116,
     "metadata": {},
     "output_type": "execute_result"
    }
   ],
   "source": [
    "# \\D == [^0-9]\n",
    "r = re.compile(\"\\D+\")\n",
    "r.search(\"햄버거는 무려 7000원이나 함\")"
   ]
  },
  {
   "cell_type": "code",
   "execution_count": 97,
   "id": "698775ec",
   "metadata": {},
   "outputs": [],
   "source": [
    "# \\s == [\\t\\n\\r\\f\\v]"
   ]
  },
  {
   "cell_type": "code",
   "execution_count": 98,
   "id": "423e673b",
   "metadata": {},
   "outputs": [],
   "source": [
    "# \\S == [^\\t\\n\\r\\f\\v]"
   ]
  },
  {
   "cell_type": "code",
   "execution_count": 101,
   "id": "1db9d02b",
   "metadata": {},
   "outputs": [
    {
     "data": {
      "text/plain": [
       "<re.Match object; span=(9, 16), match='asf4156'>"
      ]
     },
     "execution_count": 101,
     "metadata": {},
     "output_type": "execute_result"
    }
   ],
   "source": [
    "# \\w == [a-zA-Z0-9]\n",
    "r = re.compile(\"\\w+\")\n",
    "r.search(\"!@##$^$%^asf4156\")"
   ]
  },
  {
   "cell_type": "code",
   "execution_count": 102,
   "id": "3b297623",
   "metadata": {},
   "outputs": [
    {
     "data": {
      "text/plain": [
       "<re.Match object; span=(0, 9), match='!@##$^$%^'>"
      ]
     },
     "execution_count": 102,
     "metadata": {},
     "output_type": "execute_result"
    }
   ],
   "source": [
    "# \\W == [^a-zA-Z0-9]\n",
    "r = re.compile(\"\\W+\")\n",
    "r.search(\"!@##$^$%^asf4156\")"
   ]
  },
  {
   "cell_type": "code",
   "execution_count": 103,
   "id": "962da8c3",
   "metadata": {},
   "outputs": [
    {
     "data": {
      "text/plain": [
       "['marbil815@gmail.com']"
      ]
     },
     "execution_count": 103,
     "metadata": {},
     "output_type": "execute_result"
    }
   ],
   "source": [
    "# 이메일 검증 정규표현식\n",
    "r = re.compile(\"^[a-zA-Z0-9-_.\\S]+@[a-zA-Z0-9]+\\.[a-zA-Z0-9-.]+$\")\n",
    "r.findall(\"marbil815@gmail.com\")"
   ]
  },
  {
   "cell_type": "code",
   "execution_count": 152,
   "id": "7c49ab6c",
   "metadata": {},
   "outputs": [
    {
     "data": {
      "text/plain": [
       "['marbil815@gmail.com']"
      ]
     },
     "execution_count": 152,
     "metadata": {},
     "output_type": "execute_result"
    }
   ],
   "source": [
    "# 이메일 검증 정규표현식 축약\n",
    "r = re.compile(\"^[\\w.\\S]+@\\w+\\.[\\w.]+$\")\n",
    "r.findall(\"marbil815@gmail.com\")"
   ]
  },
  {
   "cell_type": "code",
   "execution_count": 117,
   "id": "293aad93",
   "metadata": {},
   "outputs": [
    {
     "data": {
      "text/plain": [
       "<re.Match object; span=(8, 12), match='7000'>"
      ]
     },
     "execution_count": 117,
     "metadata": {},
     "output_type": "execute_result"
    }
   ],
   "source": [
    "r = re.compile(\"\\d+\")\n",
    "res = r.search(\"햄버거는 무려 7000원이나 함\"); res"
   ]
  },
  {
   "cell_type": "code",
   "execution_count": 118,
   "id": "9dfc7469",
   "metadata": {},
   "outputs": [
    {
     "data": {
      "text/plain": [
       "8"
      ]
     },
     "execution_count": 118,
     "metadata": {},
     "output_type": "execute_result"
    }
   ],
   "source": [
    "res.start()"
   ]
  },
  {
   "cell_type": "code",
   "execution_count": 119,
   "id": "935afedc",
   "metadata": {},
   "outputs": [
    {
     "data": {
      "text/plain": [
       "12"
      ]
     },
     "execution_count": 119,
     "metadata": {},
     "output_type": "execute_result"
    }
   ],
   "source": [
    "res.end()"
   ]
  },
  {
   "cell_type": "code",
   "execution_count": 120,
   "id": "12747062",
   "metadata": {},
   "outputs": [
    {
     "data": {
      "text/plain": [
       "(8, 12)"
      ]
     },
     "execution_count": 120,
     "metadata": {},
     "output_type": "execute_result"
    }
   ],
   "source": [
    "res.span()"
   ]
  },
  {
   "cell_type": "code",
   "execution_count": 121,
   "id": "10e36e69",
   "metadata": {},
   "outputs": [
    {
     "data": {
      "text/plain": [
       "'7000'"
      ]
     },
     "execution_count": 121,
     "metadata": {},
     "output_type": "execute_result"
    }
   ],
   "source": [
    "res.group()"
   ]
  },
  {
   "cell_type": "markdown",
   "id": "8650fd4a",
   "metadata": {},
   "source": [
    "### search() 와 match() 차이"
   ]
  },
  {
   "cell_type": "code",
   "execution_count": 122,
   "id": "0d736f2d",
   "metadata": {},
   "outputs": [
    {
     "data": {
      "text/plain": [
       "<re.Match object; span=(3, 7), match='1992'>"
      ]
     },
     "execution_count": 122,
     "metadata": {},
     "output_type": "execute_result"
    }
   ],
   "source": [
    "re.search(\"\\d+\", \"나는 1992년 8월 15일생이다.\")"
   ]
  },
  {
   "cell_type": "code",
   "execution_count": 125,
   "id": "c775548a",
   "metadata": {},
   "outputs": [],
   "source": [
    "# 문자열의 시작이 패턴과 일치해야 찾음.\n",
    "re.match(\"\\d+\", \"나는 1992년 8월 15일생이다.\")\n",
    "# == re.search(\"^\\d+\", \"나는 1992년 8월 15일생이다.\")"
   ]
  },
  {
   "cell_type": "code",
   "execution_count": 126,
   "id": "697ac7d8",
   "metadata": {},
   "outputs": [
    {
     "data": {
      "text/plain": [
       "<re.Match object; span=(0, 4), match='1992'>"
      ]
     },
     "execution_count": 126,
     "metadata": {},
     "output_type": "execute_result"
    }
   ],
   "source": [
    "re.match(\"\\d+\", \"1992년 8월 15일생 중 하나가 나다.\")"
   ]
  },
  {
   "cell_type": "code",
   "execution_count": 128,
   "id": "c89b5697",
   "metadata": {},
   "outputs": [],
   "source": [
    "# findall() : 정규식 패턴에 일치하는 모든 문자열 찾음\n",
    "me = re.findall(\"\\d+\", \"나는 1992년 8월 15일생이다.\")"
   ]
  },
  {
   "cell_type": "code",
   "execution_count": 130,
   "id": "b1f10300",
   "metadata": {},
   "outputs": [
    {
     "name": "stdout",
     "output_type": "stream",
     "text": [
      "1992\n",
      "8\n",
      "15\n"
     ]
    }
   ],
   "source": [
    "for i in me:\n",
    "    print(i)"
   ]
  },
  {
   "cell_type": "code",
   "execution_count": 149,
   "id": "61a4b6c0",
   "metadata": {},
   "outputs": [
    {
     "name": "stdout",
     "output_type": "stream",
     "text": [
      "(0, 2) 나는\n",
      "(3, 8) 1992년\n",
      "(9, 11) 8월\n",
      "(12, 18) 15일생이다\n"
     ]
    }
   ],
   "source": [
    "# finditer() : iterable 객체로 저장\n",
    "res = re.finditer(\"\\w+\", \"나는 1992년 8월 15일생이다.\")\n",
    "for i in res:\n",
    "    print(i.span(),i.group(),end=\"\\n\")"
   ]
  },
  {
   "cell_type": "code",
   "execution_count": 153,
   "id": "e4f2507f",
   "metadata": {},
   "outputs": [
    {
     "name": "stdout",
     "output_type": "stream",
     "text": [
      "<re.Match object; span=(0, 3), match='100'>\n",
      "<re.Match object; span=(0, 3), match='100'>\n",
      "<re.Match object; span=(0, 3), match='abc'>\n",
      "<re.Match object; span=(0, 3), match='abc'>\n",
      "<re.Match object; span=(0, 3), match='100'>\n",
      "<re.Match object; span=(0, 1), match='a'>\n",
      "<re.Match object; span=(0, 1), match='b'>\n"
     ]
    }
   ],
   "source": [
    "print(re.search(\"^\\d\\d\\d$\",\"100\"))  \t# 아래와 동일    \n",
    "print(re.search(\"^\\d{3}$\", \"100\"))  \n",
    "\n",
    " \n",
    "print(re.search(\"^\\w\\w\\w$\",\"abc\"))  \t#아래와 동일   \n",
    "print(re.search(\"^\\w{3}$\" , \"abc\"))  \t  \n",
    "\n",
    "\n",
    "##숫자 1~3자리   \n",
    "print(re.search(\"^\\d{1,3}$\",\"100\"))  \n",
    "\n",
    "\n",
    "##a 또는 b    \n",
    "print(re.search(\"^(a|b)$\",\"a\"))   # a또는 b로 시작하는가?    \n",
    "print(re.search(\"^(a|b)$\",\"b\"))   # a또는 b로 시작하는가?    "
   ]
  },
  {
   "cell_type": "code",
   "execution_count": 159,
   "id": "fd10814d",
   "metadata": {},
   "outputs": [
    {
     "name": "stdout",
     "output_type": "stream",
     "text": [
      "abc123@.\n"
     ]
    }
   ],
   "source": [
    "print(re.search(\"^[\\w\\S.]{8}$\",\"abc123@.\").group()) "
   ]
  },
  {
   "cell_type": "code",
   "execution_count": 161,
   "id": "3255d106",
   "metadata": {},
   "outputs": [
    {
     "data": {
      "text/plain": [
       "['Apple Orange ', ' Grape Cherry ', ' Mango Durian']"
      ]
     },
     "execution_count": 161,
     "metadata": {},
     "output_type": "execute_result"
    }
   ],
   "source": [
    "# split() : 문자열을 구분자 기준으로 나누기\n",
    "# :으로 나눔\n",
    "re.split(\"[:]+\",\"Apple Orange : Grape Cherry : Mango Durian\")"
   ]
  },
  {
   "cell_type": "code",
   "execution_count": 162,
   "id": "75e3f2a0",
   "metadata": {},
   "outputs": [
    {
     "data": {
      "text/plain": [
       "['Apple', 'Orange', 'Grape', 'Cherry', 'Mango', 'Durian']"
      ]
     },
     "execution_count": 162,
     "metadata": {},
     "output_type": "execute_result"
    }
   ],
   "source": [
    "# :과 공백으로 나눔\n",
    "re.split(\"[: ]+\",\"Apple Orange : Grape Cherry : Mango Durian\")"
   ]
  },
  {
   "cell_type": "code",
   "execution_count": 163,
   "id": "a2844810",
   "metadata": {},
   "outputs": [
    {
     "data": {
      "text/plain": [
       "'010**1234**5678'"
      ]
     },
     "execution_count": 163,
     "metadata": {},
     "output_type": "execute_result"
    }
   ],
   "source": [
    "# sub() : 주어진 패턴과 일치하는 문자 replace\n",
    "re.sub(\"-\",\"**\",\"010-1234-5678\")"
   ]
  },
  {
   "cell_type": "code",
   "execution_count": 167,
   "id": "e43ba7d4",
   "metadata": {},
   "outputs": [
    {
     "data": {
      "text/plain": [
       "'123456-*******'"
      ]
     },
     "execution_count": 167,
     "metadata": {},
     "output_type": "execute_result"
    }
   ],
   "source": [
    "re.sub(\"\\d{7}$\",\"*******\",\"123456-1234567\")"
   ]
  },
  {
   "cell_type": "code",
   "execution_count": 230,
   "id": "e5f97464",
   "metadata": {},
   "outputs": [
    {
     "name": "stdout",
     "output_type": "stream",
     "text": [
      "핸드폰 번호 입력> 010-1111-222ㅁ\n",
      "잘못된 형식입니다. 올바른 형식: 010-1111-2222\n"
     ]
    }
   ],
   "source": [
    "# 핸드폰전화번호를 입력받고 전화번호 형식에 맞는 지 확인하는 \n",
    "# 프로그램을 작성하세요.  \n",
    "# 단, 다음과 같은 형식이어야 합니다. 010-1111-2222 \n",
    "\n",
    "try:\n",
    "    phone = input(\"핸드폰 번호 입력> \")\n",
    "    result = re.search(\"^010-[\\d]{4}-[\\d]{4}$\", phone).group()\n",
    "    if phone == result:\n",
    "        print(\"정상 입력했습니다.\", phone)\n",
    "except:\n",
    "    print(\"잘못된 형식입니다. (올바른 형식: 010-1111-2222)\")"
   ]
  },
  {
   "cell_type": "code",
   "execution_count": 227,
   "id": "457c2323",
   "metadata": {},
   "outputs": [
    {
     "name": "stdout",
     "output_type": "stream",
     "text": [
      "잘못된 형식입니다.\n"
     ]
    }
   ],
   "source": [
    "# 생년월일을 입력받고 형식에 맞는지  확인하는 \n",
    "# 프로그램을 작성하세요.  \n",
    "# 단,다음과 같은 형식이어야 합니다.     \n",
    "#     901211   즉, 년도2자리,  월2자리,  일2자리\n",
    "try:\n",
    "    birth = input(\"생년월일 6자리 입력> \")\n",
    "    ymd = re.search(\"^[\\d]{2}[0|1]{1}[0-9]{1}[0-3]{1}[0-9]{1}$\", birth).group()\n",
    "    if (int(ymd[2]) == 1 and int(ymd[3]) >= 3) or (int(ymd[4]) == 3 and int(ymd[5]) >= 2):\n",
    "        print(\"잘못된 형식입니다.\")\n",
    "    else:\n",
    "        print(\"정상 입력했습니다.\", birth)\n",
    "except:\n",
    "    \n",
    "        print(\"잘못된 형식입니다.\")"
   ]
  },
  {
   "cell_type": "code",
   "execution_count": 225,
   "id": "adf7820d",
   "metadata": {},
   "outputs": [
    {
     "name": "stdout",
     "output_type": "stream",
     "text": [
      "생년월일 6자리 입력> 9208151\n",
      "잘못된 형식입니다.\n"
     ]
    }
   ],
   "source": []
  },
  {
   "cell_type": "code",
   "execution_count": 216,
   "id": "a0fe2a8a",
   "metadata": {},
   "outputs": [
    {
     "data": {
      "text/plain": [
       "'9'"
      ]
     },
     "execution_count": 216,
     "metadata": {},
     "output_type": "execute_result"
    }
   ],
   "source": []
  },
  {
   "cell_type": "code",
   "execution_count": null,
   "id": "6417a5d1",
   "metadata": {},
   "outputs": [],
   "source": []
  }
 ],
 "metadata": {
  "kernelspec": {
   "display_name": "Python 3",
   "language": "python",
   "name": "python3"
  },
  "language_info": {
   "codemirror_mode": {
    "name": "ipython",
    "version": 3
   },
   "file_extension": ".py",
   "mimetype": "text/x-python",
   "name": "python",
   "nbconvert_exporter": "python",
   "pygments_lexer": "ipython3",
   "version": "3.8.8"
  }
 },
 "nbformat": 4,
 "nbformat_minor": 5
}
