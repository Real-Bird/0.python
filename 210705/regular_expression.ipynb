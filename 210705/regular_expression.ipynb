{
 "cells": [
  {
   "cell_type": "code",
   "execution_count": 1,
   "id": "6bf64727",
   "metadata": {},
   "outputs": [
    {
     "data": {
      "text/plain": [
       "<re.Match object; span=(4, 5), match='a'>"
      ]
     },
     "execution_count": 1,
     "metadata": {},
     "output_type": "execute_result"
    }
   ],
   "source": [
    "# 정규표현식 모듈\n",
    "import re\n",
    "r = re.compile('[ab]') # a 또는 b 문자 패턴 객체\n",
    "\n",
    "r.search(\"pizza\")"
   ]
  },
  {
   "cell_type": "code",
   "execution_count": 5,
   "id": "5e0e8d37",
   "metadata": {},
   "outputs": [
    {
     "data": {
      "text/plain": [
       "<re.Match object; span=(0, 1), match='a'>"
      ]
     },
     "execution_count": 5,
     "metadata": {},
     "output_type": "execute_result"
    }
   ],
   "source": [
    "r.match(\"pizza\") # 무조건 문자열 처음부터 패턴 매칭 되는지 확인\n",
    "# a or b로 시작하는지 찾음\n",
    "r.match(\"absolute\")"
   ]
  },
  {
   "cell_type": "code",
   "execution_count": 7,
   "id": "248bd224",
   "metadata": {},
   "outputs": [
    {
     "data": {
      "text/plain": [
       "<re.Match object; span=(1, 2), match='p'>"
      ]
     },
     "execution_count": 7,
     "metadata": {},
     "output_type": "execute_result"
    }
   ],
   "source": [
    "re.search(\"[pP]\", \"apPle\")"
   ]
  },
  {
   "cell_type": "markdown",
   "id": "5a26dc53",
   "metadata": {},
   "source": [
    "### 정규표현식 메타 문자"
   ]
  },
  {
   "cell_type": "code",
   "execution_count": 12,
   "id": "2fddf1db",
   "metadata": {},
   "outputs": [
    {
     "data": {
      "text/plain": [
       "<re.Match object; span=(0, 3), match='abc'>"
      ]
     },
     "execution_count": 12,
     "metadata": {},
     "output_type": "execute_result"
    }
   ],
   "source": [
    "# . : 임의의 한글자 의미\n",
    "r = re.compile(\"a.c\") # . 자리는 한글자 오되 모든 문자 가능\n",
    "r.search(\"abc\")"
   ]
  },
  {
   "cell_type": "code",
   "execution_count": 14,
   "id": "20e3317e",
   "metadata": {},
   "outputs": [],
   "source": [
    "r.search(\"affc\") # 패턴에 맞는 문자열 없음"
   ]
  },
  {
   "cell_type": "code",
   "execution_count": 15,
   "id": "5b49f2ec",
   "metadata": {},
   "outputs": [],
   "source": [
    "r.search(\"ac\") # 패턴에 맞는 문자열 없음"
   ]
  },
  {
   "cell_type": "code",
   "execution_count": 20,
   "id": "7c7efb0d",
   "metadata": {},
   "outputs": [
    {
     "data": {
      "text/plain": [
       "<re.Match object; span=(0, 2), match='cw'>"
      ]
     },
     "execution_count": 20,
     "metadata": {},
     "output_type": "execute_result"
    }
   ],
   "source": [
    "# ? : 바로 앞 문자가 하나 또는 0개 존재\n",
    "r = re.compile(\"ck?w\") # c와 w는 꼭 있어야 함. k는 옵션\n",
    "r.search(\"cw\")"
   ]
  },
  {
   "cell_type": "code",
   "execution_count": 21,
   "id": "76a52367",
   "metadata": {},
   "outputs": [
    {
     "data": {
      "text/plain": [
       "<re.Match object; span=(0, 3), match='ckw'>"
      ]
     },
     "execution_count": 21,
     "metadata": {},
     "output_type": "execute_result"
    }
   ],
   "source": [
    "r.search(\"ckw\")"
   ]
  },
  {
   "cell_type": "code",
   "execution_count": 23,
   "id": "4713f424",
   "metadata": {},
   "outputs": [],
   "source": [
    "r.search(\"ckkw\") # 패턴에 맞는 문자열 없음\n",
    "# 패턴: ? 앞에 k가 1개 또는 0개, but k가 2개 존재"
   ]
  },
  {
   "cell_type": "code",
   "execution_count": 24,
   "id": "349a9d27",
   "metadata": {},
   "outputs": [
    {
     "data": {
      "text/plain": [
       "<re.Match object; span=(0, 4), match='ckkw'>"
      ]
     },
     "execution_count": 24,
     "metadata": {},
     "output_type": "execute_result"
    }
   ],
   "source": [
    "# * : 바로 앞 문자가 0개 이상\n",
    "r = re.compile(\"ck*w\")\n",
    "r.search(\"ckkw\")"
   ]
  },
  {
   "cell_type": "code",
   "execution_count": 25,
   "id": "e1d0ed81",
   "metadata": {},
   "outputs": [
    {
     "data": {
      "text/plain": [
       "<re.Match object; span=(0, 2), match='cw'>"
      ]
     },
     "execution_count": 25,
     "metadata": {},
     "output_type": "execute_result"
    }
   ],
   "source": [
    "r.search(\"cw\")"
   ]
  },
  {
   "cell_type": "code",
   "execution_count": 26,
   "id": "35f479e4",
   "metadata": {},
   "outputs": [],
   "source": [
    "r.search(\"ckaw\") # 패턴에 맞는 문자열 없음\n",
    "# 패턴: * 앞에 k가 0개 이상, but k자리에 a가 존재"
   ]
  },
  {
   "cell_type": "code",
   "execution_count": 27,
   "id": "d605a695",
   "metadata": {},
   "outputs": [
    {
     "data": {
      "text/plain": [
       "<re.Match object; span=(0, 12), match='ckkkkkkkkkkw'>"
      ]
     },
     "execution_count": 27,
     "metadata": {},
     "output_type": "execute_result"
    }
   ],
   "source": [
    "# + : 바로 앞 문자가 반드시 1개 이상 존재해야 함\n",
    "r = re.compile(\"ck+w\")\n",
    "r.search(\"ckkkkkkkkkkw\")"
   ]
  },
  {
   "cell_type": "code",
   "execution_count": 29,
   "id": "b4bf2b6d",
   "metadata": {},
   "outputs": [],
   "source": [
    "r.search(\"cw\") # 패턴에 맞는 문자열 없음\n",
    "r.search(\"ckaw\") # 패턴에 맞는 문자열 없음\n",
    "# 패턴: + 앞에 k가 반드시 1개 이상, but k가 없거나 k자리에 a가 존재"
   ]
  },
  {
   "cell_type": "code",
   "execution_count": 41,
   "id": "b1aba59b",
   "metadata": {},
   "outputs": [
    {
     "data": {
      "text/plain": [
       "<re.Match object; span=(0, 1), match='c'>"
      ]
     },
     "execution_count": 41,
     "metadata": {},
     "output_type": "execute_result"
    }
   ],
   "source": [
    "# ^ : 다음 문자로 시작 확인\n",
    "r = re.compile(\"^c\")\n",
    "r.search(\"ckw\")"
   ]
  },
  {
   "cell_type": "code",
   "execution_count": 43,
   "id": "f77ea43d",
   "metadata": {},
   "outputs": [],
   "source": [
    "r.search(\"kw\") # 패턴에 맞는 문자열 없음\n",
    "# 패턴: ^ 다음 c가 왔으므로 문자열은 c로 시작"
   ]
  },
  {
   "cell_type": "code",
   "execution_count": 44,
   "id": "c3b4f8b7",
   "metadata": {},
   "outputs": [
    {
     "data": {
      "text/plain": [
       "<re.Match object; span=(0, 3), match='ckc'>"
      ]
     },
     "execution_count": 44,
     "metadata": {},
     "output_type": "execute_result"
    }
   ],
   "source": [
    "r = re.compile(\"^c.c\")\n",
    "r.search(\"ckc\")"
   ]
  },
  {
   "cell_type": "code",
   "execution_count": 45,
   "id": "493d41e7",
   "metadata": {},
   "outputs": [],
   "source": [
    "r.search(\"aacacaa\") # 패턴에 맞는 문자열 없음\n",
    "# 패턴: c로 시작하고 세 번째 문자가 c이면서 사이에 아무 문자 하나 존재"
   ]
  },
  {
   "cell_type": "code",
   "execution_count": 46,
   "id": "b7a8a01e",
   "metadata": {},
   "outputs": [
    {
     "data": {
      "text/plain": [
       "<re.Match object; span=(3, 6), match='ckc'>"
      ]
     },
     "execution_count": 46,
     "metadata": {},
     "output_type": "execute_result"
    }
   ],
   "source": [
    "r = re.compile(\"c.c\")\n",
    "r.search(\"aaackcaaa\")"
   ]
  },
  {
   "cell_type": "code",
   "execution_count": 47,
   "id": "b8192ab9",
   "metadata": {},
   "outputs": [
    {
     "data": {
      "text/plain": [
       "<re.Match object; span=(0, 3), match='ckc'>"
      ]
     },
     "execution_count": 47,
     "metadata": {},
     "output_type": "execute_result"
    }
   ],
   "source": [
    "# $ : 앞의 문자로 종료\n",
    "r = re.compile(\"c.c$\")\n",
    "r.search(\"ckc\")"
   ]
  },
  {
   "cell_type": "code",
   "execution_count": 49,
   "id": "2cd019bc",
   "metadata": {},
   "outputs": [],
   "source": [
    "r.search(\"ckca\") # 패턴에 맞는 문자열 없음\n",
    "# 패턴: $ 앞에 c가 있으므로 문자열 마지막은 c"
   ]
  },
  {
   "cell_type": "code",
   "execution_count": 88,
   "id": "3dce1fdc",
   "metadata": {},
   "outputs": [
    {
     "data": {
      "text/plain": [
       "<re.Match object; span=(0, 1), match='a'>"
      ]
     },
     "execution_count": 88,
     "metadata": {},
     "output_type": "execute_result"
    }
   ],
   "source": [
    "# [^문자1문자2...] : [] 안에 문자들을 제외, 개별 문자로 인식\n",
    "r1 = re.compile(\"[^c.c]\")\n",
    "r1.search(\"aaackcaaa\")"
   ]
  },
  {
   "cell_type": "code",
   "execution_count": 95,
   "id": "f7f8029a",
   "metadata": {},
   "outputs": [
    {
     "name": "stdout",
     "output_type": "stream",
     "text": [
      "<re.Match object; span=(0, 1), match='a'>\n",
      "<re.Match object; span=(3, 4), match='.'>\n"
     ]
    }
   ],
   "source": [
    "# [] 안에서는 모든 문자가 낱개로 인식, 밖에서는 역할로 인식\n",
    "#example\n",
    "r2 = re.compile(\".\") # 아무 문자나 1개\n",
    "r3 = re.compile(\"[.]\") # .(period)가 있는가\n",
    "print(r2.search(\"abc.\"))\n",
    "print(r3.search(\"abc.\"))"
   ]
  },
  {
   "cell_type": "code",
   "execution_count": 87,
   "id": "f4cceed6",
   "metadata": {},
   "outputs": [
    {
     "data": {
      "text/plain": [
       "<re.Match object; span=(2, 3), match='a'>"
      ]
     },
     "execution_count": 87,
     "metadata": {},
     "output_type": "execute_result"
    }
   ],
   "source": [
    "r1.search(\"c.a\") # [^.]의 .은 모든 문자 1개가 아닌 period 제외"
   ]
  },
  {
   "cell_type": "code",
   "execution_count": 61,
   "id": "a03f3a66",
   "metadata": {},
   "outputs": [
    {
     "data": {
      "text/plain": [
       "<re.Match object; span=(12, 13), match='z'>"
      ]
     },
     "execution_count": 61,
     "metadata": {},
     "output_type": "execute_result"
    }
   ],
   "source": [
    "#r = re.compile(\"abcdef\") # == [a-f]\n",
    "r = re.compile(\"[a-z]\") # 소문자 a부터 z까지 문자 검증\n",
    "r.search(\"000111222333zaaaabbbccc\")"
   ]
  },
  {
   "cell_type": "code",
   "execution_count": 65,
   "id": "26cfe584",
   "metadata": {},
   "outputs": [
    {
     "data": {
      "text/plain": [
       "<re.Match object; span=(5, 6), match='A'>"
      ]
     },
     "execution_count": 65,
     "metadata": {},
     "output_type": "execute_result"
    }
   ],
   "source": [
    "r = re.compile(\"[A-Za-z]\") # 대문자 A부터 Z까지 or 소문자 a부터 z까지 문자 검증\n",
    "r.search(\"00011AABB1222333zaaaabbbccc\")"
   ]
  },
  {
   "cell_type": "code",
   "execution_count": 72,
   "id": "e80f2f65",
   "metadata": {},
   "outputs": [
    {
     "data": {
      "text/plain": [
       "<re.Match object; span=(0, 1), match='탈'>"
      ]
     },
     "execution_count": 72,
     "metadata": {},
     "output_type": "execute_result"
    }
   ],
   "source": [
    "r = re.compile(\"[가-힣]\")\n",
    "r.search(\"탈자[삽입 지시] 기호(⁁)\")"
   ]
  },
  {
   "cell_type": "code",
   "execution_count": 73,
   "id": "9326e25a",
   "metadata": {},
   "outputs": [
    {
     "name": "stdout",
     "output_type": "stream",
     "text": [
      "경우는 \"배가 고프다\"라고 말했다\n"
     ]
    }
   ],
   "source": [
    "print(\"경우는 \\\"배가 고프다\\\"라고 말했다\")"
   ]
  },
  {
   "cell_type": "code",
   "execution_count": 74,
   "id": "38539a7b",
   "metadata": {},
   "outputs": [
    {
     "name": "stdout",
     "output_type": "stream",
     "text": [
      "\"를 쓰려면 \\를 \"앞에 붙여야 해\n"
     ]
    }
   ],
   "source": [
    "print(\"\\\"를 쓰려면 \\\\를 \\\"앞에 붙여야 해\")"
   ]
  },
  {
   "cell_type": "code",
   "execution_count": 75,
   "id": "c9837845",
   "metadata": {},
   "outputs": [
    {
     "name": "stdout",
     "output_type": "stream",
     "text": [
      "경우는 '배가 고프다'라고 생각했다\n"
     ]
    }
   ],
   "source": [
    "print(\"경우는 '배가 고프다'라고 생각했다\")"
   ]
  },
  {
   "cell_type": "code",
   "execution_count": 83,
   "id": "7447e398",
   "metadata": {},
   "outputs": [
    {
     "name": "stdout",
     "output_type": "stream",
     "text": [
      "문자열을 쓰려면 ''를 쓰거나 \\\"\\\"를 써야 해\n",
      "''로 시작했으면 \"\"를 포함하거나 \\'\\'이렇게 써야 해\n",
      "즉, 문자열 시작종료와 같은 쿼테이션이 \\없이 중복되어서는 안 돼\n"
     ]
    }
   ],
   "source": [
    "print(\"문자열을 쓰려면 ''를 쓰거나 \\\\\\\"\\\\\\\"를 써야 해\\n\\\n",
    "''로 시작했으면 \\\"\\\"를 포함하거나 \\\\'\\\\'이렇게 써야 해\\n\\\n",
    "즉, 문자열 시작종료와 같은 쿼테이션이 \\\\없이 중복되어서는 안 돼\")"
   ]
  },
  {
   "cell_type": "markdown",
   "id": "12f700aa",
   "metadata": {},
   "source": [
    "### 정규표현식 축약 표현"
   ]
  },
  {
   "cell_type": "code",
   "execution_count": 82,
   "id": "f1579c3a",
   "metadata": {},
   "outputs": [
    {
     "data": {
      "text/plain": [
       "<re.Match object; span=(8, 12), match='7000'>"
      ]
     },
     "execution_count": 82,
     "metadata": {},
     "output_type": "execute_result"
    }
   ],
   "source": [
    "# \\d == [0-9]\n",
    "r = re.compile(\"\\d+\")\n",
    "r.search(\"햄버거는 무려 7000원이나 함\")"
   ]
  },
  {
   "cell_type": "code",
   "execution_count": 116,
   "id": "a8bd777a",
   "metadata": {},
   "outputs": [
    {
     "data": {
      "text/plain": [
       "<re.Match object; span=(0, 8), match='햄버거는 무려 '>"
      ]
     },
     "execution_count": 116,
     "metadata": {},
     "output_type": "execute_result"
    }
   ],
   "source": [
    "# \\D == [^0-9]\n",
    "r = re.compile(\"\\D+\")\n",
    "r.search(\"햄버거는 무려 7000원이나 함\")"
   ]
  },
  {
   "cell_type": "code",
   "execution_count": 97,
   "id": "aab2ae42",
   "metadata": {},
   "outputs": [],
   "source": [
    "# \\s == [\\t\\n\\r\\f\\v]"
   ]
  },
  {
   "cell_type": "code",
   "execution_count": 98,
   "id": "d09b6429",
   "metadata": {},
   "outputs": [],
   "source": [
    "# \\S == [^\\t\\n\\r\\f\\v]"
   ]
  },
  {
   "cell_type": "code",
   "execution_count": 101,
   "id": "25d92511",
   "metadata": {},
   "outputs": [
    {
     "data": {
      "text/plain": [
       "<re.Match object; span=(9, 16), match='asf4156'>"
      ]
     },
     "execution_count": 101,
     "metadata": {},
     "output_type": "execute_result"
    }
   ],
   "source": [
    "# \\w == [a-zA-Z0-9]\n",
    "r = re.compile(\"\\w+\")\n",
    "r.search(\"!@##$^$%^asf4156\")"
   ]
  },
  {
   "cell_type": "code",
   "execution_count": 102,
   "id": "c860a645",
   "metadata": {},
   "outputs": [
    {
     "data": {
      "text/plain": [
       "<re.Match object; span=(0, 9), match='!@##$^$%^'>"
      ]
     },
     "execution_count": 102,
     "metadata": {},
     "output_type": "execute_result"
    }
   ],
   "source": [
    "# \\W == [^a-zA-Z0-9]\n",
    "r = re.compile(\"\\W+\")\n",
    "r.search(\"!@##$^$%^asf4156\")"
   ]
  },
  {
   "cell_type": "code",
   "execution_count": 103,
   "id": "e1823433",
   "metadata": {},
   "outputs": [
    {
     "data": {
      "text/plain": [
       "['marbil815@gmail.com']"
      ]
     },
     "execution_count": 103,
     "metadata": {},
     "output_type": "execute_result"
    }
   ],
   "source": [
    "# 이메일 검증 정규표현식\n",
    "r = re.compile(\"^[a-zA-Z0-9-_.\\S]+@[a-zA-Z0-9]+\\.[a-zA-Z0-9-.]+$\")\n",
    "r.findall(\"marbil815@gmail.com\")"
   ]
  },
  {
   "cell_type": "code",
   "execution_count": 152,
   "id": "6f1c951c",
   "metadata": {},
   "outputs": [
    {
     "data": {
      "text/plain": [
       "['marbil815@gmail.com']"
      ]
     },
     "execution_count": 152,
     "metadata": {},
     "output_type": "execute_result"
    }
   ],
   "source": [
    "# 이메일 검증 정규표현식 축약\n",
    "r = re.compile(\"^[\\w.\\S]+@\\w+\\.[\\w.]+$\")\n",
    "r.findall(\"marbil815@gmail.com\")"
   ]
  },
  {
   "cell_type": "code",
   "execution_count": 117,
   "id": "f28eed5b",
   "metadata": {},
   "outputs": [
    {
     "data": {
      "text/plain": [
       "<re.Match object; span=(8, 12), match='7000'>"
      ]
     },
     "execution_count": 117,
     "metadata": {},
     "output_type": "execute_result"
    }
   ],
   "source": [
    "r = re.compile(\"\\d+\")\n",
    "res = r.search(\"햄버거는 무려 7000원이나 함\"); res"
   ]
  },
  {
   "cell_type": "code",
   "execution_count": 118,
   "id": "1f305212",
   "metadata": {},
   "outputs": [
    {
     "data": {
      "text/plain": [
       "8"
      ]
     },
     "execution_count": 118,
     "metadata": {},
     "output_type": "execute_result"
    }
   ],
   "source": [
    "res.start()"
   ]
  },
  {
   "cell_type": "code",
   "execution_count": 119,
   "id": "940ed7a5",
   "metadata": {},
   "outputs": [
    {
     "data": {
      "text/plain": [
       "12"
      ]
     },
     "execution_count": 119,
     "metadata": {},
     "output_type": "execute_result"
    }
   ],
   "source": [
    "res.end()"
   ]
  },
  {
   "cell_type": "code",
   "execution_count": 120,
   "id": "c715db83",
   "metadata": {},
   "outputs": [
    {
     "data": {
      "text/plain": [
       "(8, 12)"
      ]
     },
     "execution_count": 120,
     "metadata": {},
     "output_type": "execute_result"
    }
   ],
   "source": [
    "res.span()"
   ]
  },
  {
   "cell_type": "code",
   "execution_count": 121,
   "id": "63e74575",
   "metadata": {},
   "outputs": [
    {
     "data": {
      "text/plain": [
       "'7000'"
      ]
     },
     "execution_count": 121,
     "metadata": {},
     "output_type": "execute_result"
    }
   ],
   "source": [
    "res.group()"
   ]
  },
  {
   "cell_type": "markdown",
   "id": "fb2882c9",
   "metadata": {},
   "source": [
    "### search() 와 match() 차이"
   ]
  },
  {
   "cell_type": "code",
   "execution_count": 122,
   "id": "c362d2bb",
   "metadata": {},
   "outputs": [
    {
     "data": {
      "text/plain": [
       "<re.Match object; span=(3, 7), match='1992'>"
      ]
     },
     "execution_count": 122,
     "metadata": {},
     "output_type": "execute_result"
    }
   ],
   "source": [
    "re.search(\"\\d+\", \"나는 1992년 8월 15일생이다.\")"
   ]
  },
  {
   "cell_type": "code",
   "execution_count": 125,
   "id": "e2d773cb",
   "metadata": {},
   "outputs": [],
   "source": [
    "# 문자열의 시작이 패턴과 일치해야 찾음.\n",
    "re.match(\"\\d+\", \"나는 1992년 8월 15일생이다.\")\n",
    "# == re.search(\"^\\d+\", \"나는 1992년 8월 15일생이다.\")"
   ]
  },
  {
   "cell_type": "code",
   "execution_count": 126,
   "id": "7694138c",
   "metadata": {},
   "outputs": [
    {
     "data": {
      "text/plain": [
       "<re.Match object; span=(0, 4), match='1992'>"
      ]
     },
     "execution_count": 126,
     "metadata": {},
     "output_type": "execute_result"
    }
   ],
   "source": [
    "re.match(\"\\d+\", \"1992년 8월 15일생 중 하나가 나다.\")"
   ]
  },
  {
   "cell_type": "code",
   "execution_count": 128,
   "id": "1b6634d8",
   "metadata": {},
   "outputs": [],
   "source": [
    "# findall() : 정규식 패턴에 일치하는 모든 문자열 찾음\n",
    "me = re.findall(\"\\d+\", \"나는 1992년 8월 15일생이다.\")"
   ]
  },
  {
   "cell_type": "code",
   "execution_count": 130,
   "id": "1f098c24",
   "metadata": {},
   "outputs": [
    {
     "name": "stdout",
     "output_type": "stream",
     "text": [
      "1992\n",
      "8\n",
      "15\n"
     ]
    }
   ],
   "source": [
    "for i in me:\n",
    "    print(i)"
   ]
  },
  {
   "cell_type": "code",
   "execution_count": 149,
   "id": "7444aa74",
   "metadata": {},
   "outputs": [
    {
     "name": "stdout",
     "output_type": "stream",
     "text": [
      "(0, 2) 나는\n",
      "(3, 8) 1992년\n",
      "(9, 11) 8월\n",
      "(12, 18) 15일생이다\n"
     ]
    }
   ],
   "source": [
    "# finditer() : iterable 객체로 저장\n",
    "res = re.finditer(\"\\w+\", \"나는 1992년 8월 15일생이다.\")\n",
    "for i in res:\n",
    "    print(i.span(),i.group(),end=\"\\n\")"
   ]
  },
  {
   "cell_type": "code",
   "execution_count": 153,
   "id": "86dc67f2",
   "metadata": {},
   "outputs": [
    {
     "name": "stdout",
     "output_type": "stream",
     "text": [
      "<re.Match object; span=(0, 3), match='100'>\n",
      "<re.Match object; span=(0, 3), match='100'>\n",
      "<re.Match object; span=(0, 3), match='abc'>\n",
      "<re.Match object; span=(0, 3), match='abc'>\n",
      "<re.Match object; span=(0, 3), match='100'>\n",
      "<re.Match object; span=(0, 1), match='a'>\n",
      "<re.Match object; span=(0, 1), match='b'>\n"
     ]
    }
   ],
   "source": [
    "print(re.search(\"^\\d\\d\\d$\",\"100\"))  \t# 아래와 동일    \n",
    "print(re.search(\"^\\d{3}$\", \"100\"))  \n",
    "\n",
    " \n",
    "print(re.search(\"^\\w\\w\\w$\",\"abc\"))  \t#아래와 동일   \n",
    "print(re.search(\"^\\w{3}$\" , \"abc\"))  \t  \n",
    "\n",
    "\n",
    "##숫자 1~3자리   \n",
    "print(re.search(\"^\\d{1,3}$\",\"100\"))  \n",
    "\n",
    "\n",
    "##a 또는 b    \n",
    "print(re.search(\"^(a|b)$\",\"a\"))   # a또는 b로 시작하는가?    \n",
    "print(re.search(\"^(a|b)$\",\"b\"))   # a또는 b로 시작하는가?    "
   ]
  },
  {
   "cell_type": "code",
   "execution_count": 159,
   "id": "f326cd1e",
   "metadata": {},
   "outputs": [
    {
     "name": "stdout",
     "output_type": "stream",
     "text": [
      "abc123@.\n"
     ]
    }
   ],
   "source": [
    "print(re.search(\"^[\\w\\S.]{8}$\",\"abc123@.\").group()) "
   ]
  },
  {
   "cell_type": "code",
   "execution_count": 161,
   "id": "8a80ce4c",
   "metadata": {},
   "outputs": [
    {
     "data": {
      "text/plain": [
       "['Apple Orange ', ' Grape Cherry ', ' Mango Durian']"
      ]
     },
     "execution_count": 161,
     "metadata": {},
     "output_type": "execute_result"
    }
   ],
   "source": [
    "# split() : 문자열을 구분자 기준으로 나누기\n",
    "# :으로 나눔\n",
    "re.split(\"[:]+\",\"Apple Orange : Grape Cherry : Mango Durian\")"
   ]
  },
  {
   "cell_type": "code",
   "execution_count": 162,
   "id": "4e6c4cc0",
   "metadata": {},
   "outputs": [
    {
     "data": {
      "text/plain": [
       "['Apple', 'Orange', 'Grape', 'Cherry', 'Mango', 'Durian']"
      ]
     },
     "execution_count": 162,
     "metadata": {},
     "output_type": "execute_result"
    }
   ],
   "source": [
    "# :과 공백으로 나눔\n",
    "re.split(\"[: ]+\",\"Apple Orange : Grape Cherry : Mango Durian\")"
   ]
  },
  {
   "cell_type": "code",
   "execution_count": 163,
   "id": "0bdd46eb",
   "metadata": {},
   "outputs": [
    {
     "data": {
      "text/plain": [
       "'010**1234**5678'"
      ]
     },
     "execution_count": 163,
     "metadata": {},
     "output_type": "execute_result"
    }
   ],
   "source": [
    "# sub() : 주어진 패턴과 일치하는 문자 replace\n",
    "re.sub(\"-\",\"**\",\"010-1234-5678\")"
   ]
  },
  {
   "cell_type": "code",
   "execution_count": 167,
   "id": "7ded7694",
   "metadata": {},
   "outputs": [
    {
     "data": {
      "text/plain": [
       "'123456-*******'"
      ]
     },
     "execution_count": 167,
     "metadata": {},
     "output_type": "execute_result"
    }
   ],
   "source": [
    "re.sub(\"\\d{7}$\",\"*******\",\"123456-1234567\")"
   ]
  },
  {
   "cell_type": "markdown",
   "id": "68ad2c12",
   "metadata": {},
   "source": [
    "### 실습"
   ]
  },
  {
   "cell_type": "code",
   "execution_count": 230,
   "id": "13ae74b6",
   "metadata": {},
   "outputs": [
    {
     "name": "stdout",
     "output_type": "stream",
     "text": [
      "핸드폰 번호 입력> 010-1111-222ㅁ\n",
      "잘못된 형식입니다. 올바른 형식: 010-1111-2222\n"
     ]
    }
   ],
   "source": [
    "# 핸드폰전화번호를 입력받고 전화번호 형식에 맞는 지 확인하는 \n",
    "# 프로그램을 작성하세요.  \n",
    "# 단, 다음과 같은 형식이어야 합니다. 010-1111-2222 \n",
    "\n",
    "try:\n",
    "    phone = input(\"핸드폰 번호 입력> \")\n",
    "    result = re.search(\"^010-[\\d]{4}-[\\d]{4}$\", phone).group()\n",
    "    if phone == result:\n",
    "        print(\"정상 입력했습니다.\", phone)\n",
    "except:\n",
    "    print(\"잘못된 형식입니다. (올바른 형식: 010-1111-2222)\")"
   ]
  },
  {
   "cell_type": "code",
   "execution_count": 232,
   "id": "7e7c5162",
   "metadata": {},
   "outputs": [
    {
     "name": "stdout",
     "output_type": "stream",
     "text": [
      "생년월일 6자리 입력> 901211\n",
      "정상 입력했습니다. 901211\n"
     ]
    }
   ],
   "source": [
    "# 생년월일을 입력받고 형식에 맞는지  확인하는 \n",
    "# 프로그램을 작성하세요.  \n",
    "# 단,다음과 같은 형식이어야 합니다.     \n",
    "#     901211   즉, 년도2자리,  월2자리,  일2자리\n",
    "try:\n",
    "    birth = input(\"생년월일 6자리 입력> \")\n",
    "    ymd = re.search(\"^[\\d]{2}[0|1]{1}[\\d]{1}[0-3]{1}[\\d]{1}$\", birth).group()\n",
    "    if (ymd[2] == \"1\" and ymd[3] >= \"3\") or (ymd[4] == \"3\" and ymd[5] >= \"2\"):\n",
    "        print(\"잘못된 형식입니다.\")\n",
    "    else:\n",
    "        print(\"정상 입력했습니다.\", birth)\n",
    "except:\n",
    "    \n",
    "        print(\"잘못된 형식입니다.\")"
   ]
  },
  {
   "cell_type": "code",
   "execution_count": 231,
   "id": "3382d80a",
   "metadata": {},
   "outputs": [],
   "source": [
    "# 주민등록번호를 입력받습니다. \n",
    "# 주민등록번호가 모두 숫자로 되어 있지 않으면, \"숫자로 입력하세요\".메세지 출력.\n",
    "# 주민등록번호가 14자리가 아니면 \"13자리로 입력하세요\" 메세지 출력. \n",
    "# 올바르게 입력되면 남자인지 여자인지 출력합니다.  \n",
    "# 7번째 자리가 1이면 \"남자\", 2면 \"여자\"\n",
    "# ex) 901211-1348776"
   ]
  },
  {
   "cell_type": "code",
   "execution_count": 276,
   "id": "34f4ab2f",
   "metadata": {},
   "outputs": [
    {
     "name": "stdout",
     "output_type": "stream",
     "text": [
      "주민등록번호 입력('-'포함)> abcdef-asdqwer\n",
      "숫자를 입력하세요\n"
     ]
    }
   ],
   "source": [
    "ssn = input(\"주민등록번호 입력('-'포함)> \")\n",
    "if len(ssn) != 14:\n",
    "    print(\"13자리로 입력하세요.\")\n",
    "else:\n",
    "    try:\n",
    "        res = re.search(\"^\\d{6}-[\\d]{7}$\", ssn).group().replace(\"-\",\"\")\n",
    "        if res[6] == \"1\" or res[6] == \"3\" or res[6] == \"9\":\n",
    "            print(\"남자\")\n",
    "        elif res[6] == \"2\" or res[6] == \"4\" or res[6] == \"0\":\n",
    "            print(\"여자\")\n",
    "        elif int(res[6]) >= 5 or int(res[6]) <= 8:\n",
    "            print(\"외국인\")\n",
    "        else:\n",
    "            print(\"유효하지 않습니다.\")   \n",
    "    except:\n",
    "        print(\"숫자를 입력하세요\")"
   ]
  },
  {
   "cell_type": "code",
   "execution_count": 267,
   "id": "8c0d09ee",
   "metadata": {},
   "outputs": [
    {
     "name": "stdout",
     "output_type": "stream",
     "text": [
      "15\n"
     ]
    }
   ],
   "source": [
    "print(len(ssn))"
   ]
  },
  {
   "cell_type": "code",
   "execution_count": null,
   "id": "b1308c18",
   "metadata": {},
   "outputs": [],
   "source": []
  }
 ],
 "metadata": {
  "kernelspec": {
   "display_name": "Python 3",
   "language": "python",
   "name": "python3"
  },
  "language_info": {
   "codemirror_mode": {
    "name": "ipython",
    "version": 3
   },
   "file_extension": ".py",
   "mimetype": "text/x-python",
   "name": "python",
   "nbconvert_exporter": "python",
   "pygments_lexer": "ipython3",
   "version": "3.8.8"
  }
 },
 "nbformat": 4,
 "nbformat_minor": 5
}
