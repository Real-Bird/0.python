{
 "cells": [
  {
   "cell_type": "code",
   "execution_count": 4,
   "id": "950f9971",
   "metadata": {},
   "outputs": [
    {
     "name": "stdout",
     "output_type": "stream",
     "text": [
      "평단가 =  55790.0\n",
      "추매 개수 6567\n",
      "366,438,600\n"
     ]
    }
   ],
   "source": [
    "stock = 10\n",
    "price = 49223\n",
    "addstock = 1\n",
    "nowprice = 55800\n",
    "\n",
    "while True:\n",
    "    mystocks = stock * price\n",
    "    addstocks = addstock * nowprice\n",
    "    REF = (mystocks + addstocks) / (stock + addstock)\n",
    "    if REF % 5 == 0 :\n",
    "        break\n",
    "    addstock += 1\n",
    "print(\"평단가 = \", REF)\n",
    "print(\"추매 개수\", addstock)\n",
    "print(\"{:,d}\".format(addstock * nowprice))"
   ]
  },
  {
   "cell_type": "code",
   "execution_count": null,
   "id": "c421a9e0",
   "metadata": {},
   "outputs": [],
   "source": []
  }
 ],
 "metadata": {
  "kernelspec": {
   "display_name": "Python 3",
   "language": "python",
   "name": "python3"
  },
  "language_info": {
   "codemirror_mode": {
    "name": "ipython",
    "version": 3
   },
   "file_extension": ".py",
   "mimetype": "text/x-python",
   "name": "python",
   "nbconvert_exporter": "python",
   "pygments_lexer": "ipython3",
   "version": "3.8.8"
  }
 },
 "nbformat": 4,
 "nbformat_minor": 5
}
