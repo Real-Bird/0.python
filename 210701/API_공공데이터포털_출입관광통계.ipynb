{
 "cells": [
  {
   "cell_type": "code",
   "execution_count": 103,
   "id": "27356eb2",
   "metadata": {},
   "outputs": [],
   "source": [
    "my_key = \"LWzIQxzkc%2BeUq%2BQtoLVzpRCRy%2FvjodN7HU%2FY2NH6W%2Fj87kqP4avqY0Qfokhzd0dppcovgL%2BldJS398wibMSCXQ%3D%3D\""
   ]
  },
  {
   "cell_type": "code",
   "execution_count": 95,
   "id": "9c5561e8",
   "metadata": {},
   "outputs": [],
   "source": [
    "# my_key = \"0C6iX2Ww%2BnB9GVY6k9Et5H9zqv%2FxjEsldVq1Wa9Co3lvcuaRi%2BI3gcoFoi3AckHg6B8AAf1cH0tKH4MXhYf57A%3D%3D\""
   ]
  },
  {
   "cell_type": "code",
   "execution_count": 104,
   "id": "eb2ccff5",
   "metadata": {},
   "outputs": [],
   "source": [
    "end_point = \"http://openapi.tour.go.kr/openapi/service/\""
   ]
  },
  {
   "cell_type": "code",
   "execution_count": 105,
   "id": "c4e71a0f",
   "metadata": {},
   "outputs": [],
   "source": [
    "op_url = \"EdrcntTourismStatsService/getEdrcntTourismStatsList?\"\n",
    "#YM=201201&NAT_CD=100&ED_CD=D&serviceKey="
   ]
  },
  {
   "cell_type": "code",
   "execution_count": 106,
   "id": "397ac46d",
   "metadata": {},
   "outputs": [],
   "source": [
    "ym = \"202002\" ; nat_cd = \"112\" ; ed_cd = \"E\"\n",
    "param_ym = \"&YM=\" + ym\n",
    "param_nat_cd = \"&NAT_CD=\" + nat_cd\n",
    "param_ed_cd = \"&ED_CD=\" + ed_cd\n",
    "param_key = \"_type=json&serviceKey=\" + my_key"
   ]
  },
  {
   "cell_type": "code",
   "execution_count": 107,
   "id": "61306f17",
   "metadata": {},
   "outputs": [
    {
     "name": "stdout",
     "output_type": "stream",
     "text": [
      "http://openapi.tour.go.kr/openapi/service/EdrcntTourismStatsService/getEdrcntTourismStatsList?_type=json&serviceKey=LWzIQxzkc%2BeUq%2BQtoLVzpRCRy%2FvjodN7HU%2FY2NH6W%2Fj87kqP4avqY0Qfokhzd0dppcovgL%2BldJS398wibMSCXQ%3D%3D&YM=202002&NAT_CD=112&ED_CD=E\n"
     ]
    }
   ],
   "source": [
    "url = end_point + op_url + param_key + param_ym + param_nat_cd + param_ed_cd\n",
    "print(url)"
   ]
  },
  {
   "cell_type": "markdown",
   "id": "3046f98c",
   "metadata": {},
   "source": [
    "### DataFrame 만들기"
   ]
  },
  {
   "cell_type": "code",
   "execution_count": 6,
   "id": "87a37f8e",
   "metadata": {},
   "outputs": [],
   "source": [
    "import pandas as pd\n",
    "import urllib.request\n",
    "import json"
   ]
  },
  {
   "cell_type": "code",
   "execution_count": 23,
   "id": "6552330c",
   "metadata": {},
   "outputs": [],
   "source": [
    "res = urllib.request.urlopen(url)"
   ]
  },
  {
   "cell_type": "code",
   "execution_count": 24,
   "id": "7be2b533",
   "metadata": {},
   "outputs": [
    {
     "data": {
      "text/plain": [
       "'{\"response\":{\"header\":{\"resultCode\":\"0000\",\"resultMsg\":\"OK\"},\"body\":{\"items\":{\"item\":{\"ed\":\"방한외래관광객\",\"edCd\":\"E\",\"natCd\":112,\"natKorNm\":\"중  국\",\"num\":104086,\"rnum\":1,\"ym\":202002}},\"numOfRows\":10,\"pageNo\":1,\"totalCount\":1}}}'"
      ]
     },
     "execution_count": 24,
     "metadata": {},
     "output_type": "execute_result"
    }
   ],
   "source": [
    "json_str = res.read().decode(\"utf-8\"); json_str"
   ]
  },
  {
   "cell_type": "code",
   "execution_count": 25,
   "id": "7db4d26f",
   "metadata": {},
   "outputs": [],
   "source": [
    "json_object = json.loads(json_str)"
   ]
  },
  {
   "cell_type": "code",
   "execution_count": 26,
   "id": "9facb5db",
   "metadata": {},
   "outputs": [
    {
     "data": {
      "text/html": [
       "<div>\n",
       "<style scoped>\n",
       "    .dataframe tbody tr th:only-of-type {\n",
       "        vertical-align: middle;\n",
       "    }\n",
       "\n",
       "    .dataframe tbody tr th {\n",
       "        vertical-align: top;\n",
       "    }\n",
       "\n",
       "    .dataframe thead th {\n",
       "        text-align: right;\n",
       "    }\n",
       "</style>\n",
       "<table border=\"1\" class=\"dataframe\">\n",
       "  <thead>\n",
       "    <tr style=\"text-align: right;\">\n",
       "      <th></th>\n",
       "      <th>item</th>\n",
       "    </tr>\n",
       "  </thead>\n",
       "  <tbody>\n",
       "    <tr>\n",
       "      <th>ed</th>\n",
       "      <td>방한외래관광객</td>\n",
       "    </tr>\n",
       "    <tr>\n",
       "      <th>edCd</th>\n",
       "      <td>E</td>\n",
       "    </tr>\n",
       "    <tr>\n",
       "      <th>natCd</th>\n",
       "      <td>112</td>\n",
       "    </tr>\n",
       "    <tr>\n",
       "      <th>natKorNm</th>\n",
       "      <td>중  국</td>\n",
       "    </tr>\n",
       "    <tr>\n",
       "      <th>num</th>\n",
       "      <td>104086</td>\n",
       "    </tr>\n",
       "    <tr>\n",
       "      <th>rnum</th>\n",
       "      <td>1</td>\n",
       "    </tr>\n",
       "    <tr>\n",
       "      <th>ym</th>\n",
       "      <td>202002</td>\n",
       "    </tr>\n",
       "  </tbody>\n",
       "</table>\n",
       "</div>"
      ],
      "text/plain": [
       "             item\n",
       "ed        방한외래관광객\n",
       "edCd            E\n",
       "natCd         112\n",
       "natKorNm     중  국\n",
       "num        104086\n",
       "rnum            1\n",
       "ym         202002"
      ]
     },
     "execution_count": 26,
     "metadata": {},
     "output_type": "execute_result"
    }
   ],
   "source": [
    "pd.DataFrame(json_object[\"response\"][\"body\"][\"items\"])"
   ]
  },
  {
   "cell_type": "code",
   "execution_count": 27,
   "id": "53df2285",
   "metadata": {},
   "outputs": [
    {
     "data": {
      "text/html": [
       "<div>\n",
       "<style scoped>\n",
       "    .dataframe tbody tr th:only-of-type {\n",
       "        vertical-align: middle;\n",
       "    }\n",
       "\n",
       "    .dataframe tbody tr th {\n",
       "        vertical-align: top;\n",
       "    }\n",
       "\n",
       "    .dataframe thead th {\n",
       "        text-align: right;\n",
       "    }\n",
       "</style>\n",
       "<table border=\"1\" class=\"dataframe\">\n",
       "  <thead>\n",
       "    <tr style=\"text-align: right;\">\n",
       "      <th></th>\n",
       "      <th>item.ed</th>\n",
       "      <th>item.edCd</th>\n",
       "      <th>item.natCd</th>\n",
       "      <th>item.natKorNm</th>\n",
       "      <th>item.num</th>\n",
       "      <th>item.rnum</th>\n",
       "      <th>item.ym</th>\n",
       "    </tr>\n",
       "  </thead>\n",
       "  <tbody>\n",
       "    <tr>\n",
       "      <th>0</th>\n",
       "      <td>방한외래관광객</td>\n",
       "      <td>E</td>\n",
       "      <td>112</td>\n",
       "      <td>중  국</td>\n",
       "      <td>104086</td>\n",
       "      <td>1</td>\n",
       "      <td>202002</td>\n",
       "    </tr>\n",
       "  </tbody>\n",
       "</table>\n",
       "</div>"
      ],
      "text/plain": [
       "   item.ed item.edCd  item.natCd item.natKorNm  item.num  item.rnum  item.ym\n",
       "0  방한외래관광객         E         112          중  국    104086          1   202002"
      ]
     },
     "execution_count": 27,
     "metadata": {},
     "output_type": "execute_result"
    }
   ],
   "source": [
    "pd.json_normalize(json_object['response']['body']['items'])"
   ]
  },
  {
   "cell_type": "markdown",
   "id": "3e1aa6f5",
   "metadata": {},
   "source": [
    "### 출입국 데이터 만들기\n",
    "1. 국가 3개 -> 112(중국), 130(일본), 275(미국)\n",
    "2. 기간 -> 2019, 2020 년도\n",
    "    - 연도별 01월 ~ 12월\n",
    "3. 국가별, 연월별 방문객수 구하기\n",
    "    - [\"국가명\", \"년월\", \"방문객수\"]\n",
    "    - 총 데이터 개수 : 72개"
   ]
  },
  {
   "cell_type": "code",
   "execution_count": 28,
   "id": "7a85d49d",
   "metadata": {},
   "outputs": [],
   "source": [
    "# 4. 작업방법\n",
    "#     - url을 받아서 item을 return 해주는 함수 만들기\n",
    "#     - for 국가별\n",
    "#     -     for 연도\n",
    "#     -         for 월\n",
    "#     -            url 조합 후 함수 실행\n",
    "#     -            return 받은 데이터 -> DataFram에 합치기"
   ]
  },
  {
   "cell_type": "code",
   "execution_count": 108,
   "id": "c0383ce1",
   "metadata": {},
   "outputs": [],
   "source": [
    "import requests\n",
    "def get_item(url, params):\n",
    "    req = requests.get(url, params)\n",
    "    item = req.json()[\"response\"][\"body\"][\"items\"]\n",
    "    return item"
   ]
  },
  {
   "cell_type": "code",
   "execution_count": 109,
   "id": "fd16a477",
   "metadata": {},
   "outputs": [],
   "source": [
    "param_ym1 = [2019,2020]\n",
    "param_nat_cd1 = [\"112\", \"130\", \"275\"]"
   ]
  },
  {
   "cell_type": "code",
   "execution_count": 110,
   "id": "24a1fdda",
   "metadata": {},
   "outputs": [
    {
     "name": "stdout",
     "output_type": "stream",
     "text": [
      "http://openapi.tour.go.kr/openapi/service/EdrcntTourismStatsService/getEdrcntTourismStatsList?_type=json&serviceKey=LWzIQxzkc%2BeUq%2BQtoLVzpRCRy%2FvjodN7HU%2FY2NH6W%2Fj87kqP4avqY0Qfokhzd0dppcovgL%2BldJS398wibMSCXQ%3D%3D&YM=202002&NAT_CD=112&ED_CD=E\n"
     ]
    },
    {
     "ename": "KeyError",
     "evalue": "'body'",
     "output_type": "error",
     "traceback": [
      "\u001b[1;31m---------------------------------------------------------------------------\u001b[0m",
      "\u001b[1;31mKeyError\u001b[0m                                  Traceback (most recent call last)",
      "\u001b[1;32m<ipython-input-110-a49560a47d34>\u001b[0m in \u001b[0;36m<module>\u001b[1;34m\u001b[0m\n\u001b[0;32m     12\u001b[0m             \u001b[0murl1\u001b[0m \u001b[1;33m=\u001b[0m \u001b[0mend_point\u001b[0m \u001b[1;33m+\u001b[0m \u001b[0mop_url1\u001b[0m \u001b[1;33m+\u001b[0m \u001b[0mparam_key\u001b[0m\u001b[1;33m\u001b[0m\u001b[1;33m\u001b[0m\u001b[0m\n\u001b[0;32m     13\u001b[0m             \u001b[0mprint\u001b[0m\u001b[1;33m(\u001b[0m\u001b[0murl\u001b[0m\u001b[1;33m)\u001b[0m\u001b[1;33m\u001b[0m\u001b[1;33m\u001b[0m\u001b[0m\n\u001b[1;32m---> 14\u001b[1;33m             \u001b[0mresult\u001b[0m \u001b[1;33m=\u001b[0m \u001b[0mget_item\u001b[0m\u001b[1;33m(\u001b[0m\u001b[0murl\u001b[0m\u001b[1;33m,\u001b[0m \u001b[0mparams\u001b[0m\u001b[1;33m)\u001b[0m\u001b[1;33m\u001b[0m\u001b[1;33m\u001b[0m\u001b[0m\n\u001b[0m\u001b[0;32m     15\u001b[0m             \u001b[0mdf\u001b[0m \u001b[1;33m=\u001b[0m \u001b[0mpd\u001b[0m\u001b[1;33m.\u001b[0m\u001b[0mjson_normalize\u001b[0m\u001b[1;33m(\u001b[0m\u001b[0mresult\u001b[0m\u001b[1;33m)\u001b[0m\u001b[1;33m\u001b[0m\u001b[1;33m\u001b[0m\u001b[0m\n\u001b[0;32m     16\u001b[0m             \u001b[1;32mif\u001b[0m \u001b[0minit\u001b[0m \u001b[1;33m==\u001b[0m \u001b[1;36m0\u001b[0m\u001b[1;33m:\u001b[0m\u001b[1;33m\u001b[0m\u001b[1;33m\u001b[0m\u001b[0m\n",
      "\u001b[1;32m<ipython-input-108-2bb149d94c71>\u001b[0m in \u001b[0;36mget_item\u001b[1;34m(url, params)\u001b[0m\n\u001b[0;32m      2\u001b[0m \u001b[1;32mdef\u001b[0m \u001b[0mget_item\u001b[0m\u001b[1;33m(\u001b[0m\u001b[0murl\u001b[0m\u001b[1;33m,\u001b[0m \u001b[0mparams\u001b[0m\u001b[1;33m)\u001b[0m\u001b[1;33m:\u001b[0m\u001b[1;33m\u001b[0m\u001b[1;33m\u001b[0m\u001b[0m\n\u001b[0;32m      3\u001b[0m     \u001b[0mreq\u001b[0m \u001b[1;33m=\u001b[0m \u001b[0mrequests\u001b[0m\u001b[1;33m.\u001b[0m\u001b[0mget\u001b[0m\u001b[1;33m(\u001b[0m\u001b[0murl\u001b[0m\u001b[1;33m,\u001b[0m \u001b[0mparams\u001b[0m\u001b[1;33m)\u001b[0m\u001b[1;33m\u001b[0m\u001b[1;33m\u001b[0m\u001b[0m\n\u001b[1;32m----> 4\u001b[1;33m     \u001b[0mitem\u001b[0m \u001b[1;33m=\u001b[0m \u001b[0mreq\u001b[0m\u001b[1;33m.\u001b[0m\u001b[0mjson\u001b[0m\u001b[1;33m(\u001b[0m\u001b[1;33m)\u001b[0m\u001b[1;33m[\u001b[0m\u001b[1;34m\"response\"\u001b[0m\u001b[1;33m]\u001b[0m\u001b[1;33m[\u001b[0m\u001b[1;34m\"body\"\u001b[0m\u001b[1;33m]\u001b[0m\u001b[1;33m[\u001b[0m\u001b[1;34m\"items\"\u001b[0m\u001b[1;33m]\u001b[0m\u001b[1;33m\u001b[0m\u001b[1;33m\u001b[0m\u001b[0m\n\u001b[0m\u001b[0;32m      5\u001b[0m     \u001b[1;32mreturn\u001b[0m \u001b[0mitem\u001b[0m\u001b[1;33m\u001b[0m\u001b[1;33m\u001b[0m\u001b[0m\n",
      "\u001b[1;31mKeyError\u001b[0m: 'body'"
     ]
    }
   ],
   "source": [
    "op_url1 = \"EdrcntTourismStatsService/getOvseaTuristStatsList?\"\n",
    "\n",
    "nit = 0\n",
    "\n",
    "for nat in param_nat_cd1:\n",
    "    for year in param_ym1:\n",
    "        for month in range(1,13):\n",
    "            params = {\"YM\":str(year) + \"%02d\"%month,\n",
    "                     \"NAT_CD\" : nat,\n",
    "                      \"ED_DE\" : \"E\"\n",
    "                     }\n",
    "            url1 = end_point + op_url1 + param_key\n",
    "            print(url) \n",
    "            result = get_item(url, params)\n",
    "            df = pd.json_normalize(result)\n",
    "            if init == 0:\n",
    "                df_total = df.copy(); init = 1\n",
    "            else:\n",
    "                df_total = pd.concat([df_total, df])\n",
    "df_total"
   ]
  },
  {
   "cell_type": "code",
   "execution_count": null,
   "id": "49f65f3c",
   "metadata": {},
   "outputs": [],
   "source": []
  }
 ],
 "metadata": {
  "kernelspec": {
   "display_name": "Python 3",
   "language": "python",
   "name": "python3"
  },
  "language_info": {
   "codemirror_mode": {
    "name": "ipython",
    "version": 3
   },
   "file_extension": ".py",
   "mimetype": "text/x-python",
   "name": "python",
   "nbconvert_exporter": "python",
   "pygments_lexer": "ipython3",
   "version": "3.8.8"
  }
 },
 "nbformat": 4,
 "nbformat_minor": 5
}
