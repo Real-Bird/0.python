{
 "cells": [
  {
   "cell_type": "code",
   "execution_count": 3,
   "source": [
    "import numpy as np\r\n",
    "from sklearn.feature_extraction.text import TfidfVectorizer"
   ],
   "outputs": [],
   "metadata": {}
  },
  {
   "cell_type": "markdown",
   "source": [
    "### 코사인 유사도 1"
   ],
   "metadata": {}
  },
  {
   "cell_type": "code",
   "execution_count": 4,
   "source": [
    "sent = (\"휴일 인 오늘 도 서쪽 을 중심 으로 폭염 이 이어졌는데요, 내일 은 반가운 비 소식 이 있습니다.\",\r\n",
    "\"폭염 을 피해서 휴일 에 놀러왔다가 갑작스런 비 로 인 해 망연자실 하고 있습니다.\")\r\n",
    "\r\n",
    "tfidf_vectorizer = TfidfVectorizer()\r\n",
    "tfidf_matrix = tfidf_vectorizer.fit_transform(sent)\r\n",
    "\r\n",
    "idf = tfidf_vectorizer.idf_\r\n",
    "print(dict(zip(tfidf_vectorizer.get_feature_names(), idf)))"
   ],
   "outputs": [
    {
     "output_type": "stream",
     "name": "stdout",
     "text": [
      "{'갑작스런': 1.4054651081081644, '내일': 1.4054651081081644, '놀러왔다가': 1.4054651081081644, '망연자실': 1.4054651081081644, '반가운': 1.4054651081081644, '서쪽': 1.4054651081081644, '소식': 1.4054651081081644, '오늘': 1.4054651081081644, '으로': 1.4054651081081644, '이어졌는데요': 1.4054651081081644, '있습니다': 1.0, '중심': 1.4054651081081644, '폭염': 1.0, '피해서': 1.4054651081081644, '하고': 1.4054651081081644, '휴일': 1.0}\n"
     ]
    }
   ],
   "metadata": {}
  },
  {
   "cell_type": "code",
   "execution_count": 5,
   "source": [
    "# 2. 코사인 유사도\r\n",
    "\r\n",
    "from sklearn.metrics.pairwise import cosine_similarity\r\n",
    "\r\n",
    "cosine_similarity(tfidf_matrix[0:1], tfidf_matrix[1:2])"
   ],
   "outputs": [
    {
     "output_type": "execute_result",
     "data": {
      "text/plain": [
       "array([[0.19280132]])"
      ]
     },
     "metadata": {},
     "execution_count": 5
    }
   ],
   "metadata": {}
  },
  {
   "cell_type": "markdown",
   "source": [
    "### 유클리드 유사도"
   ],
   "metadata": {}
  },
  {
   "cell_type": "code",
   "execution_count": 6,
   "source": [
    "from sklearn.metrics.pairwise import euclidean_distances\r\n",
    "print(euclidean_distances(tfidf_matrix[0:1], tfidf_matrix[1:2]))"
   ],
   "outputs": [
    {
     "output_type": "stream",
     "name": "stdout",
     "text": [
      "[[1.27058937]]\n"
     ]
    }
   ],
   "metadata": {}
  },
  {
   "cell_type": "code",
   "execution_count": 7,
   "source": [
    "# 정규화\r\n",
    "\r\n",
    "def l1_normalize(v):\r\n",
    "    norm = np.sum(v)\r\n",
    "    return v/norm\r\n",
    "\r\n",
    "tfidf_norm_l1 = l1_normalize(tfidf_matrix)\r\n",
    "print(euclidean_distances(tfidf_norm_l1[0:1],tfidf_norm_l1[1:2]))"
   ],
   "outputs": [
    {
     "output_type": "stream",
     "name": "stdout",
     "text": [
      "[[0.20900587]]\n"
     ]
    }
   ],
   "metadata": {}
  },
  {
   "cell_type": "markdown",
   "source": [
    "### 맨하튼 유사도"
   ],
   "metadata": {}
  },
  {
   "cell_type": "code",
   "execution_count": 8,
   "source": [
    "from sklearn.metrics.pairwise import manhattan_distances\r\n",
    "\r\n",
    "def l1_normalize(v):\r\n",
    "    norm = np.sum(v)\r\n",
    "    return v / norm\r\n",
    "\r\n",
    "print(manhattan_distances(tfidf_norm_l1[0:1], tfidf_norm_l1[1:2]))"
   ],
   "outputs": [
    {
     "output_type": "stream",
     "name": "stdout",
     "text": [
      "[[0.77238814]]\n"
     ]
    }
   ],
   "metadata": {}
  },
  {
   "cell_type": "code",
   "execution_count": null,
   "source": [],
   "outputs": [],
   "metadata": {}
  }
 ],
 "metadata": {
  "orig_nbformat": 4,
  "language_info": {
   "name": "python",
   "version": "3.8.8",
   "mimetype": "text/x-python",
   "codemirror_mode": {
    "name": "ipython",
    "version": 3
   },
   "pygments_lexer": "ipython3",
   "nbconvert_exporter": "python",
   "file_extension": ".py"
  },
  "kernelspec": {
   "name": "python3",
   "display_name": "Python 3.8.8 64-bit ('base': conda)"
  },
  "interpreter": {
   "hash": "25d4fd7b427668878bebb6d26ba3cba6df1e1237375abbc1835db78f26d36935"
  }
 },
 "nbformat": 4,
 "nbformat_minor": 2
}