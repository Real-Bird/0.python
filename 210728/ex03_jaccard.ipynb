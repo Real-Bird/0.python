{
 "cells": [
  {
   "cell_type": "code",
   "execution_count": 4,
   "source": [
    "#1 자카드 유사도\r\n",
    "from sklearn.metrics import jaccard_score\r\n",
    "import numpy as np\r\n",
    "jaccard_score(np.array([1,1,0,0]), np.array([1,1,0,1])) # 3/4"
   ],
   "outputs": [
    {
     "output_type": "execute_result",
     "data": {
      "text/plain": [
       "0.6666666666666666"
      ]
     },
     "metadata": {},
     "execution_count": 4
    }
   ],
   "metadata": {}
  },
  {
   "cell_type": "code",
   "execution_count": 5,
   "source": [
    "from keras import preprocessing\r\n",
    "tokenizer = preprocessing.text.Tokenizer()\r\n",
    "\r\n",
    "samples = [\"휴일 인 오늘 도 서쪽 을 중심 으로 폭염 이 이어졌는데요, 내일 은 반가운 비 소식 이 있습니다.\",\r\n",
    "\"폭염 을 피해서 휴일 에 놀러왔다가 갑작스런 비 로 인 해 망연자실 하고 있습니다.\"]\r\n",
    "\r\n",
    "tokenizer.fit_on_texts(samples)\r\n",
    "word_index = tokenizer.word_index\r\n",
    "#print(\"각 단어의 인덱스 : \\n\", word_index)\r\n",
    "# sequences = tokenizer.texts_to_sequesnces(samples)\r\n",
    "\r\n",
    "X_onehot = tokenizer.texts_to_matrix(samples)\r\n",
    "#print(X-onehot)\r\n",
    "\r\n",
    "# 1. 자카드 유사도\r\n",
    "print(jaccard_score(X_onehot[0], X_onehot[1]))"
   ],
   "outputs": [
    {
     "output_type": "stream",
     "name": "stdout",
     "text": [
      "0.24\n"
     ]
    }
   ],
   "metadata": {}
  }
 ],
 "metadata": {
  "orig_nbformat": 4,
  "language_info": {
   "name": "python",
   "version": "3.8.8",
   "mimetype": "text/x-python",
   "codemirror_mode": {
    "name": "ipython",
    "version": 3
   },
   "pygments_lexer": "ipython3",
   "nbconvert_exporter": "python",
   "file_extension": ".py"
  },
  "kernelspec": {
   "name": "python3",
   "display_name": "Python 3.8.8 64-bit ('base': conda)"
  },
  "interpreter": {
   "hash": "25d4fd7b427668878bebb6d26ba3cba6df1e1237375abbc1835db78f26d36935"
  }
 },
 "nbformat": 4,
 "nbformat_minor": 2
}