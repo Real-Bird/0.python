{
 "cells": [
  {
   "cell_type": "code",
   "execution_count": 16,
   "id": "51c71cf1",
   "metadata": {},
   "outputs": [
    {
     "name": "stdout",
     "output_type": "stream",
     "text": [
      "781201-1273845\n",
      "1\n",
      "1978/12/01 M\n"
     ]
    }
   ],
   "source": [
    "# 4011 : 생년월일 출력\n",
    "\n",
    "ssn = input()\n",
    "n = []\n",
    "for i in ssn:\n",
    "    if i != \"-\":\n",
    "        n.append(i)\n",
    "\n",
    "if n[6] == \"1\":\n",
    "    print(\"19{}{}/{}{}/{}{} M\".format(n[0],n[1],n[2],n[3],n[4],n[5]))\n",
    "else:\n",
    "    print(\"19{}{}/{}{}/{}{} F\".format(n[0],n[1],n[2],n[3],n[4],n[5]))\n",
    "    "
   ]
  },
  {
   "cell_type": "code",
   "execution_count": 20,
   "id": "5af9abd0",
   "metadata": {},
   "outputs": [
    {
     "name": "stdout",
     "output_type": "stream",
     "text": [
      "15\n",
      "2 1111\n",
      "8 17\n",
      "16 F\n"
     ]
    }
   ],
   "source": [
    "# 4013 : 진법 변환\n",
    "\n",
    "n = int(input())\n",
    "\n",
    "print(\"2 {:0b}\".format(n))\n",
    "print(\"8 {:0o}\".format(n))\n",
    "print(\"16 {:0X}\".format(n))"
   ]
  },
  {
   "cell_type": "code",
   "execution_count": 28,
   "id": "5a63e7c9",
   "metadata": {},
   "outputs": [
    {
     "name": "stdout",
     "output_type": "stream",
     "text": [
      "4 8 10\n",
      "2\n"
     ]
    }
   ],
   "source": [
    "# 4016 : 세 수의 최대공약수 구하기\n",
    "\n",
    "arr = list(map(int, input().split()))\n",
    "\n",
    "def twonum(a, b):\n",
    "    while b != 0:\n",
    "        a, b = b, a%b\n",
    "    return a\n",
    "\n",
    "a_arr = arr[0]\n",
    "for i in range(len(arr)):\n",
    "    a_arr = twonum(a_arr, arr[i])\n",
    "    \n",
    "print(a_arr)"
   ]
  },
  {
   "cell_type": "code",
   "execution_count": 36,
   "id": "f82b5147",
   "metadata": {},
   "outputs": [
    {
     "name": "stdout",
     "output_type": "stream",
     "text": [
      "12 12 12 12 12 12 12\n",
      "-1\n"
     ]
    }
   ],
   "source": [
    "# 4021 : 홀수의 합 구하기\n",
    "\n",
    "num = list(map(int, input().split()))\n",
    "total = 0\n",
    "flag = False\n",
    "for i in num:\n",
    "    if i % 2 == 1:\n",
    "        total += i\n",
    "        flag = True\n",
    "\n",
    "if flag == False:\n",
    "    print(-1)\n",
    "else:\n",
    "    print(total)"
   ]
  },
  {
   "cell_type": "code",
   "execution_count": 62,
   "id": "db1fb200",
   "metadata": {},
   "outputs": [
    {
     "name": "stdout",
     "output_type": "stream",
     "text": [
      "40 40 60 20 90\n",
      "40\n"
     ]
    }
   ],
   "source": [
    "# 4026 : 중앙 값\n",
    "\n",
    "n = list(sorted(map(int, input().split())))\n",
    "\n",
    "if len(n) % 2 == 0:\n",
    "    x = (n[(len(n)//2)-1] + n[(len(n)//2)]) / 2\n",
    "    print(x)\n",
    "else:\n",
    "    x = n[(len(n)//2)]\n",
    "    print(x)"
   ]
  },
  {
   "cell_type": "code",
   "execution_count": 7,
   "id": "29546cfa",
   "metadata": {},
   "outputs": [
    {
     "name": "stdout",
     "output_type": "stream",
     "text": [
      "1 1 1 1 1 1 1\n",
      "1\n"
     ]
    }
   ],
   "source": [
    "# 4031 : 가장 큰 수\n",
    "\n",
    "num = map(int, input().split())\n",
    "x = []\n",
    "y = []\n",
    "for i in num:\n",
    "    if i % 2 == 0:\n",
    "        x.append(i)\n",
    "    if i % 2 == 1:\n",
    "        y.append(i)\n",
    "if len(x) == 0:\n",
    "    print(max(y))\n",
    "elif len(y) == 0:\n",
    "    print(max(x))\n",
    "else:\n",
    "    print(max(x) + max(y))"
   ]
  },
  {
   "cell_type": "code",
   "execution_count": 26,
   "id": "827e7176",
   "metadata": {},
   "outputs": [
    {
     "name": "stdout",
     "output_type": "stream",
     "text": [
      "1000000\n",
      "999998\n",
      "999999\n",
      "1\n"
     ]
    }
   ],
   "source": [
    "# 4036 : 합과 차\n",
    "\n",
    "n = int(input())\n",
    "m = int(input())\n",
    "x = (n+m) // 2\n",
    "y = (n-m) // 2\n",
    "\n",
    "\n",
    "for i in range(x+1):\n",
    "    if (x*2) == (n + m):\n",
    "        for j in range(y+1):\n",
    "            if (y*2) == (n - m):\n",
    "                break\n",
    "            else:\n",
    "                y += 1\n",
    "    else:\n",
    "        x += 1\n",
    "\n",
    "print(x)\n",
    "print(y)"
   ]
  },
  {
   "cell_type": "code",
   "execution_count": 59,
   "id": "d06080c2",
   "metadata": {},
   "outputs": [
    {
     "name": "stdout",
     "output_type": "stream",
     "text": [
      "320\n",
      "23\n",
      "5\n"
     ]
    }
   ],
   "source": [
    "# 4041 : 숫자 다루기\n",
    "n = input()\n",
    "k = []\n",
    "j = []\n",
    "for i in range(len(n), 0, -1):\n",
    "    k.append(n[i-1])\n",
    "    j.append(int(n[i-1]))\n",
    "f = \"\".join(k)\n",
    "print(int(f))\n",
    "print(sum(j))"
   ]
  },
  {
   "cell_type": "code",
   "execution_count": 23,
   "id": "7f41edc6",
   "metadata": {},
   "outputs": [
    {
     "name": "stdout",
     "output_type": "stream",
     "text": [
      "16.0 16.5\n",
      "17.0 20.5\n",
      "18.5 23.0\n",
      "22.5 23.5\n",
      "19.5 22.5\n",
      "57500.0\n"
     ]
    }
   ],
   "source": [
    "# 4051 : 시간외 근무 수당\n",
    "se = [list(map(float,input().split())) for i in range(5)]\n",
    "x = []\n",
    "for i in range(len(se)):\n",
    "    x.append(se[i][1] - se[i][0])\n",
    "if sum(x) <= 5:\n",
    "    print((sum(x)-1)*5000 + (sum(x)-1)*5000*0.05)\n",
    "elif sum(x) >= 15:\n",
    "    print((sum(x)-1)*5000 - (sum(x)-1)*5000*0.05)\n",
    "else:\n",
    "    print((sum(x)-1)*5000)\n",
    "    \n",
    "# 중단"
   ]
  },
  {
   "cell_type": "code",
   "execution_count": 35,
   "id": "bbea5638",
   "metadata": {},
   "outputs": [
    {
     "name": "stdout",
     "output_type": "stream",
     "text": [
      "3130\n",
      "994\n"
     ]
    }
   ],
   "source": [
    "# 4056 : 연말 정산\n",
    "import math\n",
    "\n",
    "n = int(input())\n",
    "\n",
    "if n <= 500:\n",
    "    x = n * 0.7\n",
    "    print(math.floor(x))\n",
    "elif n > 500 and n <= 1500:\n",
    "    x = 350 + (n - 500) * 0.4\n",
    "    print(math.floor(x))\n",
    "elif n > 1500 and n <= 4500:\n",
    "    x = 750 + (n - 1500) * 0.15\n",
    "    print(math.floor(x))\n",
    "elif n > 4500 and n <= 10000:\n",
    "    x = 1200 + (n - 4500) * 0.05\n",
    "    print(math.floor(x))\n",
    "else:\n",
    "    x = 1475 + (n - 10000) * 0.02\n",
    "    print(math.floor(x))"
   ]
  },
  {
   "cell_type": "code",
   "execution_count": 41,
   "id": "27316d62",
   "metadata": {},
   "outputs": [
    {
     "name": "stdout",
     "output_type": "stream",
     "text": [
      "79\n",
      "57\n",
      "88\n",
      "72\n",
      "95\n",
      "88\n",
      "64\n",
      "95\n",
      "88\n"
     ]
    }
   ],
   "source": [
    "# 4501 : 백설공주와 난장이\n",
    "n = []\n",
    "\n",
    "for i in range(7):\n",
    "    x = int(input())\n",
    "    n.append(x)\n",
    "n = sorted(n, reverse=True)\n",
    "for i in range(2):\n",
    "    print(n[i])"
   ]
  },
  {
   "cell_type": "code",
   "execution_count": 58,
   "id": "48c9320c",
   "metadata": {},
   "outputs": [
    {
     "name": "stdout",
     "output_type": "stream",
     "text": [
      "24 18\n",
      "6\n",
      "72\n"
     ]
    }
   ],
   "source": [
    "# 4506 : 최대공약수와 최소공배수\n",
    "n, m = map(int, input().split())\n",
    "\n",
    "def twonum(a, b):\n",
    "    while b != 0:\n",
    "        a, b = b, a%b\n",
    "    return a\n",
    "    \n",
    "x = twonum(n,m)\n",
    "print(x)\n",
    "\n",
    "def mulnum(a, b, x):\n",
    "    y = a * b // x\n",
    "    return y\n",
    "y = mulnum(n,m,x)\n",
    "\n",
    "print(y)"
   ]
  },
  {
   "cell_type": "code",
   "execution_count": 63,
   "id": "cf8630b0",
   "metadata": {},
   "outputs": [
    {
     "name": "stdout",
     "output_type": "stream",
     "text": [
      "40\n",
      "40\n",
      "60\n",
      "20\n",
      "90\n",
      "50\n",
      "40\n"
     ]
    }
   ],
   "source": [
    "# 4531 : 대표 값\n",
    "\n",
    "n = []\n",
    "for i in range(5):\n",
    "    k = int(input())\n",
    "    n.append(k)\n",
    "n = sorted(n)\n",
    "y = sum(n)//len(n)\n",
    "print(y)\n",
    "\n",
    "if len(n) % 2 == 0:\n",
    "    x = (n[(len(n)//2)-1] + n[(len(n)//2)]) / 2\n",
    "    print(x)\n",
    "else:\n",
    "    x = n[(len(n)//2)]\n",
    "    print(x)"
   ]
  },
  {
   "cell_type": "code",
   "execution_count": 66,
   "id": "e6367117",
   "metadata": {},
   "outputs": [
    {
     "name": "stdout",
     "output_type": "stream",
     "text": [
      "10\n",
      "40\n",
      "30\n",
      "60\n",
      "30\n",
      "20\n",
      "60\n",
      "30\n",
      "40\n",
      "50\n",
      "37\n",
      "8\n"
     ]
    }
   ],
   "source": [
    "# 4536 : 대표값\n",
    "from collections import Counter\n",
    "n = []\n",
    "for i in range(10):\n",
    "    k = int(input())\n",
    "    n.append(k)\n",
    "n = sorted(n)\n",
    "y = sum(n)//len(n)\n",
    "print(y)"
   ]
  },
  {
   "cell_type": "code",
   "execution_count": null,
   "id": "a80f329f",
   "metadata": {},
   "outputs": [],
   "source": []
  }
 ],
 "metadata": {
  "kernelspec": {
   "display_name": "Python 3",
   "language": "python",
   "name": "python3"
  },
  "language_info": {
   "codemirror_mode": {
    "name": "ipython",
    "version": 3
   },
   "file_extension": ".py",
   "mimetype": "text/x-python",
   "name": "python",
   "nbconvert_exporter": "python",
   "pygments_lexer": "ipython3",
   "version": "3.8.8"
  }
 },
 "nbformat": 4,
 "nbformat_minor": 5
}
