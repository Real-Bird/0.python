{
 "cells": [
  {
   "cell_type": "markdown",
   "id": "1f238159",
   "metadata": {},
   "source": [
    "### (실습)\n",
    "- 화면에서 입력받아 총점과 평균 구하기(input())\n",
    "- 국어 영어 수학 점수 입력 받음 / 변수 = input()\n",
    "    - 입력 데이터 나눔 (문자열.split())\n",
    "    - 리스트 인덱스\n",
    "- 점수 입력> 85 75 95"
   ]
  },
  {
   "cell_type": "code",
   "execution_count": 34,
   "id": "392ab8f8",
   "metadata": {},
   "outputs": [
    {
     "name": "stdout",
     "output_type": "stream",
     "text": [
      "점수 입력> 75 85 90\n",
      "총점 : 250 / 평균 : 83.33333333333333\n"
     ]
    }
   ],
   "source": [
    "score = input(\"점수 입력> \")\n",
    "\n",
    "score_list = score.split()\n",
    "total_score = 0\n",
    "\n",
    "for i in range(len(score_list)):\n",
    "    total_score += int(score_list[i])\n",
    "\n",
    "avg = total_score/len(score_list)\n",
    "print(\"총점 : {} / 평균 : {}\".format(total_score, avg))"
   ]
  },
  {
   "cell_type": "markdown",
   "id": "3d60740f",
   "metadata": {},
   "source": [
    "### 합격 유무 판정\n",
    "- 3개 점수 받음\n",
    "- 평균 60점 이상 합격\n",
    "- \"총점 00점, 평균 00점, 합격입니다\""
   ]
  },
  {
   "cell_type": "code",
   "execution_count": 40,
   "id": "d03575e3",
   "metadata": {},
   "outputs": [
    {
     "name": "stdout",
     "output_type": "stream",
     "text": [
      "점수 입력> 75 85 95\n",
      "총점 : 255점, 평균 85.0점, 합격입니다.\n"
     ]
    }
   ],
   "source": [
    "score = input(\"점수 입력> \")\n",
    "\n",
    "score_list = score.split()\n",
    "total_score = 0\n",
    "\n",
    "for i in range(len(score_list)):\n",
    "    total_score += int(score_list[i])\n",
    "\n",
    "avg = total_score/len(score_list)\n",
    "\n",
    "if avg >= 60:\n",
    "    check = \"합격\"\n",
    "else:\n",
    "    check = \"불합격\"\n",
    "    \n",
    "print(\"총점 : {}점, 평균 {}점, {}입니다.\".format(total_score, round(avg,2), check))"
   ]
  },
  {
   "cell_type": "code",
   "execution_count": 41,
   "id": "37e2dc84",
   "metadata": {},
   "outputs": [
    {
     "name": "stdout",
     "output_type": "stream",
     "text": [
      "총점 : 255점, 평균 85.00점, 합격입니다.\n"
     ]
    }
   ],
   "source": [
    "print(\"총점 : {}점, 평균 {:.2f}점, {}입니다.\".format(total_score, avg, check))"
   ]
  },
  {
   "cell_type": "markdown",
   "id": "0dfbf4a1",
   "metadata": {},
   "source": [
    "### 합격 유무 판정\n",
    "- 과목당 40점 이하면 과락\n",
    "- 평균 60점 미만이면 평균미달\n",
    "- 예) 총점 : 255점, 평균 85.00점, 합격입니다.\n",
    "        총점 : 255점, 평균 85.00점, (과락/평균미달) 불합격입니다."
   ]
  },
  {
   "cell_type": "code",
   "execution_count": 73,
   "id": "5e09b2d3",
   "metadata": {},
   "outputs": [
    {
     "name": "stdout",
     "output_type": "stream",
     "text": [
      "점수 입력> 80 80 30\n",
      "총점 : 190점, 평균 63.33점, 과락 불합격입니다.\n"
     ]
    }
   ],
   "source": [
    "score = input(\"점수 입력> \")\n",
    "\n",
    "score_list = score.split()\n",
    "total_score = 0\n",
    "fail = \"\"\n",
    "for i in range(len(score_list)):\n",
    "    total_score += int(score_list[i])\n",
    "    if int(score_list[i]) < 40:\n",
    "        fail = \"과락\"\n",
    "\n",
    "avg = total_score/len(score_list)\n",
    "\n",
    "check = \"\"\n",
    "if avg < 60:\n",
    "    check = \"평균미달\"\n",
    "\n",
    "if (len(fail)==0) & (len(check)==0) :\n",
    "    print(\"총점 : {}점, 평균 {:.2f}점 합격입니다.\".format(total_score, avg))\n",
    "elif (len(fail) != 0) & (len(check)==0):\n",
    "    print(\"총점 : {}점, 평균 {:.2f}점, {} 불합격입니다.\".format(total_score, avg, fail))\n",
    "else:\n",
    "    print(\"총점 : {}점, 평균 {:.2f}점, {}/{} 불합격입니다.\".format(total_score, avg, fail, check))\n",
    "    \n",
    "    "
   ]
  },
  {
   "cell_type": "code",
   "execution_count": null,
   "id": "aeefa9a4",
   "metadata": {},
   "outputs": [],
   "source": []
  }
 ],
 "metadata": {
  "kernelspec": {
   "display_name": "Python 3",
   "language": "python",
   "name": "python3"
  },
  "language_info": {
   "codemirror_mode": {
    "name": "ipython",
    "version": 3
   },
   "file_extension": ".py",
   "mimetype": "text/x-python",
   "name": "python",
   "nbconvert_exporter": "python",
   "pygments_lexer": "ipython3",
   "version": "3.8.8"
  }
 },
 "nbformat": 4,
 "nbformat_minor": 5
}
