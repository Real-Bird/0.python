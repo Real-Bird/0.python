{
 "cells": [
  {
   "cell_type": "code",
   "execution_count": 4,
   "id": "7923921f",
   "metadata": {},
   "outputs": [
    {
     "data": {
      "text/html": [
       "<div>\n",
       "<style scoped>\n",
       "    .dataframe tbody tr th:only-of-type {\n",
       "        vertical-align: middle;\n",
       "    }\n",
       "\n",
       "    .dataframe tbody tr th {\n",
       "        vertical-align: top;\n",
       "    }\n",
       "\n",
       "    .dataframe thead th {\n",
       "        text-align: right;\n",
       "    }\n",
       "</style>\n",
       "<table border=\"1\" class=\"dataframe\">\n",
       "  <thead>\n",
       "    <tr style=\"text-align: right;\">\n",
       "      <th></th>\n",
       "      <th>apple</th>\n",
       "      <th>3500</th>\n",
       "    </tr>\n",
       "  </thead>\n",
       "  <tbody>\n",
       "    <tr>\n",
       "      <th>0</th>\n",
       "      <td>peer</td>\n",
       "      <td>2000</td>\n",
       "    </tr>\n",
       "    <tr>\n",
       "      <th>1</th>\n",
       "      <td>cherry</td>\n",
       "      <td>5000</td>\n",
       "    </tr>\n",
       "  </tbody>\n",
       "</table>\n",
       "</div>"
      ],
      "text/plain": [
       "    apple  3500\n",
       "0    peer  2000\n",
       "1  cherry  5000"
      ]
     },
     "execution_count": 4,
     "metadata": {},
     "output_type": "execute_result"
    }
   ],
   "source": [
    "import pandas as pd\n",
    "\n",
    "# df 데이터 불러오기 -> pc에 있는 파일\n",
    "pd.read_csv(\"c:/python/test6.csv\")"
   ]
  },
  {
   "cell_type": "code",
   "execution_count": 7,
   "id": "11c2d3fa",
   "metadata": {},
   "outputs": [],
   "source": [
    "# 인터넷에서 자료 읽어오기\n",
    "url = \"http://freakonometrics.free.fr/german_credit.csv\"\n",
    "german = pd.read_csv(url)"
   ]
  },
  {
   "cell_type": "code",
   "execution_count": 8,
   "id": "355ede5f",
   "metadata": {},
   "outputs": [],
   "source": [
    "# 로컬 파일로 자료 읽어오기\n",
    "#pd.read_csv(\"c:/python/german_credit.csv\")"
   ]
  },
  {
   "cell_type": "markdown",
   "id": "c355ba67",
   "metadata": {},
   "source": [
    "#### (df 필수 명령어)\n",
    "1. 첫 n건이 어떻게 생겼나? df.head(n)\n",
    "2. 전체 건수는? df.shape\n",
    "3. 전체 컬럼 이름은? df.columns\n",
    "4. df 전체 정보는? df.info()\n",
    "5. 마지막행 n건은? df.tail(n)\n",
    "6. 결측치 확인하기? df.isnull() -> df.isnull().sum()\n",
    "7. 컬럼에 어떤 데이터가 있는가? df[\"컬럼\"].value_counts()\n",
    "8. 요약 통계량은? df.describe()"
   ]
  },
  {
   "cell_type": "code",
   "execution_count": 10,
   "id": "64e22f33",
   "metadata": {},
   "outputs": [
    {
     "data": {
      "text/html": [
       "<div>\n",
       "<style scoped>\n",
       "    .dataframe tbody tr th:only-of-type {\n",
       "        vertical-align: middle;\n",
       "    }\n",
       "\n",
       "    .dataframe tbody tr th {\n",
       "        vertical-align: top;\n",
       "    }\n",
       "\n",
       "    .dataframe thead th {\n",
       "        text-align: right;\n",
       "    }\n",
       "</style>\n",
       "<table border=\"1\" class=\"dataframe\">\n",
       "  <thead>\n",
       "    <tr style=\"text-align: right;\">\n",
       "      <th></th>\n",
       "      <th>Creditability</th>\n",
       "      <th>Account Balance</th>\n",
       "      <th>Duration of Credit (month)</th>\n",
       "      <th>Payment Status of Previous Credit</th>\n",
       "      <th>Purpose</th>\n",
       "      <th>Credit Amount</th>\n",
       "      <th>Value Savings/Stocks</th>\n",
       "      <th>Length of current employment</th>\n",
       "      <th>Instalment per cent</th>\n",
       "      <th>Sex &amp; Marital Status</th>\n",
       "      <th>...</th>\n",
       "      <th>Duration in Current address</th>\n",
       "      <th>Most valuable available asset</th>\n",
       "      <th>Age (years)</th>\n",
       "      <th>Concurrent Credits</th>\n",
       "      <th>Type of apartment</th>\n",
       "      <th>No of Credits at this Bank</th>\n",
       "      <th>Occupation</th>\n",
       "      <th>No of dependents</th>\n",
       "      <th>Telephone</th>\n",
       "      <th>Foreign Worker</th>\n",
       "    </tr>\n",
       "  </thead>\n",
       "  <tbody>\n",
       "    <tr>\n",
       "      <th>0</th>\n",
       "      <td>1</td>\n",
       "      <td>1</td>\n",
       "      <td>18</td>\n",
       "      <td>4</td>\n",
       "      <td>2</td>\n",
       "      <td>1049</td>\n",
       "      <td>1</td>\n",
       "      <td>2</td>\n",
       "      <td>4</td>\n",
       "      <td>2</td>\n",
       "      <td>...</td>\n",
       "      <td>4</td>\n",
       "      <td>2</td>\n",
       "      <td>21</td>\n",
       "      <td>3</td>\n",
       "      <td>1</td>\n",
       "      <td>1</td>\n",
       "      <td>3</td>\n",
       "      <td>1</td>\n",
       "      <td>1</td>\n",
       "      <td>1</td>\n",
       "    </tr>\n",
       "    <tr>\n",
       "      <th>1</th>\n",
       "      <td>1</td>\n",
       "      <td>1</td>\n",
       "      <td>9</td>\n",
       "      <td>4</td>\n",
       "      <td>0</td>\n",
       "      <td>2799</td>\n",
       "      <td>1</td>\n",
       "      <td>3</td>\n",
       "      <td>2</td>\n",
       "      <td>3</td>\n",
       "      <td>...</td>\n",
       "      <td>2</td>\n",
       "      <td>1</td>\n",
       "      <td>36</td>\n",
       "      <td>3</td>\n",
       "      <td>1</td>\n",
       "      <td>2</td>\n",
       "      <td>3</td>\n",
       "      <td>2</td>\n",
       "      <td>1</td>\n",
       "      <td>1</td>\n",
       "    </tr>\n",
       "    <tr>\n",
       "      <th>2</th>\n",
       "      <td>1</td>\n",
       "      <td>2</td>\n",
       "      <td>12</td>\n",
       "      <td>2</td>\n",
       "      <td>9</td>\n",
       "      <td>841</td>\n",
       "      <td>2</td>\n",
       "      <td>4</td>\n",
       "      <td>2</td>\n",
       "      <td>2</td>\n",
       "      <td>...</td>\n",
       "      <td>4</td>\n",
       "      <td>1</td>\n",
       "      <td>23</td>\n",
       "      <td>3</td>\n",
       "      <td>1</td>\n",
       "      <td>1</td>\n",
       "      <td>2</td>\n",
       "      <td>1</td>\n",
       "      <td>1</td>\n",
       "      <td>1</td>\n",
       "    </tr>\n",
       "  </tbody>\n",
       "</table>\n",
       "<p>3 rows × 21 columns</p>\n",
       "</div>"
      ],
      "text/plain": [
       "   Creditability  Account Balance  Duration of Credit (month)  \\\n",
       "0              1                1                          18   \n",
       "1              1                1                           9   \n",
       "2              1                2                          12   \n",
       "\n",
       "   Payment Status of Previous Credit  Purpose  Credit Amount  \\\n",
       "0                                  4        2           1049   \n",
       "1                                  4        0           2799   \n",
       "2                                  2        9            841   \n",
       "\n",
       "   Value Savings/Stocks  Length of current employment  Instalment per cent  \\\n",
       "0                     1                             2                    4   \n",
       "1                     1                             3                    2   \n",
       "2                     2                             4                    2   \n",
       "\n",
       "   Sex & Marital Status  ...  Duration in Current address  \\\n",
       "0                     2  ...                            4   \n",
       "1                     3  ...                            2   \n",
       "2                     2  ...                            4   \n",
       "\n",
       "   Most valuable available asset  Age (years)  Concurrent Credits  \\\n",
       "0                              2           21                   3   \n",
       "1                              1           36                   3   \n",
       "2                              1           23                   3   \n",
       "\n",
       "   Type of apartment  No of Credits at this Bank  Occupation  \\\n",
       "0                  1                           1           3   \n",
       "1                  1                           2           3   \n",
       "2                  1                           1           2   \n",
       "\n",
       "   No of dependents  Telephone  Foreign Worker  \n",
       "0                 1          1               1  \n",
       "1                 2          1               1  \n",
       "2                 1          1               1  \n",
       "\n",
       "[3 rows x 21 columns]"
      ]
     },
     "execution_count": 10,
     "metadata": {},
     "output_type": "execute_result"
    }
   ],
   "source": [
    "german.head(3)"
   ]
  },
  {
   "cell_type": "code",
   "execution_count": 13,
   "id": "59cbd47a",
   "metadata": {},
   "outputs": [
    {
     "data": {
      "text/plain": [
       "(1000, 21)"
      ]
     },
     "execution_count": 13,
     "metadata": {},
     "output_type": "execute_result"
    }
   ],
   "source": [
    "german.shape"
   ]
  },
  {
   "cell_type": "code",
   "execution_count": 14,
   "id": "f5a81c83",
   "metadata": {},
   "outputs": [
    {
     "data": {
      "text/plain": [
       "1000"
      ]
     },
     "execution_count": 14,
     "metadata": {},
     "output_type": "execute_result"
    }
   ],
   "source": [
    "# 총 몇 건인가?\n",
    "\n",
    "german.shape[0]"
   ]
  },
  {
   "cell_type": "code",
   "execution_count": 15,
   "id": "5d344d61",
   "metadata": {},
   "outputs": [
    {
     "data": {
      "text/plain": [
       "21"
      ]
     },
     "execution_count": 15,
     "metadata": {},
     "output_type": "execute_result"
    }
   ],
   "source": [
    "# 총 컬럼이 몇 개인가?\n",
    "german.shape[1]"
   ]
  },
  {
   "cell_type": "code",
   "execution_count": 16,
   "id": "1fb371e0",
   "metadata": {},
   "outputs": [
    {
     "data": {
      "text/plain": [
       "1000"
      ]
     },
     "execution_count": 16,
     "metadata": {},
     "output_type": "execute_result"
    }
   ],
   "source": [
    "# c총 몇 건인가?\n",
    "len(german)"
   ]
  },
  {
   "cell_type": "code",
   "execution_count": 34,
   "id": "cc6995f2",
   "metadata": {},
   "outputs": [
    {
     "name": "stdout",
     "output_type": "stream",
     "text": [
      "row =  0\n",
      "col =  0\n",
      "col =  1\n",
      "col =  2\n",
      "col =  3\n",
      "col =  4\n",
      "--------------------------------------------------\n",
      "row =  1\n",
      "col =  0\n",
      "col =  1\n",
      "col =  2\n",
      "col =  3\n",
      "col =  4\n",
      "--------------------------------------------------\n",
      "row =  2\n",
      "col =  0\n",
      "col =  1\n",
      "col =  2\n",
      "col =  3\n",
      "col =  4\n",
      "--------------------------------------------------\n",
      "row =  3\n",
      "col =  0\n",
      "col =  1\n",
      "col =  2\n",
      "col =  3\n",
      "col =  4\n",
      "--------------------------------------------------\n",
      "row =  4\n",
      "col =  0\n",
      "col =  1\n",
      "col =  2\n",
      "col =  3\n",
      "col =  4\n"
     ]
    }
   ],
   "source": [
    "# 전체 row를 반복처리 할 때\n",
    "for i in range(0, len(german)):\n",
    "    print(\"row = \" ,i)\n",
    "    for j in range(0, german.shape[1]):\n",
    "        print(\"col = \", j)\n",
    "        if j > 3:\n",
    "            break\n",
    "    if i > 3:\n",
    "        break\n",
    "    print(\"-\"*50)"
   ]
  },
  {
   "cell_type": "code",
   "execution_count": 25,
   "id": "040af5b5",
   "metadata": {},
   "outputs": [
    {
     "data": {
      "text/plain": [
       "21"
      ]
     },
     "execution_count": 25,
     "metadata": {},
     "output_type": "execute_result"
    }
   ],
   "source": [
    "len(german.columns)"
   ]
  },
  {
   "cell_type": "code",
   "execution_count": 26,
   "id": "d70bb9e4",
   "metadata": {},
   "outputs": [
    {
     "name": "stdout",
     "output_type": "stream",
     "text": [
      "<class 'pandas.core.frame.DataFrame'>\n",
      "RangeIndex: 1000 entries, 0 to 999\n",
      "Data columns (total 21 columns):\n",
      " #   Column                             Non-Null Count  Dtype\n",
      "---  ------                             --------------  -----\n",
      " 0   Creditability                      1000 non-null   int64\n",
      " 1   Account Balance                    1000 non-null   int64\n",
      " 2   Duration of Credit (month)         1000 non-null   int64\n",
      " 3   Payment Status of Previous Credit  1000 non-null   int64\n",
      " 4   Purpose                            1000 non-null   int64\n",
      " 5   Credit Amount                      1000 non-null   int64\n",
      " 6   Value Savings/Stocks               1000 non-null   int64\n",
      " 7   Length of current employment       1000 non-null   int64\n",
      " 8   Instalment per cent                1000 non-null   int64\n",
      " 9   Sex & Marital Status               1000 non-null   int64\n",
      " 10  Guarantors                         1000 non-null   int64\n",
      " 11  Duration in Current address        1000 non-null   int64\n",
      " 12  Most valuable available asset      1000 non-null   int64\n",
      " 13  Age (years)                        1000 non-null   int64\n",
      " 14  Concurrent Credits                 1000 non-null   int64\n",
      " 15  Type of apartment                  1000 non-null   int64\n",
      " 16  No of Credits at this Bank         1000 non-null   int64\n",
      " 17  Occupation                         1000 non-null   int64\n",
      " 18  No of dependents                   1000 non-null   int64\n",
      " 19  Telephone                          1000 non-null   int64\n",
      " 20  Foreign Worker                     1000 non-null   int64\n",
      "dtypes: int64(21)\n",
      "memory usage: 164.2 KB\n"
     ]
    }
   ],
   "source": [
    "german.info()"
   ]
  },
  {
   "cell_type": "code",
   "execution_count": 31,
   "id": "5a3ab6a0",
   "metadata": {},
   "outputs": [
    {
     "data": {
      "text/html": [
       "<div>\n",
       "<style scoped>\n",
       "    .dataframe tbody tr th:only-of-type {\n",
       "        vertical-align: middle;\n",
       "    }\n",
       "\n",
       "    .dataframe tbody tr th {\n",
       "        vertical-align: top;\n",
       "    }\n",
       "\n",
       "    .dataframe thead th {\n",
       "        text-align: right;\n",
       "    }\n",
       "</style>\n",
       "<table border=\"1\" class=\"dataframe\">\n",
       "  <thead>\n",
       "    <tr style=\"text-align: right;\">\n",
       "      <th></th>\n",
       "      <th>Creditability</th>\n",
       "      <th>Account Balance</th>\n",
       "      <th>Duration of Credit (month)</th>\n",
       "      <th>Payment Status of Previous Credit</th>\n",
       "      <th>Purpose</th>\n",
       "      <th>Credit Amount</th>\n",
       "      <th>Value Savings/Stocks</th>\n",
       "      <th>Length of current employment</th>\n",
       "      <th>Instalment per cent</th>\n",
       "      <th>Sex &amp; Marital Status</th>\n",
       "      <th>...</th>\n",
       "      <th>Duration in Current address</th>\n",
       "      <th>Most valuable available asset</th>\n",
       "      <th>Age (years)</th>\n",
       "      <th>Concurrent Credits</th>\n",
       "      <th>Type of apartment</th>\n",
       "      <th>No of Credits at this Bank</th>\n",
       "      <th>Occupation</th>\n",
       "      <th>No of dependents</th>\n",
       "      <th>Telephone</th>\n",
       "      <th>Foreign Worker</th>\n",
       "    </tr>\n",
       "  </thead>\n",
       "  <tbody>\n",
       "    <tr>\n",
       "      <th>997</th>\n",
       "      <td>0</td>\n",
       "      <td>4</td>\n",
       "      <td>21</td>\n",
       "      <td>4</td>\n",
       "      <td>0</td>\n",
       "      <td>12680</td>\n",
       "      <td>5</td>\n",
       "      <td>5</td>\n",
       "      <td>4</td>\n",
       "      <td>3</td>\n",
       "      <td>...</td>\n",
       "      <td>4</td>\n",
       "      <td>4</td>\n",
       "      <td>30</td>\n",
       "      <td>3</td>\n",
       "      <td>3</td>\n",
       "      <td>1</td>\n",
       "      <td>4</td>\n",
       "      <td>1</td>\n",
       "      <td>2</td>\n",
       "      <td>1</td>\n",
       "    </tr>\n",
       "    <tr>\n",
       "      <th>998</th>\n",
       "      <td>0</td>\n",
       "      <td>2</td>\n",
       "      <td>12</td>\n",
       "      <td>2</td>\n",
       "      <td>3</td>\n",
       "      <td>6468</td>\n",
       "      <td>5</td>\n",
       "      <td>1</td>\n",
       "      <td>2</td>\n",
       "      <td>3</td>\n",
       "      <td>...</td>\n",
       "      <td>1</td>\n",
       "      <td>4</td>\n",
       "      <td>52</td>\n",
       "      <td>3</td>\n",
       "      <td>2</td>\n",
       "      <td>1</td>\n",
       "      <td>4</td>\n",
       "      <td>1</td>\n",
       "      <td>2</td>\n",
       "      <td>1</td>\n",
       "    </tr>\n",
       "    <tr>\n",
       "      <th>999</th>\n",
       "      <td>0</td>\n",
       "      <td>1</td>\n",
       "      <td>30</td>\n",
       "      <td>2</td>\n",
       "      <td>2</td>\n",
       "      <td>6350</td>\n",
       "      <td>5</td>\n",
       "      <td>5</td>\n",
       "      <td>4</td>\n",
       "      <td>3</td>\n",
       "      <td>...</td>\n",
       "      <td>4</td>\n",
       "      <td>2</td>\n",
       "      <td>31</td>\n",
       "      <td>3</td>\n",
       "      <td>2</td>\n",
       "      <td>1</td>\n",
       "      <td>3</td>\n",
       "      <td>1</td>\n",
       "      <td>1</td>\n",
       "      <td>1</td>\n",
       "    </tr>\n",
       "  </tbody>\n",
       "</table>\n",
       "<p>3 rows × 21 columns</p>\n",
       "</div>"
      ],
      "text/plain": [
       "     Creditability  Account Balance  Duration of Credit (month)  \\\n",
       "997              0                4                          21   \n",
       "998              0                2                          12   \n",
       "999              0                1                          30   \n",
       "\n",
       "     Payment Status of Previous Credit  Purpose  Credit Amount  \\\n",
       "997                                  4        0          12680   \n",
       "998                                  2        3           6468   \n",
       "999                                  2        2           6350   \n",
       "\n",
       "     Value Savings/Stocks  Length of current employment  Instalment per cent  \\\n",
       "997                     5                             5                    4   \n",
       "998                     5                             1                    2   \n",
       "999                     5                             5                    4   \n",
       "\n",
       "     Sex & Marital Status  ...  Duration in Current address  \\\n",
       "997                     3  ...                            4   \n",
       "998                     3  ...                            1   \n",
       "999                     3  ...                            4   \n",
       "\n",
       "     Most valuable available asset  Age (years)  Concurrent Credits  \\\n",
       "997                              4           30                   3   \n",
       "998                              4           52                   3   \n",
       "999                              2           31                   3   \n",
       "\n",
       "     Type of apartment  No of Credits at this Bank  Occupation  \\\n",
       "997                  3                           1           4   \n",
       "998                  2                           1           4   \n",
       "999                  2                           1           3   \n",
       "\n",
       "     No of dependents  Telephone  Foreign Worker  \n",
       "997                 1          2               1  \n",
       "998                 1          2               1  \n",
       "999                 1          1               1  \n",
       "\n",
       "[3 rows x 21 columns]"
      ]
     },
     "execution_count": 31,
     "metadata": {},
     "output_type": "execute_result"
    }
   ],
   "source": [
    "german.tail(3)"
   ]
  },
  {
   "cell_type": "code",
   "execution_count": 36,
   "id": "9a04b667",
   "metadata": {},
   "outputs": [
    {
     "data": {
      "text/plain": [
       "Creditability                        0\n",
       "Account Balance                      0\n",
       "Duration of Credit (month)           0\n",
       "Payment Status of Previous Credit    0\n",
       "Purpose                              0\n",
       "Credit Amount                        0\n",
       "Value Savings/Stocks                 0\n",
       "Length of current employment         0\n",
       "Instalment per cent                  0\n",
       "Sex & Marital Status                 0\n",
       "Guarantors                           0\n",
       "Duration in Current address          0\n",
       "Most valuable available asset        0\n",
       "Age (years)                          0\n",
       "Concurrent Credits                   0\n",
       "Type of apartment                    0\n",
       "No of Credits at this Bank           0\n",
       "Occupation                           0\n",
       "No of dependents                     0\n",
       "Telephone                            0\n",
       "Foreign Worker                       0\n",
       "dtype: int64"
      ]
     },
     "execution_count": 36,
     "metadata": {},
     "output_type": "execute_result"
    }
   ],
   "source": [
    "german.isnull().sum()"
   ]
  },
  {
   "cell_type": "code",
   "execution_count": 37,
   "id": "71993a17",
   "metadata": {},
   "outputs": [
    {
     "data": {
      "text/plain": [
       "0"
      ]
     },
     "execution_count": 37,
     "metadata": {},
     "output_type": "execute_result"
    }
   ],
   "source": [
    "german.isnull().sum().sum()"
   ]
  },
  {
   "cell_type": "code",
   "execution_count": 41,
   "id": "262875c7",
   "metadata": {},
   "outputs": [
    {
     "data": {
      "text/plain": [
       "3     280\n",
       "0     234\n",
       "2     181\n",
       "1     103\n",
       "9      97\n",
       "6      50\n",
       "5      22\n",
       "4      12\n",
       "10     12\n",
       "8       9\n",
       "Name: Purpose, dtype: int64"
      ]
     },
     "execution_count": 41,
     "metadata": {},
     "output_type": "execute_result"
    }
   ],
   "source": [
    "german[\"Purpose\"].value_counts()"
   ]
  },
  {
   "cell_type": "code",
   "execution_count": 42,
   "id": "70a56fb1",
   "metadata": {},
   "outputs": [
    {
     "data": {
      "text/plain": [
       "0     234\n",
       "1     103\n",
       "2     181\n",
       "3     280\n",
       "4      12\n",
       "5      22\n",
       "6      50\n",
       "8       9\n",
       "9      97\n",
       "10     12\n",
       "Name: Purpose, dtype: int64"
      ]
     },
     "execution_count": 42,
     "metadata": {},
     "output_type": "execute_result"
    }
   ],
   "source": [
    "german[\"Purpose\"].value_counts().sort_index()"
   ]
  },
  {
   "cell_type": "code",
   "execution_count": 44,
   "id": "9c11e36c",
   "metadata": {},
   "outputs": [
    {
     "data": {
      "text/plain": [
       "3     280\n",
       "0     234\n",
       "2     181\n",
       "1     103\n",
       "9      97\n",
       "6      50\n",
       "5      22\n",
       "4      12\n",
       "10     12\n",
       "8       9\n",
       "Name: Purpose, dtype: int64"
      ]
     },
     "execution_count": 44,
     "metadata": {},
     "output_type": "execute_result"
    }
   ],
   "source": [
    "german[\"Purpose\"].value_counts().sort_values(ascending=False)"
   ]
  },
  {
   "cell_type": "code",
   "execution_count": 45,
   "id": "571d00b2",
   "metadata": {},
   "outputs": [
    {
     "data": {
      "text/plain": [
       "1262    3\n",
       "1258    3\n",
       "1478    3\n",
       "1393    3\n",
       "1275    3\n",
       "       ..\n",
       "4844    1\n",
       "2743    1\n",
       "750     1\n",
       "2799    1\n",
       "6143    1\n",
       "Name: Credit Amount, Length: 923, dtype: int64"
      ]
     },
     "execution_count": 45,
     "metadata": {},
     "output_type": "execute_result"
    }
   ],
   "source": [
    "german[\"Credit Amount\"].value_counts()"
   ]
  },
  {
   "cell_type": "code",
   "execution_count": 46,
   "id": "fae56a26",
   "metadata": {},
   "outputs": [
    {
     "data": {
      "text/html": [
       "<div>\n",
       "<style scoped>\n",
       "    .dataframe tbody tr th:only-of-type {\n",
       "        vertical-align: middle;\n",
       "    }\n",
       "\n",
       "    .dataframe tbody tr th {\n",
       "        vertical-align: top;\n",
       "    }\n",
       "\n",
       "    .dataframe thead th {\n",
       "        text-align: right;\n",
       "    }\n",
       "</style>\n",
       "<table border=\"1\" class=\"dataframe\">\n",
       "  <thead>\n",
       "    <tr style=\"text-align: right;\">\n",
       "      <th></th>\n",
       "      <th>Creditability</th>\n",
       "      <th>Account Balance</th>\n",
       "      <th>Duration of Credit (month)</th>\n",
       "      <th>Payment Status of Previous Credit</th>\n",
       "      <th>Purpose</th>\n",
       "      <th>Credit Amount</th>\n",
       "      <th>Value Savings/Stocks</th>\n",
       "      <th>Length of current employment</th>\n",
       "      <th>Instalment per cent</th>\n",
       "      <th>Sex &amp; Marital Status</th>\n",
       "      <th>...</th>\n",
       "      <th>Duration in Current address</th>\n",
       "      <th>Most valuable available asset</th>\n",
       "      <th>Age (years)</th>\n",
       "      <th>Concurrent Credits</th>\n",
       "      <th>Type of apartment</th>\n",
       "      <th>No of Credits at this Bank</th>\n",
       "      <th>Occupation</th>\n",
       "      <th>No of dependents</th>\n",
       "      <th>Telephone</th>\n",
       "      <th>Foreign Worker</th>\n",
       "    </tr>\n",
       "  </thead>\n",
       "  <tbody>\n",
       "    <tr>\n",
       "      <th>count</th>\n",
       "      <td>1000.000000</td>\n",
       "      <td>1000.000000</td>\n",
       "      <td>1000.000000</td>\n",
       "      <td>1000.00000</td>\n",
       "      <td>1000.000000</td>\n",
       "      <td>1000.00000</td>\n",
       "      <td>1000.000000</td>\n",
       "      <td>1000.000000</td>\n",
       "      <td>1000.000000</td>\n",
       "      <td>1000.00000</td>\n",
       "      <td>...</td>\n",
       "      <td>1000.000000</td>\n",
       "      <td>1000.000000</td>\n",
       "      <td>1000.00000</td>\n",
       "      <td>1000.000000</td>\n",
       "      <td>1000.000000</td>\n",
       "      <td>1000.000000</td>\n",
       "      <td>1000.000000</td>\n",
       "      <td>1000.000000</td>\n",
       "      <td>1000.000000</td>\n",
       "      <td>1000.000000</td>\n",
       "    </tr>\n",
       "    <tr>\n",
       "      <th>mean</th>\n",
       "      <td>0.700000</td>\n",
       "      <td>2.577000</td>\n",
       "      <td>20.903000</td>\n",
       "      <td>2.54500</td>\n",
       "      <td>2.828000</td>\n",
       "      <td>3271.24800</td>\n",
       "      <td>2.105000</td>\n",
       "      <td>3.384000</td>\n",
       "      <td>2.973000</td>\n",
       "      <td>2.68200</td>\n",
       "      <td>...</td>\n",
       "      <td>2.845000</td>\n",
       "      <td>2.358000</td>\n",
       "      <td>35.54200</td>\n",
       "      <td>2.675000</td>\n",
       "      <td>1.928000</td>\n",
       "      <td>1.407000</td>\n",
       "      <td>2.904000</td>\n",
       "      <td>1.155000</td>\n",
       "      <td>1.404000</td>\n",
       "      <td>1.037000</td>\n",
       "    </tr>\n",
       "    <tr>\n",
       "      <th>std</th>\n",
       "      <td>0.458487</td>\n",
       "      <td>1.257638</td>\n",
       "      <td>12.058814</td>\n",
       "      <td>1.08312</td>\n",
       "      <td>2.744439</td>\n",
       "      <td>2822.75176</td>\n",
       "      <td>1.580023</td>\n",
       "      <td>1.208306</td>\n",
       "      <td>1.118715</td>\n",
       "      <td>0.70808</td>\n",
       "      <td>...</td>\n",
       "      <td>1.103718</td>\n",
       "      <td>1.050209</td>\n",
       "      <td>11.35267</td>\n",
       "      <td>0.705601</td>\n",
       "      <td>0.530186</td>\n",
       "      <td>0.577654</td>\n",
       "      <td>0.653614</td>\n",
       "      <td>0.362086</td>\n",
       "      <td>0.490943</td>\n",
       "      <td>0.188856</td>\n",
       "    </tr>\n",
       "    <tr>\n",
       "      <th>min</th>\n",
       "      <td>0.000000</td>\n",
       "      <td>1.000000</td>\n",
       "      <td>4.000000</td>\n",
       "      <td>0.00000</td>\n",
       "      <td>0.000000</td>\n",
       "      <td>250.00000</td>\n",
       "      <td>1.000000</td>\n",
       "      <td>1.000000</td>\n",
       "      <td>1.000000</td>\n",
       "      <td>1.00000</td>\n",
       "      <td>...</td>\n",
       "      <td>1.000000</td>\n",
       "      <td>1.000000</td>\n",
       "      <td>19.00000</td>\n",
       "      <td>1.000000</td>\n",
       "      <td>1.000000</td>\n",
       "      <td>1.000000</td>\n",
       "      <td>1.000000</td>\n",
       "      <td>1.000000</td>\n",
       "      <td>1.000000</td>\n",
       "      <td>1.000000</td>\n",
       "    </tr>\n",
       "    <tr>\n",
       "      <th>25%</th>\n",
       "      <td>0.000000</td>\n",
       "      <td>1.000000</td>\n",
       "      <td>12.000000</td>\n",
       "      <td>2.00000</td>\n",
       "      <td>1.000000</td>\n",
       "      <td>1365.50000</td>\n",
       "      <td>1.000000</td>\n",
       "      <td>3.000000</td>\n",
       "      <td>2.000000</td>\n",
       "      <td>2.00000</td>\n",
       "      <td>...</td>\n",
       "      <td>2.000000</td>\n",
       "      <td>1.000000</td>\n",
       "      <td>27.00000</td>\n",
       "      <td>3.000000</td>\n",
       "      <td>2.000000</td>\n",
       "      <td>1.000000</td>\n",
       "      <td>3.000000</td>\n",
       "      <td>1.000000</td>\n",
       "      <td>1.000000</td>\n",
       "      <td>1.000000</td>\n",
       "    </tr>\n",
       "    <tr>\n",
       "      <th>50%</th>\n",
       "      <td>1.000000</td>\n",
       "      <td>2.000000</td>\n",
       "      <td>18.000000</td>\n",
       "      <td>2.00000</td>\n",
       "      <td>2.000000</td>\n",
       "      <td>2319.50000</td>\n",
       "      <td>1.000000</td>\n",
       "      <td>3.000000</td>\n",
       "      <td>3.000000</td>\n",
       "      <td>3.00000</td>\n",
       "      <td>...</td>\n",
       "      <td>3.000000</td>\n",
       "      <td>2.000000</td>\n",
       "      <td>33.00000</td>\n",
       "      <td>3.000000</td>\n",
       "      <td>2.000000</td>\n",
       "      <td>1.000000</td>\n",
       "      <td>3.000000</td>\n",
       "      <td>1.000000</td>\n",
       "      <td>1.000000</td>\n",
       "      <td>1.000000</td>\n",
       "    </tr>\n",
       "    <tr>\n",
       "      <th>75%</th>\n",
       "      <td>1.000000</td>\n",
       "      <td>4.000000</td>\n",
       "      <td>24.000000</td>\n",
       "      <td>4.00000</td>\n",
       "      <td>3.000000</td>\n",
       "      <td>3972.25000</td>\n",
       "      <td>3.000000</td>\n",
       "      <td>5.000000</td>\n",
       "      <td>4.000000</td>\n",
       "      <td>3.00000</td>\n",
       "      <td>...</td>\n",
       "      <td>4.000000</td>\n",
       "      <td>3.000000</td>\n",
       "      <td>42.00000</td>\n",
       "      <td>3.000000</td>\n",
       "      <td>2.000000</td>\n",
       "      <td>2.000000</td>\n",
       "      <td>3.000000</td>\n",
       "      <td>1.000000</td>\n",
       "      <td>2.000000</td>\n",
       "      <td>1.000000</td>\n",
       "    </tr>\n",
       "    <tr>\n",
       "      <th>max</th>\n",
       "      <td>1.000000</td>\n",
       "      <td>4.000000</td>\n",
       "      <td>72.000000</td>\n",
       "      <td>4.00000</td>\n",
       "      <td>10.000000</td>\n",
       "      <td>18424.00000</td>\n",
       "      <td>5.000000</td>\n",
       "      <td>5.000000</td>\n",
       "      <td>4.000000</td>\n",
       "      <td>4.00000</td>\n",
       "      <td>...</td>\n",
       "      <td>4.000000</td>\n",
       "      <td>4.000000</td>\n",
       "      <td>75.00000</td>\n",
       "      <td>3.000000</td>\n",
       "      <td>3.000000</td>\n",
       "      <td>4.000000</td>\n",
       "      <td>4.000000</td>\n",
       "      <td>2.000000</td>\n",
       "      <td>2.000000</td>\n",
       "      <td>2.000000</td>\n",
       "    </tr>\n",
       "  </tbody>\n",
       "</table>\n",
       "<p>8 rows × 21 columns</p>\n",
       "</div>"
      ],
      "text/plain": [
       "       Creditability  Account Balance  Duration of Credit (month)  \\\n",
       "count    1000.000000      1000.000000                 1000.000000   \n",
       "mean        0.700000         2.577000                   20.903000   \n",
       "std         0.458487         1.257638                   12.058814   \n",
       "min         0.000000         1.000000                    4.000000   \n",
       "25%         0.000000         1.000000                   12.000000   \n",
       "50%         1.000000         2.000000                   18.000000   \n",
       "75%         1.000000         4.000000                   24.000000   \n",
       "max         1.000000         4.000000                   72.000000   \n",
       "\n",
       "       Payment Status of Previous Credit      Purpose  Credit Amount  \\\n",
       "count                         1000.00000  1000.000000     1000.00000   \n",
       "mean                             2.54500     2.828000     3271.24800   \n",
       "std                              1.08312     2.744439     2822.75176   \n",
       "min                              0.00000     0.000000      250.00000   \n",
       "25%                              2.00000     1.000000     1365.50000   \n",
       "50%                              2.00000     2.000000     2319.50000   \n",
       "75%                              4.00000     3.000000     3972.25000   \n",
       "max                              4.00000    10.000000    18424.00000   \n",
       "\n",
       "       Value Savings/Stocks  Length of current employment  \\\n",
       "count           1000.000000                   1000.000000   \n",
       "mean               2.105000                      3.384000   \n",
       "std                1.580023                      1.208306   \n",
       "min                1.000000                      1.000000   \n",
       "25%                1.000000                      3.000000   \n",
       "50%                1.000000                      3.000000   \n",
       "75%                3.000000                      5.000000   \n",
       "max                5.000000                      5.000000   \n",
       "\n",
       "       Instalment per cent  Sex & Marital Status  ...  \\\n",
       "count          1000.000000            1000.00000  ...   \n",
       "mean              2.973000               2.68200  ...   \n",
       "std               1.118715               0.70808  ...   \n",
       "min               1.000000               1.00000  ...   \n",
       "25%               2.000000               2.00000  ...   \n",
       "50%               3.000000               3.00000  ...   \n",
       "75%               4.000000               3.00000  ...   \n",
       "max               4.000000               4.00000  ...   \n",
       "\n",
       "       Duration in Current address  Most valuable available asset  \\\n",
       "count                  1000.000000                    1000.000000   \n",
       "mean                      2.845000                       2.358000   \n",
       "std                       1.103718                       1.050209   \n",
       "min                       1.000000                       1.000000   \n",
       "25%                       2.000000                       1.000000   \n",
       "50%                       3.000000                       2.000000   \n",
       "75%                       4.000000                       3.000000   \n",
       "max                       4.000000                       4.000000   \n",
       "\n",
       "       Age (years)  Concurrent Credits  Type of apartment  \\\n",
       "count   1000.00000         1000.000000        1000.000000   \n",
       "mean      35.54200            2.675000           1.928000   \n",
       "std       11.35267            0.705601           0.530186   \n",
       "min       19.00000            1.000000           1.000000   \n",
       "25%       27.00000            3.000000           2.000000   \n",
       "50%       33.00000            3.000000           2.000000   \n",
       "75%       42.00000            3.000000           2.000000   \n",
       "max       75.00000            3.000000           3.000000   \n",
       "\n",
       "       No of Credits at this Bank   Occupation  No of dependents    Telephone  \\\n",
       "count                 1000.000000  1000.000000       1000.000000  1000.000000   \n",
       "mean                     1.407000     2.904000          1.155000     1.404000   \n",
       "std                      0.577654     0.653614          0.362086     0.490943   \n",
       "min                      1.000000     1.000000          1.000000     1.000000   \n",
       "25%                      1.000000     3.000000          1.000000     1.000000   \n",
       "50%                      1.000000     3.000000          1.000000     1.000000   \n",
       "75%                      2.000000     3.000000          1.000000     2.000000   \n",
       "max                      4.000000     4.000000          2.000000     2.000000   \n",
       "\n",
       "       Foreign Worker  \n",
       "count     1000.000000  \n",
       "mean         1.037000  \n",
       "std          0.188856  \n",
       "min          1.000000  \n",
       "25%          1.000000  \n",
       "50%          1.000000  \n",
       "75%          1.000000  \n",
       "max          2.000000  \n",
       "\n",
       "[8 rows x 21 columns]"
      ]
     },
     "execution_count": 46,
     "metadata": {},
     "output_type": "execute_result"
    }
   ],
   "source": [
    "german.describe()"
   ]
  },
  {
   "cell_type": "markdown",
   "id": "83d499d9",
   "metadata": {},
   "source": [
    "# german_sample df 만들기\n",
    "1. german에서 필요한 컬럼을 추출\n",
    "    - Creditability, Duration of Credit(month),Purpose, Credit Amount\n",
    "2. german_sample 만들기"
   ]
  },
  {
   "cell_type": "code",
   "execution_count": 58,
   "id": "40c42b4f",
   "metadata": {},
   "outputs": [
    {
     "data": {
      "text/html": [
       "<div>\n",
       "<style scoped>\n",
       "    .dataframe tbody tr th:only-of-type {\n",
       "        vertical-align: middle;\n",
       "    }\n",
       "\n",
       "    .dataframe tbody tr th {\n",
       "        vertical-align: top;\n",
       "    }\n",
       "\n",
       "    .dataframe thead th {\n",
       "        text-align: right;\n",
       "    }\n",
       "</style>\n",
       "<table border=\"1\" class=\"dataframe\">\n",
       "  <thead>\n",
       "    <tr style=\"text-align: right;\">\n",
       "      <th></th>\n",
       "      <th>Creditability</th>\n",
       "      <th>Duration of Credit (month)</th>\n",
       "      <th>Purpose</th>\n",
       "      <th>Credit Amount</th>\n",
       "    </tr>\n",
       "  </thead>\n",
       "  <tbody>\n",
       "    <tr>\n",
       "      <th>0</th>\n",
       "      <td>1</td>\n",
       "      <td>18</td>\n",
       "      <td>2</td>\n",
       "      <td>1049</td>\n",
       "    </tr>\n",
       "    <tr>\n",
       "      <th>1</th>\n",
       "      <td>1</td>\n",
       "      <td>9</td>\n",
       "      <td>0</td>\n",
       "      <td>2799</td>\n",
       "    </tr>\n",
       "    <tr>\n",
       "      <th>2</th>\n",
       "      <td>1</td>\n",
       "      <td>12</td>\n",
       "      <td>9</td>\n",
       "      <td>841</td>\n",
       "    </tr>\n",
       "  </tbody>\n",
       "</table>\n",
       "</div>"
      ],
      "text/plain": [
       "   Creditability  Duration of Credit (month)  Purpose  Credit Amount\n",
       "0              1                          18        2           1049\n",
       "1              1                           9        0           2799\n",
       "2              1                          12        9            841"
      ]
     },
     "execution_count": 58,
     "metadata": {},
     "output_type": "execute_result"
    }
   ],
   "source": [
    "# 2. 새로운 df 만들기\n",
    "german_sample = german[[\"Creditability\", \"Duration of Credit (month)\",\n",
    "                        \"Purpose\", \"Credit Amount\"]]\n",
    "german_sample.head(3)"
   ]
  },
  {
   "cell_type": "code",
   "execution_count": 60,
   "id": "72d651d5",
   "metadata": {},
   "outputs": [
    {
     "data": {
      "text/html": [
       "<div>\n",
       "<style scoped>\n",
       "    .dataframe tbody tr th:only-of-type {\n",
       "        vertical-align: middle;\n",
       "    }\n",
       "\n",
       "    .dataframe tbody tr th {\n",
       "        vertical-align: top;\n",
       "    }\n",
       "\n",
       "    .dataframe thead th {\n",
       "        text-align: right;\n",
       "    }\n",
       "</style>\n",
       "<table border=\"1\" class=\"dataframe\">\n",
       "  <thead>\n",
       "    <tr style=\"text-align: right;\">\n",
       "      <th></th>\n",
       "      <th>Creditability</th>\n",
       "      <th>Duration of Credit (month)</th>\n",
       "      <th>Purpose</th>\n",
       "      <th>Credit Amount</th>\n",
       "    </tr>\n",
       "  </thead>\n",
       "  <tbody>\n",
       "    <tr>\n",
       "      <th>0</th>\n",
       "      <td>1</td>\n",
       "      <td>18</td>\n",
       "      <td>2</td>\n",
       "      <td>1049</td>\n",
       "    </tr>\n",
       "    <tr>\n",
       "      <th>1</th>\n",
       "      <td>1</td>\n",
       "      <td>9</td>\n",
       "      <td>0</td>\n",
       "      <td>2799</td>\n",
       "    </tr>\n",
       "    <tr>\n",
       "      <th>2</th>\n",
       "      <td>1</td>\n",
       "      <td>12</td>\n",
       "      <td>9</td>\n",
       "      <td>841</td>\n",
       "    </tr>\n",
       "  </tbody>\n",
       "</table>\n",
       "</div>"
      ],
      "text/plain": [
       "   Creditability  Duration of Credit (month)  Purpose  Credit Amount\n",
       "0              1                          18        2           1049\n",
       "1              1                           9        0           2799\n",
       "2              1                          12        9            841"
      ]
     },
     "execution_count": 60,
     "metadata": {},
     "output_type": "execute_result"
    }
   ],
   "source": [
    "# 3. 새로운 df 만들기\n",
    "new_col = [\"Creditability\", \"Duration of Credit (month)\",\n",
    "                        \"Purpose\", \"Credit Amount\"]\n",
    "german_sample = german[new_col]\n",
    "german_sample.head(3)"
   ]
  },
  {
   "cell_type": "code",
   "execution_count": 57,
   "id": "60d50de8",
   "metadata": {
    "scrolled": true
   },
   "outputs": [
    {
     "data": {
      "text/plain": [
       "Creditability                   0\n",
       "Duration of Credit (month)      4\n",
       "Purpose                         0\n",
       "Credit Amount                 250\n",
       "dtype: int64"
      ]
     },
     "execution_count": 57,
     "metadata": {},
     "output_type": "execute_result"
    }
   ],
   "source": [
    "german_sample.min()"
   ]
  },
  {
   "cell_type": "code",
   "execution_count": 61,
   "id": "227ad0b2",
   "metadata": {},
   "outputs": [
    {
     "data": {
      "text/plain": [
       "Creditability                     1\n",
       "Duration of Credit (month)       72\n",
       "Purpose                          10\n",
       "Credit Amount                 18424\n",
       "dtype: int64"
      ]
     },
     "execution_count": 61,
     "metadata": {},
     "output_type": "execute_result"
    }
   ],
   "source": [
    "german_sample.max()"
   ]
  },
  {
   "cell_type": "code",
   "execution_count": 62,
   "id": "18c98b17",
   "metadata": {},
   "outputs": [
    {
     "data": {
      "text/plain": [
       "Creditability                    0.700\n",
       "Duration of Credit (month)      20.903\n",
       "Purpose                          2.828\n",
       "Credit Amount                 3271.248\n",
       "dtype: float64"
      ]
     },
     "execution_count": 62,
     "metadata": {},
     "output_type": "execute_result"
    }
   ],
   "source": [
    "german_sample.mean()"
   ]
  },
  {
   "cell_type": "code",
   "execution_count": 63,
   "id": "7cee4b50",
   "metadata": {},
   "outputs": [
    {
     "data": {
      "text/plain": [
       "Creditability                    0.458487\n",
       "Duration of Credit (month)      12.058814\n",
       "Purpose                          2.744439\n",
       "Credit Amount                 2822.751760\n",
       "dtype: float64"
      ]
     },
     "execution_count": 63,
     "metadata": {},
     "output_type": "execute_result"
    }
   ],
   "source": [
    "german_sample.std()"
   ]
  },
  {
   "cell_type": "code",
   "execution_count": 64,
   "id": "a13a447c",
   "metadata": {},
   "outputs": [
    {
     "data": {
      "text/plain": [
       "Creditability                    1.0\n",
       "Duration of Credit (month)      18.0\n",
       "Purpose                          2.0\n",
       "Credit Amount                 2319.5\n",
       "dtype: float64"
      ]
     },
     "execution_count": 64,
     "metadata": {},
     "output_type": "execute_result"
    }
   ],
   "source": [
    "german_sample.median()"
   ]
  },
  {
   "cell_type": "code",
   "execution_count": 65,
   "id": "ac71e9b2",
   "metadata": {},
   "outputs": [
    {
     "data": {
      "text/plain": [
       "Creditability                    0.0\n",
       "Duration of Credit (month)      12.0\n",
       "Purpose                          1.0\n",
       "Credit Amount                 1365.5\n",
       "Name: 0.25, dtype: float64"
      ]
     },
     "execution_count": 65,
     "metadata": {},
     "output_type": "execute_result"
    }
   ],
   "source": [
    "german_sample.quantile(0.25)"
   ]
  },
  {
   "cell_type": "code",
   "execution_count": 66,
   "id": "d0611d68",
   "metadata": {},
   "outputs": [
    {
     "data": {
      "text/plain": [
       "Creditability                    1.00\n",
       "Duration of Credit (month)      24.00\n",
       "Purpose                          3.00\n",
       "Credit Amount                 3972.25\n",
       "Name: 0.75, dtype: float64"
      ]
     },
     "execution_count": 66,
     "metadata": {},
     "output_type": "execute_result"
    }
   ],
   "source": [
    "german_sample.quantile(0.75)"
   ]
  },
  {
   "cell_type": "code",
   "execution_count": 68,
   "id": "cdfa842c",
   "metadata": {},
   "outputs": [
    {
     "data": {
      "text/html": [
       "<div>\n",
       "<style scoped>\n",
       "    .dataframe tbody tr th:only-of-type {\n",
       "        vertical-align: middle;\n",
       "    }\n",
       "\n",
       "    .dataframe tbody tr th {\n",
       "        vertical-align: top;\n",
       "    }\n",
       "\n",
       "    .dataframe thead th {\n",
       "        text-align: right;\n",
       "    }\n",
       "</style>\n",
       "<table border=\"1\" class=\"dataframe\">\n",
       "  <thead>\n",
       "    <tr style=\"text-align: right;\">\n",
       "      <th></th>\n",
       "      <th>Duration of Credit (month)</th>\n",
       "      <th>Credit Amount</th>\n",
       "      <th>Age (years)</th>\n",
       "    </tr>\n",
       "  </thead>\n",
       "  <tbody>\n",
       "    <tr>\n",
       "      <th>0</th>\n",
       "      <td>18</td>\n",
       "      <td>1049</td>\n",
       "      <td>21</td>\n",
       "    </tr>\n",
       "    <tr>\n",
       "      <th>1</th>\n",
       "      <td>9</td>\n",
       "      <td>2799</td>\n",
       "      <td>36</td>\n",
       "    </tr>\n",
       "    <tr>\n",
       "      <th>2</th>\n",
       "      <td>12</td>\n",
       "      <td>841</td>\n",
       "      <td>23</td>\n",
       "    </tr>\n",
       "  </tbody>\n",
       "</table>\n",
       "</div>"
      ],
      "text/plain": [
       "   Duration of Credit (month)  Credit Amount  Age (years)\n",
       "0                          18           1049           21\n",
       "1                           9           2799           36\n",
       "2                          12            841           23"
      ]
     },
     "execution_count": 68,
     "metadata": {},
     "output_type": "execute_result"
    }
   ],
   "source": [
    "cv_col1 = [\"Duration of Credit (month)\",\"Credit Amount\",\"Age (years)\"]\n",
    "german_sample1 = german[cv_col1]\n",
    "german_sample1.head(3)"
   ]
  },
  {
   "cell_type": "code",
   "execution_count": 69,
   "id": "158bfdd9",
   "metadata": {},
   "outputs": [
    {
     "data": {
      "text/html": [
       "<div>\n",
       "<style scoped>\n",
       "    .dataframe tbody tr th:only-of-type {\n",
       "        vertical-align: middle;\n",
       "    }\n",
       "\n",
       "    .dataframe tbody tr th {\n",
       "        vertical-align: top;\n",
       "    }\n",
       "\n",
       "    .dataframe thead th {\n",
       "        text-align: right;\n",
       "    }\n",
       "</style>\n",
       "<table border=\"1\" class=\"dataframe\">\n",
       "  <thead>\n",
       "    <tr style=\"text-align: right;\">\n",
       "      <th></th>\n",
       "      <th>Duration of Credit (month)</th>\n",
       "      <th>Credit Amount</th>\n",
       "      <th>Age (years)</th>\n",
       "    </tr>\n",
       "  </thead>\n",
       "  <tbody>\n",
       "    <tr>\n",
       "      <th>Duration of Credit (month)</th>\n",
       "      <td>1.000000</td>\n",
       "      <td>0.624988</td>\n",
       "      <td>-0.037550</td>\n",
       "    </tr>\n",
       "    <tr>\n",
       "      <th>Credit Amount</th>\n",
       "      <td>0.624988</td>\n",
       "      <td>1.000000</td>\n",
       "      <td>0.032273</td>\n",
       "    </tr>\n",
       "    <tr>\n",
       "      <th>Age (years)</th>\n",
       "      <td>-0.037550</td>\n",
       "      <td>0.032273</td>\n",
       "      <td>1.000000</td>\n",
       "    </tr>\n",
       "  </tbody>\n",
       "</table>\n",
       "</div>"
      ],
      "text/plain": [
       "                            Duration of Credit (month)  Credit Amount  \\\n",
       "Duration of Credit (month)                    1.000000       0.624988   \n",
       "Credit Amount                                 0.624988       1.000000   \n",
       "Age (years)                                  -0.037550       0.032273   \n",
       "\n",
       "                            Age (years)  \n",
       "Duration of Credit (month)    -0.037550  \n",
       "Credit Amount                  0.032273  \n",
       "Age (years)                    1.000000  "
      ]
     },
     "execution_count": 69,
     "metadata": {},
     "output_type": "execute_result"
    }
   ],
   "source": [
    "german_sample1.corr()"
   ]
  },
  {
   "cell_type": "code",
   "execution_count": 71,
   "id": "e2a4f10e",
   "metadata": {},
   "outputs": [
    {
     "data": {
      "text/html": [
       "<div>\n",
       "<style scoped>\n",
       "    .dataframe tbody tr th:only-of-type {\n",
       "        vertical-align: middle;\n",
       "    }\n",
       "\n",
       "    .dataframe tbody tr th {\n",
       "        vertical-align: top;\n",
       "    }\n",
       "\n",
       "    .dataframe thead th {\n",
       "        text-align: right;\n",
       "    }\n",
       "</style>\n",
       "<table border=\"1\" class=\"dataframe\">\n",
       "  <thead>\n",
       "    <tr style=\"text-align: right;\">\n",
       "      <th></th>\n",
       "      <th>Duration of Credit (month)</th>\n",
       "      <th>Credit Amount</th>\n",
       "      <th>Age (years)</th>\n",
       "    </tr>\n",
       "  </thead>\n",
       "  <tbody>\n",
       "    <tr>\n",
       "      <th>Duration of Credit (month)</th>\n",
       "      <td>145.415006</td>\n",
       "      <td>2.127401e+04</td>\n",
       "      <td>-5.140567</td>\n",
       "    </tr>\n",
       "    <tr>\n",
       "      <th>Credit Amount</th>\n",
       "      <td>21274.007063</td>\n",
       "      <td>7.967927e+06</td>\n",
       "      <td>1034.202787</td>\n",
       "    </tr>\n",
       "    <tr>\n",
       "      <th>Age (years)</th>\n",
       "      <td>-5.140567</td>\n",
       "      <td>1.034203e+03</td>\n",
       "      <td>128.883119</td>\n",
       "    </tr>\n",
       "  </tbody>\n",
       "</table>\n",
       "</div>"
      ],
      "text/plain": [
       "                            Duration of Credit (month)  Credit Amount  \\\n",
       "Duration of Credit (month)                  145.415006   2.127401e+04   \n",
       "Credit Amount                             21274.007063   7.967927e+06   \n",
       "Age (years)                                  -5.140567   1.034203e+03   \n",
       "\n",
       "                            Age (years)  \n",
       "Duration of Credit (month)    -5.140567  \n",
       "Credit Amount               1034.202787  \n",
       "Age (years)                  128.883119  "
      ]
     },
     "execution_count": 71,
     "metadata": {},
     "output_type": "execute_result"
    }
   ],
   "source": [
    "german_sample1.cov()"
   ]
  },
  {
   "cell_type": "code",
   "execution_count": 73,
   "id": "34e4bc8e",
   "metadata": {},
   "outputs": [
    {
     "data": {
      "text/plain": [
       "<AxesSubplot:>"
      ]
     },
     "execution_count": 73,
     "metadata": {},
     "output_type": "execute_result"
    },
    {
     "data": {
      "image/png": "[encoded data removed]",
      "text/plain": [
       "<Figure size 432x288 with 2 Axes>"
      ]
     },
     "metadata": {
      "needs_background": "light"
     },
     "output_type": "display_data"
    }
   ],
   "source": [
    "import seaborn as sns\n",
    "sns.heatmap(german_sample1)"
   ]
  },
  {
   "cell_type": "code",
   "execution_count": 97,
   "id": "41415f15",
   "metadata": {
    "scrolled": true
   },
   "outputs": [],
   "source": [
    "german_sample2 = german.copy()\n",
    "german_grouped = german_sample2[\"Credit Amount\"].groupby(german_sample2[\"Type of apartment\"])"
   ]
  },
  {
   "cell_type": "code",
   "execution_count": 78,
   "id": "62f00db8",
   "metadata": {},
   "outputs": [
    {
     "data": {
      "text/plain": [
       "2    714\n",
       "1    179\n",
       "3    107\n",
       "Name: Type of apartment, dtype: int64"
      ]
     },
     "execution_count": 78,
     "metadata": {},
     "output_type": "execute_result"
    }
   ],
   "source": [
    "german_sample2[\"Type of apartment\"].value_counts()"
   ]
  },
  {
   "cell_type": "code",
   "execution_count": 98,
   "id": "5269376a",
   "metadata": {},
   "outputs": [
    {
     "data": {
      "text/plain": [
       "Type of apartment\n",
       "1    3122.553073\n",
       "2    3067.257703\n",
       "3    4881.205607\n",
       "Name: Credit Amount, dtype: float64"
      ]
     },
     "execution_count": 98,
     "metadata": {},
     "output_type": "execute_result"
    }
   ],
   "source": [
    "german_grouped.mean()"
   ]
  },
  {
   "cell_type": "code",
   "execution_count": 81,
   "id": "323c464d",
   "metadata": {},
   "outputs": [
    {
     "data": {
      "text/plain": [
       "Type of apartment\n",
       "1    3122.553073\n",
       "2    3067.257703\n",
       "3    4881.205607\n",
       "Name: Credit Amount, dtype: float64"
      ]
     },
     "execution_count": 81,
     "metadata": {},
     "output_type": "execute_result"
    }
   ],
   "source": [
    "german_sample2[\"Credit Amount\"].groupby(german_sample2[\"Type of apartment\"]).mean()"
   ]
  },
  {
   "cell_type": "code",
   "execution_count": 95,
   "id": "d25cca81",
   "metadata": {},
   "outputs": [],
   "source": [
    "german_grouped2 = german_sample2[\"Credit Amount\"].\\\n",
    "groupby([german_sample2[\"Purpose\"], german_sample2[\"Type of apartment\"]])"
   ]
  },
  {
   "cell_type": "code",
   "execution_count": 96,
   "id": "08460cee",
   "metadata": {},
   "outputs": [
    {
     "data": {
      "text/plain": [
       "Purpose  Type of apartment\n",
       "0        1                    2597.225000\n",
       "         2                    2811.024242\n",
       "         3                    5138.689655\n",
       "Name: Credit Amount, dtype: float64"
      ]
     },
     "execution_count": 96,
     "metadata": {},
     "output_type": "execute_result"
    }
   ],
   "source": [
    "german_grouped2.mean().head(3)"
   ]
  },
  {
   "cell_type": "code",
   "execution_count": 90,
   "id": "e028f96b",
   "metadata": {},
   "outputs": [
    {
     "data": {
      "text/plain": [
       "Purpose  Type of apartment\n",
       "0        1                    2597.225000\n",
       "         2                    2811.024242\n",
       "         3                    5138.689655\n",
       "Name: Credit Amount, dtype: float64"
      ]
     },
     "execution_count": 90,
     "metadata": {},
     "output_type": "execute_result"
    }
   ],
   "source": [
    "german_sample2[\"Credit Amount\"].\\\n",
    "groupby([german_sample2[\"Purpose\"],\n",
    "         german_sample2[\"Type of apartment\"]]).mean().head(3)"
   ]
  },
  {
   "cell_type": "code",
   "execution_count": 107,
   "id": "8fc1d922",
   "metadata": {},
   "outputs": [
    {
     "data": {
      "text/html": [
       "<div>\n",
       "<style scoped>\n",
       "    .dataframe tbody tr th:only-of-type {\n",
       "        vertical-align: middle;\n",
       "    }\n",
       "\n",
       "    .dataframe tbody tr th {\n",
       "        vertical-align: top;\n",
       "    }\n",
       "\n",
       "    .dataframe thead th {\n",
       "        text-align: right;\n",
       "    }\n",
       "</style>\n",
       "<table border=\"1\" class=\"dataframe\">\n",
       "  <thead>\n",
       "    <tr style=\"text-align: right;\">\n",
       "      <th></th>\n",
       "      <th>Type of apartment</th>\n",
       "      <th>Sex &amp; Marital Status</th>\n",
       "      <th>Credit Amount</th>\n",
       "    </tr>\n",
       "  </thead>\n",
       "  <tbody>\n",
       "    <tr>\n",
       "      <th>0</th>\n",
       "      <td>1</td>\n",
       "      <td>2</td>\n",
       "      <td>1049</td>\n",
       "    </tr>\n",
       "    <tr>\n",
       "      <th>1</th>\n",
       "      <td>1</td>\n",
       "      <td>3</td>\n",
       "      <td>2799</td>\n",
       "    </tr>\n",
       "    <tr>\n",
       "      <th>2</th>\n",
       "      <td>1</td>\n",
       "      <td>2</td>\n",
       "      <td>841</td>\n",
       "    </tr>\n",
       "    <tr>\n",
       "      <th>3</th>\n",
       "      <td>1</td>\n",
       "      <td>3</td>\n",
       "      <td>2122</td>\n",
       "    </tr>\n",
       "    <tr>\n",
       "      <th>4</th>\n",
       "      <td>2</td>\n",
       "      <td>3</td>\n",
       "      <td>2171</td>\n",
       "    </tr>\n",
       "  </tbody>\n",
       "</table>\n",
       "</div>"
      ],
      "text/plain": [
       "   Type of apartment  Sex & Marital Status  Credit Amount\n",
       "0                  1                     2           1049\n",
       "1                  1                     3           2799\n",
       "2                  1                     2            841\n",
       "3                  1                     3           2122\n",
       "4                  2                     3           2171"
      ]
     },
     "execution_count": 107,
     "metadata": {},
     "output_type": "execute_result"
    }
   ],
   "source": [
    "# group 한 개씩 반복\n",
    "\n",
    "german = pd.read_csv(url)\n",
    "german_sample3 = german[[\"Type of apartment\",\"Sex & Marital Status\",\"Credit Amount\"]]\n",
    "german_sample3.head()"
   ]
  },
  {
   "cell_type": "code",
   "execution_count": 109,
   "id": "e960b000",
   "metadata": {},
   "outputs": [
    {
     "data": {
      "text/html": [
       "<div>\n",
       "<style scoped>\n",
       "    .dataframe tbody tr th:only-of-type {\n",
       "        vertical-align: middle;\n",
       "    }\n",
       "\n",
       "    .dataframe tbody tr th {\n",
       "        vertical-align: top;\n",
       "    }\n",
       "\n",
       "    .dataframe thead th {\n",
       "        text-align: right;\n",
       "    }\n",
       "</style>\n",
       "<table border=\"1\" class=\"dataframe\">\n",
       "  <thead>\n",
       "    <tr style=\"text-align: right;\">\n",
       "      <th></th>\n",
       "      <th>Type of apartment</th>\n",
       "      <th>Sex &amp; Marital Status</th>\n",
       "      <th>Credit Amount</th>\n",
       "    </tr>\n",
       "  </thead>\n",
       "  <tbody>\n",
       "    <tr>\n",
       "      <th>0</th>\n",
       "      <td>1</td>\n",
       "      <td>2</td>\n",
       "      <td>1049</td>\n",
       "    </tr>\n",
       "    <tr>\n",
       "      <th>1</th>\n",
       "      <td>1</td>\n",
       "      <td>3</td>\n",
       "      <td>2799</td>\n",
       "    </tr>\n",
       "    <tr>\n",
       "      <th>2</th>\n",
       "      <td>1</td>\n",
       "      <td>2</td>\n",
       "      <td>841</td>\n",
       "    </tr>\n",
       "    <tr>\n",
       "      <th>3</th>\n",
       "      <td>1</td>\n",
       "      <td>3</td>\n",
       "      <td>2122</td>\n",
       "    </tr>\n",
       "    <tr>\n",
       "      <th>4</th>\n",
       "      <td>2</td>\n",
       "      <td>3</td>\n",
       "      <td>2171</td>\n",
       "    </tr>\n",
       "  </tbody>\n",
       "</table>\n",
       "</div>"
      ],
      "text/plain": [
       "   Type of apartment  Sex & Marital Status  Credit Amount\n",
       "0                  1                     2           1049\n",
       "1                  1                     3           2799\n",
       "2                  1                     2            841\n",
       "3                  1                     3           2122\n",
       "4                  2                     3           2171"
      ]
     },
     "execution_count": 109,
     "metadata": {},
     "output_type": "execute_result"
    }
   ],
   "source": [
    "cv_col3 = [\"Type of apartment\",\"Sex & Marital Status\",\"Credit Amount\"]\n",
    "german_sample3 = german[cv_col3]\n",
    "german_sample3.head()"
   ]
  },
  {
   "cell_type": "code",
   "execution_count": 114,
   "id": "1caafbae",
   "metadata": {},
   "outputs": [
    {
     "name": "stdout",
     "output_type": "stream",
     "text": [
      "type =  1\n",
      "   Type of apartment  Sex & Marital Status  Credit Amount\n",
      "0                  1                     2           1049\n",
      "1                  1                     3           2799\n",
      "2                  1                     2            841\n",
      "type =  2\n",
      "   Type of apartment  Sex & Marital Status  Credit Amount\n",
      "4                  2                     3           2171\n",
      "6                  2                     3           3398\n",
      "7                  2                     3           1361\n",
      "type =  3\n",
      "    Type of apartment  Sex & Marital Status  Credit Amount\n",
      "29                  3                     3           4796\n",
      "44                  3                     3           1239\n",
      "69                  3                     3           2032\n"
     ]
    }
   ],
   "source": [
    "for type1, group in german_sample3.groupby(\"Type of apartment\"):\n",
    "    print(\"type = \", type1)\n",
    "    print(group.head(3))"
   ]
  },
  {
   "cell_type": "code",
   "execution_count": 115,
   "id": "1aed9bb7",
   "metadata": {},
   "outputs": [
    {
     "name": "stdout",
     "output_type": "stream",
     "text": [
      "type =  1\n",
      "(179, 3)\n",
      "type =  2\n",
      "(714, 3)\n",
      "type =  3\n",
      "(107, 3)\n"
     ]
    }
   ],
   "source": [
    "for type1, group in german_sample3.groupby(\"Type of apartment\"):\n",
    "    print(\"type = \", type1)\n",
    "    print(group.shape)"
   ]
  },
  {
   "cell_type": "code",
   "execution_count": 116,
   "id": "b2851106",
   "metadata": {},
   "outputs": [
    {
     "data": {
      "text/html": [
       "<div>\n",
       "<style scoped>\n",
       "    .dataframe tbody tr th:only-of-type {\n",
       "        vertical-align: middle;\n",
       "    }\n",
       "\n",
       "    .dataframe tbody tr th {\n",
       "        vertical-align: top;\n",
       "    }\n",
       "\n",
       "    .dataframe thead th {\n",
       "        text-align: right;\n",
       "    }\n",
       "</style>\n",
       "<table border=\"1\" class=\"dataframe\">\n",
       "  <thead>\n",
       "    <tr style=\"text-align: right;\">\n",
       "      <th></th>\n",
       "      <th>Type of apartment</th>\n",
       "      <th>Sex &amp; Marital Status</th>\n",
       "      <th>Credit Amount</th>\n",
       "    </tr>\n",
       "  </thead>\n",
       "  <tbody>\n",
       "    <tr>\n",
       "      <th>0</th>\n",
       "      <td>1</td>\n",
       "      <td>2</td>\n",
       "      <td>1049</td>\n",
       "    </tr>\n",
       "    <tr>\n",
       "      <th>1</th>\n",
       "      <td>1</td>\n",
       "      <td>3</td>\n",
       "      <td>2799</td>\n",
       "    </tr>\n",
       "    <tr>\n",
       "      <th>2</th>\n",
       "      <td>1</td>\n",
       "      <td>2</td>\n",
       "      <td>841</td>\n",
       "    </tr>\n",
       "  </tbody>\n",
       "</table>\n",
       "</div>"
      ],
      "text/plain": [
       "   Type of apartment  Sex & Marital Status  Credit Amount\n",
       "0                  1                     2           1049\n",
       "1                  1                     3           2799\n",
       "2                  1                     2            841"
      ]
     },
     "execution_count": 116,
     "metadata": {},
     "output_type": "execute_result"
    }
   ],
   "source": [
    "pd.read_csv(url)[cv_col3].head(3)"
   ]
  },
  {
   "cell_type": "code",
   "execution_count": 124,
   "id": "d31616a8",
   "metadata": {},
   "outputs": [
    {
     "name": "stdout",
     "output_type": "stream",
     "text": [
      "(1, 1)\n",
      "     Type of apartment  Sex & Marital Status  Credit Amount\n",
      "369                  1                     1           3021\n",
      "777                  1                     1           3384\n",
      "797                  1                     1           2319\n",
      "(1, 2)\n",
      "   Type of apartment  Sex & Marital Status  Credit Amount\n",
      "0                  1                     2           1049\n",
      "2                  1                     2            841\n",
      "9                  1                     2           3758\n",
      "(1, 3)\n",
      "   Type of apartment  Sex & Marital Status  Credit Amount\n",
      "1                  1                     3           2799\n",
      "3                  1                     3           2122\n",
      "5                  1                     3           2241\n",
      "(1, 4)\n",
      "    Type of apartment  Sex & Marital Status  Credit Amount\n",
      "11                  1                     4           6187\n",
      "14                  1                     4           1936\n",
      "17                  1                     4           3213\n",
      "(2, 1)\n",
      "     Type of apartment  Sex & Marital Status  Credit Amount\n",
      "50                   2                     1            640\n",
      "97                   2                     1           4455\n",
      "112                  2                     1           2366\n",
      "(2, 2)\n",
      "    Type of apartment  Sex & Marital Status  Credit Amount\n",
      "8                   2                     2           1098\n",
      "12                  2                     2           1957\n",
      "33                  2                     2           1376\n",
      "(2, 3)\n",
      "   Type of apartment  Sex & Marital Status  Credit Amount\n",
      "4                  2                     3           2171\n",
      "6                  2                     3           3398\n",
      "7                  2                     3           1361\n",
      "(2, 4)\n",
      "    Type of apartment  Sex & Marital Status  Credit Amount\n",
      "48                  2                     4           1474\n",
      "57                  2                     4           1053\n",
      "78                  2                     4           1602\n",
      "(3, 1)\n",
      "     Type of apartment  Sex & Marital Status  Credit Amount\n",
      "620                  3                     1           9277\n",
      "749                  3                     1           2892\n",
      "784                  3                     1           2149\n",
      "(3, 2)\n",
      "     Type of apartment  Sex & Marital Status  Credit Amount\n",
      "423                  3                     2           2133\n",
      "453                  3                     2           5743\n",
      "467                  3                     2           5324\n",
      "(3, 3)\n",
      "    Type of apartment  Sex & Marital Status  Credit Amount\n",
      "29                  3                     3           4796\n",
      "44                  3                     3           1239\n",
      "69                  3                     3           2032\n",
      "(3, 4)\n",
      "     Type of apartment  Sex & Marital Status  Credit Amount\n",
      "125                  3                     4           5103\n"
     ]
    }
   ],
   "source": [
    "for (type1, sex),group in german_sample3.groupby([\"Type of apartment\",\n",
    "                                                 \"Sex & Marital Status\"]):\n",
    "    print((type1, sex))\n",
    "    print(group.head(3))"
   ]
  },
  {
   "cell_type": "code",
   "execution_count": 125,
   "id": "63bbdfa4",
   "metadata": {},
   "outputs": [
    {
     "name": "stdout",
     "output_type": "stream",
     "text": [
      "(1, 1)\n",
      "     Type of apartment  Sex & Marital Status  Credit Amount\n",
      "369                  1                     1           3021\n",
      "777                  1                     1           3384\n",
      "797                  1                     1           2319\n",
      "(1, 2)\n",
      "   Type of apartment  Sex & Marital Status  Credit Amount\n",
      "0                  1                     2           1049\n",
      "2                  1                     2            841\n",
      "9                  1                     2           3758\n",
      "(1, 3)\n",
      "   Type of apartment  Sex & Marital Status  Credit Amount\n",
      "1                  1                     3           2799\n",
      "3                  1                     3           2122\n",
      "5                  1                     3           2241\n",
      "(1, 4)\n",
      "    Type of apartment  Sex & Marital Status  Credit Amount\n",
      "11                  1                     4           6187\n",
      "14                  1                     4           1936\n",
      "17                  1                     4           3213\n",
      "(2, 1)\n",
      "     Type of apartment  Sex & Marital Status  Credit Amount\n",
      "50                   2                     1            640\n",
      "97                   2                     1           4455\n",
      "112                  2                     1           2366\n",
      "(2, 2)\n",
      "    Type of apartment  Sex & Marital Status  Credit Amount\n",
      "8                   2                     2           1098\n",
      "12                  2                     2           1957\n",
      "33                  2                     2           1376\n",
      "(2, 3)\n",
      "   Type of apartment  Sex & Marital Status  Credit Amount\n",
      "4                  2                     3           2171\n",
      "6                  2                     3           3398\n",
      "7                  2                     3           1361\n",
      "(2, 4)\n",
      "    Type of apartment  Sex & Marital Status  Credit Amount\n",
      "48                  2                     4           1474\n",
      "57                  2                     4           1053\n",
      "78                  2                     4           1602\n",
      "(3, 1)\n",
      "     Type of apartment  Sex & Marital Status  Credit Amount\n",
      "620                  3                     1           9277\n",
      "749                  3                     1           2892\n",
      "784                  3                     1           2149\n",
      "(3, 2)\n",
      "     Type of apartment  Sex & Marital Status  Credit Amount\n",
      "423                  3                     2           2133\n",
      "453                  3                     2           5743\n",
      "467                  3                     2           5324\n",
      "(3, 3)\n",
      "    Type of apartment  Sex & Marital Status  Credit Amount\n",
      "29                  3                     3           4796\n",
      "44                  3                     3           1239\n",
      "69                  3                     3           2032\n",
      "(3, 4)\n",
      "     Type of apartment  Sex & Marital Status  Credit Amount\n",
      "125                  3                     4           5103\n"
     ]
    }
   ],
   "source": [
    "for (aa),group1 in german_sample3.groupby([\"Type of apartment\",\n",
    "                                                 \"Sex & Marital Status\"]):\n",
    "    print((aa))\n",
    "    print(group1.head(3))"
   ]
  },
  {
   "cell_type": "code",
   "execution_count": 127,
   "id": "09886da7",
   "metadata": {},
   "outputs": [
    {
     "name": "stdout",
     "output_type": "stream",
     "text": [
      "(1, 1)\n",
      "(6, 3)\n",
      "------------------------------\n",
      "(1, 2)\n",
      "(95, 3)\n",
      "------------------------------\n",
      "(1, 3)\n",
      "(55, 3)\n",
      "------------------------------\n",
      "(1, 4)\n",
      "(23, 3)\n",
      "------------------------------\n",
      "(2, 1)\n",
      "(41, 3)\n",
      "------------------------------\n",
      "(2, 2)\n",
      "(196, 3)\n",
      "------------------------------\n",
      "(2, 3)\n",
      "(409, 3)\n",
      "------------------------------\n",
      "(2, 4)\n",
      "(68, 3)\n",
      "------------------------------\n",
      "(3, 1)\n",
      "(3, 3)\n",
      "------------------------------\n",
      "(3, 2)\n",
      "(19, 3)\n",
      "------------------------------\n",
      "(3, 3)\n",
      "(84, 3)\n",
      "------------------------------\n",
      "(3, 4)\n",
      "(1, 3)\n",
      "------------------------------\n"
     ]
    }
   ],
   "source": [
    "for (aa),group1 in german_sample3.groupby([\"Type of apartment\",\n",
    "                                                 \"Sex & Marital Status\"]):\n",
    "    print((aa))\n",
    "    print(group1.shape)\n",
    "    print(\"-\"*30)"
   ]
  },
  {
   "cell_type": "code",
   "execution_count": 128,
   "id": "5a411dae",
   "metadata": {},
   "outputs": [
    {
     "name": "stdout",
     "output_type": "stream",
     "text": [
      "(1, 1)\n",
      "     Type of apartment  Sex & Marital Status  Credit Amount\n",
      "369                  1                     1           3021\n",
      "777                  1                     1           3384\n",
      "797                  1                     1           2319\n",
      "(1, 2)\n",
      "   Type of apartment  Sex & Marital Status  Credit Amount\n",
      "0                  1                     2           1049\n",
      "2                  1                     2            841\n",
      "9                  1                     2           3758\n",
      "(1, 3)\n",
      "   Type of apartment  Sex & Marital Status  Credit Amount\n",
      "1                  1                     3           2799\n",
      "3                  1                     3           2122\n",
      "5                  1                     3           2241\n",
      "(1, 4)\n",
      "    Type of apartment  Sex & Marital Status  Credit Amount\n",
      "11                  1                     4           6187\n",
      "14                  1                     4           1936\n",
      "17                  1                     4           3213\n",
      "(2, 1)\n",
      "     Type of apartment  Sex & Marital Status  Credit Amount\n",
      "50                   2                     1            640\n",
      "97                   2                     1           4455\n",
      "112                  2                     1           2366\n",
      "(2, 2)\n",
      "    Type of apartment  Sex & Marital Status  Credit Amount\n",
      "8                   2                     2           1098\n",
      "12                  2                     2           1957\n",
      "33                  2                     2           1376\n",
      "(2, 3)\n",
      "   Type of apartment  Sex & Marital Status  Credit Amount\n",
      "4                  2                     3           2171\n",
      "6                  2                     3           3398\n",
      "7                  2                     3           1361\n",
      "(2, 4)\n",
      "    Type of apartment  Sex & Marital Status  Credit Amount\n",
      "48                  2                     4           1474\n",
      "57                  2                     4           1053\n",
      "78                  2                     4           1602\n",
      "(3, 1)\n",
      "     Type of apartment  Sex & Marital Status  Credit Amount\n",
      "620                  3                     1           9277\n",
      "749                  3                     1           2892\n",
      "784                  3                     1           2149\n",
      "(3, 2)\n",
      "     Type of apartment  Sex & Marital Status  Credit Amount\n",
      "423                  3                     2           2133\n",
      "453                  3                     2           5743\n",
      "467                  3                     2           5324\n",
      "(3, 3)\n",
      "    Type of apartment  Sex & Marital Status  Credit Amount\n",
      "29                  3                     3           4796\n",
      "44                  3                     3           1239\n",
      "69                  3                     3           2032\n",
      "(3, 4)\n",
      "     Type of apartment  Sex & Marital Status  Credit Amount\n",
      "125                  3                     4           5103\n"
     ]
    }
   ],
   "source": [
    "for (aa,bb),group2 in german_sample3.groupby([\"Type of apartment\",\n",
    "                                                 \"Sex & Marital Status\"]):\n",
    "    print((aa,bb))\n",
    "    print(group2.head(3))"
   ]
  },
  {
   "cell_type": "code",
   "execution_count": null,
   "id": "ca244498",
   "metadata": {},
   "outputs": [],
   "source": []
  }
 ],
 "metadata": {
  "kernelspec": {
   "display_name": "Python 3",
   "language": "python",
   "name": "python3"
  },
  "language_info": {
   "codemirror_mode": {
    "name": "ipython",
    "version": 3
   },
   "file_extension": ".py",
   "mimetype": "text/x-python",
   "name": "python",
   "nbconvert_exporter": "python",
   "pygments_lexer": "ipython3",
   "version": "3.8.8"
  }
 },
 "nbformat": 4,
 "nbformat_minor": 5
}
