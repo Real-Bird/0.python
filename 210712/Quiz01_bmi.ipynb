{
 "cells": [
  {
   "cell_type": "code",
   "execution_count": 1,
   "id": "ee30cf35",
   "metadata": {},
   "outputs": [],
   "source": [
    "import pandas as pd\n",
    "import seaborn as sns\n",
    "import matplotlib.pyplot as plt"
   ]
  },
  {
   "cell_type": "code",
   "execution_count": 21,
   "id": "c83da8f6",
   "metadata": {},
   "outputs": [
    {
     "data": {
      "text/html": [
       "<div>\n",
       "<style scoped>\n",
       "    .dataframe tbody tr th:only-of-type {\n",
       "        vertical-align: middle;\n",
       "    }\n",
       "\n",
       "    .dataframe tbody tr th {\n",
       "        vertical-align: top;\n",
       "    }\n",
       "\n",
       "    .dataframe thead th {\n",
       "        text-align: right;\n",
       "    }\n",
       "</style>\n",
       "<table border=\"1\" class=\"dataframe\">\n",
       "  <thead>\n",
       "    <tr style=\"text-align: right;\">\n",
       "      <th></th>\n",
       "      <th>height</th>\n",
       "      <th>weight</th>\n",
       "      <th>label</th>\n",
       "    </tr>\n",
       "  </thead>\n",
       "  <tbody>\n",
       "    <tr>\n",
       "      <th>0</th>\n",
       "      <td>125</td>\n",
       "      <td>56</td>\n",
       "      <td>fat</td>\n",
       "    </tr>\n",
       "    <tr>\n",
       "      <th>1</th>\n",
       "      <td>158</td>\n",
       "      <td>54</td>\n",
       "      <td>normal</td>\n",
       "    </tr>\n",
       "    <tr>\n",
       "      <th>2</th>\n",
       "      <td>177</td>\n",
       "      <td>75</td>\n",
       "      <td>normal</td>\n",
       "    </tr>\n",
       "    <tr>\n",
       "      <th>3</th>\n",
       "      <td>175</td>\n",
       "      <td>71</td>\n",
       "      <td>normal</td>\n",
       "    </tr>\n",
       "    <tr>\n",
       "      <th>4</th>\n",
       "      <td>127</td>\n",
       "      <td>79</td>\n",
       "      <td>fat</td>\n",
       "    </tr>\n",
       "  </tbody>\n",
       "</table>\n",
       "</div>"
      ],
      "text/plain": [
       "   height  weight   label\n",
       "0     125      56     fat\n",
       "1     158      54  normal\n",
       "2     177      75  normal\n",
       "3     175      71  normal\n",
       "4     127      79     fat"
      ]
     },
     "execution_count": 21,
     "metadata": {},
     "output_type": "execute_result"
    }
   ],
   "source": [
    "bmi_csv = pd.read_csv(\"bmi.csv\")\n",
    "bmi_df = pd.DataFrame(bmi_csv)\n",
    "bmi_df.head()"
   ]
  },
  {
   "cell_type": "code",
   "execution_count": 26,
   "id": "7b6b88fa",
   "metadata": {},
   "outputs": [],
   "source": [
    "from sklearn.ensemble import RandomForestClassifier\n",
    "from sklearn import metrics\n",
    "from sklearn.model_selection import train_test_split\n",
    "from sklearn.linear_model import LinearRegression\n",
    "from sklearn.preprocessing import OneHotEncoder"
   ]
  },
  {
   "cell_type": "code",
   "execution_count": 64,
   "id": "2d23cfce",
   "metadata": {},
   "outputs": [],
   "source": [
    "def main(df):\n",
    "    enc = OneHotEncoder()\n",
    "    sourcedata = [\n",
    "        [\"f\"],\n",
    "        [\"n\"],\n",
    "        [\"t\"]\n",
    "    ]\n",
    "    enc.fit(sourcedata)\n",
    "    \n",
    "    data = []\n",
    "    for i in df[\"label\"]:\n",
    "        data.append(list(i[0]))\n",
    "\n",
    "    print(enc.transform(data).toarray())"
   ]
  },
  {
   "cell_type": "code",
   "execution_count": 12,
   "id": "3d7bb5b9",
   "metadata": {},
   "outputs": [],
   "source": [
    "label = []\n",
    "data = []\n",
    "\n",
    "for row_index, row in bmi_df.iterrows():\n",
    "                                    \n",
    "    label.append(row.iloc[2])\n",
    "    row_data = []\n",
    "    for v in row.iloc[:2]:\n",
    "        row_data.append(v)\n",
    "\n",
    "    data.append(row_data)"
   ]
  },
  {
   "cell_type": "code",
   "execution_count": 15,
   "id": "af4c411c",
   "metadata": {},
   "outputs": [],
   "source": [
    "data_train, data_test, label_train, label_test = \\\n",
    "    train_test_split(data, label)"
   ]
  },
  {
   "cell_type": "code",
   "execution_count": 89,
   "id": "9f3b0118",
   "metadata": {},
   "outputs": [
    {
     "name": "stdout",
     "output_type": "stream",
     "text": [
      "정답률 = 0.9996\n",
      "리포트 =\n",
      "               precision    recall  f1-score   support\n",
      "\n",
      "         fat       1.00      1.00      1.00      1949\n",
      "      normal       1.00      1.00      1.00      1459\n",
      "        thin       1.00      1.00      1.00      1592\n",
      "\n",
      "    accuracy                           1.00      5000\n",
      "   macro avg       1.00      1.00      1.00      5000\n",
      "weighted avg       1.00      1.00      1.00      5000\n",
      "\n"
     ]
    }
   ],
   "source": [
    "# 데이터 학습\n",
    "clf = RandomForestClassifier() \n",
    "clf.fit(data_train, label_train )\n",
    "\n",
    "# 데이터 예측\n",
    "pre = clf.predict( data_test )\n",
    "\n",
    "# 결과 테스트\n",
    "ac_score = metrics.accuracy_score(label_test, pre)\n",
    "cl_report = metrics.classification_report(label_test, pre)\n",
    "\n",
    "print(\"정답률 =\", ac_score)\n",
    "print(\"리포트 =\\n\", cl_report)\n",
    "\n",
    "bmi1 = clf.predict([[44/100,160/200],\\\n",
    "                    [74/100,170/200],[64/100,180/200]])"
   ]
  },
  {
   "cell_type": "code",
   "execution_count": 90,
   "id": "814b9625",
   "metadata": {},
   "outputs": [
    {
     "name": "stdout",
     "output_type": "stream",
     "text": [
      "['thin' 'fat' 'normal']\n"
     ]
    }
   ],
   "source": [
    "print(bmi1)"
   ]
  },
  {
   "cell_type": "code",
   "execution_count": 91,
   "id": "7af8d0c1",
   "metadata": {},
   "outputs": [
    {
     "name": "stdout",
     "output_type": "stream",
     "text": [
      "0.9964\n",
      "              precision    recall  f1-score   support\n",
      "\n",
      "         fat       1.00      1.00      1.00      1957\n",
      "      normal       0.99      1.00      0.99      1442\n",
      "        thin       1.00      1.00      1.00      1601\n",
      "\n",
      "    accuracy                           1.00      5000\n",
      "   macro avg       1.00      1.00      1.00      5000\n",
      "weighted avg       1.00      1.00      1.00      5000\n",
      "\n"
     ]
    }
   ],
   "source": [
    "import pandas as pd\n",
    "from sklearn import svm, metrics\n",
    "from sklearn.model_selection import train_test_split\n",
    "\n",
    "data = pd.read_csv(\"bmi.csv\")\n",
    "label = data[\"label\"]\n",
    "\n",
    "w = data[\"weight\"]/100\n",
    "h = data[\"height\"]/200\n",
    "wh = pd.concat([w,h],axis=1)\n",
    " \n",
    "\n",
    "data_train, data_test, label_train, label_test = \\\n",
    "  train_test_split(wh, label)\n",
    "\n",
    "clf = svm.SVC()\n",
    "clf.fit(data_train,label_train)\n",
    "\n",
    "pre = clf.predict(data_test)\n",
    "\n",
    "ac_score = metrics.accuracy_score(label_test,pre)\n",
    "cl_report = metrics.classification_report(label_test,pre)\n",
    "\n",
    "print(ac_score)\n",
    "print(cl_report) \n",
    "\n",
    "\n",
    "# 키 : 160, \t몸무게 :44 \n",
    "# 키 :170 \t몸무게 :74 \n",
    "# 키 :180 \t몸무게 64 인 사람은 \n",
    "bmi = clf.predict([[44/100,160/200],\\\n",
    "                    [74/100,170/200],[64/100,180/200]])"
   ]
  },
  {
   "cell_type": "code",
   "execution_count": 86,
   "id": "b8664c4f",
   "metadata": {},
   "outputs": [
    {
     "name": "stdout",
     "output_type": "stream",
     "text": [
      "['thin' 'fat' 'normal']\n"
     ]
    }
   ],
   "source": [
    "print(bmi)"
   ]
  },
  {
   "cell_type": "code",
   "execution_count": 99,
   "id": "7292c8f8",
   "metadata": {},
   "outputs": [
    {
     "name": "stdout",
     "output_type": "stream",
     "text": [
      "0.9934\n",
      "              precision    recall  f1-score   support\n",
      "\n",
      "         fat       1.00      0.99      1.00      1924\n",
      "      normal       0.98      1.00      0.99      1466\n",
      "        thin       1.00      0.99      1.00      1610\n",
      "\n",
      "    accuracy                           0.99      5000\n",
      "   macro avg       0.99      0.99      0.99      5000\n",
      "weighted avg       0.99      0.99      0.99      5000\n",
      "\n"
     ]
    }
   ],
   "source": [
    "data = pd.read_csv(\"bmi.csv\")\n",
    "label = data[\"label\"]\n",
    "\n",
    "w1 = data[\"weight\"]\n",
    "h1 = data[\"height\"]\n",
    "wh1 = pd.concat([w1,h1],axis=1)\n",
    " \n",
    "\n",
    "data_train, data_test, label_train, label_test = \\\n",
    "  train_test_split(wh1, label)\n",
    "\n",
    "clf = svm.SVC()\n",
    "clf.fit(data_train,label_train)\n",
    "\n",
    "pre = clf.predict(data_test)\n",
    "\n",
    "ac_score = metrics.accuracy_score(label_test,pre)\n",
    "cl_report = metrics.classification_report(label_test,pre)\n",
    "\n",
    "print(ac_score)\n",
    "print(cl_report) \n",
    "\n",
    "\n",
    "# 키 : 160, \t몸무게 :44 \n",
    "# 키 :170 \t몸무게 :74 \n",
    "# 키 :180 \t몸무게 64 인 사람은 \n",
    "bmi11 = clf.predict([[44,160],\\\n",
    "                    [74,170],[64,180]])"
   ]
  },
  {
   "cell_type": "code",
   "execution_count": 100,
   "id": "9b91c59e",
   "metadata": {},
   "outputs": [
    {
     "name": "stdout",
     "output_type": "stream",
     "text": [
      "['thin' 'fat' 'normal']\n"
     ]
    }
   ],
   "source": [
    "print(bmi11)"
   ]
  },
  {
   "cell_type": "code",
   "execution_count": null,
   "id": "da2d0da3",
   "metadata": {},
   "outputs": [],
   "source": []
  }
 ],
 "metadata": {
  "kernelspec": {
   "display_name": "Python 3",
   "language": "python",
   "name": "python3"
  },
  "language_info": {
   "codemirror_mode": {
    "name": "ipython",
    "version": 3
   },
   "file_extension": ".py",
   "mimetype": "text/x-python",
   "name": "python",
   "nbconvert_exporter": "python",
   "pygments_lexer": "ipython3",
   "version": "3.8.8"
  }
 },
 "nbformat": 4,
 "nbformat_minor": 5
}
