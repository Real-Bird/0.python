{
 "cells": [
  {
   "cell_type": "code",
   "execution_count": 1,
   "id": "c4784756",
   "metadata": {},
   "outputs": [],
   "source": [
    "from sklearn.preprocessing import OneHotEncoder"
   ]
  },
  {
   "cell_type": "code",
   "execution_count": 6,
   "id": "22c814ed",
   "metadata": {},
   "outputs": [],
   "source": [
    "def main():\n",
    "    enc = OneHotEncoder()\n",
    "    sourcedata = [\n",
    "        [\"a\"],\n",
    "        [\"b\"],\n",
    "        [\"c\"]\n",
    "    ]\n",
    "    enc.fit(sourcedata)\n",
    "    \n",
    "    data = [\n",
    "        [\"a\"],\n",
    "        [\"b\"],\n",
    "        [\"c\"],\n",
    "        [\"a\"],\n",
    "        [\"b\"]\n",
    "    ]\n",
    "    \n",
    "    print(enc.transform(data).toarray())"
   ]
  },
  {
   "cell_type": "code",
   "execution_count": 7,
   "id": "31773cc8",
   "metadata": {},
   "outputs": [
    {
     "name": "stdout",
     "output_type": "stream",
     "text": [
      "[[1. 0. 0.]\n",
      " [0. 1. 0.]\n",
      " [0. 0. 1.]\n",
      " [1. 0. 0.]\n",
      " [0. 1. 0.]]\n"
     ]
    }
   ],
   "source": [
    "main()"
   ]
  },
  {
   "cell_type": "code",
   "execution_count": null,
   "id": "d1a90899",
   "metadata": {},
   "outputs": [],
   "source": []
  }
 ],
 "metadata": {
  "kernelspec": {
   "display_name": "Python 3",
   "language": "python",
   "name": "python3"
  },
  "language_info": {
   "codemirror_mode": {
    "name": "ipython",
    "version": 3
   },
   "file_extension": ".py",
   "mimetype": "text/x-python",
   "name": "python",
   "nbconvert_exporter": "python",
   "pygments_lexer": "ipython3",
   "version": "3.8.8"
  }
 },
 "nbformat": 4,
 "nbformat_minor": 5
}
