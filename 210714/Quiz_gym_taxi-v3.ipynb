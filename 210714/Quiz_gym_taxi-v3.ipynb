{
 "cells": [
  {
   "cell_type": "code",
   "execution_count": 4,
   "id": "c9c750a4",
   "metadata": {},
   "outputs": [
    {
     "name": "stdout",
     "output_type": "stream",
     "text": [
      "500\n",
      "6\n"
     ]
    }
   ],
   "source": [
    "import gym\n",
    "import numpy as np\n",
    "import matplotlib.pyplot as plt\n",
    "env = gym.make(\"Taxi-v3\")\n",
    "print (env.observation_space.n ) #총 상태 수\n",
    "print (env.action_space.n ) #action 수"
   ]
  },
  {
   "cell_type": "code",
   "execution_count": 210,
   "id": "415cf774",
   "metadata": {},
   "outputs": [],
   "source": [
    "# Initialize table with all zeros\n",
    "Q = np.zeros([env.observation_space.n, env.action_space.n])\n",
    "\n",
    "# Set learning parameters\n",
    "learning_rate = 0.9\n",
    "dis = 0.5\n",
    "num_episodes = 2000"
   ]
  },
  {
   "cell_type": "code",
   "execution_count": 218,
   "id": "3b968fb0",
   "metadata": {},
   "outputs": [],
   "source": [
    "rList = []\n",
    "rewardList = []\n",
    "for i in range(num_episodes): # 게임 횟수 = num_episodes\n",
    "    observation = env.reset()\n",
    "    rAll = 0\n",
    "    done = False\n",
    "#     env.render()\n",
    "    # The Q-Table learning algorithm\n",
    "    while not done:\n",
    "        action = np.argmax(Q[observation, :] +\\\n",
    "                 np.random.randn(1, env.action_space.n) / (i + 1)) # your agent here\n",
    "        #아무 action 이나 수행하는 함수. (this takes random actions)\n",
    "        new_observation, reward, done, info = env.step(action)\n",
    "        # Update Q-Table with new knowledge using learning rate\n",
    "        Q[observation, action] = (1-learning_rate) * Q[observation, action] \\\n",
    "             + learning_rate *(reward + dis * np.max(Q[new_observation, :]))\n",
    "#         Q[observation, action] = Q[observation, action] + \\\n",
    "#             learning_rate * (reward + dis * np.max(Q[new_observation, :] - \\\n",
    "#                                                    Q[observation, action]))\n",
    "#         print( \"action\", action, \"reward\", reward)\n",
    "#         env.render()\n",
    "        rAll += reward\n",
    "        observation = new_observation\n",
    "    if rAll > 0:\n",
    "        rewardList.append(rAll)\n",
    "    rList.append(rAll)"
   ]
  },
  {
   "cell_type": "code",
   "execution_count": 221,
   "id": "b9165a3d",
   "metadata": {},
   "outputs": [
    {
     "data": {
      "text/plain": [
       "(410, -10, False, {'prob': 1.0})"
      ]
     },
     "execution_count": 221,
     "metadata": {},
     "output_type": "execute_result"
    }
   ],
   "source": [
    "env.step(action)"
   ]
  },
  {
   "cell_type": "code",
   "execution_count": 219,
   "id": "9bc22196",
   "metadata": {},
   "outputs": [
    {
     "name": "stdout",
     "output_type": "stream",
     "text": [
      "Success rate: 0.8375\n",
      "Final Q-Table Values\n",
      "LEFT DOWN RIGHT UP\n",
      "[[ 0.          0.          0.          0.          0.          0.        ]\n",
      " [-1.98925781 -1.97851562 -1.98925781 -1.97851562 -1.95703125 -9.        ]\n",
      " [-1.83523781 -1.65625    -1.82883718 -1.65625002 -1.3125     -9.        ]\n",
      " ...\n",
      " [-1.93065157 -0.625      -1.90757869 -1.65841791 -9.         -9.        ]\n",
      " [-1.95703125 -1.9140625  -1.95703125 -1.9140625  -9.         -9.        ]\n",
      " [-1.395      -1.305      -1.395       9.         -9.         -9.        ]]\n"
     ]
    }
   ],
   "source": [
    "print(\"Success rate: \" + str(len(rewardList) / num_episodes))\n",
    "print(\"Final Q-Table Values\")\n",
    "print(\"LEFT DOWN RIGHT UP\")\n",
    "print(Q)"
   ]
  },
  {
   "cell_type": "code",
   "execution_count": 220,
   "id": "025ea2bb",
   "metadata": {
    "scrolled": true
   },
   "outputs": [
    {
     "data": {
      "image/png": "[encoded data removed]",
      "text/plain": [
       "<Figure size 432x288 with 1 Axes>"
      ]
     },
     "metadata": {
      "needs_background": "light"
     },
     "output_type": "display_data"
    }
   ],
   "source": [
    "plt.bar(range(len(rList)), rList, color='b', alpha=0.4)\n",
    "plt.show()"
   ]
  },
  {
   "cell_type": "code",
   "execution_count": null,
   "id": "9dd8cd37",
   "metadata": {},
   "outputs": [],
   "source": []
  }
 ],
 "metadata": {
  "kernelspec": {
   "display_name": "Python 3",
   "language": "python",
   "name": "python3"
  },
  "language_info": {
   "codemirror_mode": {
    "name": "ipython",
    "version": 3
   },
   "file_extension": ".py",
   "mimetype": "text/x-python",
   "name": "python",
   "nbconvert_exporter": "python",
   "pygments_lexer": "ipython3",
   "version": "3.8.8"
  }
 },
 "nbformat": 4,
 "nbformat_minor": 5
}
