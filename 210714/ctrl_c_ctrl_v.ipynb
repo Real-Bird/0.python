{
 "cells": [
  {
   "cell_type": "markdown",
   "id": "c6a4b6bc",
   "metadata": {},
   "source": [
    "https://ichi.pro/ko/openai-gymeul-tonghan-q-learning-sogae-49999016693565"
   ]
  },
  {
   "cell_type": "code",
   "execution_count": 8,
   "id": "843ae677",
   "metadata": {},
   "outputs": [
    {
     "data": {
      "text/plain": [
       "484"
      ]
     },
     "execution_count": 8,
     "metadata": {},
     "output_type": "execute_result"
    }
   ],
   "source": [
    "import gym\n",
    "import numpy as np\n",
    "import matplotlib.pyplot as plt\n",
    "env = gym.make(\"Taxi-v3\")\n",
    "import random\n",
    "env.reset()"
   ]
  },
  {
   "cell_type": "code",
   "execution_count": 9,
   "id": "403c81e1",
   "metadata": {},
   "outputs": [],
   "source": [
    "alpha = 0.7 #learning rate                 \n",
    "discount_factor = 0.618               \n",
    "epsilon = 1                  \n",
    "max_epsilon = 1\n",
    "min_epsilon = 0.01         \n",
    "decay = 0.01\n",
    "\n",
    "train_episodes = 2000    \n",
    "test_episodes = 100          \n",
    "max_steps = 100"
   ]
  },
  {
   "cell_type": "code",
   "execution_count": 10,
   "id": "d1e41232",
   "metadata": {},
   "outputs": [],
   "source": [
    "Q = np.zeros((env.observation_space.n, env.action_space.n))"
   ]
  },
  {
   "cell_type": "code",
   "execution_count": 11,
   "id": "3dcf93bf",
   "metadata": {},
   "outputs": [],
   "source": [
    "training_rewards = []  \n",
    "epsilons = []\n",
    "\n",
    "for episode in range(train_episodes):\n",
    "    #Reseting the environment each time as per requirement\n",
    "    state = env.reset()    \n",
    "    #Starting the tracker for the rewards\n",
    "    total_training_rewards = 0"
   ]
  },
  {
   "cell_type": "code",
   "execution_count": 16,
   "id": "9c7b0dbf",
   "metadata": {},
   "outputs": [],
   "source": [
    "    for step in range(100):\n",
    "            #Choosing an action given the states based on a random number\n",
    "        exp_exp_tradeoff = random.uniform(0, 1) \n",
    "\n",
    "    ### STEP 2: SECOND option for choosing the initial action - exploit     \n",
    "            #If the random number is larger than epsilon: employing exploitation \n",
    "            #and selecting best action \n",
    "        if exp_exp_tradeoff > epsilon:\n",
    "            action = np.argmax(Q[state,:]) \n",
    "\n",
    "    ### STEP 2: FIRST option for choosing the initial action - explore       \n",
    "            #Otherwise, employing exploration: choosing a random action \n",
    "        else:\n",
    "            action = env.action_space.sample()\n",
    "                ### STEPs 3 & 4: performing the action and getting the reward     \n",
    "\n",
    "        #Taking the action and getting the reward and outcome state\n",
    "        new_state, reward, done, info = env.step(action)\n",
    "        \n",
    "        # STEP 5: update the Q-table\n",
    "\n",
    "#Updating the Q-table using the Bellman equation\n",
    "        Q[state, action] = Q[state, action]+alpha*(reward+discount_factor*\n",
    "        np.max(Q[new_state, :])-Q[state, action]) \n",
    "        #Increasing our total reward and updating the state\n",
    "        total_training_rewards += reward      \n",
    "        state = new_state         \n",
    "        \n",
    "        #Ending the episode\n",
    "        if done == True:\n",
    "            #print (\"Total reward for episode {}: {}\".format(episode, \n",
    "            #total_training_rewards))\n",
    "            break\n",
    "    \n",
    "    #Cutting down on exploration by reducing the epsilon \n",
    "        epsilon = min_epsilon+(max_epsilon-min_epsilon)*np.exp(-decay*episode)\n",
    "    \n",
    "    #Adding the total reward and reduced epsilon values\n",
    "        training_rewards.append(total_training_rewards)\n",
    "        epsilons.append(epsilon)"
   ]
  },
  {
   "cell_type": "code",
   "execution_count": 17,
   "id": "383ec6d3",
   "metadata": {},
   "outputs": [
    {
     "name": "stdout",
     "output_type": "stream",
     "text": [
      "Training score over time: -5.274\n"
     ]
    }
   ],
   "source": [
    "\n",
    "print (\"Training score over time: \" + str(sum(training_rewards)/train_episodes))\n"
   ]
  },
  {
   "cell_type": "code",
   "execution_count": null,
   "id": "6c621c2e",
   "metadata": {},
   "outputs": [],
   "source": []
  }
 ],
 "metadata": {
  "kernelspec": {
   "display_name": "Python 3",
   "language": "python",
   "name": "python3"
  },
  "language_info": {
   "codemirror_mode": {
    "name": "ipython",
    "version": 3
   },
   "file_extension": ".py",
   "mimetype": "text/x-python",
   "name": "python",
   "nbconvert_exporter": "python",
   "pygments_lexer": "ipython3",
   "version": "3.8.8"
  }
 },
 "nbformat": 4,
 "nbformat_minor": 5
}
