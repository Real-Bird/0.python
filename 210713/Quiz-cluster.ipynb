{
 "cells": [
  {
   "cell_type": "markdown",
   "id": "5ce50148",
   "metadata": {},
   "source": [
    "문제) 인터넷 쇼핑몰을 운영하는 기업에서 고객들의 성향을 분석하여 마케팅을 실시하려고 합니다.\n",
    "   \n",
    "이 인터넷 쇼핑몰의 크게 티켓/쇼핑의 제품으로 카테고리를 나누고 있습니다.   \n",
    "일년동안 고객의 구매건수를 다음과 같은 파일(order.csv)에 수집하였습니다.    \n",
    "order.csv 파일을 분석하여 고객을 5개의 clustering 하세요.  "
   ]
  },
  {
   "cell_type": "code",
   "execution_count": 5,
   "id": "84119b53",
   "metadata": {},
   "outputs": [],
   "source": [
    "import pandas as pd\n",
    "from sklearn.cluster import KMeans\n",
    "import matplotlib.pyplot as plt\n",
    "import matplotlib\n",
    "from matplotlib import font_manager, rc\n",
    "import mglearn\n",
    "\n",
    "#한글 폰트 등록\n",
    "font_location = \"c:/Windows/fonts/malgun.ttf\"\n",
    "font_name = font_manager.FontProperties(fname=font_location).get_name()\n",
    "matplotlib.rc('font', family=font_name)"
   ]
  },
  {
   "cell_type": "code",
   "execution_count": 14,
   "id": "36743563",
   "metadata": {},
   "outputs": [
    {
     "data": {
      "image/png": "[encoded data removed]",
      "text/plain": [
       "<Figure size 432x288 with 1 Axes>"
      ]
     },
     "metadata": {
      "needs_background": "light"
     },
     "output_type": "display_data"
    }
   ],
   "source": [
    "order = pd.read_csv(\"order.csv\")\n",
    "\n",
    "model = KMeans(n_clusters=5)\n",
    "model = model.fit(order)\n",
    "\n",
    "mglearn.discrete_scatter(order.iloc[:,0], order.iloc[:,1],\n",
    "                         model.labels_)\n",
    "plt.legend([\"A\", \"B\",\"C\",\"D\",\"E\"])\n",
    "plt.title(\"고객 그룹\")\n",
    "plt.xlabel(\"Ticket\")\n",
    "plt.ylabel(\"Shopping\")\n",
    "plt.show()"
   ]
  },
  {
   "cell_type": "code",
   "execution_count": null,
   "id": "41cdbf2c",
   "metadata": {},
   "outputs": [],
   "source": []
  }
 ],
 "metadata": {
  "kernelspec": {
   "display_name": "Python 3",
   "language": "python",
   "name": "python3"
  },
  "language_info": {
   "codemirror_mode": {
    "name": "ipython",
    "version": 3
   },
   "file_extension": ".py",
   "mimetype": "text/x-python",
   "name": "python",
   "nbconvert_exporter": "python",
   "pygments_lexer": "ipython3",
   "version": "3.8.8"
  }
 },
 "nbformat": 4,
 "nbformat_minor": 5
}
