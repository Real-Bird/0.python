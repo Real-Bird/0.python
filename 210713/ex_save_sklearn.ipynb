{
 "cells": [
  {
   "cell_type": "code",
   "execution_count": 4,
   "id": "d72cc5c9",
   "metadata": {},
   "outputs": [
    {
     "name": "stdout",
     "output_type": "stream",
     "text": [
      "[[72.01694915]]\n"
     ]
    },
    {
     "data": {
      "text/plain": [
       "['score.pkl']"
      ]
     },
     "execution_count": 4,
     "metadata": {},
     "output_type": "execute_result"
    }
   ],
   "source": [
    "from sklearn.linear_model import LinearRegression\n",
    "import joblib\n",
    "\n",
    "x = [[10],[5],[9],[7]] # 공부시간\n",
    "y = [[100],[50],[90],[77]] #시험점수\n",
    "\n",
    "model = LinearRegression()\n",
    "model = model.fit(x,y)\n",
    "result = model.predict([[7]])\n",
    "print(result)\n",
    "\n",
    "#파일에 학습결과 저장\n",
    "joblib.dump(model, filename=\"score.pkl\") #pikle"
   ]
  },
  {
   "cell_type": "code",
   "execution_count": null,
   "id": "c72bb839",
   "metadata": {},
   "outputs": [],
   "source": []
  }
 ],
 "metadata": {
  "kernelspec": {
   "display_name": "Python 3",
   "language": "python",
   "name": "python3"
  },
  "language_info": {
   "codemirror_mode": {
    "name": "ipython",
    "version": 3
   },
   "file_extension": ".py",
   "mimetype": "text/x-python",
   "name": "python",
   "nbconvert_exporter": "python",
   "pygments_lexer": "ipython3",
   "version": "3.8.8"
  }
 },
 "nbformat": 4,
 "nbformat_minor": 5
}
