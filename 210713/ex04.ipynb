{
 "cells": [
  {
   "cell_type": "code",
   "execution_count": 4,
   "id": "e7d079af",
   "metadata": {},
   "outputs": [
    {
     "name": "stdout",
     "output_type": "stream",
     "text": [
      "학생번호: 0 : 1\n",
      "학생번호: 1 : 1\n",
      "학생번호: 2 : 2\n",
      "학생번호: 3 : 1\n",
      "학생번호: 4 : 1\n",
      "학생번호: 5 : 2\n",
      "학생번호: 6 : 1\n",
      "학생번호: 7 : 1\n",
      "학생번호: 8 : 2\n",
      "학생번호: 9 : 0\n",
      "학생번호: 10 : 1\n",
      "학생번호: 11 : 2\n",
      "학생번호: 12 : 0\n",
      "학생번호: 13 : 1\n",
      "학생번호: 14 : 2\n",
      "학생번호: 15 : 0\n",
      "학생번호: 16 : 1\n",
      "학생번호: 17 : 2\n",
      "[1]\n"
     ]
    }
   ],
   "source": [
    "import pandas as pd \n",
    "from sklearn.cluster import KMeans\n",
    "\n",
    "data =pd.read_csv(\"ex04_academy2.csv\")\n",
    "#print( data.iloc[:,1:] )  \n",
    " \n",
    "# 군집 모델을 만듭니다\n",
    "kmeans = KMeans(n_clusters=3)\n",
    "kmeans.fit(data.iloc[:,1:])#학생번호 컬럼은 제외하고 학습\n",
    " \n",
    "for no, cla in enumerate(kmeans.labels_):\n",
    "    print(\"학생번호: {} : {}\".format(no, cla))\n",
    " \n",
    "# 국어점수 100, 영어점수 80,\n",
    "# 수학점수 70,  과학점수 70, 학업성취도 70\n",
    "# 인 새로운 학생이 입학하였습니다. \n",
    "# 이 학생은 몇번 클러스터에 포함되어야 합니까?  \n",
    "\n",
    "new = kmeans.predict([[100,80,70,70,70]])\n",
    "print(new)"
   ]
  },
  {
   "cell_type": "code",
   "execution_count": null,
   "id": "3c99787f",
   "metadata": {},
   "outputs": [],
   "source": []
  }
 ],
 "metadata": {
  "kernelspec": {
   "display_name": "Python 3",
   "language": "python",
   "name": "python3"
  },
  "language_info": {
   "codemirror_mode": {
    "name": "ipython",
    "version": 3
   },
   "file_extension": ".py",
   "mimetype": "text/x-python",
   "name": "python",
   "nbconvert_exporter": "python",
   "pygments_lexer": "ipython3",
   "version": "3.8.8"
  }
 },
 "nbformat": 4,
 "nbformat_minor": 5
}
