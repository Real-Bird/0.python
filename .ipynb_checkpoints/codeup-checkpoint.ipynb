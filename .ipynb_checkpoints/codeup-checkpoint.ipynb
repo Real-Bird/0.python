{
 "cells": [
  {
   "cell_type": "code",
   "execution_count": 17,
   "id": "ae5b032f",
   "metadata": {},
   "outputs": [
    {
     "name": "stdout",
     "output_type": "stream",
     "text": [
      "B\n",
      "B*1=B\n",
      "B*2=16\n",
      "B*3=21\n",
      "B*4=2C\n",
      "B*5=37\n",
      "B*6=42\n",
      "B*7=4D\n",
      "B*8=58\n",
      "B*9=63\n",
      "B*A=6E\n",
      "B*B=79\n",
      "B*C=84\n",
      "B*D=8F\n",
      "B*E=9A\n",
      "B*F=A5\n"
     ]
    }
   ],
   "source": [
    "# 6081 : [기초-종합] 16진수 구구단 출력하기(py)\n",
    "x = int(input(),16)\n",
    "\n",
    "for i in range(1,16):\n",
    "    print(\"{:X}*{:X}={:X}\".format(x,i,x*i))"
   ]
  },
  {
   "cell_type": "code",
   "execution_count": 25,
   "id": "d99ea3d8",
   "metadata": {},
   "outputs": [
    {
     "name": "stdout",
     "output_type": "stream",
     "text": [
      "29\n",
      "1 2 X 4 5 X 7 8 X 10 11 12 X 14 15 X 17 18 X 20 21 22 X 24 25 X 27 28 X "
     ]
    }
   ],
   "source": [
    "x = int(input())\n",
    "\n",
    "for i in range(1, x+1):\n",
    "    if i % 10 == 3 or i % 10 == 6 or i % 10 == 9:\n",
    "        i = \"X\"\n",
    "    print(i,end=\" \")"
   ]
  },
  {
   "cell_type": "code",
   "execution_count": 31,
   "id": "a9efc080",
   "metadata": {},
   "outputs": [
    {
     "name": "stdout",
     "output_type": "stream",
     "text": [
      "2 2 2\n",
      "0 0 0\n",
      "0 0 1\n",
      "0 1 0\n",
      "0 1 1\n",
      "1 0 0\n",
      "1 0 1\n",
      "1 1 0\n",
      "1 1 1\n",
      "8\n"
     ]
    }
   ],
   "source": [
    "# 6083 : [기초-종합] 빛 섞어 색 만들기(설명)(py)\n",
    "r, g, b = map(int, input().split())\n",
    "for i in range(0, r):\n",
    "    for j in range(0, g):\n",
    "        for k in range(0, b):\n",
    "            print(i, j, k)\n",
    "            \n",
    "print(r*g*b)"
   ]
  },
  {
   "cell_type": "code",
   "execution_count": 36,
   "id": "12fbb884",
   "metadata": {},
   "outputs": [
    {
     "name": "stdout",
     "output_type": "stream",
     "text": [
      "44100 16 2 10\n",
      "1.7 MB\n"
     ]
    }
   ],
   "source": [
    "# 6084 : [기초-종합] 소리 파일 저장용량 계산하기(py)\n",
    "h, b, c, s = map(int, input().split())\n",
    "\n",
    "print(\"{:.1f} MB\".format(h * b * c * s / 8 / 1024 / 1024))"
   ]
  },
  {
   "cell_type": "code",
   "execution_count": 37,
   "id": "6d3ae3e6",
   "metadata": {},
   "outputs": [
    {
     "name": "stdout",
     "output_type": "stream",
     "text": [
      "1024 768 24\n",
      "2.25 MB\n"
     ]
    }
   ],
   "source": [
    "# 6085 : [기초-종합] 그림 파일 저장용량 계산하기(py)\n",
    "w, h, b = map(int, input().split())\n",
    "\n",
    "print(\"{:.2f} MB\".format(w * h * b / 8 / 1024 / 1024))"
   ]
  },
  {
   "cell_type": "code",
   "execution_count": 46,
   "id": "12a3af44",
   "metadata": {},
   "outputs": [
    {
     "name": "stdout",
     "output_type": "stream",
     "text": [
      "57\n",
      "66\n"
     ]
    }
   ],
   "source": [
    "#6086 : [기초-종합] 거기까지! 이제 그만~(설명)(py)\n",
    "x = int(input())\n",
    "n = 1\n",
    "total = 0\n",
    "while True:\n",
    "    total += n\n",
    "    n += 1\n",
    "    if total >= x:\n",
    "        break\n",
    "print(total)"
   ]
  },
  {
   "cell_type": "code",
   "execution_count": 47,
   "id": "6e782705",
   "metadata": {},
   "outputs": [
    {
     "name": "stdout",
     "output_type": "stream",
     "text": [
      "100\n",
      "1 2 4 5 7 8 10 11 13 14 16 17 19 20 22 23 25 26 28 29 31 32 34 35 37 38 40 41 43 44 46 47 49 50 52 53 55 56 58 59 61 62 64 65 67 68 70 71 73 74 76 77 79 80 82 83 85 86 88 89 91 92 94 95 97 98 100 "
     ]
    }
   ],
   "source": [
    "# 6087 : [기초-종합] 3의 배수는 통과(설명)(py)\n",
    "x = int(input())\n",
    "\n",
    "for i in range(1, x+1):\n",
    "    if i % 3 == 0:\n",
    "        continue\n",
    "    print(i, end=\" \")"
   ]
  },
  {
   "cell_type": "code",
   "execution_count": 48,
   "id": "15eaa431",
   "metadata": {},
   "outputs": [
    {
     "name": "stdout",
     "output_type": "stream",
     "text": [
      "1 3 5\n",
      "13\n"
     ]
    }
   ],
   "source": [
    "# 6088 : [기초-종합] 수 나열하기1(py)\n",
    "# 등차수열 공식 : a + (n-1) * d\n",
    "# a = 시작값, d = 공차, n = 항 개수\n",
    "a, d, n = map(int, input().split())\n",
    "\n",
    "for i in range(1, n+1):\n",
    "    x = a + (n-1)*d\n",
    "    \n",
    "print(x)"
   ]
  },
  {
   "cell_type": "code",
   "execution_count": 61,
   "id": "d3d9c4cb",
   "metadata": {},
   "outputs": [
    {
     "name": "stdout",
     "output_type": "stream",
     "text": [
      "2 3 7\n",
      "1458\n"
     ]
    }
   ],
   "source": [
    "# 6089 : [기초-종합] 수 나열하기2(py)\n",
    "# 등비수열 공식 : a * r**(n-1)\n",
    "# a = 시작값, r = 공비, n = 항 개수\n",
    "\n",
    "a, r, n = map(int, input().split())\n",
    "for i in range(n+1):\n",
    "    x = a * r**(n-1)\n",
    "    \n",
    "print(x)"
   ]
  },
  {
   "cell_type": "code",
   "execution_count": 69,
   "id": "a7bcee8d",
   "metadata": {},
   "outputs": [
    {
     "name": "stdout",
     "output_type": "stream",
     "text": [
      "1 -2 1 8\n",
      "-85\n"
     ]
    }
   ],
   "source": [
    "# 6090 : [기초-종합] 수 나열하기3(py)\n",
    "\n",
    "a, m, d, n = map(int, input().split())\n",
    "\n",
    "for i in range(1, n):\n",
    "        x = a * m + d\n",
    "        a = x\n",
    "    \n",
    "print(a)"
   ]
  },
  {
   "cell_type": "code",
   "execution_count": 72,
   "id": "def6c3a2",
   "metadata": {},
   "outputs": [
    {
     "name": "stdout",
     "output_type": "stream",
     "text": [
      "3 7 9\n",
      "63\n"
     ]
    }
   ],
   "source": [
    "# 6091 : [기초-종합] 함께 문제 푸는 날(설명)(py)\n",
    "a,b,c = map(int, input().split())\n",
    "d = 1\n",
    "while d%a!=0 or d%b!=0 or d%c!=0 :\n",
    "    d += 1\n",
    "print(d)"
   ]
  },
  {
   "cell_type": "code",
   "execution_count": 77,
   "id": "88135006",
   "metadata": {},
   "outputs": [
    {
     "name": "stdout",
     "output_type": "stream",
     "text": [
      "10\n",
      "1 3 2 2 5 6 7 4 5 9\n",
      "1 2 1 1 2 1 1 0 1 0 0 0 0 0 0 0 0 0 0 0 0 0 0 "
     ]
    }
   ],
   "source": [
    "# 6092 : [기초-리스트] 이상한 출석 번호 부르기1(설명)(py)\n",
    "\n",
    "n = int(input())\n",
    "a = input().split()\n",
    "\n",
    "for i in range(n):\n",
    "    a[i] = int(a[i])\n",
    "\n",
    "d = []\n",
    "for i in range(24):\n",
    "    d.append(0)\n",
    "    \n",
    "for i in range(n):\n",
    "    d[a[i]] += 1\n",
    "\n",
    "for i in range(1,24):\n",
    "    print(d[i], end=\" \")"
   ]
  },
  {
   "cell_type": "code",
   "execution_count": 79,
   "id": "dcb4bed9",
   "metadata": {},
   "outputs": [
    {
     "name": "stdout",
     "output_type": "stream",
     "text": [
      "10\n",
      "10 4 2 3 6 6 7 9 8 5\n",
      "5 8 9 7 6 6 3 2 4 10 "
     ]
    }
   ],
   "source": [
    "# 6093 : [기초-리스트] 이상한 출석 번호 부르기2(py)\n",
    "\n",
    "n = int(input())\n",
    "a = input().split()\n",
    "\n",
    "for i in range(n):\n",
    "    a[i] = int(a[i])\n",
    "\n",
    "for i in range(n-1, -1, -1):\n",
    "    print(a[i], end=\" \")"
   ]
  },
  {
   "cell_type": "code",
   "execution_count": 83,
   "id": "6aca9d8e",
   "metadata": {},
   "outputs": [
    {
     "name": "stdout",
     "output_type": "stream",
     "text": [
      "10\n",
      "10 4 2 3 6 6 7 9 8 5\n",
      "2\n"
     ]
    }
   ],
   "source": [
    "# 6094 : [기초-리스트] 이상한 출석 번호 부르기3(py)\n",
    "\n",
    "n = int(input())\n",
    "a = input().split()\n",
    "\n",
    "for i in range(n):\n",
    "    a[i] = int(a[i])\n",
    "\n",
    "print(sorted(a)[0])"
   ]
  },
  {
   "cell_type": "code",
   "execution_count": 85,
   "id": "2f848218",
   "metadata": {},
   "outputs": [
    {
     "name": "stdout",
     "output_type": "stream",
     "text": [
      "5\n",
      "1 1\n",
      "2 2\n",
      "3 3\n",
      "4 4\n",
      "5 5\n",
      "1 0 0 0 0 0 0 0 0 0 0 0 0 0 0 0 0 0 0 \n",
      "0 1 0 0 0 0 0 0 0 0 0 0 0 0 0 0 0 0 0 \n",
      "0 0 1 0 0 0 0 0 0 0 0 0 0 0 0 0 0 0 0 \n",
      "0 0 0 1 0 0 0 0 0 0 0 0 0 0 0 0 0 0 0 \n",
      "0 0 0 0 1 0 0 0 0 0 0 0 0 0 0 0 0 0 0 \n",
      "0 0 0 0 0 0 0 0 0 0 0 0 0 0 0 0 0 0 0 \n",
      "0 0 0 0 0 0 0 0 0 0 0 0 0 0 0 0 0 0 0 \n",
      "0 0 0 0 0 0 0 0 0 0 0 0 0 0 0 0 0 0 0 \n",
      "0 0 0 0 0 0 0 0 0 0 0 0 0 0 0 0 0 0 0 \n",
      "0 0 0 0 0 0 0 0 0 0 0 0 0 0 0 0 0 0 0 \n",
      "0 0 0 0 0 0 0 0 0 0 0 0 0 0 0 0 0 0 0 \n",
      "0 0 0 0 0 0 0 0 0 0 0 0 0 0 0 0 0 0 0 \n",
      "0 0 0 0 0 0 0 0 0 0 0 0 0 0 0 0 0 0 0 \n",
      "0 0 0 0 0 0 0 0 0 0 0 0 0 0 0 0 0 0 0 \n",
      "0 0 0 0 0 0 0 0 0 0 0 0 0 0 0 0 0 0 0 \n",
      "0 0 0 0 0 0 0 0 0 0 0 0 0 0 0 0 0 0 0 \n",
      "0 0 0 0 0 0 0 0 0 0 0 0 0 0 0 0 0 0 0 \n",
      "0 0 0 0 0 0 0 0 0 0 0 0 0 0 0 0 0 0 0 \n",
      "0 0 0 0 0 0 0 0 0 0 0 0 0 0 0 0 0 0 0 \n"
     ]
    }
   ],
   "source": [
    "# 6095 : [기초-리스트] 바둑판에 흰 돌 놓기(설명)(py)\n",
    "\n",
    "n = int(input())\n",
    "\n",
    "d = [[0 for j in range(20)] for i in range(20)]\n",
    "        \n",
    "for i in range(n):\n",
    "    x,y = input().split()\n",
    "    d[int(x)][int(y)] = 1\n",
    "    \n",
    "for i in range(1, 20):\n",
    "    for j in range(1, 20):\n",
    "        print(d[i][j], end=\" \")\n",
    "    print()"
   ]
  },
  {
   "cell_type": "code",
   "execution_count": 106,
   "id": "d3b1dd27",
   "metadata": {},
   "outputs": [
    {
     "name": "stdout",
     "output_type": "stream",
     "text": [
      "0 0 0 0 0 0 0 0 0 1 0 1 0 0 0 0 0 0 0\n",
      "0 0 0 0 0 0 0 0 0 1 0 1 0 0 0 0 0 0 0\n",
      "0 0 0 0 0 0 0 0 0 1 0 1 0 0 0 0 0 0 0\n",
      "0 0 0 0 0 0 0 0 0 1 0 1 0 0 0 0 0 0 0\n",
      "0 0 0 0 0 0 0 0 0 1 0 1 0 0 0 0 0 0 0\n",
      "0 0 0 0 0 0 0 0 0 1 0 1 0 0 0 0 0 0 0\n",
      "0 0 0 0 0 0 0 0 0 1 0 1 0 0 0 0 0 0 0\n",
      "0 0 0 0 0 0 0 0 0 1 0 1 0 0 0 0 0 0 0\n",
      "0 0 0 0 0 0 0 0 0 1 0 1 0 0 0 0 0 0 0\n",
      "1 1 1 1 1 1 1 1 1 1 1 1 1 1 1 1 1 1 1\n",
      "0 0 0 0 0 0 0 0 0 1 0 1 0 0 0 0 0 0 0\n",
      "1 1 1 1 1 1 1 1 1 1 1 1 1 1 1 1 1 1 1\n",
      "0 0 0 0 0 0 0 0 0 1 0 1 0 0 0 0 0 0 0\n",
      "0 0 0 0 0 0 0 0 0 1 0 1 0 0 0 0 0 0 0\n",
      "0 0 0 0 0 0 0 0 0 1 0 1 0 0 0 0 0 0 0\n",
      "0 0 0 0 0 0 0 0 0 1 0 1 0 0 0 0 0 0 0\n",
      "0 0 0 0 0 0 0 0 0 1 0 1 0 0 0 0 0 0 0\n",
      "0 0 0 0 0 0 0 0 0 1 0 1 0 0 0 0 0 0 0\n",
      "0 0 0 0 0 0 0 0 0 1 0 1 0 0 0 0 0 0 0\n",
      "2\n",
      "10 10\n",
      "12 12\n",
      "0 0 0 0 0 0 0 0 0 0 0 0 0 0 0 0 0 0 0 \n",
      "0 0 0 0 0 0 0 0 0 0 0 0 0 0 0 0 0 0 0 \n",
      "0 0 0 0 0 0 0 0 0 0 0 0 0 0 0 0 0 0 0 \n",
      "0 0 0 0 0 0 0 0 0 0 0 0 0 0 0 0 0 0 0 \n",
      "0 0 0 0 0 0 0 0 0 0 0 0 0 0 0 0 0 0 0 \n",
      "0 0 0 0 0 0 0 0 0 0 0 0 0 0 0 0 0 0 0 \n",
      "0 0 0 0 0 0 0 0 0 0 0 0 0 0 0 0 0 0 0 \n",
      "0 0 0 0 0 0 0 0 0 0 0 0 0 0 0 0 0 0 0 \n",
      "0 0 0 0 0 0 0 0 0 0 0 0 0 0 0 0 0 0 0 \n",
      "0 0 0 0 0 0 0 0 0 1 0 1 0 0 0 0 0 0 0 \n",
      "0 0 0 0 0 0 0 0 0 0 0 0 0 0 0 0 0 0 0 \n",
      "0 0 0 0 0 0 0 0 0 1 0 1 0 0 0 0 0 0 0 \n",
      "0 0 0 0 0 0 0 0 0 0 0 0 0 0 0 0 0 0 0 \n",
      "0 0 0 0 0 0 0 0 0 0 0 0 0 0 0 0 0 0 0 \n",
      "0 0 0 0 0 0 0 0 0 0 0 0 0 0 0 0 0 0 0 \n",
      "0 0 0 0 0 0 0 0 0 0 0 0 0 0 0 0 0 0 0 \n",
      "0 0 0 0 0 0 0 0 0 0 0 0 0 0 0 0 0 0 0 \n",
      "0 0 0 0 0 0 0 0 0 0 0 0 0 0 0 0 0 0 0 \n",
      "0 0 0 0 0 0 0 0 0 0 0 0 0 0 0 0 0 0 0 \n"
     ]
    }
   ],
   "source": [
    "# 6096 : [기초-리스트] 바둑알 십자 뒤집기(py)\n",
    "\n",
    "d = [[0 for j in range(19)] for i in range(19)]\n",
    "for i in range(19):\n",
    "    d[i] = list(map(int, input().split()))\n",
    "    \n",
    "n = int(input())\n",
    "for i in range(n) :\n",
    "    x,y=map(int,input().split())\n",
    "    for j in range(19) :\n",
    "        if d[j][y-1]==0 :\n",
    "            d[j][y-1]=1\n",
    "        else :\n",
    "            d[j][y-1]=0\n",
    "\n",
    "        if d[x-1][j]==0 :\n",
    "            d[x-1][j]=1\n",
    "        else :\n",
    "            d[x-1][j]=0\n",
    "\n",
    "for i in range(19):\n",
    "    for j in range(19):\n",
    "        print(d[i][j], end=\" \")\n",
    "    print()"
   ]
  },
  {
   "cell_type": "code",
   "execution_count": 39,
   "id": "734d2bbc",
   "metadata": {},
   "outputs": [
    {
     "name": "stdout",
     "output_type": "stream",
     "text": [
      "5 5\n",
      "3\n",
      "2 0 1 1\n",
      "3 1 2 3\n",
      "4 1 2 5\n",
      "1 1 0 0 0 \n",
      "0 0 1 0 1 \n",
      "0 0 1 0 1 \n",
      "0 0 1 0 1 \n",
      "0 0 0 0 1 \n"
     ]
    }
   ],
   "source": [
    "# 6097 : [기초-리스트] 설탕과자 뽑기(py)\n",
    "w, h = map(int, input().split())\n",
    "a = [[0 for i in range(h)] for j in range(w)]\n",
    "\n",
    "n = int(input())\n",
    "for k in range(n):\n",
    "    i, d, x, y = map(int, input().split())\n",
    "    if d == 1 :\n",
    "        for j in range(i):           \n",
    "            a[x-1+j][y-1] = 1\n",
    "    else:\n",
    "        for j in range(i):\n",
    "            a[x-1][y-1+j] = 1\n",
    "\n",
    "\n",
    "for i in range(w):\n",
    "    for j in range(h):\n",
    "        print(a[i][j], end=\" \")\n",
    "    print()"
   ]
  },
  {
   "cell_type": "code",
   "execution_count": 60,
   "id": "3591b29f",
   "metadata": {},
   "outputs": [
    {
     "name": "stdout",
     "output_type": "stream",
     "text": [
      "1 1 1 1 1 1 1 1 1 1\n",
      "1 0 0 1 0 0 0 0 0 1\n",
      "1 0 0 1 1 1 0 0 0 1\n",
      "1 0 0 0 0 0 0 1 0 1\n",
      "1 0 0 0 0 0 0 1 0 1\n",
      "1 0 0 0 0 1 0 1 0 1\n",
      "1 0 0 0 0 1 2 1 0 1\n",
      "1 0 0 0 0 1 0 0 0 1\n",
      "1 0 0 0 0 0 0 0 0 1\n",
      "1 1 1 1 1 1 1 1 1 1\n",
      "1 1 1 1 1 1 1 1 1 1 \n",
      "1 9 9 1 0 0 0 0 0 1 \n",
      "1 0 9 1 1 1 0 0 0 1 \n",
      "1 0 9 9 9 9 9 1 0 1 \n",
      "1 0 0 0 0 0 9 1 0 1 \n",
      "1 0 0 0 0 1 9 1 0 1 \n",
      "1 0 0 0 0 1 9 1 0 1 \n",
      "1 0 0 0 0 1 0 0 0 1 \n",
      "1 0 0 0 0 0 0 0 0 1 \n",
      "1 1 1 1 1 1 1 1 1 1 \n"
     ]
    }
   ],
   "source": [
    "# 6098 : [기초-리스트] 성실한 개미(py)\n",
    "\n",
    "cave = []\n",
    "\n",
    "for i in range(10):\n",
    "    cave.append(list(map(int, input().split())))\n",
    "\n",
    "x,y = 1,1\n",
    "\n",
    "while True:\n",
    "    if (cave[x][y] == 0):\n",
    "        cave[x][y] = 9\n",
    "    elif (cave[x][y] == 2):\n",
    "        cave[x][y] = 9\n",
    "        break\n",
    "    if ((cave[x][y+1] == 1 and cave[x+1][y]==1)):\n",
    "        break\n",
    "    if (cave[x][y+1] != 1):\n",
    "        y = y + 1\n",
    "    elif (cave[x+1][y] != 1):\n",
    "        x = x + 1\n",
    "    \n",
    "\n",
    "for i in range(10):\n",
    "    for j in range(10):\n",
    "        print(cave[i][j], end=\" \")\n",
    "    print()\n",
    "\n",
    "# 1 1 1 1 1 1 1 1 1 1\n",
    "# 1 0 0 1 0 0 0 0 0 1\n",
    "# 1 0 0 1 1 1 0 0 0 1\n",
    "# 1 0 0 0 0 0 0 1 0 1\n",
    "# 1 0 0 0 0 0 0 1 0 1\n",
    "# 1 0 0 0 0 1 0 1 0 1\n",
    "# 1 0 0 0 0 1 2 1 0 1\n",
    "# 1 0 0 0 0 1 0 0 0 1\n",
    "# 1 0 0 0 0 0 0 0 0 1\n",
    "# 1 1 1 1 1 1 1 1 1 1"
   ]
  },
  {
   "cell_type": "code",
   "execution_count": null,
   "id": "60053e06",
   "metadata": {},
   "outputs": [],
   "source": []
  }
 ],
 "metadata": {
  "kernelspec": {
   "display_name": "Python 3",
   "language": "python",
   "name": "python3"
  },
  "language_info": {
   "codemirror_mode": {
    "name": "ipython",
    "version": 3
   },
   "file_extension": ".py",
   "mimetype": "text/x-python",
   "name": "python",
   "nbconvert_exporter": "python",
   "pygments_lexer": "ipython3",
   "version": "3.8.8"
  }
 },
 "nbformat": 4,
 "nbformat_minor": 5
}
