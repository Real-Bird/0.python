{
 "cells": [
  {
   "cell_type": "markdown",
   "id": "36f9c5c4",
   "metadata": {},
   "source": [
    "### n개 숫자의 중앙값 알고리즘"
   ]
  },
  {
   "cell_type": "code",
   "execution_count": 4,
   "id": "e911f15d",
   "metadata": {},
   "outputs": [
    {
     "name": "stdout",
     "output_type": "stream",
     "text": [
      "75 86 11 25 3\n",
      "[3, 11, 25, 75, 86]\n",
      "홀수 개수의 중앙값 =  25\n"
     ]
    }
   ],
   "source": [
    "n = list(sorted(map(int, input().split())))\n",
    "\n",
    "if len(n) % 2 == 0:\n",
    "    x = (n[(len(n)//2)-1] + n[(len(n)//2)]) / 2\n",
    "    print(\"짝수 개수의 중앙값 = \", x)\n",
    "else:\n",
    "    x = n[(len(n)//2)]\n",
    "    print(\"홀수 개수의 중앙값 = \", x)"
   ]
  },
  {
   "cell_type": "code",
   "execution_count": null,
   "id": "315641a6",
   "metadata": {},
   "outputs": [],
   "source": []
  }
 ],
 "metadata": {
  "kernelspec": {
   "display_name": "Python 3",
   "language": "python",
   "name": "python3"
  },
  "language_info": {
   "codemirror_mode": {
    "name": "ipython",
    "version": 3
   },
   "file_extension": ".py",
   "mimetype": "text/x-python",
   "name": "python",
   "nbconvert_exporter": "python",
   "pygments_lexer": "ipython3",
   "version": "3.8.8"
  }
 },
 "nbformat": 4,
 "nbformat_minor": 5
}
