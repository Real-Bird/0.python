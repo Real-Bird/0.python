{
 "cells": [
  {
   "cell_type": "code",
   "execution_count": 1,
   "source": [
    "######################################################################\r\n",
    "#이미지 전처리\r\n",
    "# 거북목 자세 정밀도\r\n",
    "#######################################################################\r\n",
    "\r\n",
    "# 이미지를 4D 텐서로 변경\r\n",
    "from tensorflow.keras.preprocessing import image\r\n",
    "import os\r\n",
    "import numpy as np\r\n",
    "from tensorflow.keras.models import load_model    #학습된 모델 로드\r\n",
    "import matplotlib.pyplot as plt"
   ],
   "outputs": [],
   "metadata": {}
  },
  {
   "cell_type": "code",
   "execution_count": 2,
   "source": [
    "model = load_model(\"./tn_model/yw_tm_model.h5\")"
   ],
   "outputs": [
    {
     "output_type": "stream",
     "name": "stdout",
     "text": [
      "WARNING:tensorflow:No training configuration found in the save file, so the model was *not* compiled. Compile it manually.\n"
     ]
    }
   ],
   "metadata": {}
  },
  {
   "cell_type": "code",
   "execution_count": 3,
   "source": [
    "img_path = './dataset/auto_forw/'\r\n",
    "TN_cnt = 0\r\n",
    "FN_cnt = 0\r\n",
    "\r\n",
    "\r\n",
    "for i in os.listdir(img_path):\r\n",
    "    aa = img_path + i\r\n",
    "    img = image.load_img(aa, target_size =(224, 224))\r\n",
    "    img_tensor = image.img_to_array(img)\r\n",
    "    img_tensor = np.expand_dims(img_tensor, axis=0)\r\n",
    "    img_tensor /= 255.  # 모델이 훈련될 때 입력에 적용한 전처리 방식을 동일하게 사용합니다\r\n",
    "\r\n",
    "    #######################################################################\r\n",
    "\r\n",
    "    result = model.predict( img_tensor ) \r\n",
    "    \r\n",
    "    if (result[0][0] > result[0][1]) :\r\n",
    "        TN_cnt += 1\r\n",
    "    else :\r\n",
    "        FN_cnt += 1"
   ],
   "outputs": [],
   "metadata": {}
  },
  {
   "cell_type": "code",
   "execution_count": 4,
   "source": [
    "print(FN_cnt)"
   ],
   "outputs": [
    {
     "output_type": "stream",
     "name": "stdout",
     "text": [
      "2146\n"
     ]
    }
   ],
   "metadata": {}
  },
  {
   "cell_type": "code",
   "execution_count": 5,
   "source": [
    "print(TN_cnt)"
   ],
   "outputs": [
    {
     "output_type": "stream",
     "name": "stdout",
     "text": [
      "481\n"
     ]
    }
   ],
   "metadata": {}
  },
  {
   "cell_type": "code",
   "execution_count": 6,
   "source": [
    "TN_cnt/(TN_cnt + FN_cnt)"
   ],
   "outputs": [
    {
     "output_type": "execute_result",
     "data": {
      "text/plain": [
       "0.18309859154929578"
      ]
     },
     "metadata": {},
     "execution_count": 6
    }
   ],
   "metadata": {}
  }
 ],
 "metadata": {
  "orig_nbformat": 4,
  "language_info": {
   "name": "python",
   "version": "3.8.10",
   "mimetype": "text/x-python",
   "codemirror_mode": {
    "name": "ipython",
    "version": 3
   },
   "pygments_lexer": "ipython3",
   "nbconvert_exporter": "python",
   "file_extension": ".py"
  },
  "kernelspec": {
   "name": "python3",
   "display_name": "Python 3.8.10 64-bit"
  },
  "interpreter": {
   "hash": "435c7524b81c754d2a38f9b1930a50d7a83318eec9a7b6faab8c4b8cfd59b603"
  }
 },
 "nbformat": 4,
 "nbformat_minor": 2
}