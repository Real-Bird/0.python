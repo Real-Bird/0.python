{
 "cells": [
  {
   "cell_type": "code",
   "execution_count": 2,
   "source": [
    "from tensorflow import keras\r\n",
    "import tensorflow as tf\r\n",
    "from tensorflow.python.framework.convert_to_constants import convert_variables_to_constants_v2\r\n",
    "import numpy as np"
   ],
   "outputs": [],
   "metadata": {}
  },
  {
   "cell_type": "code",
   "execution_count": 3,
   "source": [
    "model = keras.models.load_model('./tn_model/t_vgg_model_d1024.h5')"
   ],
   "outputs": [],
   "metadata": {}
  },
  {
   "cell_type": "code",
   "execution_count": 4,
   "source": [
    "# Convert Keras model to ConcreteFunction\r\n",
    "full_model = tf.function(lambda x: model(x))\r\n",
    "full_model = full_model.get_concrete_function(\r\n",
    "    x=tf.TensorSpec(model.inputs[0].shape, model.inputs[0].dtype))\r\n",
    "\r\n",
    "# Get frozen ConcreteFunction\r\n",
    "frozen_func = convert_variables_to_constants_v2(full_model)\r\n",
    "frozen_func.graph.as_graph_def()"
   ],
   "outputs": [],
   "metadata": {}
  },
  {
   "cell_type": "code",
   "execution_count": null,
   "source": [
    "# inspect the layers operations inside your frozen graph definition and see the name of its input and output tensors\r\n",
    "layers = [op.name for op in frozen_func.graph.get_operations()]\r\n",
    "print(\"-\" * 50)\r\n",
    "print(\"Frozen model layers: \")\r\n",
    "for layer in layers:\r\n",
    "    print(layer)\r\n",
    "\r\n",
    "print(\"-\" * 50)\r\n",
    "print(\"Frozen model inputs: \")\r\n",
    "print(frozen_func.inputs)\r\n",
    "print(\"Frozen model outputs: \")\r\n",
    "print(frozen_func.outputs)"
   ],
   "outputs": [],
   "metadata": {}
  },
  {
   "cell_type": "code",
   "execution_count": null,
   "source": [
    "# Save frozen graph from frozen ConcreteFunction to hard drive\r\n",
    "# serialize the frozen graph and its text representation to disk.\r\n",
    "tf.io.write_graph(graph_or_graph_def=frozen_func.graph,\r\n",
    "                  logdir=\"./zz/\",\r\n",
    "                  name=\"simple_frozen_graph.pb\",\r\n",
    "                  as_text=False)"
   ],
   "outputs": [],
   "metadata": {}
  },
  {
   "cell_type": "code",
   "execution_count": null,
   "source": [
    "#Optional\r\n",
    "tf.io.write_graph(graph_or_graph_def=frozen_func.graph,\r\n",
    "                  logdir=\"./zz/\",\r\n",
    "                  name=\"simple_frozen_graph.pbtxt\",\r\n",
    "                as_text=True)"
   ],
   "outputs": [],
   "metadata": {}
  },
  {
   "cell_type": "code",
   "execution_count": null,
   "source": [
    "model.summary()"
   ],
   "outputs": [],
   "metadata": {}
  }
 ],
 "metadata": {
  "orig_nbformat": 4,
  "language_info": {
   "name": "python",
   "version": "3.8.10",
   "mimetype": "text/x-python",
   "codemirror_mode": {
    "name": "ipython",
    "version": 3
   },
   "pygments_lexer": "ipython3",
   "nbconvert_exporter": "python",
   "file_extension": ".py"
  },
  "kernelspec": {
   "name": "python3",
   "display_name": "Python 3.8.10 64-bit"
  },
  "interpreter": {
   "hash": "435c7524b81c754d2a38f9b1930a50d7a83318eec9a7b6faab8c4b8cfd59b603"
  }
 },
 "nbformat": 4,
 "nbformat_minor": 2
}