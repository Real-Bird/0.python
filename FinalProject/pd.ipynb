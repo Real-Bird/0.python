{
 "cells": [
  {
   "cell_type": "code",
   "execution_count": 1,
   "source": [
    "import pandas as pd\r\n",
    "\r\n",
    "a = pd.read_csv(\"correct.csv\", encoding=\"utf-8\")\r\n",
    "a1 = a.drop([\"No\"], axis=\"columns\")"
   ],
   "outputs": [],
   "metadata": {}
  },
  {
   "cell_type": "code",
   "execution_count": 2,
   "source": [
    "a2 = a1[\"c_Y\"] / a1[\"c_X\"]\r\n",
    "a2"
   ],
   "outputs": [
    {
     "output_type": "execute_result",
     "data": {
      "text/plain": [
       "0      4.150000\n",
       "1      4.050000\n",
       "2      3.103448\n",
       "3      3.147059\n",
       "4      3.205882\n",
       "         ...   \n",
       "273    2.852941\n",
       "274    3.344828\n",
       "275    3.344828\n",
       "276    3.000000\n",
       "277    3.205882\n",
       "Length: 278, dtype: float64"
      ]
     },
     "metadata": {},
     "execution_count": 2
    }
   ],
   "metadata": {}
  },
  {
   "cell_type": "code",
   "execution_count": 3,
   "source": [
    "b = pd.read_csv(\"forward.csv\", encoding=\"utf-8\")\r\n",
    "b1 = b.drop([\"No\"], axis=\"columns\")"
   ],
   "outputs": [],
   "metadata": {}
  },
  {
   "cell_type": "code",
   "execution_count": 4,
   "source": [
    "b2 = b1[\"f_Y\"] / b1[\"f_X\"]\r\n",
    "b2"
   ],
   "outputs": [
    {
     "output_type": "execute_result",
     "data": {
      "text/plain": [
       "0      2.517241\n",
       "1      2.517241\n",
       "2      2.689655\n",
       "3      2.743590\n",
       "4      2.743590\n",
       "         ...   \n",
       "360    2.647059\n",
       "361    2.647059\n",
       "362    2.647059\n",
       "363    2.743590\n",
       "364    3.147059\n",
       "Length: 365, dtype: float64"
      ]
     },
     "metadata": {},
     "execution_count": 4
    }
   ],
   "metadata": {}
  },
  {
   "cell_type": "code",
   "execution_count": null,
   "source": [],
   "outputs": [],
   "metadata": {}
  }
 ],
 "metadata": {
  "orig_nbformat": 4,
  "language_info": {
   "name": "python",
   "version": "3.8.10",
   "mimetype": "text/x-python",
   "codemirror_mode": {
    "name": "ipython",
    "version": 3
   },
   "pygments_lexer": "ipython3",
   "nbconvert_exporter": "python",
   "file_extension": ".py"
  },
  "kernelspec": {
   "name": "python3",
   "display_name": "Python 3.8.10 64-bit"
  },
  "interpreter": {
   "hash": "435c7524b81c754d2a38f9b1930a50d7a83318eec9a7b6faab8c4b8cfd59b603"
  }
 },
 "nbformat": 4,
 "nbformat_minor": 2
}