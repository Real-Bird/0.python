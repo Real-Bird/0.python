{
 "cells": [
  {
   "cell_type": "code",
   "execution_count": 1,
   "source": [
    "import pandas as pd \r\n",
    "from sklearn import svm, metrics, tree, ensemble\r\n",
    "from sklearn.model_selection import  train_test_split \r\n",
    "import numpy as np\r\n",
    "from sklearn.linear_model import LogisticRegression\r\n",
    "from sklearn.naive_bayes import GaussianNB\r\n",
    "from sklearn.ensemble import RandomForestClassifier, VotingClassifier\r\n",
    "from sklearn.preprocessing import LabelEncoder\r\n",
    "from sklearn.preprocessing import StandardScaler\r\n",
    "from sklearn.pipeline import Pipeline\r\n",
    "import matplotlib.pyplot as plt"
   ],
   "outputs": [],
   "metadata": {
    "id": "b-TBKa0RmDYO"
   }
  },
  {
   "cell_type": "code",
   "execution_count": 96,
   "source": [
    "corr_csv = pd.read_csv(\"./dataset/total_corr_0831.csv\")\r\n",
    "corr_df = pd.DataFrame(corr_csv); corr_df"
   ],
   "outputs": [
    {
     "output_type": "execute_result",
     "data": {
      "text/plain": [
       "         E_len     S_len       ESC       LES       RES        NS\n",
       "0     0.111488  0.509276  0.395772  0.403213  0.388332  0.358737\n",
       "1     0.110458  0.509276  0.397252  0.404172  0.390332  0.362397\n",
       "2     0.099601  0.508697  0.389507  0.395757  0.383258  0.351375\n",
       "3     0.101697  0.525211  0.373120  0.373391  0.372848  0.315857\n",
       "4     0.102249  0.533296  0.373741  0.370073  0.377408  0.314963\n",
       "...        ...       ...       ...       ...       ...       ...\n",
       "1569  0.050317  0.334209  0.416407  0.403833  0.428981  0.327594\n",
       "1570  0.069206  0.377959  0.416186  0.398217  0.434156  0.322900\n",
       "1571  0.074389  0.453096  0.440528  0.417404  0.463652  0.362690\n",
       "1572  0.050578  0.376804  0.420304  0.398234  0.442373  0.337952\n",
       "1573  0.084799  0.440884  0.433700  0.410842  0.456558  0.360866\n",
       "\n",
       "[1574 rows x 6 columns]"
      ],
      "text/html": [
       "<div>\n",
       "<style scoped>\n",
       "    .dataframe tbody tr th:only-of-type {\n",
       "        vertical-align: middle;\n",
       "    }\n",
       "\n",
       "    .dataframe tbody tr th {\n",
       "        vertical-align: top;\n",
       "    }\n",
       "\n",
       "    .dataframe thead th {\n",
       "        text-align: right;\n",
       "    }\n",
       "</style>\n",
       "<table border=\"1\" class=\"dataframe\">\n",
       "  <thead>\n",
       "    <tr style=\"text-align: right;\">\n",
       "      <th></th>\n",
       "      <th>E_len</th>\n",
       "      <th>S_len</th>\n",
       "      <th>ESC</th>\n",
       "      <th>LES</th>\n",
       "      <th>RES</th>\n",
       "      <th>NS</th>\n",
       "    </tr>\n",
       "  </thead>\n",
       "  <tbody>\n",
       "    <tr>\n",
       "      <th>0</th>\n",
       "      <td>0.111488</td>\n",
       "      <td>0.509276</td>\n",
       "      <td>0.395772</td>\n",
       "      <td>0.403213</td>\n",
       "      <td>0.388332</td>\n",
       "      <td>0.358737</td>\n",
       "    </tr>\n",
       "    <tr>\n",
       "      <th>1</th>\n",
       "      <td>0.110458</td>\n",
       "      <td>0.509276</td>\n",
       "      <td>0.397252</td>\n",
       "      <td>0.404172</td>\n",
       "      <td>0.390332</td>\n",
       "      <td>0.362397</td>\n",
       "    </tr>\n",
       "    <tr>\n",
       "      <th>2</th>\n",
       "      <td>0.099601</td>\n",
       "      <td>0.508697</td>\n",
       "      <td>0.389507</td>\n",
       "      <td>0.395757</td>\n",
       "      <td>0.383258</td>\n",
       "      <td>0.351375</td>\n",
       "    </tr>\n",
       "    <tr>\n",
       "      <th>3</th>\n",
       "      <td>0.101697</td>\n",
       "      <td>0.525211</td>\n",
       "      <td>0.373120</td>\n",
       "      <td>0.373391</td>\n",
       "      <td>0.372848</td>\n",
       "      <td>0.315857</td>\n",
       "    </tr>\n",
       "    <tr>\n",
       "      <th>4</th>\n",
       "      <td>0.102249</td>\n",
       "      <td>0.533296</td>\n",
       "      <td>0.373741</td>\n",
       "      <td>0.370073</td>\n",
       "      <td>0.377408</td>\n",
       "      <td>0.314963</td>\n",
       "    </tr>\n",
       "    <tr>\n",
       "      <th>...</th>\n",
       "      <td>...</td>\n",
       "      <td>...</td>\n",
       "      <td>...</td>\n",
       "      <td>...</td>\n",
       "      <td>...</td>\n",
       "      <td>...</td>\n",
       "    </tr>\n",
       "    <tr>\n",
       "      <th>1569</th>\n",
       "      <td>0.050317</td>\n",
       "      <td>0.334209</td>\n",
       "      <td>0.416407</td>\n",
       "      <td>0.403833</td>\n",
       "      <td>0.428981</td>\n",
       "      <td>0.327594</td>\n",
       "    </tr>\n",
       "    <tr>\n",
       "      <th>1570</th>\n",
       "      <td>0.069206</td>\n",
       "      <td>0.377959</td>\n",
       "      <td>0.416186</td>\n",
       "      <td>0.398217</td>\n",
       "      <td>0.434156</td>\n",
       "      <td>0.322900</td>\n",
       "    </tr>\n",
       "    <tr>\n",
       "      <th>1571</th>\n",
       "      <td>0.074389</td>\n",
       "      <td>0.453096</td>\n",
       "      <td>0.440528</td>\n",
       "      <td>0.417404</td>\n",
       "      <td>0.463652</td>\n",
       "      <td>0.362690</td>\n",
       "    </tr>\n",
       "    <tr>\n",
       "      <th>1572</th>\n",
       "      <td>0.050578</td>\n",
       "      <td>0.376804</td>\n",
       "      <td>0.420304</td>\n",
       "      <td>0.398234</td>\n",
       "      <td>0.442373</td>\n",
       "      <td>0.337952</td>\n",
       "    </tr>\n",
       "    <tr>\n",
       "      <th>1573</th>\n",
       "      <td>0.084799</td>\n",
       "      <td>0.440884</td>\n",
       "      <td>0.433700</td>\n",
       "      <td>0.410842</td>\n",
       "      <td>0.456558</td>\n",
       "      <td>0.360866</td>\n",
       "    </tr>\n",
       "  </tbody>\n",
       "</table>\n",
       "<p>1574 rows × 6 columns</p>\n",
       "</div>"
      ]
     },
     "metadata": {},
     "execution_count": 96
    }
   ],
   "metadata": {}
  },
  {
   "cell_type": "code",
   "execution_count": 102,
   "source": [
    "E_len_diff = []\r\n",
    "S_len_diff = []\r\n",
    "RES_diff = []\r\n",
    "LES_diff = []\r\n",
    "NS_diff = []\r\n",
    "for i in range(len(corr_df)):\r\n",
    "    if corr_df[\"E_len\"][i] < forw_df[\"E_len\"][i]:\r\n",
    "        E_len_diff.append(corr_df[\"E_len\"][i])\r\n",
    "    if corr_df[\"S_len\"][i] < forw_df[\"S_len\"][i]:\r\n",
    "        S_len_diff.append(corr_df[\"S_len\"][i])\r\n",
    "    if corr_df[\"RES\"][i] > forw_df[\"RES\"][i]:\r\n",
    "        RES_diff.append(corr_df[\"RES\"][i])\r\n",
    "    if corr_df[\"LES\"][i] > forw_df[\"LES\"][i]:\r\n",
    "        LES_diff.append(corr_df[\"LES\"][i])\r\n",
    "    if corr_df[\"NS\"][i] > forw_df[\"NS\"][i]:\r\n",
    "        NS_diff.append(corr_df[\"NS\"][i])"
   ],
   "outputs": [],
   "metadata": {}
  },
  {
   "cell_type": "code",
   "execution_count": 103,
   "source": [
    "print(\"E_len : {} \\n S_len : {} \\n RES : {} \\n LES : {} \\n NS : {}\".format(len(E_len_diff), len(S_len_diff), len(RES_diff), len(LES_diff), len(NS_diff)))"
   ],
   "outputs": [
    {
     "output_type": "stream",
     "name": "stdout",
     "text": [
      "E_len : 1186 \n",
      " S_len : 1156 \n",
      " RES : 1028 \n",
      " LES : 1020 \n",
      " NS : 1141\n"
     ]
    }
   ],
   "metadata": {}
  },
  {
   "cell_type": "code",
   "execution_count": 58,
   "source": [
    "corr_total = corr_df.copy()"
   ],
   "outputs": [],
   "metadata": {}
  },
  {
   "cell_type": "code",
   "execution_count": 59,
   "source": [
    "# Basic box plot\r\n",
    "import matplotlib.pyplot as plt\r\n",
    "%matplotlib inline \r\n",
    "\r\n",
    "\r\n",
    "a = plt.boxplot(corr_total)\r\n",
    "plt.show()"
   ],
   "outputs": [
    {
     "output_type": "display_data",
     "data": {
      "text/plain": [
       "<Figure size 432x288 with 1 Axes>"
      ],
      "image/svg+xml": "<?xml version=\"1.0\" encoding=\"utf-8\" standalone=\"no\"?>\r\n<!DOCTYPE svg PUBLIC \"-//W3C//DTD SVG 1.1//EN\"\r\n  \"http://www.w3.org/Graphics/SVG/1.1/DTD/svg11.dtd\">\r\n<svg height=\"248.518125pt\" version=\"1.1\" viewBox=\"0 0 372.103125 248.518125\" width=\"372.103125pt\" xmlns=\"http://www.w3.org/2000/svg\" xmlns:xlink=\"http://www.w3.org/1999/xlink\">\r\n <metadata>\r\n  <rdf:RDF xmlns:cc=\"http://creativecommons.org/ns#\" xmlns:dc=\"http://purl.org/dc/elements/1.1/\" xmlns:rdf=\"http://www.w3.org/1999/02/22-rdf-syntax-ns#\">\r\n   <cc:Work>\r\n    <dc:type rdf:resource=\"http://purl.org/dc/dcmitype/StillImage\"/>\r\n    <dc:date>2021-09-01T13:19:52.180775</dc:date>\r\n    <dc:format>image/svg+xml</dc:format>\r\n    <dc:creator>\r\n     <cc:Agent>\r\n      <dc:title>Matplotlib v3.4.2, https://matplotlib.org/</dc:title>\r\n     </cc:Agent>\r\n    </dc:creator>\r\n   </cc:Work>\r\n  </rdf:RDF>\r\n </metadata>\r\n <defs>\r\n  <style type=\"text/css\">*{stroke-linecap:butt;stroke-linejoin:round;}</style>\r\n </defs>\r\n <g id=\"figure_1\">\r\n  <g id=\"patch_1\">\r\n   <path d=\"M 0 248.518125 \r\nL 372.103125 248.518125 \r\nL 372.103125 0 \r\nL 0 0 \r\nz\r\n\" style=\"fill:none;\"/>\r\n  </g>\r\n  <g id=\"axes_1\">\r\n   <g id=\"patch_2\">\r\n    <path d=\"M 30.103125 224.64 \r\nL 364.903125 224.64 \r\nL 364.903125 7.2 \r\nL 30.103125 7.2 \r\nz\r\n\" style=\"fill:#ffffff;\"/>\r\n   </g>\r\n   <g id=\"matplotlib.axis_1\">\r\n    <g id=\"xtick_1\">\r\n     <g id=\"line2d_1\">\r\n      <defs>\r\n       <path d=\"M 0 0 \r\nL 0 3.5 \r\n\" id=\"m3a9eb27f41\" style=\"stroke:#000000;stroke-width:0.8;\"/>\r\n      </defs>\r\n      <g>\r\n       <use style=\"stroke:#000000;stroke-width:0.8;\" x=\"58.003125\" xlink:href=\"#m3a9eb27f41\" y=\"224.64\"/>\r\n      </g>\r\n     </g>\r\n     <g id=\"text_1\">\r\n      <!-- 1 -->\r\n      <g transform=\"translate(54.821875 239.238437)scale(0.1 -0.1)\">\r\n       <defs>\r\n        <path d=\"M 794 531 \r\nL 1825 531 \r\nL 1825 4091 \r\nL 703 3866 \r\nL 703 4441 \r\nL 1819 4666 \r\nL 2450 4666 \r\nL 2450 531 \r\nL 3481 531 \r\nL 3481 0 \r\nL 794 0 \r\nL 794 531 \r\nz\r\n\" id=\"DejaVuSans-31\" transform=\"scale(0.015625)\"/>\r\n       </defs>\r\n       <use xlink:href=\"#DejaVuSans-31\"/>\r\n      </g>\r\n     </g>\r\n    </g>\r\n    <g id=\"xtick_2\">\r\n     <g id=\"line2d_2\">\r\n      <g>\r\n       <use style=\"stroke:#000000;stroke-width:0.8;\" x=\"113.803125\" xlink:href=\"#m3a9eb27f41\" y=\"224.64\"/>\r\n      </g>\r\n     </g>\r\n     <g id=\"text_2\">\r\n      <!-- 2 -->\r\n      <g transform=\"translate(110.621875 239.238437)scale(0.1 -0.1)\">\r\n       <defs>\r\n        <path d=\"M 1228 531 \r\nL 3431 531 \r\nL 3431 0 \r\nL 469 0 \r\nL 469 531 \r\nQ 828 903 1448 1529 \r\nQ 2069 2156 2228 2338 \r\nQ 2531 2678 2651 2914 \r\nQ 2772 3150 2772 3378 \r\nQ 2772 3750 2511 3984 \r\nQ 2250 4219 1831 4219 \r\nQ 1534 4219 1204 4116 \r\nQ 875 4013 500 3803 \r\nL 500 4441 \r\nQ 881 4594 1212 4672 \r\nQ 1544 4750 1819 4750 \r\nQ 2544 4750 2975 4387 \r\nQ 3406 4025 3406 3419 \r\nQ 3406 3131 3298 2873 \r\nQ 3191 2616 2906 2266 \r\nQ 2828 2175 2409 1742 \r\nQ 1991 1309 1228 531 \r\nz\r\n\" id=\"DejaVuSans-32\" transform=\"scale(0.015625)\"/>\r\n       </defs>\r\n       <use xlink:href=\"#DejaVuSans-32\"/>\r\n      </g>\r\n     </g>\r\n    </g>\r\n    <g id=\"xtick_3\">\r\n     <g id=\"line2d_3\">\r\n      <g>\r\n       <use style=\"stroke:#000000;stroke-width:0.8;\" x=\"169.603125\" xlink:href=\"#m3a9eb27f41\" y=\"224.64\"/>\r\n      </g>\r\n     </g>\r\n     <g id=\"text_3\">\r\n      <!-- 3 -->\r\n      <g transform=\"translate(166.421875 239.238437)scale(0.1 -0.1)\">\r\n       <defs>\r\n        <path d=\"M 2597 2516 \r\nQ 3050 2419 3304 2112 \r\nQ 3559 1806 3559 1356 \r\nQ 3559 666 3084 287 \r\nQ 2609 -91 1734 -91 \r\nQ 1441 -91 1130 -33 \r\nQ 819 25 488 141 \r\nL 488 750 \r\nQ 750 597 1062 519 \r\nQ 1375 441 1716 441 \r\nQ 2309 441 2620 675 \r\nQ 2931 909 2931 1356 \r\nQ 2931 1769 2642 2001 \r\nQ 2353 2234 1838 2234 \r\nL 1294 2234 \r\nL 1294 2753 \r\nL 1863 2753 \r\nQ 2328 2753 2575 2939 \r\nQ 2822 3125 2822 3475 \r\nQ 2822 3834 2567 4026 \r\nQ 2313 4219 1838 4219 \r\nQ 1578 4219 1281 4162 \r\nQ 984 4106 628 3988 \r\nL 628 4550 \r\nQ 988 4650 1302 4700 \r\nQ 1616 4750 1894 4750 \r\nQ 2613 4750 3031 4423 \r\nQ 3450 4097 3450 3541 \r\nQ 3450 3153 3228 2886 \r\nQ 3006 2619 2597 2516 \r\nz\r\n\" id=\"DejaVuSans-33\" transform=\"scale(0.015625)\"/>\r\n       </defs>\r\n       <use xlink:href=\"#DejaVuSans-33\"/>\r\n      </g>\r\n     </g>\r\n    </g>\r\n    <g id=\"xtick_4\">\r\n     <g id=\"line2d_4\">\r\n      <g>\r\n       <use style=\"stroke:#000000;stroke-width:0.8;\" x=\"225.403125\" xlink:href=\"#m3a9eb27f41\" y=\"224.64\"/>\r\n      </g>\r\n     </g>\r\n     <g id=\"text_4\">\r\n      <!-- 4 -->\r\n      <g transform=\"translate(222.221875 239.238437)scale(0.1 -0.1)\">\r\n       <defs>\r\n        <path d=\"M 2419 4116 \r\nL 825 1625 \r\nL 2419 1625 \r\nL 2419 4116 \r\nz\r\nM 2253 4666 \r\nL 3047 4666 \r\nL 3047 1625 \r\nL 3713 1625 \r\nL 3713 1100 \r\nL 3047 1100 \r\nL 3047 0 \r\nL 2419 0 \r\nL 2419 1100 \r\nL 313 1100 \r\nL 313 1709 \r\nL 2253 4666 \r\nz\r\n\" id=\"DejaVuSans-34\" transform=\"scale(0.015625)\"/>\r\n       </defs>\r\n       <use xlink:href=\"#DejaVuSans-34\"/>\r\n      </g>\r\n     </g>\r\n    </g>\r\n    <g id=\"xtick_5\">\r\n     <g id=\"line2d_5\">\r\n      <g>\r\n       <use style=\"stroke:#000000;stroke-width:0.8;\" x=\"281.203125\" xlink:href=\"#m3a9eb27f41\" y=\"224.64\"/>\r\n      </g>\r\n     </g>\r\n     <g id=\"text_5\">\r\n      <!-- 5 -->\r\n      <g transform=\"translate(278.021875 239.238437)scale(0.1 -0.1)\">\r\n       <defs>\r\n        <path d=\"M 691 4666 \r\nL 3169 4666 \r\nL 3169 4134 \r\nL 1269 4134 \r\nL 1269 2991 \r\nQ 1406 3038 1543 3061 \r\nQ 1681 3084 1819 3084 \r\nQ 2600 3084 3056 2656 \r\nQ 3513 2228 3513 1497 \r\nQ 3513 744 3044 326 \r\nQ 2575 -91 1722 -91 \r\nQ 1428 -91 1123 -41 \r\nQ 819 9 494 109 \r\nL 494 744 \r\nQ 775 591 1075 516 \r\nQ 1375 441 1709 441 \r\nQ 2250 441 2565 725 \r\nQ 2881 1009 2881 1497 \r\nQ 2881 1984 2565 2268 \r\nQ 2250 2553 1709 2553 \r\nQ 1456 2553 1204 2497 \r\nQ 953 2441 691 2322 \r\nL 691 4666 \r\nz\r\n\" id=\"DejaVuSans-35\" transform=\"scale(0.015625)\"/>\r\n       </defs>\r\n       <use xlink:href=\"#DejaVuSans-35\"/>\r\n      </g>\r\n     </g>\r\n    </g>\r\n    <g id=\"xtick_6\">\r\n     <g id=\"line2d_6\">\r\n      <g>\r\n       <use style=\"stroke:#000000;stroke-width:0.8;\" x=\"337.003125\" xlink:href=\"#m3a9eb27f41\" y=\"224.64\"/>\r\n      </g>\r\n     </g>\r\n     <g id=\"text_6\">\r\n      <!-- 6 -->\r\n      <g transform=\"translate(333.821875 239.238437)scale(0.1 -0.1)\">\r\n       <defs>\r\n        <path d=\"M 2113 2584 \r\nQ 1688 2584 1439 2293 \r\nQ 1191 2003 1191 1497 \r\nQ 1191 994 1439 701 \r\nQ 1688 409 2113 409 \r\nQ 2538 409 2786 701 \r\nQ 3034 994 3034 1497 \r\nQ 3034 2003 2786 2293 \r\nQ 2538 2584 2113 2584 \r\nz\r\nM 3366 4563 \r\nL 3366 3988 \r\nQ 3128 4100 2886 4159 \r\nQ 2644 4219 2406 4219 \r\nQ 1781 4219 1451 3797 \r\nQ 1122 3375 1075 2522 \r\nQ 1259 2794 1537 2939 \r\nQ 1816 3084 2150 3084 \r\nQ 2853 3084 3261 2657 \r\nQ 3669 2231 3669 1497 \r\nQ 3669 778 3244 343 \r\nQ 2819 -91 2113 -91 \r\nQ 1303 -91 875 529 \r\nQ 447 1150 447 2328 \r\nQ 447 3434 972 4092 \r\nQ 1497 4750 2381 4750 \r\nQ 2619 4750 2861 4703 \r\nQ 3103 4656 3366 4563 \r\nz\r\n\" id=\"DejaVuSans-36\" transform=\"scale(0.015625)\"/>\r\n       </defs>\r\n       <use xlink:href=\"#DejaVuSans-36\"/>\r\n      </g>\r\n     </g>\r\n    </g>\r\n   </g>\r\n   <g id=\"matplotlib.axis_2\">\r\n    <g id=\"ytick_1\">\r\n     <g id=\"line2d_7\">\r\n      <defs>\r\n       <path d=\"M 0 0 \r\nL -3.5 0 \r\n\" id=\"ma1944f28e8\" style=\"stroke:#000000;stroke-width:0.8;\"/>\r\n      </defs>\r\n      <g>\r\n       <use style=\"stroke:#000000;stroke-width:0.8;\" x=\"30.103125\" xlink:href=\"#ma1944f28e8\" y=\"218.1096\"/>\r\n      </g>\r\n     </g>\r\n     <g id=\"text_7\">\r\n      <!-- 0.0 -->\r\n      <g transform=\"translate(7.2 221.908819)scale(0.1 -0.1)\">\r\n       <defs>\r\n        <path d=\"M 2034 4250 \r\nQ 1547 4250 1301 3770 \r\nQ 1056 3291 1056 2328 \r\nQ 1056 1369 1301 889 \r\nQ 1547 409 2034 409 \r\nQ 2525 409 2770 889 \r\nQ 3016 1369 3016 2328 \r\nQ 3016 3291 2770 3770 \r\nQ 2525 4250 2034 4250 \r\nz\r\nM 2034 4750 \r\nQ 2819 4750 3233 4129 \r\nQ 3647 3509 3647 2328 \r\nQ 3647 1150 3233 529 \r\nQ 2819 -91 2034 -91 \r\nQ 1250 -91 836 529 \r\nQ 422 1150 422 2328 \r\nQ 422 3509 836 4129 \r\nQ 1250 4750 2034 4750 \r\nz\r\n\" id=\"DejaVuSans-30\" transform=\"scale(0.015625)\"/>\r\n        <path d=\"M 684 794 \r\nL 1344 794 \r\nL 1344 0 \r\nL 684 0 \r\nL 684 794 \r\nz\r\n\" id=\"DejaVuSans-2e\" transform=\"scale(0.015625)\"/>\r\n       </defs>\r\n       <use xlink:href=\"#DejaVuSans-30\"/>\r\n       <use x=\"63.623047\" xlink:href=\"#DejaVuSans-2e\"/>\r\n       <use x=\"95.410156\" xlink:href=\"#DejaVuSans-30\"/>\r\n      </g>\r\n     </g>\r\n    </g>\r\n    <g id=\"ytick_2\">\r\n     <g id=\"line2d_8\">\r\n      <g>\r\n       <use style=\"stroke:#000000;stroke-width:0.8;\" x=\"30.103125\" xlink:href=\"#ma1944f28e8\" y=\"191.598607\"/>\r\n      </g>\r\n     </g>\r\n     <g id=\"text_8\">\r\n      <!-- 0.2 -->\r\n      <g transform=\"translate(7.2 195.397826)scale(0.1 -0.1)\">\r\n       <use xlink:href=\"#DejaVuSans-30\"/>\r\n       <use x=\"63.623047\" xlink:href=\"#DejaVuSans-2e\"/>\r\n       <use x=\"95.410156\" xlink:href=\"#DejaVuSans-32\"/>\r\n      </g>\r\n     </g>\r\n    </g>\r\n    <g id=\"ytick_3\">\r\n     <g id=\"line2d_9\">\r\n      <g>\r\n       <use style=\"stroke:#000000;stroke-width:0.8;\" x=\"30.103125\" xlink:href=\"#ma1944f28e8\" y=\"165.087614\"/>\r\n      </g>\r\n     </g>\r\n     <g id=\"text_9\">\r\n      <!-- 0.4 -->\r\n      <g transform=\"translate(7.2 168.886832)scale(0.1 -0.1)\">\r\n       <use xlink:href=\"#DejaVuSans-30\"/>\r\n       <use x=\"63.623047\" xlink:href=\"#DejaVuSans-2e\"/>\r\n       <use x=\"95.410156\" xlink:href=\"#DejaVuSans-34\"/>\r\n      </g>\r\n     </g>\r\n    </g>\r\n    <g id=\"ytick_4\">\r\n     <g id=\"line2d_10\">\r\n      <g>\r\n       <use style=\"stroke:#000000;stroke-width:0.8;\" x=\"30.103125\" xlink:href=\"#ma1944f28e8\" y=\"138.57662\"/>\r\n      </g>\r\n     </g>\r\n     <g id=\"text_10\">\r\n      <!-- 0.6 -->\r\n      <g transform=\"translate(7.2 142.375839)scale(0.1 -0.1)\">\r\n       <use xlink:href=\"#DejaVuSans-30\"/>\r\n       <use x=\"63.623047\" xlink:href=\"#DejaVuSans-2e\"/>\r\n       <use x=\"95.410156\" xlink:href=\"#DejaVuSans-36\"/>\r\n      </g>\r\n     </g>\r\n    </g>\r\n    <g id=\"ytick_5\">\r\n     <g id=\"line2d_11\">\r\n      <g>\r\n       <use style=\"stroke:#000000;stroke-width:0.8;\" x=\"30.103125\" xlink:href=\"#ma1944f28e8\" y=\"112.065627\"/>\r\n      </g>\r\n     </g>\r\n     <g id=\"text_11\">\r\n      <!-- 0.8 -->\r\n      <g transform=\"translate(7.2 115.864846)scale(0.1 -0.1)\">\r\n       <defs>\r\n        <path d=\"M 2034 2216 \r\nQ 1584 2216 1326 1975 \r\nQ 1069 1734 1069 1313 \r\nQ 1069 891 1326 650 \r\nQ 1584 409 2034 409 \r\nQ 2484 409 2743 651 \r\nQ 3003 894 3003 1313 \r\nQ 3003 1734 2745 1975 \r\nQ 2488 2216 2034 2216 \r\nz\r\nM 1403 2484 \r\nQ 997 2584 770 2862 \r\nQ 544 3141 544 3541 \r\nQ 544 4100 942 4425 \r\nQ 1341 4750 2034 4750 \r\nQ 2731 4750 3128 4425 \r\nQ 3525 4100 3525 3541 \r\nQ 3525 3141 3298 2862 \r\nQ 3072 2584 2669 2484 \r\nQ 3125 2378 3379 2068 \r\nQ 3634 1759 3634 1313 \r\nQ 3634 634 3220 271 \r\nQ 2806 -91 2034 -91 \r\nQ 1263 -91 848 271 \r\nQ 434 634 434 1313 \r\nQ 434 1759 690 2068 \r\nQ 947 2378 1403 2484 \r\nz\r\nM 1172 3481 \r\nQ 1172 3119 1398 2916 \r\nQ 1625 2713 2034 2713 \r\nQ 2441 2713 2670 2916 \r\nQ 2900 3119 2900 3481 \r\nQ 2900 3844 2670 4047 \r\nQ 2441 4250 2034 4250 \r\nQ 1625 4250 1398 4047 \r\nQ 1172 3844 1172 3481 \r\nz\r\n\" id=\"DejaVuSans-38\" transform=\"scale(0.015625)\"/>\r\n       </defs>\r\n       <use xlink:href=\"#DejaVuSans-30\"/>\r\n       <use x=\"63.623047\" xlink:href=\"#DejaVuSans-2e\"/>\r\n       <use x=\"95.410156\" xlink:href=\"#DejaVuSans-38\"/>\r\n      </g>\r\n     </g>\r\n    </g>\r\n    <g id=\"ytick_6\">\r\n     <g id=\"line2d_12\">\r\n      <g>\r\n       <use style=\"stroke:#000000;stroke-width:0.8;\" x=\"30.103125\" xlink:href=\"#ma1944f28e8\" y=\"85.554634\"/>\r\n      </g>\r\n     </g>\r\n     <g id=\"text_12\">\r\n      <!-- 1.0 -->\r\n      <g transform=\"translate(7.2 89.353852)scale(0.1 -0.1)\">\r\n       <use xlink:href=\"#DejaVuSans-31\"/>\r\n       <use x=\"63.623047\" xlink:href=\"#DejaVuSans-2e\"/>\r\n       <use x=\"95.410156\" xlink:href=\"#DejaVuSans-30\"/>\r\n      </g>\r\n     </g>\r\n    </g>\r\n    <g id=\"ytick_7\">\r\n     <g id=\"line2d_13\">\r\n      <g>\r\n       <use style=\"stroke:#000000;stroke-width:0.8;\" x=\"30.103125\" xlink:href=\"#ma1944f28e8\" y=\"59.04364\"/>\r\n      </g>\r\n     </g>\r\n     <g id=\"text_13\">\r\n      <!-- 1.2 -->\r\n      <g transform=\"translate(7.2 62.842859)scale(0.1 -0.1)\">\r\n       <use xlink:href=\"#DejaVuSans-31\"/>\r\n       <use x=\"63.623047\" xlink:href=\"#DejaVuSans-2e\"/>\r\n       <use x=\"95.410156\" xlink:href=\"#DejaVuSans-32\"/>\r\n      </g>\r\n     </g>\r\n    </g>\r\n    <g id=\"ytick_8\">\r\n     <g id=\"line2d_14\">\r\n      <g>\r\n       <use style=\"stroke:#000000;stroke-width:0.8;\" x=\"30.103125\" xlink:href=\"#ma1944f28e8\" y=\"32.532647\"/>\r\n      </g>\r\n     </g>\r\n     <g id=\"text_14\">\r\n      <!-- 1.4 -->\r\n      <g transform=\"translate(7.2 36.331866)scale(0.1 -0.1)\">\r\n       <use xlink:href=\"#DejaVuSans-31\"/>\r\n       <use x=\"63.623047\" xlink:href=\"#DejaVuSans-2e\"/>\r\n       <use x=\"95.410156\" xlink:href=\"#DejaVuSans-34\"/>\r\n      </g>\r\n     </g>\r\n    </g>\r\n   </g>\r\n   <g id=\"line2d_15\">\r\n    <path clip-path=\"url(#pe6661b277a)\" d=\"M 44.053125 202.824051 \r\nL 71.953125 202.824051 \r\nL 71.953125 201.07945 \r\nL 44.053125 201.07945 \r\nL 44.053125 202.824051 \r\n\" style=\"fill:none;stroke:#000000;stroke-linecap:square;\"/>\r\n   </g>\r\n   <g id=\"line2d_16\">\r\n    <path clip-path=\"url(#pe6661b277a)\" d=\"M 58.003125 202.824051 \r\nL 58.003125 204.852448 \r\n\" style=\"fill:none;stroke:#000000;stroke-linecap:square;\"/>\r\n   </g>\r\n   <g id=\"line2d_17\">\r\n    <path clip-path=\"url(#pe6661b277a)\" d=\"M 58.003125 201.07945 \r\nL 58.003125 198.474558 \r\n\" style=\"fill:none;stroke:#000000;stroke-linecap:square;\"/>\r\n   </g>\r\n   <g id=\"line2d_18\">\r\n    <path clip-path=\"url(#pe6661b277a)\" d=\"M 51.028125 204.852448 \r\nL 64.978125 204.852448 \r\n\" style=\"fill:none;stroke:#000000;stroke-linecap:square;\"/>\r\n   </g>\r\n   <g id=\"line2d_19\">\r\n    <path clip-path=\"url(#pe6661b277a)\" d=\"M 51.028125 198.474558 \r\nL 64.978125 198.474558 \r\n\" style=\"fill:none;stroke:#000000;stroke-linecap:square;\"/>\r\n   </g>\r\n   <g id=\"line2d_20\">\r\n    <defs>\r\n     <path d=\"M 0 3 \r\nC 0.795609 3 1.55874 2.683901 2.12132 2.12132 \r\nC 2.683901 1.55874 3 0.795609 3 0 \r\nC 3 -0.795609 2.683901 -1.55874 2.12132 -2.12132 \r\nC 1.55874 -2.683901 0.795609 -3 0 -3 \r\nC -0.795609 -3 -1.55874 -2.683901 -2.12132 -2.12132 \r\nC -2.683901 -1.55874 -3 -0.795609 -3 0 \r\nC -3 0.795609 -2.683901 1.55874 -2.12132 2.12132 \r\nC -1.55874 2.683901 -0.795609 3 0 3 \r\nz\r\n\" id=\"ma529c2c6cd\" style=\"stroke:#000000;\"/>\r\n    </defs>\r\n    <g clip-path=\"url(#pe6661b277a)\">\r\n     <use style=\"fill-opacity:0;stroke:#000000;\" x=\"58.003125\" xlink:href=\"#ma529c2c6cd\" y=\"197.967657\"/>\r\n     <use style=\"fill-opacity:0;stroke:#000000;\" x=\"58.003125\" xlink:href=\"#ma529c2c6cd\" y=\"197.432123\"/>\r\n     <use style=\"fill-opacity:0;stroke:#000000;\" x=\"58.003125\" xlink:href=\"#ma529c2c6cd\" y=\"194.846469\"/>\r\n     <use style=\"fill-opacity:0;stroke:#000000;\" x=\"58.003125\" xlink:href=\"#ma529c2c6cd\" y=\"195.785182\"/>\r\n     <use style=\"fill-opacity:0;stroke:#000000;\" x=\"58.003125\" xlink:href=\"#ma529c2c6cd\" y=\"198.293695\"/>\r\n     <use style=\"fill-opacity:0;stroke:#000000;\" x=\"58.003125\" xlink:href=\"#ma529c2c6cd\" y=\"196.63908\"/>\r\n     <use style=\"fill-opacity:0;stroke:#000000;\" x=\"58.003125\" xlink:href=\"#ma529c2c6cd\" y=\"191.855507\"/>\r\n     <use style=\"fill-opacity:0;stroke:#000000;\" x=\"58.003125\" xlink:href=\"#ma529c2c6cd\" y=\"193.615609\"/>\r\n     <use style=\"fill-opacity:0;stroke:#000000;\" x=\"58.003125\" xlink:href=\"#ma529c2c6cd\" y=\"192.864743\"/>\r\n     <use style=\"fill-opacity:0;stroke:#000000;\" x=\"58.003125\" xlink:href=\"#ma529c2c6cd\" y=\"197.159261\"/>\r\n     <use style=\"fill-opacity:0;stroke:#000000;\" x=\"58.003125\" xlink:href=\"#ma529c2c6cd\" y=\"198.370579\"/>\r\n     <use style=\"fill-opacity:0;stroke:#000000;\" x=\"58.003125\" xlink:href=\"#ma529c2c6cd\" y=\"196.239334\"/>\r\n     <use style=\"fill-opacity:0;stroke:#000000;\" x=\"58.003125\" xlink:href=\"#ma529c2c6cd\" y=\"197.193321\"/>\r\n     <use style=\"fill-opacity:0;stroke:#000000;\" x=\"58.003125\" xlink:href=\"#ma529c2c6cd\" y=\"196.680097\"/>\r\n     <use style=\"fill-opacity:0;stroke:#000000;\" x=\"58.003125\" xlink:href=\"#ma529c2c6cd\" y=\"197.919852\"/>\r\n     <use style=\"fill-opacity:0;stroke:#000000;\" x=\"58.003125\" xlink:href=\"#ma529c2c6cd\" y=\"195.654717\"/>\r\n     <use style=\"fill-opacity:0;stroke:#000000;\" x=\"58.003125\" xlink:href=\"#ma529c2c6cd\" y=\"198.203734\"/>\r\n     <use style=\"fill-opacity:0;stroke:#000000;\" x=\"58.003125\" xlink:href=\"#ma529c2c6cd\" y=\"193.13024\"/>\r\n     <use style=\"fill-opacity:0;stroke:#000000;\" x=\"58.003125\" xlink:href=\"#ma529c2c6cd\" y=\"197.177477\"/>\r\n     <use style=\"fill-opacity:0;stroke:#000000;\" x=\"58.003125\" xlink:href=\"#ma529c2c6cd\" y=\"185.49872\"/>\r\n     <use style=\"fill-opacity:0;stroke:#000000;\" x=\"58.003125\" xlink:href=\"#ma529c2c6cd\" y=\"191.589802\"/>\r\n     <use style=\"fill-opacity:0;stroke:#000000;\" x=\"58.003125\" xlink:href=\"#ma529c2c6cd\" y=\"196.522634\"/>\r\n     <use style=\"fill-opacity:0;stroke:#000000;\" x=\"58.003125\" xlink:href=\"#ma529c2c6cd\" y=\"195.637375\"/>\r\n     <use style=\"fill-opacity:0;stroke:#000000;\" x=\"58.003125\" xlink:href=\"#ma529c2c6cd\" y=\"192.873599\"/>\r\n     <use style=\"fill-opacity:0;stroke:#000000;\" x=\"58.003125\" xlink:href=\"#ma529c2c6cd\" y=\"193.159502\"/>\r\n     <use style=\"fill-opacity:0;stroke:#000000;\" x=\"58.003125\" xlink:href=\"#ma529c2c6cd\" y=\"172.675195\"/>\r\n     <use style=\"fill-opacity:0;stroke:#000000;\" x=\"58.003125\" xlink:href=\"#ma529c2c6cd\" y=\"197.853801\"/>\r\n     <use style=\"fill-opacity:0;stroke:#000000;\" x=\"58.003125\" xlink:href=\"#ma529c2c6cd\" y=\"193.633263\"/>\r\n     <use style=\"fill-opacity:0;stroke:#000000;\" x=\"58.003125\" xlink:href=\"#ma529c2c6cd\" y=\"197.755523\"/>\r\n     <use style=\"fill-opacity:0;stroke:#000000;\" x=\"58.003125\" xlink:href=\"#ma529c2c6cd\" y=\"196.160548\"/>\r\n     <use style=\"fill-opacity:0;stroke:#000000;\" x=\"58.003125\" xlink:href=\"#ma529c2c6cd\" y=\"198.279824\"/>\r\n     <use style=\"fill-opacity:0;stroke:#000000;\" x=\"58.003125\" xlink:href=\"#ma529c2c6cd\" y=\"198.134398\"/>\r\n     <use style=\"fill-opacity:0;stroke:#000000;\" x=\"58.003125\" xlink:href=\"#ma529c2c6cd\" y=\"195.737399\"/>\r\n     <use style=\"fill-opacity:0;stroke:#000000;\" x=\"58.003125\" xlink:href=\"#ma529c2c6cd\" y=\"198.002543\"/>\r\n     <use style=\"fill-opacity:0;stroke:#000000;\" x=\"58.003125\" xlink:href=\"#ma529c2c6cd\" y=\"197.904825\"/>\r\n     <use style=\"fill-opacity:0;stroke:#000000;\" x=\"58.003125\" xlink:href=\"#ma529c2c6cd\" y=\"198.442037\"/>\r\n     <use style=\"fill-opacity:0;stroke:#000000;\" x=\"58.003125\" xlink:href=\"#ma529c2c6cd\" y=\"198.202109\"/>\r\n     <use style=\"fill-opacity:0;stroke:#000000;\" x=\"58.003125\" xlink:href=\"#ma529c2c6cd\" y=\"194.962442\"/>\r\n     <use style=\"fill-opacity:0;stroke:#000000;\" x=\"58.003125\" xlink:href=\"#ma529c2c6cd\" y=\"195.391776\"/>\r\n     <use style=\"fill-opacity:0;stroke:#000000;\" x=\"58.003125\" xlink:href=\"#ma529c2c6cd\" y=\"198.330345\"/>\r\n     <use style=\"fill-opacity:0;stroke:#000000;\" x=\"58.003125\" xlink:href=\"#ma529c2c6cd\" y=\"196.849271\"/>\r\n     <use style=\"fill-opacity:0;stroke:#000000;\" x=\"58.003125\" xlink:href=\"#ma529c2c6cd\" y=\"197.423658\"/>\r\n     <use style=\"fill-opacity:0;stroke:#000000;\" x=\"58.003125\" xlink:href=\"#ma529c2c6cd\" y=\"198.328328\"/>\r\n     <use style=\"fill-opacity:0;stroke:#000000;\" x=\"58.003125\" xlink:href=\"#ma529c2c6cd\" y=\"197.574746\"/>\r\n     <use style=\"fill-opacity:0;stroke:#000000;\" x=\"58.003125\" xlink:href=\"#ma529c2c6cd\" y=\"198.278481\"/>\r\n     <use style=\"fill-opacity:0;stroke:#000000;\" x=\"58.003125\" xlink:href=\"#ma529c2c6cd\" y=\"196.587338\"/>\r\n     <use style=\"fill-opacity:0;stroke:#000000;\" x=\"58.003125\" xlink:href=\"#ma529c2c6cd\" y=\"198.04439\"/>\r\n     <use style=\"fill-opacity:0;stroke:#000000;\" x=\"58.003125\" xlink:href=\"#ma529c2c6cd\" y=\"197.646921\"/>\r\n     <use style=\"fill-opacity:0;stroke:#000000;\" x=\"58.003125\" xlink:href=\"#ma529c2c6cd\" y=\"197.113351\"/>\r\n     <use style=\"fill-opacity:0;stroke:#000000;\" x=\"58.003125\" xlink:href=\"#ma529c2c6cd\" y=\"198.066434\"/>\r\n     <use style=\"fill-opacity:0;stroke:#000000;\" x=\"58.003125\" xlink:href=\"#ma529c2c6cd\" y=\"197.802394\"/>\r\n     <use style=\"fill-opacity:0;stroke:#000000;\" x=\"58.003125\" xlink:href=\"#ma529c2c6cd\" y=\"192.25182\"/>\r\n     <use style=\"fill-opacity:0;stroke:#000000;\" x=\"58.003125\" xlink:href=\"#ma529c2c6cd\" y=\"198.051494\"/>\r\n     <use style=\"fill-opacity:0;stroke:#000000;\" x=\"58.003125\" xlink:href=\"#ma529c2c6cd\" y=\"197.953086\"/>\r\n     <use style=\"fill-opacity:0;stroke:#000000;\" x=\"58.003125\" xlink:href=\"#ma529c2c6cd\" y=\"172.277245\"/>\r\n     <use style=\"fill-opacity:0;stroke:#000000;\" x=\"58.003125\" xlink:href=\"#ma529c2c6cd\" y=\"198.227804\"/>\r\n     <use style=\"fill-opacity:0;stroke:#000000;\" x=\"58.003125\" xlink:href=\"#ma529c2c6cd\" y=\"196.188109\"/>\r\n     <use style=\"fill-opacity:0;stroke:#000000;\" x=\"58.003125\" xlink:href=\"#ma529c2c6cd\" y=\"196.006155\"/>\r\n     <use style=\"fill-opacity:0;stroke:#000000;\" x=\"58.003125\" xlink:href=\"#ma529c2c6cd\" y=\"195.074538\"/>\r\n     <use style=\"fill-opacity:0;stroke:#000000;\" x=\"58.003125\" xlink:href=\"#ma529c2c6cd\" y=\"196.487157\"/>\r\n     <use style=\"fill-opacity:0;stroke:#000000;\" x=\"58.003125\" xlink:href=\"#ma529c2c6cd\" y=\"196.723169\"/>\r\n     <use style=\"fill-opacity:0;stroke:#000000;\" x=\"58.003125\" xlink:href=\"#ma529c2c6cd\" y=\"197.994638\"/>\r\n     <use style=\"fill-opacity:0;stroke:#000000;\" x=\"58.003125\" xlink:href=\"#ma529c2c6cd\" y=\"196.101777\"/>\r\n    </g>\r\n   </g>\r\n   <g id=\"line2d_21\">\r\n    <path clip-path=\"url(#pe6661b277a)\" d=\"M 99.853125 141.280854 \r\nL 127.753125 141.280854 \r\nL 127.753125 134.319526 \r\nL 99.853125 134.319526 \r\nL 99.853125 141.280854 \r\n\" style=\"fill:none;stroke:#000000;stroke-linecap:square;\"/>\r\n   </g>\r\n   <g id=\"line2d_22\">\r\n    <path clip-path=\"url(#pe6661b277a)\" d=\"M 113.803125 141.280854 \r\nL 113.803125 151.622995 \r\n\" style=\"fill:none;stroke:#000000;stroke-linecap:square;\"/>\r\n   </g>\r\n   <g id=\"line2d_23\">\r\n    <path clip-path=\"url(#pe6661b277a)\" d=\"M 113.803125 134.319526 \r\nL 113.803125 123.983894 \r\n\" style=\"fill:none;stroke:#000000;stroke-linecap:square;\"/>\r\n   </g>\r\n   <g id=\"line2d_24\">\r\n    <path clip-path=\"url(#pe6661b277a)\" d=\"M 106.828125 151.622995 \r\nL 120.778125 151.622995 \r\n\" style=\"fill:none;stroke:#000000;stroke-linecap:square;\"/>\r\n   </g>\r\n   <g id=\"line2d_25\">\r\n    <path clip-path=\"url(#pe6661b277a)\" d=\"M 106.828125 123.983894 \r\nL 120.778125 123.983894 \r\n\" style=\"fill:none;stroke:#000000;stroke-linecap:square;\"/>\r\n   </g>\r\n   <g id=\"line2d_26\">\r\n    <g clip-path=\"url(#pe6661b277a)\">\r\n     <use style=\"fill-opacity:0;stroke:#000000;\" x=\"113.803125\" xlink:href=\"#ma529c2c6cd\" y=\"152.514802\"/>\r\n     <use style=\"fill-opacity:0;stroke:#000000;\" x=\"113.803125\" xlink:href=\"#ma529c2c6cd\" y=\"158.981029\"/>\r\n     <use style=\"fill-opacity:0;stroke:#000000;\" x=\"113.803125\" xlink:href=\"#ma529c2c6cd\" y=\"153.358795\"/>\r\n     <use style=\"fill-opacity:0;stroke:#000000;\" x=\"113.803125\" xlink:href=\"#ma529c2c6cd\" y=\"154.194928\"/>\r\n     <use style=\"fill-opacity:0;stroke:#000000;\" x=\"113.803125\" xlink:href=\"#ma529c2c6cd\" y=\"152.297454\"/>\r\n     <use style=\"fill-opacity:0;stroke:#000000;\" x=\"113.803125\" xlink:href=\"#ma529c2c6cd\" y=\"167.809623\"/>\r\n     <use style=\"fill-opacity:0;stroke:#000000;\" x=\"113.803125\" xlink:href=\"#ma529c2c6cd\" y=\"157.651939\"/>\r\n     <use style=\"fill-opacity:0;stroke:#000000;\" x=\"113.803125\" xlink:href=\"#ma529c2c6cd\" y=\"171.274982\"/>\r\n     <use style=\"fill-opacity:0;stroke:#000000;\" x=\"113.803125\" xlink:href=\"#ma529c2c6cd\" y=\"157.445346\"/>\r\n     <use style=\"fill-opacity:0;stroke:#000000;\" x=\"113.803125\" xlink:href=\"#ma529c2c6cd\" y=\"169.2438\"/>\r\n     <use style=\"fill-opacity:0;stroke:#000000;\" x=\"113.803125\" xlink:href=\"#ma529c2c6cd\" y=\"171.711408\"/>\r\n     <use style=\"fill-opacity:0;stroke:#000000;\" x=\"113.803125\" xlink:href=\"#ma529c2c6cd\" y=\"159.862486\"/>\r\n     <use style=\"fill-opacity:0;stroke:#000000;\" x=\"113.803125\" xlink:href=\"#ma529c2c6cd\" y=\"160.285415\"/>\r\n     <use style=\"fill-opacity:0;stroke:#000000;\" x=\"113.803125\" xlink:href=\"#ma529c2c6cd\" y=\"156.725211\"/>\r\n     <use style=\"fill-opacity:0;stroke:#000000;\" x=\"113.803125\" xlink:href=\"#ma529c2c6cd\" y=\"154.760385\"/>\r\n     <use style=\"fill-opacity:0;stroke:#000000;\" x=\"113.803125\" xlink:href=\"#ma529c2c6cd\" y=\"161.486365\"/>\r\n     <use style=\"fill-opacity:0;stroke:#000000;\" x=\"113.803125\" xlink:href=\"#ma529c2c6cd\" y=\"154.976673\"/>\r\n     <use style=\"fill-opacity:0;stroke:#000000;\" x=\"113.803125\" xlink:href=\"#ma529c2c6cd\" y=\"156.252504\"/>\r\n     <use style=\"fill-opacity:0;stroke:#000000;\" x=\"113.803125\" xlink:href=\"#ma529c2c6cd\" y=\"153.227096\"/>\r\n     <use style=\"fill-opacity:0;stroke:#000000;\" x=\"113.803125\" xlink:href=\"#ma529c2c6cd\" y=\"159.250463\"/>\r\n     <use style=\"fill-opacity:0;stroke:#000000;\" x=\"113.803125\" xlink:href=\"#ma529c2c6cd\" y=\"157.594983\"/>\r\n     <use style=\"fill-opacity:0;stroke:#000000;\" x=\"113.803125\" xlink:href=\"#ma529c2c6cd\" y=\"200.006561\"/>\r\n     <use style=\"fill-opacity:0;stroke:#000000;\" x=\"113.803125\" xlink:href=\"#ma529c2c6cd\" y=\"152.913495\"/>\r\n     <use style=\"fill-opacity:0;stroke:#000000;\" x=\"113.803125\" xlink:href=\"#ma529c2c6cd\" y=\"158.535679\"/>\r\n     <use style=\"fill-opacity:0;stroke:#000000;\" x=\"113.803125\" xlink:href=\"#ma529c2c6cd\" y=\"172.524458\"/>\r\n     <use style=\"fill-opacity:0;stroke:#000000;\" x=\"113.803125\" xlink:href=\"#ma529c2c6cd\" y=\"152.189432\"/>\r\n     <use style=\"fill-opacity:0;stroke:#000000;\" x=\"113.803125\" xlink:href=\"#ma529c2c6cd\" y=\"160.093838\"/>\r\n     <use style=\"fill-opacity:0;stroke:#000000;\" x=\"113.803125\" xlink:href=\"#ma529c2c6cd\" y=\"151.99657\"/>\r\n     <use style=\"fill-opacity:0;stroke:#000000;\" x=\"113.803125\" xlink:href=\"#ma529c2c6cd\" y=\"187.371348\"/>\r\n     <use style=\"fill-opacity:0;stroke:#000000;\" x=\"113.803125\" xlink:href=\"#ma529c2c6cd\" y=\"179.599395\"/>\r\n     <use style=\"fill-opacity:0;stroke:#000000;\" x=\"113.803125\" xlink:href=\"#ma529c2c6cd\" y=\"171.665911\"/>\r\n     <use style=\"fill-opacity:0;stroke:#000000;\" x=\"113.803125\" xlink:href=\"#ma529c2c6cd\" y=\"174.27746\"/>\r\n     <use style=\"fill-opacity:0;stroke:#000000;\" x=\"113.803125\" xlink:href=\"#ma529c2c6cd\" y=\"160.164971\"/>\r\n     <use style=\"fill-opacity:0;stroke:#000000;\" x=\"113.803125\" xlink:href=\"#ma529c2c6cd\" y=\"161.710649\"/>\r\n     <use style=\"fill-opacity:0;stroke:#000000;\" x=\"113.803125\" xlink:href=\"#ma529c2c6cd\" y=\"155.598901\"/>\r\n     <use style=\"fill-opacity:0;stroke:#000000;\" x=\"113.803125\" xlink:href=\"#ma529c2c6cd\" y=\"186.670396\"/>\r\n     <use style=\"fill-opacity:0;stroke:#000000;\" x=\"113.803125\" xlink:href=\"#ma529c2c6cd\" y=\"155.264644\"/>\r\n     <use style=\"fill-opacity:0;stroke:#000000;\" x=\"113.803125\" xlink:href=\"#ma529c2c6cd\" y=\"154.707743\"/>\r\n     <use style=\"fill-opacity:0;stroke:#000000;\" x=\"113.803125\" xlink:href=\"#ma529c2c6cd\" y=\"161.628311\"/>\r\n     <use style=\"fill-opacity:0;stroke:#000000;\" x=\"113.803125\" xlink:href=\"#ma529c2c6cd\" y=\"154.180062\"/>\r\n     <use style=\"fill-opacity:0;stroke:#000000;\" x=\"113.803125\" xlink:href=\"#ma529c2c6cd\" y=\"152.407163\"/>\r\n     <use style=\"fill-opacity:0;stroke:#000000;\" x=\"113.803125\" xlink:href=\"#ma529c2c6cd\" y=\"153.940269\"/>\r\n     <use style=\"fill-opacity:0;stroke:#000000;\" x=\"113.803125\" xlink:href=\"#ma529c2c6cd\" y=\"165.176955\"/>\r\n     <use style=\"fill-opacity:0;stroke:#000000;\" x=\"113.803125\" xlink:href=\"#ma529c2c6cd\" y=\"160.445837\"/>\r\n     <use style=\"fill-opacity:0;stroke:#000000;\" x=\"113.803125\" xlink:href=\"#ma529c2c6cd\" y=\"152.972876\"/>\r\n     <use style=\"fill-opacity:0;stroke:#000000;\" x=\"113.803125\" xlink:href=\"#ma529c2c6cd\" y=\"157.551441\"/>\r\n     <use style=\"fill-opacity:0;stroke:#000000;\" x=\"113.803125\" xlink:href=\"#ma529c2c6cd\" y=\"153.098899\"/>\r\n     <use style=\"fill-opacity:0;stroke:#000000;\" x=\"113.803125\" xlink:href=\"#ma529c2c6cd\" y=\"114.810745\"/>\r\n     <use style=\"fill-opacity:0;stroke:#000000;\" x=\"113.803125\" xlink:href=\"#ma529c2c6cd\" y=\"123.508836\"/>\r\n     <use style=\"fill-opacity:0;stroke:#000000;\" x=\"113.803125\" xlink:href=\"#ma529c2c6cd\" y=\"122.886417\"/>\r\n     <use style=\"fill-opacity:0;stroke:#000000;\" x=\"113.803125\" xlink:href=\"#ma529c2c6cd\" y=\"123.767756\"/>\r\n     <use style=\"fill-opacity:0;stroke:#000000;\" x=\"113.803125\" xlink:href=\"#ma529c2c6cd\" y=\"95.915748\"/>\r\n     <use style=\"fill-opacity:0;stroke:#000000;\" x=\"113.803125\" xlink:href=\"#ma529c2c6cd\" y=\"17.083636\"/>\r\n     <use style=\"fill-opacity:0;stroke:#000000;\" x=\"113.803125\" xlink:href=\"#ma529c2c6cd\" y=\"81.295441\"/>\r\n     <use style=\"fill-opacity:0;stroke:#000000;\" x=\"113.803125\" xlink:href=\"#ma529c2c6cd\" y=\"118.143849\"/>\r\n     <use style=\"fill-opacity:0;stroke:#000000;\" x=\"113.803125\" xlink:href=\"#ma529c2c6cd\" y=\"85.545887\"/>\r\n     <use style=\"fill-opacity:0;stroke:#000000;\" x=\"113.803125\" xlink:href=\"#ma529c2c6cd\" y=\"86.454359\"/>\r\n     <use style=\"fill-opacity:0;stroke:#000000;\" x=\"113.803125\" xlink:href=\"#ma529c2c6cd\" y=\"116.771126\"/>\r\n     <use style=\"fill-opacity:0;stroke:#000000;\" x=\"113.803125\" xlink:href=\"#ma529c2c6cd\" y=\"113.478212\"/>\r\n     <use style=\"fill-opacity:0;stroke:#000000;\" x=\"113.803125\" xlink:href=\"#ma529c2c6cd\" y=\"103.22169\"/>\r\n     <use style=\"fill-opacity:0;stroke:#000000;\" x=\"113.803125\" xlink:href=\"#ma529c2c6cd\" y=\"107.403305\"/>\r\n     <use style=\"fill-opacity:0;stroke:#000000;\" x=\"113.803125\" xlink:href=\"#ma529c2c6cd\" y=\"110.019256\"/>\r\n     <use style=\"fill-opacity:0;stroke:#000000;\" x=\"113.803125\" xlink:href=\"#ma529c2c6cd\" y=\"122.153122\"/>\r\n     <use style=\"fill-opacity:0;stroke:#000000;\" x=\"113.803125\" xlink:href=\"#ma529c2c6cd\" y=\"109.854573\"/>\r\n     <use style=\"fill-opacity:0;stroke:#000000;\" x=\"113.803125\" xlink:href=\"#ma529c2c6cd\" y=\"111.522524\"/>\r\n     <use style=\"fill-opacity:0;stroke:#000000;\" x=\"113.803125\" xlink:href=\"#ma529c2c6cd\" y=\"107.148193\"/>\r\n     <use style=\"fill-opacity:0;stroke:#000000;\" x=\"113.803125\" xlink:href=\"#ma529c2c6cd\" y=\"111.142377\"/>\r\n     <use style=\"fill-opacity:0;stroke:#000000;\" x=\"113.803125\" xlink:href=\"#ma529c2c6cd\" y=\"112.379388\"/>\r\n     <use style=\"fill-opacity:0;stroke:#000000;\" x=\"113.803125\" xlink:href=\"#ma529c2c6cd\" y=\"116.229736\"/>\r\n     <use style=\"fill-opacity:0;stroke:#000000;\" x=\"113.803125\" xlink:href=\"#ma529c2c6cd\" y=\"109.950233\"/>\r\n     <use style=\"fill-opacity:0;stroke:#000000;\" x=\"113.803125\" xlink:href=\"#ma529c2c6cd\" y=\"111.311586\"/>\r\n     <use style=\"fill-opacity:0;stroke:#000000;\" x=\"113.803125\" xlink:href=\"#ma529c2c6cd\" y=\"123.363067\"/>\r\n     <use style=\"fill-opacity:0;stroke:#000000;\" x=\"113.803125\" xlink:href=\"#ma529c2c6cd\" y=\"108.645151\"/>\r\n     <use style=\"fill-opacity:0;stroke:#000000;\" x=\"113.803125\" xlink:href=\"#ma529c2c6cd\" y=\"108.470063\"/>\r\n     <use style=\"fill-opacity:0;stroke:#000000;\" x=\"113.803125\" xlink:href=\"#ma529c2c6cd\" y=\"123.687638\"/>\r\n     <use style=\"fill-opacity:0;stroke:#000000;\" x=\"113.803125\" xlink:href=\"#ma529c2c6cd\" y=\"115.575021\"/>\r\n     <use style=\"fill-opacity:0;stroke:#000000;\" x=\"113.803125\" xlink:href=\"#ma529c2c6cd\" y=\"113.681125\"/>\r\n     <use style=\"fill-opacity:0;stroke:#000000;\" x=\"113.803125\" xlink:href=\"#ma529c2c6cd\" y=\"121.5536\"/>\r\n     <use style=\"fill-opacity:0;stroke:#000000;\" x=\"113.803125\" xlink:href=\"#ma529c2c6cd\" y=\"122.104252\"/>\r\n     <use style=\"fill-opacity:0;stroke:#000000;\" x=\"113.803125\" xlink:href=\"#ma529c2c6cd\" y=\"117.481109\"/>\r\n     <use style=\"fill-opacity:0;stroke:#000000;\" x=\"113.803125\" xlink:href=\"#ma529c2c6cd\" y=\"102.204263\"/>\r\n     <use style=\"fill-opacity:0;stroke:#000000;\" x=\"113.803125\" xlink:href=\"#ma529c2c6cd\" y=\"119.882101\"/>\r\n     <use style=\"fill-opacity:0;stroke:#000000;\" x=\"113.803125\" xlink:href=\"#ma529c2c6cd\" y=\"123.849814\"/>\r\n     <use style=\"fill-opacity:0;stroke:#000000;\" x=\"113.803125\" xlink:href=\"#ma529c2c6cd\" y=\"121.265892\"/>\r\n     <use style=\"fill-opacity:0;stroke:#000000;\" x=\"113.803125\" xlink:href=\"#ma529c2c6cd\" y=\"122.090801\"/>\r\n     <use style=\"fill-opacity:0;stroke:#000000;\" x=\"113.803125\" xlink:href=\"#ma529c2c6cd\" y=\"113.859542\"/>\r\n     <use style=\"fill-opacity:0;stroke:#000000;\" x=\"113.803125\" xlink:href=\"#ma529c2c6cd\" y=\"104.73313\"/>\r\n     <use style=\"fill-opacity:0;stroke:#000000;\" x=\"113.803125\" xlink:href=\"#ma529c2c6cd\" y=\"93.016423\"/>\r\n     <use style=\"fill-opacity:0;stroke:#000000;\" x=\"113.803125\" xlink:href=\"#ma529c2c6cd\" y=\"91.654933\"/>\r\n     <use style=\"fill-opacity:0;stroke:#000000;\" x=\"113.803125\" xlink:href=\"#ma529c2c6cd\" y=\"122.216561\"/>\r\n     <use style=\"fill-opacity:0;stroke:#000000;\" x=\"113.803125\" xlink:href=\"#ma529c2c6cd\" y=\"120.802315\"/>\r\n     <use style=\"fill-opacity:0;stroke:#000000;\" x=\"113.803125\" xlink:href=\"#ma529c2c6cd\" y=\"123.239053\"/>\r\n     <use style=\"fill-opacity:0;stroke:#000000;\" x=\"113.803125\" xlink:href=\"#ma529c2c6cd\" y=\"123.201784\"/>\r\n     <use style=\"fill-opacity:0;stroke:#000000;\" x=\"113.803125\" xlink:href=\"#ma529c2c6cd\" y=\"123.772536\"/>\r\n     <use style=\"fill-opacity:0;stroke:#000000;\" x=\"113.803125\" xlink:href=\"#ma529c2c6cd\" y=\"114.831506\"/>\r\n     <use style=\"fill-opacity:0;stroke:#000000;\" x=\"113.803125\" xlink:href=\"#ma529c2c6cd\" y=\"122.756432\"/>\r\n     <use style=\"fill-opacity:0;stroke:#000000;\" x=\"113.803125\" xlink:href=\"#ma529c2c6cd\" y=\"119.939211\"/>\r\n     <use style=\"fill-opacity:0;stroke:#000000;\" x=\"113.803125\" xlink:href=\"#ma529c2c6cd\" y=\"122.729476\"/>\r\n     <use style=\"fill-opacity:0;stroke:#000000;\" x=\"113.803125\" xlink:href=\"#ma529c2c6cd\" y=\"123.642906\"/>\r\n     <use style=\"fill-opacity:0;stroke:#000000;\" x=\"113.803125\" xlink:href=\"#ma529c2c6cd\" y=\"112.281779\"/>\r\n     <use style=\"fill-opacity:0;stroke:#000000;\" x=\"113.803125\" xlink:href=\"#ma529c2c6cd\" y=\"115.846314\"/>\r\n     <use style=\"fill-opacity:0;stroke:#000000;\" x=\"113.803125\" xlink:href=\"#ma529c2c6cd\" y=\"121.306077\"/>\r\n     <use style=\"fill-opacity:0;stroke:#000000;\" x=\"113.803125\" xlink:href=\"#ma529c2c6cd\" y=\"115.17177\"/>\r\n     <use style=\"fill-opacity:0;stroke:#000000;\" x=\"113.803125\" xlink:href=\"#ma529c2c6cd\" y=\"122.449777\"/>\r\n     <use style=\"fill-opacity:0;stroke:#000000;\" x=\"113.803125\" xlink:href=\"#ma529c2c6cd\" y=\"113.897207\"/>\r\n     <use style=\"fill-opacity:0;stroke:#000000;\" x=\"113.803125\" xlink:href=\"#ma529c2c6cd\" y=\"123.766029\"/>\r\n     <use style=\"fill-opacity:0;stroke:#000000;\" x=\"113.803125\" xlink:href=\"#ma529c2c6cd\" y=\"123.042715\"/>\r\n     <use style=\"fill-opacity:0;stroke:#000000;\" x=\"113.803125\" xlink:href=\"#ma529c2c6cd\" y=\"122.314741\"/>\r\n     <use style=\"fill-opacity:0;stroke:#000000;\" x=\"113.803125\" xlink:href=\"#ma529c2c6cd\" y=\"120.816012\"/>\r\n     <use style=\"fill-opacity:0;stroke:#000000;\" x=\"113.803125\" xlink:href=\"#ma529c2c6cd\" y=\"118.259047\"/>\r\n     <use style=\"fill-opacity:0;stroke:#000000;\" x=\"113.803125\" xlink:href=\"#ma529c2c6cd\" y=\"123.666008\"/>\r\n     <use style=\"fill-opacity:0;stroke:#000000;\" x=\"113.803125\" xlink:href=\"#ma529c2c6cd\" y=\"120.794873\"/>\r\n     <use style=\"fill-opacity:0;stroke:#000000;\" x=\"113.803125\" xlink:href=\"#ma529c2c6cd\" y=\"117.547675\"/>\r\n     <use style=\"fill-opacity:0;stroke:#000000;\" x=\"113.803125\" xlink:href=\"#ma529c2c6cd\" y=\"123.858051\"/>\r\n     <use style=\"fill-opacity:0;stroke:#000000;\" x=\"113.803125\" xlink:href=\"#ma529c2c6cd\" y=\"113.968392\"/>\r\n     <use style=\"fill-opacity:0;stroke:#000000;\" x=\"113.803125\" xlink:href=\"#ma529c2c6cd\" y=\"120.442426\"/>\r\n     <use style=\"fill-opacity:0;stroke:#000000;\" x=\"113.803125\" xlink:href=\"#ma529c2c6cd\" y=\"122.261498\"/>\r\n     <use style=\"fill-opacity:0;stroke:#000000;\" x=\"113.803125\" xlink:href=\"#ma529c2c6cd\" y=\"122.1536\"/>\r\n     <use style=\"fill-opacity:0;stroke:#000000;\" x=\"113.803125\" xlink:href=\"#ma529c2c6cd\" y=\"118.078894\"/>\r\n     <use style=\"fill-opacity:0;stroke:#000000;\" x=\"113.803125\" xlink:href=\"#ma529c2c6cd\" y=\"123.386254\"/>\r\n     <use style=\"fill-opacity:0;stroke:#000000;\" x=\"113.803125\" xlink:href=\"#ma529c2c6cd\" y=\"123.20946\"/>\r\n     <use style=\"fill-opacity:0;stroke:#000000;\" x=\"113.803125\" xlink:href=\"#ma529c2c6cd\" y=\"114.88976\"/>\r\n     <use style=\"fill-opacity:0;stroke:#000000;\" x=\"113.803125\" xlink:href=\"#ma529c2c6cd\" y=\"123.790455\"/>\r\n    </g>\r\n   </g>\r\n   <g id=\"line2d_27\">\r\n    <path clip-path=\"url(#pe6661b277a)\" d=\"M 155.653125 164.448419 \r\nL 183.553125 164.448419 \r\nL 183.553125 157.19201 \r\nL 155.653125 157.19201 \r\nL 155.653125 164.448419 \r\n\" style=\"fill:none;stroke:#000000;stroke-linecap:square;\"/>\r\n   </g>\r\n   <g id=\"line2d_28\">\r\n    <path clip-path=\"url(#pe6661b277a)\" d=\"M 169.603125 164.448419 \r\nL 169.603125 175.290476 \r\n\" style=\"fill:none;stroke:#000000;stroke-linecap:square;\"/>\r\n   </g>\r\n   <g id=\"line2d_29\">\r\n    <path clip-path=\"url(#pe6661b277a)\" d=\"M 169.603125 157.19201 \r\nL 169.603125 146.390488 \r\n\" style=\"fill:none;stroke:#000000;stroke-linecap:square;\"/>\r\n   </g>\r\n   <g id=\"line2d_30\">\r\n    <path clip-path=\"url(#pe6661b277a)\" d=\"M 162.628125 175.290476 \r\nL 176.578125 175.290476 \r\n\" style=\"fill:none;stroke:#000000;stroke-linecap:square;\"/>\r\n   </g>\r\n   <g id=\"line2d_31\">\r\n    <path clip-path=\"url(#pe6661b277a)\" d=\"M 162.628125 146.390488 \r\nL 176.578125 146.390488 \r\n\" style=\"fill:none;stroke:#000000;stroke-linecap:square;\"/>\r\n   </g>\r\n   <g id=\"line2d_32\">\r\n    <g clip-path=\"url(#pe6661b277a)\">\r\n     <use style=\"fill-opacity:0;stroke:#000000;\" x=\"169.603125\" xlink:href=\"#ma529c2c6cd\" y=\"178.405537\"/>\r\n     <use style=\"fill-opacity:0;stroke:#000000;\" x=\"169.603125\" xlink:href=\"#ma529c2c6cd\" y=\"175.713649\"/>\r\n     <use style=\"fill-opacity:0;stroke:#000000;\" x=\"169.603125\" xlink:href=\"#ma529c2c6cd\" y=\"179.936305\"/>\r\n     <use style=\"fill-opacity:0;stroke:#000000;\" x=\"169.603125\" xlink:href=\"#ma529c2c6cd\" y=\"181.540656\"/>\r\n     <use style=\"fill-opacity:0;stroke:#000000;\" x=\"169.603125\" xlink:href=\"#ma529c2c6cd\" y=\"190.694298\"/>\r\n     <use style=\"fill-opacity:0;stroke:#000000;\" x=\"169.603125\" xlink:href=\"#ma529c2c6cd\" y=\"176.956972\"/>\r\n     <use style=\"fill-opacity:0;stroke:#000000;\" x=\"169.603125\" xlink:href=\"#ma529c2c6cd\" y=\"178.878821\"/>\r\n     <use style=\"fill-opacity:0;stroke:#000000;\" x=\"169.603125\" xlink:href=\"#ma529c2c6cd\" y=\"176.02031\"/>\r\n     <use style=\"fill-opacity:0;stroke:#000000;\" x=\"169.603125\" xlink:href=\"#ma529c2c6cd\" y=\"196.026989\"/>\r\n     <use style=\"fill-opacity:0;stroke:#000000;\" x=\"169.603125\" xlink:href=\"#ma529c2c6cd\" y=\"176.026656\"/>\r\n     <use style=\"fill-opacity:0;stroke:#000000;\" x=\"169.603125\" xlink:href=\"#ma529c2c6cd\" y=\"175.663938\"/>\r\n     <use style=\"fill-opacity:0;stroke:#000000;\" x=\"169.603125\" xlink:href=\"#ma529c2c6cd\" y=\"176.750024\"/>\r\n     <use style=\"fill-opacity:0;stroke:#000000;\" x=\"169.603125\" xlink:href=\"#ma529c2c6cd\" y=\"176.033805\"/>\r\n     <use style=\"fill-opacity:0;stroke:#000000;\" x=\"169.603125\" xlink:href=\"#ma529c2c6cd\" y=\"193.501983\"/>\r\n     <use style=\"fill-opacity:0;stroke:#000000;\" x=\"169.603125\" xlink:href=\"#ma529c2c6cd\" y=\"211.10122\"/>\r\n     <use style=\"fill-opacity:0;stroke:#000000;\" x=\"169.603125\" xlink:href=\"#ma529c2c6cd\" y=\"193.858442\"/>\r\n     <use style=\"fill-opacity:0;stroke:#000000;\" x=\"169.603125\" xlink:href=\"#ma529c2c6cd\" y=\"182.808709\"/>\r\n     <use style=\"fill-opacity:0;stroke:#000000;\" x=\"169.603125\" xlink:href=\"#ma529c2c6cd\" y=\"181.617395\"/>\r\n     <use style=\"fill-opacity:0;stroke:#000000;\" x=\"169.603125\" xlink:href=\"#ma529c2c6cd\" y=\"136.810311\"/>\r\n     <use style=\"fill-opacity:0;stroke:#000000;\" x=\"169.603125\" xlink:href=\"#ma529c2c6cd\" y=\"136.522759\"/>\r\n     <use style=\"fill-opacity:0;stroke:#000000;\" x=\"169.603125\" xlink:href=\"#ma529c2c6cd\" y=\"119.117603\"/>\r\n     <use style=\"fill-opacity:0;stroke:#000000;\" x=\"169.603125\" xlink:href=\"#ma529c2c6cd\" y=\"145.335272\"/>\r\n     <use style=\"fill-opacity:0;stroke:#000000;\" x=\"169.603125\" xlink:href=\"#ma529c2c6cd\" y=\"103.63655\"/>\r\n     <use style=\"fill-opacity:0;stroke:#000000;\" x=\"169.603125\" xlink:href=\"#ma529c2c6cd\" y=\"95.068003\"/>\r\n     <use style=\"fill-opacity:0;stroke:#000000;\" x=\"169.603125\" xlink:href=\"#ma529c2c6cd\" y=\"142.974758\"/>\r\n     <use style=\"fill-opacity:0;stroke:#000000;\" x=\"169.603125\" xlink:href=\"#ma529c2c6cd\" y=\"145.462226\"/>\r\n     <use style=\"fill-opacity:0;stroke:#000000;\" x=\"169.603125\" xlink:href=\"#ma529c2c6cd\" y=\"145.33834\"/>\r\n     <use style=\"fill-opacity:0;stroke:#000000;\" x=\"169.603125\" xlink:href=\"#ma529c2c6cd\" y=\"145.688587\"/>\r\n     <use style=\"fill-opacity:0;stroke:#000000;\" x=\"169.603125\" xlink:href=\"#ma529c2c6cd\" y=\"138.387715\"/>\r\n     <use style=\"fill-opacity:0;stroke:#000000;\" x=\"169.603125\" xlink:href=\"#ma529c2c6cd\" y=\"145.36729\"/>\r\n     <use style=\"fill-opacity:0;stroke:#000000;\" x=\"169.603125\" xlink:href=\"#ma529c2c6cd\" y=\"141.164846\"/>\r\n     <use style=\"fill-opacity:0;stroke:#000000;\" x=\"169.603125\" xlink:href=\"#ma529c2c6cd\" y=\"145.088987\"/>\r\n     <use style=\"fill-opacity:0;stroke:#000000;\" x=\"169.603125\" xlink:href=\"#ma529c2c6cd\" y=\"145.372976\"/>\r\n     <use style=\"fill-opacity:0;stroke:#000000;\" x=\"169.603125\" xlink:href=\"#ma529c2c6cd\" y=\"137.67764\"/>\r\n     <use style=\"fill-opacity:0;stroke:#000000;\" x=\"169.603125\" xlink:href=\"#ma529c2c6cd\" y=\"134.004441\"/>\r\n     <use style=\"fill-opacity:0;stroke:#000000;\" x=\"169.603125\" xlink:href=\"#ma529c2c6cd\" y=\"130.530269\"/>\r\n     <use style=\"fill-opacity:0;stroke:#000000;\" x=\"169.603125\" xlink:href=\"#ma529c2c6cd\" y=\"135.846996\"/>\r\n     <use style=\"fill-opacity:0;stroke:#000000;\" x=\"169.603125\" xlink:href=\"#ma529c2c6cd\" y=\"136.675338\"/>\r\n     <use style=\"fill-opacity:0;stroke:#000000;\" x=\"169.603125\" xlink:href=\"#ma529c2c6cd\" y=\"136.43267\"/>\r\n     <use style=\"fill-opacity:0;stroke:#000000;\" x=\"169.603125\" xlink:href=\"#ma529c2c6cd\" y=\"141.348207\"/>\r\n     <use style=\"fill-opacity:0;stroke:#000000;\" x=\"169.603125\" xlink:href=\"#ma529c2c6cd\" y=\"145.291689\"/>\r\n     <use style=\"fill-opacity:0;stroke:#000000;\" x=\"169.603125\" xlink:href=\"#ma529c2c6cd\" y=\"130.438349\"/>\r\n     <use style=\"fill-opacity:0;stroke:#000000;\" x=\"169.603125\" xlink:href=\"#ma529c2c6cd\" y=\"132.786936\"/>\r\n     <use style=\"fill-opacity:0;stroke:#000000;\" x=\"169.603125\" xlink:href=\"#ma529c2c6cd\" y=\"140.921334\"/>\r\n     <use style=\"fill-opacity:0;stroke:#000000;\" x=\"169.603125\" xlink:href=\"#ma529c2c6cd\" y=\"138.006902\"/>\r\n     <use style=\"fill-opacity:0;stroke:#000000;\" x=\"169.603125\" xlink:href=\"#ma529c2c6cd\" y=\"133.89127\"/>\r\n     <use style=\"fill-opacity:0;stroke:#000000;\" x=\"169.603125\" xlink:href=\"#ma529c2c6cd\" y=\"135.018908\"/>\r\n     <use style=\"fill-opacity:0;stroke:#000000;\" x=\"169.603125\" xlink:href=\"#ma529c2c6cd\" y=\"137.857376\"/>\r\n     <use style=\"fill-opacity:0;stroke:#000000;\" x=\"169.603125\" xlink:href=\"#ma529c2c6cd\" y=\"132.546259\"/>\r\n     <use style=\"fill-opacity:0;stroke:#000000;\" x=\"169.603125\" xlink:href=\"#ma529c2c6cd\" y=\"139.074646\"/>\r\n     <use style=\"fill-opacity:0;stroke:#000000;\" x=\"169.603125\" xlink:href=\"#ma529c2c6cd\" y=\"137.734284\"/>\r\n     <use style=\"fill-opacity:0;stroke:#000000;\" x=\"169.603125\" xlink:href=\"#ma529c2c6cd\" y=\"132.661376\"/>\r\n     <use style=\"fill-opacity:0;stroke:#000000;\" x=\"169.603125\" xlink:href=\"#ma529c2c6cd\" y=\"132.668157\"/>\r\n     <use style=\"fill-opacity:0;stroke:#000000;\" x=\"169.603125\" xlink:href=\"#ma529c2c6cd\" y=\"131.864958\"/>\r\n     <use style=\"fill-opacity:0;stroke:#000000;\" x=\"169.603125\" xlink:href=\"#ma529c2c6cd\" y=\"61.275023\"/>\r\n     <use style=\"fill-opacity:0;stroke:#000000;\" x=\"169.603125\" xlink:href=\"#ma529c2c6cd\" y=\"143.081454\"/>\r\n     <use style=\"fill-opacity:0;stroke:#000000;\" x=\"169.603125\" xlink:href=\"#ma529c2c6cd\" y=\"137.10656\"/>\r\n     <use style=\"fill-opacity:0;stroke:#000000;\" x=\"169.603125\" xlink:href=\"#ma529c2c6cd\" y=\"126.683766\"/>\r\n     <use style=\"fill-opacity:0;stroke:#000000;\" x=\"169.603125\" xlink:href=\"#ma529c2c6cd\" y=\"139.857962\"/>\r\n     <use style=\"fill-opacity:0;stroke:#000000;\" x=\"169.603125\" xlink:href=\"#ma529c2c6cd\" y=\"144.267353\"/>\r\n     <use style=\"fill-opacity:0;stroke:#000000;\" x=\"169.603125\" xlink:href=\"#ma529c2c6cd\" y=\"139.358751\"/>\r\n     <use style=\"fill-opacity:0;stroke:#000000;\" x=\"169.603125\" xlink:href=\"#ma529c2c6cd\" y=\"142.734394\"/>\r\n     <use style=\"fill-opacity:0;stroke:#000000;\" x=\"169.603125\" xlink:href=\"#ma529c2c6cd\" y=\"141.35476\"/>\r\n     <use style=\"fill-opacity:0;stroke:#000000;\" x=\"169.603125\" xlink:href=\"#ma529c2c6cd\" y=\"143.961191\"/>\r\n     <use style=\"fill-opacity:0;stroke:#000000;\" x=\"169.603125\" xlink:href=\"#ma529c2c6cd\" y=\"144.134852\"/>\r\n     <use style=\"fill-opacity:0;stroke:#000000;\" x=\"169.603125\" xlink:href=\"#ma529c2c6cd\" y=\"144.134463\"/>\r\n     <use style=\"fill-opacity:0;stroke:#000000;\" x=\"169.603125\" xlink:href=\"#ma529c2c6cd\" y=\"142.581898\"/>\r\n     <use style=\"fill-opacity:0;stroke:#000000;\" x=\"169.603125\" xlink:href=\"#ma529c2c6cd\" y=\"144.822239\"/>\r\n    </g>\r\n   </g>\r\n   <g id=\"line2d_33\">\r\n    <path clip-path=\"url(#pe6661b277a)\" d=\"M 211.453125 164.456882 \r\nL 239.353125 164.456882 \r\nL 239.353125 156.472795 \r\nL 211.453125 156.472795 \r\nL 211.453125 164.456882 \r\n\" style=\"fill:none;stroke:#000000;stroke-linecap:square;\"/>\r\n   </g>\r\n   <g id=\"line2d_34\">\r\n    <path clip-path=\"url(#pe6661b277a)\" d=\"M 225.403125 164.456882 \r\nL 225.403125 175.784319 \r\n\" style=\"fill:none;stroke:#000000;stroke-linecap:square;\"/>\r\n   </g>\r\n   <g id=\"line2d_35\">\r\n    <path clip-path=\"url(#pe6661b277a)\" d=\"M 225.403125 156.472795 \r\nL 225.403125 144.57655 \r\n\" style=\"fill:none;stroke:#000000;stroke-linecap:square;\"/>\r\n   </g>\r\n   <g id=\"line2d_36\">\r\n    <path clip-path=\"url(#pe6661b277a)\" d=\"M 218.428125 175.784319 \r\nL 232.378125 175.784319 \r\n\" style=\"fill:none;stroke:#000000;stroke-linecap:square;\"/>\r\n   </g>\r\n   <g id=\"line2d_37\">\r\n    <path clip-path=\"url(#pe6661b277a)\" d=\"M 218.428125 144.57655 \r\nL 232.378125 144.57655 \r\n\" style=\"fill:none;stroke:#000000;stroke-linecap:square;\"/>\r\n   </g>\r\n   <g id=\"line2d_38\">\r\n    <g clip-path=\"url(#pe6661b277a)\">\r\n     <use style=\"fill-opacity:0;stroke:#000000;\" x=\"225.403125\" xlink:href=\"#ma529c2c6cd\" y=\"180.488673\"/>\r\n     <use style=\"fill-opacity:0;stroke:#000000;\" x=\"225.403125\" xlink:href=\"#ma529c2c6cd\" y=\"178.1425\"/>\r\n     <use style=\"fill-opacity:0;stroke:#000000;\" x=\"225.403125\" xlink:href=\"#ma529c2c6cd\" y=\"179.771998\"/>\r\n     <use style=\"fill-opacity:0;stroke:#000000;\" x=\"225.403125\" xlink:href=\"#ma529c2c6cd\" y=\"177.041113\"/>\r\n     <use style=\"fill-opacity:0;stroke:#000000;\" x=\"225.403125\" xlink:href=\"#ma529c2c6cd\" y=\"179.315178\"/>\r\n     <use style=\"fill-opacity:0;stroke:#000000;\" x=\"225.403125\" xlink:href=\"#ma529c2c6cd\" y=\"179.708471\"/>\r\n     <use style=\"fill-opacity:0;stroke:#000000;\" x=\"225.403125\" xlink:href=\"#ma529c2c6cd\" y=\"179.848676\"/>\r\n     <use style=\"fill-opacity:0;stroke:#000000;\" x=\"225.403125\" xlink:href=\"#ma529c2c6cd\" y=\"176.810941\"/>\r\n     <use style=\"fill-opacity:0;stroke:#000000;\" x=\"225.403125\" xlink:href=\"#ma529c2c6cd\" y=\"178.967291\"/>\r\n     <use style=\"fill-opacity:0;stroke:#000000;\" x=\"225.403125\" xlink:href=\"#ma529c2c6cd\" y=\"177.272298\"/>\r\n     <use style=\"fill-opacity:0;stroke:#000000;\" x=\"225.403125\" xlink:href=\"#ma529c2c6cd\" y=\"194.39914\"/>\r\n     <use style=\"fill-opacity:0;stroke:#000000;\" x=\"225.403125\" xlink:href=\"#ma529c2c6cd\" y=\"177.377672\"/>\r\n     <use style=\"fill-opacity:0;stroke:#000000;\" x=\"225.403125\" xlink:href=\"#ma529c2c6cd\" y=\"200.254545\"/>\r\n     <use style=\"fill-opacity:0;stroke:#000000;\" x=\"225.403125\" xlink:href=\"#ma529c2c6cd\" y=\"176.72786\"/>\r\n     <use style=\"fill-opacity:0;stroke:#000000;\" x=\"225.403125\" xlink:href=\"#ma529c2c6cd\" y=\"176.553645\"/>\r\n     <use style=\"fill-opacity:0;stroke:#000000;\" x=\"225.403125\" xlink:href=\"#ma529c2c6cd\" y=\"178.632858\"/>\r\n     <use style=\"fill-opacity:0;stroke:#000000;\" x=\"225.403125\" xlink:href=\"#ma529c2c6cd\" y=\"212.142538\"/>\r\n     <use style=\"fill-opacity:0;stroke:#000000;\" x=\"225.403125\" xlink:href=\"#ma529c2c6cd\" y=\"195.71811\"/>\r\n     <use style=\"fill-opacity:0;stroke:#000000;\" x=\"225.403125\" xlink:href=\"#ma529c2c6cd\" y=\"186.442595\"/>\r\n     <use style=\"fill-opacity:0;stroke:#000000;\" x=\"225.403125\" xlink:href=\"#ma529c2c6cd\" y=\"180.058074\"/>\r\n     <use style=\"fill-opacity:0;stroke:#000000;\" x=\"225.403125\" xlink:href=\"#ma529c2c6cd\" y=\"180.4481\"/>\r\n     <use style=\"fill-opacity:0;stroke:#000000;\" x=\"225.403125\" xlink:href=\"#ma529c2c6cd\" y=\"141.010979\"/>\r\n     <use style=\"fill-opacity:0;stroke:#000000;\" x=\"225.403125\" xlink:href=\"#ma529c2c6cd\" y=\"141.278514\"/>\r\n     <use style=\"fill-opacity:0;stroke:#000000;\" x=\"225.403125\" xlink:href=\"#ma529c2c6cd\" y=\"118.93657\"/>\r\n     <use style=\"fill-opacity:0;stroke:#000000;\" x=\"225.403125\" xlink:href=\"#ma529c2c6cd\" y=\"144.426839\"/>\r\n     <use style=\"fill-opacity:0;stroke:#000000;\" x=\"225.403125\" xlink:href=\"#ma529c2c6cd\" y=\"76.854867\"/>\r\n     <use style=\"fill-opacity:0;stroke:#000000;\" x=\"225.403125\" xlink:href=\"#ma529c2c6cd\" y=\"101.447175\"/>\r\n     <use style=\"fill-opacity:0;stroke:#000000;\" x=\"225.403125\" xlink:href=\"#ma529c2c6cd\" y=\"140.628989\"/>\r\n     <use style=\"fill-opacity:0;stroke:#000000;\" x=\"225.403125\" xlink:href=\"#ma529c2c6cd\" y=\"143.783485\"/>\r\n     <use style=\"fill-opacity:0;stroke:#000000;\" x=\"225.403125\" xlink:href=\"#ma529c2c6cd\" y=\"144.202607\"/>\r\n     <use style=\"fill-opacity:0;stroke:#000000;\" x=\"225.403125\" xlink:href=\"#ma529c2c6cd\" y=\"139.955234\"/>\r\n     <use style=\"fill-opacity:0;stroke:#000000;\" x=\"225.403125\" xlink:href=\"#ma529c2c6cd\" y=\"143.577056\"/>\r\n     <use style=\"fill-opacity:0;stroke:#000000;\" x=\"225.403125\" xlink:href=\"#ma529c2c6cd\" y=\"143.345768\"/>\r\n     <use style=\"fill-opacity:0;stroke:#000000;\" x=\"225.403125\" xlink:href=\"#ma529c2c6cd\" y=\"129.008083\"/>\r\n     <use style=\"fill-opacity:0;stroke:#000000;\" x=\"225.403125\" xlink:href=\"#ma529c2c6cd\" y=\"129.94159\"/>\r\n     <use style=\"fill-opacity:0;stroke:#000000;\" x=\"225.403125\" xlink:href=\"#ma529c2c6cd\" y=\"136.573295\"/>\r\n     <use style=\"fill-opacity:0;stroke:#000000;\" x=\"225.403125\" xlink:href=\"#ma529c2c6cd\" y=\"139.735043\"/>\r\n     <use style=\"fill-opacity:0;stroke:#000000;\" x=\"225.403125\" xlink:href=\"#ma529c2c6cd\" y=\"139.02144\"/>\r\n     <use style=\"fill-opacity:0;stroke:#000000;\" x=\"225.403125\" xlink:href=\"#ma529c2c6cd\" y=\"139.555427\"/>\r\n     <use style=\"fill-opacity:0;stroke:#000000;\" x=\"225.403125\" xlink:href=\"#ma529c2c6cd\" y=\"138.819744\"/>\r\n     <use style=\"fill-opacity:0;stroke:#000000;\" x=\"225.403125\" xlink:href=\"#ma529c2c6cd\" y=\"142.398551\"/>\r\n     <use style=\"fill-opacity:0;stroke:#000000;\" x=\"225.403125\" xlink:href=\"#ma529c2c6cd\" y=\"140.929931\"/>\r\n     <use style=\"fill-opacity:0;stroke:#000000;\" x=\"225.403125\" xlink:href=\"#ma529c2c6cd\" y=\"131.916941\"/>\r\n     <use style=\"fill-opacity:0;stroke:#000000;\" x=\"225.403125\" xlink:href=\"#ma529c2c6cd\" y=\"136.241047\"/>\r\n     <use style=\"fill-opacity:0;stroke:#000000;\" x=\"225.403125\" xlink:href=\"#ma529c2c6cd\" y=\"140.58715\"/>\r\n     <use style=\"fill-opacity:0;stroke:#000000;\" x=\"225.403125\" xlink:href=\"#ma529c2c6cd\" y=\"134.203508\"/>\r\n     <use style=\"fill-opacity:0;stroke:#000000;\" x=\"225.403125\" xlink:href=\"#ma529c2c6cd\" y=\"135.676264\"/>\r\n     <use style=\"fill-opacity:0;stroke:#000000;\" x=\"225.403125\" xlink:href=\"#ma529c2c6cd\" y=\"132.514607\"/>\r\n     <use style=\"fill-opacity:0;stroke:#000000;\" x=\"225.403125\" xlink:href=\"#ma529c2c6cd\" y=\"134.746585\"/>\r\n     <use style=\"fill-opacity:0;stroke:#000000;\" x=\"225.403125\" xlink:href=\"#ma529c2c6cd\" y=\"131.004714\"/>\r\n     <use style=\"fill-opacity:0;stroke:#000000;\" x=\"225.403125\" xlink:href=\"#ma529c2c6cd\" y=\"126.47295\"/>\r\n     <use style=\"fill-opacity:0;stroke:#000000;\" x=\"225.403125\" xlink:href=\"#ma529c2c6cd\" y=\"71.184884\"/>\r\n     <use style=\"fill-opacity:0;stroke:#000000;\" x=\"225.403125\" xlink:href=\"#ma529c2c6cd\" y=\"140.647318\"/>\r\n     <use style=\"fill-opacity:0;stroke:#000000;\" x=\"225.403125\" xlink:href=\"#ma529c2c6cd\" y=\"133.434582\"/>\r\n     <use style=\"fill-opacity:0;stroke:#000000;\" x=\"225.403125\" xlink:href=\"#ma529c2c6cd\" y=\"143.744684\"/>\r\n     <use style=\"fill-opacity:0;stroke:#000000;\" x=\"225.403125\" xlink:href=\"#ma529c2c6cd\" y=\"123.626206\"/>\r\n     <use style=\"fill-opacity:0;stroke:#000000;\" x=\"225.403125\" xlink:href=\"#ma529c2c6cd\" y=\"113.564662\"/>\r\n     <use style=\"fill-opacity:0;stroke:#000000;\" x=\"225.403125\" xlink:href=\"#ma529c2c6cd\" y=\"143.544478\"/>\r\n     <use style=\"fill-opacity:0;stroke:#000000;\" x=\"225.403125\" xlink:href=\"#ma529c2c6cd\" y=\"142.950159\"/>\r\n     <use style=\"fill-opacity:0;stroke:#000000;\" x=\"225.403125\" xlink:href=\"#ma529c2c6cd\" y=\"139.280114\"/>\r\n     <use style=\"fill-opacity:0;stroke:#000000;\" x=\"225.403125\" xlink:href=\"#ma529c2c6cd\" y=\"142.271371\"/>\r\n     <use style=\"fill-opacity:0;stroke:#000000;\" x=\"225.403125\" xlink:href=\"#ma529c2c6cd\" y=\"140.55608\"/>\r\n     <use style=\"fill-opacity:0;stroke:#000000;\" x=\"225.403125\" xlink:href=\"#ma529c2c6cd\" y=\"143.349083\"/>\r\n     <use style=\"fill-opacity:0;stroke:#000000;\" x=\"225.403125\" xlink:href=\"#ma529c2c6cd\" y=\"143.746522\"/>\r\n     <use style=\"fill-opacity:0;stroke:#000000;\" x=\"225.403125\" xlink:href=\"#ma529c2c6cd\" y=\"142.415741\"/>\r\n     <use style=\"fill-opacity:0;stroke:#000000;\" x=\"225.403125\" xlink:href=\"#ma529c2c6cd\" y=\"143.007623\"/>\r\n     <use style=\"fill-opacity:0;stroke:#000000;\" x=\"225.403125\" xlink:href=\"#ma529c2c6cd\" y=\"141.607198\"/>\r\n     <use style=\"fill-opacity:0;stroke:#000000;\" x=\"225.403125\" xlink:href=\"#ma529c2c6cd\" y=\"143.24676\"/>\r\n     <use style=\"fill-opacity:0;stroke:#000000;\" x=\"225.403125\" xlink:href=\"#ma529c2c6cd\" y=\"142.989207\"/>\r\n    </g>\r\n   </g>\r\n   <g id=\"line2d_39\">\r\n    <path clip-path=\"url(#pe6661b277a)\" d=\"M 267.253125 164.902316 \r\nL 295.153125 164.902316 \r\nL 295.153125 157.908766 \r\nL 267.253125 157.908766 \r\nL 267.253125 164.902316 \r\n\" style=\"fill:none;stroke:#000000;stroke-linecap:square;\"/>\r\n   </g>\r\n   <g id=\"line2d_40\">\r\n    <path clip-path=\"url(#pe6661b277a)\" d=\"M 281.203125 164.902316 \r\nL 281.203125 175.391404 \r\n\" style=\"fill:none;stroke:#000000;stroke-linecap:square;\"/>\r\n   </g>\r\n   <g id=\"line2d_41\">\r\n    <path clip-path=\"url(#pe6661b277a)\" d=\"M 281.203125 157.908766 \r\nL 281.203125 147.476969 \r\n\" style=\"fill:none;stroke:#000000;stroke-linecap:square;\"/>\r\n   </g>\r\n   <g id=\"line2d_42\">\r\n    <path clip-path=\"url(#pe6661b277a)\" d=\"M 274.228125 175.391404 \r\nL 288.178125 175.391404 \r\n\" style=\"fill:none;stroke:#000000;stroke-linecap:square;\"/>\r\n   </g>\r\n   <g id=\"line2d_43\">\r\n    <path clip-path=\"url(#pe6661b277a)\" d=\"M 274.228125 147.476969 \r\nL 288.178125 147.476969 \r\n\" style=\"fill:none;stroke:#000000;stroke-linecap:square;\"/>\r\n   </g>\r\n   <g id=\"line2d_44\">\r\n    <g clip-path=\"url(#pe6661b277a)\">\r\n     <use style=\"fill-opacity:0;stroke:#000000;\" x=\"281.203125\" xlink:href=\"#ma529c2c6cd\" y=\"175.908713\"/>\r\n     <use style=\"fill-opacity:0;stroke:#000000;\" x=\"281.203125\" xlink:href=\"#ma529c2c6cd\" y=\"176.633441\"/>\r\n     <use style=\"fill-opacity:0;stroke:#000000;\" x=\"281.203125\" xlink:href=\"#ma529c2c6cd\" y=\"177.269473\"/>\r\n     <use style=\"fill-opacity:0;stroke:#000000;\" x=\"281.203125\" xlink:href=\"#ma529c2c6cd\" y=\"178.668573\"/>\r\n     <use style=\"fill-opacity:0;stroke:#000000;\" x=\"281.203125\" xlink:href=\"#ma529c2c6cd\" y=\"180.557432\"/>\r\n     <use style=\"fill-opacity:0;stroke:#000000;\" x=\"281.203125\" xlink:href=\"#ma529c2c6cd\" y=\"183.372841\"/>\r\n     <use style=\"fill-opacity:0;stroke:#000000;\" x=\"281.203125\" xlink:href=\"#ma529c2c6cd\" y=\"201.539919\"/>\r\n     <use style=\"fill-opacity:0;stroke:#000000;\" x=\"281.203125\" xlink:href=\"#ma529c2c6cd\" y=\"177.103002\"/>\r\n     <use style=\"fill-opacity:0;stroke:#000000;\" x=\"281.203125\" xlink:href=\"#ma529c2c6cd\" y=\"178.790351\"/>\r\n     <use style=\"fill-opacity:0;stroke:#000000;\" x=\"281.203125\" xlink:href=\"#ma529c2c6cd\" y=\"176.978582\"/>\r\n     <use style=\"fill-opacity:0;stroke:#000000;\" x=\"281.203125\" xlink:href=\"#ma529c2c6cd\" y=\"197.654838\"/>\r\n     <use style=\"fill-opacity:0;stroke:#000000;\" x=\"281.203125\" xlink:href=\"#ma529c2c6cd\" y=\"176.066276\"/>\r\n     <use style=\"fill-opacity:0;stroke:#000000;\" x=\"281.203125\" xlink:href=\"#ma529c2c6cd\" y=\"175.954975\"/>\r\n     <use style=\"fill-opacity:0;stroke:#000000;\" x=\"281.203125\" xlink:href=\"#ma529c2c6cd\" y=\"177.940969\"/>\r\n     <use style=\"fill-opacity:0;stroke:#000000;\" x=\"281.203125\" xlink:href=\"#ma529c2c6cd\" y=\"179.830536\"/>\r\n     <use style=\"fill-opacity:0;stroke:#000000;\" x=\"281.203125\" xlink:href=\"#ma529c2c6cd\" y=\"175.634921\"/>\r\n     <use style=\"fill-opacity:0;stroke:#000000;\" x=\"281.203125\" xlink:href=\"#ma529c2c6cd\" y=\"186.749421\"/>\r\n     <use style=\"fill-opacity:0;stroke:#000000;\" x=\"281.203125\" xlink:href=\"#ma529c2c6cd\" y=\"178.217194\"/>\r\n     <use style=\"fill-opacity:0;stroke:#000000;\" x=\"281.203125\" xlink:href=\"#ma529c2c6cd\" y=\"175.575001\"/>\r\n     <use style=\"fill-opacity:0;stroke:#000000;\" x=\"281.203125\" xlink:href=\"#ma529c2c6cd\" y=\"175.902482\"/>\r\n     <use style=\"fill-opacity:0;stroke:#000000;\" x=\"281.203125\" xlink:href=\"#ma529c2c6cd\" y=\"210.059901\"/>\r\n     <use style=\"fill-opacity:0;stroke:#000000;\" x=\"281.203125\" xlink:href=\"#ma529c2c6cd\" y=\"191.998774\"/>\r\n     <use style=\"fill-opacity:0;stroke:#000000;\" x=\"281.203125\" xlink:href=\"#ma529c2c6cd\" y=\"179.174823\"/>\r\n     <use style=\"fill-opacity:0;stroke:#000000;\" x=\"281.203125\" xlink:href=\"#ma529c2c6cd\" y=\"183.176716\"/>\r\n     <use style=\"fill-opacity:0;stroke:#000000;\" x=\"281.203125\" xlink:href=\"#ma529c2c6cd\" y=\"175.58248\"/>\r\n     <use style=\"fill-opacity:0;stroke:#000000;\" x=\"281.203125\" xlink:href=\"#ma529c2c6cd\" y=\"132.609643\"/>\r\n     <use style=\"fill-opacity:0;stroke:#000000;\" x=\"281.203125\" xlink:href=\"#ma529c2c6cd\" y=\"146.641201\"/>\r\n     <use style=\"fill-opacity:0;stroke:#000000;\" x=\"281.203125\" xlink:href=\"#ma529c2c6cd\" y=\"131.767004\"/>\r\n     <use style=\"fill-opacity:0;stroke:#000000;\" x=\"281.203125\" xlink:href=\"#ma529c2c6cd\" y=\"119.298636\"/>\r\n     <use style=\"fill-opacity:0;stroke:#000000;\" x=\"281.203125\" xlink:href=\"#ma529c2c6cd\" y=\"146.243706\"/>\r\n     <use style=\"fill-opacity:0;stroke:#000000;\" x=\"281.203125\" xlink:href=\"#ma529c2c6cd\" y=\"130.418233\"/>\r\n     <use style=\"fill-opacity:0;stroke:#000000;\" x=\"281.203125\" xlink:href=\"#ma529c2c6cd\" y=\"88.688832\"/>\r\n     <use style=\"fill-opacity:0;stroke:#000000;\" x=\"281.203125\" xlink:href=\"#ma529c2c6cd\" y=\"117.658522\"/>\r\n     <use style=\"fill-opacity:0;stroke:#000000;\" x=\"281.203125\" xlink:href=\"#ma529c2c6cd\" y=\"146.893196\"/>\r\n     <use style=\"fill-opacity:0;stroke:#000000;\" x=\"281.203125\" xlink:href=\"#ma529c2c6cd\" y=\"145.88416\"/>\r\n     <use style=\"fill-opacity:0;stroke:#000000;\" x=\"281.203125\" xlink:href=\"#ma529c2c6cd\" y=\"147.174566\"/>\r\n     <use style=\"fill-opacity:0;stroke:#000000;\" x=\"281.203125\" xlink:href=\"#ma529c2c6cd\" y=\"136.820197\"/>\r\n     <use style=\"fill-opacity:0;stroke:#000000;\" x=\"281.203125\" xlink:href=\"#ma529c2c6cd\" y=\"145.672821\"/>\r\n     <use style=\"fill-opacity:0;stroke:#000000;\" x=\"281.203125\" xlink:href=\"#ma529c2c6cd\" y=\"138.752636\"/>\r\n     <use style=\"fill-opacity:0;stroke:#000000;\" x=\"281.203125\" xlink:href=\"#ma529c2c6cd\" y=\"144.588022\"/>\r\n     <use style=\"fill-opacity:0;stroke:#000000;\" x=\"281.203125\" xlink:href=\"#ma529c2c6cd\" y=\"144.728968\"/>\r\n     <use style=\"fill-opacity:0;stroke:#000000;\" x=\"281.203125\" xlink:href=\"#ma529c2c6cd\" y=\"127.309157\"/>\r\n     <use style=\"fill-opacity:0;stroke:#000000;\" x=\"281.203125\" xlink:href=\"#ma529c2c6cd\" y=\"124.663114\"/>\r\n     <use style=\"fill-opacity:0;stroke:#000000;\" x=\"281.203125\" xlink:href=\"#ma529c2c6cd\" y=\"132.052455\"/>\r\n     <use style=\"fill-opacity:0;stroke:#000000;\" x=\"281.203125\" xlink:href=\"#ma529c2c6cd\" y=\"141.752402\"/>\r\n     <use style=\"fill-opacity:0;stroke:#000000;\" x=\"281.203125\" xlink:href=\"#ma529c2c6cd\" y=\"136.777381\"/>\r\n     <use style=\"fill-opacity:0;stroke:#000000;\" x=\"281.203125\" xlink:href=\"#ma529c2c6cd\" y=\"133.130298\"/>\r\n     <use style=\"fill-opacity:0;stroke:#000000;\" x=\"281.203125\" xlink:href=\"#ma529c2c6cd\" y=\"137.362301\"/>\r\n     <use style=\"fill-opacity:0;stroke:#000000;\" x=\"281.203125\" xlink:href=\"#ma529c2c6cd\" y=\"137.875364\"/>\r\n     <use style=\"fill-opacity:0;stroke:#000000;\" x=\"281.203125\" xlink:href=\"#ma529c2c6cd\" y=\"121.321271\"/>\r\n     <use style=\"fill-opacity:0;stroke:#000000;\" x=\"281.203125\" xlink:href=\"#ma529c2c6cd\" y=\"126.754129\"/>\r\n     <use style=\"fill-opacity:0;stroke:#000000;\" x=\"281.203125\" xlink:href=\"#ma529c2c6cd\" y=\"139.444117\"/>\r\n     <use style=\"fill-opacity:0;stroke:#000000;\" x=\"281.203125\" xlink:href=\"#ma529c2c6cd\" y=\"135.083874\"/>\r\n     <use style=\"fill-opacity:0;stroke:#000000;\" x=\"281.203125\" xlink:href=\"#ma529c2c6cd\" y=\"135.865599\"/>\r\n     <use style=\"fill-opacity:0;stroke:#000000;\" x=\"281.203125\" xlink:href=\"#ma529c2c6cd\" y=\"133.79677\"/>\r\n     <use style=\"fill-opacity:0;stroke:#000000;\" x=\"281.203125\" xlink:href=\"#ma529c2c6cd\" y=\"135.127602\"/>\r\n     <use style=\"fill-opacity:0;stroke:#000000;\" x=\"281.203125\" xlink:href=\"#ma529c2c6cd\" y=\"130.889011\"/>\r\n     <use style=\"fill-opacity:0;stroke:#000000;\" x=\"281.203125\" xlink:href=\"#ma529c2c6cd\" y=\"142.473028\"/>\r\n     <use style=\"fill-opacity:0;stroke:#000000;\" x=\"281.203125\" xlink:href=\"#ma529c2c6cd\" y=\"142.953961\"/>\r\n     <use style=\"fill-opacity:0;stroke:#000000;\" x=\"281.203125\" xlink:href=\"#ma529c2c6cd\" y=\"146.185328\"/>\r\n     <use style=\"fill-opacity:0;stroke:#000000;\" x=\"281.203125\" xlink:href=\"#ma529c2c6cd\" y=\"130.576166\"/>\r\n     <use style=\"fill-opacity:0;stroke:#000000;\" x=\"281.203125\" xlink:href=\"#ma529c2c6cd\" y=\"134.3316\"/>\r\n     <use style=\"fill-opacity:0;stroke:#000000;\" x=\"281.203125\" xlink:href=\"#ma529c2c6cd\" y=\"137.256966\"/>\r\n     <use style=\"fill-opacity:0;stroke:#000000;\" x=\"281.203125\" xlink:href=\"#ma529c2c6cd\" y=\"51.365163\"/>\r\n     <use style=\"fill-opacity:0;stroke:#000000;\" x=\"281.203125\" xlink:href=\"#ma529c2c6cd\" y=\"145.515591\"/>\r\n     <use style=\"fill-opacity:0;stroke:#000000;\" x=\"281.203125\" xlink:href=\"#ma529c2c6cd\" y=\"107.433251\"/>\r\n     <use style=\"fill-opacity:0;stroke:#000000;\" x=\"281.203125\" xlink:href=\"#ma529c2c6cd\" y=\"140.885959\"/>\r\n     <use style=\"fill-opacity:0;stroke:#000000;\" x=\"281.203125\" xlink:href=\"#ma529c2c6cd\" y=\"144.882259\"/>\r\n     <use style=\"fill-opacity:0;stroke:#000000;\" x=\"281.203125\" xlink:href=\"#ma529c2c6cd\" y=\"144.384379\"/>\r\n     <use style=\"fill-opacity:0;stroke:#000000;\" x=\"281.203125\" xlink:href=\"#ma529c2c6cd\" y=\"145.584547\"/>\r\n     <use style=\"fill-opacity:0;stroke:#000000;\" x=\"281.203125\" xlink:href=\"#ma529c2c6cd\" y=\"139.437388\"/>\r\n     <use style=\"fill-opacity:0;stroke:#000000;\" x=\"281.203125\" xlink:href=\"#ma529c2c6cd\" y=\"143.197417\"/>\r\n     <use style=\"fill-opacity:0;stroke:#000000;\" x=\"281.203125\" xlink:href=\"#ma529c2c6cd\" y=\"142.153439\"/>\r\n     <use style=\"fill-opacity:0;stroke:#000000;\" x=\"281.203125\" xlink:href=\"#ma529c2c6cd\" y=\"144.743434\"/>\r\n     <use style=\"fill-opacity:0;stroke:#000000;\" x=\"281.203125\" xlink:href=\"#ma529c2c6cd\" y=\"147.138955\"/>\r\n     <use style=\"fill-opacity:0;stroke:#000000;\" x=\"281.203125\" xlink:href=\"#ma529c2c6cd\" y=\"144.573299\"/>\r\n     <use style=\"fill-opacity:0;stroke:#000000;\" x=\"281.203125\" xlink:href=\"#ma529c2c6cd\" y=\"144.523183\"/>\r\n     <use style=\"fill-opacity:0;stroke:#000000;\" x=\"281.203125\" xlink:href=\"#ma529c2c6cd\" y=\"145.261303\"/>\r\n     <use style=\"fill-opacity:0;stroke:#000000;\" x=\"281.203125\" xlink:href=\"#ma529c2c6cd\" y=\"141.475012\"/>\r\n     <use style=\"fill-opacity:0;stroke:#000000;\" x=\"281.203125\" xlink:href=\"#ma529c2c6cd\" y=\"144.178929\"/>\r\n     <use style=\"fill-opacity:0;stroke:#000000;\" x=\"281.203125\" xlink:href=\"#ma529c2c6cd\" y=\"142.393301\"/>\r\n     <use style=\"fill-opacity:0;stroke:#000000;\" x=\"281.203125\" xlink:href=\"#ma529c2c6cd\" y=\"142.434097\"/>\r\n     <use style=\"fill-opacity:0;stroke:#000000;\" x=\"281.203125\" xlink:href=\"#ma529c2c6cd\" y=\"142.865834\"/>\r\n     <use style=\"fill-opacity:0;stroke:#000000;\" x=\"281.203125\" xlink:href=\"#ma529c2c6cd\" y=\"142.206671\"/>\r\n     <use style=\"fill-opacity:0;stroke:#000000;\" x=\"281.203125\" xlink:href=\"#ma529c2c6cd\" y=\"141.917036\"/>\r\n     <use style=\"fill-opacity:0;stroke:#000000;\" x=\"281.203125\" xlink:href=\"#ma529c2c6cd\" y=\"146.655271\"/>\r\n    </g>\r\n   </g>\r\n   <g id=\"line2d_45\">\r\n    <path clip-path=\"url(#pe6661b277a)\" d=\"M 323.053125 172.00482 \r\nL 350.953125 172.00482 \r\nL 350.953125 164.644998 \r\nL 323.053125 164.644998 \r\nL 323.053125 172.00482 \r\n\" style=\"fill:none;stroke:#000000;stroke-linecap:square;\"/>\r\n   </g>\r\n   <g id=\"line2d_46\">\r\n    <path clip-path=\"url(#pe6661b277a)\" d=\"M 337.003125 172.00482 \r\nL 337.003125 182.725984 \r\n\" style=\"fill:none;stroke:#000000;stroke-linecap:square;\"/>\r\n   </g>\r\n   <g id=\"line2d_47\">\r\n    <path clip-path=\"url(#pe6661b277a)\" d=\"M 337.003125 164.644998 \r\nL 337.003125 154.071351 \r\n\" style=\"fill:none;stroke:#000000;stroke-linecap:square;\"/>\r\n   </g>\r\n   <g id=\"line2d_48\">\r\n    <path clip-path=\"url(#pe6661b277a)\" d=\"M 330.028125 182.725984 \r\nL 343.978125 182.725984 \r\n\" style=\"fill:none;stroke:#000000;stroke-linecap:square;\"/>\r\n   </g>\r\n   <g id=\"line2d_49\">\r\n    <path clip-path=\"url(#pe6661b277a)\" d=\"M 330.028125 154.071351 \r\nL 343.978125 154.071351 \r\n\" style=\"fill:none;stroke:#000000;stroke-linecap:square;\"/>\r\n   </g>\r\n   <g id=\"line2d_50\">\r\n    <g clip-path=\"url(#pe6661b277a)\">\r\n     <use style=\"fill-opacity:0;stroke:#000000;\" x=\"337.003125\" xlink:href=\"#ma529c2c6cd\" y=\"189.25228\"/>\r\n     <use style=\"fill-opacity:0;stroke:#000000;\" x=\"337.003125\" xlink:href=\"#ma529c2c6cd\" y=\"185.239933\"/>\r\n     <use style=\"fill-opacity:0;stroke:#000000;\" x=\"337.003125\" xlink:href=\"#ma529c2c6cd\" y=\"192.092089\"/>\r\n     <use style=\"fill-opacity:0;stroke:#000000;\" x=\"337.003125\" xlink:href=\"#ma529c2c6cd\" y=\"186.578027\"/>\r\n     <use style=\"fill-opacity:0;stroke:#000000;\" x=\"337.003125\" xlink:href=\"#ma529c2c6cd\" y=\"188.250532\"/>\r\n     <use style=\"fill-opacity:0;stroke:#000000;\" x=\"337.003125\" xlink:href=\"#ma529c2c6cd\" y=\"197.799071\"/>\r\n     <use style=\"fill-opacity:0;stroke:#000000;\" x=\"337.003125\" xlink:href=\"#ma529c2c6cd\" y=\"185.450971\"/>\r\n     <use style=\"fill-opacity:0;stroke:#000000;\" x=\"337.003125\" xlink:href=\"#ma529c2c6cd\" y=\"202.12534\"/>\r\n     <use style=\"fill-opacity:0;stroke:#000000;\" x=\"337.003125\" xlink:href=\"#ma529c2c6cd\" y=\"202.116646\"/>\r\n     <use style=\"fill-opacity:0;stroke:#000000;\" x=\"337.003125\" xlink:href=\"#ma529c2c6cd\" y=\"214.756364\"/>\r\n     <use style=\"fill-opacity:0;stroke:#000000;\" x=\"337.003125\" xlink:href=\"#ma529c2c6cd\" y=\"198.406508\"/>\r\n     <use style=\"fill-opacity:0;stroke:#000000;\" x=\"337.003125\" xlink:href=\"#ma529c2c6cd\" y=\"187.810386\"/>\r\n     <use style=\"fill-opacity:0;stroke:#000000;\" x=\"337.003125\" xlink:href=\"#ma529c2c6cd\" y=\"187.154651\"/>\r\n     <use style=\"fill-opacity:0;stroke:#000000;\" x=\"337.003125\" xlink:href=\"#ma529c2c6cd\" y=\"133.408509\"/>\r\n     <use style=\"fill-opacity:0;stroke:#000000;\" x=\"337.003125\" xlink:href=\"#ma529c2c6cd\" y=\"130.401712\"/>\r\n     <use style=\"fill-opacity:0;stroke:#000000;\" x=\"337.003125\" xlink:href=\"#ma529c2c6cd\" y=\"106.336573\"/>\r\n     <use style=\"fill-opacity:0;stroke:#000000;\" x=\"337.003125\" xlink:href=\"#ma529c2c6cd\" y=\"148.432703\"/>\r\n     <use style=\"fill-opacity:0;stroke:#000000;\" x=\"337.003125\" xlink:href=\"#ma529c2c6cd\" y=\"147.753533\"/>\r\n     <use style=\"fill-opacity:0;stroke:#000000;\" x=\"337.003125\" xlink:href=\"#ma529c2c6cd\" y=\"148.364787\"/>\r\n     <use style=\"fill-opacity:0;stroke:#000000;\" x=\"337.003125\" xlink:href=\"#ma529c2c6cd\" y=\"145.900334\"/>\r\n     <use style=\"fill-opacity:0;stroke:#000000;\" x=\"337.003125\" xlink:href=\"#ma529c2c6cd\" y=\"150.164511\"/>\r\n     <use style=\"fill-opacity:0;stroke:#000000;\" x=\"337.003125\" xlink:href=\"#ma529c2c6cd\" y=\"147.455328\"/>\r\n     <use style=\"fill-opacity:0;stroke:#000000;\" x=\"337.003125\" xlink:href=\"#ma529c2c6cd\" y=\"144.495189\"/>\r\n     <use style=\"fill-opacity:0;stroke:#000000;\" x=\"337.003125\" xlink:href=\"#ma529c2c6cd\" y=\"150.567282\"/>\r\n     <use style=\"fill-opacity:0;stroke:#000000;\" x=\"337.003125\" xlink:href=\"#ma529c2c6cd\" y=\"152.460204\"/>\r\n     <use style=\"fill-opacity:0;stroke:#000000;\" x=\"337.003125\" xlink:href=\"#ma529c2c6cd\" y=\"140.382712\"/>\r\n     <use style=\"fill-opacity:0;stroke:#000000;\" x=\"337.003125\" xlink:href=\"#ma529c2c6cd\" y=\"141.703177\"/>\r\n     <use style=\"fill-opacity:0;stroke:#000000;\" x=\"337.003125\" xlink:href=\"#ma529c2c6cd\" y=\"148.963705\"/>\r\n     <use style=\"fill-opacity:0;stroke:#000000;\" x=\"337.003125\" xlink:href=\"#ma529c2c6cd\" y=\"145.592086\"/>\r\n     <use style=\"fill-opacity:0;stroke:#000000;\" x=\"337.003125\" xlink:href=\"#ma529c2c6cd\" y=\"151.815576\"/>\r\n     <use style=\"fill-opacity:0;stroke:#000000;\" x=\"337.003125\" xlink:href=\"#ma529c2c6cd\" y=\"143.960772\"/>\r\n     <use style=\"fill-opacity:0;stroke:#000000;\" x=\"337.003125\" xlink:href=\"#ma529c2c6cd\" y=\"148.853381\"/>\r\n     <use style=\"fill-opacity:0;stroke:#000000;\" x=\"337.003125\" xlink:href=\"#ma529c2c6cd\" y=\"142.116455\"/>\r\n     <use style=\"fill-opacity:0;stroke:#000000;\" x=\"337.003125\" xlink:href=\"#ma529c2c6cd\" y=\"146.110634\"/>\r\n     <use style=\"fill-opacity:0;stroke:#000000;\" x=\"337.003125\" xlink:href=\"#ma529c2c6cd\" y=\"146.483486\"/>\r\n     <use style=\"fill-opacity:0;stroke:#000000;\" x=\"337.003125\" xlink:href=\"#ma529c2c6cd\" y=\"143.216307\"/>\r\n     <use style=\"fill-opacity:0;stroke:#000000;\" x=\"337.003125\" xlink:href=\"#ma529c2c6cd\" y=\"142.253342\"/>\r\n     <use style=\"fill-opacity:0;stroke:#000000;\" x=\"337.003125\" xlink:href=\"#ma529c2c6cd\" y=\"144.148354\"/>\r\n     <use style=\"fill-opacity:0;stroke:#000000;\" x=\"337.003125\" xlink:href=\"#ma529c2c6cd\" y=\"78.165036\"/>\r\n     <use style=\"fill-opacity:0;stroke:#000000;\" x=\"337.003125\" xlink:href=\"#ma529c2c6cd\" y=\"152.651714\"/>\r\n     <use style=\"fill-opacity:0;stroke:#000000;\" x=\"337.003125\" xlink:href=\"#ma529c2c6cd\" y=\"152.175409\"/>\r\n     <use style=\"fill-opacity:0;stroke:#000000;\" x=\"337.003125\" xlink:href=\"#ma529c2c6cd\" y=\"152.865686\"/>\r\n     <use style=\"fill-opacity:0;stroke:#000000;\" x=\"337.003125\" xlink:href=\"#ma529c2c6cd\" y=\"147.487546\"/>\r\n     <use style=\"fill-opacity:0;stroke:#000000;\" x=\"337.003125\" xlink:href=\"#ma529c2c6cd\" y=\"149.14021\"/>\r\n     <use style=\"fill-opacity:0;stroke:#000000;\" x=\"337.003125\" xlink:href=\"#ma529c2c6cd\" y=\"148.144562\"/>\r\n     <use style=\"fill-opacity:0;stroke:#000000;\" x=\"337.003125\" xlink:href=\"#ma529c2c6cd\" y=\"150.685188\"/>\r\n     <use style=\"fill-opacity:0;stroke:#000000;\" x=\"337.003125\" xlink:href=\"#ma529c2c6cd\" y=\"150.377041\"/>\r\n     <use style=\"fill-opacity:0;stroke:#000000;\" x=\"337.003125\" xlink:href=\"#ma529c2c6cd\" y=\"148.048371\"/>\r\n    </g>\r\n   </g>\r\n   <g id=\"line2d_51\">\r\n    <path clip-path=\"url(#pe6661b277a)\" d=\"M 44.053125 201.909755 \r\nL 71.953125 201.909755 \r\n\" style=\"fill:none;stroke:#ff7f0e;stroke-linecap:square;\"/>\r\n   </g>\r\n   <g id=\"line2d_52\">\r\n    <path clip-path=\"url(#pe6661b277a)\" d=\"M 99.853125 138.43577 \r\nL 127.753125 138.43577 \r\n\" style=\"fill:none;stroke:#ff7f0e;stroke-linecap:square;\"/>\r\n   </g>\r\n   <g id=\"line2d_53\">\r\n    <path clip-path=\"url(#pe6661b277a)\" d=\"M 155.653125 161.174565 \r\nL 183.553125 161.174565 \r\n\" style=\"fill:none;stroke:#ff7f0e;stroke-linecap:square;\"/>\r\n   </g>\r\n   <g id=\"line2d_54\">\r\n    <path clip-path=\"url(#pe6661b277a)\" d=\"M 211.453125 160.761928 \r\nL 239.353125 160.761928 \r\n\" style=\"fill:none;stroke:#ff7f0e;stroke-linecap:square;\"/>\r\n   </g>\r\n   <g id=\"line2d_55\">\r\n    <path clip-path=\"url(#pe6661b277a)\" d=\"M 267.253125 161.695553 \r\nL 295.153125 161.695553 \r\n\" style=\"fill:none;stroke:#ff7f0e;stroke-linecap:square;\"/>\r\n   </g>\r\n   <g id=\"line2d_56\">\r\n    <path clip-path=\"url(#pe6661b277a)\" d=\"M 323.053125 168.475257 \r\nL 350.953125 168.475257 \r\n\" style=\"fill:none;stroke:#ff7f0e;stroke-linecap:square;\"/>\r\n   </g>\r\n   <g id=\"patch_3\">\r\n    <path d=\"M 30.103125 224.64 \r\nL 30.103125 7.2 \r\n\" style=\"fill:none;stroke:#000000;stroke-linecap:square;stroke-linejoin:miter;stroke-width:0.8;\"/>\r\n   </g>\r\n   <g id=\"patch_4\">\r\n    <path d=\"M 364.903125 224.64 \r\nL 364.903125 7.2 \r\n\" style=\"fill:none;stroke:#000000;stroke-linecap:square;stroke-linejoin:miter;stroke-width:0.8;\"/>\r\n   </g>\r\n   <g id=\"patch_5\">\r\n    <path d=\"M 30.103125 224.64 \r\nL 364.903125 224.64 \r\n\" style=\"fill:none;stroke:#000000;stroke-linecap:square;stroke-linejoin:miter;stroke-width:0.8;\"/>\r\n   </g>\r\n   <g id=\"patch_6\">\r\n    <path d=\"M 30.103125 7.2 \r\nL 364.903125 7.2 \r\n\" style=\"fill:none;stroke:#000000;stroke-linecap:square;stroke-linejoin:miter;stroke-width:0.8;\"/>\r\n   </g>\r\n  </g>\r\n </g>\r\n <defs>\r\n  <clipPath id=\"pe6661b277a\">\r\n   <rect height=\"217.44\" width=\"334.8\" x=\"30.103125\" y=\"7.2\"/>\r\n  </clipPath>\r\n </defs>\r\n</svg>\r\n",
      "image/png": "[encoded data removed]"
     },
     "metadata": {
      "needs_background": "light"
     }
    }
   ],
   "metadata": {}
  },
  {
   "cell_type": "code",
   "execution_count": 60,
   "source": [
    "corr_total = corr_total.dropna()"
   ],
   "outputs": [],
   "metadata": {}
  },
  {
   "cell_type": "code",
   "execution_count": 61,
   "source": [
    "corr_modi_df = corr_total"
   ],
   "outputs": [],
   "metadata": {}
  },
  {
   "cell_type": "code",
   "execution_count": 62,
   "source": [
    "c_labels = [\"0\" for i in range(len(corr_modi_df))]\r\n",
    "c_labels_df = pd.DataFrame(c_labels, columns=[\"c_labels\"]); c_labels_df"
   ],
   "outputs": [
    {
     "output_type": "execute_result",
     "data": {
      "text/plain": [
       "     c_labels\n",
       "0           0\n",
       "1           0\n",
       "2           0\n",
       "3           0\n",
       "4           0\n",
       "...       ...\n",
       "1148        0\n",
       "1149        0\n",
       "1150        0\n",
       "1151        0\n",
       "1152        0\n",
       "\n",
       "[1153 rows x 1 columns]"
      ],
      "text/html": [
       "<div>\n",
       "<style scoped>\n",
       "    .dataframe tbody tr th:only-of-type {\n",
       "        vertical-align: middle;\n",
       "    }\n",
       "\n",
       "    .dataframe tbody tr th {\n",
       "        vertical-align: top;\n",
       "    }\n",
       "\n",
       "    .dataframe thead th {\n",
       "        text-align: right;\n",
       "    }\n",
       "</style>\n",
       "<table border=\"1\" class=\"dataframe\">\n",
       "  <thead>\n",
       "    <tr style=\"text-align: right;\">\n",
       "      <th></th>\n",
       "      <th>c_labels</th>\n",
       "    </tr>\n",
       "  </thead>\n",
       "  <tbody>\n",
       "    <tr>\n",
       "      <th>0</th>\n",
       "      <td>0</td>\n",
       "    </tr>\n",
       "    <tr>\n",
       "      <th>1</th>\n",
       "      <td>0</td>\n",
       "    </tr>\n",
       "    <tr>\n",
       "      <th>2</th>\n",
       "      <td>0</td>\n",
       "    </tr>\n",
       "    <tr>\n",
       "      <th>3</th>\n",
       "      <td>0</td>\n",
       "    </tr>\n",
       "    <tr>\n",
       "      <th>4</th>\n",
       "      <td>0</td>\n",
       "    </tr>\n",
       "    <tr>\n",
       "      <th>...</th>\n",
       "      <td>...</td>\n",
       "    </tr>\n",
       "    <tr>\n",
       "      <th>1148</th>\n",
       "      <td>0</td>\n",
       "    </tr>\n",
       "    <tr>\n",
       "      <th>1149</th>\n",
       "      <td>0</td>\n",
       "    </tr>\n",
       "    <tr>\n",
       "      <th>1150</th>\n",
       "      <td>0</td>\n",
       "    </tr>\n",
       "    <tr>\n",
       "      <th>1151</th>\n",
       "      <td>0</td>\n",
       "    </tr>\n",
       "    <tr>\n",
       "      <th>1152</th>\n",
       "      <td>0</td>\n",
       "    </tr>\n",
       "  </tbody>\n",
       "</table>\n",
       "<p>1153 rows × 1 columns</p>\n",
       "</div>"
      ]
     },
     "metadata": {},
     "execution_count": 62
    }
   ],
   "metadata": {}
  },
  {
   "cell_type": "code",
   "execution_count": 63,
   "source": [
    "# corr_data = corr_ratio_df.join(c_labels_df, how=\"right\"); corr_data.head()\r\n",
    "corr_modi_df = corr_modi_df.join(c_labels_df, how=\"right\"); "
   ],
   "outputs": [],
   "metadata": {}
  },
  {
   "cell_type": "code",
   "execution_count": 65,
   "source": [
    "corr_modi_df = corr_modi_df.dropna(); corr_modi_df"
   ],
   "outputs": [
    {
     "output_type": "execute_result",
     "data": {
      "text/plain": [
       "         E_len     S_len       ESC       LES       RES        NS c_labels\n",
       "0     0.122637  0.560203  0.435350  0.443535  0.427165  0.394611        0\n",
       "1     0.121504  0.560203  0.436977  0.444589  0.429365  0.398637        0\n",
       "2     0.109561  0.559566  0.428458  0.435332  0.421584  0.386513        0\n",
       "3     0.111866  0.577732  0.410432  0.410730  0.410133  0.347443        0\n",
       "4     0.112474  0.586626  0.411115  0.407081  0.415149  0.346459        0\n",
       "...        ...       ...       ...       ...       ...       ...      ...\n",
       "1146  0.145730  0.712661  0.475959  0.482039  0.469879  0.413211        0\n",
       "1148  0.114658  0.670623  0.481305  0.476905  0.485705  0.451482        0\n",
       "1149  0.122095  0.699184  0.507784  0.514875  0.500693  0.458599        0\n",
       "1150  0.106938  0.658362  0.456757  0.476067  0.437447  0.416656        0\n",
       "1152  0.108178  0.567521  0.348945  0.353388  0.344502  0.288654        0\n",
       "\n",
       "[865 rows x 7 columns]"
      ],
      "text/html": [
       "<div>\n",
       "<style scoped>\n",
       "    .dataframe tbody tr th:only-of-type {\n",
       "        vertical-align: middle;\n",
       "    }\n",
       "\n",
       "    .dataframe tbody tr th {\n",
       "        vertical-align: top;\n",
       "    }\n",
       "\n",
       "    .dataframe thead th {\n",
       "        text-align: right;\n",
       "    }\n",
       "</style>\n",
       "<table border=\"1\" class=\"dataframe\">\n",
       "  <thead>\n",
       "    <tr style=\"text-align: right;\">\n",
       "      <th></th>\n",
       "      <th>E_len</th>\n",
       "      <th>S_len</th>\n",
       "      <th>ESC</th>\n",
       "      <th>LES</th>\n",
       "      <th>RES</th>\n",
       "      <th>NS</th>\n",
       "      <th>c_labels</th>\n",
       "    </tr>\n",
       "  </thead>\n",
       "  <tbody>\n",
       "    <tr>\n",
       "      <th>0</th>\n",
       "      <td>0.122637</td>\n",
       "      <td>0.560203</td>\n",
       "      <td>0.435350</td>\n",
       "      <td>0.443535</td>\n",
       "      <td>0.427165</td>\n",
       "      <td>0.394611</td>\n",
       "      <td>0</td>\n",
       "    </tr>\n",
       "    <tr>\n",
       "      <th>1</th>\n",
       "      <td>0.121504</td>\n",
       "      <td>0.560203</td>\n",
       "      <td>0.436977</td>\n",
       "      <td>0.444589</td>\n",
       "      <td>0.429365</td>\n",
       "      <td>0.398637</td>\n",
       "      <td>0</td>\n",
       "    </tr>\n",
       "    <tr>\n",
       "      <th>2</th>\n",
       "      <td>0.109561</td>\n",
       "      <td>0.559566</td>\n",
       "      <td>0.428458</td>\n",
       "      <td>0.435332</td>\n",
       "      <td>0.421584</td>\n",
       "      <td>0.386513</td>\n",
       "      <td>0</td>\n",
       "    </tr>\n",
       "    <tr>\n",
       "      <th>3</th>\n",
       "      <td>0.111866</td>\n",
       "      <td>0.577732</td>\n",
       "      <td>0.410432</td>\n",
       "      <td>0.410730</td>\n",
       "      <td>0.410133</td>\n",
       "      <td>0.347443</td>\n",
       "      <td>0</td>\n",
       "    </tr>\n",
       "    <tr>\n",
       "      <th>4</th>\n",
       "      <td>0.112474</td>\n",
       "      <td>0.586626</td>\n",
       "      <td>0.411115</td>\n",
       "      <td>0.407081</td>\n",
       "      <td>0.415149</td>\n",
       "      <td>0.346459</td>\n",
       "      <td>0</td>\n",
       "    </tr>\n",
       "    <tr>\n",
       "      <th>...</th>\n",
       "      <td>...</td>\n",
       "      <td>...</td>\n",
       "      <td>...</td>\n",
       "      <td>...</td>\n",
       "      <td>...</td>\n",
       "      <td>...</td>\n",
       "      <td>...</td>\n",
       "    </tr>\n",
       "    <tr>\n",
       "      <th>1146</th>\n",
       "      <td>0.145730</td>\n",
       "      <td>0.712661</td>\n",
       "      <td>0.475959</td>\n",
       "      <td>0.482039</td>\n",
       "      <td>0.469879</td>\n",
       "      <td>0.413211</td>\n",
       "      <td>0</td>\n",
       "    </tr>\n",
       "    <tr>\n",
       "      <th>1148</th>\n",
       "      <td>0.114658</td>\n",
       "      <td>0.670623</td>\n",
       "      <td>0.481305</td>\n",
       "      <td>0.476905</td>\n",
       "      <td>0.485705</td>\n",
       "      <td>0.451482</td>\n",
       "      <td>0</td>\n",
       "    </tr>\n",
       "    <tr>\n",
       "      <th>1149</th>\n",
       "      <td>0.122095</td>\n",
       "      <td>0.699184</td>\n",
       "      <td>0.507784</td>\n",
       "      <td>0.514875</td>\n",
       "      <td>0.500693</td>\n",
       "      <td>0.458599</td>\n",
       "      <td>0</td>\n",
       "    </tr>\n",
       "    <tr>\n",
       "      <th>1150</th>\n",
       "      <td>0.106938</td>\n",
       "      <td>0.658362</td>\n",
       "      <td>0.456757</td>\n",
       "      <td>0.476067</td>\n",
       "      <td>0.437447</td>\n",
       "      <td>0.416656</td>\n",
       "      <td>0</td>\n",
       "    </tr>\n",
       "    <tr>\n",
       "      <th>1152</th>\n",
       "      <td>0.108178</td>\n",
       "      <td>0.567521</td>\n",
       "      <td>0.348945</td>\n",
       "      <td>0.353388</td>\n",
       "      <td>0.344502</td>\n",
       "      <td>0.288654</td>\n",
       "      <td>0</td>\n",
       "    </tr>\n",
       "  </tbody>\n",
       "</table>\n",
       "<p>865 rows × 7 columns</p>\n",
       "</div>"
      ]
     },
     "metadata": {},
     "execution_count": 65
    }
   ],
   "metadata": {}
  },
  {
   "cell_type": "code",
   "execution_count": null,
   "source": [],
   "outputs": [],
   "metadata": {}
  },
  {
   "cell_type": "code",
   "execution_count": 94,
   "source": [
    "forw_csv = pd.read_csv(\"./dataset/total_forw_0831.csv\") \r\n",
    "forw_df = pd.DataFrame(forw_csv); forw_df"
   ],
   "outputs": [
    {
     "output_type": "execute_result",
     "data": {
      "text/plain": [
       "         E_len     S_len       ESC       LES       RES        NS\n",
       "0     0.117220  0.521142  0.335206  0.321549  0.348864  0.284205\n",
       "1     0.115567  0.521469  0.336075  0.323239  0.348912  0.284684\n",
       "2     0.115526  0.527598  0.338677  0.328034  0.349321  0.285925\n",
       "3     0.109465  0.525332  0.304367  0.295484  0.313250  0.244219\n",
       "4     0.108766  0.524268  0.299489  0.291270  0.307709  0.238228\n",
       "...        ...       ...       ...       ...       ...       ...\n",
       "1571  0.108992  0.431116  0.421152  0.445476  0.396827  0.341751\n",
       "1572  0.107505  0.474848  0.420175  0.456049  0.384301  0.335194\n",
       "1573  0.117135  0.463106  0.407972  0.447593  0.368351  0.320367\n",
       "1574  0.122345  0.491012  0.387042  0.402736  0.371347  0.303367\n",
       "1575  0.154535  0.705239  0.409030  0.392235  0.425826  0.307469\n",
       "\n",
       "[1576 rows x 6 columns]"
      ],
      "text/html": [
       "<div>\n",
       "<style scoped>\n",
       "    .dataframe tbody tr th:only-of-type {\n",
       "        vertical-align: middle;\n",
       "    }\n",
       "\n",
       "    .dataframe tbody tr th {\n",
       "        vertical-align: top;\n",
       "    }\n",
       "\n",
       "    .dataframe thead th {\n",
       "        text-align: right;\n",
       "    }\n",
       "</style>\n",
       "<table border=\"1\" class=\"dataframe\">\n",
       "  <thead>\n",
       "    <tr style=\"text-align: right;\">\n",
       "      <th></th>\n",
       "      <th>E_len</th>\n",
       "      <th>S_len</th>\n",
       "      <th>ESC</th>\n",
       "      <th>LES</th>\n",
       "      <th>RES</th>\n",
       "      <th>NS</th>\n",
       "    </tr>\n",
       "  </thead>\n",
       "  <tbody>\n",
       "    <tr>\n",
       "      <th>0</th>\n",
       "      <td>0.117220</td>\n",
       "      <td>0.521142</td>\n",
       "      <td>0.335206</td>\n",
       "      <td>0.321549</td>\n",
       "      <td>0.348864</td>\n",
       "      <td>0.284205</td>\n",
       "    </tr>\n",
       "    <tr>\n",
       "      <th>1</th>\n",
       "      <td>0.115567</td>\n",
       "      <td>0.521469</td>\n",
       "      <td>0.336075</td>\n",
       "      <td>0.323239</td>\n",
       "      <td>0.348912</td>\n",
       "      <td>0.284684</td>\n",
       "    </tr>\n",
       "    <tr>\n",
       "      <th>2</th>\n",
       "      <td>0.115526</td>\n",
       "      <td>0.527598</td>\n",
       "      <td>0.338677</td>\n",
       "      <td>0.328034</td>\n",
       "      <td>0.349321</td>\n",
       "      <td>0.285925</td>\n",
       "    </tr>\n",
       "    <tr>\n",
       "      <th>3</th>\n",
       "      <td>0.109465</td>\n",
       "      <td>0.525332</td>\n",
       "      <td>0.304367</td>\n",
       "      <td>0.295484</td>\n",
       "      <td>0.313250</td>\n",
       "      <td>0.244219</td>\n",
       "    </tr>\n",
       "    <tr>\n",
       "      <th>4</th>\n",
       "      <td>0.108766</td>\n",
       "      <td>0.524268</td>\n",
       "      <td>0.299489</td>\n",
       "      <td>0.291270</td>\n",
       "      <td>0.307709</td>\n",
       "      <td>0.238228</td>\n",
       "    </tr>\n",
       "    <tr>\n",
       "      <th>...</th>\n",
       "      <td>...</td>\n",
       "      <td>...</td>\n",
       "      <td>...</td>\n",
       "      <td>...</td>\n",
       "      <td>...</td>\n",
       "      <td>...</td>\n",
       "    </tr>\n",
       "    <tr>\n",
       "      <th>1571</th>\n",
       "      <td>0.108992</td>\n",
       "      <td>0.431116</td>\n",
       "      <td>0.421152</td>\n",
       "      <td>0.445476</td>\n",
       "      <td>0.396827</td>\n",
       "      <td>0.341751</td>\n",
       "    </tr>\n",
       "    <tr>\n",
       "      <th>1572</th>\n",
       "      <td>0.107505</td>\n",
       "      <td>0.474848</td>\n",
       "      <td>0.420175</td>\n",
       "      <td>0.456049</td>\n",
       "      <td>0.384301</td>\n",
       "      <td>0.335194</td>\n",
       "    </tr>\n",
       "    <tr>\n",
       "      <th>1573</th>\n",
       "      <td>0.117135</td>\n",
       "      <td>0.463106</td>\n",
       "      <td>0.407972</td>\n",
       "      <td>0.447593</td>\n",
       "      <td>0.368351</td>\n",
       "      <td>0.320367</td>\n",
       "    </tr>\n",
       "    <tr>\n",
       "      <th>1574</th>\n",
       "      <td>0.122345</td>\n",
       "      <td>0.491012</td>\n",
       "      <td>0.387042</td>\n",
       "      <td>0.402736</td>\n",
       "      <td>0.371347</td>\n",
       "      <td>0.303367</td>\n",
       "    </tr>\n",
       "    <tr>\n",
       "      <th>1575</th>\n",
       "      <td>0.154535</td>\n",
       "      <td>0.705239</td>\n",
       "      <td>0.409030</td>\n",
       "      <td>0.392235</td>\n",
       "      <td>0.425826</td>\n",
       "      <td>0.307469</td>\n",
       "    </tr>\n",
       "  </tbody>\n",
       "</table>\n",
       "<p>1576 rows × 6 columns</p>\n",
       "</div>"
      ]
     },
     "metadata": {},
     "execution_count": 94
    }
   ],
   "metadata": {}
  },
  {
   "cell_type": "code",
   "execution_count": 95,
   "source": [
    "forw_df[forw_df[\"E_len\"] >= 0.13]"
   ],
   "outputs": [
    {
     "output_type": "execute_result",
     "data": {
      "text/plain": [
       "         E_len     S_len       ESC       LES       RES        NS\n",
       "22    0.152257  0.609388  0.465867  0.468155  0.463578  0.405008\n",
       "23    0.161144  0.633249  0.488199  0.496639  0.479758  0.425947\n",
       "24    0.155894  0.585518  0.437188  0.443037  0.431340  0.365422\n",
       "25    0.158419  0.622670  0.472254  0.481130  0.463378  0.407735\n",
       "26    0.160012  0.637611  0.479379  0.489914  0.468844  0.417165\n",
       "...        ...       ...       ...       ...       ...       ...\n",
       "1531  0.132138  0.634939  0.333741  0.363154  0.304329  0.251861\n",
       "1532  0.165688  0.759053  0.530768  0.534773  0.526764  0.452490\n",
       "1537  0.145778  0.659956  0.379815  0.385758  0.373872  0.306343\n",
       "1562  0.171012  0.683461  0.317214  0.405657  0.228770  0.220547\n",
       "1575  0.154535  0.705239  0.409030  0.392235  0.425826  0.307469\n",
       "\n",
       "[450 rows x 6 columns]"
      ],
      "text/html": [
       "<div>\n",
       "<style scoped>\n",
       "    .dataframe tbody tr th:only-of-type {\n",
       "        vertical-align: middle;\n",
       "    }\n",
       "\n",
       "    .dataframe tbody tr th {\n",
       "        vertical-align: top;\n",
       "    }\n",
       "\n",
       "    .dataframe thead th {\n",
       "        text-align: right;\n",
       "    }\n",
       "</style>\n",
       "<table border=\"1\" class=\"dataframe\">\n",
       "  <thead>\n",
       "    <tr style=\"text-align: right;\">\n",
       "      <th></th>\n",
       "      <th>E_len</th>\n",
       "      <th>S_len</th>\n",
       "      <th>ESC</th>\n",
       "      <th>LES</th>\n",
       "      <th>RES</th>\n",
       "      <th>NS</th>\n",
       "    </tr>\n",
       "  </thead>\n",
       "  <tbody>\n",
       "    <tr>\n",
       "      <th>22</th>\n",
       "      <td>0.152257</td>\n",
       "      <td>0.609388</td>\n",
       "      <td>0.465867</td>\n",
       "      <td>0.468155</td>\n",
       "      <td>0.463578</td>\n",
       "      <td>0.405008</td>\n",
       "    </tr>\n",
       "    <tr>\n",
       "      <th>23</th>\n",
       "      <td>0.161144</td>\n",
       "      <td>0.633249</td>\n",
       "      <td>0.488199</td>\n",
       "      <td>0.496639</td>\n",
       "      <td>0.479758</td>\n",
       "      <td>0.425947</td>\n",
       "    </tr>\n",
       "    <tr>\n",
       "      <th>24</th>\n",
       "      <td>0.155894</td>\n",
       "      <td>0.585518</td>\n",
       "      <td>0.437188</td>\n",
       "      <td>0.443037</td>\n",
       "      <td>0.431340</td>\n",
       "      <td>0.365422</td>\n",
       "    </tr>\n",
       "    <tr>\n",
       "      <th>25</th>\n",
       "      <td>0.158419</td>\n",
       "      <td>0.622670</td>\n",
       "      <td>0.472254</td>\n",
       "      <td>0.481130</td>\n",
       "      <td>0.463378</td>\n",
       "      <td>0.407735</td>\n",
       "    </tr>\n",
       "    <tr>\n",
       "      <th>26</th>\n",
       "      <td>0.160012</td>\n",
       "      <td>0.637611</td>\n",
       "      <td>0.479379</td>\n",
       "      <td>0.489914</td>\n",
       "      <td>0.468844</td>\n",
       "      <td>0.417165</td>\n",
       "    </tr>\n",
       "    <tr>\n",
       "      <th>...</th>\n",
       "      <td>...</td>\n",
       "      <td>...</td>\n",
       "      <td>...</td>\n",
       "      <td>...</td>\n",
       "      <td>...</td>\n",
       "      <td>...</td>\n",
       "    </tr>\n",
       "    <tr>\n",
       "      <th>1531</th>\n",
       "      <td>0.132138</td>\n",
       "      <td>0.634939</td>\n",
       "      <td>0.333741</td>\n",
       "      <td>0.363154</td>\n",
       "      <td>0.304329</td>\n",
       "      <td>0.251861</td>\n",
       "    </tr>\n",
       "    <tr>\n",
       "      <th>1532</th>\n",
       "      <td>0.165688</td>\n",
       "      <td>0.759053</td>\n",
       "      <td>0.530768</td>\n",
       "      <td>0.534773</td>\n",
       "      <td>0.526764</td>\n",
       "      <td>0.452490</td>\n",
       "    </tr>\n",
       "    <tr>\n",
       "      <th>1537</th>\n",
       "      <td>0.145778</td>\n",
       "      <td>0.659956</td>\n",
       "      <td>0.379815</td>\n",
       "      <td>0.385758</td>\n",
       "      <td>0.373872</td>\n",
       "      <td>0.306343</td>\n",
       "    </tr>\n",
       "    <tr>\n",
       "      <th>1562</th>\n",
       "      <td>0.171012</td>\n",
       "      <td>0.683461</td>\n",
       "      <td>0.317214</td>\n",
       "      <td>0.405657</td>\n",
       "      <td>0.228770</td>\n",
       "      <td>0.220547</td>\n",
       "    </tr>\n",
       "    <tr>\n",
       "      <th>1575</th>\n",
       "      <td>0.154535</td>\n",
       "      <td>0.705239</td>\n",
       "      <td>0.409030</td>\n",
       "      <td>0.392235</td>\n",
       "      <td>0.425826</td>\n",
       "      <td>0.307469</td>\n",
       "    </tr>\n",
       "  </tbody>\n",
       "</table>\n",
       "<p>450 rows × 6 columns</p>\n",
       "</div>"
      ]
     },
     "metadata": {},
     "execution_count": 95
    }
   ],
   "metadata": {}
  },
  {
   "cell_type": "code",
   "execution_count": 67,
   "source": [
    "forw_total = forw_df.copy()"
   ],
   "outputs": [],
   "metadata": {}
  },
  {
   "cell_type": "code",
   "execution_count": 68,
   "source": [
    "# Basic box plot\r\n",
    "import matplotlib.pyplot as plt\r\n",
    "%matplotlib inline \r\n",
    "\r\n",
    "\r\n",
    "b = plt.boxplot(forw_total)\r\n",
    "plt.show()"
   ],
   "outputs": [
    {
     "output_type": "display_data",
     "data": {
      "text/plain": [
       "<Figure size 432x288 with 1 Axes>"
      ],
      "image/svg+xml": "<?xml version=\"1.0\" encoding=\"utf-8\" standalone=\"no\"?>\r\n<!DOCTYPE svg PUBLIC \"-//W3C//DTD SVG 1.1//EN\"\r\n  \"http://www.w3.org/Graphics/SVG/1.1/DTD/svg11.dtd\">\r\n<svg height=\"248.518125pt\" version=\"1.1\" viewBox=\"0 0 372.103125 248.518125\" width=\"372.103125pt\" xmlns=\"http://www.w3.org/2000/svg\" xmlns:xlink=\"http://www.w3.org/1999/xlink\">\r\n <metadata>\r\n  <rdf:RDF xmlns:cc=\"http://creativecommons.org/ns#\" xmlns:dc=\"http://purl.org/dc/elements/1.1/\" xmlns:rdf=\"http://www.w3.org/1999/02/22-rdf-syntax-ns#\">\r\n   <cc:Work>\r\n    <dc:type rdf:resource=\"http://purl.org/dc/dcmitype/StillImage\"/>\r\n    <dc:date>2021-09-01T13:21:06.898303</dc:date>\r\n    <dc:format>image/svg+xml</dc:format>\r\n    <dc:creator>\r\n     <cc:Agent>\r\n      <dc:title>Matplotlib v3.4.2, https://matplotlib.org/</dc:title>\r\n     </cc:Agent>\r\n    </dc:creator>\r\n   </cc:Work>\r\n  </rdf:RDF>\r\n </metadata>\r\n <defs>\r\n  <style type=\"text/css\">*{stroke-linecap:butt;stroke-linejoin:round;}</style>\r\n </defs>\r\n <g id=\"figure_1\">\r\n  <g id=\"patch_1\">\r\n   <path d=\"M 0 248.518125 \r\nL 372.103125 248.518125 \r\nL 372.103125 0 \r\nL 0 0 \r\nz\r\n\" style=\"fill:none;\"/>\r\n  </g>\r\n  <g id=\"axes_1\">\r\n   <g id=\"patch_2\">\r\n    <path d=\"M 30.103125 224.64 \r\nL 364.903125 224.64 \r\nL 364.903125 7.2 \r\nL 30.103125 7.2 \r\nz\r\n\" style=\"fill:#ffffff;\"/>\r\n   </g>\r\n   <g id=\"matplotlib.axis_1\">\r\n    <g id=\"xtick_1\">\r\n     <g id=\"line2d_1\">\r\n      <defs>\r\n       <path d=\"M 0 0 \r\nL 0 3.5 \r\n\" id=\"m79b215bfc2\" style=\"stroke:#000000;stroke-width:0.8;\"/>\r\n      </defs>\r\n      <g>\r\n       <use style=\"stroke:#000000;stroke-width:0.8;\" x=\"58.003125\" xlink:href=\"#m79b215bfc2\" y=\"224.64\"/>\r\n      </g>\r\n     </g>\r\n     <g id=\"text_1\">\r\n      <!-- 1 -->\r\n      <g transform=\"translate(54.821875 239.238437)scale(0.1 -0.1)\">\r\n       <defs>\r\n        <path d=\"M 794 531 \r\nL 1825 531 \r\nL 1825 4091 \r\nL 703 3866 \r\nL 703 4441 \r\nL 1819 4666 \r\nL 2450 4666 \r\nL 2450 531 \r\nL 3481 531 \r\nL 3481 0 \r\nL 794 0 \r\nL 794 531 \r\nz\r\n\" id=\"DejaVuSans-31\" transform=\"scale(0.015625)\"/>\r\n       </defs>\r\n       <use xlink:href=\"#DejaVuSans-31\"/>\r\n      </g>\r\n     </g>\r\n    </g>\r\n    <g id=\"xtick_2\">\r\n     <g id=\"line2d_2\">\r\n      <g>\r\n       <use style=\"stroke:#000000;stroke-width:0.8;\" x=\"113.803125\" xlink:href=\"#m79b215bfc2\" y=\"224.64\"/>\r\n      </g>\r\n     </g>\r\n     <g id=\"text_2\">\r\n      <!-- 2 -->\r\n      <g transform=\"translate(110.621875 239.238437)scale(0.1 -0.1)\">\r\n       <defs>\r\n        <path d=\"M 1228 531 \r\nL 3431 531 \r\nL 3431 0 \r\nL 469 0 \r\nL 469 531 \r\nQ 828 903 1448 1529 \r\nQ 2069 2156 2228 2338 \r\nQ 2531 2678 2651 2914 \r\nQ 2772 3150 2772 3378 \r\nQ 2772 3750 2511 3984 \r\nQ 2250 4219 1831 4219 \r\nQ 1534 4219 1204 4116 \r\nQ 875 4013 500 3803 \r\nL 500 4441 \r\nQ 881 4594 1212 4672 \r\nQ 1544 4750 1819 4750 \r\nQ 2544 4750 2975 4387 \r\nQ 3406 4025 3406 3419 \r\nQ 3406 3131 3298 2873 \r\nQ 3191 2616 2906 2266 \r\nQ 2828 2175 2409 1742 \r\nQ 1991 1309 1228 531 \r\nz\r\n\" id=\"DejaVuSans-32\" transform=\"scale(0.015625)\"/>\r\n       </defs>\r\n       <use xlink:href=\"#DejaVuSans-32\"/>\r\n      </g>\r\n     </g>\r\n    </g>\r\n    <g id=\"xtick_3\">\r\n     <g id=\"line2d_3\">\r\n      <g>\r\n       <use style=\"stroke:#000000;stroke-width:0.8;\" x=\"169.603125\" xlink:href=\"#m79b215bfc2\" y=\"224.64\"/>\r\n      </g>\r\n     </g>\r\n     <g id=\"text_3\">\r\n      <!-- 3 -->\r\n      <g transform=\"translate(166.421875 239.238437)scale(0.1 -0.1)\">\r\n       <defs>\r\n        <path d=\"M 2597 2516 \r\nQ 3050 2419 3304 2112 \r\nQ 3559 1806 3559 1356 \r\nQ 3559 666 3084 287 \r\nQ 2609 -91 1734 -91 \r\nQ 1441 -91 1130 -33 \r\nQ 819 25 488 141 \r\nL 488 750 \r\nQ 750 597 1062 519 \r\nQ 1375 441 1716 441 \r\nQ 2309 441 2620 675 \r\nQ 2931 909 2931 1356 \r\nQ 2931 1769 2642 2001 \r\nQ 2353 2234 1838 2234 \r\nL 1294 2234 \r\nL 1294 2753 \r\nL 1863 2753 \r\nQ 2328 2753 2575 2939 \r\nQ 2822 3125 2822 3475 \r\nQ 2822 3834 2567 4026 \r\nQ 2313 4219 1838 4219 \r\nQ 1578 4219 1281 4162 \r\nQ 984 4106 628 3988 \r\nL 628 4550 \r\nQ 988 4650 1302 4700 \r\nQ 1616 4750 1894 4750 \r\nQ 2613 4750 3031 4423 \r\nQ 3450 4097 3450 3541 \r\nQ 3450 3153 3228 2886 \r\nQ 3006 2619 2597 2516 \r\nz\r\n\" id=\"DejaVuSans-33\" transform=\"scale(0.015625)\"/>\r\n       </defs>\r\n       <use xlink:href=\"#DejaVuSans-33\"/>\r\n      </g>\r\n     </g>\r\n    </g>\r\n    <g id=\"xtick_4\">\r\n     <g id=\"line2d_4\">\r\n      <g>\r\n       <use style=\"stroke:#000000;stroke-width:0.8;\" x=\"225.403125\" xlink:href=\"#m79b215bfc2\" y=\"224.64\"/>\r\n      </g>\r\n     </g>\r\n     <g id=\"text_4\">\r\n      <!-- 4 -->\r\n      <g transform=\"translate(222.221875 239.238437)scale(0.1 -0.1)\">\r\n       <defs>\r\n        <path d=\"M 2419 4116 \r\nL 825 1625 \r\nL 2419 1625 \r\nL 2419 4116 \r\nz\r\nM 2253 4666 \r\nL 3047 4666 \r\nL 3047 1625 \r\nL 3713 1625 \r\nL 3713 1100 \r\nL 3047 1100 \r\nL 3047 0 \r\nL 2419 0 \r\nL 2419 1100 \r\nL 313 1100 \r\nL 313 1709 \r\nL 2253 4666 \r\nz\r\n\" id=\"DejaVuSans-34\" transform=\"scale(0.015625)\"/>\r\n       </defs>\r\n       <use xlink:href=\"#DejaVuSans-34\"/>\r\n      </g>\r\n     </g>\r\n    </g>\r\n    <g id=\"xtick_5\">\r\n     <g id=\"line2d_5\">\r\n      <g>\r\n       <use style=\"stroke:#000000;stroke-width:0.8;\" x=\"281.203125\" xlink:href=\"#m79b215bfc2\" y=\"224.64\"/>\r\n      </g>\r\n     </g>\r\n     <g id=\"text_5\">\r\n      <!-- 5 -->\r\n      <g transform=\"translate(278.021875 239.238437)scale(0.1 -0.1)\">\r\n       <defs>\r\n        <path d=\"M 691 4666 \r\nL 3169 4666 \r\nL 3169 4134 \r\nL 1269 4134 \r\nL 1269 2991 \r\nQ 1406 3038 1543 3061 \r\nQ 1681 3084 1819 3084 \r\nQ 2600 3084 3056 2656 \r\nQ 3513 2228 3513 1497 \r\nQ 3513 744 3044 326 \r\nQ 2575 -91 1722 -91 \r\nQ 1428 -91 1123 -41 \r\nQ 819 9 494 109 \r\nL 494 744 \r\nQ 775 591 1075 516 \r\nQ 1375 441 1709 441 \r\nQ 2250 441 2565 725 \r\nQ 2881 1009 2881 1497 \r\nQ 2881 1984 2565 2268 \r\nQ 2250 2553 1709 2553 \r\nQ 1456 2553 1204 2497 \r\nQ 953 2441 691 2322 \r\nL 691 4666 \r\nz\r\n\" id=\"DejaVuSans-35\" transform=\"scale(0.015625)\"/>\r\n       </defs>\r\n       <use xlink:href=\"#DejaVuSans-35\"/>\r\n      </g>\r\n     </g>\r\n    </g>\r\n    <g id=\"xtick_6\">\r\n     <g id=\"line2d_6\">\r\n      <g>\r\n       <use style=\"stroke:#000000;stroke-width:0.8;\" x=\"337.003125\" xlink:href=\"#m79b215bfc2\" y=\"224.64\"/>\r\n      </g>\r\n     </g>\r\n     <g id=\"text_6\">\r\n      <!-- 6 -->\r\n      <g transform=\"translate(333.821875 239.238437)scale(0.1 -0.1)\">\r\n       <defs>\r\n        <path d=\"M 2113 2584 \r\nQ 1688 2584 1439 2293 \r\nQ 1191 2003 1191 1497 \r\nQ 1191 994 1439 701 \r\nQ 1688 409 2113 409 \r\nQ 2538 409 2786 701 \r\nQ 3034 994 3034 1497 \r\nQ 3034 2003 2786 2293 \r\nQ 2538 2584 2113 2584 \r\nz\r\nM 3366 4563 \r\nL 3366 3988 \r\nQ 3128 4100 2886 4159 \r\nQ 2644 4219 2406 4219 \r\nQ 1781 4219 1451 3797 \r\nQ 1122 3375 1075 2522 \r\nQ 1259 2794 1537 2939 \r\nQ 1816 3084 2150 3084 \r\nQ 2853 3084 3261 2657 \r\nQ 3669 2231 3669 1497 \r\nQ 3669 778 3244 343 \r\nQ 2819 -91 2113 -91 \r\nQ 1303 -91 875 529 \r\nQ 447 1150 447 2328 \r\nQ 447 3434 972 4092 \r\nQ 1497 4750 2381 4750 \r\nQ 2619 4750 2861 4703 \r\nQ 3103 4656 3366 4563 \r\nz\r\n\" id=\"DejaVuSans-36\" transform=\"scale(0.015625)\"/>\r\n       </defs>\r\n       <use xlink:href=\"#DejaVuSans-36\"/>\r\n      </g>\r\n     </g>\r\n    </g>\r\n   </g>\r\n   <g id=\"matplotlib.axis_2\">\r\n    <g id=\"ytick_1\">\r\n     <g id=\"line2d_7\">\r\n      <defs>\r\n       <path d=\"M 0 0 \r\nL -3.5 0 \r\n\" id=\"m6e2a6fa181\" style=\"stroke:#000000;stroke-width:0.8;\"/>\r\n      </defs>\r\n      <g>\r\n       <use style=\"stroke:#000000;stroke-width:0.8;\" x=\"30.103125\" xlink:href=\"#m6e2a6fa181\" y=\"215.495394\"/>\r\n      </g>\r\n     </g>\r\n     <g id=\"text_7\">\r\n      <!-- 0.0 -->\r\n      <g transform=\"translate(7.2 219.294613)scale(0.1 -0.1)\">\r\n       <defs>\r\n        <path d=\"M 2034 4250 \r\nQ 1547 4250 1301 3770 \r\nQ 1056 3291 1056 2328 \r\nQ 1056 1369 1301 889 \r\nQ 1547 409 2034 409 \r\nQ 2525 409 2770 889 \r\nQ 3016 1369 3016 2328 \r\nQ 3016 3291 2770 3770 \r\nQ 2525 4250 2034 4250 \r\nz\r\nM 2034 4750 \r\nQ 2819 4750 3233 4129 \r\nQ 3647 3509 3647 2328 \r\nQ 3647 1150 3233 529 \r\nQ 2819 -91 2034 -91 \r\nQ 1250 -91 836 529 \r\nQ 422 1150 422 2328 \r\nQ 422 3509 836 4129 \r\nQ 1250 4750 2034 4750 \r\nz\r\n\" id=\"DejaVuSans-30\" transform=\"scale(0.015625)\"/>\r\n        <path d=\"M 684 794 \r\nL 1344 794 \r\nL 1344 0 \r\nL 684 0 \r\nL 684 794 \r\nz\r\n\" id=\"DejaVuSans-2e\" transform=\"scale(0.015625)\"/>\r\n       </defs>\r\n       <use xlink:href=\"#DejaVuSans-30\"/>\r\n       <use x=\"63.623047\" xlink:href=\"#DejaVuSans-2e\"/>\r\n       <use x=\"95.410156\" xlink:href=\"#DejaVuSans-30\"/>\r\n      </g>\r\n     </g>\r\n    </g>\r\n    <g id=\"ytick_2\">\r\n     <g id=\"line2d_8\">\r\n      <g>\r\n       <use style=\"stroke:#000000;stroke-width:0.8;\" x=\"30.103125\" xlink:href=\"#m6e2a6fa181\" y=\"183.184983\"/>\r\n      </g>\r\n     </g>\r\n     <g id=\"text_8\">\r\n      <!-- 0.2 -->\r\n      <g transform=\"translate(7.2 186.984202)scale(0.1 -0.1)\">\r\n       <use xlink:href=\"#DejaVuSans-30\"/>\r\n       <use x=\"63.623047\" xlink:href=\"#DejaVuSans-2e\"/>\r\n       <use x=\"95.410156\" xlink:href=\"#DejaVuSans-32\"/>\r\n      </g>\r\n     </g>\r\n    </g>\r\n    <g id=\"ytick_3\">\r\n     <g id=\"line2d_9\">\r\n      <g>\r\n       <use style=\"stroke:#000000;stroke-width:0.8;\" x=\"30.103125\" xlink:href=\"#m6e2a6fa181\" y=\"150.874572\"/>\r\n      </g>\r\n     </g>\r\n     <g id=\"text_9\">\r\n      <!-- 0.4 -->\r\n      <g transform=\"translate(7.2 154.673791)scale(0.1 -0.1)\">\r\n       <use xlink:href=\"#DejaVuSans-30\"/>\r\n       <use x=\"63.623047\" xlink:href=\"#DejaVuSans-2e\"/>\r\n       <use x=\"95.410156\" xlink:href=\"#DejaVuSans-34\"/>\r\n      </g>\r\n     </g>\r\n    </g>\r\n    <g id=\"ytick_4\">\r\n     <g id=\"line2d_10\">\r\n      <g>\r\n       <use style=\"stroke:#000000;stroke-width:0.8;\" x=\"30.103125\" xlink:href=\"#m6e2a6fa181\" y=\"118.564161\"/>\r\n      </g>\r\n     </g>\r\n     <g id=\"text_10\">\r\n      <!-- 0.6 -->\r\n      <g transform=\"translate(7.2 122.36338)scale(0.1 -0.1)\">\r\n       <use xlink:href=\"#DejaVuSans-30\"/>\r\n       <use x=\"63.623047\" xlink:href=\"#DejaVuSans-2e\"/>\r\n       <use x=\"95.410156\" xlink:href=\"#DejaVuSans-36\"/>\r\n      </g>\r\n     </g>\r\n    </g>\r\n    <g id=\"ytick_5\">\r\n     <g id=\"line2d_11\">\r\n      <g>\r\n       <use style=\"stroke:#000000;stroke-width:0.8;\" x=\"30.103125\" xlink:href=\"#m6e2a6fa181\" y=\"86.25375\"/>\r\n      </g>\r\n     </g>\r\n     <g id=\"text_11\">\r\n      <!-- 0.8 -->\r\n      <g transform=\"translate(7.2 90.052968)scale(0.1 -0.1)\">\r\n       <defs>\r\n        <path d=\"M 2034 2216 \r\nQ 1584 2216 1326 1975 \r\nQ 1069 1734 1069 1313 \r\nQ 1069 891 1326 650 \r\nQ 1584 409 2034 409 \r\nQ 2484 409 2743 651 \r\nQ 3003 894 3003 1313 \r\nQ 3003 1734 2745 1975 \r\nQ 2488 2216 2034 2216 \r\nz\r\nM 1403 2484 \r\nQ 997 2584 770 2862 \r\nQ 544 3141 544 3541 \r\nQ 544 4100 942 4425 \r\nQ 1341 4750 2034 4750 \r\nQ 2731 4750 3128 4425 \r\nQ 3525 4100 3525 3541 \r\nQ 3525 3141 3298 2862 \r\nQ 3072 2584 2669 2484 \r\nQ 3125 2378 3379 2068 \r\nQ 3634 1759 3634 1313 \r\nQ 3634 634 3220 271 \r\nQ 2806 -91 2034 -91 \r\nQ 1263 -91 848 271 \r\nQ 434 634 434 1313 \r\nQ 434 1759 690 2068 \r\nQ 947 2378 1403 2484 \r\nz\r\nM 1172 3481 \r\nQ 1172 3119 1398 2916 \r\nQ 1625 2713 2034 2713 \r\nQ 2441 2713 2670 2916 \r\nQ 2900 3119 2900 3481 \r\nQ 2900 3844 2670 4047 \r\nQ 2441 4250 2034 4250 \r\nQ 1625 4250 1398 4047 \r\nQ 1172 3844 1172 3481 \r\nz\r\n\" id=\"DejaVuSans-38\" transform=\"scale(0.015625)\"/>\r\n       </defs>\r\n       <use xlink:href=\"#DejaVuSans-30\"/>\r\n       <use x=\"63.623047\" xlink:href=\"#DejaVuSans-2e\"/>\r\n       <use x=\"95.410156\" xlink:href=\"#DejaVuSans-38\"/>\r\n      </g>\r\n     </g>\r\n    </g>\r\n    <g id=\"ytick_6\">\r\n     <g id=\"line2d_12\">\r\n      <g>\r\n       <use style=\"stroke:#000000;stroke-width:0.8;\" x=\"30.103125\" xlink:href=\"#m6e2a6fa181\" y=\"53.943339\"/>\r\n      </g>\r\n     </g>\r\n     <g id=\"text_12\">\r\n      <!-- 1.0 -->\r\n      <g transform=\"translate(7.2 57.742557)scale(0.1 -0.1)\">\r\n       <use xlink:href=\"#DejaVuSans-31\"/>\r\n       <use x=\"63.623047\" xlink:href=\"#DejaVuSans-2e\"/>\r\n       <use x=\"95.410156\" xlink:href=\"#DejaVuSans-30\"/>\r\n      </g>\r\n     </g>\r\n    </g>\r\n    <g id=\"ytick_7\">\r\n     <g id=\"line2d_13\">\r\n      <g>\r\n       <use style=\"stroke:#000000;stroke-width:0.8;\" x=\"30.103125\" xlink:href=\"#m6e2a6fa181\" y=\"21.632927\"/>\r\n      </g>\r\n     </g>\r\n     <g id=\"text_13\">\r\n      <!-- 1.2 -->\r\n      <g transform=\"translate(7.2 25.432146)scale(0.1 -0.1)\">\r\n       <use xlink:href=\"#DejaVuSans-31\"/>\r\n       <use x=\"63.623047\" xlink:href=\"#DejaVuSans-2e\"/>\r\n       <use x=\"95.410156\" xlink:href=\"#DejaVuSans-32\"/>\r\n      </g>\r\n     </g>\r\n    </g>\r\n   </g>\r\n   <g id=\"line2d_14\">\r\n    <path clip-path=\"url(#p0a89c13369)\" d=\"M 44.053125 199.952283 \r\nL 71.953125 199.952283 \r\nL 71.953125 194.132714 \r\nL 44.053125 194.132714 \r\nL 44.053125 199.952283 \r\n\" style=\"fill:none;stroke:#000000;stroke-linecap:square;\"/>\r\n   </g>\r\n   <g id=\"line2d_15\">\r\n    <path clip-path=\"url(#p0a89c13369)\" d=\"M 58.003125 199.952283 \r\nL 58.003125 208.621244 \r\n\" style=\"fill:none;stroke:#000000;stroke-linecap:square;\"/>\r\n   </g>\r\n   <g id=\"line2d_16\">\r\n    <path clip-path=\"url(#p0a89c13369)\" d=\"M 58.003125 194.132714 \r\nL 58.003125 185.616579 \r\n\" style=\"fill:none;stroke:#000000;stroke-linecap:square;\"/>\r\n   </g>\r\n   <g id=\"line2d_17\">\r\n    <path clip-path=\"url(#p0a89c13369)\" d=\"M 51.028125 208.621244 \r\nL 64.978125 208.621244 \r\n\" style=\"fill:none;stroke:#000000;stroke-linecap:square;\"/>\r\n   </g>\r\n   <g id=\"line2d_18\">\r\n    <path clip-path=\"url(#p0a89c13369)\" d=\"M 51.028125 185.616579 \r\nL 64.978125 185.616579 \r\n\" style=\"fill:none;stroke:#000000;stroke-linecap:square;\"/>\r\n   </g>\r\n   <g id=\"line2d_19\">\r\n    <defs>\r\n     <path d=\"M 0 3 \r\nC 0.795609 3 1.55874 2.683901 2.12132 2.12132 \r\nC 2.683901 1.55874 3 0.795609 3 0 \r\nC 3 -0.795609 2.683901 -1.55874 2.12132 -2.12132 \r\nC 1.55874 -2.683901 0.795609 -3 0 -3 \r\nC -0.795609 -3 -1.55874 -2.683901 -2.12132 -2.12132 \r\nC -2.683901 -1.55874 -3 -0.795609 -3 0 \r\nC -3 0.795609 -2.683901 1.55874 -2.12132 2.12132 \r\nC -1.55874 2.683901 -0.795609 3 0 3 \r\nz\r\n\" id=\"m557192d1dc\" style=\"stroke:#000000;\"/>\r\n    </defs>\r\n    <g clip-path=\"url(#p0a89c13369)\">\r\n     <use style=\"fill-opacity:0;stroke:#000000;\" x=\"58.003125\" xlink:href=\"#m557192d1dc\" y=\"212.983864\"/>\r\n     <use style=\"fill-opacity:0;stroke:#000000;\" x=\"58.003125\" xlink:href=\"#m557192d1dc\" y=\"212.073601\"/>\r\n     <use style=\"fill-opacity:0;stroke:#000000;\" x=\"58.003125\" xlink:href=\"#m557192d1dc\" y=\"208.897257\"/>\r\n     <use style=\"fill-opacity:0;stroke:#000000;\" x=\"58.003125\" xlink:href=\"#m557192d1dc\" y=\"210.56073\"/>\r\n     <use style=\"fill-opacity:0;stroke:#000000;\" x=\"58.003125\" xlink:href=\"#m557192d1dc\" y=\"209.432682\"/>\r\n     <use style=\"fill-opacity:0;stroke:#000000;\" x=\"58.003125\" xlink:href=\"#m557192d1dc\" y=\"211.355622\"/>\r\n     <use style=\"fill-opacity:0;stroke:#000000;\" x=\"58.003125\" xlink:href=\"#m557192d1dc\" y=\"213.116728\"/>\r\n     <use style=\"fill-opacity:0;stroke:#000000;\" x=\"58.003125\" xlink:href=\"#m557192d1dc\" y=\"211.43211\"/>\r\n     <use style=\"fill-opacity:0;stroke:#000000;\" x=\"58.003125\" xlink:href=\"#m557192d1dc\" y=\"212.449469\"/>\r\n     <use style=\"fill-opacity:0;stroke:#000000;\" x=\"58.003125\" xlink:href=\"#m557192d1dc\" y=\"210.392824\"/>\r\n     <use style=\"fill-opacity:0;stroke:#000000;\" x=\"58.003125\" xlink:href=\"#m557192d1dc\" y=\"212.504934\"/>\r\n     <use style=\"fill-opacity:0;stroke:#000000;\" x=\"58.003125\" xlink:href=\"#m557192d1dc\" y=\"209.653028\"/>\r\n     <use style=\"fill-opacity:0;stroke:#000000;\" x=\"58.003125\" xlink:href=\"#m557192d1dc\" y=\"208.881041\"/>\r\n     <use style=\"fill-opacity:0;stroke:#000000;\" x=\"58.003125\" xlink:href=\"#m557192d1dc\" y=\"211.137541\"/>\r\n     <use style=\"fill-opacity:0;stroke:#000000;\" x=\"58.003125\" xlink:href=\"#m557192d1dc\" y=\"211.659244\"/>\r\n     <use style=\"fill-opacity:0;stroke:#000000;\" x=\"58.003125\" xlink:href=\"#m557192d1dc\" y=\"210.955731\"/>\r\n     <use style=\"fill-opacity:0;stroke:#000000;\" x=\"58.003125\" xlink:href=\"#m557192d1dc\" y=\"212.615863\"/>\r\n     <use style=\"fill-opacity:0;stroke:#000000;\" x=\"58.003125\" xlink:href=\"#m557192d1dc\" y=\"211.571922\"/>\r\n     <use style=\"fill-opacity:0;stroke:#000000;\" x=\"58.003125\" xlink:href=\"#m557192d1dc\" y=\"213.042438\"/>\r\n     <use style=\"fill-opacity:0;stroke:#000000;\" x=\"58.003125\" xlink:href=\"#m557192d1dc\" y=\"214.267029\"/>\r\n     <use style=\"fill-opacity:0;stroke:#000000;\" x=\"58.003125\" xlink:href=\"#m557192d1dc\" y=\"211.836895\"/>\r\n     <use style=\"fill-opacity:0;stroke:#000000;\" x=\"58.003125\" xlink:href=\"#m557192d1dc\" y=\"209.838878\"/>\r\n     <use style=\"fill-opacity:0;stroke:#000000;\" x=\"58.003125\" xlink:href=\"#m557192d1dc\" y=\"209.099847\"/>\r\n     <use style=\"fill-opacity:0;stroke:#000000;\" x=\"58.003125\" xlink:href=\"#m557192d1dc\" y=\"208.892442\"/>\r\n     <use style=\"fill-opacity:0;stroke:#000000;\" x=\"58.003125\" xlink:href=\"#m557192d1dc\" y=\"208.864335\"/>\r\n     <use style=\"fill-opacity:0;stroke:#000000;\" x=\"58.003125\" xlink:href=\"#m557192d1dc\" y=\"210.462978\"/>\r\n     <use style=\"fill-opacity:0;stroke:#000000;\" x=\"58.003125\" xlink:href=\"#m557192d1dc\" y=\"210.850002\"/>\r\n     <use style=\"fill-opacity:0;stroke:#000000;\" x=\"58.003125\" xlink:href=\"#m557192d1dc\" y=\"210.725005\"/>\r\n     <use style=\"fill-opacity:0;stroke:#000000;\" x=\"58.003125\" xlink:href=\"#m557192d1dc\" y=\"210.022791\"/>\r\n     <use style=\"fill-opacity:0;stroke:#000000;\" x=\"58.003125\" xlink:href=\"#m557192d1dc\" y=\"210.249917\"/>\r\n     <use style=\"fill-opacity:0;stroke:#000000;\" x=\"58.003125\" xlink:href=\"#m557192d1dc\" y=\"209.890774\"/>\r\n     <use style=\"fill-opacity:0;stroke:#000000;\" x=\"58.003125\" xlink:href=\"#m557192d1dc\" y=\"211.82701\"/>\r\n     <use style=\"fill-opacity:0;stroke:#000000;\" x=\"58.003125\" xlink:href=\"#m557192d1dc\" y=\"210.585833\"/>\r\n     <use style=\"fill-opacity:0;stroke:#000000;\" x=\"58.003125\" xlink:href=\"#m557192d1dc\" y=\"210.792566\"/>\r\n     <use style=\"fill-opacity:0;stroke:#000000;\" x=\"58.003125\" xlink:href=\"#m557192d1dc\" y=\"208.839472\"/>\r\n     <use style=\"fill-opacity:0;stroke:#000000;\" x=\"58.003125\" xlink:href=\"#m557192d1dc\" y=\"209.599831\"/>\r\n     <use style=\"fill-opacity:0;stroke:#000000;\" x=\"58.003125\" xlink:href=\"#m557192d1dc\" y=\"212.115406\"/>\r\n     <use style=\"fill-opacity:0;stroke:#000000;\" x=\"58.003125\" xlink:href=\"#m557192d1dc\" y=\"210.580123\"/>\r\n     <use style=\"fill-opacity:0;stroke:#000000;\" x=\"58.003125\" xlink:href=\"#m557192d1dc\" y=\"213.738378\"/>\r\n     <use style=\"fill-opacity:0;stroke:#000000;\" x=\"58.003125\" xlink:href=\"#m557192d1dc\" y=\"210.831726\"/>\r\n     <use style=\"fill-opacity:0;stroke:#000000;\" x=\"58.003125\" xlink:href=\"#m557192d1dc\" y=\"209.868945\"/>\r\n     <use style=\"fill-opacity:0;stroke:#000000;\" x=\"58.003125\" xlink:href=\"#m557192d1dc\" y=\"210.760691\"/>\r\n     <use style=\"fill-opacity:0;stroke:#000000;\" x=\"58.003125\" xlink:href=\"#m557192d1dc\" y=\"208.719848\"/>\r\n     <use style=\"fill-opacity:0;stroke:#000000;\" x=\"58.003125\" xlink:href=\"#m557192d1dc\" y=\"214.756364\"/>\r\n     <use style=\"fill-opacity:0;stroke:#000000;\" x=\"58.003125\" xlink:href=\"#m557192d1dc\" y=\"211.534512\"/>\r\n     <use style=\"fill-opacity:0;stroke:#000000;\" x=\"58.003125\" xlink:href=\"#m557192d1dc\" y=\"212.713691\"/>\r\n     <use style=\"fill-opacity:0;stroke:#000000;\" x=\"58.003125\" xlink:href=\"#m557192d1dc\" y=\"152.955409\"/>\r\n    </g>\r\n   </g>\r\n   <g id=\"line2d_20\">\r\n    <path clip-path=\"url(#p0a89c13369)\" d=\"M 99.853125 132.157675 \r\nL 127.753125 132.157675 \r\nL 127.753125 115.904588 \r\nL 99.853125 115.904588 \r\nL 99.853125 132.157675 \r\n\" style=\"fill:none;stroke:#000000;stroke-linecap:square;\"/>\r\n   </g>\r\n   <g id=\"line2d_21\">\r\n    <path clip-path=\"url(#p0a89c13369)\" d=\"M 113.803125 132.157675 \r\nL 113.803125 156.179274 \r\n\" style=\"fill:none;stroke:#000000;stroke-linecap:square;\"/>\r\n   </g>\r\n   <g id=\"line2d_22\">\r\n    <path clip-path=\"url(#p0a89c13369)\" d=\"M 113.803125 115.904588 \r\nL 113.803125 91.843267 \r\n\" style=\"fill:none;stroke:#000000;stroke-linecap:square;\"/>\r\n   </g>\r\n   <g id=\"line2d_23\">\r\n    <path clip-path=\"url(#p0a89c13369)\" d=\"M 106.828125 156.179274 \r\nL 120.778125 156.179274 \r\n\" style=\"fill:none;stroke:#000000;stroke-linecap:square;\"/>\r\n   </g>\r\n   <g id=\"line2d_24\">\r\n    <path clip-path=\"url(#p0a89c13369)\" d=\"M 106.828125 91.843267 \r\nL 120.778125 91.843267 \r\n\" style=\"fill:none;stroke:#000000;stroke-linecap:square;\"/>\r\n   </g>\r\n   <g id=\"line2d_25\">\r\n    <g clip-path=\"url(#p0a89c13369)\">\r\n     <use style=\"fill-opacity:0;stroke:#000000;\" x=\"113.803125\" xlink:href=\"#m557192d1dc\" y=\"172.470665\"/>\r\n     <use style=\"fill-opacity:0;stroke:#000000;\" x=\"113.803125\" xlink:href=\"#m557192d1dc\" y=\"162.444412\"/>\r\n     <use style=\"fill-opacity:0;stroke:#000000;\" x=\"113.803125\" xlink:href=\"#m557192d1dc\" y=\"166.922342\"/>\r\n     <use style=\"fill-opacity:0;stroke:#000000;\" x=\"113.803125\" xlink:href=\"#m557192d1dc\" y=\"157.001246\"/>\r\n     <use style=\"fill-opacity:0;stroke:#000000;\" x=\"113.803125\" xlink:href=\"#m557192d1dc\" y=\"158.607723\"/>\r\n     <use style=\"fill-opacity:0;stroke:#000000;\" x=\"113.803125\" xlink:href=\"#m557192d1dc\" y=\"158.994188\"/>\r\n     <use style=\"fill-opacity:0;stroke:#000000;\" x=\"113.803125\" xlink:href=\"#m557192d1dc\" y=\"160.036218\"/>\r\n     <use style=\"fill-opacity:0;stroke:#000000;\" x=\"113.803125\" xlink:href=\"#m557192d1dc\" y=\"160.144956\"/>\r\n     <use style=\"fill-opacity:0;stroke:#000000;\" x=\"113.803125\" xlink:href=\"#m557192d1dc\" y=\"160.542293\"/>\r\n     <use style=\"fill-opacity:0;stroke:#000000;\" x=\"113.803125\" xlink:href=\"#m557192d1dc\" y=\"173.238424\"/>\r\n     <use style=\"fill-opacity:0;stroke:#000000;\" x=\"113.803125\" xlink:href=\"#m557192d1dc\" y=\"162.032689\"/>\r\n     <use style=\"fill-opacity:0;stroke:#000000;\" x=\"113.803125\" xlink:href=\"#m557192d1dc\" y=\"159.587235\"/>\r\n     <use style=\"fill-opacity:0;stroke:#000000;\" x=\"113.803125\" xlink:href=\"#m557192d1dc\" y=\"159.089754\"/>\r\n     <use style=\"fill-opacity:0;stroke:#000000;\" x=\"113.803125\" xlink:href=\"#m557192d1dc\" y=\"167.185919\"/>\r\n     <use style=\"fill-opacity:0;stroke:#000000;\" x=\"113.803125\" xlink:href=\"#m557192d1dc\" y=\"157.436257\"/>\r\n     <use style=\"fill-opacity:0;stroke:#000000;\" x=\"113.803125\" xlink:href=\"#m557192d1dc\" y=\"161.03922\"/>\r\n     <use style=\"fill-opacity:0;stroke:#000000;\" x=\"113.803125\" xlink:href=\"#m557192d1dc\" y=\"157.346139\"/>\r\n     <use style=\"fill-opacity:0;stroke:#000000;\" x=\"113.803125\" xlink:href=\"#m557192d1dc\" y=\"156.696692\"/>\r\n     <use style=\"fill-opacity:0;stroke:#000000;\" x=\"113.803125\" xlink:href=\"#m557192d1dc\" y=\"156.663952\"/>\r\n     <use style=\"fill-opacity:0;stroke:#000000;\" x=\"113.803125\" xlink:href=\"#m557192d1dc\" y=\"156.930962\"/>\r\n     <use style=\"fill-opacity:0;stroke:#000000;\" x=\"113.803125\" xlink:href=\"#m557192d1dc\" y=\"165.444276\"/>\r\n     <use style=\"fill-opacity:0;stroke:#000000;\" x=\"113.803125\" xlink:href=\"#m557192d1dc\" y=\"164.906049\"/>\r\n     <use style=\"fill-opacity:0;stroke:#000000;\" x=\"113.803125\" xlink:href=\"#m557192d1dc\" y=\"162.246021\"/>\r\n     <use style=\"fill-opacity:0;stroke:#000000;\" x=\"113.803125\" xlink:href=\"#m557192d1dc\" y=\"173.341212\"/>\r\n     <use style=\"fill-opacity:0;stroke:#000000;\" x=\"113.803125\" xlink:href=\"#m557192d1dc\" y=\"186.590178\"/>\r\n     <use style=\"fill-opacity:0;stroke:#000000;\" x=\"113.803125\" xlink:href=\"#m557192d1dc\" y=\"183.915841\"/>\r\n     <use style=\"fill-opacity:0;stroke:#000000;\" x=\"113.803125\" xlink:href=\"#m557192d1dc\" y=\"185.502982\"/>\r\n     <use style=\"fill-opacity:0;stroke:#000000;\" x=\"113.803125\" xlink:href=\"#m557192d1dc\" y=\"182.730908\"/>\r\n     <use style=\"fill-opacity:0;stroke:#000000;\" x=\"113.803125\" xlink:href=\"#m557192d1dc\" y=\"157.570364\"/>\r\n     <use style=\"fill-opacity:0;stroke:#000000;\" x=\"113.803125\" xlink:href=\"#m557192d1dc\" y=\"177.62425\"/>\r\n     <use style=\"fill-opacity:0;stroke:#000000;\" x=\"113.803125\" xlink:href=\"#m557192d1dc\" y=\"167.580367\"/>\r\n     <use style=\"fill-opacity:0;stroke:#000000;\" x=\"113.803125\" xlink:href=\"#m557192d1dc\" y=\"193.538936\"/>\r\n     <use style=\"fill-opacity:0;stroke:#000000;\" x=\"113.803125\" xlink:href=\"#m557192d1dc\" y=\"180.278154\"/>\r\n     <use style=\"fill-opacity:0;stroke:#000000;\" x=\"113.803125\" xlink:href=\"#m557192d1dc\" y=\"179.436216\"/>\r\n     <use style=\"fill-opacity:0;stroke:#000000;\" x=\"113.803125\" xlink:href=\"#m557192d1dc\" y=\"157.508553\"/>\r\n     <use style=\"fill-opacity:0;stroke:#000000;\" x=\"113.803125\" xlink:href=\"#m557192d1dc\" y=\"173.682265\"/>\r\n     <use style=\"fill-opacity:0;stroke:#000000;\" x=\"113.803125\" xlink:href=\"#m557192d1dc\" y=\"167.507343\"/>\r\n     <use style=\"fill-opacity:0;stroke:#000000;\" x=\"113.803125\" xlink:href=\"#m557192d1dc\" y=\"172.377059\"/>\r\n     <use style=\"fill-opacity:0;stroke:#000000;\" x=\"113.803125\" xlink:href=\"#m557192d1dc\" y=\"156.72064\"/>\r\n     <use style=\"fill-opacity:0;stroke:#000000;\" x=\"113.803125\" xlink:href=\"#m557192d1dc\" y=\"157.048448\"/>\r\n     <use style=\"fill-opacity:0;stroke:#000000;\" x=\"113.803125\" xlink:href=\"#m557192d1dc\" y=\"161.684621\"/>\r\n     <use style=\"fill-opacity:0;stroke:#000000;\" x=\"113.803125\" xlink:href=\"#m557192d1dc\" y=\"162.03814\"/>\r\n     <use style=\"fill-opacity:0;stroke:#000000;\" x=\"113.803125\" xlink:href=\"#m557192d1dc\" y=\"163.674381\"/>\r\n     <use style=\"fill-opacity:0;stroke:#000000;\" x=\"113.803125\" xlink:href=\"#m557192d1dc\" y=\"158.938601\"/>\r\n     <use style=\"fill-opacity:0;stroke:#000000;\" x=\"113.803125\" xlink:href=\"#m557192d1dc\" y=\"167.271027\"/>\r\n     <use style=\"fill-opacity:0;stroke:#000000;\" x=\"113.803125\" xlink:href=\"#m557192d1dc\" y=\"159.19296\"/>\r\n     <use style=\"fill-opacity:0;stroke:#000000;\" x=\"113.803125\" xlink:href=\"#m557192d1dc\" y=\"168.565589\"/>\r\n     <use style=\"fill-opacity:0;stroke:#000000;\" x=\"113.803125\" xlink:href=\"#m557192d1dc\" y=\"160.80626\"/>\r\n     <use style=\"fill-opacity:0;stroke:#000000;\" x=\"113.803125\" xlink:href=\"#m557192d1dc\" y=\"158.564777\"/>\r\n     <use style=\"fill-opacity:0;stroke:#000000;\" x=\"113.803125\" xlink:href=\"#m557192d1dc\" y=\"159.738019\"/>\r\n     <use style=\"fill-opacity:0;stroke:#000000;\" x=\"113.803125\" xlink:href=\"#m557192d1dc\" y=\"157.013643\"/>\r\n     <use style=\"fill-opacity:0;stroke:#000000;\" x=\"113.803125\" xlink:href=\"#m557192d1dc\" y=\"158.317844\"/>\r\n     <use style=\"fill-opacity:0;stroke:#000000;\" x=\"113.803125\" xlink:href=\"#m557192d1dc\" y=\"177.77179\"/>\r\n     <use style=\"fill-opacity:0;stroke:#000000;\" x=\"113.803125\" xlink:href=\"#m557192d1dc\" y=\"169.950964\"/>\r\n     <use style=\"fill-opacity:0;stroke:#000000;\" x=\"113.803125\" xlink:href=\"#m557192d1dc\" y=\"170.036577\"/>\r\n     <use style=\"fill-opacity:0;stroke:#000000;\" x=\"113.803125\" xlink:href=\"#m557192d1dc\" y=\"167.284402\"/>\r\n     <use style=\"fill-opacity:0;stroke:#000000;\" x=\"113.803125\" xlink:href=\"#m557192d1dc\" y=\"158.157974\"/>\r\n     <use style=\"fill-opacity:0;stroke:#000000;\" x=\"113.803125\" xlink:href=\"#m557192d1dc\" y=\"156.962117\"/>\r\n     <use style=\"fill-opacity:0;stroke:#000000;\" x=\"113.803125\" xlink:href=\"#m557192d1dc\" y=\"161.941443\"/>\r\n     <use style=\"fill-opacity:0;stroke:#000000;\" x=\"113.803125\" xlink:href=\"#m557192d1dc\" y=\"156.74192\"/>\r\n     <use style=\"fill-opacity:0;stroke:#000000;\" x=\"113.803125\" xlink:href=\"#m557192d1dc\" y=\"157.030244\"/>\r\n     <use style=\"fill-opacity:0;stroke:#000000;\" x=\"113.803125\" xlink:href=\"#m557192d1dc\" y=\"172.65726\"/>\r\n     <use style=\"fill-opacity:0;stroke:#000000;\" x=\"113.803125\" xlink:href=\"#m557192d1dc\" y=\"164.718895\"/>\r\n     <use style=\"fill-opacity:0;stroke:#000000;\" x=\"113.803125\" xlink:href=\"#m557192d1dc\" y=\"183.170146\"/>\r\n     <use style=\"fill-opacity:0;stroke:#000000;\" x=\"113.803125\" xlink:href=\"#m557192d1dc\" y=\"181.954511\"/>\r\n     <use style=\"fill-opacity:0;stroke:#000000;\" x=\"113.803125\" xlink:href=\"#m557192d1dc\" y=\"187.877773\"/>\r\n     <use style=\"fill-opacity:0;stroke:#000000;\" x=\"113.803125\" xlink:href=\"#m557192d1dc\" y=\"186.941429\"/>\r\n     <use style=\"fill-opacity:0;stroke:#000000;\" x=\"113.803125\" xlink:href=\"#m557192d1dc\" y=\"186.332947\"/>\r\n     <use style=\"fill-opacity:0;stroke:#000000;\" x=\"113.803125\" xlink:href=\"#m557192d1dc\" y=\"181.178682\"/>\r\n     <use style=\"fill-opacity:0;stroke:#000000;\" x=\"113.803125\" xlink:href=\"#m557192d1dc\" y=\"179.118715\"/>\r\n     <use style=\"fill-opacity:0;stroke:#000000;\" x=\"113.803125\" xlink:href=\"#m557192d1dc\" y=\"200.485281\"/>\r\n     <use style=\"fill-opacity:0;stroke:#000000;\" x=\"113.803125\" xlink:href=\"#m557192d1dc\" y=\"191.632281\"/>\r\n     <use style=\"fill-opacity:0;stroke:#000000;\" x=\"113.803125\" xlink:href=\"#m557192d1dc\" y=\"178.417889\"/>\r\n     <use style=\"fill-opacity:0;stroke:#000000;\" x=\"113.803125\" xlink:href=\"#m557192d1dc\" y=\"186.744207\"/>\r\n     <use style=\"fill-opacity:0;stroke:#000000;\" x=\"113.803125\" xlink:href=\"#m557192d1dc\" y=\"182.939771\"/>\r\n     <use style=\"fill-opacity:0;stroke:#000000;\" x=\"113.803125\" xlink:href=\"#m557192d1dc\" y=\"182.838009\"/>\r\n     <use style=\"fill-opacity:0;stroke:#000000;\" x=\"113.803125\" xlink:href=\"#m557192d1dc\" y=\"183.379183\"/>\r\n     <use style=\"fill-opacity:0;stroke:#000000;\" x=\"113.803125\" xlink:href=\"#m557192d1dc\" y=\"184.443004\"/>\r\n     <use style=\"fill-opacity:0;stroke:#000000;\" x=\"113.803125\" xlink:href=\"#m557192d1dc\" y=\"183.939302\"/>\r\n     <use style=\"fill-opacity:0;stroke:#000000;\" x=\"113.803125\" xlink:href=\"#m557192d1dc\" y=\"159.599469\"/>\r\n     <use style=\"fill-opacity:0;stroke:#000000;\" x=\"113.803125\" xlink:href=\"#m557192d1dc\" y=\"183.580651\"/>\r\n     <use style=\"fill-opacity:0;stroke:#000000;\" x=\"113.803125\" xlink:href=\"#m557192d1dc\" y=\"178.29837\"/>\r\n     <use style=\"fill-opacity:0;stroke:#000000;\" x=\"113.803125\" xlink:href=\"#m557192d1dc\" y=\"179.273337\"/>\r\n     <use style=\"fill-opacity:0;stroke:#000000;\" x=\"113.803125\" xlink:href=\"#m557192d1dc\" y=\"184.786229\"/>\r\n     <use style=\"fill-opacity:0;stroke:#000000;\" x=\"113.803125\" xlink:href=\"#m557192d1dc\" y=\"183.280368\"/>\r\n     <use style=\"fill-opacity:0;stroke:#000000;\" x=\"113.803125\" xlink:href=\"#m557192d1dc\" y=\"170.31038\"/>\r\n     <use style=\"fill-opacity:0;stroke:#000000;\" x=\"113.803125\" xlink:href=\"#m557192d1dc\" y=\"162.348981\"/>\r\n     <use style=\"fill-opacity:0;stroke:#000000;\" x=\"113.803125\" xlink:href=\"#m557192d1dc\" y=\"161.697822\"/>\r\n     <use style=\"fill-opacity:0;stroke:#000000;\" x=\"113.803125\" xlink:href=\"#m557192d1dc\" y=\"165.72505\"/>\r\n     <use style=\"fill-opacity:0;stroke:#000000;\" x=\"113.803125\" xlink:href=\"#m557192d1dc\" y=\"162.402212\"/>\r\n     <use style=\"fill-opacity:0;stroke:#000000;\" x=\"113.803125\" xlink:href=\"#m557192d1dc\" y=\"164.178602\"/>\r\n     <use style=\"fill-opacity:0;stroke:#000000;\" x=\"113.803125\" xlink:href=\"#m557192d1dc\" y=\"168.325551\"/>\r\n     <use style=\"fill-opacity:0;stroke:#000000;\" x=\"113.803125\" xlink:href=\"#m557192d1dc\" y=\"163.933249\"/>\r\n     <use style=\"fill-opacity:0;stroke:#000000;\" x=\"113.803125\" xlink:href=\"#m557192d1dc\" y=\"159.896078\"/>\r\n     <use style=\"fill-opacity:0;stroke:#000000;\" x=\"113.803125\" xlink:href=\"#m557192d1dc\" y=\"161.447741\"/>\r\n     <use style=\"fill-opacity:0;stroke:#000000;\" x=\"113.803125\" xlink:href=\"#m557192d1dc\" y=\"165.210651\"/>\r\n     <use style=\"fill-opacity:0;stroke:#000000;\" x=\"113.803125\" xlink:href=\"#m557192d1dc\" y=\"166.451452\"/>\r\n     <use style=\"fill-opacity:0;stroke:#000000;\" x=\"113.803125\" xlink:href=\"#m557192d1dc\" y=\"157.734128\"/>\r\n     <use style=\"fill-opacity:0;stroke:#000000;\" x=\"113.803125\" xlink:href=\"#m557192d1dc\" y=\"161.865708\"/>\r\n     <use style=\"fill-opacity:0;stroke:#000000;\" x=\"113.803125\" xlink:href=\"#m557192d1dc\" y=\"162.066873\"/>\r\n     <use style=\"fill-opacity:0;stroke:#000000;\" x=\"113.803125\" xlink:href=\"#m557192d1dc\" y=\"163.911684\"/>\r\n     <use style=\"fill-opacity:0;stroke:#000000;\" x=\"113.803125\" xlink:href=\"#m557192d1dc\" y=\"158.689706\"/>\r\n     <use style=\"fill-opacity:0;stroke:#000000;\" x=\"113.803125\" xlink:href=\"#m557192d1dc\" y=\"174.389057\"/>\r\n     <use style=\"fill-opacity:0;stroke:#000000;\" x=\"113.803125\" xlink:href=\"#m557192d1dc\" y=\"179.52739\"/>\r\n     <use style=\"fill-opacity:0;stroke:#000000;\" x=\"113.803125\" xlink:href=\"#m557192d1dc\" y=\"161.705492\"/>\r\n     <use style=\"fill-opacity:0;stroke:#000000;\" x=\"113.803125\" xlink:href=\"#m557192d1dc\" y=\"158.48612\"/>\r\n     <use style=\"fill-opacity:0;stroke:#000000;\" x=\"113.803125\" xlink:href=\"#m557192d1dc\" y=\"157.769159\"/>\r\n     <use style=\"fill-opacity:0;stroke:#000000;\" x=\"113.803125\" xlink:href=\"#m557192d1dc\" y=\"158.364425\"/>\r\n     <use style=\"fill-opacity:0;stroke:#000000;\" x=\"113.803125\" xlink:href=\"#m557192d1dc\" y=\"158.821059\"/>\r\n     <use style=\"fill-opacity:0;stroke:#000000;\" x=\"113.803125\" xlink:href=\"#m557192d1dc\" y=\"158.126443\"/>\r\n     <use style=\"fill-opacity:0;stroke:#000000;\" x=\"113.803125\" xlink:href=\"#m557192d1dc\" y=\"157.764971\"/>\r\n     <use style=\"fill-opacity:0;stroke:#000000;\" x=\"113.803125\" xlink:href=\"#m557192d1dc\" y=\"164.09321\"/>\r\n     <use style=\"fill-opacity:0;stroke:#000000;\" x=\"113.803125\" xlink:href=\"#m557192d1dc\" y=\"161.532108\"/>\r\n     <use style=\"fill-opacity:0;stroke:#000000;\" x=\"113.803125\" xlink:href=\"#m557192d1dc\" y=\"158.352716\"/>\r\n     <use style=\"fill-opacity:0;stroke:#000000;\" x=\"113.803125\" xlink:href=\"#m557192d1dc\" y=\"162.355862\"/>\r\n     <use style=\"fill-opacity:0;stroke:#000000;\" x=\"113.803125\" xlink:href=\"#m557192d1dc\" y=\"164.785871\"/>\r\n     <use style=\"fill-opacity:0;stroke:#000000;\" x=\"113.803125\" xlink:href=\"#m557192d1dc\" y=\"158.903278\"/>\r\n     <use style=\"fill-opacity:0;stroke:#000000;\" x=\"113.803125\" xlink:href=\"#m557192d1dc\" y=\"174.040748\"/>\r\n     <use style=\"fill-opacity:0;stroke:#000000;\" x=\"113.803125\" xlink:href=\"#m557192d1dc\" y=\"160.202113\"/>\r\n     <use style=\"fill-opacity:0;stroke:#000000;\" x=\"113.803125\" xlink:href=\"#m557192d1dc\" y=\"166.016229\"/>\r\n     <use style=\"fill-opacity:0;stroke:#000000;\" x=\"113.803125\" xlink:href=\"#m557192d1dc\" y=\"174.414989\"/>\r\n     <use style=\"fill-opacity:0;stroke:#000000;\" x=\"113.803125\" xlink:href=\"#m557192d1dc\" y=\"158.427261\"/>\r\n     <use style=\"fill-opacity:0;stroke:#000000;\" x=\"113.803125\" xlink:href=\"#m557192d1dc\" y=\"156.906764\"/>\r\n     <use style=\"fill-opacity:0;stroke:#000000;\" x=\"113.803125\" xlink:href=\"#m557192d1dc\" y=\"171.722491\"/>\r\n     <use style=\"fill-opacity:0;stroke:#000000;\" x=\"113.803125\" xlink:href=\"#m557192d1dc\" y=\"170.283293\"/>\r\n     <use style=\"fill-opacity:0;stroke:#000000;\" x=\"113.803125\" xlink:href=\"#m557192d1dc\" y=\"174.735581\"/>\r\n     <use style=\"fill-opacity:0;stroke:#000000;\" x=\"113.803125\" xlink:href=\"#m557192d1dc\" y=\"176.751002\"/>\r\n     <use style=\"fill-opacity:0;stroke:#000000;\" x=\"113.803125\" xlink:href=\"#m557192d1dc\" y=\"181.086602\"/>\r\n     <use style=\"fill-opacity:0;stroke:#000000;\" x=\"113.803125\" xlink:href=\"#m557192d1dc\" y=\"167.95273\"/>\r\n     <use style=\"fill-opacity:0;stroke:#000000;\" x=\"113.803125\" xlink:href=\"#m557192d1dc\" y=\"168.822141\"/>\r\n     <use style=\"fill-opacity:0;stroke:#000000;\" x=\"113.803125\" xlink:href=\"#m557192d1dc\" y=\"179.349837\"/>\r\n     <use style=\"fill-opacity:0;stroke:#000000;\" x=\"113.803125\" xlink:href=\"#m557192d1dc\" y=\"169.016656\"/>\r\n     <use style=\"fill-opacity:0;stroke:#000000;\" x=\"113.803125\" xlink:href=\"#m557192d1dc\" y=\"161.572021\"/>\r\n     <use style=\"fill-opacity:0;stroke:#000000;\" x=\"113.803125\" xlink:href=\"#m557192d1dc\" y=\"164.183277\"/>\r\n     <use style=\"fill-opacity:0;stroke:#000000;\" x=\"113.803125\" xlink:href=\"#m557192d1dc\" y=\"165.549122\"/>\r\n     <use style=\"fill-opacity:0;stroke:#000000;\" x=\"113.803125\" xlink:href=\"#m557192d1dc\" y=\"171.737286\"/>\r\n     <use style=\"fill-opacity:0;stroke:#000000;\" x=\"113.803125\" xlink:href=\"#m557192d1dc\" y=\"174.725147\"/>\r\n     <use style=\"fill-opacity:0;stroke:#000000;\" x=\"113.803125\" xlink:href=\"#m557192d1dc\" y=\"166.452555\"/>\r\n     <use style=\"fill-opacity:0;stroke:#000000;\" x=\"113.803125\" xlink:href=\"#m557192d1dc\" y=\"169.057229\"/>\r\n     <use style=\"fill-opacity:0;stroke:#000000;\" x=\"113.803125\" xlink:href=\"#m557192d1dc\" y=\"172.819489\"/>\r\n     <use style=\"fill-opacity:0;stroke:#000000;\" x=\"113.803125\" xlink:href=\"#m557192d1dc\" y=\"164.566738\"/>\r\n     <use style=\"fill-opacity:0;stroke:#000000;\" x=\"113.803125\" xlink:href=\"#m557192d1dc\" y=\"169.159128\"/>\r\n     <use style=\"fill-opacity:0;stroke:#000000;\" x=\"113.803125\" xlink:href=\"#m557192d1dc\" y=\"210.496007\"/>\r\n     <use style=\"fill-opacity:0;stroke:#000000;\" x=\"113.803125\" xlink:href=\"#m557192d1dc\" y=\"169.249935\"/>\r\n     <use style=\"fill-opacity:0;stroke:#000000;\" x=\"113.803125\" xlink:href=\"#m557192d1dc\" y=\"209.513491\"/>\r\n     <use style=\"fill-opacity:0;stroke:#000000;\" x=\"113.803125\" xlink:href=\"#m557192d1dc\" y=\"196.063991\"/>\r\n     <use style=\"fill-opacity:0;stroke:#000000;\" x=\"113.803125\" xlink:href=\"#m557192d1dc\" y=\"159.555213\"/>\r\n     <use style=\"fill-opacity:0;stroke:#000000;\" x=\"113.803125\" xlink:href=\"#m557192d1dc\" y=\"88.806049\"/>\r\n     <use style=\"fill-opacity:0;stroke:#000000;\" x=\"113.803125\" xlink:href=\"#m557192d1dc\" y=\"53.471296\"/>\r\n     <use style=\"fill-opacity:0;stroke:#000000;\" x=\"113.803125\" xlink:href=\"#m557192d1dc\" y=\"91.365793\"/>\r\n     <use style=\"fill-opacity:0;stroke:#000000;\" x=\"113.803125\" xlink:href=\"#m557192d1dc\" y=\"60.129055\"/>\r\n     <use style=\"fill-opacity:0;stroke:#000000;\" x=\"113.803125\" xlink:href=\"#m557192d1dc\" y=\"23.376859\"/>\r\n     <use style=\"fill-opacity:0;stroke:#000000;\" x=\"113.803125\" xlink:href=\"#m557192d1dc\" y=\"88.093046\"/>\r\n     <use style=\"fill-opacity:0;stroke:#000000;\" x=\"113.803125\" xlink:href=\"#m557192d1dc\" y=\"82.668315\"/>\r\n     <use style=\"fill-opacity:0;stroke:#000000;\" x=\"113.803125\" xlink:href=\"#m557192d1dc\" y=\"90.680652\"/>\r\n     <use style=\"fill-opacity:0;stroke:#000000;\" x=\"113.803125\" xlink:href=\"#m557192d1dc\" y=\"67.612395\"/>\r\n     <use style=\"fill-opacity:0;stroke:#000000;\" x=\"113.803125\" xlink:href=\"#m557192d1dc\" y=\"74.367205\"/>\r\n     <use style=\"fill-opacity:0;stroke:#000000;\" x=\"113.803125\" xlink:href=\"#m557192d1dc\" y=\"61.174233\"/>\r\n     <use style=\"fill-opacity:0;stroke:#000000;\" x=\"113.803125\" xlink:href=\"#m557192d1dc\" y=\"69.671977\"/>\r\n     <use style=\"fill-opacity:0;stroke:#000000;\" x=\"113.803125\" xlink:href=\"#m557192d1dc\" y=\"88.239181\"/>\r\n     <use style=\"fill-opacity:0;stroke:#000000;\" x=\"113.803125\" xlink:href=\"#m557192d1dc\" y=\"44.187914\"/>\r\n     <use style=\"fill-opacity:0;stroke:#000000;\" x=\"113.803125\" xlink:href=\"#m557192d1dc\" y=\"89.640852\"/>\r\n     <use style=\"fill-opacity:0;stroke:#000000;\" x=\"113.803125\" xlink:href=\"#m557192d1dc\" y=\"87.976315\"/>\r\n     <use style=\"fill-opacity:0;stroke:#000000;\" x=\"113.803125\" xlink:href=\"#m557192d1dc\" y=\"37.813228\"/>\r\n     <use style=\"fill-opacity:0;stroke:#000000;\" x=\"113.803125\" xlink:href=\"#m557192d1dc\" y=\"91.171971\"/>\r\n     <use style=\"fill-opacity:0;stroke:#000000;\" x=\"113.803125\" xlink:href=\"#m557192d1dc\" y=\"47.298302\"/>\r\n     <use style=\"fill-opacity:0;stroke:#000000;\" x=\"113.803125\" xlink:href=\"#m557192d1dc\" y=\"77.548725\"/>\r\n    </g>\r\n   </g>\r\n   <g id=\"line2d_26\">\r\n    <path clip-path=\"url(#p0a89c13369)\" d=\"M 155.653125 162.378098 \r\nL 183.553125 162.378098 \r\nL 183.553125 149.411188 \r\nL 155.653125 149.411188 \r\nL 155.653125 162.378098 \r\n\" style=\"fill:none;stroke:#000000;stroke-linecap:square;\"/>\r\n   </g>\r\n   <g id=\"line2d_27\">\r\n    <path clip-path=\"url(#p0a89c13369)\" d=\"M 169.603125 162.378098 \r\nL 169.603125 181.09341 \r\n\" style=\"fill:none;stroke:#000000;stroke-linecap:square;\"/>\r\n   </g>\r\n   <g id=\"line2d_28\">\r\n    <path clip-path=\"url(#p0a89c13369)\" d=\"M 169.603125 149.411188 \r\nL 169.603125 129.974687 \r\n\" style=\"fill:none;stroke:#000000;stroke-linecap:square;\"/>\r\n   </g>\r\n   <g id=\"line2d_29\">\r\n    <path clip-path=\"url(#p0a89c13369)\" d=\"M 162.628125 181.09341 \r\nL 176.578125 181.09341 \r\n\" style=\"fill:none;stroke:#000000;stroke-linecap:square;\"/>\r\n   </g>\r\n   <g id=\"line2d_30\">\r\n    <path clip-path=\"url(#p0a89c13369)\" d=\"M 162.628125 129.974687 \r\nL 176.578125 129.974687 \r\n\" style=\"fill:none;stroke:#000000;stroke-linecap:square;\"/>\r\n   </g>\r\n   <g id=\"line2d_31\">\r\n    <g clip-path=\"url(#p0a89c13369)\">\r\n     <use style=\"fill-opacity:0;stroke:#000000;\" x=\"169.603125\" xlink:href=\"#m557192d1dc\" y=\"182.024015\"/>\r\n     <use style=\"fill-opacity:0;stroke:#000000;\" x=\"169.603125\" xlink:href=\"#m557192d1dc\" y=\"189.497722\"/>\r\n     <use style=\"fill-opacity:0;stroke:#000000;\" x=\"169.603125\" xlink:href=\"#m557192d1dc\" y=\"189.891298\"/>\r\n     <use style=\"fill-opacity:0;stroke:#000000;\" x=\"169.603125\" xlink:href=\"#m557192d1dc\" y=\"191.9321\"/>\r\n     <use style=\"fill-opacity:0;stroke:#000000;\" x=\"169.603125\" xlink:href=\"#m557192d1dc\" y=\"194.55876\"/>\r\n     <use style=\"fill-opacity:0;stroke:#000000;\" x=\"169.603125\" xlink:href=\"#m557192d1dc\" y=\"101.760754\"/>\r\n     <use style=\"fill-opacity:0;stroke:#000000;\" x=\"169.603125\" xlink:href=\"#m557192d1dc\" y=\"78.285397\"/>\r\n     <use style=\"fill-opacity:0;stroke:#000000;\" x=\"169.603125\" xlink:href=\"#m557192d1dc\" y=\"114.126949\"/>\r\n     <use style=\"fill-opacity:0;stroke:#000000;\" x=\"169.603125\" xlink:href=\"#m557192d1dc\" y=\"95.238746\"/>\r\n     <use style=\"fill-opacity:0;stroke:#000000;\" x=\"169.603125\" xlink:href=\"#m557192d1dc\" y=\"119.533\"/>\r\n     <use style=\"fill-opacity:0;stroke:#000000;\" x=\"169.603125\" xlink:href=\"#m557192d1dc\" y=\"106.249026\"/>\r\n     <use style=\"fill-opacity:0;stroke:#000000;\" x=\"169.603125\" xlink:href=\"#m557192d1dc\" y=\"128.786254\"/>\r\n     <use style=\"fill-opacity:0;stroke:#000000;\" x=\"169.603125\" xlink:href=\"#m557192d1dc\" y=\"104.29918\"/>\r\n     <use style=\"fill-opacity:0;stroke:#000000;\" x=\"169.603125\" xlink:href=\"#m557192d1dc\" y=\"121.122731\"/>\r\n     <use style=\"fill-opacity:0;stroke:#000000;\" x=\"169.603125\" xlink:href=\"#m557192d1dc\" y=\"54.692119\"/>\r\n     <use style=\"fill-opacity:0;stroke:#000000;\" x=\"169.603125\" xlink:href=\"#m557192d1dc\" y=\"119.129129\"/>\r\n     <use style=\"fill-opacity:0;stroke:#000000;\" x=\"169.603125\" xlink:href=\"#m557192d1dc\" y=\"114.037768\"/>\r\n     <use style=\"fill-opacity:0;stroke:#000000;\" x=\"169.603125\" xlink:href=\"#m557192d1dc\" y=\"123.736968\"/>\r\n     <use style=\"fill-opacity:0;stroke:#000000;\" x=\"169.603125\" xlink:href=\"#m557192d1dc\" y=\"128.090777\"/>\r\n     <use style=\"fill-opacity:0;stroke:#000000;\" x=\"169.603125\" xlink:href=\"#m557192d1dc\" y=\"129.058247\"/>\r\n     <use style=\"fill-opacity:0;stroke:#000000;\" x=\"169.603125\" xlink:href=\"#m557192d1dc\" y=\"103.181127\"/>\r\n     <use style=\"fill-opacity:0;stroke:#000000;\" x=\"169.603125\" xlink:href=\"#m557192d1dc\" y=\"124.779313\"/>\r\n     <use style=\"fill-opacity:0;stroke:#000000;\" x=\"169.603125\" xlink:href=\"#m557192d1dc\" y=\"63.483256\"/>\r\n     <use style=\"fill-opacity:0;stroke:#000000;\" x=\"169.603125\" xlink:href=\"#m557192d1dc\" y=\"73.651709\"/>\r\n     <use style=\"fill-opacity:0;stroke:#000000;\" x=\"169.603125\" xlink:href=\"#m557192d1dc\" y=\"126.568327\"/>\r\n     <use style=\"fill-opacity:0;stroke:#000000;\" x=\"169.603125\" xlink:href=\"#m557192d1dc\" y=\"128.220916\"/>\r\n     <use style=\"fill-opacity:0;stroke:#000000;\" x=\"169.603125\" xlink:href=\"#m557192d1dc\" y=\"124.630579\"/>\r\n     <use style=\"fill-opacity:0;stroke:#000000;\" x=\"169.603125\" xlink:href=\"#m557192d1dc\" y=\"129.00842\"/>\r\n     <use style=\"fill-opacity:0;stroke:#000000;\" x=\"169.603125\" xlink:href=\"#m557192d1dc\" y=\"24.885464\"/>\r\n     <use style=\"fill-opacity:0;stroke:#000000;\" x=\"169.603125\" xlink:href=\"#m557192d1dc\" y=\"71.646335\"/>\r\n     <use style=\"fill-opacity:0;stroke:#000000;\" x=\"169.603125\" xlink:href=\"#m557192d1dc\" y=\"55.815829\"/>\r\n     <use style=\"fill-opacity:0;stroke:#000000;\" x=\"169.603125\" xlink:href=\"#m557192d1dc\" y=\"59.081768\"/>\r\n     <use style=\"fill-opacity:0;stroke:#000000;\" x=\"169.603125\" xlink:href=\"#m557192d1dc\" y=\"56.391063\"/>\r\n     <use style=\"fill-opacity:0;stroke:#000000;\" x=\"169.603125\" xlink:href=\"#m557192d1dc\" y=\"118.21619\"/>\r\n     <use style=\"fill-opacity:0;stroke:#000000;\" x=\"169.603125\" xlink:href=\"#m557192d1dc\" y=\"118.752642\"/>\r\n     <use style=\"fill-opacity:0;stroke:#000000;\" x=\"169.603125\" xlink:href=\"#m557192d1dc\" y=\"119.091823\"/>\r\n     <use style=\"fill-opacity:0;stroke:#000000;\" x=\"169.603125\" xlink:href=\"#m557192d1dc\" y=\"119.194002\"/>\r\n     <use style=\"fill-opacity:0;stroke:#000000;\" x=\"169.603125\" xlink:href=\"#m557192d1dc\" y=\"119.449495\"/>\r\n     <use style=\"fill-opacity:0;stroke:#000000;\" x=\"169.603125\" xlink:href=\"#m557192d1dc\" y=\"129.081908\"/>\r\n     <use style=\"fill-opacity:0;stroke:#000000;\" x=\"169.603125\" xlink:href=\"#m557192d1dc\" y=\"126.132076\"/>\r\n     <use style=\"fill-opacity:0;stroke:#000000;\" x=\"169.603125\" xlink:href=\"#m557192d1dc\" y=\"123.819127\"/>\r\n     <use style=\"fill-opacity:0;stroke:#000000;\" x=\"169.603125\" xlink:href=\"#m557192d1dc\" y=\"123.298259\"/>\r\n     <use style=\"fill-opacity:0;stroke:#000000;\" x=\"169.603125\" xlink:href=\"#m557192d1dc\" y=\"123.085496\"/>\r\n     <use style=\"fill-opacity:0;stroke:#000000;\" x=\"169.603125\" xlink:href=\"#m557192d1dc\" y=\"118.524379\"/>\r\n     <use style=\"fill-opacity:0;stroke:#000000;\" x=\"169.603125\" xlink:href=\"#m557192d1dc\" y=\"69.526513\"/>\r\n     <use style=\"fill-opacity:0;stroke:#000000;\" x=\"169.603125\" xlink:href=\"#m557192d1dc\" y=\"125.633276\"/>\r\n     <use style=\"fill-opacity:0;stroke:#000000;\" x=\"169.603125\" xlink:href=\"#m557192d1dc\" y=\"128.627364\"/>\r\n     <use style=\"fill-opacity:0;stroke:#000000;\" x=\"169.603125\" xlink:href=\"#m557192d1dc\" y=\"128.364712\"/>\r\n     <use style=\"fill-opacity:0;stroke:#000000;\" x=\"169.603125\" xlink:href=\"#m557192d1dc\" y=\"126.764775\"/>\r\n     <use style=\"fill-opacity:0;stroke:#000000;\" x=\"169.603125\" xlink:href=\"#m557192d1dc\" y=\"125.372073\"/>\r\n     <use style=\"fill-opacity:0;stroke:#000000;\" x=\"169.603125\" xlink:href=\"#m557192d1dc\" y=\"125.450736\"/>\r\n     <use style=\"fill-opacity:0;stroke:#000000;\" x=\"169.603125\" xlink:href=\"#m557192d1dc\" y=\"125.580828\"/>\r\n     <use style=\"fill-opacity:0;stroke:#000000;\" x=\"169.603125\" xlink:href=\"#m557192d1dc\" y=\"125.250804\"/>\r\n     <use style=\"fill-opacity:0;stroke:#000000;\" x=\"169.603125\" xlink:href=\"#m557192d1dc\" y=\"120.688902\"/>\r\n     <use style=\"fill-opacity:0;stroke:#000000;\" x=\"169.603125\" xlink:href=\"#m557192d1dc\" y=\"121.17044\"/>\r\n     <use style=\"fill-opacity:0;stroke:#000000;\" x=\"169.603125\" xlink:href=\"#m557192d1dc\" y=\"121.54911\"/>\r\n     <use style=\"fill-opacity:0;stroke:#000000;\" x=\"169.603125\" xlink:href=\"#m557192d1dc\" y=\"123.526679\"/>\r\n     <use style=\"fill-opacity:0;stroke:#000000;\" x=\"169.603125\" xlink:href=\"#m557192d1dc\" y=\"124.088695\"/>\r\n     <use style=\"fill-opacity:0;stroke:#000000;\" x=\"169.603125\" xlink:href=\"#m557192d1dc\" y=\"125.388122\"/>\r\n     <use style=\"fill-opacity:0;stroke:#000000;\" x=\"169.603125\" xlink:href=\"#m557192d1dc\" y=\"42.251991\"/>\r\n     <use style=\"fill-opacity:0;stroke:#000000;\" x=\"169.603125\" xlink:href=\"#m557192d1dc\" y=\"128.913907\"/>\r\n     <use style=\"fill-opacity:0;stroke:#000000;\" x=\"169.603125\" xlink:href=\"#m557192d1dc\" y=\"115.29965\"/>\r\n     <use style=\"fill-opacity:0;stroke:#000000;\" x=\"169.603125\" xlink:href=\"#m557192d1dc\" y=\"124.383293\"/>\r\n     <use style=\"fill-opacity:0;stroke:#000000;\" x=\"169.603125\" xlink:href=\"#m557192d1dc\" y=\"129.714512\"/>\r\n     <use style=\"fill-opacity:0;stroke:#000000;\" x=\"169.603125\" xlink:href=\"#m557192d1dc\" y=\"129.087332\"/>\r\n     <use style=\"fill-opacity:0;stroke:#000000;\" x=\"169.603125\" xlink:href=\"#m557192d1dc\" y=\"126.156354\"/>\r\n     <use style=\"fill-opacity:0;stroke:#000000;\" x=\"169.603125\" xlink:href=\"#m557192d1dc\" y=\"107.626881\"/>\r\n     <use style=\"fill-opacity:0;stroke:#000000;\" x=\"169.603125\" xlink:href=\"#m557192d1dc\" y=\"128.743204\"/>\r\n     <use style=\"fill-opacity:0;stroke:#000000;\" x=\"169.603125\" xlink:href=\"#m557192d1dc\" y=\"128.295745\"/>\r\n     <use style=\"fill-opacity:0;stroke:#000000;\" x=\"169.603125\" xlink:href=\"#m557192d1dc\" y=\"125.780887\"/>\r\n     <use style=\"fill-opacity:0;stroke:#000000;\" x=\"169.603125\" xlink:href=\"#m557192d1dc\" y=\"126.645946\"/>\r\n     <use style=\"fill-opacity:0;stroke:#000000;\" x=\"169.603125\" xlink:href=\"#m557192d1dc\" y=\"129.735708\"/>\r\n     <use style=\"fill-opacity:0;stroke:#000000;\" x=\"169.603125\" xlink:href=\"#m557192d1dc\" y=\"128.997089\"/>\r\n     <use style=\"fill-opacity:0;stroke:#000000;\" x=\"169.603125\" xlink:href=\"#m557192d1dc\" y=\"126.145111\"/>\r\n     <use style=\"fill-opacity:0;stroke:#000000;\" x=\"169.603125\" xlink:href=\"#m557192d1dc\" y=\"128.360335\"/>\r\n     <use style=\"fill-opacity:0;stroke:#000000;\" x=\"169.603125\" xlink:href=\"#m557192d1dc\" y=\"128.195449\"/>\r\n     <use style=\"fill-opacity:0;stroke:#000000;\" x=\"169.603125\" xlink:href=\"#m557192d1dc\" y=\"128.025119\"/>\r\n     <use style=\"fill-opacity:0;stroke:#000000;\" x=\"169.603125\" xlink:href=\"#m557192d1dc\" y=\"127.947493\"/>\r\n     <use style=\"fill-opacity:0;stroke:#000000;\" x=\"169.603125\" xlink:href=\"#m557192d1dc\" y=\"126.712785\"/>\r\n     <use style=\"fill-opacity:0;stroke:#000000;\" x=\"169.603125\" xlink:href=\"#m557192d1dc\" y=\"128.259486\"/>\r\n     <use style=\"fill-opacity:0;stroke:#000000;\" x=\"169.603125\" xlink:href=\"#m557192d1dc\" y=\"129.748662\"/>\r\n     <use style=\"fill-opacity:0;stroke:#000000;\" x=\"169.603125\" xlink:href=\"#m557192d1dc\" y=\"113.426628\"/>\r\n     <use style=\"fill-opacity:0;stroke:#000000;\" x=\"169.603125\" xlink:href=\"#m557192d1dc\" y=\"111.648105\"/>\r\n    </g>\r\n   </g>\r\n   <g id=\"line2d_32\">\r\n    <path clip-path=\"url(#p0a89c13369)\" d=\"M 211.453125 162.481467 \r\nL 239.353125 162.481467 \r\nL 239.353125 148.481609 \r\nL 211.453125 148.481609 \r\nL 211.453125 162.481467 \r\n\" style=\"fill:none;stroke:#000000;stroke-linecap:square;\"/>\r\n   </g>\r\n   <g id=\"line2d_33\">\r\n    <path clip-path=\"url(#p0a89c13369)\" d=\"M 225.403125 162.481467 \r\nL 225.403125 182.105671 \r\n\" style=\"fill:none;stroke:#000000;stroke-linecap:square;\"/>\r\n   </g>\r\n   <g id=\"line2d_34\">\r\n    <path clip-path=\"url(#p0a89c13369)\" d=\"M 225.403125 148.481609 \r\nL 225.403125 127.546103 \r\n\" style=\"fill:none;stroke:#000000;stroke-linecap:square;\"/>\r\n   </g>\r\n   <g id=\"line2d_35\">\r\n    <path clip-path=\"url(#p0a89c13369)\" d=\"M 218.428125 182.105671 \r\nL 232.378125 182.105671 \r\n\" style=\"fill:none;stroke:#000000;stroke-linecap:square;\"/>\r\n   </g>\r\n   <g id=\"line2d_36\">\r\n    <path clip-path=\"url(#p0a89c13369)\" d=\"M 218.428125 127.546103 \r\nL 232.378125 127.546103 \r\n\" style=\"fill:none;stroke:#000000;stroke-linecap:square;\"/>\r\n   </g>\r\n   <g id=\"line2d_37\">\r\n    <g clip-path=\"url(#p0a89c13369)\">\r\n     <use style=\"fill-opacity:0;stroke:#000000;\" x=\"225.403125\" xlink:href=\"#m557192d1dc\" y=\"187.339021\"/>\r\n     <use style=\"fill-opacity:0;stroke:#000000;\" x=\"225.403125\" xlink:href=\"#m557192d1dc\" y=\"190.653198\"/>\r\n     <use style=\"fill-opacity:0;stroke:#000000;\" x=\"225.403125\" xlink:href=\"#m557192d1dc\" y=\"200.337706\"/>\r\n     <use style=\"fill-opacity:0;stroke:#000000;\" x=\"225.403125\" xlink:href=\"#m557192d1dc\" y=\"213.982966\"/>\r\n     <use style=\"fill-opacity:0;stroke:#000000;\" x=\"225.403125\" xlink:href=\"#m557192d1dc\" y=\"194.752029\"/>\r\n     <use style=\"fill-opacity:0;stroke:#000000;\" x=\"225.403125\" xlink:href=\"#m557192d1dc\" y=\"195.973086\"/>\r\n     <use style=\"fill-opacity:0;stroke:#000000;\" x=\"225.403125\" xlink:href=\"#m557192d1dc\" y=\"112.430544\"/>\r\n     <use style=\"fill-opacity:0;stroke:#000000;\" x=\"225.403125\" xlink:href=\"#m557192d1dc\" y=\"84.635484\"/>\r\n     <use style=\"fill-opacity:0;stroke:#000000;\" x=\"225.403125\" xlink:href=\"#m557192d1dc\" y=\"112.255398\"/>\r\n     <use style=\"fill-opacity:0;stroke:#000000;\" x=\"225.403125\" xlink:href=\"#m557192d1dc\" y=\"97.619271\"/>\r\n     <use style=\"fill-opacity:0;stroke:#000000;\" x=\"225.403125\" xlink:href=\"#m557192d1dc\" y=\"119.041383\"/>\r\n     <use style=\"fill-opacity:0;stroke:#000000;\" x=\"225.403125\" xlink:href=\"#m557192d1dc\" y=\"107.100753\"/>\r\n     <use style=\"fill-opacity:0;stroke:#000000;\" x=\"225.403125\" xlink:href=\"#m557192d1dc\" y=\"104.335405\"/>\r\n     <use style=\"fill-opacity:0;stroke:#000000;\" x=\"225.403125\" xlink:href=\"#m557192d1dc\" y=\"94.147183\"/>\r\n     <use style=\"fill-opacity:0;stroke:#000000;\" x=\"225.403125\" xlink:href=\"#m557192d1dc\" y=\"93.562009\"/>\r\n     <use style=\"fill-opacity:0;stroke:#000000;\" x=\"225.403125\" xlink:href=\"#m557192d1dc\" y=\"82.350781\"/>\r\n     <use style=\"fill-opacity:0;stroke:#000000;\" x=\"225.403125\" xlink:href=\"#m557192d1dc\" y=\"126.782166\"/>\r\n     <use style=\"fill-opacity:0;stroke:#000000;\" x=\"225.403125\" xlink:href=\"#m557192d1dc\" y=\"120.647581\"/>\r\n     <use style=\"fill-opacity:0;stroke:#000000;\" x=\"225.403125\" xlink:href=\"#m557192d1dc\" y=\"121.175028\"/>\r\n     <use style=\"fill-opacity:0;stroke:#000000;\" x=\"225.403125\" xlink:href=\"#m557192d1dc\" y=\"102.424297\"/>\r\n     <use style=\"fill-opacity:0;stroke:#000000;\" x=\"225.403125\" xlink:href=\"#m557192d1dc\" y=\"71.761544\"/>\r\n     <use style=\"fill-opacity:0;stroke:#000000;\" x=\"225.403125\" xlink:href=\"#m557192d1dc\" y=\"107.267792\"/>\r\n     <use style=\"fill-opacity:0;stroke:#000000;\" x=\"225.403125\" xlink:href=\"#m557192d1dc\" y=\"79.834426\"/>\r\n     <use style=\"fill-opacity:0;stroke:#000000;\" x=\"225.403125\" xlink:href=\"#m557192d1dc\" y=\"93.648138\"/>\r\n     <use style=\"fill-opacity:0;stroke:#000000;\" x=\"225.403125\" xlink:href=\"#m557192d1dc\" y=\"117.418416\"/>\r\n     <use style=\"fill-opacity:0;stroke:#000000;\" x=\"225.403125\" xlink:href=\"#m557192d1dc\" y=\"123.763174\"/>\r\n     <use style=\"fill-opacity:0;stroke:#000000;\" x=\"225.403125\" xlink:href=\"#m557192d1dc\" y=\"120.486825\"/>\r\n     <use style=\"fill-opacity:0;stroke:#000000;\" x=\"225.403125\" xlink:href=\"#m557192d1dc\" y=\"17.083636\"/>\r\n     <use style=\"fill-opacity:0;stroke:#000000;\" x=\"225.403125\" xlink:href=\"#m557192d1dc\" y=\"70.049179\"/>\r\n     <use style=\"fill-opacity:0;stroke:#000000;\" x=\"225.403125\" xlink:href=\"#m557192d1dc\" y=\"62.995347\"/>\r\n     <use style=\"fill-opacity:0;stroke:#000000;\" x=\"225.403125\" xlink:href=\"#m557192d1dc\" y=\"73.476586\"/>\r\n     <use style=\"fill-opacity:0;stroke:#000000;\" x=\"225.403125\" xlink:href=\"#m557192d1dc\" y=\"56.92689\"/>\r\n     <use style=\"fill-opacity:0;stroke:#000000;\" x=\"225.403125\" xlink:href=\"#m557192d1dc\" y=\"116.9273\"/>\r\n     <use style=\"fill-opacity:0;stroke:#000000;\" x=\"225.403125\" xlink:href=\"#m557192d1dc\" y=\"117.594896\"/>\r\n     <use style=\"fill-opacity:0;stroke:#000000;\" x=\"225.403125\" xlink:href=\"#m557192d1dc\" y=\"117.802907\"/>\r\n     <use style=\"fill-opacity:0;stroke:#000000;\" x=\"225.403125\" xlink:href=\"#m557192d1dc\" y=\"117.5201\"/>\r\n     <use style=\"fill-opacity:0;stroke:#000000;\" x=\"225.403125\" xlink:href=\"#m557192d1dc\" y=\"117.634602\"/>\r\n     <use style=\"fill-opacity:0;stroke:#000000;\" x=\"225.403125\" xlink:href=\"#m557192d1dc\" y=\"123.803727\"/>\r\n     <use style=\"fill-opacity:0;stroke:#000000;\" x=\"225.403125\" xlink:href=\"#m557192d1dc\" y=\"120.613041\"/>\r\n     <use style=\"fill-opacity:0;stroke:#000000;\" x=\"225.403125\" xlink:href=\"#m557192d1dc\" y=\"120.364096\"/>\r\n     <use style=\"fill-opacity:0;stroke:#000000;\" x=\"225.403125\" xlink:href=\"#m557192d1dc\" y=\"120.563628\"/>\r\n     <use style=\"fill-opacity:0;stroke:#000000;\" x=\"225.403125\" xlink:href=\"#m557192d1dc\" y=\"77.180291\"/>\r\n     <use style=\"fill-opacity:0;stroke:#000000;\" x=\"225.403125\" xlink:href=\"#m557192d1dc\" y=\"72.838667\"/>\r\n     <use style=\"fill-opacity:0;stroke:#000000;\" x=\"225.403125\" xlink:href=\"#m557192d1dc\" y=\"124.181526\"/>\r\n     <use style=\"fill-opacity:0;stroke:#000000;\" x=\"225.403125\" xlink:href=\"#m557192d1dc\" y=\"126.539205\"/>\r\n     <use style=\"fill-opacity:0;stroke:#000000;\" x=\"225.403125\" xlink:href=\"#m557192d1dc\" y=\"127.15828\"/>\r\n     <use style=\"fill-opacity:0;stroke:#000000;\" x=\"225.403125\" xlink:href=\"#m557192d1dc\" y=\"127.227962\"/>\r\n     <use style=\"fill-opacity:0;stroke:#000000;\" x=\"225.403125\" xlink:href=\"#m557192d1dc\" y=\"125.686184\"/>\r\n     <use style=\"fill-opacity:0;stroke:#000000;\" x=\"225.403125\" xlink:href=\"#m557192d1dc\" y=\"117.699248\"/>\r\n     <use style=\"fill-opacity:0;stroke:#000000;\" x=\"225.403125\" xlink:href=\"#m557192d1dc\" y=\"113.66359\"/>\r\n     <use style=\"fill-opacity:0;stroke:#000000;\" x=\"225.403125\" xlink:href=\"#m557192d1dc\" y=\"113.841057\"/>\r\n     <use style=\"fill-opacity:0;stroke:#000000;\" x=\"225.403125\" xlink:href=\"#m557192d1dc\" y=\"121.278846\"/>\r\n     <use style=\"fill-opacity:0;stroke:#000000;\" x=\"225.403125\" xlink:href=\"#m557192d1dc\" y=\"81.72408\"/>\r\n     <use style=\"fill-opacity:0;stroke:#000000;\" x=\"225.403125\" xlink:href=\"#m557192d1dc\" y=\"91.49885\"/>\r\n     <use style=\"fill-opacity:0;stroke:#000000;\" x=\"225.403125\" xlink:href=\"#m557192d1dc\" y=\"106.782487\"/>\r\n     <use style=\"fill-opacity:0;stroke:#000000;\" x=\"225.403125\" xlink:href=\"#m557192d1dc\" y=\"101.064622\"/>\r\n     <use style=\"fill-opacity:0;stroke:#000000;\" x=\"225.403125\" xlink:href=\"#m557192d1dc\" y=\"108.373634\"/>\r\n     <use style=\"fill-opacity:0;stroke:#000000;\" x=\"225.403125\" xlink:href=\"#m557192d1dc\" y=\"122.910089\"/>\r\n     <use style=\"fill-opacity:0;stroke:#000000;\" x=\"225.403125\" xlink:href=\"#m557192d1dc\" y=\"50.530962\"/>\r\n     <use style=\"fill-opacity:0;stroke:#000000;\" x=\"225.403125\" xlink:href=\"#m557192d1dc\" y=\"101.202874\"/>\r\n     <use style=\"fill-opacity:0;stroke:#000000;\" x=\"225.403125\" xlink:href=\"#m557192d1dc\" y=\"111.433647\"/>\r\n     <use style=\"fill-opacity:0;stroke:#000000;\" x=\"225.403125\" xlink:href=\"#m557192d1dc\" y=\"80.567448\"/>\r\n     <use style=\"fill-opacity:0;stroke:#000000;\" x=\"225.403125\" xlink:href=\"#m557192d1dc\" y=\"126.699576\"/>\r\n     <use style=\"fill-opacity:0;stroke:#000000;\" x=\"225.403125\" xlink:href=\"#m557192d1dc\" y=\"124.341275\"/>\r\n     <use style=\"fill-opacity:0;stroke:#000000;\" x=\"225.403125\" xlink:href=\"#m557192d1dc\" y=\"127.399425\"/>\r\n     <use style=\"fill-opacity:0;stroke:#000000;\" x=\"225.403125\" xlink:href=\"#m557192d1dc\" y=\"127.030514\"/>\r\n     <use style=\"fill-opacity:0;stroke:#000000;\" x=\"225.403125\" xlink:href=\"#m557192d1dc\" y=\"125.976029\"/>\r\n     <use style=\"fill-opacity:0;stroke:#000000;\" x=\"225.403125\" xlink:href=\"#m557192d1dc\" y=\"122.648361\"/>\r\n     <use style=\"fill-opacity:0;stroke:#000000;\" x=\"225.403125\" xlink:href=\"#m557192d1dc\" y=\"125.765182\"/>\r\n     <use style=\"fill-opacity:0;stroke:#000000;\" x=\"225.403125\" xlink:href=\"#m557192d1dc\" y=\"127.066253\"/>\r\n     <use style=\"fill-opacity:0;stroke:#000000;\" x=\"225.403125\" xlink:href=\"#m557192d1dc\" y=\"124.419739\"/>\r\n     <use style=\"fill-opacity:0;stroke:#000000;\" x=\"225.403125\" xlink:href=\"#m557192d1dc\" y=\"125.973111\"/>\r\n     <use style=\"fill-opacity:0;stroke:#000000;\" x=\"225.403125\" xlink:href=\"#m557192d1dc\" y=\"125.465861\"/>\r\n     <use style=\"fill-opacity:0;stroke:#000000;\" x=\"225.403125\" xlink:href=\"#m557192d1dc\" y=\"125.626713\"/>\r\n     <use style=\"fill-opacity:0;stroke:#000000;\" x=\"225.403125\" xlink:href=\"#m557192d1dc\" y=\"126.666475\"/>\r\n     <use style=\"fill-opacity:0;stroke:#000000;\" x=\"225.403125\" xlink:href=\"#m557192d1dc\" y=\"112.507655\"/>\r\n     <use style=\"fill-opacity:0;stroke:#000000;\" x=\"225.403125\" xlink:href=\"#m557192d1dc\" y=\"107.275668\"/>\r\n     <use style=\"fill-opacity:0;stroke:#000000;\" x=\"225.403125\" xlink:href=\"#m557192d1dc\" y=\"124.348228\"/>\r\n     <use style=\"fill-opacity:0;stroke:#000000;\" x=\"225.403125\" xlink:href=\"#m557192d1dc\" y=\"126.175446\"/>\r\n    </g>\r\n   </g>\r\n   <g id=\"line2d_38\">\r\n    <path clip-path=\"url(#p0a89c13369)\" d=\"M 267.253125 163.094846 \r\nL 295.153125 163.094846 \r\nL 295.153125 149.860894 \r\nL 267.253125 149.860894 \r\nL 267.253125 163.094846 \r\n\" style=\"fill:none;stroke:#000000;stroke-linecap:square;\"/>\r\n   </g>\r\n   <g id=\"line2d_39\">\r\n    <path clip-path=\"url(#p0a89c13369)\" d=\"M 281.203125 163.094846 \r\nL 281.203125 182.592902 \r\n\" style=\"fill:none;stroke:#000000;stroke-linecap:square;\"/>\r\n   </g>\r\n   <g id=\"line2d_40\">\r\n    <path clip-path=\"url(#p0a89c13369)\" d=\"M 281.203125 149.860894 \r\nL 281.203125 130.077128 \r\n\" style=\"fill:none;stroke:#000000;stroke-linecap:square;\"/>\r\n   </g>\r\n   <g id=\"line2d_41\">\r\n    <path clip-path=\"url(#p0a89c13369)\" d=\"M 274.228125 182.592902 \r\nL 288.178125 182.592902 \r\n\" style=\"fill:none;stroke:#000000;stroke-linecap:square;\"/>\r\n   </g>\r\n   <g id=\"line2d_42\">\r\n    <path clip-path=\"url(#p0a89c13369)\" d=\"M 274.228125 130.077128 \r\nL 288.178125 130.077128 \r\n\" style=\"fill:none;stroke:#000000;stroke-linecap:square;\"/>\r\n   </g>\r\n   <g id=\"line2d_43\">\r\n    <g clip-path=\"url(#p0a89c13369)\">\r\n     <use style=\"fill-opacity:0;stroke:#000000;\" x=\"281.203125\" xlink:href=\"#m557192d1dc\" y=\"185.878268\"/>\r\n     <use style=\"fill-opacity:0;stroke:#000000;\" x=\"281.203125\" xlink:href=\"#m557192d1dc\" y=\"184.119129\"/>\r\n     <use style=\"fill-opacity:0;stroke:#000000;\" x=\"281.203125\" xlink:href=\"#m557192d1dc\" y=\"196.068309\"/>\r\n     <use style=\"fill-opacity:0;stroke:#000000;\" x=\"281.203125\" xlink:href=\"#m557192d1dc\" y=\"188.3443\"/>\r\n     <use style=\"fill-opacity:0;stroke:#000000;\" x=\"281.203125\" xlink:href=\"#m557192d1dc\" y=\"186.232042\"/>\r\n     <use style=\"fill-opacity:0;stroke:#000000;\" x=\"281.203125\" xlink:href=\"#m557192d1dc\" y=\"189.112171\"/>\r\n     <use style=\"fill-opacity:0;stroke:#000000;\" x=\"281.203125\" xlink:href=\"#m557192d1dc\" y=\"193.144435\"/>\r\n     <use style=\"fill-opacity:0;stroke:#000000;\" x=\"281.203125\" xlink:href=\"#m557192d1dc\" y=\"91.090964\"/>\r\n     <use style=\"fill-opacity:0;stroke:#000000;\" x=\"281.203125\" xlink:href=\"#m557192d1dc\" y=\"71.935309\"/>\r\n     <use style=\"fill-opacity:0;stroke:#000000;\" x=\"281.203125\" xlink:href=\"#m557192d1dc\" y=\"115.9985\"/>\r\n     <use style=\"fill-opacity:0;stroke:#000000;\" x=\"281.203125\" xlink:href=\"#m557192d1dc\" y=\"92.858221\"/>\r\n     <use style=\"fill-opacity:0;stroke:#000000;\" x=\"281.203125\" xlink:href=\"#m557192d1dc\" y=\"120.024616\"/>\r\n     <use style=\"fill-opacity:0;stroke:#000000;\" x=\"281.203125\" xlink:href=\"#m557192d1dc\" y=\"105.3973\"/>\r\n     <use style=\"fill-opacity:0;stroke:#000000;\" x=\"281.203125\" xlink:href=\"#m557192d1dc\" y=\"114.451176\"/>\r\n     <use style=\"fill-opacity:0;stroke:#000000;\" x=\"281.203125\" xlink:href=\"#m557192d1dc\" y=\"27.033457\"/>\r\n     <use style=\"fill-opacity:0;stroke:#000000;\" x=\"281.203125\" xlink:href=\"#m557192d1dc\" y=\"111.476093\"/>\r\n     <use style=\"fill-opacity:0;stroke:#000000;\" x=\"281.203125\" xlink:href=\"#m557192d1dc\" y=\"107.427955\"/>\r\n     <use style=\"fill-opacity:0;stroke:#000000;\" x=\"281.203125\" xlink:href=\"#m557192d1dc\" y=\"126.298907\"/>\r\n     <use style=\"fill-opacity:0;stroke:#000000;\" x=\"281.203125\" xlink:href=\"#m557192d1dc\" y=\"128.899754\"/>\r\n     <use style=\"fill-opacity:0;stroke:#000000;\" x=\"281.203125\" xlink:href=\"#m557192d1dc\" y=\"115.368728\"/>\r\n     <use style=\"fill-opacity:0;stroke:#000000;\" x=\"281.203125\" xlink:href=\"#m557192d1dc\" y=\"47.132087\"/>\r\n     <use style=\"fill-opacity:0;stroke:#000000;\" x=\"281.203125\" xlink:href=\"#m557192d1dc\" y=\"53.655279\"/>\r\n     <use style=\"fill-opacity:0;stroke:#000000;\" x=\"281.203125\" xlink:href=\"#m557192d1dc\" y=\"121.961791\"/>\r\n     <use style=\"fill-opacity:0;stroke:#000000;\" x=\"281.203125\" xlink:href=\"#m557192d1dc\" y=\"123.432322\"/>\r\n     <use style=\"fill-opacity:0;stroke:#000000;\" x=\"281.203125\" xlink:href=\"#m557192d1dc\" y=\"122.84461\"/>\r\n     <use style=\"fill-opacity:0;stroke:#000000;\" x=\"281.203125\" xlink:href=\"#m557192d1dc\" y=\"125.497985\"/>\r\n     <use style=\"fill-opacity:0;stroke:#000000;\" x=\"281.203125\" xlink:href=\"#m557192d1dc\" y=\"32.687292\"/>\r\n     <use style=\"fill-opacity:0;stroke:#000000;\" x=\"281.203125\" xlink:href=\"#m557192d1dc\" y=\"73.243491\"/>\r\n     <use style=\"fill-opacity:0;stroke:#000000;\" x=\"281.203125\" xlink:href=\"#m557192d1dc\" y=\"48.636311\"/>\r\n     <use style=\"fill-opacity:0;stroke:#000000;\" x=\"281.203125\" xlink:href=\"#m557192d1dc\" y=\"44.68695\"/>\r\n     <use style=\"fill-opacity:0;stroke:#000000;\" x=\"281.203125\" xlink:href=\"#m557192d1dc\" y=\"55.855236\"/>\r\n     <use style=\"fill-opacity:0;stroke:#000000;\" x=\"281.203125\" xlink:href=\"#m557192d1dc\" y=\"119.505079\"/>\r\n     <use style=\"fill-opacity:0;stroke:#000000;\" x=\"281.203125\" xlink:href=\"#m557192d1dc\" y=\"119.910389\"/>\r\n     <use style=\"fill-opacity:0;stroke:#000000;\" x=\"281.203125\" xlink:href=\"#m557192d1dc\" y=\"120.38074\"/>\r\n     <use style=\"fill-opacity:0;stroke:#000000;\" x=\"281.203125\" xlink:href=\"#m557192d1dc\" y=\"120.867903\"/>\r\n     <use style=\"fill-opacity:0;stroke:#000000;\" x=\"281.203125\" xlink:href=\"#m557192d1dc\" y=\"121.264387\"/>\r\n     <use style=\"fill-opacity:0;stroke:#000000;\" x=\"281.203125\" xlink:href=\"#m557192d1dc\" y=\"129.509864\"/>\r\n     <use style=\"fill-opacity:0;stroke:#000000;\" x=\"281.203125\" xlink:href=\"#m557192d1dc\" y=\"128.460424\"/>\r\n     <use style=\"fill-opacity:0;stroke:#000000;\" x=\"281.203125\" xlink:href=\"#m557192d1dc\" y=\"127.025213\"/>\r\n     <use style=\"fill-opacity:0;stroke:#000000;\" x=\"281.203125\" xlink:href=\"#m557192d1dc\" y=\"126.232422\"/>\r\n     <use style=\"fill-opacity:0;stroke:#000000;\" x=\"281.203125\" xlink:href=\"#m557192d1dc\" y=\"125.607363\"/>\r\n     <use style=\"fill-opacity:0;stroke:#000000;\" x=\"281.203125\" xlink:href=\"#m557192d1dc\" y=\"66.214358\"/>\r\n     <use style=\"fill-opacity:0;stroke:#000000;\" x=\"281.203125\" xlink:href=\"#m557192d1dc\" y=\"127.085025\"/>\r\n     <use style=\"fill-opacity:0;stroke:#000000;\" x=\"281.203125\" xlink:href=\"#m557192d1dc\" y=\"129.239556\"/>\r\n     <use style=\"fill-opacity:0;stroke:#000000;\" x=\"281.203125\" xlink:href=\"#m557192d1dc\" y=\"127.794345\"/>\r\n     <use style=\"fill-opacity:0;stroke:#000000;\" x=\"281.203125\" xlink:href=\"#m557192d1dc\" y=\"126.990346\"/>\r\n     <use style=\"fill-opacity:0;stroke:#000000;\" x=\"281.203125\" xlink:href=\"#m557192d1dc\" y=\"123.585865\"/>\r\n     <use style=\"fill-opacity:0;stroke:#000000;\" x=\"281.203125\" xlink:href=\"#m557192d1dc\" y=\"123.164956\"/>\r\n     <use style=\"fill-opacity:0;stroke:#000000;\" x=\"281.203125\" xlink:href=\"#m557192d1dc\" y=\"123.933693\"/>\r\n     <use style=\"fill-opacity:0;stroke:#000000;\" x=\"281.203125\" xlink:href=\"#m557192d1dc\" y=\"124.815425\"/>\r\n     <use style=\"fill-opacity:0;stroke:#000000;\" x=\"281.203125\" xlink:href=\"#m557192d1dc\" y=\"123.678557\"/>\r\n     <use style=\"fill-opacity:0;stroke:#000000;\" x=\"281.203125\" xlink:href=\"#m557192d1dc\" y=\"129.896314\"/>\r\n     <use style=\"fill-opacity:0;stroke:#000000;\" x=\"281.203125\" xlink:href=\"#m557192d1dc\" y=\"124.762488\"/>\r\n     <use style=\"fill-opacity:0;stroke:#000000;\" x=\"281.203125\" xlink:href=\"#m557192d1dc\" y=\"118.866453\"/>\r\n     <use style=\"fill-opacity:0;stroke:#000000;\" x=\"281.203125\" xlink:href=\"#m557192d1dc\" y=\"33.973019\"/>\r\n     <use style=\"fill-opacity:0;stroke:#000000;\" x=\"281.203125\" xlink:href=\"#m557192d1dc\" y=\"129.251776\"/>\r\n     <use style=\"fill-opacity:0;stroke:#000000;\" x=\"281.203125\" xlink:href=\"#m557192d1dc\" y=\"129.396426\"/>\r\n     <use style=\"fill-opacity:0;stroke:#000000;\" x=\"281.203125\" xlink:href=\"#m557192d1dc\" y=\"127.902982\"/>\r\n     <use style=\"fill-opacity:0;stroke:#000000;\" x=\"281.203125\" xlink:href=\"#m557192d1dc\" y=\"118.575178\"/>\r\n     <use style=\"fill-opacity:0;stroke:#000000;\" x=\"281.203125\" xlink:href=\"#m557192d1dc\" y=\"129.7315\"/>\r\n     <use style=\"fill-opacity:0;stroke:#000000;\" x=\"281.203125\" xlink:href=\"#m557192d1dc\" y=\"128.192991\"/>\r\n     <use style=\"fill-opacity:0;stroke:#000000;\" x=\"281.203125\" xlink:href=\"#m557192d1dc\" y=\"127.72084\"/>\r\n     <use style=\"fill-opacity:0;stroke:#000000;\" x=\"281.203125\" xlink:href=\"#m557192d1dc\" y=\"129.891914\"/>\r\n     <use style=\"fill-opacity:0;stroke:#000000;\" x=\"281.203125\" xlink:href=\"#m557192d1dc\" y=\"127.220499\"/>\r\n     <use style=\"fill-opacity:0;stroke:#000000;\" x=\"281.203125\" xlink:href=\"#m557192d1dc\" y=\"125.892466\"/>\r\n     <use style=\"fill-opacity:0;stroke:#000000;\" x=\"281.203125\" xlink:href=\"#m557192d1dc\" y=\"129.654774\"/>\r\n     <use style=\"fill-opacity:0;stroke:#000000;\" x=\"281.203125\" xlink:href=\"#m557192d1dc\" y=\"127.760474\"/>\r\n     <use style=\"fill-opacity:0;stroke:#000000;\" x=\"281.203125\" xlink:href=\"#m557192d1dc\" y=\"127.064645\"/>\r\n     <use style=\"fill-opacity:0;stroke:#000000;\" x=\"281.203125\" xlink:href=\"#m557192d1dc\" y=\"125.794421\"/>\r\n     <use style=\"fill-opacity:0;stroke:#000000;\" x=\"281.203125\" xlink:href=\"#m557192d1dc\" y=\"125.276382\"/>\r\n     <use style=\"fill-opacity:0;stroke:#000000;\" x=\"281.203125\" xlink:href=\"#m557192d1dc\" y=\"126.035335\"/>\r\n     <use style=\"fill-opacity:0;stroke:#000000;\" x=\"281.203125\" xlink:href=\"#m557192d1dc\" y=\"128.630886\"/>\r\n     <use style=\"fill-opacity:0;stroke:#000000;\" x=\"281.203125\" xlink:href=\"#m557192d1dc\" y=\"129.641861\"/>\r\n     <use style=\"fill-opacity:0;stroke:#000000;\" x=\"281.203125\" xlink:href=\"#m557192d1dc\" y=\"127.798856\"/>\r\n     <use style=\"fill-opacity:0;stroke:#000000;\" x=\"281.203125\" xlink:href=\"#m557192d1dc\" y=\"129.852497\"/>\r\n     <use style=\"fill-opacity:0;stroke:#000000;\" x=\"281.203125\" xlink:href=\"#m557192d1dc\" y=\"114.345601\"/>\r\n     <use style=\"fill-opacity:0;stroke:#000000;\" x=\"281.203125\" xlink:href=\"#m557192d1dc\" y=\"116.020542\"/>\r\n    </g>\r\n   </g>\r\n   <g id=\"line2d_44\">\r\n    <path clip-path=\"url(#p0a89c13369)\" d=\"M 323.053125 174.101553 \r\nL 350.953125 174.101553 \r\nL 350.953125 161.244206 \r\nL 323.053125 161.244206 \r\nL 323.053125 174.101553 \r\n\" style=\"fill:none;stroke:#000000;stroke-linecap:square;\"/>\r\n   </g>\r\n   <g id=\"line2d_45\">\r\n    <path clip-path=\"url(#p0a89c13369)\" d=\"M 337.003125 174.101553 \r\nL 337.003125 192.191558 \r\n\" style=\"fill:none;stroke:#000000;stroke-linecap:square;\"/>\r\n   </g>\r\n   <g id=\"line2d_46\">\r\n    <path clip-path=\"url(#p0a89c13369)\" d=\"M 337.003125 161.244206 \r\nL 337.003125 141.978615 \r\n\" style=\"fill:none;stroke:#000000;stroke-linecap:square;\"/>\r\n   </g>\r\n   <g id=\"line2d_47\">\r\n    <path clip-path=\"url(#p0a89c13369)\" d=\"M 330.028125 192.191558 \r\nL 343.978125 192.191558 \r\n\" style=\"fill:none;stroke:#000000;stroke-linecap:square;\"/>\r\n   </g>\r\n   <g id=\"line2d_48\">\r\n    <path clip-path=\"url(#p0a89c13369)\" d=\"M 330.028125 141.978615 \r\nL 343.978125 141.978615 \r\n\" style=\"fill:none;stroke:#000000;stroke-linecap:square;\"/>\r\n   </g>\r\n   <g id=\"line2d_49\">\r\n    <g clip-path=\"url(#p0a89c13369)\">\r\n     <use style=\"fill-opacity:0;stroke:#000000;\" x=\"337.003125\" xlink:href=\"#m557192d1dc\" y=\"194.84199\"/>\r\n     <use style=\"fill-opacity:0;stroke:#000000;\" x=\"337.003125\" xlink:href=\"#m557192d1dc\" y=\"193.778839\"/>\r\n     <use style=\"fill-opacity:0;stroke:#000000;\" x=\"337.003125\" xlink:href=\"#m557192d1dc\" y=\"201.810613\"/>\r\n     <use style=\"fill-opacity:0;stroke:#000000;\" x=\"337.003125\" xlink:href=\"#m557192d1dc\" y=\"193.83542\"/>\r\n     <use style=\"fill-opacity:0;stroke:#000000;\" x=\"337.003125\" xlink:href=\"#m557192d1dc\" y=\"202.949248\"/>\r\n     <use style=\"fill-opacity:0;stroke:#000000;\" x=\"337.003125\" xlink:href=\"#m557192d1dc\" y=\"204.342038\"/>\r\n     <use style=\"fill-opacity:0;stroke:#000000;\" x=\"337.003125\" xlink:href=\"#m557192d1dc\" y=\"120.122748\"/>\r\n     <use style=\"fill-opacity:0;stroke:#000000;\" x=\"337.003125\" xlink:href=\"#m557192d1dc\" y=\"90.332853\"/>\r\n     <use style=\"fill-opacity:0;stroke:#000000;\" x=\"337.003125\" xlink:href=\"#m557192d1dc\" y=\"133.459947\"/>\r\n     <use style=\"fill-opacity:0;stroke:#000000;\" x=\"337.003125\" xlink:href=\"#m557192d1dc\" y=\"113.843965\"/>\r\n     <use style=\"fill-opacity:0;stroke:#000000;\" x=\"337.003125\" xlink:href=\"#m557192d1dc\" y=\"122.644611\"/>\r\n     <use style=\"fill-opacity:0;stroke:#000000;\" x=\"337.003125\" xlink:href=\"#m557192d1dc\" y=\"132.798629\"/>\r\n     <use style=\"fill-opacity:0;stroke:#000000;\" x=\"337.003125\" xlink:href=\"#m557192d1dc\" y=\"60.657412\"/>\r\n     <use style=\"fill-opacity:0;stroke:#000000;\" x=\"337.003125\" xlink:href=\"#m557192d1dc\" y=\"134.914734\"/>\r\n     <use style=\"fill-opacity:0;stroke:#000000;\" x=\"337.003125\" xlink:href=\"#m557192d1dc\" y=\"123.046353\"/>\r\n     <use style=\"fill-opacity:0;stroke:#000000;\" x=\"337.003125\" xlink:href=\"#m557192d1dc\" y=\"139.60329\"/>\r\n     <use style=\"fill-opacity:0;stroke:#000000;\" x=\"337.003125\" xlink:href=\"#m557192d1dc\" y=\"140.470524\"/>\r\n     <use style=\"fill-opacity:0;stroke:#000000;\" x=\"337.003125\" xlink:href=\"#m557192d1dc\" y=\"127.307028\"/>\r\n     <use style=\"fill-opacity:0;stroke:#000000;\" x=\"337.003125\" xlink:href=\"#m557192d1dc\" y=\"58.221837\"/>\r\n     <use style=\"fill-opacity:0;stroke:#000000;\" x=\"337.003125\" xlink:href=\"#m557192d1dc\" y=\"108.538266\"/>\r\n     <use style=\"fill-opacity:0;stroke:#000000;\" x=\"337.003125\" xlink:href=\"#m557192d1dc\" y=\"136.859083\"/>\r\n     <use style=\"fill-opacity:0;stroke:#000000;\" x=\"337.003125\" xlink:href=\"#m557192d1dc\" y=\"139.231244\"/>\r\n     <use style=\"fill-opacity:0;stroke:#000000;\" x=\"337.003125\" xlink:href=\"#m557192d1dc\" y=\"138.624447\"/>\r\n     <use style=\"fill-opacity:0;stroke:#000000;\" x=\"337.003125\" xlink:href=\"#m557192d1dc\" y=\"136.23777\"/>\r\n     <use style=\"fill-opacity:0;stroke:#000000;\" x=\"337.003125\" xlink:href=\"#m557192d1dc\" y=\"46.609805\"/>\r\n     <use style=\"fill-opacity:0;stroke:#000000;\" x=\"337.003125\" xlink:href=\"#m557192d1dc\" y=\"86.6708\"/>\r\n     <use style=\"fill-opacity:0;stroke:#000000;\" x=\"337.003125\" xlink:href=\"#m557192d1dc\" y=\"72.57861\"/>\r\n     <use style=\"fill-opacity:0;stroke:#000000;\" x=\"337.003125\" xlink:href=\"#m557192d1dc\" y=\"71.713046\"/>\r\n     <use style=\"fill-opacity:0;stroke:#000000;\" x=\"337.003125\" xlink:href=\"#m557192d1dc\" y=\"73.519359\"/>\r\n     <use style=\"fill-opacity:0;stroke:#000000;\" x=\"337.003125\" xlink:href=\"#m557192d1dc\" y=\"131.674582\"/>\r\n     <use style=\"fill-opacity:0;stroke:#000000;\" x=\"337.003125\" xlink:href=\"#m557192d1dc\" y=\"131.036187\"/>\r\n     <use style=\"fill-opacity:0;stroke:#000000;\" x=\"337.003125\" xlink:href=\"#m557192d1dc\" y=\"132.92834\"/>\r\n     <use style=\"fill-opacity:0;stroke:#000000;\" x=\"337.003125\" xlink:href=\"#m557192d1dc\" y=\"133.098566\"/>\r\n     <use style=\"fill-opacity:0;stroke:#000000;\" x=\"337.003125\" xlink:href=\"#m557192d1dc\" y=\"133.650197\"/>\r\n     <use style=\"fill-opacity:0;stroke:#000000;\" x=\"337.003125\" xlink:href=\"#m557192d1dc\" y=\"141.082073\"/>\r\n     <use style=\"fill-opacity:0;stroke:#000000;\" x=\"337.003125\" xlink:href=\"#m557192d1dc\" y=\"138.347809\"/>\r\n     <use style=\"fill-opacity:0;stroke:#000000;\" x=\"337.003125\" xlink:href=\"#m557192d1dc\" y=\"138.486008\"/>\r\n     <use style=\"fill-opacity:0;stroke:#000000;\" x=\"337.003125\" xlink:href=\"#m557192d1dc\" y=\"139.492809\"/>\r\n     <use style=\"fill-opacity:0;stroke:#000000;\" x=\"337.003125\" xlink:href=\"#m557192d1dc\" y=\"129.73149\"/>\r\n     <use style=\"fill-opacity:0;stroke:#000000;\" x=\"337.003125\" xlink:href=\"#m557192d1dc\" y=\"83.050095\"/>\r\n     <use style=\"fill-opacity:0;stroke:#000000;\" x=\"337.003125\" xlink:href=\"#m557192d1dc\" y=\"138.514221\"/>\r\n     <use style=\"fill-opacity:0;stroke:#000000;\" x=\"337.003125\" xlink:href=\"#m557192d1dc\" y=\"140.058291\"/>\r\n     <use style=\"fill-opacity:0;stroke:#000000;\" x=\"337.003125\" xlink:href=\"#m557192d1dc\" y=\"141.888008\"/>\r\n     <use style=\"fill-opacity:0;stroke:#000000;\" x=\"337.003125\" xlink:href=\"#m557192d1dc\" y=\"139.675042\"/>\r\n     <use style=\"fill-opacity:0;stroke:#000000;\" x=\"337.003125\" xlink:href=\"#m557192d1dc\" y=\"134.972563\"/>\r\n     <use style=\"fill-opacity:0;stroke:#000000;\" x=\"337.003125\" xlink:href=\"#m557192d1dc\" y=\"137.577329\"/>\r\n     <use style=\"fill-opacity:0;stroke:#000000;\" x=\"337.003125\" xlink:href=\"#m557192d1dc\" y=\"136.783382\"/>\r\n     <use style=\"fill-opacity:0;stroke:#000000;\" x=\"337.003125\" xlink:href=\"#m557192d1dc\" y=\"137.804064\"/>\r\n     <use style=\"fill-opacity:0;stroke:#000000;\" x=\"337.003125\" xlink:href=\"#m557192d1dc\" y=\"136.006735\"/>\r\n     <use style=\"fill-opacity:0;stroke:#000000;\" x=\"337.003125\" xlink:href=\"#m557192d1dc\" y=\"135.36989\"/>\r\n     <use style=\"fill-opacity:0;stroke:#000000;\" x=\"337.003125\" xlink:href=\"#m557192d1dc\" y=\"134.222661\"/>\r\n     <use style=\"fill-opacity:0;stroke:#000000;\" x=\"337.003125\" xlink:href=\"#m557192d1dc\" y=\"141.533921\"/>\r\n     <use style=\"fill-opacity:0;stroke:#000000;\" x=\"337.003125\" xlink:href=\"#m557192d1dc\" y=\"138.941856\"/>\r\n     <use style=\"fill-opacity:0;stroke:#000000;\" x=\"337.003125\" xlink:href=\"#m557192d1dc\" y=\"141.6255\"/>\r\n     <use style=\"fill-opacity:0;stroke:#000000;\" x=\"337.003125\" xlink:href=\"#m557192d1dc\" y=\"139.721301\"/>\r\n     <use style=\"fill-opacity:0;stroke:#000000;\" x=\"337.003125\" xlink:href=\"#m557192d1dc\" y=\"42.773521\"/>\r\n     <use style=\"fill-opacity:0;stroke:#000000;\" x=\"337.003125\" xlink:href=\"#m557192d1dc\" y=\"139.934199\"/>\r\n     <use style=\"fill-opacity:0;stroke:#000000;\" x=\"337.003125\" xlink:href=\"#m557192d1dc\" y=\"128.93583\"/>\r\n     <use style=\"fill-opacity:0;stroke:#000000;\" x=\"337.003125\" xlink:href=\"#m557192d1dc\" y=\"141.469583\"/>\r\n     <use style=\"fill-opacity:0;stroke:#000000;\" x=\"337.003125\" xlink:href=\"#m557192d1dc\" y=\"130.164667\"/>\r\n     <use style=\"fill-opacity:0;stroke:#000000;\" x=\"337.003125\" xlink:href=\"#m557192d1dc\" y=\"139.855494\"/>\r\n     <use style=\"fill-opacity:0;stroke:#000000;\" x=\"337.003125\" xlink:href=\"#m557192d1dc\" y=\"141.119021\"/>\r\n     <use style=\"fill-opacity:0;stroke:#000000;\" x=\"337.003125\" xlink:href=\"#m557192d1dc\" y=\"137.393838\"/>\r\n     <use style=\"fill-opacity:0;stroke:#000000;\" x=\"337.003125\" xlink:href=\"#m557192d1dc\" y=\"139.901931\"/>\r\n     <use style=\"fill-opacity:0;stroke:#000000;\" x=\"337.003125\" xlink:href=\"#m557192d1dc\" y=\"135.259808\"/>\r\n     <use style=\"fill-opacity:0;stroke:#000000;\" x=\"337.003125\" xlink:href=\"#m557192d1dc\" y=\"139.093344\"/>\r\n     <use style=\"fill-opacity:0;stroke:#000000;\" x=\"337.003125\" xlink:href=\"#m557192d1dc\" y=\"137.598975\"/>\r\n     <use style=\"fill-opacity:0;stroke:#000000;\" x=\"337.003125\" xlink:href=\"#m557192d1dc\" y=\"138.381203\"/>\r\n     <use style=\"fill-opacity:0;stroke:#000000;\" x=\"337.003125\" xlink:href=\"#m557192d1dc\" y=\"137.341571\"/>\r\n     <use style=\"fill-opacity:0;stroke:#000000;\" x=\"337.003125\" xlink:href=\"#m557192d1dc\" y=\"137.620665\"/>\r\n     <use style=\"fill-opacity:0;stroke:#000000;\" x=\"337.003125\" xlink:href=\"#m557192d1dc\" y=\"138.970422\"/>\r\n     <use style=\"fill-opacity:0;stroke:#000000;\" x=\"337.003125\" xlink:href=\"#m557192d1dc\" y=\"137.550492\"/>\r\n     <use style=\"fill-opacity:0;stroke:#000000;\" x=\"337.003125\" xlink:href=\"#m557192d1dc\" y=\"139.393319\"/>\r\n     <use style=\"fill-opacity:0;stroke:#000000;\" x=\"337.003125\" xlink:href=\"#m557192d1dc\" y=\"140.379032\"/>\r\n     <use style=\"fill-opacity:0;stroke:#000000;\" x=\"337.003125\" xlink:href=\"#m557192d1dc\" y=\"113.810773\"/>\r\n     <use style=\"fill-opacity:0;stroke:#000000;\" x=\"337.003125\" xlink:href=\"#m557192d1dc\" y=\"128.857434\"/>\r\n    </g>\r\n   </g>\r\n   <g id=\"line2d_50\">\r\n    <path clip-path=\"url(#p0a89c13369)\" d=\"M 44.053125 196.082404 \r\nL 71.953125 196.082404 \r\n\" style=\"fill:none;stroke:#ff7f0e;stroke-linecap:square;\"/>\r\n   </g>\r\n   <g id=\"line2d_51\">\r\n    <path clip-path=\"url(#p0a89c13369)\" d=\"M 99.853125 122.698987 \r\nL 127.753125 122.698987 \r\n\" style=\"fill:none;stroke:#ff7f0e;stroke-linecap:square;\"/>\r\n   </g>\r\n   <g id=\"line2d_52\">\r\n    <path clip-path=\"url(#p0a89c13369)\" d=\"M 155.653125 155.714392 \r\nL 183.553125 155.714392 \r\n\" style=\"fill:none;stroke:#ff7f0e;stroke-linecap:square;\"/>\r\n   </g>\r\n   <g id=\"line2d_53\">\r\n    <path clip-path=\"url(#p0a89c13369)\" d=\"M 211.453125 155.458656 \r\nL 239.353125 155.458656 \r\n\" style=\"fill:none;stroke:#ff7f0e;stroke-linecap:square;\"/>\r\n   </g>\r\n   <g id=\"line2d_54\">\r\n    <path clip-path=\"url(#p0a89c13369)\" d=\"M 267.253125 156.586006 \r\nL 295.153125 156.586006 \r\n\" style=\"fill:none;stroke:#ff7f0e;stroke-linecap:square;\"/>\r\n   </g>\r\n   <g id=\"line2d_55\">\r\n    <path clip-path=\"url(#p0a89c13369)\" d=\"M 323.053125 166.554952 \r\nL 350.953125 166.554952 \r\n\" style=\"fill:none;stroke:#ff7f0e;stroke-linecap:square;\"/>\r\n   </g>\r\n   <g id=\"patch_3\">\r\n    <path d=\"M 30.103125 224.64 \r\nL 30.103125 7.2 \r\n\" style=\"fill:none;stroke:#000000;stroke-linecap:square;stroke-linejoin:miter;stroke-width:0.8;\"/>\r\n   </g>\r\n   <g id=\"patch_4\">\r\n    <path d=\"M 364.903125 224.64 \r\nL 364.903125 7.2 \r\n\" style=\"fill:none;stroke:#000000;stroke-linecap:square;stroke-linejoin:miter;stroke-width:0.8;\"/>\r\n   </g>\r\n   <g id=\"patch_5\">\r\n    <path d=\"M 30.103125 224.64 \r\nL 364.903125 224.64 \r\n\" style=\"fill:none;stroke:#000000;stroke-linecap:square;stroke-linejoin:miter;stroke-width:0.8;\"/>\r\n   </g>\r\n   <g id=\"patch_6\">\r\n    <path d=\"M 30.103125 7.2 \r\nL 364.903125 7.2 \r\n\" style=\"fill:none;stroke:#000000;stroke-linecap:square;stroke-linejoin:miter;stroke-width:0.8;\"/>\r\n   </g>\r\n  </g>\r\n </g>\r\n <defs>\r\n  <clipPath id=\"p0a89c13369\">\r\n   <rect height=\"217.44\" width=\"334.8\" x=\"30.103125\" y=\"7.2\"/>\r\n  </clipPath>\r\n </defs>\r\n</svg>\r\n",
      "image/png": "[encoded data removed]"
     },
     "metadata": {
      "needs_background": "light"
     }
    }
   ],
   "metadata": {}
  },
  {
   "cell_type": "code",
   "execution_count": 17,
   "source": [
    "forw_modi_df = forw_total"
   ],
   "outputs": [],
   "metadata": {}
  },
  {
   "cell_type": "code",
   "execution_count": 18,
   "source": [
    "f_labels = [\"1\" for i in range(len(forw_modi_df))]\r\n",
    "f_labels_df = pd.DataFrame(f_labels, columns=[\"f_labels\"]); f_labels_df"
   ],
   "outputs": [
    {
     "output_type": "execute_result",
     "data": {
      "text/plain": [
       "     f_labels\n",
       "0           1\n",
       "1           1\n",
       "2           1\n",
       "3           1\n",
       "4           1\n",
       "...       ...\n",
       "1571        1\n",
       "1572        1\n",
       "1573        1\n",
       "1574        1\n",
       "1575        1\n",
       "\n",
       "[1576 rows x 1 columns]"
      ],
      "text/html": [
       "<div>\n",
       "<style scoped>\n",
       "    .dataframe tbody tr th:only-of-type {\n",
       "        vertical-align: middle;\n",
       "    }\n",
       "\n",
       "    .dataframe tbody tr th {\n",
       "        vertical-align: top;\n",
       "    }\n",
       "\n",
       "    .dataframe thead th {\n",
       "        text-align: right;\n",
       "    }\n",
       "</style>\n",
       "<table border=\"1\" class=\"dataframe\">\n",
       "  <thead>\n",
       "    <tr style=\"text-align: right;\">\n",
       "      <th></th>\n",
       "      <th>f_labels</th>\n",
       "    </tr>\n",
       "  </thead>\n",
       "  <tbody>\n",
       "    <tr>\n",
       "      <th>0</th>\n",
       "      <td>1</td>\n",
       "    </tr>\n",
       "    <tr>\n",
       "      <th>1</th>\n",
       "      <td>1</td>\n",
       "    </tr>\n",
       "    <tr>\n",
       "      <th>2</th>\n",
       "      <td>1</td>\n",
       "    </tr>\n",
       "    <tr>\n",
       "      <th>3</th>\n",
       "      <td>1</td>\n",
       "    </tr>\n",
       "    <tr>\n",
       "      <th>4</th>\n",
       "      <td>1</td>\n",
       "    </tr>\n",
       "    <tr>\n",
       "      <th>...</th>\n",
       "      <td>...</td>\n",
       "    </tr>\n",
       "    <tr>\n",
       "      <th>1571</th>\n",
       "      <td>1</td>\n",
       "    </tr>\n",
       "    <tr>\n",
       "      <th>1572</th>\n",
       "      <td>1</td>\n",
       "    </tr>\n",
       "    <tr>\n",
       "      <th>1573</th>\n",
       "      <td>1</td>\n",
       "    </tr>\n",
       "    <tr>\n",
       "      <th>1574</th>\n",
       "      <td>1</td>\n",
       "    </tr>\n",
       "    <tr>\n",
       "      <th>1575</th>\n",
       "      <td>1</td>\n",
       "    </tr>\n",
       "  </tbody>\n",
       "</table>\n",
       "<p>1576 rows × 1 columns</p>\n",
       "</div>"
      ]
     },
     "metadata": {},
     "execution_count": 18
    }
   ],
   "metadata": {}
  },
  {
   "cell_type": "code",
   "execution_count": 19,
   "source": [
    "# forw_data = forw_ratio_df.join(f_labels_df, how=\"right\")\r\n",
    "forw_modi_df = forw_modi_df.join(f_labels_df, how=\"right\"); forw_modi_df.head()"
   ],
   "outputs": [
    {
     "output_type": "execute_result",
     "data": {
      "text/plain": [
       "      E_len     S_len       ESC       LES       RES        NS f_labels\n",
       "0  0.128942  0.573256  0.368727  0.353704  0.383750  0.312625        1\n",
       "1  0.127123  0.573615  0.369683  0.355563  0.383803  0.313153        1\n",
       "2  0.127079  0.580357  0.372545  0.360837  0.384253  0.314517        1\n",
       "3  0.120412  0.577865  0.334804  0.325032  0.344575  0.268641        1\n",
       "4  0.119642  0.576695  0.329438  0.320397  0.338480  0.262051        1"
      ],
      "text/html": [
       "<div>\n",
       "<style scoped>\n",
       "    .dataframe tbody tr th:only-of-type {\n",
       "        vertical-align: middle;\n",
       "    }\n",
       "\n",
       "    .dataframe tbody tr th {\n",
       "        vertical-align: top;\n",
       "    }\n",
       "\n",
       "    .dataframe thead th {\n",
       "        text-align: right;\n",
       "    }\n",
       "</style>\n",
       "<table border=\"1\" class=\"dataframe\">\n",
       "  <thead>\n",
       "    <tr style=\"text-align: right;\">\n",
       "      <th></th>\n",
       "      <th>E_len</th>\n",
       "      <th>S_len</th>\n",
       "      <th>ESC</th>\n",
       "      <th>LES</th>\n",
       "      <th>RES</th>\n",
       "      <th>NS</th>\n",
       "      <th>f_labels</th>\n",
       "    </tr>\n",
       "  </thead>\n",
       "  <tbody>\n",
       "    <tr>\n",
       "      <th>0</th>\n",
       "      <td>0.128942</td>\n",
       "      <td>0.573256</td>\n",
       "      <td>0.368727</td>\n",
       "      <td>0.353704</td>\n",
       "      <td>0.383750</td>\n",
       "      <td>0.312625</td>\n",
       "      <td>1</td>\n",
       "    </tr>\n",
       "    <tr>\n",
       "      <th>1</th>\n",
       "      <td>0.127123</td>\n",
       "      <td>0.573615</td>\n",
       "      <td>0.369683</td>\n",
       "      <td>0.355563</td>\n",
       "      <td>0.383803</td>\n",
       "      <td>0.313153</td>\n",
       "      <td>1</td>\n",
       "    </tr>\n",
       "    <tr>\n",
       "      <th>2</th>\n",
       "      <td>0.127079</td>\n",
       "      <td>0.580357</td>\n",
       "      <td>0.372545</td>\n",
       "      <td>0.360837</td>\n",
       "      <td>0.384253</td>\n",
       "      <td>0.314517</td>\n",
       "      <td>1</td>\n",
       "    </tr>\n",
       "    <tr>\n",
       "      <th>3</th>\n",
       "      <td>0.120412</td>\n",
       "      <td>0.577865</td>\n",
       "      <td>0.334804</td>\n",
       "      <td>0.325032</td>\n",
       "      <td>0.344575</td>\n",
       "      <td>0.268641</td>\n",
       "      <td>1</td>\n",
       "    </tr>\n",
       "    <tr>\n",
       "      <th>4</th>\n",
       "      <td>0.119642</td>\n",
       "      <td>0.576695</td>\n",
       "      <td>0.329438</td>\n",
       "      <td>0.320397</td>\n",
       "      <td>0.338480</td>\n",
       "      <td>0.262051</td>\n",
       "      <td>1</td>\n",
       "    </tr>\n",
       "  </tbody>\n",
       "</table>\n",
       "</div>"
      ]
     },
     "metadata": {},
     "execution_count": 19
    }
   ],
   "metadata": {}
  },
  {
   "cell_type": "code",
   "execution_count": 20,
   "source": [
    "corr_modi_df.columns = [\"E_len\", \"S_len\", \"ESC\", \"LES\", \"RES\", \"NS\", \"labels\"]\r\n",
    "forw_modi_df.columns = [\"E_len\", \"S_len\", \"ESC\", \"LES\", \"RES\", \"NS\", \"labels\"]"
   ],
   "outputs": [],
   "metadata": {}
  },
  {
   "cell_type": "code",
   "execution_count": 21,
   "source": [
    "total_data = pd.concat([corr_modi_df, forw_modi_df])"
   ],
   "outputs": [],
   "metadata": {}
  },
  {
   "cell_type": "code",
   "execution_count": 22,
   "source": [
    "total_data.to_csv(\"mp_Concat_0831.csv\", encoding=\"utf-8\")"
   ],
   "outputs": [],
   "metadata": {}
  },
  {
   "cell_type": "code",
   "execution_count": 23,
   "source": [
    "total_csv = pd.read_csv(\"mp_Concat_0831.csv\")\r\n",
    "total_data = pd.DataFrame(total_csv).drop([\"Unnamed: 0\"], axis=1)"
   ],
   "outputs": [],
   "metadata": {}
  },
  {
   "cell_type": "code",
   "execution_count": 24,
   "source": [
    "total_data.head()"
   ],
   "outputs": [
    {
     "output_type": "execute_result",
     "data": {
      "text/plain": [
       "      E_len     S_len       ESC       LES       RES        NS  labels\n",
       "0  0.111488  0.509276  0.395772  0.403213  0.388332  0.358737       0\n",
       "1  0.110458  0.509276  0.397252  0.404172  0.390332  0.362397       0\n",
       "2  0.099601  0.508697  0.389507  0.395757  0.383258  0.351375       0\n",
       "3  0.101697  0.525211  0.373120  0.373391  0.372848  0.315857       0\n",
       "4  0.102249  0.533296  0.373741  0.370073  0.377408  0.314963       0"
      ],
      "text/html": [
       "<div>\n",
       "<style scoped>\n",
       "    .dataframe tbody tr th:only-of-type {\n",
       "        vertical-align: middle;\n",
       "    }\n",
       "\n",
       "    .dataframe tbody tr th {\n",
       "        vertical-align: top;\n",
       "    }\n",
       "\n",
       "    .dataframe thead th {\n",
       "        text-align: right;\n",
       "    }\n",
       "</style>\n",
       "<table border=\"1\" class=\"dataframe\">\n",
       "  <thead>\n",
       "    <tr style=\"text-align: right;\">\n",
       "      <th></th>\n",
       "      <th>E_len</th>\n",
       "      <th>S_len</th>\n",
       "      <th>ESC</th>\n",
       "      <th>LES</th>\n",
       "      <th>RES</th>\n",
       "      <th>NS</th>\n",
       "      <th>labels</th>\n",
       "    </tr>\n",
       "  </thead>\n",
       "  <tbody>\n",
       "    <tr>\n",
       "      <th>0</th>\n",
       "      <td>0.111488</td>\n",
       "      <td>0.509276</td>\n",
       "      <td>0.395772</td>\n",
       "      <td>0.403213</td>\n",
       "      <td>0.388332</td>\n",
       "      <td>0.358737</td>\n",
       "      <td>0</td>\n",
       "    </tr>\n",
       "    <tr>\n",
       "      <th>1</th>\n",
       "      <td>0.110458</td>\n",
       "      <td>0.509276</td>\n",
       "      <td>0.397252</td>\n",
       "      <td>0.404172</td>\n",
       "      <td>0.390332</td>\n",
       "      <td>0.362397</td>\n",
       "      <td>0</td>\n",
       "    </tr>\n",
       "    <tr>\n",
       "      <th>2</th>\n",
       "      <td>0.099601</td>\n",
       "      <td>0.508697</td>\n",
       "      <td>0.389507</td>\n",
       "      <td>0.395757</td>\n",
       "      <td>0.383258</td>\n",
       "      <td>0.351375</td>\n",
       "      <td>0</td>\n",
       "    </tr>\n",
       "    <tr>\n",
       "      <th>3</th>\n",
       "      <td>0.101697</td>\n",
       "      <td>0.525211</td>\n",
       "      <td>0.373120</td>\n",
       "      <td>0.373391</td>\n",
       "      <td>0.372848</td>\n",
       "      <td>0.315857</td>\n",
       "      <td>0</td>\n",
       "    </tr>\n",
       "    <tr>\n",
       "      <th>4</th>\n",
       "      <td>0.102249</td>\n",
       "      <td>0.533296</td>\n",
       "      <td>0.373741</td>\n",
       "      <td>0.370073</td>\n",
       "      <td>0.377408</td>\n",
       "      <td>0.314963</td>\n",
       "      <td>0</td>\n",
       "    </tr>\n",
       "  </tbody>\n",
       "</table>\n",
       "</div>"
      ]
     },
     "metadata": {},
     "execution_count": 24
    }
   ],
   "metadata": {}
  },
  {
   "cell_type": "code",
   "execution_count": 25,
   "source": [
    "data_shuffled = total_data.sample(frac=1)  # row 전체 shuffle\r\n",
    "\r\n",
    "data_shuffled = total_data.sample(frac=1).reset_index(drop=True)  # shuffling하고 index reset\r\n",
    "data_shuffled = data_shuffled.dropna()\r\n",
    "data_shuffled"
   ],
   "outputs": [
    {
     "output_type": "execute_result",
     "data": {
      "text/plain": [
       "         E_len     S_len       ESC       LES       RES        NS  labels\n",
       "0     0.126505  0.620288  0.436183  0.451723  0.420644  0.378254       0\n",
       "1     0.111509  0.537432  0.385446  0.394942  0.375949  0.344378       0\n",
       "2     0.136714  0.612799  0.407762  0.412723  0.402802  0.353189       1\n",
       "3     0.112569  0.527853  0.364789  0.377724  0.351854  0.319562       0\n",
       "4     0.162598  0.731223  0.398784  0.405891  0.391677  0.305535       1\n",
       "...        ...       ...       ...       ...       ...       ...     ...\n",
       "3145  0.034434  0.328890  0.509904  0.532625  0.487184  0.504116       0\n",
       "3146  0.105607  0.549739  0.393268  0.400737  0.385799  0.339368       0\n",
       "3147  0.090556  0.427301  0.312632  0.309339  0.315925  0.265298       0\n",
       "3148  0.099601  0.508697  0.389507  0.395757  0.383258  0.351375       0\n",
       "3149  0.131379  0.642437  0.396504  0.395291  0.397716  0.321815       1\n",
       "\n",
       "[3150 rows x 7 columns]"
      ],
      "text/html": [
       "<div>\n",
       "<style scoped>\n",
       "    .dataframe tbody tr th:only-of-type {\n",
       "        vertical-align: middle;\n",
       "    }\n",
       "\n",
       "    .dataframe tbody tr th {\n",
       "        vertical-align: top;\n",
       "    }\n",
       "\n",
       "    .dataframe thead th {\n",
       "        text-align: right;\n",
       "    }\n",
       "</style>\n",
       "<table border=\"1\" class=\"dataframe\">\n",
       "  <thead>\n",
       "    <tr style=\"text-align: right;\">\n",
       "      <th></th>\n",
       "      <th>E_len</th>\n",
       "      <th>S_len</th>\n",
       "      <th>ESC</th>\n",
       "      <th>LES</th>\n",
       "      <th>RES</th>\n",
       "      <th>NS</th>\n",
       "      <th>labels</th>\n",
       "    </tr>\n",
       "  </thead>\n",
       "  <tbody>\n",
       "    <tr>\n",
       "      <th>0</th>\n",
       "      <td>0.126505</td>\n",
       "      <td>0.620288</td>\n",
       "      <td>0.436183</td>\n",
       "      <td>0.451723</td>\n",
       "      <td>0.420644</td>\n",
       "      <td>0.378254</td>\n",
       "      <td>0</td>\n",
       "    </tr>\n",
       "    <tr>\n",
       "      <th>1</th>\n",
       "      <td>0.111509</td>\n",
       "      <td>0.537432</td>\n",
       "      <td>0.385446</td>\n",
       "      <td>0.394942</td>\n",
       "      <td>0.375949</td>\n",
       "      <td>0.344378</td>\n",
       "      <td>0</td>\n",
       "    </tr>\n",
       "    <tr>\n",
       "      <th>2</th>\n",
       "      <td>0.136714</td>\n",
       "      <td>0.612799</td>\n",
       "      <td>0.407762</td>\n",
       "      <td>0.412723</td>\n",
       "      <td>0.402802</td>\n",
       "      <td>0.353189</td>\n",
       "      <td>1</td>\n",
       "    </tr>\n",
       "    <tr>\n",
       "      <th>3</th>\n",
       "      <td>0.112569</td>\n",
       "      <td>0.527853</td>\n",
       "      <td>0.364789</td>\n",
       "      <td>0.377724</td>\n",
       "      <td>0.351854</td>\n",
       "      <td>0.319562</td>\n",
       "      <td>0</td>\n",
       "    </tr>\n",
       "    <tr>\n",
       "      <th>4</th>\n",
       "      <td>0.162598</td>\n",
       "      <td>0.731223</td>\n",
       "      <td>0.398784</td>\n",
       "      <td>0.405891</td>\n",
       "      <td>0.391677</td>\n",
       "      <td>0.305535</td>\n",
       "      <td>1</td>\n",
       "    </tr>\n",
       "    <tr>\n",
       "      <th>...</th>\n",
       "      <td>...</td>\n",
       "      <td>...</td>\n",
       "      <td>...</td>\n",
       "      <td>...</td>\n",
       "      <td>...</td>\n",
       "      <td>...</td>\n",
       "      <td>...</td>\n",
       "    </tr>\n",
       "    <tr>\n",
       "      <th>3145</th>\n",
       "      <td>0.034434</td>\n",
       "      <td>0.328890</td>\n",
       "      <td>0.509904</td>\n",
       "      <td>0.532625</td>\n",
       "      <td>0.487184</td>\n",
       "      <td>0.504116</td>\n",
       "      <td>0</td>\n",
       "    </tr>\n",
       "    <tr>\n",
       "      <th>3146</th>\n",
       "      <td>0.105607</td>\n",
       "      <td>0.549739</td>\n",
       "      <td>0.393268</td>\n",
       "      <td>0.400737</td>\n",
       "      <td>0.385799</td>\n",
       "      <td>0.339368</td>\n",
       "      <td>0</td>\n",
       "    </tr>\n",
       "    <tr>\n",
       "      <th>3147</th>\n",
       "      <td>0.090556</td>\n",
       "      <td>0.427301</td>\n",
       "      <td>0.312632</td>\n",
       "      <td>0.309339</td>\n",
       "      <td>0.315925</td>\n",
       "      <td>0.265298</td>\n",
       "      <td>0</td>\n",
       "    </tr>\n",
       "    <tr>\n",
       "      <th>3148</th>\n",
       "      <td>0.099601</td>\n",
       "      <td>0.508697</td>\n",
       "      <td>0.389507</td>\n",
       "      <td>0.395757</td>\n",
       "      <td>0.383258</td>\n",
       "      <td>0.351375</td>\n",
       "      <td>0</td>\n",
       "    </tr>\n",
       "    <tr>\n",
       "      <th>3149</th>\n",
       "      <td>0.131379</td>\n",
       "      <td>0.642437</td>\n",
       "      <td>0.396504</td>\n",
       "      <td>0.395291</td>\n",
       "      <td>0.397716</td>\n",
       "      <td>0.321815</td>\n",
       "      <td>1</td>\n",
       "    </tr>\n",
       "  </tbody>\n",
       "</table>\n",
       "<p>3150 rows × 7 columns</p>\n",
       "</div>"
      ]
     },
     "metadata": {},
     "execution_count": 25
    }
   ],
   "metadata": {}
  },
  {
   "cell_type": "code",
   "execution_count": 26,
   "source": [
    "pose_data = data_shuffled[[\"E_len\", \"S_len\", \"ESC\", \"LES\", \"RES\", \"NS\"]]\r\n",
    "\r\n",
    "pose_label = data_shuffled[\"labels\"]"
   ],
   "outputs": [],
   "metadata": {
    "id": "I-W4v-TZmDYQ"
   }
  },
  {
   "cell_type": "code",
   "execution_count": 27,
   "source": [
    "train_data, test_data , train_label, test_label  =  train_test_split(pose_data, pose_label, test_size=0.2, random_state=1)\r\n",
    "\r\n",
    "# help( train_test_split )"
   ],
   "outputs": [],
   "metadata": {
    "id": "88Wf2LObmDYQ",
    "outputId": "f034f4f2-6eaa-4555-bad8-1951333367c0"
   }
  },
  {
   "cell_type": "code",
   "execution_count": 28,
   "source": [
    "scaler = StandardScaler()\r\n",
    "base_model = svm.SVC(kernel='rbf')\r\n",
    "pipe = Pipeline([('scaler', scaler), ('base_model', base_model)])"
   ],
   "outputs": [],
   "metadata": {}
  },
  {
   "cell_type": "code",
   "execution_count": 29,
   "source": [
    "from sklearn.model_selection import GridSearchCV"
   ],
   "outputs": [],
   "metadata": {}
  },
  {
   "cell_type": "code",
   "execution_count": 30,
   "source": [
    "params = { 'n_estimators' : [1, 10, 100, 1000],\r\n",
    "           'max_depth' : [1, 10, 100],\r\n",
    "           'min_samples_leaf' : [8, 12, 18],\r\n",
    "           'min_samples_split' : [8, 16, 20]\r\n",
    "            }\r\n",
    "\r\n",
    "# RandomForestClassifier 객체 생성 후 GridSearchCV 수행\r\n",
    "rf_clf = RandomForestClassifier(random_state = 0, n_jobs = -1)\r\n",
    "grid_cv = GridSearchCV(rf_clf, param_grid = params, cv = 3, n_jobs = -1)\r\n",
    "grid_cv.fit(train_data, train_label)\r\n",
    "\r\n",
    "print('최적 하이퍼 파라미터: ', grid_cv.best_params_)\r\n",
    "print('최고 예측 정확도: {:.4f}'.format(grid_cv.best_score_))"
   ],
   "outputs": [
    {
     "output_type": "stream",
     "name": "stdout",
     "text": [
      "최적 하이퍼 파라미터:  {'max_depth': 100, 'min_samples_leaf': 8, 'min_samples_split': 8, 'n_estimators': 1000}\n",
      "최고 예측 정확도: 0.8698\n"
     ]
    }
   ],
   "metadata": {}
  },
  {
   "cell_type": "code",
   "execution_count": 31,
   "source": [
    "from sklearn.metrics import accuracy_score\r\n",
    "#위의 결과로 나온 최적 하이퍼 파라미터로 다시 모델을 학습하여 테스트 세트 데이터에서 예측 성능을 측정\r\n",
    "rf_clf1 = RandomForestClassifier(n_estimators = 1000, \r\n",
    "                                max_depth = 100,\r\n",
    "                                min_samples_leaf = 8,\r\n",
    "                                min_samples_split = 8,\r\n",
    "                                random_state = 0,\r\n",
    "                                n_jobs = -1)\r\n",
    "rf_clf1.fit(train_data, train_label)\r\n",
    "pred = rf_clf1.predict(test_data)\r\n",
    "print('예측 정확도: {:.4f}'.format(accuracy_score(test_label,pred)))"
   ],
   "outputs": [
    {
     "output_type": "stream",
     "name": "stdout",
     "text": [
      "예측 정확도: 0.8746\n"
     ]
    }
   ],
   "metadata": {}
  },
  {
   "cell_type": "code",
   "execution_count": 32,
   "source": [
    "import matplotlib.pyplot as plt\r\n",
    "import seaborn as sns\r\n",
    "%matplotlib inline\r\n",
    "\r\n",
    "ftr_importances_values = rf_clf1.feature_importances_\r\n",
    "ftr_importances = pd.Series(ftr_importances_values, index = train_data.columns)\r\n",
    "ftr_top20 = ftr_importances.sort_values(ascending=False)[:20]\r\n",
    "\r\n",
    "plt.figure(figsize=(8,6))\r\n",
    "plt.title('Top 20 Feature Importances')\r\n",
    "sns.barplot(x=ftr_top20, y=ftr_top20.index)\r\n",
    "plt.show()"
   ],
   "outputs": [
    {
     "output_type": "display_data",
     "data": {
      "text/plain": [
       "<Figure size 576x432 with 1 Axes>"
      ],
      "image/svg+xml": "<?xml version=\"1.0\" encoding=\"utf-8\" standalone=\"no\"?>\r\n<!DOCTYPE svg PUBLIC \"-//W3C//DTD SVG 1.1//EN\"\r\n  \"http://www.w3.org/Graphics/SVG/1.1/DTD/svg11.dtd\">\r\n<svg height=\"372.35625pt\" version=\"1.1\" viewBox=\"0 0 494.417188 372.35625\" width=\"494.417188pt\" xmlns=\"http://www.w3.org/2000/svg\" xmlns:xlink=\"http://www.w3.org/1999/xlink\">\r\n <metadata>\r\n  <rdf:RDF xmlns:cc=\"http://creativecommons.org/ns#\" xmlns:dc=\"http://purl.org/dc/elements/1.1/\" xmlns:rdf=\"http://www.w3.org/1999/02/22-rdf-syntax-ns#\">\r\n   <cc:Work>\r\n    <dc:type rdf:resource=\"http://purl.org/dc/dcmitype/StillImage\"/>\r\n    <dc:date>2021-09-01T13:14:37.266008</dc:date>\r\n    <dc:format>image/svg+xml</dc:format>\r\n    <dc:creator>\r\n     <cc:Agent>\r\n      <dc:title>Matplotlib v3.4.2, https://matplotlib.org/</dc:title>\r\n     </cc:Agent>\r\n    </dc:creator>\r\n   </cc:Work>\r\n  </rdf:RDF>\r\n </metadata>\r\n <defs>\r\n  <style type=\"text/css\">*{stroke-linecap:butt;stroke-linejoin:round;}</style>\r\n </defs>\r\n <g id=\"figure_1\">\r\n  <g id=\"patch_1\">\r\n   <path d=\"M 0 372.35625 \r\nL 494.417188 372.35625 \r\nL 494.417188 0 \r\nL 0 0 \r\nz\r\n\" style=\"fill:none;\"/>\r\n  </g>\r\n  <g id=\"axes_1\">\r\n   <g id=\"patch_2\">\r\n    <path d=\"M 40.817187 348.478125 \r\nL 487.217187 348.478125 \r\nL 487.217187 22.318125 \r\nL 40.817187 22.318125 \r\nz\r\n\" style=\"fill:#ffffff;\"/>\r\n   </g>\r\n   <g id=\"patch_3\">\r\n    <path clip-path=\"url(#pd0d51168a9)\" d=\"M 40.817187 27.754125 \r\nL 465.960045 27.754125 \r\nL 465.960045 71.242125 \r\nL 40.817187 71.242125 \r\nz\r\n\" style=\"fill:#3274a1;\"/>\r\n   </g>\r\n   <g id=\"patch_4\">\r\n    <path clip-path=\"url(#pd0d51168a9)\" d=\"M 40.817187 82.114125 \r\nL 465.877128 82.114125 \r\nL 465.877128 125.602125 \r\nL 40.817187 125.602125 \r\nz\r\n\" style=\"fill:#e1812c;\"/>\r\n   </g>\r\n   <g id=\"patch_5\">\r\n    <path clip-path=\"url(#pd0d51168a9)\" d=\"M 40.817187 136.474125 \r\nL 259.513058 136.474125 \r\nL 259.513058 179.962125 \r\nL 40.817187 179.962125 \r\nz\r\n\" style=\"fill:#3a923a;\"/>\r\n   </g>\r\n   <g id=\"patch_6\">\r\n    <path clip-path=\"url(#pd0d51168a9)\" d=\"M 40.817187 190.834125 \r\nL 162.385222 190.834125 \r\nL 162.385222 234.322125 \r\nL 40.817187 234.322125 \r\nz\r\n\" style=\"fill:#c03d3e;\"/>\r\n   </g>\r\n   <g id=\"patch_7\">\r\n    <path clip-path=\"url(#pd0d51168a9)\" d=\"M 40.817187 245.194125 \r\nL 152.09651 245.194125 \r\nL 152.09651 288.682125 \r\nL 40.817187 288.682125 \r\nz\r\n\" style=\"fill:#9372b2;\"/>\r\n   </g>\r\n   <g id=\"patch_8\">\r\n    <path clip-path=\"url(#pd0d51168a9)\" d=\"M 40.817187 299.554125 \r\nL 123.647652 299.554125 \r\nL 123.647652 343.042125 \r\nL 40.817187 343.042125 \r\nz\r\n\" style=\"fill:#845b53;\"/>\r\n   </g>\r\n   <g id=\"matplotlib.axis_1\">\r\n    <g id=\"xtick_1\">\r\n     <g id=\"line2d_1\">\r\n      <defs>\r\n       <path d=\"M 0 0 \r\nL 0 3.5 \r\n\" id=\"ma9334fa1c1\" style=\"stroke:#000000;stroke-width:0.8;\"/>\r\n      </defs>\r\n      <g>\r\n       <use style=\"stroke:#000000;stroke-width:0.8;\" x=\"40.817187\" xlink:href=\"#ma9334fa1c1\" y=\"348.478125\"/>\r\n      </g>\r\n     </g>\r\n     <g id=\"text_1\">\r\n      <!-- 0.00 -->\r\n      <g transform=\"translate(29.684375 363.076563)scale(0.1 -0.1)\">\r\n       <defs>\r\n        <path d=\"M 2034 4250 \r\nQ 1547 4250 1301 3770 \r\nQ 1056 3291 1056 2328 \r\nQ 1056 1369 1301 889 \r\nQ 1547 409 2034 409 \r\nQ 2525 409 2770 889 \r\nQ 3016 1369 3016 2328 \r\nQ 3016 3291 2770 3770 \r\nQ 2525 4250 2034 4250 \r\nz\r\nM 2034 4750 \r\nQ 2819 4750 3233 4129 \r\nQ 3647 3509 3647 2328 \r\nQ 3647 1150 3233 529 \r\nQ 2819 -91 2034 -91 \r\nQ 1250 -91 836 529 \r\nQ 422 1150 422 2328 \r\nQ 422 3509 836 4129 \r\nQ 1250 4750 2034 4750 \r\nz\r\n\" id=\"DejaVuSans-30\" transform=\"scale(0.015625)\"/>\r\n        <path d=\"M 684 794 \r\nL 1344 794 \r\nL 1344 0 \r\nL 684 0 \r\nL 684 794 \r\nz\r\n\" id=\"DejaVuSans-2e\" transform=\"scale(0.015625)\"/>\r\n       </defs>\r\n       <use xlink:href=\"#DejaVuSans-30\"/>\r\n       <use x=\"63.623047\" xlink:href=\"#DejaVuSans-2e\"/>\r\n       <use x=\"95.410156\" xlink:href=\"#DejaVuSans-30\"/>\r\n       <use x=\"159.033203\" xlink:href=\"#DejaVuSans-30\"/>\r\n      </g>\r\n     </g>\r\n    </g>\r\n    <g id=\"xtick_2\">\r\n     <g id=\"line2d_2\">\r\n      <g>\r\n       <use style=\"stroke:#000000;stroke-width:0.8;\" x=\"110.046012\" xlink:href=\"#ma9334fa1c1\" y=\"348.478125\"/>\r\n      </g>\r\n     </g>\r\n     <g id=\"text_2\">\r\n      <!-- 0.05 -->\r\n      <g transform=\"translate(98.913199 363.076563)scale(0.1 -0.1)\">\r\n       <defs>\r\n        <path d=\"M 691 4666 \r\nL 3169 4666 \r\nL 3169 4134 \r\nL 1269 4134 \r\nL 1269 2991 \r\nQ 1406 3038 1543 3061 \r\nQ 1681 3084 1819 3084 \r\nQ 2600 3084 3056 2656 \r\nQ 3513 2228 3513 1497 \r\nQ 3513 744 3044 326 \r\nQ 2575 -91 1722 -91 \r\nQ 1428 -91 1123 -41 \r\nQ 819 9 494 109 \r\nL 494 744 \r\nQ 775 591 1075 516 \r\nQ 1375 441 1709 441 \r\nQ 2250 441 2565 725 \r\nQ 2881 1009 2881 1497 \r\nQ 2881 1984 2565 2268 \r\nQ 2250 2553 1709 2553 \r\nQ 1456 2553 1204 2497 \r\nQ 953 2441 691 2322 \r\nL 691 4666 \r\nz\r\n\" id=\"DejaVuSans-35\" transform=\"scale(0.015625)\"/>\r\n       </defs>\r\n       <use xlink:href=\"#DejaVuSans-30\"/>\r\n       <use x=\"63.623047\" xlink:href=\"#DejaVuSans-2e\"/>\r\n       <use x=\"95.410156\" xlink:href=\"#DejaVuSans-30\"/>\r\n       <use x=\"159.033203\" xlink:href=\"#DejaVuSans-35\"/>\r\n      </g>\r\n     </g>\r\n    </g>\r\n    <g id=\"xtick_3\">\r\n     <g id=\"line2d_3\">\r\n      <g>\r\n       <use style=\"stroke:#000000;stroke-width:0.8;\" x=\"179.274836\" xlink:href=\"#ma9334fa1c1\" y=\"348.478125\"/>\r\n      </g>\r\n     </g>\r\n     <g id=\"text_3\">\r\n      <!-- 0.10 -->\r\n      <g transform=\"translate(168.142024 363.076563)scale(0.1 -0.1)\">\r\n       <defs>\r\n        <path d=\"M 794 531 \r\nL 1825 531 \r\nL 1825 4091 \r\nL 703 3866 \r\nL 703 4441 \r\nL 1819 4666 \r\nL 2450 4666 \r\nL 2450 531 \r\nL 3481 531 \r\nL 3481 0 \r\nL 794 0 \r\nL 794 531 \r\nz\r\n\" id=\"DejaVuSans-31\" transform=\"scale(0.015625)\"/>\r\n       </defs>\r\n       <use xlink:href=\"#DejaVuSans-30\"/>\r\n       <use x=\"63.623047\" xlink:href=\"#DejaVuSans-2e\"/>\r\n       <use x=\"95.410156\" xlink:href=\"#DejaVuSans-31\"/>\r\n       <use x=\"159.033203\" xlink:href=\"#DejaVuSans-30\"/>\r\n      </g>\r\n     </g>\r\n    </g>\r\n    <g id=\"xtick_4\">\r\n     <g id=\"line2d_4\">\r\n      <g>\r\n       <use style=\"stroke:#000000;stroke-width:0.8;\" x=\"248.503661\" xlink:href=\"#ma9334fa1c1\" y=\"348.478125\"/>\r\n      </g>\r\n     </g>\r\n     <g id=\"text_4\">\r\n      <!-- 0.15 -->\r\n      <g transform=\"translate(237.370848 363.076563)scale(0.1 -0.1)\">\r\n       <use xlink:href=\"#DejaVuSans-30\"/>\r\n       <use x=\"63.623047\" xlink:href=\"#DejaVuSans-2e\"/>\r\n       <use x=\"95.410156\" xlink:href=\"#DejaVuSans-31\"/>\r\n       <use x=\"159.033203\" xlink:href=\"#DejaVuSans-35\"/>\r\n      </g>\r\n     </g>\r\n    </g>\r\n    <g id=\"xtick_5\">\r\n     <g id=\"line2d_5\">\r\n      <g>\r\n       <use style=\"stroke:#000000;stroke-width:0.8;\" x=\"317.732485\" xlink:href=\"#ma9334fa1c1\" y=\"348.478125\"/>\r\n      </g>\r\n     </g>\r\n     <g id=\"text_5\">\r\n      <!-- 0.20 -->\r\n      <g transform=\"translate(306.599673 363.076563)scale(0.1 -0.1)\">\r\n       <defs>\r\n        <path d=\"M 1228 531 \r\nL 3431 531 \r\nL 3431 0 \r\nL 469 0 \r\nL 469 531 \r\nQ 828 903 1448 1529 \r\nQ 2069 2156 2228 2338 \r\nQ 2531 2678 2651 2914 \r\nQ 2772 3150 2772 3378 \r\nQ 2772 3750 2511 3984 \r\nQ 2250 4219 1831 4219 \r\nQ 1534 4219 1204 4116 \r\nQ 875 4013 500 3803 \r\nL 500 4441 \r\nQ 881 4594 1212 4672 \r\nQ 1544 4750 1819 4750 \r\nQ 2544 4750 2975 4387 \r\nQ 3406 4025 3406 3419 \r\nQ 3406 3131 3298 2873 \r\nQ 3191 2616 2906 2266 \r\nQ 2828 2175 2409 1742 \r\nQ 1991 1309 1228 531 \r\nz\r\n\" id=\"DejaVuSans-32\" transform=\"scale(0.015625)\"/>\r\n       </defs>\r\n       <use xlink:href=\"#DejaVuSans-30\"/>\r\n       <use x=\"63.623047\" xlink:href=\"#DejaVuSans-2e\"/>\r\n       <use x=\"95.410156\" xlink:href=\"#DejaVuSans-32\"/>\r\n       <use x=\"159.033203\" xlink:href=\"#DejaVuSans-30\"/>\r\n      </g>\r\n     </g>\r\n    </g>\r\n    <g id=\"xtick_6\">\r\n     <g id=\"line2d_6\">\r\n      <g>\r\n       <use style=\"stroke:#000000;stroke-width:0.8;\" x=\"386.96131\" xlink:href=\"#ma9334fa1c1\" y=\"348.478125\"/>\r\n      </g>\r\n     </g>\r\n     <g id=\"text_6\">\r\n      <!-- 0.25 -->\r\n      <g transform=\"translate(375.828497 363.076563)scale(0.1 -0.1)\">\r\n       <use xlink:href=\"#DejaVuSans-30\"/>\r\n       <use x=\"63.623047\" xlink:href=\"#DejaVuSans-2e\"/>\r\n       <use x=\"95.410156\" xlink:href=\"#DejaVuSans-32\"/>\r\n       <use x=\"159.033203\" xlink:href=\"#DejaVuSans-35\"/>\r\n      </g>\r\n     </g>\r\n    </g>\r\n    <g id=\"xtick_7\">\r\n     <g id=\"line2d_7\">\r\n      <g>\r\n       <use style=\"stroke:#000000;stroke-width:0.8;\" x=\"456.190134\" xlink:href=\"#ma9334fa1c1\" y=\"348.478125\"/>\r\n      </g>\r\n     </g>\r\n     <g id=\"text_7\">\r\n      <!-- 0.30 -->\r\n      <g transform=\"translate(445.057322 363.076563)scale(0.1 -0.1)\">\r\n       <defs>\r\n        <path d=\"M 2597 2516 \r\nQ 3050 2419 3304 2112 \r\nQ 3559 1806 3559 1356 \r\nQ 3559 666 3084 287 \r\nQ 2609 -91 1734 -91 \r\nQ 1441 -91 1130 -33 \r\nQ 819 25 488 141 \r\nL 488 750 \r\nQ 750 597 1062 519 \r\nQ 1375 441 1716 441 \r\nQ 2309 441 2620 675 \r\nQ 2931 909 2931 1356 \r\nQ 2931 1769 2642 2001 \r\nQ 2353 2234 1838 2234 \r\nL 1294 2234 \r\nL 1294 2753 \r\nL 1863 2753 \r\nQ 2328 2753 2575 2939 \r\nQ 2822 3125 2822 3475 \r\nQ 2822 3834 2567 4026 \r\nQ 2313 4219 1838 4219 \r\nQ 1578 4219 1281 4162 \r\nQ 984 4106 628 3988 \r\nL 628 4550 \r\nQ 988 4650 1302 4700 \r\nQ 1616 4750 1894 4750 \r\nQ 2613 4750 3031 4423 \r\nQ 3450 4097 3450 3541 \r\nQ 3450 3153 3228 2886 \r\nQ 3006 2619 2597 2516 \r\nz\r\n\" id=\"DejaVuSans-33\" transform=\"scale(0.015625)\"/>\r\n       </defs>\r\n       <use xlink:href=\"#DejaVuSans-30\"/>\r\n       <use x=\"63.623047\" xlink:href=\"#DejaVuSans-2e\"/>\r\n       <use x=\"95.410156\" xlink:href=\"#DejaVuSans-33\"/>\r\n       <use x=\"159.033203\" xlink:href=\"#DejaVuSans-30\"/>\r\n      </g>\r\n     </g>\r\n    </g>\r\n   </g>\r\n   <g id=\"matplotlib.axis_2\">\r\n    <g id=\"ytick_1\">\r\n     <g id=\"line2d_8\">\r\n      <defs>\r\n       <path d=\"M 0 0 \r\nL -3.5 0 \r\n\" id=\"m1b24f1d91a\" style=\"stroke:#000000;stroke-width:0.8;\"/>\r\n      </defs>\r\n      <g>\r\n       <use style=\"stroke:#000000;stroke-width:0.8;\" x=\"40.817187\" xlink:href=\"#m1b24f1d91a\" y=\"49.498125\"/>\r\n      </g>\r\n     </g>\r\n     <g id=\"text_8\">\r\n      <!-- E_len -->\r\n      <g transform=\"translate(7.229687 53.297344)scale(0.1 -0.1)\">\r\n       <defs>\r\n        <path d=\"M 628 4666 \r\nL 3578 4666 \r\nL 3578 4134 \r\nL 1259 4134 \r\nL 1259 2753 \r\nL 3481 2753 \r\nL 3481 2222 \r\nL 1259 2222 \r\nL 1259 531 \r\nL 3634 531 \r\nL 3634 0 \r\nL 628 0 \r\nL 628 4666 \r\nz\r\n\" id=\"DejaVuSans-45\" transform=\"scale(0.015625)\"/>\r\n        <path d=\"M 3263 -1063 \r\nL 3263 -1509 \r\nL -63 -1509 \r\nL -63 -1063 \r\nL 3263 -1063 \r\nz\r\n\" id=\"DejaVuSans-5f\" transform=\"scale(0.015625)\"/>\r\n        <path d=\"M 603 4863 \r\nL 1178 4863 \r\nL 1178 0 \r\nL 603 0 \r\nL 603 4863 \r\nz\r\n\" id=\"DejaVuSans-6c\" transform=\"scale(0.015625)\"/>\r\n        <path d=\"M 3597 1894 \r\nL 3597 1613 \r\nL 953 1613 \r\nQ 991 1019 1311 708 \r\nQ 1631 397 2203 397 \r\nQ 2534 397 2845 478 \r\nQ 3156 559 3463 722 \r\nL 3463 178 \r\nQ 3153 47 2828 -22 \r\nQ 2503 -91 2169 -91 \r\nQ 1331 -91 842 396 \r\nQ 353 884 353 1716 \r\nQ 353 2575 817 3079 \r\nQ 1281 3584 2069 3584 \r\nQ 2775 3584 3186 3129 \r\nQ 3597 2675 3597 1894 \r\nz\r\nM 3022 2063 \r\nQ 3016 2534 2758 2815 \r\nQ 2500 3097 2075 3097 \r\nQ 1594 3097 1305 2825 \r\nQ 1016 2553 972 2059 \r\nL 3022 2063 \r\nz\r\n\" id=\"DejaVuSans-65\" transform=\"scale(0.015625)\"/>\r\n        <path d=\"M 3513 2113 \r\nL 3513 0 \r\nL 2938 0 \r\nL 2938 2094 \r\nQ 2938 2591 2744 2837 \r\nQ 2550 3084 2163 3084 \r\nQ 1697 3084 1428 2787 \r\nQ 1159 2491 1159 1978 \r\nL 1159 0 \r\nL 581 0 \r\nL 581 3500 \r\nL 1159 3500 \r\nL 1159 2956 \r\nQ 1366 3272 1645 3428 \r\nQ 1925 3584 2291 3584 \r\nQ 2894 3584 3203 3211 \r\nQ 3513 2838 3513 2113 \r\nz\r\n\" id=\"DejaVuSans-6e\" transform=\"scale(0.015625)\"/>\r\n       </defs>\r\n       <use xlink:href=\"#DejaVuSans-45\"/>\r\n       <use x=\"63.183594\" xlink:href=\"#DejaVuSans-5f\"/>\r\n       <use x=\"113.183594\" xlink:href=\"#DejaVuSans-6c\"/>\r\n       <use x=\"140.966797\" xlink:href=\"#DejaVuSans-65\"/>\r\n       <use x=\"202.490234\" xlink:href=\"#DejaVuSans-6e\"/>\r\n      </g>\r\n     </g>\r\n    </g>\r\n    <g id=\"ytick_2\">\r\n     <g id=\"line2d_9\">\r\n      <g>\r\n       <use style=\"stroke:#000000;stroke-width:0.8;\" x=\"40.817187\" xlink:href=\"#m1b24f1d91a\" y=\"103.858125\"/>\r\n      </g>\r\n     </g>\r\n     <g id=\"text_9\">\r\n      <!-- S_len -->\r\n      <g transform=\"translate(7.2 107.657344)scale(0.1 -0.1)\">\r\n       <defs>\r\n        <path d=\"M 3425 4513 \r\nL 3425 3897 \r\nQ 3066 4069 2747 4153 \r\nQ 2428 4238 2131 4238 \r\nQ 1616 4238 1336 4038 \r\nQ 1056 3838 1056 3469 \r\nQ 1056 3159 1242 3001 \r\nQ 1428 2844 1947 2747 \r\nL 2328 2669 \r\nQ 3034 2534 3370 2195 \r\nQ 3706 1856 3706 1288 \r\nQ 3706 609 3251 259 \r\nQ 2797 -91 1919 -91 \r\nQ 1588 -91 1214 -16 \r\nQ 841 59 441 206 \r\nL 441 856 \r\nQ 825 641 1194 531 \r\nQ 1563 422 1919 422 \r\nQ 2459 422 2753 634 \r\nQ 3047 847 3047 1241 \r\nQ 3047 1584 2836 1778 \r\nQ 2625 1972 2144 2069 \r\nL 1759 2144 \r\nQ 1053 2284 737 2584 \r\nQ 422 2884 422 3419 \r\nQ 422 4038 858 4394 \r\nQ 1294 4750 2059 4750 \r\nQ 2388 4750 2728 4690 \r\nQ 3069 4631 3425 4513 \r\nz\r\n\" id=\"DejaVuSans-53\" transform=\"scale(0.015625)\"/>\r\n       </defs>\r\n       <use xlink:href=\"#DejaVuSans-53\"/>\r\n       <use x=\"63.476562\" xlink:href=\"#DejaVuSans-5f\"/>\r\n       <use x=\"113.476562\" xlink:href=\"#DejaVuSans-6c\"/>\r\n       <use x=\"141.259766\" xlink:href=\"#DejaVuSans-65\"/>\r\n       <use x=\"202.783203\" xlink:href=\"#DejaVuSans-6e\"/>\r\n      </g>\r\n     </g>\r\n    </g>\r\n    <g id=\"ytick_3\">\r\n     <g id=\"line2d_10\">\r\n      <g>\r\n       <use style=\"stroke:#000000;stroke-width:0.8;\" x=\"40.817187\" xlink:href=\"#m1b24f1d91a\" y=\"158.218125\"/>\r\n      </g>\r\n     </g>\r\n     <g id=\"text_10\">\r\n      <!-- NS -->\r\n      <g transform=\"translate(19.9875 162.017344)scale(0.1 -0.1)\">\r\n       <defs>\r\n        <path d=\"M 628 4666 \r\nL 1478 4666 \r\nL 3547 763 \r\nL 3547 4666 \r\nL 4159 4666 \r\nL 4159 0 \r\nL 3309 0 \r\nL 1241 3903 \r\nL 1241 0 \r\nL 628 0 \r\nL 628 4666 \r\nz\r\n\" id=\"DejaVuSans-4e\" transform=\"scale(0.015625)\"/>\r\n       </defs>\r\n       <use xlink:href=\"#DejaVuSans-4e\"/>\r\n       <use x=\"74.804688\" xlink:href=\"#DejaVuSans-53\"/>\r\n      </g>\r\n     </g>\r\n    </g>\r\n    <g id=\"ytick_4\">\r\n     <g id=\"line2d_11\">\r\n      <g>\r\n       <use style=\"stroke:#000000;stroke-width:0.8;\" x=\"40.817187\" xlink:href=\"#m1b24f1d91a\" y=\"212.578125\"/>\r\n      </g>\r\n     </g>\r\n     <g id=\"text_11\">\r\n      <!-- ESC -->\r\n      <g transform=\"translate(14.167187 216.377344)scale(0.1 -0.1)\">\r\n       <defs>\r\n        <path d=\"M 4122 4306 \r\nL 4122 3641 \r\nQ 3803 3938 3442 4084 \r\nQ 3081 4231 2675 4231 \r\nQ 1875 4231 1450 3742 \r\nQ 1025 3253 1025 2328 \r\nQ 1025 1406 1450 917 \r\nQ 1875 428 2675 428 \r\nQ 3081 428 3442 575 \r\nQ 3803 722 4122 1019 \r\nL 4122 359 \r\nQ 3791 134 3420 21 \r\nQ 3050 -91 2638 -91 \r\nQ 1578 -91 968 557 \r\nQ 359 1206 359 2328 \r\nQ 359 3453 968 4101 \r\nQ 1578 4750 2638 4750 \r\nQ 3056 4750 3426 4639 \r\nQ 3797 4528 4122 4306 \r\nz\r\n\" id=\"DejaVuSans-43\" transform=\"scale(0.015625)\"/>\r\n       </defs>\r\n       <use xlink:href=\"#DejaVuSans-45\"/>\r\n       <use x=\"63.183594\" xlink:href=\"#DejaVuSans-53\"/>\r\n       <use x=\"126.660156\" xlink:href=\"#DejaVuSans-43\"/>\r\n      </g>\r\n     </g>\r\n    </g>\r\n    <g id=\"ytick_5\">\r\n     <g id=\"line2d_12\">\r\n      <g>\r\n       <use style=\"stroke:#000000;stroke-width:0.8;\" x=\"40.817187\" xlink:href=\"#m1b24f1d91a\" y=\"266.938125\"/>\r\n      </g>\r\n     </g>\r\n     <g id=\"text_12\">\r\n      <!-- LES -->\r\n      <g transform=\"translate(15.578125 270.737344)scale(0.1 -0.1)\">\r\n       <defs>\r\n        <path d=\"M 628 4666 \r\nL 1259 4666 \r\nL 1259 531 \r\nL 3531 531 \r\nL 3531 0 \r\nL 628 0 \r\nL 628 4666 \r\nz\r\n\" id=\"DejaVuSans-4c\" transform=\"scale(0.015625)\"/>\r\n       </defs>\r\n       <use xlink:href=\"#DejaVuSans-4c\"/>\r\n       <use x=\"55.712891\" xlink:href=\"#DejaVuSans-45\"/>\r\n       <use x=\"118.896484\" xlink:href=\"#DejaVuSans-53\"/>\r\n      </g>\r\n     </g>\r\n    </g>\r\n    <g id=\"ytick_6\">\r\n     <g id=\"line2d_13\">\r\n      <g>\r\n       <use style=\"stroke:#000000;stroke-width:0.8;\" x=\"40.817187\" xlink:href=\"#m1b24f1d91a\" y=\"321.298125\"/>\r\n      </g>\r\n     </g>\r\n     <g id=\"text_13\">\r\n      <!-- RES -->\r\n      <g transform=\"translate(14.201562 325.097344)scale(0.1 -0.1)\">\r\n       <defs>\r\n        <path d=\"M 2841 2188 \r\nQ 3044 2119 3236 1894 \r\nQ 3428 1669 3622 1275 \r\nL 4263 0 \r\nL 3584 0 \r\nL 2988 1197 \r\nQ 2756 1666 2539 1819 \r\nQ 2322 1972 1947 1972 \r\nL 1259 1972 \r\nL 1259 0 \r\nL 628 0 \r\nL 628 4666 \r\nL 2053 4666 \r\nQ 2853 4666 3247 4331 \r\nQ 3641 3997 3641 3322 \r\nQ 3641 2881 3436 2590 \r\nQ 3231 2300 2841 2188 \r\nz\r\nM 1259 4147 \r\nL 1259 2491 \r\nL 2053 2491 \r\nQ 2509 2491 2742 2702 \r\nQ 2975 2913 2975 3322 \r\nQ 2975 3731 2742 3939 \r\nQ 2509 4147 2053 4147 \r\nL 1259 4147 \r\nz\r\n\" id=\"DejaVuSans-52\" transform=\"scale(0.015625)\"/>\r\n       </defs>\r\n       <use xlink:href=\"#DejaVuSans-52\"/>\r\n       <use x=\"69.482422\" xlink:href=\"#DejaVuSans-45\"/>\r\n       <use x=\"132.666016\" xlink:href=\"#DejaVuSans-53\"/>\r\n      </g>\r\n     </g>\r\n    </g>\r\n   </g>\r\n   <g id=\"line2d_14\">\r\n    <path clip-path=\"url(#pd0d51168a9)\" style=\"fill:none;stroke:#424242;stroke-linecap:square;stroke-width:2.7;\"/>\r\n   </g>\r\n   <g id=\"line2d_15\">\r\n    <path clip-path=\"url(#pd0d51168a9)\" style=\"fill:none;stroke:#424242;stroke-linecap:square;stroke-width:2.7;\"/>\r\n   </g>\r\n   <g id=\"line2d_16\">\r\n    <path clip-path=\"url(#pd0d51168a9)\" style=\"fill:none;stroke:#424242;stroke-linecap:square;stroke-width:2.7;\"/>\r\n   </g>\r\n   <g id=\"line2d_17\">\r\n    <path clip-path=\"url(#pd0d51168a9)\" style=\"fill:none;stroke:#424242;stroke-linecap:square;stroke-width:2.7;\"/>\r\n   </g>\r\n   <g id=\"line2d_18\">\r\n    <path clip-path=\"url(#pd0d51168a9)\" style=\"fill:none;stroke:#424242;stroke-linecap:square;stroke-width:2.7;\"/>\r\n   </g>\r\n   <g id=\"line2d_19\">\r\n    <path clip-path=\"url(#pd0d51168a9)\" style=\"fill:none;stroke:#424242;stroke-linecap:square;stroke-width:2.7;\"/>\r\n   </g>\r\n   <g id=\"patch_9\">\r\n    <path d=\"M 40.817187 348.478125 \r\nL 40.817187 22.318125 \r\n\" style=\"fill:none;stroke:#000000;stroke-linecap:square;stroke-linejoin:miter;stroke-width:0.8;\"/>\r\n   </g>\r\n   <g id=\"patch_10\">\r\n    <path d=\"M 487.217187 348.478125 \r\nL 487.217187 22.318125 \r\n\" style=\"fill:none;stroke:#000000;stroke-linecap:square;stroke-linejoin:miter;stroke-width:0.8;\"/>\r\n   </g>\r\n   <g id=\"patch_11\">\r\n    <path d=\"M 40.817187 348.478125 \r\nL 487.217188 348.478125 \r\n\" style=\"fill:none;stroke:#000000;stroke-linecap:square;stroke-linejoin:miter;stroke-width:0.8;\"/>\r\n   </g>\r\n   <g id=\"patch_12\">\r\n    <path d=\"M 40.817187 22.318125 \r\nL 487.217188 22.318125 \r\n\" style=\"fill:none;stroke:#000000;stroke-linecap:square;stroke-linejoin:miter;stroke-width:0.8;\"/>\r\n   </g>\r\n   <g id=\"text_14\">\r\n    <!-- Top 20 Feature Importances -->\r\n    <g transform=\"translate(180.359375 16.318125)scale(0.12 -0.12)\">\r\n     <defs>\r\n      <path d=\"M -19 4666 \r\nL 3928 4666 \r\nL 3928 4134 \r\nL 2272 4134 \r\nL 2272 0 \r\nL 1638 0 \r\nL 1638 4134 \r\nL -19 4134 \r\nL -19 4666 \r\nz\r\n\" id=\"DejaVuSans-54\" transform=\"scale(0.015625)\"/>\r\n      <path d=\"M 1959 3097 \r\nQ 1497 3097 1228 2736 \r\nQ 959 2375 959 1747 \r\nQ 959 1119 1226 758 \r\nQ 1494 397 1959 397 \r\nQ 2419 397 2687 759 \r\nQ 2956 1122 2956 1747 \r\nQ 2956 2369 2687 2733 \r\nQ 2419 3097 1959 3097 \r\nz\r\nM 1959 3584 \r\nQ 2709 3584 3137 3096 \r\nQ 3566 2609 3566 1747 \r\nQ 3566 888 3137 398 \r\nQ 2709 -91 1959 -91 \r\nQ 1206 -91 779 398 \r\nQ 353 888 353 1747 \r\nQ 353 2609 779 3096 \r\nQ 1206 3584 1959 3584 \r\nz\r\n\" id=\"DejaVuSans-6f\" transform=\"scale(0.015625)\"/>\r\n      <path d=\"M 1159 525 \r\nL 1159 -1331 \r\nL 581 -1331 \r\nL 581 3500 \r\nL 1159 3500 \r\nL 1159 2969 \r\nQ 1341 3281 1617 3432 \r\nQ 1894 3584 2278 3584 \r\nQ 2916 3584 3314 3078 \r\nQ 3713 2572 3713 1747 \r\nQ 3713 922 3314 415 \r\nQ 2916 -91 2278 -91 \r\nQ 1894 -91 1617 61 \r\nQ 1341 213 1159 525 \r\nz\r\nM 3116 1747 \r\nQ 3116 2381 2855 2742 \r\nQ 2594 3103 2138 3103 \r\nQ 1681 3103 1420 2742 \r\nQ 1159 2381 1159 1747 \r\nQ 1159 1113 1420 752 \r\nQ 1681 391 2138 391 \r\nQ 2594 391 2855 752 \r\nQ 3116 1113 3116 1747 \r\nz\r\n\" id=\"DejaVuSans-70\" transform=\"scale(0.015625)\"/>\r\n      <path id=\"DejaVuSans-20\" transform=\"scale(0.015625)\"/>\r\n      <path d=\"M 628 4666 \r\nL 3309 4666 \r\nL 3309 4134 \r\nL 1259 4134 \r\nL 1259 2759 \r\nL 3109 2759 \r\nL 3109 2228 \r\nL 1259 2228 \r\nL 1259 0 \r\nL 628 0 \r\nL 628 4666 \r\nz\r\n\" id=\"DejaVuSans-46\" transform=\"scale(0.015625)\"/>\r\n      <path d=\"M 2194 1759 \r\nQ 1497 1759 1228 1600 \r\nQ 959 1441 959 1056 \r\nQ 959 750 1161 570 \r\nQ 1363 391 1709 391 \r\nQ 2188 391 2477 730 \r\nQ 2766 1069 2766 1631 \r\nL 2766 1759 \r\nL 2194 1759 \r\nz\r\nM 3341 1997 \r\nL 3341 0 \r\nL 2766 0 \r\nL 2766 531 \r\nQ 2569 213 2275 61 \r\nQ 1981 -91 1556 -91 \r\nQ 1019 -91 701 211 \r\nQ 384 513 384 1019 \r\nQ 384 1609 779 1909 \r\nQ 1175 2209 1959 2209 \r\nL 2766 2209 \r\nL 2766 2266 \r\nQ 2766 2663 2505 2880 \r\nQ 2244 3097 1772 3097 \r\nQ 1472 3097 1187 3025 \r\nQ 903 2953 641 2809 \r\nL 641 3341 \r\nQ 956 3463 1253 3523 \r\nQ 1550 3584 1831 3584 \r\nQ 2591 3584 2966 3190 \r\nQ 3341 2797 3341 1997 \r\nz\r\n\" id=\"DejaVuSans-61\" transform=\"scale(0.015625)\"/>\r\n      <path d=\"M 1172 4494 \r\nL 1172 3500 \r\nL 2356 3500 \r\nL 2356 3053 \r\nL 1172 3053 \r\nL 1172 1153 \r\nQ 1172 725 1289 603 \r\nQ 1406 481 1766 481 \r\nL 2356 481 \r\nL 2356 0 \r\nL 1766 0 \r\nQ 1100 0 847 248 \r\nQ 594 497 594 1153 \r\nL 594 3053 \r\nL 172 3053 \r\nL 172 3500 \r\nL 594 3500 \r\nL 594 4494 \r\nL 1172 4494 \r\nz\r\n\" id=\"DejaVuSans-74\" transform=\"scale(0.015625)\"/>\r\n      <path d=\"M 544 1381 \r\nL 544 3500 \r\nL 1119 3500 \r\nL 1119 1403 \r\nQ 1119 906 1312 657 \r\nQ 1506 409 1894 409 \r\nQ 2359 409 2629 706 \r\nQ 2900 1003 2900 1516 \r\nL 2900 3500 \r\nL 3475 3500 \r\nL 3475 0 \r\nL 2900 0 \r\nL 2900 538 \r\nQ 2691 219 2414 64 \r\nQ 2138 -91 1772 -91 \r\nQ 1169 -91 856 284 \r\nQ 544 659 544 1381 \r\nz\r\nM 1991 3584 \r\nL 1991 3584 \r\nz\r\n\" id=\"DejaVuSans-75\" transform=\"scale(0.015625)\"/>\r\n      <path d=\"M 2631 2963 \r\nQ 2534 3019 2420 3045 \r\nQ 2306 3072 2169 3072 \r\nQ 1681 3072 1420 2755 \r\nQ 1159 2438 1159 1844 \r\nL 1159 0 \r\nL 581 0 \r\nL 581 3500 \r\nL 1159 3500 \r\nL 1159 2956 \r\nQ 1341 3275 1631 3429 \r\nQ 1922 3584 2338 3584 \r\nQ 2397 3584 2469 3576 \r\nQ 2541 3569 2628 3553 \r\nL 2631 2963 \r\nz\r\n\" id=\"DejaVuSans-72\" transform=\"scale(0.015625)\"/>\r\n      <path d=\"M 628 4666 \r\nL 1259 4666 \r\nL 1259 0 \r\nL 628 0 \r\nL 628 4666 \r\nz\r\n\" id=\"DejaVuSans-49\" transform=\"scale(0.015625)\"/>\r\n      <path d=\"M 3328 2828 \r\nQ 3544 3216 3844 3400 \r\nQ 4144 3584 4550 3584 \r\nQ 5097 3584 5394 3201 \r\nQ 5691 2819 5691 2113 \r\nL 5691 0 \r\nL 5113 0 \r\nL 5113 2094 \r\nQ 5113 2597 4934 2840 \r\nQ 4756 3084 4391 3084 \r\nQ 3944 3084 3684 2787 \r\nQ 3425 2491 3425 1978 \r\nL 3425 0 \r\nL 2847 0 \r\nL 2847 2094 \r\nQ 2847 2600 2669 2842 \r\nQ 2491 3084 2119 3084 \r\nQ 1678 3084 1418 2786 \r\nQ 1159 2488 1159 1978 \r\nL 1159 0 \r\nL 581 0 \r\nL 581 3500 \r\nL 1159 3500 \r\nL 1159 2956 \r\nQ 1356 3278 1631 3431 \r\nQ 1906 3584 2284 3584 \r\nQ 2666 3584 2933 3390 \r\nQ 3200 3197 3328 2828 \r\nz\r\n\" id=\"DejaVuSans-6d\" transform=\"scale(0.015625)\"/>\r\n      <path d=\"M 3122 3366 \r\nL 3122 2828 \r\nQ 2878 2963 2633 3030 \r\nQ 2388 3097 2138 3097 \r\nQ 1578 3097 1268 2742 \r\nQ 959 2388 959 1747 \r\nQ 959 1106 1268 751 \r\nQ 1578 397 2138 397 \r\nQ 2388 397 2633 464 \r\nQ 2878 531 3122 666 \r\nL 3122 134 \r\nQ 2881 22 2623 -34 \r\nQ 2366 -91 2075 -91 \r\nQ 1284 -91 818 406 \r\nQ 353 903 353 1747 \r\nQ 353 2603 823 3093 \r\nQ 1294 3584 2113 3584 \r\nQ 2378 3584 2631 3529 \r\nQ 2884 3475 3122 3366 \r\nz\r\n\" id=\"DejaVuSans-63\" transform=\"scale(0.015625)\"/>\r\n      <path d=\"M 2834 3397 \r\nL 2834 2853 \r\nQ 2591 2978 2328 3040 \r\nQ 2066 3103 1784 3103 \r\nQ 1356 3103 1142 2972 \r\nQ 928 2841 928 2578 \r\nQ 928 2378 1081 2264 \r\nQ 1234 2150 1697 2047 \r\nL 1894 2003 \r\nQ 2506 1872 2764 1633 \r\nQ 3022 1394 3022 966 \r\nQ 3022 478 2636 193 \r\nQ 2250 -91 1575 -91 \r\nQ 1294 -91 989 -36 \r\nQ 684 19 347 128 \r\nL 347 722 \r\nQ 666 556 975 473 \r\nQ 1284 391 1588 391 \r\nQ 1994 391 2212 530 \r\nQ 2431 669 2431 922 \r\nQ 2431 1156 2273 1281 \r\nQ 2116 1406 1581 1522 \r\nL 1381 1569 \r\nQ 847 1681 609 1914 \r\nQ 372 2147 372 2553 \r\nQ 372 3047 722 3315 \r\nQ 1072 3584 1716 3584 \r\nQ 2034 3584 2315 3537 \r\nQ 2597 3491 2834 3397 \r\nz\r\n\" id=\"DejaVuSans-73\" transform=\"scale(0.015625)\"/>\r\n     </defs>\r\n     <use xlink:href=\"#DejaVuSans-54\"/>\r\n     <use x=\"44.083984\" xlink:href=\"#DejaVuSans-6f\"/>\r\n     <use x=\"105.265625\" xlink:href=\"#DejaVuSans-70\"/>\r\n     <use x=\"168.742188\" xlink:href=\"#DejaVuSans-20\"/>\r\n     <use x=\"200.529297\" xlink:href=\"#DejaVuSans-32\"/>\r\n     <use x=\"264.152344\" xlink:href=\"#DejaVuSans-30\"/>\r\n     <use x=\"327.775391\" xlink:href=\"#DejaVuSans-20\"/>\r\n     <use x=\"359.5625\" xlink:href=\"#DejaVuSans-46\"/>\r\n     <use x=\"411.582031\" xlink:href=\"#DejaVuSans-65\"/>\r\n     <use x=\"473.105469\" xlink:href=\"#DejaVuSans-61\"/>\r\n     <use x=\"534.384766\" xlink:href=\"#DejaVuSans-74\"/>\r\n     <use x=\"573.59375\" xlink:href=\"#DejaVuSans-75\"/>\r\n     <use x=\"636.972656\" xlink:href=\"#DejaVuSans-72\"/>\r\n     <use x=\"675.835938\" xlink:href=\"#DejaVuSans-65\"/>\r\n     <use x=\"737.359375\" xlink:href=\"#DejaVuSans-20\"/>\r\n     <use x=\"769.146484\" xlink:href=\"#DejaVuSans-49\"/>\r\n     <use x=\"798.638672\" xlink:href=\"#DejaVuSans-6d\"/>\r\n     <use x=\"896.050781\" xlink:href=\"#DejaVuSans-70\"/>\r\n     <use x=\"959.527344\" xlink:href=\"#DejaVuSans-6f\"/>\r\n     <use x=\"1020.708984\" xlink:href=\"#DejaVuSans-72\"/>\r\n     <use x=\"1061.822266\" xlink:href=\"#DejaVuSans-74\"/>\r\n     <use x=\"1101.03125\" xlink:href=\"#DejaVuSans-61\"/>\r\n     <use x=\"1162.310547\" xlink:href=\"#DejaVuSans-6e\"/>\r\n     <use x=\"1225.689453\" xlink:href=\"#DejaVuSans-63\"/>\r\n     <use x=\"1280.669922\" xlink:href=\"#DejaVuSans-65\"/>\r\n     <use x=\"1342.193359\" xlink:href=\"#DejaVuSans-73\"/>\r\n    </g>\r\n   </g>\r\n  </g>\r\n </g>\r\n <defs>\r\n  <clipPath id=\"pd0d51168a9\">\r\n   <rect height=\"326.16\" width=\"446.4\" x=\"40.817187\" y=\"22.318125\"/>\r\n  </clipPath>\r\n </defs>\r\n</svg>\r\n",
      "image/png": "[encoded data removed]"
     },
     "metadata": {
      "needs_background": "light"
     }
    }
   ],
   "metadata": {}
  },
  {
   "cell_type": "code",
   "execution_count": 33,
   "source": [
    "parameters = {'base_model__C': [0.001, 0.01, 0.1, 1, 10, 100, 1000, 10000],\r\n",
    "          'base_model__gamma': [0.0001, 0.001, 0.01, 1, 10, 100, 1000]}\r\n",
    "# grid search Part\r\n",
    "grid = GridSearchCV(estimator=pipe, param_grid=parameters, cv=5, n_jobs=-1)\r\n",
    "grid.fit(train_data, train_label)\r\n",
    "\r\n",
    "# grid search 결과 출력\r\n",
    "# print(grid)\r\n",
    "print(grid.best_score_)\r\n",
    "print(grid.best_estimator_)\r\n",
    "# print(grid.predict(test_data))\r\n",
    "print(\"학습 결과\", grid.score(train_data, train_label))\r\n",
    "print(\"테스트 결과\", grid.score(test_data, test_label))"
   ],
   "outputs": [
    {
     "output_type": "stream",
     "name": "stdout",
     "text": [
      "0.8996031746031747\n",
      "Pipeline(steps=[('scaler', StandardScaler()),\n",
      "                ('base_model', SVC(C=10, gamma=1))])\n",
      "학습 결과 0.9587301587301588\n",
      "테스트 결과 0.8920634920634921\n"
     ]
    }
   ],
   "metadata": {}
  },
  {
   "cell_type": "code",
   "execution_count": 34,
   "source": [
    "#시각화\r\n",
    "scores = grid.cv_results_['mean_test_score']\r\n",
    "scores = np.array(scores).reshape(len(parameters['base_model__C']), len(parameters['base_model__gamma']))\r\n",
    "for ind, i in enumerate(parameters['base_model__C']):\r\n",
    "    plt.plot(parameters['base_model__gamma'], scores[ind], label='C: ' + str(i))\r\n",
    "plt.legend()\r\n",
    "plt.xlabel('Gamma')\r\n",
    "plt.ylabel('Mean score')\r\n",
    "plt.show()"
   ],
   "outputs": [
    {
     "output_type": "display_data",
     "data": {
      "text/plain": [
       "<Figure size 432x288 with 1 Axes>"
      ],
      "image/svg+xml": "<?xml version=\"1.0\" encoding=\"utf-8\" standalone=\"no\"?>\r\n<!DOCTYPE svg PUBLIC \"-//W3C//DTD SVG 1.1//EN\"\r\n  \"http://www.w3.org/Graphics/SVG/1.1/DTD/svg11.dtd\">\r\n<svg height=\"262.19625pt\" version=\"1.1\" viewBox=\"0 0 392.14375 262.19625\" width=\"392.14375pt\" xmlns=\"http://www.w3.org/2000/svg\" xmlns:xlink=\"http://www.w3.org/1999/xlink\">\r\n <metadata>\r\n  <rdf:RDF xmlns:cc=\"http://creativecommons.org/ns#\" xmlns:dc=\"http://purl.org/dc/elements/1.1/\" xmlns:rdf=\"http://www.w3.org/1999/02/22-rdf-syntax-ns#\">\r\n   <cc:Work>\r\n    <dc:type rdf:resource=\"http://purl.org/dc/dcmitype/StillImage\"/>\r\n    <dc:date>2021-09-01T13:15:31.260151</dc:date>\r\n    <dc:format>image/svg+xml</dc:format>\r\n    <dc:creator>\r\n     <cc:Agent>\r\n      <dc:title>Matplotlib v3.4.2, https://matplotlib.org/</dc:title>\r\n     </cc:Agent>\r\n    </dc:creator>\r\n   </cc:Work>\r\n  </rdf:RDF>\r\n </metadata>\r\n <defs>\r\n  <style type=\"text/css\">*{stroke-linecap:butt;stroke-linejoin:round;}</style>\r\n </defs>\r\n <g id=\"figure_1\">\r\n  <g id=\"patch_1\">\r\n   <path d=\"M 0 262.19625 \r\nL 392.14375 262.19625 \r\nL 392.14375 0 \r\nL 0 0 \r\nz\r\n\" style=\"fill:none;\"/>\r\n  </g>\r\n  <g id=\"axes_1\">\r\n   <g id=\"patch_2\">\r\n    <path d=\"M 50.14375 224.64 \r\nL 384.94375 224.64 \r\nL 384.94375 7.2 \r\nL 50.14375 7.2 \r\nz\r\n\" style=\"fill:#ffffff;\"/>\r\n   </g>\r\n   <g id=\"matplotlib.axis_1\">\r\n    <g id=\"xtick_1\">\r\n     <g id=\"line2d_1\">\r\n      <defs>\r\n       <path d=\"M 0 0 \r\nL 0 3.5 \r\n\" id=\"m05280e02f9\" style=\"stroke:#000000;stroke-width:0.8;\"/>\r\n      </defs>\r\n      <g>\r\n       <use style=\"stroke:#000000;stroke-width:0.8;\" x=\"65.361901\" xlink:href=\"#m05280e02f9\" y=\"224.64\"/>\r\n      </g>\r\n     </g>\r\n     <g id=\"text_1\">\r\n      <!-- 0 -->\r\n      <g transform=\"translate(62.180651 239.238437)scale(0.1 -0.1)\">\r\n       <defs>\r\n        <path d=\"M 2034 4250 \r\nQ 1547 4250 1301 3770 \r\nQ 1056 3291 1056 2328 \r\nQ 1056 1369 1301 889 \r\nQ 1547 409 2034 409 \r\nQ 2525 409 2770 889 \r\nQ 3016 1369 3016 2328 \r\nQ 3016 3291 2770 3770 \r\nQ 2525 4250 2034 4250 \r\nz\r\nM 2034 4750 \r\nQ 2819 4750 3233 4129 \r\nQ 3647 3509 3647 2328 \r\nQ 3647 1150 3233 529 \r\nQ 2819 -91 2034 -91 \r\nQ 1250 -91 836 529 \r\nQ 422 1150 422 2328 \r\nQ 422 3509 836 4129 \r\nQ 1250 4750 2034 4750 \r\nz\r\n\" id=\"DejaVuSans-30\" transform=\"scale(0.015625)\"/>\r\n       </defs>\r\n       <use xlink:href=\"#DejaVuSans-30\"/>\r\n      </g>\r\n     </g>\r\n    </g>\r\n    <g id=\"xtick_2\">\r\n     <g id=\"line2d_2\">\r\n      <g>\r\n       <use style=\"stroke:#000000;stroke-width:0.8;\" x=\"126.234635\" xlink:href=\"#m05280e02f9\" y=\"224.64\"/>\r\n      </g>\r\n     </g>\r\n     <g id=\"text_2\">\r\n      <!-- 200 -->\r\n      <g transform=\"translate(116.690885 239.238437)scale(0.1 -0.1)\">\r\n       <defs>\r\n        <path d=\"M 1228 531 \r\nL 3431 531 \r\nL 3431 0 \r\nL 469 0 \r\nL 469 531 \r\nQ 828 903 1448 1529 \r\nQ 2069 2156 2228 2338 \r\nQ 2531 2678 2651 2914 \r\nQ 2772 3150 2772 3378 \r\nQ 2772 3750 2511 3984 \r\nQ 2250 4219 1831 4219 \r\nQ 1534 4219 1204 4116 \r\nQ 875 4013 500 3803 \r\nL 500 4441 \r\nQ 881 4594 1212 4672 \r\nQ 1544 4750 1819 4750 \r\nQ 2544 4750 2975 4387 \r\nQ 3406 4025 3406 3419 \r\nQ 3406 3131 3298 2873 \r\nQ 3191 2616 2906 2266 \r\nQ 2828 2175 2409 1742 \r\nQ 1991 1309 1228 531 \r\nz\r\n\" id=\"DejaVuSans-32\" transform=\"scale(0.015625)\"/>\r\n       </defs>\r\n       <use xlink:href=\"#DejaVuSans-32\"/>\r\n       <use x=\"63.623047\" xlink:href=\"#DejaVuSans-30\"/>\r\n       <use x=\"127.246094\" xlink:href=\"#DejaVuSans-30\"/>\r\n      </g>\r\n     </g>\r\n    </g>\r\n    <g id=\"xtick_3\">\r\n     <g id=\"line2d_3\">\r\n      <g>\r\n       <use style=\"stroke:#000000;stroke-width:0.8;\" x=\"187.107368\" xlink:href=\"#m05280e02f9\" y=\"224.64\"/>\r\n      </g>\r\n     </g>\r\n     <g id=\"text_3\">\r\n      <!-- 400 -->\r\n      <g transform=\"translate(177.563618 239.238437)scale(0.1 -0.1)\">\r\n       <defs>\r\n        <path d=\"M 2419 4116 \r\nL 825 1625 \r\nL 2419 1625 \r\nL 2419 4116 \r\nz\r\nM 2253 4666 \r\nL 3047 4666 \r\nL 3047 1625 \r\nL 3713 1625 \r\nL 3713 1100 \r\nL 3047 1100 \r\nL 3047 0 \r\nL 2419 0 \r\nL 2419 1100 \r\nL 313 1100 \r\nL 313 1709 \r\nL 2253 4666 \r\nz\r\n\" id=\"DejaVuSans-34\" transform=\"scale(0.015625)\"/>\r\n       </defs>\r\n       <use xlink:href=\"#DejaVuSans-34\"/>\r\n       <use x=\"63.623047\" xlink:href=\"#DejaVuSans-30\"/>\r\n       <use x=\"127.246094\" xlink:href=\"#DejaVuSans-30\"/>\r\n      </g>\r\n     </g>\r\n    </g>\r\n    <g id=\"xtick_4\">\r\n     <g id=\"line2d_4\">\r\n      <g>\r\n       <use style=\"stroke:#000000;stroke-width:0.8;\" x=\"247.980101\" xlink:href=\"#m05280e02f9\" y=\"224.64\"/>\r\n      </g>\r\n     </g>\r\n     <g id=\"text_4\">\r\n      <!-- 600 -->\r\n      <g transform=\"translate(238.436351 239.238437)scale(0.1 -0.1)\">\r\n       <defs>\r\n        <path d=\"M 2113 2584 \r\nQ 1688 2584 1439 2293 \r\nQ 1191 2003 1191 1497 \r\nQ 1191 994 1439 701 \r\nQ 1688 409 2113 409 \r\nQ 2538 409 2786 701 \r\nQ 3034 994 3034 1497 \r\nQ 3034 2003 2786 2293 \r\nQ 2538 2584 2113 2584 \r\nz\r\nM 3366 4563 \r\nL 3366 3988 \r\nQ 3128 4100 2886 4159 \r\nQ 2644 4219 2406 4219 \r\nQ 1781 4219 1451 3797 \r\nQ 1122 3375 1075 2522 \r\nQ 1259 2794 1537 2939 \r\nQ 1816 3084 2150 3084 \r\nQ 2853 3084 3261 2657 \r\nQ 3669 2231 3669 1497 \r\nQ 3669 778 3244 343 \r\nQ 2819 -91 2113 -91 \r\nQ 1303 -91 875 529 \r\nQ 447 1150 447 2328 \r\nQ 447 3434 972 4092 \r\nQ 1497 4750 2381 4750 \r\nQ 2619 4750 2861 4703 \r\nQ 3103 4656 3366 4563 \r\nz\r\n\" id=\"DejaVuSans-36\" transform=\"scale(0.015625)\"/>\r\n       </defs>\r\n       <use xlink:href=\"#DejaVuSans-36\"/>\r\n       <use x=\"63.623047\" xlink:href=\"#DejaVuSans-30\"/>\r\n       <use x=\"127.246094\" xlink:href=\"#DejaVuSans-30\"/>\r\n      </g>\r\n     </g>\r\n    </g>\r\n    <g id=\"xtick_5\">\r\n     <g id=\"line2d_5\">\r\n      <g>\r\n       <use style=\"stroke:#000000;stroke-width:0.8;\" x=\"308.852835\" xlink:href=\"#m05280e02f9\" y=\"224.64\"/>\r\n      </g>\r\n     </g>\r\n     <g id=\"text_5\">\r\n      <!-- 800 -->\r\n      <g transform=\"translate(299.309085 239.238437)scale(0.1 -0.1)\">\r\n       <defs>\r\n        <path d=\"M 2034 2216 \r\nQ 1584 2216 1326 1975 \r\nQ 1069 1734 1069 1313 \r\nQ 1069 891 1326 650 \r\nQ 1584 409 2034 409 \r\nQ 2484 409 2743 651 \r\nQ 3003 894 3003 1313 \r\nQ 3003 1734 2745 1975 \r\nQ 2488 2216 2034 2216 \r\nz\r\nM 1403 2484 \r\nQ 997 2584 770 2862 \r\nQ 544 3141 544 3541 \r\nQ 544 4100 942 4425 \r\nQ 1341 4750 2034 4750 \r\nQ 2731 4750 3128 4425 \r\nQ 3525 4100 3525 3541 \r\nQ 3525 3141 3298 2862 \r\nQ 3072 2584 2669 2484 \r\nQ 3125 2378 3379 2068 \r\nQ 3634 1759 3634 1313 \r\nQ 3634 634 3220 271 \r\nQ 2806 -91 2034 -91 \r\nQ 1263 -91 848 271 \r\nQ 434 634 434 1313 \r\nQ 434 1759 690 2068 \r\nQ 947 2378 1403 2484 \r\nz\r\nM 1172 3481 \r\nQ 1172 3119 1398 2916 \r\nQ 1625 2713 2034 2713 \r\nQ 2441 2713 2670 2916 \r\nQ 2900 3119 2900 3481 \r\nQ 2900 3844 2670 4047 \r\nQ 2441 4250 2034 4250 \r\nQ 1625 4250 1398 4047 \r\nQ 1172 3844 1172 3481 \r\nz\r\n\" id=\"DejaVuSans-38\" transform=\"scale(0.015625)\"/>\r\n       </defs>\r\n       <use xlink:href=\"#DejaVuSans-38\"/>\r\n       <use x=\"63.623047\" xlink:href=\"#DejaVuSans-30\"/>\r\n       <use x=\"127.246094\" xlink:href=\"#DejaVuSans-30\"/>\r\n      </g>\r\n     </g>\r\n    </g>\r\n    <g id=\"xtick_6\">\r\n     <g id=\"line2d_6\">\r\n      <g>\r\n       <use style=\"stroke:#000000;stroke-width:0.8;\" x=\"369.725568\" xlink:href=\"#m05280e02f9\" y=\"224.64\"/>\r\n      </g>\r\n     </g>\r\n     <g id=\"text_6\">\r\n      <!-- 1000 -->\r\n      <g transform=\"translate(357.000568 239.238437)scale(0.1 -0.1)\">\r\n       <defs>\r\n        <path d=\"M 794 531 \r\nL 1825 531 \r\nL 1825 4091 \r\nL 703 3866 \r\nL 703 4441 \r\nL 1819 4666 \r\nL 2450 4666 \r\nL 2450 531 \r\nL 3481 531 \r\nL 3481 0 \r\nL 794 0 \r\nL 794 531 \r\nz\r\n\" id=\"DejaVuSans-31\" transform=\"scale(0.015625)\"/>\r\n       </defs>\r\n       <use xlink:href=\"#DejaVuSans-31\"/>\r\n       <use x=\"63.623047\" xlink:href=\"#DejaVuSans-30\"/>\r\n       <use x=\"127.246094\" xlink:href=\"#DejaVuSans-30\"/>\r\n       <use x=\"190.869141\" xlink:href=\"#DejaVuSans-30\"/>\r\n      </g>\r\n     </g>\r\n    </g>\r\n    <g id=\"text_7\">\r\n     <!-- Gamma -->\r\n     <g transform=\"translate(197.800781 252.916562)scale(0.1 -0.1)\">\r\n      <defs>\r\n       <path d=\"M 3809 666 \r\nL 3809 1919 \r\nL 2778 1919 \r\nL 2778 2438 \r\nL 4434 2438 \r\nL 4434 434 \r\nQ 4069 175 3628 42 \r\nQ 3188 -91 2688 -91 \r\nQ 1594 -91 976 548 \r\nQ 359 1188 359 2328 \r\nQ 359 3472 976 4111 \r\nQ 1594 4750 2688 4750 \r\nQ 3144 4750 3555 4637 \r\nQ 3966 4525 4313 4306 \r\nL 4313 3634 \r\nQ 3963 3931 3569 4081 \r\nQ 3175 4231 2741 4231 \r\nQ 1884 4231 1454 3753 \r\nQ 1025 3275 1025 2328 \r\nQ 1025 1384 1454 906 \r\nQ 1884 428 2741 428 \r\nQ 3075 428 3337 486 \r\nQ 3600 544 3809 666 \r\nz\r\n\" id=\"DejaVuSans-47\" transform=\"scale(0.015625)\"/>\r\n       <path d=\"M 2194 1759 \r\nQ 1497 1759 1228 1600 \r\nQ 959 1441 959 1056 \r\nQ 959 750 1161 570 \r\nQ 1363 391 1709 391 \r\nQ 2188 391 2477 730 \r\nQ 2766 1069 2766 1631 \r\nL 2766 1759 \r\nL 2194 1759 \r\nz\r\nM 3341 1997 \r\nL 3341 0 \r\nL 2766 0 \r\nL 2766 531 \r\nQ 2569 213 2275 61 \r\nQ 1981 -91 1556 -91 \r\nQ 1019 -91 701 211 \r\nQ 384 513 384 1019 \r\nQ 384 1609 779 1909 \r\nQ 1175 2209 1959 2209 \r\nL 2766 2209 \r\nL 2766 2266 \r\nQ 2766 2663 2505 2880 \r\nQ 2244 3097 1772 3097 \r\nQ 1472 3097 1187 3025 \r\nQ 903 2953 641 2809 \r\nL 641 3341 \r\nQ 956 3463 1253 3523 \r\nQ 1550 3584 1831 3584 \r\nQ 2591 3584 2966 3190 \r\nQ 3341 2797 3341 1997 \r\nz\r\n\" id=\"DejaVuSans-61\" transform=\"scale(0.015625)\"/>\r\n       <path d=\"M 3328 2828 \r\nQ 3544 3216 3844 3400 \r\nQ 4144 3584 4550 3584 \r\nQ 5097 3584 5394 3201 \r\nQ 5691 2819 5691 2113 \r\nL 5691 0 \r\nL 5113 0 \r\nL 5113 2094 \r\nQ 5113 2597 4934 2840 \r\nQ 4756 3084 4391 3084 \r\nQ 3944 3084 3684 2787 \r\nQ 3425 2491 3425 1978 \r\nL 3425 0 \r\nL 2847 0 \r\nL 2847 2094 \r\nQ 2847 2600 2669 2842 \r\nQ 2491 3084 2119 3084 \r\nQ 1678 3084 1418 2786 \r\nQ 1159 2488 1159 1978 \r\nL 1159 0 \r\nL 581 0 \r\nL 581 3500 \r\nL 1159 3500 \r\nL 1159 2956 \r\nQ 1356 3278 1631 3431 \r\nQ 1906 3584 2284 3584 \r\nQ 2666 3584 2933 3390 \r\nQ 3200 3197 3328 2828 \r\nz\r\n\" id=\"DejaVuSans-6d\" transform=\"scale(0.015625)\"/>\r\n      </defs>\r\n      <use xlink:href=\"#DejaVuSans-47\"/>\r\n      <use x=\"77.490234\" xlink:href=\"#DejaVuSans-61\"/>\r\n      <use x=\"138.769531\" xlink:href=\"#DejaVuSans-6d\"/>\r\n      <use x=\"236.181641\" xlink:href=\"#DejaVuSans-6d\"/>\r\n      <use x=\"333.59375\" xlink:href=\"#DejaVuSans-61\"/>\r\n     </g>\r\n    </g>\r\n   </g>\r\n   <g id=\"matplotlib.axis_2\">\r\n    <g id=\"ytick_1\">\r\n     <g id=\"line2d_7\">\r\n      <defs>\r\n       <path d=\"M 0 0 \r\nL -3.5 0 \r\n\" id=\"m13b517bfa8\" style=\"stroke:#000000;stroke-width:0.8;\"/>\r\n      </defs>\r\n      <g>\r\n       <use style=\"stroke:#000000;stroke-width:0.8;\" x=\"50.14375\" xlink:href=\"#m13b517bfa8\" y=\"215.149742\"/>\r\n      </g>\r\n     </g>\r\n     <g id=\"text_8\">\r\n      <!-- 0.50 -->\r\n      <g transform=\"translate(20.878125 218.948961)scale(0.1 -0.1)\">\r\n       <defs>\r\n        <path d=\"M 684 794 \r\nL 1344 794 \r\nL 1344 0 \r\nL 684 0 \r\nL 684 794 \r\nz\r\n\" id=\"DejaVuSans-2e\" transform=\"scale(0.015625)\"/>\r\n        <path d=\"M 691 4666 \r\nL 3169 4666 \r\nL 3169 4134 \r\nL 1269 4134 \r\nL 1269 2991 \r\nQ 1406 3038 1543 3061 \r\nQ 1681 3084 1819 3084 \r\nQ 2600 3084 3056 2656 \r\nQ 3513 2228 3513 1497 \r\nQ 3513 744 3044 326 \r\nQ 2575 -91 1722 -91 \r\nQ 1428 -91 1123 -41 \r\nQ 819 9 494 109 \r\nL 494 744 \r\nQ 775 591 1075 516 \r\nQ 1375 441 1709 441 \r\nQ 2250 441 2565 725 \r\nQ 2881 1009 2881 1497 \r\nQ 2881 1984 2565 2268 \r\nQ 2250 2553 1709 2553 \r\nQ 1456 2553 1204 2497 \r\nQ 953 2441 691 2322 \r\nL 691 4666 \r\nz\r\n\" id=\"DejaVuSans-35\" transform=\"scale(0.015625)\"/>\r\n       </defs>\r\n       <use xlink:href=\"#DejaVuSans-30\"/>\r\n       <use x=\"63.623047\" xlink:href=\"#DejaVuSans-2e\"/>\r\n       <use x=\"95.410156\" xlink:href=\"#DejaVuSans-35\"/>\r\n       <use x=\"159.033203\" xlink:href=\"#DejaVuSans-30\"/>\r\n      </g>\r\n     </g>\r\n    </g>\r\n    <g id=\"ytick_2\">\r\n     <g id=\"line2d_8\">\r\n      <g>\r\n       <use style=\"stroke:#000000;stroke-width:0.8;\" x=\"50.14375\" xlink:href=\"#m13b517bfa8\" y=\"190.366893\"/>\r\n      </g>\r\n     </g>\r\n     <g id=\"text_9\">\r\n      <!-- 0.55 -->\r\n      <g transform=\"translate(20.878125 194.166112)scale(0.1 -0.1)\">\r\n       <use xlink:href=\"#DejaVuSans-30\"/>\r\n       <use x=\"63.623047\" xlink:href=\"#DejaVuSans-2e\"/>\r\n       <use x=\"95.410156\" xlink:href=\"#DejaVuSans-35\"/>\r\n       <use x=\"159.033203\" xlink:href=\"#DejaVuSans-35\"/>\r\n      </g>\r\n     </g>\r\n    </g>\r\n    <g id=\"ytick_3\">\r\n     <g id=\"line2d_9\">\r\n      <g>\r\n       <use style=\"stroke:#000000;stroke-width:0.8;\" x=\"50.14375\" xlink:href=\"#m13b517bfa8\" y=\"165.584043\"/>\r\n      </g>\r\n     </g>\r\n     <g id=\"text_10\">\r\n      <!-- 0.60 -->\r\n      <g transform=\"translate(20.878125 169.383262)scale(0.1 -0.1)\">\r\n       <use xlink:href=\"#DejaVuSans-30\"/>\r\n       <use x=\"63.623047\" xlink:href=\"#DejaVuSans-2e\"/>\r\n       <use x=\"95.410156\" xlink:href=\"#DejaVuSans-36\"/>\r\n       <use x=\"159.033203\" xlink:href=\"#DejaVuSans-30\"/>\r\n      </g>\r\n     </g>\r\n    </g>\r\n    <g id=\"ytick_4\">\r\n     <g id=\"line2d_10\">\r\n      <g>\r\n       <use style=\"stroke:#000000;stroke-width:0.8;\" x=\"50.14375\" xlink:href=\"#m13b517bfa8\" y=\"140.801194\"/>\r\n      </g>\r\n     </g>\r\n     <g id=\"text_11\">\r\n      <!-- 0.65 -->\r\n      <g transform=\"translate(20.878125 144.600413)scale(0.1 -0.1)\">\r\n       <use xlink:href=\"#DejaVuSans-30\"/>\r\n       <use x=\"63.623047\" xlink:href=\"#DejaVuSans-2e\"/>\r\n       <use x=\"95.410156\" xlink:href=\"#DejaVuSans-36\"/>\r\n       <use x=\"159.033203\" xlink:href=\"#DejaVuSans-35\"/>\r\n      </g>\r\n     </g>\r\n    </g>\r\n    <g id=\"ytick_5\">\r\n     <g id=\"line2d_11\">\r\n      <g>\r\n       <use style=\"stroke:#000000;stroke-width:0.8;\" x=\"50.14375\" xlink:href=\"#m13b517bfa8\" y=\"116.018345\"/>\r\n      </g>\r\n     </g>\r\n     <g id=\"text_12\">\r\n      <!-- 0.70 -->\r\n      <g transform=\"translate(20.878125 119.817563)scale(0.1 -0.1)\">\r\n       <defs>\r\n        <path d=\"M 525 4666 \r\nL 3525 4666 \r\nL 3525 4397 \r\nL 1831 0 \r\nL 1172 0 \r\nL 2766 4134 \r\nL 525 4134 \r\nL 525 4666 \r\nz\r\n\" id=\"DejaVuSans-37\" transform=\"scale(0.015625)\"/>\r\n       </defs>\r\n       <use xlink:href=\"#DejaVuSans-30\"/>\r\n       <use x=\"63.623047\" xlink:href=\"#DejaVuSans-2e\"/>\r\n       <use x=\"95.410156\" xlink:href=\"#DejaVuSans-37\"/>\r\n       <use x=\"159.033203\" xlink:href=\"#DejaVuSans-30\"/>\r\n      </g>\r\n     </g>\r\n    </g>\r\n    <g id=\"ytick_6\">\r\n     <g id=\"line2d_12\">\r\n      <g>\r\n       <use style=\"stroke:#000000;stroke-width:0.8;\" x=\"50.14375\" xlink:href=\"#m13b517bfa8\" y=\"91.235495\"/>\r\n      </g>\r\n     </g>\r\n     <g id=\"text_13\">\r\n      <!-- 0.75 -->\r\n      <g transform=\"translate(20.878125 95.034714)scale(0.1 -0.1)\">\r\n       <use xlink:href=\"#DejaVuSans-30\"/>\r\n       <use x=\"63.623047\" xlink:href=\"#DejaVuSans-2e\"/>\r\n       <use x=\"95.410156\" xlink:href=\"#DejaVuSans-37\"/>\r\n       <use x=\"159.033203\" xlink:href=\"#DejaVuSans-35\"/>\r\n      </g>\r\n     </g>\r\n    </g>\r\n    <g id=\"ytick_7\">\r\n     <g id=\"line2d_13\">\r\n      <g>\r\n       <use style=\"stroke:#000000;stroke-width:0.8;\" x=\"50.14375\" xlink:href=\"#m13b517bfa8\" y=\"66.452646\"/>\r\n      </g>\r\n     </g>\r\n     <g id=\"text_14\">\r\n      <!-- 0.80 -->\r\n      <g transform=\"translate(20.878125 70.251865)scale(0.1 -0.1)\">\r\n       <use xlink:href=\"#DejaVuSans-30\"/>\r\n       <use x=\"63.623047\" xlink:href=\"#DejaVuSans-2e\"/>\r\n       <use x=\"95.410156\" xlink:href=\"#DejaVuSans-38\"/>\r\n       <use x=\"159.033203\" xlink:href=\"#DejaVuSans-30\"/>\r\n      </g>\r\n     </g>\r\n    </g>\r\n    <g id=\"ytick_8\">\r\n     <g id=\"line2d_14\">\r\n      <g>\r\n       <use style=\"stroke:#000000;stroke-width:0.8;\" x=\"50.14375\" xlink:href=\"#m13b517bfa8\" y=\"41.669796\"/>\r\n      </g>\r\n     </g>\r\n     <g id=\"text_15\">\r\n      <!-- 0.85 -->\r\n      <g transform=\"translate(20.878125 45.469015)scale(0.1 -0.1)\">\r\n       <use xlink:href=\"#DejaVuSans-30\"/>\r\n       <use x=\"63.623047\" xlink:href=\"#DejaVuSans-2e\"/>\r\n       <use x=\"95.410156\" xlink:href=\"#DejaVuSans-38\"/>\r\n       <use x=\"159.033203\" xlink:href=\"#DejaVuSans-35\"/>\r\n      </g>\r\n     </g>\r\n    </g>\r\n    <g id=\"ytick_9\">\r\n     <g id=\"line2d_15\">\r\n      <g>\r\n       <use style=\"stroke:#000000;stroke-width:0.8;\" x=\"50.14375\" xlink:href=\"#m13b517bfa8\" y=\"16.886947\"/>\r\n      </g>\r\n     </g>\r\n     <g id=\"text_16\">\r\n      <!-- 0.90 -->\r\n      <g transform=\"translate(20.878125 20.686166)scale(0.1 -0.1)\">\r\n       <defs>\r\n        <path d=\"M 703 97 \r\nL 703 672 \r\nQ 941 559 1184 500 \r\nQ 1428 441 1663 441 \r\nQ 2288 441 2617 861 \r\nQ 2947 1281 2994 2138 \r\nQ 2813 1869 2534 1725 \r\nQ 2256 1581 1919 1581 \r\nQ 1219 1581 811 2004 \r\nQ 403 2428 403 3163 \r\nQ 403 3881 828 4315 \r\nQ 1253 4750 1959 4750 \r\nQ 2769 4750 3195 4129 \r\nQ 3622 3509 3622 2328 \r\nQ 3622 1225 3098 567 \r\nQ 2575 -91 1691 -91 \r\nQ 1453 -91 1209 -44 \r\nQ 966 3 703 97 \r\nz\r\nM 1959 2075 \r\nQ 2384 2075 2632 2365 \r\nQ 2881 2656 2881 3163 \r\nQ 2881 3666 2632 3958 \r\nQ 2384 4250 1959 4250 \r\nQ 1534 4250 1286 3958 \r\nQ 1038 3666 1038 3163 \r\nQ 1038 2656 1286 2365 \r\nQ 1534 2075 1959 2075 \r\nz\r\n\" id=\"DejaVuSans-39\" transform=\"scale(0.015625)\"/>\r\n       </defs>\r\n       <use xlink:href=\"#DejaVuSans-30\"/>\r\n       <use x=\"63.623047\" xlink:href=\"#DejaVuSans-2e\"/>\r\n       <use x=\"95.410156\" xlink:href=\"#DejaVuSans-39\"/>\r\n       <use x=\"159.033203\" xlink:href=\"#DejaVuSans-30\"/>\r\n      </g>\r\n     </g>\r\n    </g>\r\n    <g id=\"text_17\">\r\n     <!-- Mean score -->\r\n     <g transform=\"translate(14.798438 144.565312)rotate(-90)scale(0.1 -0.1)\">\r\n      <defs>\r\n       <path d=\"M 628 4666 \r\nL 1569 4666 \r\nL 2759 1491 \r\nL 3956 4666 \r\nL 4897 4666 \r\nL 4897 0 \r\nL 4281 0 \r\nL 4281 4097 \r\nL 3078 897 \r\nL 2444 897 \r\nL 1241 4097 \r\nL 1241 0 \r\nL 628 0 \r\nL 628 4666 \r\nz\r\n\" id=\"DejaVuSans-4d\" transform=\"scale(0.015625)\"/>\r\n       <path d=\"M 3597 1894 \r\nL 3597 1613 \r\nL 953 1613 \r\nQ 991 1019 1311 708 \r\nQ 1631 397 2203 397 \r\nQ 2534 397 2845 478 \r\nQ 3156 559 3463 722 \r\nL 3463 178 \r\nQ 3153 47 2828 -22 \r\nQ 2503 -91 2169 -91 \r\nQ 1331 -91 842 396 \r\nQ 353 884 353 1716 \r\nQ 353 2575 817 3079 \r\nQ 1281 3584 2069 3584 \r\nQ 2775 3584 3186 3129 \r\nQ 3597 2675 3597 1894 \r\nz\r\nM 3022 2063 \r\nQ 3016 2534 2758 2815 \r\nQ 2500 3097 2075 3097 \r\nQ 1594 3097 1305 2825 \r\nQ 1016 2553 972 2059 \r\nL 3022 2063 \r\nz\r\n\" id=\"DejaVuSans-65\" transform=\"scale(0.015625)\"/>\r\n       <path d=\"M 3513 2113 \r\nL 3513 0 \r\nL 2938 0 \r\nL 2938 2094 \r\nQ 2938 2591 2744 2837 \r\nQ 2550 3084 2163 3084 \r\nQ 1697 3084 1428 2787 \r\nQ 1159 2491 1159 1978 \r\nL 1159 0 \r\nL 581 0 \r\nL 581 3500 \r\nL 1159 3500 \r\nL 1159 2956 \r\nQ 1366 3272 1645 3428 \r\nQ 1925 3584 2291 3584 \r\nQ 2894 3584 3203 3211 \r\nQ 3513 2838 3513 2113 \r\nz\r\n\" id=\"DejaVuSans-6e\" transform=\"scale(0.015625)\"/>\r\n       <path id=\"DejaVuSans-20\" transform=\"scale(0.015625)\"/>\r\n       <path d=\"M 2834 3397 \r\nL 2834 2853 \r\nQ 2591 2978 2328 3040 \r\nQ 2066 3103 1784 3103 \r\nQ 1356 3103 1142 2972 \r\nQ 928 2841 928 2578 \r\nQ 928 2378 1081 2264 \r\nQ 1234 2150 1697 2047 \r\nL 1894 2003 \r\nQ 2506 1872 2764 1633 \r\nQ 3022 1394 3022 966 \r\nQ 3022 478 2636 193 \r\nQ 2250 -91 1575 -91 \r\nQ 1294 -91 989 -36 \r\nQ 684 19 347 128 \r\nL 347 722 \r\nQ 666 556 975 473 \r\nQ 1284 391 1588 391 \r\nQ 1994 391 2212 530 \r\nQ 2431 669 2431 922 \r\nQ 2431 1156 2273 1281 \r\nQ 2116 1406 1581 1522 \r\nL 1381 1569 \r\nQ 847 1681 609 1914 \r\nQ 372 2147 372 2553 \r\nQ 372 3047 722 3315 \r\nQ 1072 3584 1716 3584 \r\nQ 2034 3584 2315 3537 \r\nQ 2597 3491 2834 3397 \r\nz\r\n\" id=\"DejaVuSans-73\" transform=\"scale(0.015625)\"/>\r\n       <path d=\"M 3122 3366 \r\nL 3122 2828 \r\nQ 2878 2963 2633 3030 \r\nQ 2388 3097 2138 3097 \r\nQ 1578 3097 1268 2742 \r\nQ 959 2388 959 1747 \r\nQ 959 1106 1268 751 \r\nQ 1578 397 2138 397 \r\nQ 2388 397 2633 464 \r\nQ 2878 531 3122 666 \r\nL 3122 134 \r\nQ 2881 22 2623 -34 \r\nQ 2366 -91 2075 -91 \r\nQ 1284 -91 818 406 \r\nQ 353 903 353 1747 \r\nQ 353 2603 823 3093 \r\nQ 1294 3584 2113 3584 \r\nQ 2378 3584 2631 3529 \r\nQ 2884 3475 3122 3366 \r\nz\r\n\" id=\"DejaVuSans-63\" transform=\"scale(0.015625)\"/>\r\n       <path d=\"M 1959 3097 \r\nQ 1497 3097 1228 2736 \r\nQ 959 2375 959 1747 \r\nQ 959 1119 1226 758 \r\nQ 1494 397 1959 397 \r\nQ 2419 397 2687 759 \r\nQ 2956 1122 2956 1747 \r\nQ 2956 2369 2687 2733 \r\nQ 2419 3097 1959 3097 \r\nz\r\nM 1959 3584 \r\nQ 2709 3584 3137 3096 \r\nQ 3566 2609 3566 1747 \r\nQ 3566 888 3137 398 \r\nQ 2709 -91 1959 -91 \r\nQ 1206 -91 779 398 \r\nQ 353 888 353 1747 \r\nQ 353 2609 779 3096 \r\nQ 1206 3584 1959 3584 \r\nz\r\n\" id=\"DejaVuSans-6f\" transform=\"scale(0.015625)\"/>\r\n       <path d=\"M 2631 2963 \r\nQ 2534 3019 2420 3045 \r\nQ 2306 3072 2169 3072 \r\nQ 1681 3072 1420 2755 \r\nQ 1159 2438 1159 1844 \r\nL 1159 0 \r\nL 581 0 \r\nL 581 3500 \r\nL 1159 3500 \r\nL 1159 2956 \r\nQ 1341 3275 1631 3429 \r\nQ 1922 3584 2338 3584 \r\nQ 2397 3584 2469 3576 \r\nQ 2541 3569 2628 3553 \r\nL 2631 2963 \r\nz\r\n\" id=\"DejaVuSans-72\" transform=\"scale(0.015625)\"/>\r\n      </defs>\r\n      <use xlink:href=\"#DejaVuSans-4d\"/>\r\n      <use x=\"86.279297\" xlink:href=\"#DejaVuSans-65\"/>\r\n      <use x=\"147.802734\" xlink:href=\"#DejaVuSans-61\"/>\r\n      <use x=\"209.082031\" xlink:href=\"#DejaVuSans-6e\"/>\r\n      <use x=\"272.460938\" xlink:href=\"#DejaVuSans-20\"/>\r\n      <use x=\"304.248047\" xlink:href=\"#DejaVuSans-73\"/>\r\n      <use x=\"356.347656\" xlink:href=\"#DejaVuSans-63\"/>\r\n      <use x=\"411.328125\" xlink:href=\"#DejaVuSans-6f\"/>\r\n      <use x=\"472.509766\" xlink:href=\"#DejaVuSans-72\"/>\r\n      <use x=\"511.373047\" xlink:href=\"#DejaVuSans-65\"/>\r\n     </g>\r\n    </g>\r\n   </g>\r\n   <g id=\"line2d_16\">\r\n    <path clip-path=\"url(#pcfbb31c378)\" d=\"M 65.361932 214.756364 \r\nL 65.362206 214.756364 \r\nL 65.364945 214.756364 \r\nL 65.666265 214.756364 \r\nL 68.405538 214.756364 \r\nL 95.798268 214.756364 \r\nL 369.725568 214.756364 \r\n\" style=\"fill:none;stroke:#1f77b4;stroke-linecap:square;stroke-width:1.5;\"/>\r\n   </g>\r\n   <g id=\"line2d_17\">\r\n    <path clip-path=\"url(#pcfbb31c378)\" d=\"M 65.361932 214.756364 \r\nL 65.362206 214.756364 \r\nL 65.364945 212.002714 \r\nL 65.666265 72.550014 \r\nL 68.405538 138.244233 \r\nL 95.798268 214.756364 \r\nL 369.725568 214.756364 \r\n\" style=\"fill:none;stroke:#ff7f0e;stroke-linecap:square;stroke-width:1.5;\"/>\r\n   </g>\r\n   <g id=\"line2d_18\">\r\n    <path clip-path=\"url(#pcfbb31c378)\" d=\"M 65.361932 214.756364 \r\nL 65.362206 171.091343 \r\nL 65.364945 64.485753 \r\nL 65.666265 41.669796 \r\nL 68.405538 89.268602 \r\nL 95.798268 130.770041 \r\nL 369.725568 214.756364 \r\n\" style=\"fill:none;stroke:#2ca02c;stroke-linecap:square;stroke-width:1.5;\"/>\r\n   </g>\r\n   <g id=\"line2d_19\">\r\n    <path clip-path=\"url(#pcfbb31c378)\" d=\"M 65.361932 162.437015 \r\nL 65.362206 70.189742 \r\nL 65.364945 51.70095 \r\nL 65.666265 21.410801 \r\nL 68.405538 36.555875 \r\nL 95.798268 97.922931 \r\nL 369.725568 144.144912 \r\n\" style=\"fill:none;stroke:#d62728;stroke-linecap:square;stroke-width:1.5;\"/>\r\n   </g>\r\n   <g id=\"line2d_20\">\r\n    <path clip-path=\"url(#pcfbb31c378)\" d=\"M 65.361932 73.336771 \r\nL 65.362206 49.734057 \r\nL 65.364945 36.555875 \r\nL 65.666265 17.083636 \r\nL 68.405538 35.17905 \r\nL 95.798268 93.792456 \r\nL 369.725568 141.194573 \r\n\" style=\"fill:none;stroke:#9467bd;stroke-linecap:square;stroke-width:1.5;\"/>\r\n   </g>\r\n   <g id=\"line2d_21\">\r\n    <path clip-path=\"url(#pcfbb31c378)\" d=\"M 65.361932 51.504261 \r\nL 65.362206 38.326079 \r\nL 65.364945 31.245265 \r\nL 65.666265 22.197558 \r\nL 68.405538 38.129389 \r\nL 95.798268 93.792456 \r\nL 369.725568 141.194573 \r\n\" style=\"fill:none;stroke:#8c564b;stroke-linecap:square;stroke-width:1.5;\"/>\r\n   </g>\r\n   <g id=\"line2d_22\">\r\n    <path clip-path=\"url(#pcfbb31c378)\" d=\"M 65.361932 36.752564 \r\nL 65.362206 35.572429 \r\nL 65.364945 26.131343 \r\nL 65.666265 28.884993 \r\nL 68.405538 38.129389 \r\nL 95.798268 93.792456 \r\nL 369.725568 141.194573 \r\n\" style=\"fill:none;stroke:#e377c2;stroke-linecap:square;stroke-width:1.5;\"/>\r\n   </g>\r\n   <g id=\"line2d_23\">\r\n    <path clip-path=\"url(#pcfbb31c378)\" d=\"M 65.361932 33.998915 \r\nL 65.362206 34.785672 \r\nL 65.364945 25.147897 \r\nL 65.666265 36.752564 \r\nL 68.405538 38.129389 \r\nL 95.798268 93.792456 \r\nL 369.725568 141.194573 \r\n\" style=\"fill:none;stroke:#7f7f7f;stroke-linecap:square;stroke-width:1.5;\"/>\r\n   </g>\r\n   <g id=\"patch_3\">\r\n    <path d=\"M 50.14375 224.64 \r\nL 50.14375 7.2 \r\n\" style=\"fill:none;stroke:#000000;stroke-linecap:square;stroke-linejoin:miter;stroke-width:0.8;\"/>\r\n   </g>\r\n   <g id=\"patch_4\">\r\n    <path d=\"M 384.94375 224.64 \r\nL 384.94375 7.2 \r\n\" style=\"fill:none;stroke:#000000;stroke-linecap:square;stroke-linejoin:miter;stroke-width:0.8;\"/>\r\n   </g>\r\n   <g id=\"patch_5\">\r\n    <path d=\"M 50.14375 224.64 \r\nL 384.94375 224.64 \r\n\" style=\"fill:none;stroke:#000000;stroke-linecap:square;stroke-linejoin:miter;stroke-width:0.8;\"/>\r\n   </g>\r\n   <g id=\"patch_6\">\r\n    <path d=\"M 50.14375 7.2 \r\nL 384.94375 7.2 \r\n\" style=\"fill:none;stroke:#000000;stroke-linecap:square;stroke-linejoin:miter;stroke-width:0.8;\"/>\r\n   </g>\r\n   <g id=\"legend_1\">\r\n    <g id=\"patch_7\">\r\n     <path d=\"M 300.601562 132.625 \r\nL 377.94375 132.625 \r\nQ 379.94375 132.625 379.94375 130.625 \r\nL 379.94375 14.2 \r\nQ 379.94375 12.2 377.94375 12.2 \r\nL 300.601562 12.2 \r\nQ 298.601562 12.2 298.601562 14.2 \r\nL 298.601562 130.625 \r\nQ 298.601562 132.625 300.601562 132.625 \r\nz\r\n\" style=\"fill:#ffffff;opacity:0.8;stroke:#cccccc;stroke-linejoin:miter;\"/>\r\n    </g>\r\n    <g id=\"line2d_24\">\r\n     <path d=\"M 302.601562 20.298437 \r\nL 322.601562 20.298437 \r\n\" style=\"fill:none;stroke:#1f77b4;stroke-linecap:square;stroke-width:1.5;\"/>\r\n    </g>\r\n    <g id=\"line2d_25\"/>\r\n    <g id=\"text_18\">\r\n     <!-- C: 0.001 -->\r\n     <g transform=\"translate(330.601562 23.798437)scale(0.1 -0.1)\">\r\n      <defs>\r\n       <path d=\"M 4122 4306 \r\nL 4122 3641 \r\nQ 3803 3938 3442 4084 \r\nQ 3081 4231 2675 4231 \r\nQ 1875 4231 1450 3742 \r\nQ 1025 3253 1025 2328 \r\nQ 1025 1406 1450 917 \r\nQ 1875 428 2675 428 \r\nQ 3081 428 3442 575 \r\nQ 3803 722 4122 1019 \r\nL 4122 359 \r\nQ 3791 134 3420 21 \r\nQ 3050 -91 2638 -91 \r\nQ 1578 -91 968 557 \r\nQ 359 1206 359 2328 \r\nQ 359 3453 968 4101 \r\nQ 1578 4750 2638 4750 \r\nQ 3056 4750 3426 4639 \r\nQ 3797 4528 4122 4306 \r\nz\r\n\" id=\"DejaVuSans-43\" transform=\"scale(0.015625)\"/>\r\n       <path d=\"M 750 794 \r\nL 1409 794 \r\nL 1409 0 \r\nL 750 0 \r\nL 750 794 \r\nz\r\nM 750 3309 \r\nL 1409 3309 \r\nL 1409 2516 \r\nL 750 2516 \r\nL 750 3309 \r\nz\r\n\" id=\"DejaVuSans-3a\" transform=\"scale(0.015625)\"/>\r\n      </defs>\r\n      <use xlink:href=\"#DejaVuSans-43\"/>\r\n      <use x=\"69.824219\" xlink:href=\"#DejaVuSans-3a\"/>\r\n      <use x=\"103.515625\" xlink:href=\"#DejaVuSans-20\"/>\r\n      <use x=\"135.302734\" xlink:href=\"#DejaVuSans-30\"/>\r\n      <use x=\"198.925781\" xlink:href=\"#DejaVuSans-2e\"/>\r\n      <use x=\"230.712891\" xlink:href=\"#DejaVuSans-30\"/>\r\n      <use x=\"294.335938\" xlink:href=\"#DejaVuSans-30\"/>\r\n      <use x=\"357.958984\" xlink:href=\"#DejaVuSans-31\"/>\r\n     </g>\r\n    </g>\r\n    <g id=\"line2d_26\">\r\n     <path d=\"M 302.601562 34.976562 \r\nL 322.601562 34.976562 \r\n\" style=\"fill:none;stroke:#ff7f0e;stroke-linecap:square;stroke-width:1.5;\"/>\r\n    </g>\r\n    <g id=\"line2d_27\"/>\r\n    <g id=\"text_19\">\r\n     <!-- C: 0.01 -->\r\n     <g transform=\"translate(330.601562 38.476562)scale(0.1 -0.1)\">\r\n      <use xlink:href=\"#DejaVuSans-43\"/>\r\n      <use x=\"69.824219\" xlink:href=\"#DejaVuSans-3a\"/>\r\n      <use x=\"103.515625\" xlink:href=\"#DejaVuSans-20\"/>\r\n      <use x=\"135.302734\" xlink:href=\"#DejaVuSans-30\"/>\r\n      <use x=\"198.925781\" xlink:href=\"#DejaVuSans-2e\"/>\r\n      <use x=\"230.712891\" xlink:href=\"#DejaVuSans-30\"/>\r\n      <use x=\"294.335938\" xlink:href=\"#DejaVuSans-31\"/>\r\n     </g>\r\n    </g>\r\n    <g id=\"line2d_28\">\r\n     <path d=\"M 302.601562 49.654687 \r\nL 322.601562 49.654687 \r\n\" style=\"fill:none;stroke:#2ca02c;stroke-linecap:square;stroke-width:1.5;\"/>\r\n    </g>\r\n    <g id=\"line2d_29\"/>\r\n    <g id=\"text_20\">\r\n     <!-- C: 0.1 -->\r\n     <g transform=\"translate(330.601562 53.154687)scale(0.1 -0.1)\">\r\n      <use xlink:href=\"#DejaVuSans-43\"/>\r\n      <use x=\"69.824219\" xlink:href=\"#DejaVuSans-3a\"/>\r\n      <use x=\"103.515625\" xlink:href=\"#DejaVuSans-20\"/>\r\n      <use x=\"135.302734\" xlink:href=\"#DejaVuSans-30\"/>\r\n      <use x=\"198.925781\" xlink:href=\"#DejaVuSans-2e\"/>\r\n      <use x=\"230.712891\" xlink:href=\"#DejaVuSans-31\"/>\r\n     </g>\r\n    </g>\r\n    <g id=\"line2d_30\">\r\n     <path d=\"M 302.601562 64.332812 \r\nL 322.601562 64.332812 \r\n\" style=\"fill:none;stroke:#d62728;stroke-linecap:square;stroke-width:1.5;\"/>\r\n    </g>\r\n    <g id=\"line2d_31\"/>\r\n    <g id=\"text_21\">\r\n     <!-- C: 1 -->\r\n     <g transform=\"translate(330.601562 67.832812)scale(0.1 -0.1)\">\r\n      <use xlink:href=\"#DejaVuSans-43\"/>\r\n      <use x=\"69.824219\" xlink:href=\"#DejaVuSans-3a\"/>\r\n      <use x=\"103.515625\" xlink:href=\"#DejaVuSans-20\"/>\r\n      <use x=\"135.302734\" xlink:href=\"#DejaVuSans-31\"/>\r\n     </g>\r\n    </g>\r\n    <g id=\"line2d_32\">\r\n     <path d=\"M 302.601562 79.010937 \r\nL 322.601562 79.010937 \r\n\" style=\"fill:none;stroke:#9467bd;stroke-linecap:square;stroke-width:1.5;\"/>\r\n    </g>\r\n    <g id=\"line2d_33\"/>\r\n    <g id=\"text_22\">\r\n     <!-- C: 10 -->\r\n     <g transform=\"translate(330.601562 82.510937)scale(0.1 -0.1)\">\r\n      <use xlink:href=\"#DejaVuSans-43\"/>\r\n      <use x=\"69.824219\" xlink:href=\"#DejaVuSans-3a\"/>\r\n      <use x=\"103.515625\" xlink:href=\"#DejaVuSans-20\"/>\r\n      <use x=\"135.302734\" xlink:href=\"#DejaVuSans-31\"/>\r\n      <use x=\"198.925781\" xlink:href=\"#DejaVuSans-30\"/>\r\n     </g>\r\n    </g>\r\n    <g id=\"line2d_34\">\r\n     <path d=\"M 302.601562 93.689062 \r\nL 322.601562 93.689062 \r\n\" style=\"fill:none;stroke:#8c564b;stroke-linecap:square;stroke-width:1.5;\"/>\r\n    </g>\r\n    <g id=\"line2d_35\"/>\r\n    <g id=\"text_23\">\r\n     <!-- C: 100 -->\r\n     <g transform=\"translate(330.601562 97.189062)scale(0.1 -0.1)\">\r\n      <use xlink:href=\"#DejaVuSans-43\"/>\r\n      <use x=\"69.824219\" xlink:href=\"#DejaVuSans-3a\"/>\r\n      <use x=\"103.515625\" xlink:href=\"#DejaVuSans-20\"/>\r\n      <use x=\"135.302734\" xlink:href=\"#DejaVuSans-31\"/>\r\n      <use x=\"198.925781\" xlink:href=\"#DejaVuSans-30\"/>\r\n      <use x=\"262.548828\" xlink:href=\"#DejaVuSans-30\"/>\r\n     </g>\r\n    </g>\r\n    <g id=\"line2d_36\">\r\n     <path d=\"M 302.601562 108.367187 \r\nL 322.601562 108.367187 \r\n\" style=\"fill:none;stroke:#e377c2;stroke-linecap:square;stroke-width:1.5;\"/>\r\n    </g>\r\n    <g id=\"line2d_37\"/>\r\n    <g id=\"text_24\">\r\n     <!-- C: 1000 -->\r\n     <g transform=\"translate(330.601562 111.867187)scale(0.1 -0.1)\">\r\n      <use xlink:href=\"#DejaVuSans-43\"/>\r\n      <use x=\"69.824219\" xlink:href=\"#DejaVuSans-3a\"/>\r\n      <use x=\"103.515625\" xlink:href=\"#DejaVuSans-20\"/>\r\n      <use x=\"135.302734\" xlink:href=\"#DejaVuSans-31\"/>\r\n      <use x=\"198.925781\" xlink:href=\"#DejaVuSans-30\"/>\r\n      <use x=\"262.548828\" xlink:href=\"#DejaVuSans-30\"/>\r\n      <use x=\"326.171875\" xlink:href=\"#DejaVuSans-30\"/>\r\n     </g>\r\n    </g>\r\n    <g id=\"line2d_38\">\r\n     <path d=\"M 302.601562 123.045312 \r\nL 322.601562 123.045312 \r\n\" style=\"fill:none;stroke:#7f7f7f;stroke-linecap:square;stroke-width:1.5;\"/>\r\n    </g>\r\n    <g id=\"line2d_39\"/>\r\n    <g id=\"text_25\">\r\n     <!-- C: 10000 -->\r\n     <g transform=\"translate(330.601562 126.545312)scale(0.1 -0.1)\">\r\n      <use xlink:href=\"#DejaVuSans-43\"/>\r\n      <use x=\"69.824219\" xlink:href=\"#DejaVuSans-3a\"/>\r\n      <use x=\"103.515625\" xlink:href=\"#DejaVuSans-20\"/>\r\n      <use x=\"135.302734\" xlink:href=\"#DejaVuSans-31\"/>\r\n      <use x=\"198.925781\" xlink:href=\"#DejaVuSans-30\"/>\r\n      <use x=\"262.548828\" xlink:href=\"#DejaVuSans-30\"/>\r\n      <use x=\"326.171875\" xlink:href=\"#DejaVuSans-30\"/>\r\n      <use x=\"389.794922\" xlink:href=\"#DejaVuSans-30\"/>\r\n     </g>\r\n    </g>\r\n   </g>\r\n  </g>\r\n </g>\r\n <defs>\r\n  <clipPath id=\"pcfbb31c378\">\r\n   <rect height=\"217.44\" width=\"334.8\" x=\"50.14375\" y=\"7.2\"/>\r\n  </clipPath>\r\n </defs>\r\n</svg>\r\n",
      "image/png": "[encoded data removed]"
     },
     "metadata": {
      "needs_background": "light"
     }
    }
   ],
   "metadata": {}
  },
  {
   "cell_type": "code",
   "execution_count": 115,
   "source": [
    "#model 저장\r\n",
    "import joblib\r\n",
    "best_model = grid_cv.best_estimator_\r\n",
    "joblib.dump(best_model,'./SVM(randomforest).pkl')"
   ],
   "outputs": [
    {
     "output_type": "execute_result",
     "data": {
      "text/plain": [
       "['./SVM(randomforest).pkl']"
      ]
     },
     "metadata": {},
     "execution_count": 115
    }
   ],
   "metadata": {}
  },
  {
   "cell_type": "code",
   "execution_count": 35,
   "source": [
    "# 이상치 제거 전\r\n",
    "model = svm.SVC(  )\r\n",
    "model.fit(train_data, train_label  ) \r\n",
    "pre = model.predict( test_data )\r\n",
    "ac_score = metrics.accuracy_score( test_label, pre ) \r\n",
    "print(\"SVC 정답률 = \" , ac_score)"
   ],
   "outputs": [
    {
     "output_type": "stream",
     "name": "stdout",
     "text": [
      "SVC 정답률 =  0.8698412698412699\n"
     ]
    }
   ],
   "metadata": {
    "id": "tfoD8xI2mDYR",
    "outputId": "fdc4a32e-0e80-4233-9101-f0cb22efd5ef",
    "scrolled": false
   }
  },
  {
   "cell_type": "code",
   "execution_count": 36,
   "source": [
    "# 제거 전\r\n",
    "model1 = tree.DecisionTreeClassifier()\r\n",
    "model1.fit(train_data, train_label)\r\n",
    "pre1 = model1.predict(test_data)\r\n",
    "ac_score1 = metrics.accuracy_score(test_label, pre1)\r\n",
    "print(\"의사결정 트리 정답률 = \", ac_score1)"
   ],
   "outputs": [
    {
     "output_type": "stream",
     "name": "stdout",
     "text": [
      "의사결정 트리 정답률 =  0.8380952380952381\n"
     ]
    }
   ],
   "metadata": {}
  },
  {
   "cell_type": "code",
   "execution_count": 37,
   "source": [
    "# 제거 전\r\n",
    "model3 = tree.ExtraTreeClassifier()\r\n",
    "model3.fit(train_data, train_label)\r\n",
    "pre3 = model3.predict(test_data)\r\n",
    "ac_score3 = metrics.accuracy_score(test_label, pre3)\r\n",
    "print(\"엑스트라 트리 회귀 정답률 = \", ac_score3)"
   ],
   "outputs": [
    {
     "output_type": "stream",
     "name": "stdout",
     "text": [
      "엑스트라 트리 회귀 정답률 =  0.8126984126984127\n"
     ]
    }
   ],
   "metadata": {}
  },
  {
   "cell_type": "code",
   "execution_count": 38,
   "source": [
    "# 제거 전\r\n",
    "model4 = ensemble.RandomForestClassifier()\r\n",
    "model4.fit(train_data, train_label)\r\n",
    "pre4 = model4.predict(test_data)\r\n",
    "ac_score4 = metrics.accuracy_score(test_label, pre4)\r\n",
    "print(\"앙상블 랜덤포레스트 정답률 = \", ac_score4)"
   ],
   "outputs": [
    {
     "output_type": "stream",
     "name": "stdout",
     "text": [
      "앙상블 랜덤포레스트 정답률 =  0.8777777777777778\n"
     ]
    }
   ],
   "metadata": {}
  },
  {
   "cell_type": "code",
   "execution_count": 39,
   "source": [
    "# 제거 전\r\n",
    "model5 = ensemble.AdaBoostClassifier()\r\n",
    "model5.fit(train_data, train_label)\r\n",
    "pre5 = model5.predict(test_data)\r\n",
    "ac_score5 = metrics.accuracy_score(test_label, pre5)\r\n",
    "print(\"아다부스트 정답률 = \", ac_score5)"
   ],
   "outputs": [
    {
     "output_type": "stream",
     "name": "stdout",
     "text": [
      "아다부스트 정답률 =  0.8238095238095238\n"
     ]
    }
   ],
   "metadata": {}
  },
  {
   "cell_type": "code",
   "execution_count": 40,
   "source": [
    "# 제거 전\r\n",
    "model6 = ensemble.BaggingClassifier()\r\n",
    "model6.fit(train_data, train_label)\r\n",
    "pre6 = model6.predict(test_data)\r\n",
    "ac_score6 = metrics.accuracy_score(test_label, pre6)\r\n",
    "print(\"배깅 정답률 = \", ac_score6)"
   ],
   "outputs": [
    {
     "output_type": "stream",
     "name": "stdout",
     "text": [
      "배깅 정답률 =  0.8603174603174604\n"
     ]
    }
   ],
   "metadata": {}
  },
  {
   "cell_type": "code",
   "execution_count": 41,
   "source": [
    "# 제거 전\r\n",
    "model7 = ensemble.GradientBoostingClassifier()\r\n",
    "model7.fit(train_data, train_label)\r\n",
    "pre7 = model7.predict(test_data)\r\n",
    "ac_score7 = metrics.accuracy_score(test_label, pre7)\r\n",
    "print(\"경사 부스팅 정답률 = \", ac_score7)\r\n"
   ],
   "outputs": [
    {
     "output_type": "stream",
     "name": "stdout",
     "text": [
      "경사 부스팅 정답률 =  0.8682539682539683\n"
     ]
    }
   ],
   "metadata": {}
  },
  {
   "cell_type": "code",
   "execution_count": 42,
   "source": [
    "# 제거 전\r\n",
    "clf1 = LogisticRegression(multi_class='multinomial', random_state=1)\r\n",
    "clf2 = RandomForestClassifier(n_estimators=50, random_state=1)\r\n",
    "clf3 = GaussianNB()\r\n",
    "model8 = ensemble.StackingClassifier(estimators=[('lr', clf1), ('rf', clf2), ('gnb', clf3)])\r\n",
    "model8.fit(train_data, train_label)\r\n",
    "pre8 = model8.predict(test_data)\r\n",
    "ac_score8 = metrics.accuracy_score(test_label, pre8)\r\n",
    "print(\"스태킹 정답률 = \", ac_score8)"
   ],
   "outputs": [
    {
     "output_type": "stream",
     "name": "stdout",
     "text": [
      "스태킹 정답률 =  0.8984126984126984\n"
     ]
    }
   ],
   "metadata": {}
  },
  {
   "cell_type": "code",
   "execution_count": 43,
   "source": [
    "# 제거 전\r\n",
    "model9 = ensemble.VotingClassifier(estimators=[('lr', clf1), ('rf', clf2), ('gnb', clf3)], voting=\"hard\")\r\n",
    "model9.fit(train_data, train_label)\r\n",
    "pre9 = model9.predict(test_data)\r\n",
    "ac_score9 = metrics.accuracy_score(test_label, pre9)\r\n",
    "print(\"보팅 하드 정답률 = \", ac_score9)"
   ],
   "outputs": [
    {
     "output_type": "stream",
     "name": "stdout",
     "text": [
      "보팅 하드 정답률 =  0.8492063492063492\n"
     ]
    }
   ],
   "metadata": {}
  },
  {
   "cell_type": "code",
   "execution_count": 44,
   "source": [
    "# 제거 전\r\n",
    "model9_1 = ensemble.VotingClassifier(estimators=[('lr', clf1), ('rf', clf2), ('gnb', clf3)], voting=\"soft\")\r\n",
    "model9_1.fit(train_data, train_label)\r\n",
    "pre9_1 = model9_1.predict(test_data)\r\n",
    "ac_score9_1 = metrics.accuracy_score(test_label, pre9_1)\r\n",
    "print(\"보팅 소프트 정답률 = \", ac_score9_1)"
   ],
   "outputs": [
    {
     "output_type": "stream",
     "name": "stdout",
     "text": [
      "보팅 소프트 정답률 =  0.8444444444444444\n"
     ]
    }
   ],
   "metadata": {}
  },
  {
   "cell_type": "code",
   "execution_count": 45,
   "source": [
    "# 제거 전\r\n",
    "from sklearn.experimental import enable_hist_gradient_boosting  # noqa\r\n",
    "model10 = ensemble.HistGradientBoostingClassifier()\r\n",
    "model10.fit(train_data, train_label)\r\n",
    "pre10 = model10.predict(test_data)\r\n",
    "ac_score10 = metrics.accuracy_score(test_label, pre10)\r\n",
    "print(\"히스트그래디언트부스팅 정답률 = \", ac_score10)"
   ],
   "outputs": [
    {
     "output_type": "stream",
     "name": "stdout",
     "text": [
      "히스트그래디언트부스팅 정답률 =  0.8904761904761904\n"
     ]
    }
   ],
   "metadata": {}
  }
 ],
 "metadata": {
  "colab": {
   "collapsed_sections": [],
   "name": "ex03_iris.ipynb",
   "provenance": []
  },
  "kernelspec": {
   "name": "python3",
   "display_name": "Python 3.8.10 64-bit"
  },
  "language_info": {
   "codemirror_mode": {
    "name": "ipython",
    "version": 3
   },
   "file_extension": ".py",
   "mimetype": "text/x-python",
   "name": "python",
   "nbconvert_exporter": "python",
   "pygments_lexer": "ipython3",
   "version": "3.8.10"
  },
  "interpreter": {
   "hash": "435c7524b81c754d2a38f9b1930a50d7a83318eec9a7b6faab8c4b8cfd59b603"
  }
 },
 "nbformat": 4,
 "nbformat_minor": 1
}