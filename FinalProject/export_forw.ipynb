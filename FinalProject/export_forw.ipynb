{
 "cells": [
  {
   "cell_type": "code",
   "execution_count": 1,
   "source": [
    "import numpy as np\r\n",
    "import cv2 as cv\r\n",
    "import os\r\n",
    "\r\n",
    "protoFile_coco = \"D:/Program Files/openpose-master/models/pose/coco/pose_deploy_linevec.prototxt\"\r\n",
    "weightsFile_coco = \"D:/Program Files/openpose-master/models/pose/coco/pose_iter_440000.caffemodel\"\r\n",
    "\r\n",
    "BODY_PARTS_COCO = {0: \"Nose\", 1: \"Neck\", 2: \"RShoulder\", 3: \"RElbow\", 4: \"RWrist\",\r\n",
    "                   5: \"LShoulder\", 6: \"LElbow\", 7: \"LWrist\", 8: \"RHip\", 9: \"RKnee\",\r\n",
    "                   10: \"RAnkle\", 11: \"LHip\", 12: \"LKnee\", 13: \"LAnkle\", 14: \"REye\",\r\n",
    "                   15: \"LEye\", 16: \"REar\", 17: \"LEar\", 18: \"Background\"}\r\n",
    "\r\n",
    "POSE_PAIRS_COCO = [[0, 1], [0, 14], [0, 15], [1, 2], [1, 5], [1, 8], [1, 11], [2, 3], [3, 4],\r\n",
    "                   [5, 6], [6, 7], [8, 9], [9, 10], [12, 13], [11, 12], [14, 16], [15, 17]]"
   ],
   "outputs": [],
   "metadata": {}
  },
  {
   "cell_type": "code",
   "execution_count": 2,
   "source": [
    "def output_keypoints(frame, net, BODY_PARTS):\r\n",
    "    global points\r\n",
    "    \r\n",
    "    # 입력 이미지의 사이즈 정의\r\n",
    "    image_height = 360\r\n",
    "    image_width = 360\r\n",
    "\r\n",
    "    # 네트워크에 넣기 위한 전처리\r\n",
    "    input_blob = cv.dnn.blobFromImage(frame, 1.0 / 255, (image_width, image_height), (0, 0, 0), swapRB=False, crop=False)\r\n",
    "\r\n",
    "    # 전처리된 blob 네트워크에 입력\r\n",
    "    net.setInput(input_blob)\r\n",
    "\r\n",
    "    # 결과 받아오기\r\n",
    "    out = net.forward() # shape : (1, 78, 46, 46)\r\n",
    "\r\n",
    "    # The output is a 4D matrix :\r\n",
    "    # The first dimension being the image ID ( in case you pass more than one image to the network ).\r\n",
    "    # The second dimension indicates the index of a keypoint.\r\n",
    "    # The model produces Confidence Maps and Part Affinity maps which are all concatenated.\r\n",
    "    # For COCO model it consists of 57 parts – 18 keypoint confidence Maps + 1 background + 19*2 Part Affinity Maps. Similarly, for MPI, it produces 44 points.\r\n",
    "    # We will be using only the first few points which correspond to Keypoints.\r\n",
    "    # The third dimension is the height of the output map.\r\n",
    "    out_height = out.shape[2]\r\n",
    "    # The fourth dimension is the width of the output map.\r\n",
    "    out_width = out.shape[3]\r\n",
    "\r\n",
    "    # 원본 이미지의 높이, 너비를 받아오기\r\n",
    "    frame_height, frame_width = frame.shape[:2]\r\n",
    "\r\n",
    "    # 포인트 리스트 초기화\r\n",
    "    points = []\r\n",
    "\r\n",
    "    # 해당 신체부위 신뢰도 얻음.\r\n",
    "    probMap1 = out[0, 0, :, :]\r\n",
    "    probMap2 = out[0, 1, :, :]\r\n",
    "    probMap3 = out[0, 2, :, :]\r\n",
    "    probMap4 = out[0, 5, :, :]\r\n",
    "    probMap5 = out[0, 14, :, :]\r\n",
    "    probMap6 = out[0, 15, :, :]\r\n",
    "\r\n",
    "    # global 최대값 찾기\r\n",
    "    minVal1, prob1, minLoc1, point1 = cv.minMaxLoc(probMap1)\r\n",
    "    minVal2, prob2, minLoc2, point2 = cv.minMaxLoc(probMap2)\r\n",
    "    minVal3, prob3, minLoc3, point3 = cv.minMaxLoc(probMap3)\r\n",
    "    minVal4, prob4, minLoc4, point4 = cv.minMaxLoc(probMap4)\r\n",
    "    minVal5, prob5, minLoc5, point5 = cv.minMaxLoc(probMap5)\r\n",
    "    minVal6, prob6, minLoc6, point6 = cv.minMaxLoc(probMap6)\r\n",
    "    \r\n",
    "    # 원래 이미지에 맞게 점 위치 변경\r\n",
    "    x1 = (frame_width * point1[0]) / out_width\r\n",
    "    y1 = (frame_height * point1[1]) / out_height\r\n",
    "    x2 = (frame_width * point2[0]) / out_width\r\n",
    "    y2 = (frame_height * point2[1]) / out_height\r\n",
    "    x3 = (frame_width * point3[0]) / out_width\r\n",
    "    y3 = (frame_height * point3[1]) / out_height\r\n",
    "    x4 = (frame_width * point4[0]) / out_width\r\n",
    "    y4 = (frame_height * point4[1]) / out_height\r\n",
    "    x5 = (frame_width * point5[0]) / out_width\r\n",
    "    y5 = (frame_height * point5[1]) / out_height\r\n",
    "    x6 = (frame_width * point6[0]) / out_width\r\n",
    "    y6 = (frame_height * point6[1]) / out_height\r\n",
    "\r\n",
    "     # 키포인트 검출한 결과가 0.1보다 크면(검출한곳이 위 BODY_PARTS랑 맞는 부위면) points에 추가, 검출했는데 부위가 없으면 None으로   \r\n",
    "    # 코 \r\n",
    "    if prob1 > 0.1 :    \r\n",
    "        cv.circle(frame, (int(x1), int(y1)), 3, (0, 255, 255), thickness=-1, lineType=cv.FILLED)       # circle(그릴곳, 원의 중심, 반지름, 색)\r\n",
    "        cv.putText(frame, \"{}\".format(1), (int(x1), int(y1)), cv.FONT_HERSHEY_SIMPLEX, 0.5, (0, 0, 255), 1, lineType=cv.LINE_AA)\r\n",
    "        points.append((int(x1), int(y1)))\r\n",
    "\r\n",
    "    else:  # [not pointed]\r\n",
    "        points.append(None)\r\n",
    "        #print(f\"[not pointed] {BODY_PARTS[i]} ({i}) => prob: {prob:.5f} / x: {x} / y: {y}\")\r\n",
    "\r\n",
    "    # 목\r\n",
    "    if prob2 > 0.1 :\r\n",
    "        cv.circle(frame, (int(x2), int(y2)), 3, (0, 255, 255), thickness=-1, lineType=cv.FILLED)       # circle(그릴곳, 원의 중심, 반지름, 색)\r\n",
    "        cv.putText(frame, \"{}\".format(2), (int(x2), int(y2)), cv.FONT_HERSHEY_SIMPLEX, 0.5, (0, 0, 255), 1, lineType=cv.LINE_AA)\r\n",
    "        points.append((int(x2), int(y2)))\r\n",
    "    else:  # [not pointed]\r\n",
    "        points.append(None)\r\n",
    "\r\n",
    "    # 오른쪽 어깨\r\n",
    "    if prob3 > 0.1 :    \r\n",
    "        cv.circle(frame, (int(x3), int(y3)), 3, (0, 255, 255), thickness=-1, lineType=cv.FILLED)       # circle(그릴곳, 원의 중심, 반지름, 색)\r\n",
    "        cv.putText(frame, \"{}\".format(3), (int(x3), int(y3)), cv.FONT_HERSHEY_SIMPLEX, 0.5, (0, 0, 255), 1, lineType=cv.LINE_AA)\r\n",
    "        points.append((int(x3), int(y3)))\r\n",
    "    else:  # [not pointed]\r\n",
    "        points.append(None)\r\n",
    "    \r\n",
    "    # 왼쪽 어깨\r\n",
    "    if prob4 > 0.1 :    \r\n",
    "        cv.circle(frame, (int(x4), int(y4)), 3, (0, 255, 255), thickness=-1, lineType=cv.FILLED)       # circle(그릴곳, 원의 중심, 반지름, 색)\r\n",
    "        cv.putText(frame, \"{}\".format(4), (int(x4), int(y4)), cv.FONT_HERSHEY_SIMPLEX, 0.5, (0, 0, 255), 1, lineType=cv.LINE_AA)\r\n",
    "        points.append((int(x4), int(y4)))\r\n",
    "    else:  # [not pointed]\r\n",
    "        points.append(None)\r\n",
    "\r\n",
    "    # 오른쪽 귀\r\n",
    "    if prob5 > 0.1 :    \r\n",
    "        cv.circle(frame, (int(x5), int(y5)), 3, (0, 255, 255), thickness=-1, lineType=cv.FILLED)       # circle(그릴곳, 원의 중심, 반지름, 색)\r\n",
    "        cv.putText(frame, \"{}\".format(5), (int(x5), int(y5)), cv.FONT_HERSHEY_SIMPLEX, 0.5, (0, 0, 255), 1, lineType=cv.LINE_AA)\r\n",
    "        points.append((int(x5), int(y5)))\r\n",
    "    else:  # [not pointed]\r\n",
    "        points.append(None)\r\n",
    "\r\n",
    "    # 오른쪽 귀\r\n",
    "    if prob6 > 0.1 :    \r\n",
    "        cv.circle(frame, (int(x6), int(y6)), 3, (0, 255, 255), thickness=-1, lineType=cv.FILLED)       # circle(그릴곳, 원의 중심, 반지름, 색)\r\n",
    "        cv.putText(frame, \"{}\".format(6), (int(x6), int(y6)), cv.FONT_HERSHEY_SIMPLEX, 0.5, (0, 0, 255), 1, lineType=cv.LINE_AA)\r\n",
    "        points.append((int(x6), int(y6)))\r\n",
    "    else:  # [not pointed]\r\n",
    "        points.append(None)\r\n",
    "\r\n",
    "    return frame"
   ],
   "outputs": [],
   "metadata": {}
  },
  {
   "cell_type": "code",
   "execution_count": 3,
   "source": [
    "def output_keypoints_with_lines(frame, POSE_PAIRS):\r\n",
    "    global f_dict\r\n",
    "\r\n",
    "    #어깨선 연결\r\n",
    "    if points[2] and points[3]:\r\n",
    "        cv.line(frame, points[2], points[3], (0, 255, 0), 3)\r\n",
    "    \r\n",
    "    # 눈선 연결\r\n",
    "    if points[4] and points[5]:\r\n",
    "        cv.line(frame, points[4], points[5], (0, 255, 0), 3)\r\n",
    "        \r\n",
    "\r\n",
    "    try:\r\n",
    "        # 어깨 중점\r\n",
    "        cen_sholder_X = (points[2][0] + points[3][0]) // 2\r\n",
    "        cen_sholder_Y = (points[2][1] + points[3][1]) // 2\r\n",
    "\r\n",
    "        cen_sholder = (cen_sholder_X, cen_sholder_Y)\r\n",
    "    \r\n",
    "        cen_eyes_X = (points[4][0] + points[5][0]) // 2\r\n",
    "        cen_eyes_Y = (points[4][1] + points[5][1]) // 2\r\n",
    "\r\n",
    "        cen_eyes = (cen_eyes_X, cen_eyes_Y)\r\n",
    "\r\n",
    "         # 광대 중점과 어깨 중점 연결\r\n",
    "        if cen_eyes and cen_sholder:\r\n",
    "            cv.line(frame, cen_eyes, cen_sholder, (0, 0, 255), 3)\r\n",
    "            f_dict[\"f_Y\"].append(abs(cen_eyes_Y - cen_sholder_Y))\r\n",
    "            f_dict[\"f_X\"].append(abs(points[4][0] - points[5][0]))\r\n",
    "            \r\n",
    "\r\n",
    "    except (TypeError):\r\n",
    "        try:\r\n",
    "            cen_eyes_X = (points[4][0] + points[5][0]) // 2\r\n",
    "            cen_eyes_Y = (points[4][1] + points[5][1]) // 2\r\n",
    "\r\n",
    "            cen_eyes = (cen_eyes_X, cen_eyes_Y)\r\n",
    "\r\n",
    "            if points[1] and cen_eyes:\r\n",
    "                cv.line(frame, points[1], cen_eyes, (0, 255, 0), 3)\r\n",
    "                f_dict[\"f_Y\"].append(abs(cen_eyes_Y - points[1][1]))\r\n",
    "                f_dict[\"f_X\"].append(abs(points[4][0] - points[5][0]))\r\n",
    "        except:\r\n",
    "            pass\r\n",
    "    \r\n",
    "    return frame"
   ],
   "outputs": [],
   "metadata": {}
  },
  {
   "cell_type": "code",
   "execution_count": 4,
   "source": [
    "def output_keypoints_with_lines_video(proto_file, weights_file, BODY_PARTS, POSE_PAIRS):\r\n",
    "    \r\n",
    "    # 네트워크 불러오기\r\n",
    "    net = cv.dnn.readNetFromCaffe(proto_file, weights_file)\r\n",
    "    net.setPreferableBackend(cv.dnn.DNN_BACKEND_CUDA)\r\n",
    "    net.setPreferableTarget(cv.dnn.DNN_TARGET_CUDA)\r\n",
    "\r\n",
    "    load_img = \"./dataset/new_train_samples/forward_posture/\"\r\n",
    "    save_img = \"./dataset/new_train_samples/forw_pose/forward-\"\r\n",
    "\r\n",
    "    for img in os.listdir(load_img):\r\n",
    "        \r\n",
    "        aa = load_img + img\r\n",
    "        cap = cv.imread(aa, cv.IMREAD_COLOR)\r\n",
    "\r\n",
    "        cap = output_keypoints(frame=cap, net=net, BODY_PARTS=BODY_PARTS)\r\n",
    "        cap = output_keypoints_with_lines(frame=cap, POSE_PAIRS=POSE_PAIRS)\r\n",
    "        cv.imwrite(save_img+img, cap)\r\n",
    "\r\n",
    "# 키포인트를 저장할 빈 리스트\r\n",
    "points = []\r\n",
    "f_dict = {\r\n",
    "    \"f_X\" : [],\r\n",
    "    \"f_Y\" : []\r\n",
    "\r\n",
    "}\r\n",
    "\r\n",
    "output_keypoints_with_lines_video(proto_file=protoFile_coco, weights_file=weightsFile_coco, BODY_PARTS=BODY_PARTS_COCO, POSE_PAIRS=POSE_PAIRS_COCO)\r\n",
    "\r\n",
    "cv.waitKey(0) # esc 입력시 종료\r\n",
    "cv.destroyAllWindows()"
   ],
   "outputs": [],
   "metadata": {}
  },
  {
   "cell_type": "code",
   "execution_count": 5,
   "source": [
    "import pandas as pd\r\n",
    "\r\n",
    "forw_pose = pd.DataFrame(f_dict, columns=[\"f_X\", \"f_Y\"])\r\n",
    "forw_pose"
   ],
   "outputs": [
    {
     "output_type": "execute_result",
     "data": {
      "text/plain": [
       "     f_X  f_Y\n",
       "0     20   62\n",
       "1     45   80\n",
       "2     40   80\n",
       "3     30   72\n",
       "4     45   73\n",
       "..   ...  ...\n",
       "175   30   80\n",
       "176   30   80\n",
       "177   30   83\n",
       "178   30   83\n",
       "179   30   80\n",
       "\n",
       "[180 rows x 2 columns]"
      ],
      "text/html": [
       "<div>\n",
       "<style scoped>\n",
       "    .dataframe tbody tr th:only-of-type {\n",
       "        vertical-align: middle;\n",
       "    }\n",
       "\n",
       "    .dataframe tbody tr th {\n",
       "        vertical-align: top;\n",
       "    }\n",
       "\n",
       "    .dataframe thead th {\n",
       "        text-align: right;\n",
       "    }\n",
       "</style>\n",
       "<table border=\"1\" class=\"dataframe\">\n",
       "  <thead>\n",
       "    <tr style=\"text-align: right;\">\n",
       "      <th></th>\n",
       "      <th>f_X</th>\n",
       "      <th>f_Y</th>\n",
       "    </tr>\n",
       "  </thead>\n",
       "  <tbody>\n",
       "    <tr>\n",
       "      <th>0</th>\n",
       "      <td>20</td>\n",
       "      <td>62</td>\n",
       "    </tr>\n",
       "    <tr>\n",
       "      <th>1</th>\n",
       "      <td>45</td>\n",
       "      <td>80</td>\n",
       "    </tr>\n",
       "    <tr>\n",
       "      <th>2</th>\n",
       "      <td>40</td>\n",
       "      <td>80</td>\n",
       "    </tr>\n",
       "    <tr>\n",
       "      <th>3</th>\n",
       "      <td>30</td>\n",
       "      <td>72</td>\n",
       "    </tr>\n",
       "    <tr>\n",
       "      <th>4</th>\n",
       "      <td>45</td>\n",
       "      <td>73</td>\n",
       "    </tr>\n",
       "    <tr>\n",
       "      <th>...</th>\n",
       "      <td>...</td>\n",
       "      <td>...</td>\n",
       "    </tr>\n",
       "    <tr>\n",
       "      <th>175</th>\n",
       "      <td>30</td>\n",
       "      <td>80</td>\n",
       "    </tr>\n",
       "    <tr>\n",
       "      <th>176</th>\n",
       "      <td>30</td>\n",
       "      <td>80</td>\n",
       "    </tr>\n",
       "    <tr>\n",
       "      <th>177</th>\n",
       "      <td>30</td>\n",
       "      <td>83</td>\n",
       "    </tr>\n",
       "    <tr>\n",
       "      <th>178</th>\n",
       "      <td>30</td>\n",
       "      <td>83</td>\n",
       "    </tr>\n",
       "    <tr>\n",
       "      <th>179</th>\n",
       "      <td>30</td>\n",
       "      <td>80</td>\n",
       "    </tr>\n",
       "  </tbody>\n",
       "</table>\n",
       "<p>180 rows × 2 columns</p>\n",
       "</div>"
      ]
     },
     "metadata": {},
     "execution_count": 5
    }
   ],
   "metadata": {}
  },
  {
   "cell_type": "code",
   "execution_count": 6,
   "source": [
    "forw_pose.to_csv(\"./dataset/new_train_samples/forw.csv\", index=False,encoding=\"utf-8\")"
   ],
   "outputs": [],
   "metadata": {}
  },
  {
   "cell_type": "code",
   "execution_count": 1,
   "source": [
    "import pandas as pd\r\n",
    "forw = pd.read_csv(\"./dataset/yw_new_forw.csv\", encoding=\"utf-8\")"
   ],
   "outputs": [],
   "metadata": {}
  },
  {
   "cell_type": "code",
   "execution_count": 2,
   "source": [
    "forw_df = pd.DataFrame(forw); forw_df"
   ],
   "outputs": [
    {
     "output_type": "execute_result",
     "data": {
      "text/plain": [
       "      c_X  c_Y\n",
       "0      86  216\n",
       "1     114  216\n",
       "2      45   90\n",
       "3      35   93\n",
       "4     134  255\n",
       "...   ...  ...\n",
       "1797  111  230\n",
       "1798  112  230\n",
       "1799  135  238\n",
       "1800  134  238\n",
       "1801   40   80\n",
       "\n",
       "[1802 rows x 2 columns]"
      ],
      "text/html": [
       "<div>\n",
       "<style scoped>\n",
       "    .dataframe tbody tr th:only-of-type {\n",
       "        vertical-align: middle;\n",
       "    }\n",
       "\n",
       "    .dataframe tbody tr th {\n",
       "        vertical-align: top;\n",
       "    }\n",
       "\n",
       "    .dataframe thead th {\n",
       "        text-align: right;\n",
       "    }\n",
       "</style>\n",
       "<table border=\"1\" class=\"dataframe\">\n",
       "  <thead>\n",
       "    <tr style=\"text-align: right;\">\n",
       "      <th></th>\n",
       "      <th>c_X</th>\n",
       "      <th>c_Y</th>\n",
       "    </tr>\n",
       "  </thead>\n",
       "  <tbody>\n",
       "    <tr>\n",
       "      <th>0</th>\n",
       "      <td>86</td>\n",
       "      <td>216</td>\n",
       "    </tr>\n",
       "    <tr>\n",
       "      <th>1</th>\n",
       "      <td>114</td>\n",
       "      <td>216</td>\n",
       "    </tr>\n",
       "    <tr>\n",
       "      <th>2</th>\n",
       "      <td>45</td>\n",
       "      <td>90</td>\n",
       "    </tr>\n",
       "    <tr>\n",
       "      <th>3</th>\n",
       "      <td>35</td>\n",
       "      <td>93</td>\n",
       "    </tr>\n",
       "    <tr>\n",
       "      <th>4</th>\n",
       "      <td>134</td>\n",
       "      <td>255</td>\n",
       "    </tr>\n",
       "    <tr>\n",
       "      <th>...</th>\n",
       "      <td>...</td>\n",
       "      <td>...</td>\n",
       "    </tr>\n",
       "    <tr>\n",
       "      <th>1797</th>\n",
       "      <td>111</td>\n",
       "      <td>230</td>\n",
       "    </tr>\n",
       "    <tr>\n",
       "      <th>1798</th>\n",
       "      <td>112</td>\n",
       "      <td>230</td>\n",
       "    </tr>\n",
       "    <tr>\n",
       "      <th>1799</th>\n",
       "      <td>135</td>\n",
       "      <td>238</td>\n",
       "    </tr>\n",
       "    <tr>\n",
       "      <th>1800</th>\n",
       "      <td>134</td>\n",
       "      <td>238</td>\n",
       "    </tr>\n",
       "    <tr>\n",
       "      <th>1801</th>\n",
       "      <td>40</td>\n",
       "      <td>80</td>\n",
       "    </tr>\n",
       "  </tbody>\n",
       "</table>\n",
       "<p>1802 rows × 2 columns</p>\n",
       "</div>"
      ]
     },
     "metadata": {},
     "execution_count": 2
    }
   ],
   "metadata": {}
  },
  {
   "cell_type": "code",
   "execution_count": 4,
   "source": [
    "a = forw_df[\"c_Y\"] / forw_df[\"c_X\"]"
   ],
   "outputs": [],
   "metadata": {}
  },
  {
   "cell_type": "code",
   "execution_count": 5,
   "source": [
    "a.mean()"
   ],
   "outputs": [
    {
     "output_type": "execute_result",
     "data": {
      "text/plain": [
       "inf"
      ]
     },
     "metadata": {},
     "execution_count": 5
    }
   ],
   "metadata": {}
  },
  {
   "cell_type": "code",
   "execution_count": 6,
   "source": [
    "a.median()"
   ],
   "outputs": [
    {
     "output_type": "execute_result",
     "data": {
      "text/plain": [
       "2.245614035087719"
      ]
     },
     "metadata": {},
     "execution_count": 6
    }
   ],
   "metadata": {}
  },
  {
   "cell_type": "code",
   "execution_count": 7,
   "source": [
    "a.min()"
   ],
   "outputs": [
    {
     "output_type": "execute_result",
     "data": {
      "text/plain": [
       "0.11267605633802817"
      ]
     },
     "metadata": {},
     "execution_count": 7
    }
   ],
   "metadata": {}
  },
  {
   "cell_type": "code",
   "execution_count": 8,
   "source": [
    "a.max()"
   ],
   "outputs": [
    {
     "output_type": "execute_result",
     "data": {
      "text/plain": [
       "inf"
      ]
     },
     "metadata": {},
     "execution_count": 8
    }
   ],
   "metadata": {}
  },
  {
   "cell_type": "code",
   "execution_count": 1,
   "source": [
    "import pandas as pd\r\n",
    "forw = pd.read_csv(\"./dataset/forw2.csv\", encoding=\"utf-8\")"
   ],
   "outputs": [],
   "metadata": {}
  },
  {
   "cell_type": "code",
   "execution_count": 2,
   "source": [
    "forw_df = pd.DataFrame(forw)"
   ],
   "outputs": [],
   "metadata": {}
  },
  {
   "cell_type": "code",
   "execution_count": 9,
   "source": [
    "forw_df"
   ],
   "outputs": [
    {
     "output_type": "execute_result",
     "data": {
      "text/plain": [
       "      Unnamed: 0  f_X  f_Y\n",
       "0              0   86  216\n",
       "1              1  114  216\n",
       "2              2   45   90\n",
       "3              3   35   93\n",
       "4              4  134  255\n",
       "...          ...  ...  ...\n",
       "1641        1797  111  230\n",
       "1642        1798  112  230\n",
       "1643        1799  135  238\n",
       "1644        1800  134  238\n",
       "1645        1801   40   80\n",
       "\n",
       "[1646 rows x 3 columns]"
      ],
      "text/html": [
       "<div>\n",
       "<style scoped>\n",
       "    .dataframe tbody tr th:only-of-type {\n",
       "        vertical-align: middle;\n",
       "    }\n",
       "\n",
       "    .dataframe tbody tr th {\n",
       "        vertical-align: top;\n",
       "    }\n",
       "\n",
       "    .dataframe thead th {\n",
       "        text-align: right;\n",
       "    }\n",
       "</style>\n",
       "<table border=\"1\" class=\"dataframe\">\n",
       "  <thead>\n",
       "    <tr style=\"text-align: right;\">\n",
       "      <th></th>\n",
       "      <th>Unnamed: 0</th>\n",
       "      <th>f_X</th>\n",
       "      <th>f_Y</th>\n",
       "    </tr>\n",
       "  </thead>\n",
       "  <tbody>\n",
       "    <tr>\n",
       "      <th>0</th>\n",
       "      <td>0</td>\n",
       "      <td>86</td>\n",
       "      <td>216</td>\n",
       "    </tr>\n",
       "    <tr>\n",
       "      <th>1</th>\n",
       "      <td>1</td>\n",
       "      <td>114</td>\n",
       "      <td>216</td>\n",
       "    </tr>\n",
       "    <tr>\n",
       "      <th>2</th>\n",
       "      <td>2</td>\n",
       "      <td>45</td>\n",
       "      <td>90</td>\n",
       "    </tr>\n",
       "    <tr>\n",
       "      <th>3</th>\n",
       "      <td>3</td>\n",
       "      <td>35</td>\n",
       "      <td>93</td>\n",
       "    </tr>\n",
       "    <tr>\n",
       "      <th>4</th>\n",
       "      <td>4</td>\n",
       "      <td>134</td>\n",
       "      <td>255</td>\n",
       "    </tr>\n",
       "    <tr>\n",
       "      <th>...</th>\n",
       "      <td>...</td>\n",
       "      <td>...</td>\n",
       "      <td>...</td>\n",
       "    </tr>\n",
       "    <tr>\n",
       "      <th>1641</th>\n",
       "      <td>1797</td>\n",
       "      <td>111</td>\n",
       "      <td>230</td>\n",
       "    </tr>\n",
       "    <tr>\n",
       "      <th>1642</th>\n",
       "      <td>1798</td>\n",
       "      <td>112</td>\n",
       "      <td>230</td>\n",
       "    </tr>\n",
       "    <tr>\n",
       "      <th>1643</th>\n",
       "      <td>1799</td>\n",
       "      <td>135</td>\n",
       "      <td>238</td>\n",
       "    </tr>\n",
       "    <tr>\n",
       "      <th>1644</th>\n",
       "      <td>1800</td>\n",
       "      <td>134</td>\n",
       "      <td>238</td>\n",
       "    </tr>\n",
       "    <tr>\n",
       "      <th>1645</th>\n",
       "      <td>1801</td>\n",
       "      <td>40</td>\n",
       "      <td>80</td>\n",
       "    </tr>\n",
       "  </tbody>\n",
       "</table>\n",
       "<p>1646 rows × 3 columns</p>\n",
       "</div>"
      ]
     },
     "metadata": {},
     "execution_count": 9
    }
   ],
   "metadata": {}
  },
  {
   "cell_type": "code",
   "execution_count": 14,
   "source": [
    "a = forw_df[\"f_Y\"] / forw_df[\"f_X\"]"
   ],
   "outputs": [],
   "metadata": {}
  },
  {
   "cell_type": "code",
   "execution_count": 15,
   "source": [
    "a.mean()"
   ],
   "outputs": [
    {
     "output_type": "execute_result",
     "data": {
      "text/plain": [
       "2.2061622883192427"
      ]
     },
     "metadata": {},
     "execution_count": 15
    }
   ],
   "metadata": {}
  },
  {
   "cell_type": "code",
   "execution_count": 16,
   "source": [
    "a.median()"
   ],
   "outputs": [
    {
     "output_type": "execute_result",
     "data": {
      "text/plain": [
       "2.142857142857143"
      ]
     },
     "metadata": {},
     "execution_count": 16
    }
   ],
   "metadata": {}
  },
  {
   "cell_type": "code",
   "execution_count": 17,
   "source": [
    "a.min()"
   ],
   "outputs": [
    {
     "output_type": "execute_result",
     "data": {
      "text/plain": [
       "0.11267605633802817"
      ]
     },
     "metadata": {},
     "execution_count": 17
    }
   ],
   "metadata": {}
  },
  {
   "cell_type": "code",
   "execution_count": 18,
   "source": [
    "a.max()"
   ],
   "outputs": [
    {
     "output_type": "execute_result",
     "data": {
      "text/plain": [
       "4.87378640776699"
      ]
     },
     "metadata": {},
     "execution_count": 18
    }
   ],
   "metadata": {}
  },
  {
   "cell_type": "code",
   "execution_count": 13,
   "source": [
    "forw_df[forw_df[\"f_X\"] == 0 ]"
   ],
   "outputs": [
    {
     "output_type": "execute_result",
     "data": {
      "text/plain": [
       "Empty DataFrame\n",
       "Columns: [Unnamed: 0, f_X, f_Y]\n",
       "Index: []"
      ],
      "text/html": [
       "<div>\n",
       "<style scoped>\n",
       "    .dataframe tbody tr th:only-of-type {\n",
       "        vertical-align: middle;\n",
       "    }\n",
       "\n",
       "    .dataframe tbody tr th {\n",
       "        vertical-align: top;\n",
       "    }\n",
       "\n",
       "    .dataframe thead th {\n",
       "        text-align: right;\n",
       "    }\n",
       "</style>\n",
       "<table border=\"1\" class=\"dataframe\">\n",
       "  <thead>\n",
       "    <tr style=\"text-align: right;\">\n",
       "      <th></th>\n",
       "      <th>Unnamed: 0</th>\n",
       "      <th>f_X</th>\n",
       "      <th>f_Y</th>\n",
       "    </tr>\n",
       "  </thead>\n",
       "  <tbody>\n",
       "  </tbody>\n",
       "</table>\n",
       "</div>"
      ]
     },
     "metadata": {},
     "execution_count": 13
    }
   ],
   "metadata": {}
  },
  {
   "cell_type": "code",
   "execution_count": 11,
   "source": [
    "forw_df[\"f_X\"].median()"
   ],
   "outputs": [
    {
     "output_type": "execute_result",
     "data": {
      "text/plain": [
       "85.0"
      ]
     },
     "metadata": {},
     "execution_count": 11
    }
   ],
   "metadata": {}
  }
 ],
 "metadata": {
  "orig_nbformat": 4,
  "language_info": {
   "name": "python",
   "version": "3.8.10",
   "mimetype": "text/x-python",
   "codemirror_mode": {
    "name": "ipython",
    "version": 3
   },
   "pygments_lexer": "ipython3",
   "nbconvert_exporter": "python",
   "file_extension": ".py"
  },
  "kernelspec": {
   "name": "python3",
   "display_name": "Python 3.8.10 64-bit"
  },
  "interpreter": {
   "hash": "435c7524b81c754d2a38f9b1930a50d7a83318eec9a7b6faab8c4b8cfd59b603"
  }
 },
 "nbformat": 4,
 "nbformat_minor": 2
}