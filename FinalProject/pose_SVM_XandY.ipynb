{
 "cells": [
  {
   "cell_type": "code",
   "execution_count": 1,
   "source": [
    "import pandas as pd \r\n",
    "from sklearn import svm, metrics, tree, ensemble\r\n",
    "from sklearn.model_selection import  train_test_split \r\n",
    "import numpy as np\r\n",
    "from sklearn.linear_model import LogisticRegression\r\n",
    "from sklearn.naive_bayes import GaussianNB\r\n",
    "from sklearn.ensemble import RandomForestClassifier, VotingClassifier\r\n",
    "from sklearn.preprocessing import LabelEncoder"
   ],
   "outputs": [],
   "metadata": {
    "id": "b-TBKa0RmDYO"
   }
  },
  {
   "cell_type": "code",
   "execution_count": 8,
   "source": [
    "corr_csv = pd.read_csv(\"t_v_2_corr.csv\") "
   ],
   "outputs": [],
   "metadata": {
    "id": "AhXFqwlYmDYP"
   }
  },
  {
   "cell_type": "code",
   "execution_count": 9,
   "source": [
    "corr_df = pd.DataFrame(corr_csv); corr_df"
   ],
   "outputs": [
    {
     "output_type": "execute_result",
     "data": {
      "text/plain": [
       "      c_X  c_Y\n",
       "0      30  115\n",
       "1      25  110\n",
       "2     114  304\n",
       "3      20   70\n",
       "4     120  272\n",
       "...   ...  ...\n",
       "1730   96  288\n",
       "1731  120  288\n",
       "1732  120  288\n",
       "1733  120  296\n",
       "1734  120  296\n",
       "\n",
       "[1735 rows x 2 columns]"
      ],
      "text/html": [
       "<div>\n",
       "<style scoped>\n",
       "    .dataframe tbody tr th:only-of-type {\n",
       "        vertical-align: middle;\n",
       "    }\n",
       "\n",
       "    .dataframe tbody tr th {\n",
       "        vertical-align: top;\n",
       "    }\n",
       "\n",
       "    .dataframe thead th {\n",
       "        text-align: right;\n",
       "    }\n",
       "</style>\n",
       "<table border=\"1\" class=\"dataframe\">\n",
       "  <thead>\n",
       "    <tr style=\"text-align: right;\">\n",
       "      <th></th>\n",
       "      <th>c_X</th>\n",
       "      <th>c_Y</th>\n",
       "    </tr>\n",
       "  </thead>\n",
       "  <tbody>\n",
       "    <tr>\n",
       "      <th>0</th>\n",
       "      <td>30</td>\n",
       "      <td>115</td>\n",
       "    </tr>\n",
       "    <tr>\n",
       "      <th>1</th>\n",
       "      <td>25</td>\n",
       "      <td>110</td>\n",
       "    </tr>\n",
       "    <tr>\n",
       "      <th>2</th>\n",
       "      <td>114</td>\n",
       "      <td>304</td>\n",
       "    </tr>\n",
       "    <tr>\n",
       "      <th>3</th>\n",
       "      <td>20</td>\n",
       "      <td>70</td>\n",
       "    </tr>\n",
       "    <tr>\n",
       "      <th>4</th>\n",
       "      <td>120</td>\n",
       "      <td>272</td>\n",
       "    </tr>\n",
       "    <tr>\n",
       "      <th>...</th>\n",
       "      <td>...</td>\n",
       "      <td>...</td>\n",
       "    </tr>\n",
       "    <tr>\n",
       "      <th>1730</th>\n",
       "      <td>96</td>\n",
       "      <td>288</td>\n",
       "    </tr>\n",
       "    <tr>\n",
       "      <th>1731</th>\n",
       "      <td>120</td>\n",
       "      <td>288</td>\n",
       "    </tr>\n",
       "    <tr>\n",
       "      <th>1732</th>\n",
       "      <td>120</td>\n",
       "      <td>288</td>\n",
       "    </tr>\n",
       "    <tr>\n",
       "      <th>1733</th>\n",
       "      <td>120</td>\n",
       "      <td>296</td>\n",
       "    </tr>\n",
       "    <tr>\n",
       "      <th>1734</th>\n",
       "      <td>120</td>\n",
       "      <td>296</td>\n",
       "    </tr>\n",
       "  </tbody>\n",
       "</table>\n",
       "<p>1735 rows × 2 columns</p>\n",
       "</div>"
      ]
     },
     "metadata": {},
     "execution_count": 9
    }
   ],
   "metadata": {}
  },
  {
   "cell_type": "code",
   "execution_count": 10,
   "source": [
    "# Basic box plot\r\n",
    "import matplotlib.pyplot as plt\r\n",
    "%matplotlib inline \r\n",
    "\r\n",
    "\r\n",
    "a = plt.boxplot(corr_df)\r\n",
    "plt.show()"
   ],
   "outputs": [
    {
     "output_type": "display_data",
     "data": {
      "text/plain": [
       "<Figure size 432x288 with 1 Axes>"
      ],
      "image/svg+xml": "<?xml version=\"1.0\" encoding=\"utf-8\" standalone=\"no\"?>\r\n<!DOCTYPE svg PUBLIC \"-//W3C//DTD SVG 1.1//EN\"\r\n  \"http://www.w3.org/Graphics/SVG/1.1/DTD/svg11.dtd\">\r\n<svg height=\"251.853815pt\" version=\"1.1\" viewBox=\"0 0 381.65 251.853815\" width=\"381.65pt\" xmlns=\"http://www.w3.org/2000/svg\" xmlns:xlink=\"http://www.w3.org/1999/xlink\">\r\n <metadata>\r\n  <rdf:RDF xmlns:cc=\"http://creativecommons.org/ns#\" xmlns:dc=\"http://purl.org/dc/elements/1.1/\" xmlns:rdf=\"http://www.w3.org/1999/02/22-rdf-syntax-ns#\">\r\n   <cc:Work>\r\n    <dc:type rdf:resource=\"http://purl.org/dc/dcmitype/StillImage\"/>\r\n    <dc:date>2021-08-25T13:31:08.267088</dc:date>\r\n    <dc:format>image/svg+xml</dc:format>\r\n    <dc:creator>\r\n     <cc:Agent>\r\n      <dc:title>Matplotlib v3.4.2, https://matplotlib.org/</dc:title>\r\n     </cc:Agent>\r\n    </dc:creator>\r\n   </cc:Work>\r\n  </rdf:RDF>\r\n </metadata>\r\n <defs>\r\n  <style type=\"text/css\">*{stroke-linecap:butt;stroke-linejoin:round;}</style>\r\n </defs>\r\n <g id=\"figure_1\">\r\n  <g id=\"patch_1\">\r\n   <path d=\"M -0 251.853815 \r\nL 381.65 251.853815 \r\nL 381.65 0 \r\nL -0 0 \r\nz\r\n\" style=\"fill:none;\"/>\r\n  </g>\r\n  <g id=\"axes_1\">\r\n   <g id=\"patch_2\">\r\n    <path d=\"M 39.65 227.97569 \r\nL 374.45 227.97569 \r\nL 374.45 10.53569 \r\nL 39.65 10.53569 \r\nz\r\n\" style=\"fill:#ffffff;\"/>\r\n   </g>\r\n   <g id=\"matplotlib.axis_1\">\r\n    <g id=\"xtick_1\">\r\n     <g id=\"line2d_1\">\r\n      <defs>\r\n       <path d=\"M 0 0 \r\nL 0 3.5 \r\n\" id=\"mbde7c542a9\" style=\"stroke:#000000;stroke-width:0.8;\"/>\r\n      </defs>\r\n      <g>\r\n       <use style=\"stroke:#000000;stroke-width:0.8;\" x=\"123.35\" xlink:href=\"#mbde7c542a9\" y=\"227.97569\"/>\r\n      </g>\r\n     </g>\r\n     <g id=\"text_1\">\r\n      <!-- 1 -->\r\n      <g transform=\"translate(120.16875 242.574127)scale(0.1 -0.1)\">\r\n       <defs>\r\n        <path d=\"M 794 531 \r\nL 1825 531 \r\nL 1825 4091 \r\nL 703 3866 \r\nL 703 4441 \r\nL 1819 4666 \r\nL 2450 4666 \r\nL 2450 531 \r\nL 3481 531 \r\nL 3481 0 \r\nL 794 0 \r\nL 794 531 \r\nz\r\n\" id=\"DejaVuSans-31\" transform=\"scale(0.015625)\"/>\r\n       </defs>\r\n       <use xlink:href=\"#DejaVuSans-31\"/>\r\n      </g>\r\n     </g>\r\n    </g>\r\n    <g id=\"xtick_2\">\r\n     <g id=\"line2d_2\">\r\n      <g>\r\n       <use style=\"stroke:#000000;stroke-width:0.8;\" x=\"290.75\" xlink:href=\"#mbde7c542a9\" y=\"227.97569\"/>\r\n      </g>\r\n     </g>\r\n     <g id=\"text_2\">\r\n      <!-- 2 -->\r\n      <g transform=\"translate(287.56875 242.574127)scale(0.1 -0.1)\">\r\n       <defs>\r\n        <path d=\"M 1228 531 \r\nL 3431 531 \r\nL 3431 0 \r\nL 469 0 \r\nL 469 531 \r\nQ 828 903 1448 1529 \r\nQ 2069 2156 2228 2338 \r\nQ 2531 2678 2651 2914 \r\nQ 2772 3150 2772 3378 \r\nQ 2772 3750 2511 3984 \r\nQ 2250 4219 1831 4219 \r\nQ 1534 4219 1204 4116 \r\nQ 875 4013 500 3803 \r\nL 500 4441 \r\nQ 881 4594 1212 4672 \r\nQ 1544 4750 1819 4750 \r\nQ 2544 4750 2975 4387 \r\nQ 3406 4025 3406 3419 \r\nQ 3406 3131 3298 2873 \r\nQ 3191 2616 2906 2266 \r\nQ 2828 2175 2409 1742 \r\nQ 1991 1309 1228 531 \r\nz\r\n\" id=\"DejaVuSans-32\" transform=\"scale(0.015625)\"/>\r\n       </defs>\r\n       <use xlink:href=\"#DejaVuSans-32\"/>\r\n      </g>\r\n     </g>\r\n    </g>\r\n   </g>\r\n   <g id=\"matplotlib.axis_2\">\r\n    <g id=\"ytick_1\">\r\n     <g id=\"line2d_3\">\r\n      <defs>\r\n       <path d=\"M 0 0 \r\nL -3.5 0 \r\n\" id=\"mc5f6ad29e2\" style=\"stroke:#000000;stroke-width:0.8;\"/>\r\n      </defs>\r\n      <g>\r\n       <use style=\"stroke:#000000;stroke-width:0.8;\" x=\"39.65\" xlink:href=\"#mc5f6ad29e2\" y=\"220.334936\"/>\r\n      </g>\r\n     </g>\r\n     <g id=\"text_3\">\r\n      <!-- 0 -->\r\n      <g transform=\"translate(26.2875 224.134155)scale(0.1 -0.1)\">\r\n       <defs>\r\n        <path d=\"M 2034 4250 \r\nQ 1547 4250 1301 3770 \r\nQ 1056 3291 1056 2328 \r\nQ 1056 1369 1301 889 \r\nQ 1547 409 2034 409 \r\nQ 2525 409 2770 889 \r\nQ 3016 1369 3016 2328 \r\nQ 3016 3291 2770 3770 \r\nQ 2525 4250 2034 4250 \r\nz\r\nM 2034 4750 \r\nQ 2819 4750 3233 4129 \r\nQ 3647 3509 3647 2328 \r\nQ 3647 1150 3233 529 \r\nQ 2819 -91 2034 -91 \r\nQ 1250 -91 836 529 \r\nQ 422 1150 422 2328 \r\nQ 422 3509 836 4129 \r\nQ 1250 4750 2034 4750 \r\nz\r\n\" id=\"DejaVuSans-30\" transform=\"scale(0.015625)\"/>\r\n       </defs>\r\n       <use xlink:href=\"#DejaVuSans-30\"/>\r\n      </g>\r\n     </g>\r\n    </g>\r\n    <g id=\"ytick_2\">\r\n     <g id=\"line2d_4\">\r\n      <g>\r\n       <use style=\"stroke:#000000;stroke-width:0.8;\" x=\"39.65\" xlink:href=\"#mc5f6ad29e2\" y=\"190.429834\"/>\r\n      </g>\r\n     </g>\r\n     <g id=\"text_4\">\r\n      <!-- 200 -->\r\n      <g transform=\"translate(13.5625 194.229052)scale(0.1 -0.1)\">\r\n       <use xlink:href=\"#DejaVuSans-32\"/>\r\n       <use x=\"63.623047\" xlink:href=\"#DejaVuSans-30\"/>\r\n       <use x=\"127.246094\" xlink:href=\"#DejaVuSans-30\"/>\r\n      </g>\r\n     </g>\r\n    </g>\r\n    <g id=\"ytick_3\">\r\n     <g id=\"line2d_5\">\r\n      <g>\r\n       <use style=\"stroke:#000000;stroke-width:0.8;\" x=\"39.65\" xlink:href=\"#mc5f6ad29e2\" y=\"160.524731\"/>\r\n      </g>\r\n     </g>\r\n     <g id=\"text_5\">\r\n      <!-- 400 -->\r\n      <g transform=\"translate(13.5625 164.32395)scale(0.1 -0.1)\">\r\n       <defs>\r\n        <path d=\"M 2419 4116 \r\nL 825 1625 \r\nL 2419 1625 \r\nL 2419 4116 \r\nz\r\nM 2253 4666 \r\nL 3047 4666 \r\nL 3047 1625 \r\nL 3713 1625 \r\nL 3713 1100 \r\nL 3047 1100 \r\nL 3047 0 \r\nL 2419 0 \r\nL 2419 1100 \r\nL 313 1100 \r\nL 313 1709 \r\nL 2253 4666 \r\nz\r\n\" id=\"DejaVuSans-34\" transform=\"scale(0.015625)\"/>\r\n       </defs>\r\n       <use xlink:href=\"#DejaVuSans-34\"/>\r\n       <use x=\"63.623047\" xlink:href=\"#DejaVuSans-30\"/>\r\n       <use x=\"127.246094\" xlink:href=\"#DejaVuSans-30\"/>\r\n      </g>\r\n     </g>\r\n    </g>\r\n    <g id=\"ytick_4\">\r\n     <g id=\"line2d_6\">\r\n      <g>\r\n       <use style=\"stroke:#000000;stroke-width:0.8;\" x=\"39.65\" xlink:href=\"#mc5f6ad29e2\" y=\"130.619629\"/>\r\n      </g>\r\n     </g>\r\n     <g id=\"text_6\">\r\n      <!-- 600 -->\r\n      <g transform=\"translate(13.5625 134.418847)scale(0.1 -0.1)\">\r\n       <defs>\r\n        <path d=\"M 2113 2584 \r\nQ 1688 2584 1439 2293 \r\nQ 1191 2003 1191 1497 \r\nQ 1191 994 1439 701 \r\nQ 1688 409 2113 409 \r\nQ 2538 409 2786 701 \r\nQ 3034 994 3034 1497 \r\nQ 3034 2003 2786 2293 \r\nQ 2538 2584 2113 2584 \r\nz\r\nM 3366 4563 \r\nL 3366 3988 \r\nQ 3128 4100 2886 4159 \r\nQ 2644 4219 2406 4219 \r\nQ 1781 4219 1451 3797 \r\nQ 1122 3375 1075 2522 \r\nQ 1259 2794 1537 2939 \r\nQ 1816 3084 2150 3084 \r\nQ 2853 3084 3261 2657 \r\nQ 3669 2231 3669 1497 \r\nQ 3669 778 3244 343 \r\nQ 2819 -91 2113 -91 \r\nQ 1303 -91 875 529 \r\nQ 447 1150 447 2328 \r\nQ 447 3434 972 4092 \r\nQ 1497 4750 2381 4750 \r\nQ 2619 4750 2861 4703 \r\nQ 3103 4656 3366 4563 \r\nz\r\n\" id=\"DejaVuSans-36\" transform=\"scale(0.015625)\"/>\r\n       </defs>\r\n       <use xlink:href=\"#DejaVuSans-36\"/>\r\n       <use x=\"63.623047\" xlink:href=\"#DejaVuSans-30\"/>\r\n       <use x=\"127.246094\" xlink:href=\"#DejaVuSans-30\"/>\r\n      </g>\r\n     </g>\r\n    </g>\r\n    <g id=\"ytick_5\">\r\n     <g id=\"line2d_7\">\r\n      <g>\r\n       <use style=\"stroke:#000000;stroke-width:0.8;\" x=\"39.65\" xlink:href=\"#mc5f6ad29e2\" y=\"100.714526\"/>\r\n      </g>\r\n     </g>\r\n     <g id=\"text_7\">\r\n      <!-- 800 -->\r\n      <g transform=\"translate(13.5625 104.513745)scale(0.1 -0.1)\">\r\n       <defs>\r\n        <path d=\"M 2034 2216 \r\nQ 1584 2216 1326 1975 \r\nQ 1069 1734 1069 1313 \r\nQ 1069 891 1326 650 \r\nQ 1584 409 2034 409 \r\nQ 2484 409 2743 651 \r\nQ 3003 894 3003 1313 \r\nQ 3003 1734 2745 1975 \r\nQ 2488 2216 2034 2216 \r\nz\r\nM 1403 2484 \r\nQ 997 2584 770 2862 \r\nQ 544 3141 544 3541 \r\nQ 544 4100 942 4425 \r\nQ 1341 4750 2034 4750 \r\nQ 2731 4750 3128 4425 \r\nQ 3525 4100 3525 3541 \r\nQ 3525 3141 3298 2862 \r\nQ 3072 2584 2669 2484 \r\nQ 3125 2378 3379 2068 \r\nQ 3634 1759 3634 1313 \r\nQ 3634 634 3220 271 \r\nQ 2806 -91 2034 -91 \r\nQ 1263 -91 848 271 \r\nQ 434 634 434 1313 \r\nQ 434 1759 690 2068 \r\nQ 947 2378 1403 2484 \r\nz\r\nM 1172 3481 \r\nQ 1172 3119 1398 2916 \r\nQ 1625 2713 2034 2713 \r\nQ 2441 2713 2670 2916 \r\nQ 2900 3119 2900 3481 \r\nQ 2900 3844 2670 4047 \r\nQ 2441 4250 2034 4250 \r\nQ 1625 4250 1398 4047 \r\nQ 1172 3844 1172 3481 \r\nz\r\n\" id=\"DejaVuSans-38\" transform=\"scale(0.015625)\"/>\r\n       </defs>\r\n       <use xlink:href=\"#DejaVuSans-38\"/>\r\n       <use x=\"63.623047\" xlink:href=\"#DejaVuSans-30\"/>\r\n       <use x=\"127.246094\" xlink:href=\"#DejaVuSans-30\"/>\r\n      </g>\r\n     </g>\r\n    </g>\r\n    <g id=\"ytick_6\">\r\n     <g id=\"line2d_8\">\r\n      <g>\r\n       <use style=\"stroke:#000000;stroke-width:0.8;\" x=\"39.65\" xlink:href=\"#mc5f6ad29e2\" y=\"70.809424\"/>\r\n      </g>\r\n     </g>\r\n     <g id=\"text_8\">\r\n      <!-- 1000 -->\r\n      <g transform=\"translate(7.2 74.608642)scale(0.1 -0.1)\">\r\n       <use xlink:href=\"#DejaVuSans-31\"/>\r\n       <use x=\"63.623047\" xlink:href=\"#DejaVuSans-30\"/>\r\n       <use x=\"127.246094\" xlink:href=\"#DejaVuSans-30\"/>\r\n       <use x=\"190.869141\" xlink:href=\"#DejaVuSans-30\"/>\r\n      </g>\r\n     </g>\r\n    </g>\r\n    <g id=\"ytick_7\">\r\n     <g id=\"line2d_9\">\r\n      <g>\r\n       <use style=\"stroke:#000000;stroke-width:0.8;\" x=\"39.65\" xlink:href=\"#mc5f6ad29e2\" y=\"40.904321\"/>\r\n      </g>\r\n     </g>\r\n     <g id=\"text_9\">\r\n      <!-- 1200 -->\r\n      <g transform=\"translate(7.2 44.70354)scale(0.1 -0.1)\">\r\n       <use xlink:href=\"#DejaVuSans-31\"/>\r\n       <use x=\"63.623047\" xlink:href=\"#DejaVuSans-32\"/>\r\n       <use x=\"127.246094\" xlink:href=\"#DejaVuSans-30\"/>\r\n       <use x=\"190.869141\" xlink:href=\"#DejaVuSans-30\"/>\r\n      </g>\r\n     </g>\r\n    </g>\r\n    <g id=\"ytick_8\">\r\n     <g id=\"line2d_10\">\r\n      <g>\r\n       <use style=\"stroke:#000000;stroke-width:0.8;\" x=\"39.65\" xlink:href=\"#mc5f6ad29e2\" y=\"10.999219\"/>\r\n      </g>\r\n     </g>\r\n     <g id=\"text_10\">\r\n      <!-- 1400 -->\r\n      <g transform=\"translate(7.2 14.798437)scale(0.1 -0.1)\">\r\n       <use xlink:href=\"#DejaVuSans-31\"/>\r\n       <use x=\"63.623047\" xlink:href=\"#DejaVuSans-34\"/>\r\n       <use x=\"127.246094\" xlink:href=\"#DejaVuSans-30\"/>\r\n       <use x=\"190.869141\" xlink:href=\"#DejaVuSans-30\"/>\r\n      </g>\r\n     </g>\r\n    </g>\r\n   </g>\r\n   <g id=\"line2d_11\">\r\n    <path clip-path=\"url(#p3995cb32e8)\" d=\"M 110.795 216.596798 \r\nL 135.905 216.596798 \r\nL 135.905 203.588079 \r\nL 110.795 203.588079 \r\nL 110.795 216.596798 \r\n\" style=\"fill:none;stroke:#000000;stroke-linecap:square;\"/>\r\n   </g>\r\n   <g id=\"line2d_12\">\r\n    <path clip-path=\"url(#p3995cb32e8)\" d=\"M 123.35 216.596798 \r\nL 123.35 218.092053 \r\n\" style=\"fill:none;stroke:#000000;stroke-linecap:square;\"/>\r\n   </g>\r\n   <g id=\"line2d_13\">\r\n    <path clip-path=\"url(#p3995cb32e8)\" d=\"M 123.35 203.588079 \r\nL 123.35 189.53268 \r\n\" style=\"fill:none;stroke:#000000;stroke-linecap:square;\"/>\r\n   </g>\r\n   <g id=\"line2d_14\">\r\n    <path clip-path=\"url(#p3995cb32e8)\" d=\"M 117.0725 218.092053 \r\nL 129.6275 218.092053 \r\n\" style=\"fill:none;stroke:#000000;stroke-linecap:square;\"/>\r\n   </g>\r\n   <g id=\"line2d_15\">\r\n    <path clip-path=\"url(#p3995cb32e8)\" d=\"M 117.0725 189.53268 \r\nL 129.6275 189.53268 \r\n\" style=\"fill:none;stroke:#000000;stroke-linecap:square;\"/>\r\n   </g>\r\n   <g id=\"line2d_16\">\r\n    <defs>\r\n     <path d=\"M 0 3 \r\nC 0.795609 3 1.55874 2.683901 2.12132 2.12132 \r\nC 2.683901 1.55874 3 0.795609 3 0 \r\nC 3 -0.795609 2.683901 -1.55874 2.12132 -2.12132 \r\nC 1.55874 -2.683901 0.795609 -3 0 -3 \r\nC -0.795609 -3 -1.55874 -2.683901 -2.12132 -2.12132 \r\nC -2.683901 -1.55874 -3 -0.795609 -3 0 \r\nC -3 0.795609 -2.683901 1.55874 -2.12132 2.12132 \r\nC -1.55874 2.683901 -0.795609 3 0 3 \r\nz\r\n\" id=\"med287f9996\" style=\"stroke:#000000;\"/>\r\n    </defs>\r\n    <g clip-path=\"url(#p3995cb32e8)\">\r\n     <use style=\"fill-opacity:0;stroke:#000000;\" x=\"123.35\" xlink:href=\"#med287f9996\" y=\"183.701185\"/>\r\n     <use style=\"fill-opacity:0;stroke:#000000;\" x=\"123.35\" xlink:href=\"#med287f9996\" y=\"183.701185\"/>\r\n     <use style=\"fill-opacity:0;stroke:#000000;\" x=\"123.35\" xlink:href=\"#med287f9996\" y=\"183.701185\"/>\r\n     <use style=\"fill-opacity:0;stroke:#000000;\" x=\"123.35\" xlink:href=\"#med287f9996\" y=\"183.701185\"/>\r\n     <use style=\"fill-opacity:0;stroke:#000000;\" x=\"123.35\" xlink:href=\"#med287f9996\" y=\"183.701185\"/>\r\n     <use style=\"fill-opacity:0;stroke:#000000;\" x=\"123.35\" xlink:href=\"#med287f9996\" y=\"183.701185\"/>\r\n     <use style=\"fill-opacity:0;stroke:#000000;\" x=\"123.35\" xlink:href=\"#med287f9996\" y=\"183.701185\"/>\r\n     <use style=\"fill-opacity:0;stroke:#000000;\" x=\"123.35\" xlink:href=\"#med287f9996\" y=\"183.701185\"/>\r\n     <use style=\"fill-opacity:0;stroke:#000000;\" x=\"123.35\" xlink:href=\"#med287f9996\" y=\"183.701185\"/>\r\n     <use style=\"fill-opacity:0;stroke:#000000;\" x=\"123.35\" xlink:href=\"#med287f9996\" y=\"183.701185\"/>\r\n     <use style=\"fill-opacity:0;stroke:#000000;\" x=\"123.35\" xlink:href=\"#med287f9996\" y=\"176.374435\"/>\r\n     <use style=\"fill-opacity:0;stroke:#000000;\" x=\"123.35\" xlink:href=\"#med287f9996\" y=\"176.374435\"/>\r\n     <use style=\"fill-opacity:0;stroke:#000000;\" x=\"123.35\" xlink:href=\"#med287f9996\" y=\"176.374435\"/>\r\n     <use style=\"fill-opacity:0;stroke:#000000;\" x=\"123.35\" xlink:href=\"#med287f9996\" y=\"176.374435\"/>\r\n     <use style=\"fill-opacity:0;stroke:#000000;\" x=\"123.35\" xlink:href=\"#med287f9996\" y=\"183.701185\"/>\r\n     <use style=\"fill-opacity:0;stroke:#000000;\" x=\"123.35\" xlink:href=\"#med287f9996\" y=\"183.701185\"/>\r\n     <use style=\"fill-opacity:0;stroke:#000000;\" x=\"123.35\" xlink:href=\"#med287f9996\" y=\"183.701185\"/>\r\n     <use style=\"fill-opacity:0;stroke:#000000;\" x=\"123.35\" xlink:href=\"#med287f9996\" y=\"183.701185\"/>\r\n     <use style=\"fill-opacity:0;stroke:#000000;\" x=\"123.35\" xlink:href=\"#med287f9996\" y=\"176.22491\"/>\r\n     <use style=\"fill-opacity:0;stroke:#000000;\" x=\"123.35\" xlink:href=\"#med287f9996\" y=\"176.22491\"/>\r\n     <use style=\"fill-opacity:0;stroke:#000000;\" x=\"123.35\" xlink:href=\"#med287f9996\" y=\"176.374435\"/>\r\n     <use style=\"fill-opacity:0;stroke:#000000;\" x=\"123.35\" xlink:href=\"#med287f9996\" y=\"176.374435\"/>\r\n     <use style=\"fill-opacity:0;stroke:#000000;\" x=\"123.35\" xlink:href=\"#med287f9996\" y=\"183.701185\"/>\r\n     <use style=\"fill-opacity:0;stroke:#000000;\" x=\"123.35\" xlink:href=\"#med287f9996\" y=\"183.701185\"/>\r\n     <use style=\"fill-opacity:0;stroke:#000000;\" x=\"123.35\" xlink:href=\"#med287f9996\" y=\"183.55166\"/>\r\n     <use style=\"fill-opacity:0;stroke:#000000;\" x=\"123.35\" xlink:href=\"#med287f9996\" y=\"183.55166\"/>\r\n     <use style=\"fill-opacity:0;stroke:#000000;\" x=\"123.35\" xlink:href=\"#med287f9996\" y=\"176.22491\"/>\r\n     <use style=\"fill-opacity:0;stroke:#000000;\" x=\"123.35\" xlink:href=\"#med287f9996\" y=\"176.22491\"/>\r\n     <use style=\"fill-opacity:0;stroke:#000000;\" x=\"123.35\" xlink:href=\"#med287f9996\" y=\"183.55166\"/>\r\n     <use style=\"fill-opacity:0;stroke:#000000;\" x=\"123.35\" xlink:href=\"#med287f9996\" y=\"183.55166\"/>\r\n     <use style=\"fill-opacity:0;stroke:#000000;\" x=\"123.35\" xlink:href=\"#med287f9996\" y=\"183.701185\"/>\r\n     <use style=\"fill-opacity:0;stroke:#000000;\" x=\"123.35\" xlink:href=\"#med287f9996\" y=\"183.701185\"/>\r\n     <use style=\"fill-opacity:0;stroke:#000000;\" x=\"123.35\" xlink:href=\"#med287f9996\" y=\"183.701185\"/>\r\n     <use style=\"fill-opacity:0;stroke:#000000;\" x=\"123.35\" xlink:href=\"#med287f9996\" y=\"176.374435\"/>\r\n     <use style=\"fill-opacity:0;stroke:#000000;\" x=\"123.35\" xlink:href=\"#med287f9996\" y=\"176.374435\"/>\r\n     <use style=\"fill-opacity:0;stroke:#000000;\" x=\"123.35\" xlink:href=\"#med287f9996\" y=\"183.55166\"/>\r\n     <use style=\"fill-opacity:0;stroke:#000000;\" x=\"123.35\" xlink:href=\"#med287f9996\" y=\"183.55166\"/>\r\n     <use style=\"fill-opacity:0;stroke:#000000;\" x=\"123.35\" xlink:href=\"#med287f9996\" y=\"183.701185\"/>\r\n     <use style=\"fill-opacity:0;stroke:#000000;\" x=\"123.35\" xlink:href=\"#med287f9996\" y=\"183.701185\"/>\r\n     <use style=\"fill-opacity:0;stroke:#000000;\" x=\"123.35\" xlink:href=\"#med287f9996\" y=\"176.22491\"/>\r\n     <use style=\"fill-opacity:0;stroke:#000000;\" x=\"123.35\" xlink:href=\"#med287f9996\" y=\"176.22491\"/>\r\n     <use style=\"fill-opacity:0;stroke:#000000;\" x=\"123.35\" xlink:href=\"#med287f9996\" y=\"183.55166\"/>\r\n     <use style=\"fill-opacity:0;stroke:#000000;\" x=\"123.35\" xlink:href=\"#med287f9996\" y=\"183.55166\"/>\r\n     <use style=\"fill-opacity:0;stroke:#000000;\" x=\"123.35\" xlink:href=\"#med287f9996\" y=\"183.701185\"/>\r\n     <use style=\"fill-opacity:0;stroke:#000000;\" x=\"123.35\" xlink:href=\"#med287f9996\" y=\"183.701185\"/>\r\n     <use style=\"fill-opacity:0;stroke:#000000;\" x=\"123.35\" xlink:href=\"#med287f9996\" y=\"176.374435\"/>\r\n     <use style=\"fill-opacity:0;stroke:#000000;\" x=\"123.35\" xlink:href=\"#med287f9996\" y=\"176.374435\"/>\r\n     <use style=\"fill-opacity:0;stroke:#000000;\" x=\"123.35\" xlink:href=\"#med287f9996\" y=\"183.55166\"/>\r\n     <use style=\"fill-opacity:0;stroke:#000000;\" x=\"123.35\" xlink:href=\"#med287f9996\" y=\"176.22491\"/>\r\n     <use style=\"fill-opacity:0;stroke:#000000;\" x=\"123.35\" xlink:href=\"#med287f9996\" y=\"176.22491\"/>\r\n     <use style=\"fill-opacity:0;stroke:#000000;\" x=\"123.35\" xlink:href=\"#med287f9996\" y=\"183.55166\"/>\r\n     <use style=\"fill-opacity:0;stroke:#000000;\" x=\"123.35\" xlink:href=\"#med287f9996\" y=\"183.55166\"/>\r\n     <use style=\"fill-opacity:0;stroke:#000000;\" x=\"123.35\" xlink:href=\"#med287f9996\" y=\"158.730425\"/>\r\n     <use style=\"fill-opacity:0;stroke:#000000;\" x=\"123.35\" xlink:href=\"#med287f9996\" y=\"166.356226\"/>\r\n     <use style=\"fill-opacity:0;stroke:#000000;\" x=\"123.35\" xlink:href=\"#med287f9996\" y=\"166.505752\"/>\r\n     <use style=\"fill-opacity:0;stroke:#000000;\" x=\"123.35\" xlink:href=\"#med287f9996\" y=\"158.730425\"/>\r\n     <use style=\"fill-opacity:0;stroke:#000000;\" x=\"123.35\" xlink:href=\"#med287f9996\" y=\"166.505752\"/>\r\n     <use style=\"fill-opacity:0;stroke:#000000;\" x=\"123.35\" xlink:href=\"#med287f9996\" y=\"166.356226\"/>\r\n     <use style=\"fill-opacity:0;stroke:#000000;\" x=\"123.35\" xlink:href=\"#med287f9996\" y=\"166.356226\"/>\r\n     <use style=\"fill-opacity:0;stroke:#000000;\" x=\"123.35\" xlink:href=\"#med287f9996\" y=\"166.505752\"/>\r\n     <use style=\"fill-opacity:0;stroke:#000000;\" x=\"123.35\" xlink:href=\"#med287f9996\" y=\"174.131553\"/>\r\n     <use style=\"fill-opacity:0;stroke:#000000;\" x=\"123.35\" xlink:href=\"#med287f9996\" y=\"174.281078\"/>\r\n     <use style=\"fill-opacity:0;stroke:#000000;\" x=\"123.35\" xlink:href=\"#med287f9996\" y=\"158.730425\"/>\r\n     <use style=\"fill-opacity:0;stroke:#000000;\" x=\"123.35\" xlink:href=\"#med287f9996\" y=\"158.730425\"/>\r\n     <use style=\"fill-opacity:0;stroke:#000000;\" x=\"123.35\" xlink:href=\"#med287f9996\" y=\"158.730425\"/>\r\n     <use style=\"fill-opacity:0;stroke:#000000;\" x=\"123.35\" xlink:href=\"#med287f9996\" y=\"166.505752\"/>\r\n     <use style=\"fill-opacity:0;stroke:#000000;\" x=\"123.35\" xlink:href=\"#med287f9996\" y=\"166.505752\"/>\r\n     <use style=\"fill-opacity:0;stroke:#000000;\" x=\"123.35\" xlink:href=\"#med287f9996\" y=\"166.505752\"/>\r\n     <use style=\"fill-opacity:0;stroke:#000000;\" x=\"123.35\" xlink:href=\"#med287f9996\" y=\"166.356226\"/>\r\n     <use style=\"fill-opacity:0;stroke:#000000;\" x=\"123.35\" xlink:href=\"#med287f9996\" y=\"166.505752\"/>\r\n     <use style=\"fill-opacity:0;stroke:#000000;\" x=\"123.35\" xlink:href=\"#med287f9996\" y=\"174.281078\"/>\r\n     <use style=\"fill-opacity:0;stroke:#000000;\" x=\"123.35\" xlink:href=\"#med287f9996\" y=\"174.131553\"/>\r\n     <use style=\"fill-opacity:0;stroke:#000000;\" x=\"123.35\" xlink:href=\"#med287f9996\" y=\"181.906879\"/>\r\n     <use style=\"fill-opacity:0;stroke:#000000;\" x=\"123.35\" xlink:href=\"#med287f9996\" y=\"181.906879\"/>\r\n     <use style=\"fill-opacity:0;stroke:#000000;\" x=\"123.35\" xlink:href=\"#med287f9996\" y=\"174.131553\"/>\r\n     <use style=\"fill-opacity:0;stroke:#000000;\" x=\"123.35\" xlink:href=\"#med287f9996\" y=\"174.131553\"/>\r\n     <use style=\"fill-opacity:0;stroke:#000000;\" x=\"123.35\" xlink:href=\"#med287f9996\" y=\"166.505752\"/>\r\n     <use style=\"fill-opacity:0;stroke:#000000;\" x=\"123.35\" xlink:href=\"#med287f9996\" y=\"166.356226\"/>\r\n     <use style=\"fill-opacity:0;stroke:#000000;\" x=\"123.35\" xlink:href=\"#med287f9996\" y=\"166.505752\"/>\r\n     <use style=\"fill-opacity:0;stroke:#000000;\" x=\"123.35\" xlink:href=\"#med287f9996\" y=\"166.356226\"/>\r\n     <use style=\"fill-opacity:0;stroke:#000000;\" x=\"123.35\" xlink:href=\"#med287f9996\" y=\"166.356226\"/>\r\n     <use style=\"fill-opacity:0;stroke:#000000;\" x=\"123.35\" xlink:href=\"#med287f9996\" y=\"166.505752\"/>\r\n     <use style=\"fill-opacity:0;stroke:#000000;\" x=\"123.35\" xlink:href=\"#med287f9996\" y=\"169.047685\"/>\r\n     <use style=\"fill-opacity:0;stroke:#000000;\" x=\"123.35\" xlink:href=\"#med287f9996\" y=\"169.047685\"/>\r\n     <use style=\"fill-opacity:0;stroke:#000000;\" x=\"123.35\" xlink:href=\"#med287f9996\" y=\"169.047685\"/>\r\n     <use style=\"fill-opacity:0;stroke:#000000;\" x=\"123.35\" xlink:href=\"#med287f9996\" y=\"169.047685\"/>\r\n     <use style=\"fill-opacity:0;stroke:#000000;\" x=\"123.35\" xlink:href=\"#med287f9996\" y=\"179.21542\"/>\r\n     <use style=\"fill-opacity:0;stroke:#000000;\" x=\"123.35\" xlink:href=\"#med287f9996\" y=\"179.364946\"/>\r\n     <use style=\"fill-opacity:0;stroke:#000000;\" x=\"123.35\" xlink:href=\"#med287f9996\" y=\"179.21542\"/>\r\n     <use style=\"fill-opacity:0;stroke:#000000;\" x=\"123.35\" xlink:href=\"#med287f9996\" y=\"179.21542\"/>\r\n     <use style=\"fill-opacity:0;stroke:#000000;\" x=\"123.35\" xlink:href=\"#med287f9996\" y=\"168.89816\"/>\r\n     <use style=\"fill-opacity:0;stroke:#000000;\" x=\"123.35\" xlink:href=\"#med287f9996\" y=\"169.047685\"/>\r\n     <use style=\"fill-opacity:0;stroke:#000000;\" x=\"123.35\" xlink:href=\"#med287f9996\" y=\"169.047685\"/>\r\n     <use style=\"fill-opacity:0;stroke:#000000;\" x=\"123.35\" xlink:href=\"#med287f9996\" y=\"169.047685\"/>\r\n     <use style=\"fill-opacity:0;stroke:#000000;\" x=\"123.35\" xlink:href=\"#med287f9996\" y=\"169.047685\"/>\r\n     <use style=\"fill-opacity:0;stroke:#000000;\" x=\"123.35\" xlink:href=\"#med287f9996\" y=\"168.89816\"/>\r\n     <use style=\"fill-opacity:0;stroke:#000000;\" x=\"123.35\" xlink:href=\"#med287f9996\" y=\"169.047685\"/>\r\n     <use style=\"fill-opacity:0;stroke:#000000;\" x=\"123.35\" xlink:href=\"#med287f9996\" y=\"158.730425\"/>\r\n     <use style=\"fill-opacity:0;stroke:#000000;\" x=\"123.35\" xlink:href=\"#med287f9996\" y=\"169.047685\"/>\r\n     <use style=\"fill-opacity:0;stroke:#000000;\" x=\"123.35\" xlink:href=\"#med287f9996\" y=\"169.047685\"/>\r\n     <use style=\"fill-opacity:0;stroke:#000000;\" x=\"123.35\" xlink:href=\"#med287f9996\" y=\"169.047685\"/>\r\n     <use style=\"fill-opacity:0;stroke:#000000;\" x=\"123.35\" xlink:href=\"#med287f9996\" y=\"169.047685\"/>\r\n     <use style=\"fill-opacity:0;stroke:#000000;\" x=\"123.35\" xlink:href=\"#med287f9996\" y=\"158.730425\"/>\r\n     <use style=\"fill-opacity:0;stroke:#000000;\" x=\"123.35\" xlink:href=\"#med287f9996\" y=\"158.730425\"/>\r\n     <use style=\"fill-opacity:0;stroke:#000000;\" x=\"123.35\" xlink:href=\"#med287f9996\" y=\"158.730425\"/>\r\n     <use style=\"fill-opacity:0;stroke:#000000;\" x=\"123.35\" xlink:href=\"#med287f9996\" y=\"158.87995\"/>\r\n     <use style=\"fill-opacity:0;stroke:#000000;\" x=\"123.35\" xlink:href=\"#med287f9996\" y=\"158.730425\"/>\r\n     <use style=\"fill-opacity:0;stroke:#000000;\" x=\"123.35\" xlink:href=\"#med287f9996\" y=\"158.87995\"/>\r\n     <use style=\"fill-opacity:0;stroke:#000000;\" x=\"123.35\" xlink:href=\"#med287f9996\" y=\"158.730425\"/>\r\n     <use style=\"fill-opacity:0;stroke:#000000;\" x=\"123.35\" xlink:href=\"#med287f9996\" y=\"179.21542\"/>\r\n     <use style=\"fill-opacity:0;stroke:#000000;\" x=\"123.35\" xlink:href=\"#med287f9996\" y=\"179.364946\"/>\r\n     <use style=\"fill-opacity:0;stroke:#000000;\" x=\"123.35\" xlink:href=\"#med287f9996\" y=\"179.21542\"/>\r\n     <use style=\"fill-opacity:0;stroke:#000000;\" x=\"123.35\" xlink:href=\"#med287f9996\" y=\"169.047685\"/>\r\n     <use style=\"fill-opacity:0;stroke:#000000;\" x=\"123.35\" xlink:href=\"#med287f9996\" y=\"158.87995\"/>\r\n     <use style=\"fill-opacity:0;stroke:#000000;\" x=\"123.35\" xlink:href=\"#med287f9996\" y=\"158.730425\"/>\r\n     <use style=\"fill-opacity:0;stroke:#000000;\" x=\"123.35\" xlink:href=\"#med287f9996\" y=\"158.730425\"/>\r\n     <use style=\"fill-opacity:0;stroke:#000000;\" x=\"123.35\" xlink:href=\"#med287f9996\" y=\"158.730425\"/>\r\n     <use style=\"fill-opacity:0;stroke:#000000;\" x=\"123.35\" xlink:href=\"#med287f9996\" y=\"179.21542\"/>\r\n     <use style=\"fill-opacity:0;stroke:#000000;\" x=\"123.35\" xlink:href=\"#med287f9996\" y=\"169.047685\"/>\r\n     <use style=\"fill-opacity:0;stroke:#000000;\" x=\"123.35\" xlink:href=\"#med287f9996\" y=\"169.047685\"/>\r\n     <use style=\"fill-opacity:0;stroke:#000000;\" x=\"123.35\" xlink:href=\"#med287f9996\" y=\"169.047685\"/>\r\n     <use style=\"fill-opacity:0;stroke:#000000;\" x=\"123.35\" xlink:href=\"#med287f9996\" y=\"169.047685\"/>\r\n     <use style=\"fill-opacity:0;stroke:#000000;\" x=\"123.35\" xlink:href=\"#med287f9996\" y=\"169.047685\"/>\r\n     <use style=\"fill-opacity:0;stroke:#000000;\" x=\"123.35\" xlink:href=\"#med287f9996\" y=\"169.047685\"/>\r\n     <use style=\"fill-opacity:0;stroke:#000000;\" x=\"123.35\" xlink:href=\"#med287f9996\" y=\"158.730425\"/>\r\n     <use style=\"fill-opacity:0;stroke:#000000;\" x=\"123.35\" xlink:href=\"#med287f9996\" y=\"179.21542\"/>\r\n     <use style=\"fill-opacity:0;stroke:#000000;\" x=\"123.35\" xlink:href=\"#med287f9996\" y=\"169.047685\"/>\r\n     <use style=\"fill-opacity:0;stroke:#000000;\" x=\"123.35\" xlink:href=\"#med287f9996\" y=\"169.047685\"/>\r\n     <use style=\"fill-opacity:0;stroke:#000000;\" x=\"123.35\" xlink:href=\"#med287f9996\" y=\"168.89816\"/>\r\n     <use style=\"fill-opacity:0;stroke:#000000;\" x=\"123.35\" xlink:href=\"#med287f9996\" y=\"169.047685\"/>\r\n     <use style=\"fill-opacity:0;stroke:#000000;\" x=\"123.35\" xlink:href=\"#med287f9996\" y=\"169.047685\"/>\r\n    </g>\r\n   </g>\r\n   <g id=\"line2d_17\">\r\n    <path clip-path=\"url(#p3995cb32e8)\" d=\"M 278.195 205.830961 \r\nL 303.305 205.830961 \r\nL 303.305 177.271588 \r\nL 278.195 177.271588 \r\nL 278.195 205.830961 \r\n\" style=\"fill:none;stroke:#000000;stroke-linecap:square;\"/>\r\n   </g>\r\n   <g id=\"line2d_18\">\r\n    <path clip-path=\"url(#p3995cb32e8)\" d=\"M 290.75 205.830961 \r\nL 290.75 211.064354 \r\n\" style=\"fill:none;stroke:#000000;stroke-linecap:square;\"/>\r\n   </g>\r\n   <g id=\"line2d_19\">\r\n    <path clip-path=\"url(#p3995cb32e8)\" d=\"M 290.75 177.271588 \r\nL 290.75 165.309547 \r\n\" style=\"fill:none;stroke:#000000;stroke-linecap:square;\"/>\r\n   </g>\r\n   <g id=\"line2d_20\">\r\n    <path clip-path=\"url(#p3995cb32e8)\" d=\"M 284.4725 211.064354 \r\nL 297.0275 211.064354 \r\n\" style=\"fill:none;stroke:#000000;stroke-linecap:square;\"/>\r\n   </g>\r\n   <g id=\"line2d_21\">\r\n    <path clip-path=\"url(#p3995cb32e8)\" d=\"M 284.4725 165.309547 \r\nL 297.0275 165.309547 \r\n\" style=\"fill:none;stroke:#000000;stroke-linecap:square;\"/>\r\n   </g>\r\n   <g id=\"line2d_22\">\r\n    <g clip-path=\"url(#p3995cb32e8)\">\r\n     <use style=\"fill-opacity:0;stroke:#000000;\" x=\"290.75\" xlink:href=\"#med287f9996\" y=\"84.565771\"/>\r\n     <use style=\"fill-opacity:0;stroke:#000000;\" x=\"290.75\" xlink:href=\"#med287f9996\" y=\"84.565771\"/>\r\n     <use style=\"fill-opacity:0;stroke:#000000;\" x=\"290.75\" xlink:href=\"#med287f9996\" y=\"84.565771\"/>\r\n     <use style=\"fill-opacity:0;stroke:#000000;\" x=\"290.75\" xlink:href=\"#med287f9996\" y=\"84.565771\"/>\r\n     <use style=\"fill-opacity:0;stroke:#000000;\" x=\"290.75\" xlink:href=\"#med287f9996\" y=\"84.565771\"/>\r\n     <use style=\"fill-opacity:0;stroke:#000000;\" x=\"290.75\" xlink:href=\"#med287f9996\" y=\"88.154383\"/>\r\n     <use style=\"fill-opacity:0;stroke:#000000;\" x=\"290.75\" xlink:href=\"#med287f9996\" y=\"99.219271\"/>\r\n     <use style=\"fill-opacity:0;stroke:#000000;\" x=\"290.75\" xlink:href=\"#med287f9996\" y=\"99.219271\"/>\r\n     <use style=\"fill-opacity:0;stroke:#000000;\" x=\"290.75\" xlink:href=\"#med287f9996\" y=\"95.481133\"/>\r\n     <use style=\"fill-opacity:0;stroke:#000000;\" x=\"290.75\" xlink:href=\"#med287f9996\" y=\"99.219271\"/>\r\n     <use style=\"fill-opacity:0;stroke:#000000;\" x=\"290.75\" xlink:href=\"#med287f9996\" y=\"91.892521\"/>\r\n     <use style=\"fill-opacity:0;stroke:#000000;\" x=\"290.75\" xlink:href=\"#med287f9996\" y=\"95.630659\"/>\r\n     <use style=\"fill-opacity:0;stroke:#000000;\" x=\"290.75\" xlink:href=\"#med287f9996\" y=\"84.565771\"/>\r\n     <use style=\"fill-opacity:0;stroke:#000000;\" x=\"290.75\" xlink:href=\"#med287f9996\" y=\"88.154383\"/>\r\n     <use style=\"fill-opacity:0;stroke:#000000;\" x=\"290.75\" xlink:href=\"#med287f9996\" y=\"95.481133\"/>\r\n     <use style=\"fill-opacity:0;stroke:#000000;\" x=\"290.75\" xlink:href=\"#med287f9996\" y=\"95.630659\"/>\r\n     <use style=\"fill-opacity:0;stroke:#000000;\" x=\"290.75\" xlink:href=\"#med287f9996\" y=\"91.892521\"/>\r\n     <use style=\"fill-opacity:0;stroke:#000000;\" x=\"290.75\" xlink:href=\"#med287f9996\" y=\"91.892521\"/>\r\n     <use style=\"fill-opacity:0;stroke:#000000;\" x=\"290.75\" xlink:href=\"#med287f9996\" y=\"102.957409\"/>\r\n     <use style=\"fill-opacity:0;stroke:#000000;\" x=\"290.75\" xlink:href=\"#med287f9996\" y=\"102.957409\"/>\r\n     <use style=\"fill-opacity:0;stroke:#000000;\" x=\"290.75\" xlink:href=\"#med287f9996\" y=\"91.892521\"/>\r\n     <use style=\"fill-opacity:0;stroke:#000000;\" x=\"290.75\" xlink:href=\"#med287f9996\" y=\"91.892521\"/>\r\n     <use style=\"fill-opacity:0;stroke:#000000;\" x=\"290.75\" xlink:href=\"#med287f9996\" y=\"95.481133\"/>\r\n     <use style=\"fill-opacity:0;stroke:#000000;\" x=\"290.75\" xlink:href=\"#med287f9996\" y=\"95.481133\"/>\r\n     <use style=\"fill-opacity:0;stroke:#000000;\" x=\"290.75\" xlink:href=\"#med287f9996\" y=\"95.630659\"/>\r\n     <use style=\"fill-opacity:0;stroke:#000000;\" x=\"290.75\" xlink:href=\"#med287f9996\" y=\"91.892521\"/>\r\n     <use style=\"fill-opacity:0;stroke:#000000;\" x=\"290.75\" xlink:href=\"#med287f9996\" y=\"88.154383\"/>\r\n     <use style=\"fill-opacity:0;stroke:#000000;\" x=\"290.75\" xlink:href=\"#med287f9996\" y=\"84.565771\"/>\r\n     <use style=\"fill-opacity:0;stroke:#000000;\" x=\"290.75\" xlink:href=\"#med287f9996\" y=\"91.892521\"/>\r\n     <use style=\"fill-opacity:0;stroke:#000000;\" x=\"290.75\" xlink:href=\"#med287f9996\" y=\"91.892521\"/>\r\n     <use style=\"fill-opacity:0;stroke:#000000;\" x=\"290.75\" xlink:href=\"#med287f9996\" y=\"91.892521\"/>\r\n     <use style=\"fill-opacity:0;stroke:#000000;\" x=\"290.75\" xlink:href=\"#med287f9996\" y=\"91.892521\"/>\r\n     <use style=\"fill-opacity:0;stroke:#000000;\" x=\"290.75\" xlink:href=\"#med287f9996\" y=\"88.154383\"/>\r\n     <use style=\"fill-opacity:0;stroke:#000000;\" x=\"290.75\" xlink:href=\"#med287f9996\" y=\"88.154383\"/>\r\n     <use style=\"fill-opacity:0;stroke:#000000;\" x=\"290.75\" xlink:href=\"#med287f9996\" y=\"91.892521\"/>\r\n     <use style=\"fill-opacity:0;stroke:#000000;\" x=\"290.75\" xlink:href=\"#med287f9996\" y=\"95.481133\"/>\r\n     <use style=\"fill-opacity:0;stroke:#000000;\" x=\"290.75\" xlink:href=\"#med287f9996\" y=\"88.154383\"/>\r\n     <use style=\"fill-opacity:0;stroke:#000000;\" x=\"290.75\" xlink:href=\"#med287f9996\" y=\"88.154383\"/>\r\n     <use style=\"fill-opacity:0;stroke:#000000;\" x=\"290.75\" xlink:href=\"#med287f9996\" y=\"88.154383\"/>\r\n     <use style=\"fill-opacity:0;stroke:#000000;\" x=\"290.75\" xlink:href=\"#med287f9996\" y=\"88.154383\"/>\r\n     <use style=\"fill-opacity:0;stroke:#000000;\" x=\"290.75\" xlink:href=\"#med287f9996\" y=\"114.022297\"/>\r\n     <use style=\"fill-opacity:0;stroke:#000000;\" x=\"290.75\" xlink:href=\"#med287f9996\" y=\"117.610909\"/>\r\n     <use style=\"fill-opacity:0;stroke:#000000;\" x=\"290.75\" xlink:href=\"#med287f9996\" y=\"99.368797\"/>\r\n     <use style=\"fill-opacity:0;stroke:#000000;\" x=\"290.75\" xlink:href=\"#med287f9996\" y=\"99.368797\"/>\r\n     <use style=\"fill-opacity:0;stroke:#000000;\" x=\"290.75\" xlink:href=\"#med287f9996\" y=\"88.154383\"/>\r\n     <use style=\"fill-opacity:0;stroke:#000000;\" x=\"290.75\" xlink:href=\"#med287f9996\" y=\"84.416245\"/>\r\n     <use style=\"fill-opacity:0;stroke:#000000;\" x=\"290.75\" xlink:href=\"#med287f9996\" y=\"91.742995\"/>\r\n     <use style=\"fill-opacity:0;stroke:#000000;\" x=\"290.75\" xlink:href=\"#med287f9996\" y=\"91.742995\"/>\r\n     <use style=\"fill-opacity:0;stroke:#000000;\" x=\"290.75\" xlink:href=\"#med287f9996\" y=\"95.481133\"/>\r\n     <use style=\"fill-opacity:0;stroke:#000000;\" x=\"290.75\" xlink:href=\"#med287f9996\" y=\"95.630659\"/>\r\n     <use style=\"fill-opacity:0;stroke:#000000;\" x=\"290.75\" xlink:href=\"#med287f9996\" y=\"102.957409\"/>\r\n     <use style=\"fill-opacity:0;stroke:#000000;\" x=\"290.75\" xlink:href=\"#med287f9996\" y=\"102.957409\"/>\r\n     <use style=\"fill-opacity:0;stroke:#000000;\" x=\"290.75\" xlink:href=\"#med287f9996\" y=\"103.106934\"/>\r\n     <use style=\"fill-opacity:0;stroke:#000000;\" x=\"290.75\" xlink:href=\"#med287f9996\" y=\"99.368797\"/>\r\n     <use style=\"fill-opacity:0;stroke:#000000;\" x=\"290.75\" xlink:href=\"#med287f9996\" y=\"54.959719\"/>\r\n     <use style=\"fill-opacity:0;stroke:#000000;\" x=\"290.75\" xlink:href=\"#med287f9996\" y=\"54.959719\"/>\r\n     <use style=\"fill-opacity:0;stroke:#000000;\" x=\"290.75\" xlink:href=\"#med287f9996\" y=\"54.959719\"/>\r\n     <use style=\"fill-opacity:0;stroke:#000000;\" x=\"290.75\" xlink:href=\"#med287f9996\" y=\"51.072056\"/>\r\n     <use style=\"fill-opacity:0;stroke:#000000;\" x=\"290.75\" xlink:href=\"#med287f9996\" y=\"54.959719\"/>\r\n     <use style=\"fill-opacity:0;stroke:#000000;\" x=\"290.75\" xlink:href=\"#med287f9996\" y=\"54.959719\"/>\r\n     <use style=\"fill-opacity:0;stroke:#000000;\" x=\"290.75\" xlink:href=\"#med287f9996\" y=\"51.072056\"/>\r\n     <use style=\"fill-opacity:0;stroke:#000000;\" x=\"290.75\" xlink:href=\"#med287f9996\" y=\"47.184393\"/>\r\n     <use style=\"fill-opacity:0;stroke:#000000;\" x=\"290.75\" xlink:href=\"#med287f9996\" y=\"66.323658\"/>\r\n     <use style=\"fill-opacity:0;stroke:#000000;\" x=\"290.75\" xlink:href=\"#med287f9996\" y=\"66.323658\"/>\r\n     <use style=\"fill-opacity:0;stroke:#000000;\" x=\"290.75\" xlink:href=\"#med287f9996\" y=\"47.184393\"/>\r\n     <use style=\"fill-opacity:0;stroke:#000000;\" x=\"290.75\" xlink:href=\"#med287f9996\" y=\"43.296729\"/>\r\n     <use style=\"fill-opacity:0;stroke:#000000;\" x=\"290.75\" xlink:href=\"#med287f9996\" y=\"43.296729\"/>\r\n     <use style=\"fill-opacity:0;stroke:#000000;\" x=\"290.75\" xlink:href=\"#med287f9996\" y=\"43.296729\"/>\r\n     <use style=\"fill-opacity:0;stroke:#000000;\" x=\"290.75\" xlink:href=\"#med287f9996\" y=\"51.072056\"/>\r\n     <use style=\"fill-opacity:0;stroke:#000000;\" x=\"290.75\" xlink:href=\"#med287f9996\" y=\"54.810194\"/>\r\n     <use style=\"fill-opacity:0;stroke:#000000;\" x=\"290.75\" xlink:href=\"#med287f9996\" y=\"50.922531\"/>\r\n     <use style=\"fill-opacity:0;stroke:#000000;\" x=\"290.75\" xlink:href=\"#med287f9996\" y=\"50.922531\"/>\r\n     <use style=\"fill-opacity:0;stroke:#000000;\" x=\"290.75\" xlink:href=\"#med287f9996\" y=\"70.211322\"/>\r\n     <use style=\"fill-opacity:0;stroke:#000000;\" x=\"290.75\" xlink:href=\"#med287f9996\" y=\"70.211322\"/>\r\n     <use style=\"fill-opacity:0;stroke:#000000;\" x=\"290.75\" xlink:href=\"#med287f9996\" y=\"66.323658\"/>\r\n     <use style=\"fill-opacity:0;stroke:#000000;\" x=\"290.75\" xlink:href=\"#med287f9996\" y=\"62.58552\"/>\r\n     <use style=\"fill-opacity:0;stroke:#000000;\" x=\"290.75\" xlink:href=\"#med287f9996\" y=\"58.847383\"/>\r\n     <use style=\"fill-opacity:0;stroke:#000000;\" x=\"290.75\" xlink:href=\"#med287f9996\" y=\"54.959719\"/>\r\n     <use style=\"fill-opacity:0;stroke:#000000;\" x=\"290.75\" xlink:href=\"#med287f9996\" y=\"47.184393\"/>\r\n     <use style=\"fill-opacity:0;stroke:#000000;\" x=\"290.75\" xlink:href=\"#med287f9996\" y=\"51.072056\"/>\r\n     <use style=\"fill-opacity:0;stroke:#000000;\" x=\"290.75\" xlink:href=\"#med287f9996\" y=\"62.58552\"/>\r\n     <use style=\"fill-opacity:0;stroke:#000000;\" x=\"290.75\" xlink:href=\"#med287f9996\" y=\"62.58552\"/>\r\n     <use style=\"fill-opacity:0;stroke:#000000;\" x=\"290.75\" xlink:href=\"#med287f9996\" y=\"62.58552\"/>\r\n     <use style=\"fill-opacity:0;stroke:#000000;\" x=\"290.75\" xlink:href=\"#med287f9996\" y=\"66.473184\"/>\r\n     <use style=\"fill-opacity:0;stroke:#000000;\" x=\"290.75\" xlink:href=\"#med287f9996\" y=\"62.58552\"/>\r\n     <use style=\"fill-opacity:0;stroke:#000000;\" x=\"290.75\" xlink:href=\"#med287f9996\" y=\"62.58552\"/>\r\n     <use style=\"fill-opacity:0;stroke:#000000;\" x=\"290.75\" xlink:href=\"#med287f9996\" y=\"66.323658\"/>\r\n     <use style=\"fill-opacity:0;stroke:#000000;\" x=\"290.75\" xlink:href=\"#med287f9996\" y=\"70.211322\"/>\r\n     <use style=\"fill-opacity:0;stroke:#000000;\" x=\"290.75\" xlink:href=\"#med287f9996\" y=\"66.323658\"/>\r\n     <use style=\"fill-opacity:0;stroke:#000000;\" x=\"290.75\" xlink:href=\"#med287f9996\" y=\"66.323658\"/>\r\n     <use style=\"fill-opacity:0;stroke:#000000;\" x=\"290.75\" xlink:href=\"#med287f9996\" y=\"62.58552\"/>\r\n     <use style=\"fill-opacity:0;stroke:#000000;\" x=\"290.75\" xlink:href=\"#med287f9996\" y=\"54.810194\"/>\r\n     <use style=\"fill-opacity:0;stroke:#000000;\" x=\"290.75\" xlink:href=\"#med287f9996\" y=\"54.810194\"/>\r\n     <use style=\"fill-opacity:0;stroke:#000000;\" x=\"290.75\" xlink:href=\"#med287f9996\" y=\"50.922531\"/>\r\n     <use style=\"fill-opacity:0;stroke:#000000;\" x=\"290.75\" xlink:href=\"#med287f9996\" y=\"62.58552\"/>\r\n     <use style=\"fill-opacity:0;stroke:#000000;\" x=\"290.75\" xlink:href=\"#med287f9996\" y=\"62.58552\"/>\r\n     <use style=\"fill-opacity:0;stroke:#000000;\" x=\"290.75\" xlink:href=\"#med287f9996\" y=\"66.473184\"/>\r\n     <use style=\"fill-opacity:0;stroke:#000000;\" x=\"290.75\" xlink:href=\"#med287f9996\" y=\"58.697857\"/>\r\n     <use style=\"fill-opacity:0;stroke:#000000;\" x=\"290.75\" xlink:href=\"#med287f9996\" y=\"70.360847\"/>\r\n     <use style=\"fill-opacity:0;stroke:#000000;\" x=\"290.75\" xlink:href=\"#med287f9996\" y=\"66.473184\"/>\r\n     <use style=\"fill-opacity:0;stroke:#000000;\" x=\"290.75\" xlink:href=\"#med287f9996\" y=\"58.697857\"/>\r\n     <use style=\"fill-opacity:0;stroke:#000000;\" x=\"290.75\" xlink:href=\"#med287f9996\" y=\"54.810194\"/>\r\n     <use style=\"fill-opacity:0;stroke:#000000;\" x=\"290.75\" xlink:href=\"#med287f9996\" y=\"70.211322\"/>\r\n     <use style=\"fill-opacity:0;stroke:#000000;\" x=\"290.75\" xlink:href=\"#med287f9996\" y=\"70.211322\"/>\r\n     <use style=\"fill-opacity:0;stroke:#000000;\" x=\"290.75\" xlink:href=\"#med287f9996\" y=\"62.58552\"/>\r\n     <use style=\"fill-opacity:0;stroke:#000000;\" x=\"290.75\" xlink:href=\"#med287f9996\" y=\"62.58552\"/>\r\n     <use style=\"fill-opacity:0;stroke:#000000;\" x=\"290.75\" xlink:href=\"#med287f9996\" y=\"24.157464\"/>\r\n     <use style=\"fill-opacity:0;stroke:#000000;\" x=\"290.75\" xlink:href=\"#med287f9996\" y=\"20.419326\"/>\r\n     <use style=\"fill-opacity:0;stroke:#000000;\" x=\"290.75\" xlink:href=\"#med287f9996\" y=\"43.296729\"/>\r\n     <use style=\"fill-opacity:0;stroke:#000000;\" x=\"290.75\" xlink:href=\"#med287f9996\" y=\"51.072056\"/>\r\n     <use style=\"fill-opacity:0;stroke:#000000;\" x=\"290.75\" xlink:href=\"#med287f9996\" y=\"58.697857\"/>\r\n     <use style=\"fill-opacity:0;stroke:#000000;\" x=\"290.75\" xlink:href=\"#med287f9996\" y=\"54.810194\"/>\r\n     <use style=\"fill-opacity:0;stroke:#000000;\" x=\"290.75\" xlink:href=\"#med287f9996\" y=\"54.810194\"/>\r\n     <use style=\"fill-opacity:0;stroke:#000000;\" x=\"290.75\" xlink:href=\"#med287f9996\" y=\"50.922531\"/>\r\n     <use style=\"fill-opacity:0;stroke:#000000;\" x=\"290.75\" xlink:href=\"#med287f9996\" y=\"50.922531\"/>\r\n     <use style=\"fill-opacity:0;stroke:#000000;\" x=\"290.75\" xlink:href=\"#med287f9996\" y=\"50.922531\"/>\r\n     <use style=\"fill-opacity:0;stroke:#000000;\" x=\"290.75\" xlink:href=\"#med287f9996\" y=\"58.697857\"/>\r\n     <use style=\"fill-opacity:0;stroke:#000000;\" x=\"290.75\" xlink:href=\"#med287f9996\" y=\"54.810194\"/>\r\n     <use style=\"fill-opacity:0;stroke:#000000;\" x=\"290.75\" xlink:href=\"#med287f9996\" y=\"54.810194\"/>\r\n     <use style=\"fill-opacity:0;stroke:#000000;\" x=\"290.75\" xlink:href=\"#med287f9996\" y=\"50.922531\"/>\r\n     <use style=\"fill-opacity:0;stroke:#000000;\" x=\"290.75\" xlink:href=\"#med287f9996\" y=\"47.184393\"/>\r\n     <use style=\"fill-opacity:0;stroke:#000000;\" x=\"290.75\" xlink:href=\"#med287f9996\" y=\"47.184393\"/>\r\n     <use style=\"fill-opacity:0;stroke:#000000;\" x=\"290.75\" xlink:href=\"#med287f9996\" y=\"54.810194\"/>\r\n     <use style=\"fill-opacity:0;stroke:#000000;\" x=\"290.75\" xlink:href=\"#med287f9996\" y=\"54.810194\"/>\r\n     <use style=\"fill-opacity:0;stroke:#000000;\" x=\"290.75\" xlink:href=\"#med287f9996\" y=\"54.810194\"/>\r\n     <use style=\"fill-opacity:0;stroke:#000000;\" x=\"290.75\" xlink:href=\"#med287f9996\" y=\"50.922531\"/>\r\n     <use style=\"fill-opacity:0;stroke:#000000;\" x=\"290.75\" xlink:href=\"#med287f9996\" y=\"51.072056\"/>\r\n     <use style=\"fill-opacity:0;stroke:#000000;\" x=\"290.75\" xlink:href=\"#med287f9996\" y=\"47.184393\"/>\r\n     <use style=\"fill-opacity:0;stroke:#000000;\" x=\"290.75\" xlink:href=\"#med287f9996\" y=\"47.184393\"/>\r\n     <use style=\"fill-opacity:0;stroke:#000000;\" x=\"290.75\" xlink:href=\"#med287f9996\" y=\"47.184393\"/>\r\n     <use style=\"fill-opacity:0;stroke:#000000;\" x=\"290.75\" xlink:href=\"#med287f9996\" y=\"51.072056\"/>\r\n     <use style=\"fill-opacity:0;stroke:#000000;\" x=\"290.75\" xlink:href=\"#med287f9996\" y=\"51.072056\"/>\r\n     <use style=\"fill-opacity:0;stroke:#000000;\" x=\"290.75\" xlink:href=\"#med287f9996\" y=\"50.922531\"/>\r\n     <use style=\"fill-opacity:0;stroke:#000000;\" x=\"290.75\" xlink:href=\"#med287f9996\" y=\"50.922531\"/>\r\n    </g>\r\n   </g>\r\n   <g id=\"line2d_23\">\r\n    <path clip-path=\"url(#p3995cb32e8)\" d=\"M 110.795 211.811982 \r\nL 135.905 211.811982 \r\n\" style=\"fill:none;stroke:#ff7f0e;stroke-linecap:square;\"/>\r\n   </g>\r\n   <g id=\"line2d_24\">\r\n    <path clip-path=\"url(#p3995cb32e8)\" d=\"M 278.195 192.822242 \r\nL 303.305 192.822242 \r\n\" style=\"fill:none;stroke:#ff7f0e;stroke-linecap:square;\"/>\r\n   </g>\r\n   <g id=\"patch_3\">\r\n    <path d=\"M 39.65 227.97569 \r\nL 39.65 10.53569 \r\n\" style=\"fill:none;stroke:#000000;stroke-linecap:square;stroke-linejoin:miter;stroke-width:0.8;\"/>\r\n   </g>\r\n   <g id=\"patch_4\">\r\n    <path d=\"M 374.45 227.97569 \r\nL 374.45 10.53569 \r\n\" style=\"fill:none;stroke:#000000;stroke-linecap:square;stroke-linejoin:miter;stroke-width:0.8;\"/>\r\n   </g>\r\n   <g id=\"patch_5\">\r\n    <path d=\"M 39.65 227.97569 \r\nL 374.45 227.97569 \r\n\" style=\"fill:none;stroke:#000000;stroke-linecap:square;stroke-linejoin:miter;stroke-width:0.8;\"/>\r\n   </g>\r\n   <g id=\"patch_6\">\r\n    <path d=\"M 39.65 10.53569 \r\nL 374.45 10.53569 \r\n\" style=\"fill:none;stroke:#000000;stroke-linecap:square;stroke-linejoin:miter;stroke-width:0.8;\"/>\r\n   </g>\r\n  </g>\r\n </g>\r\n <defs>\r\n  <clipPath id=\"p3995cb32e8\">\r\n   <rect height=\"217.44\" width=\"334.8\" x=\"39.65\" y=\"10.53569\"/>\r\n  </clipPath>\r\n </defs>\r\n</svg>\r\n",
      "image/png": "[encoded data removed]"
     },
     "metadata": {
      "needs_background": "light"
     }
    }
   ],
   "metadata": {}
  },
  {
   "cell_type": "code",
   "execution_count": 11,
   "source": [
    "import numpy as np\r\n",
    "Q1 = np.percentile(corr_df[\"c_Y\"] , 25) \r\n",
    "Q3 = np.percentile(corr_df[\"c_Y\"] , 75) \r\n",
    "IQR = Q3 - Q1 \r\n",
    "outlier_step = 1.5 * IQR\r\n",
    "\r\n",
    "outlier_step"
   ],
   "outputs": [
    {
     "output_type": "execute_result",
     "data": {
      "text/plain": [
       "286.5"
      ]
     },
     "metadata": {},
     "execution_count": 11
    }
   ],
   "metadata": {}
  },
  {
   "cell_type": "code",
   "execution_count": 12,
   "source": [
    "c_Y = (corr_df < Q1 - outlier_step) | (corr_df > Q3 + outlier_step)\r\n",
    "c_Y = c_Y.any(axis=1)\r\n",
    "search_df = corr_df[c_Y]\r\n",
    "print(search_df)"
   ],
   "outputs": [
    {
     "output_type": "stream",
     "name": "stdout",
     "text": [
      "     c_X   c_Y\n",
      "111  245   908\n",
      "112  245   908\n",
      "115  245   908\n",
      "116  245   908\n",
      "119  245   908\n",
      "..   ...   ...\n",
      "541  343  1158\n",
      "544  343  1132\n",
      "545  344  1132\n",
      "549  343  1133\n",
      "550  343  1133\n",
      "\n",
      "[134 rows x 2 columns]\n"
     ]
    }
   ],
   "metadata": {}
  },
  {
   "cell_type": "code",
   "execution_count": 13,
   "source": [
    "corr_df = corr_df.drop(search_df.index, axis=0)\r\n",
    "print(corr_df)"
   ],
   "outputs": [
    {
     "output_type": "stream",
     "name": "stdout",
     "text": [
      "      c_X  c_Y\n",
      "0      30  115\n",
      "1      25  110\n",
      "2     114  304\n",
      "3      20   70\n",
      "4     120  272\n",
      "...   ...  ...\n",
      "1730   96  288\n",
      "1731  120  288\n",
      "1732  120  288\n",
      "1733  120  296\n",
      "1734  120  296\n",
      "\n",
      "[1601 rows x 2 columns]\n"
     ]
    }
   ],
   "metadata": {}
  },
  {
   "cell_type": "code",
   "execution_count": 4,
   "source": [
    "corr_ratio = corr_df[\"c_Y\"] / corr_df[\"c_X\"]"
   ],
   "outputs": [],
   "metadata": {}
  },
  {
   "cell_type": "code",
   "execution_count": 6,
   "source": [
    "corr_ratio_df = pd.DataFrame(corr_ratio, columns=[\"c_ratio\"]); corr_ratio_df"
   ],
   "outputs": [
    {
     "output_type": "execute_result",
     "data": {
      "text/plain": [
       "       c_ratio\n",
       "0     3.833333\n",
       "1     4.400000\n",
       "2     3.500000\n",
       "3     2.266667\n",
       "4     2.266667\n",
       "...        ...\n",
       "1737  3.000000\n",
       "1738  2.400000\n",
       "1739  2.400000\n",
       "1740  2.466667\n",
       "1741  2.466667\n",
       "\n",
       "[1742 rows x 1 columns]"
      ],
      "text/html": [
       "<div>\n",
       "<style scoped>\n",
       "    .dataframe tbody tr th:only-of-type {\n",
       "        vertical-align: middle;\n",
       "    }\n",
       "\n",
       "    .dataframe tbody tr th {\n",
       "        vertical-align: top;\n",
       "    }\n",
       "\n",
       "    .dataframe thead th {\n",
       "        text-align: right;\n",
       "    }\n",
       "</style>\n",
       "<table border=\"1\" class=\"dataframe\">\n",
       "  <thead>\n",
       "    <tr style=\"text-align: right;\">\n",
       "      <th></th>\n",
       "      <th>c_ratio</th>\n",
       "    </tr>\n",
       "  </thead>\n",
       "  <tbody>\n",
       "    <tr>\n",
       "      <th>0</th>\n",
       "      <td>3.833333</td>\n",
       "    </tr>\n",
       "    <tr>\n",
       "      <th>1</th>\n",
       "      <td>4.400000</td>\n",
       "    </tr>\n",
       "    <tr>\n",
       "      <th>2</th>\n",
       "      <td>3.500000</td>\n",
       "    </tr>\n",
       "    <tr>\n",
       "      <th>3</th>\n",
       "      <td>2.266667</td>\n",
       "    </tr>\n",
       "    <tr>\n",
       "      <th>4</th>\n",
       "      <td>2.266667</td>\n",
       "    </tr>\n",
       "    <tr>\n",
       "      <th>...</th>\n",
       "      <td>...</td>\n",
       "    </tr>\n",
       "    <tr>\n",
       "      <th>1737</th>\n",
       "      <td>3.000000</td>\n",
       "    </tr>\n",
       "    <tr>\n",
       "      <th>1738</th>\n",
       "      <td>2.400000</td>\n",
       "    </tr>\n",
       "    <tr>\n",
       "      <th>1739</th>\n",
       "      <td>2.400000</td>\n",
       "    </tr>\n",
       "    <tr>\n",
       "      <th>1740</th>\n",
       "      <td>2.466667</td>\n",
       "    </tr>\n",
       "    <tr>\n",
       "      <th>1741</th>\n",
       "      <td>2.466667</td>\n",
       "    </tr>\n",
       "  </tbody>\n",
       "</table>\n",
       "<p>1742 rows × 1 columns</p>\n",
       "</div>"
      ]
     },
     "metadata": {},
     "execution_count": 6
    }
   ],
   "metadata": {}
  },
  {
   "cell_type": "code",
   "execution_count": 14,
   "source": [
    "c_labels = [\"0\" for i in range(len(corr_df))]\r\n",
    "c_labels_df = pd.DataFrame(c_labels, columns=[\"c_labels\"]); c_labels_df"
   ],
   "outputs": [
    {
     "output_type": "execute_result",
     "data": {
      "text/plain": [
       "     c_labels\n",
       "0           0\n",
       "1           0\n",
       "2           0\n",
       "3           0\n",
       "4           0\n",
       "...       ...\n",
       "1596        0\n",
       "1597        0\n",
       "1598        0\n",
       "1599        0\n",
       "1600        0\n",
       "\n",
       "[1601 rows x 1 columns]"
      ],
      "text/html": [
       "<div>\n",
       "<style scoped>\n",
       "    .dataframe tbody tr th:only-of-type {\n",
       "        vertical-align: middle;\n",
       "    }\n",
       "\n",
       "    .dataframe tbody tr th {\n",
       "        vertical-align: top;\n",
       "    }\n",
       "\n",
       "    .dataframe thead th {\n",
       "        text-align: right;\n",
       "    }\n",
       "</style>\n",
       "<table border=\"1\" class=\"dataframe\">\n",
       "  <thead>\n",
       "    <tr style=\"text-align: right;\">\n",
       "      <th></th>\n",
       "      <th>c_labels</th>\n",
       "    </tr>\n",
       "  </thead>\n",
       "  <tbody>\n",
       "    <tr>\n",
       "      <th>0</th>\n",
       "      <td>0</td>\n",
       "    </tr>\n",
       "    <tr>\n",
       "      <th>1</th>\n",
       "      <td>0</td>\n",
       "    </tr>\n",
       "    <tr>\n",
       "      <th>2</th>\n",
       "      <td>0</td>\n",
       "    </tr>\n",
       "    <tr>\n",
       "      <th>3</th>\n",
       "      <td>0</td>\n",
       "    </tr>\n",
       "    <tr>\n",
       "      <th>4</th>\n",
       "      <td>0</td>\n",
       "    </tr>\n",
       "    <tr>\n",
       "      <th>...</th>\n",
       "      <td>...</td>\n",
       "    </tr>\n",
       "    <tr>\n",
       "      <th>1596</th>\n",
       "      <td>0</td>\n",
       "    </tr>\n",
       "    <tr>\n",
       "      <th>1597</th>\n",
       "      <td>0</td>\n",
       "    </tr>\n",
       "    <tr>\n",
       "      <th>1598</th>\n",
       "      <td>0</td>\n",
       "    </tr>\n",
       "    <tr>\n",
       "      <th>1599</th>\n",
       "      <td>0</td>\n",
       "    </tr>\n",
       "    <tr>\n",
       "      <th>1600</th>\n",
       "      <td>0</td>\n",
       "    </tr>\n",
       "  </tbody>\n",
       "</table>\n",
       "<p>1601 rows × 1 columns</p>\n",
       "</div>"
      ]
     },
     "metadata": {},
     "execution_count": 14
    }
   ],
   "metadata": {}
  },
  {
   "cell_type": "code",
   "execution_count": 15,
   "source": [
    "# corr_data = corr_ratio_df.join(c_labels_df, how=\"right\"); corr_data.head()\r\n",
    "corr_data = corr_df.join(c_labels_df, how=\"right\"); corr_data"
   ],
   "outputs": [
    {
     "output_type": "execute_result",
     "data": {
      "text/plain": [
       "        c_X    c_Y c_labels\n",
       "0      30.0  115.0        0\n",
       "1      25.0  110.0        0\n",
       "2     114.0  304.0        0\n",
       "3      20.0   70.0        0\n",
       "4     120.0  272.0        0\n",
       "...     ...    ...      ...\n",
       "1596   25.0   77.0        0\n",
       "1597   20.0   77.0        0\n",
       "1598  120.0  272.0        0\n",
       "1599   96.0  296.0        0\n",
       "1600  114.0  320.0        0\n",
       "\n",
       "[1601 rows x 3 columns]"
      ],
      "text/html": [
       "<div>\n",
       "<style scoped>\n",
       "    .dataframe tbody tr th:only-of-type {\n",
       "        vertical-align: middle;\n",
       "    }\n",
       "\n",
       "    .dataframe tbody tr th {\n",
       "        vertical-align: top;\n",
       "    }\n",
       "\n",
       "    .dataframe thead th {\n",
       "        text-align: right;\n",
       "    }\n",
       "</style>\n",
       "<table border=\"1\" class=\"dataframe\">\n",
       "  <thead>\n",
       "    <tr style=\"text-align: right;\">\n",
       "      <th></th>\n",
       "      <th>c_X</th>\n",
       "      <th>c_Y</th>\n",
       "      <th>c_labels</th>\n",
       "    </tr>\n",
       "  </thead>\n",
       "  <tbody>\n",
       "    <tr>\n",
       "      <th>0</th>\n",
       "      <td>30.0</td>\n",
       "      <td>115.0</td>\n",
       "      <td>0</td>\n",
       "    </tr>\n",
       "    <tr>\n",
       "      <th>1</th>\n",
       "      <td>25.0</td>\n",
       "      <td>110.0</td>\n",
       "      <td>0</td>\n",
       "    </tr>\n",
       "    <tr>\n",
       "      <th>2</th>\n",
       "      <td>114.0</td>\n",
       "      <td>304.0</td>\n",
       "      <td>0</td>\n",
       "    </tr>\n",
       "    <tr>\n",
       "      <th>3</th>\n",
       "      <td>20.0</td>\n",
       "      <td>70.0</td>\n",
       "      <td>0</td>\n",
       "    </tr>\n",
       "    <tr>\n",
       "      <th>4</th>\n",
       "      <td>120.0</td>\n",
       "      <td>272.0</td>\n",
       "      <td>0</td>\n",
       "    </tr>\n",
       "    <tr>\n",
       "      <th>...</th>\n",
       "      <td>...</td>\n",
       "      <td>...</td>\n",
       "      <td>...</td>\n",
       "    </tr>\n",
       "    <tr>\n",
       "      <th>1596</th>\n",
       "      <td>25.0</td>\n",
       "      <td>77.0</td>\n",
       "      <td>0</td>\n",
       "    </tr>\n",
       "    <tr>\n",
       "      <th>1597</th>\n",
       "      <td>20.0</td>\n",
       "      <td>77.0</td>\n",
       "      <td>0</td>\n",
       "    </tr>\n",
       "    <tr>\n",
       "      <th>1598</th>\n",
       "      <td>120.0</td>\n",
       "      <td>272.0</td>\n",
       "      <td>0</td>\n",
       "    </tr>\n",
       "    <tr>\n",
       "      <th>1599</th>\n",
       "      <td>96.0</td>\n",
       "      <td>296.0</td>\n",
       "      <td>0</td>\n",
       "    </tr>\n",
       "    <tr>\n",
       "      <th>1600</th>\n",
       "      <td>114.0</td>\n",
       "      <td>320.0</td>\n",
       "      <td>0</td>\n",
       "    </tr>\n",
       "  </tbody>\n",
       "</table>\n",
       "<p>1601 rows × 3 columns</p>\n",
       "</div>"
      ]
     },
     "metadata": {},
     "execution_count": 15
    }
   ],
   "metadata": {}
  },
  {
   "cell_type": "code",
   "execution_count": 16,
   "source": [
    "forw_csv = pd.read_csv(\"t_v_2_forw.csv\") "
   ],
   "outputs": [],
   "metadata": {}
  },
  {
   "cell_type": "code",
   "execution_count": 17,
   "source": [
    "forw_df = pd.DataFrame(forw_csv); forw_df = forw_df.drop(forw_df.index[797])"
   ],
   "outputs": [],
   "metadata": {}
  },
  {
   "cell_type": "code",
   "execution_count": 18,
   "source": [
    "# Basic box plot\r\n",
    "import matplotlib.pyplot as plt\r\n",
    "%matplotlib inline \r\n",
    "\r\n",
    "\r\n",
    "b = plt.boxplot(forw_df)\r\n",
    "plt.show()"
   ],
   "outputs": [
    {
     "output_type": "display_data",
     "data": {
      "text/plain": [
       "<Figure size 432x288 with 1 Axes>"
      ],
      "image/svg+xml": "<?xml version=\"1.0\" encoding=\"utf-8\" standalone=\"no\"?>\r\n<!DOCTYPE svg PUBLIC \"-//W3C//DTD SVG 1.1//EN\"\r\n  \"http://www.w3.org/Graphics/SVG/1.1/DTD/svg11.dtd\">\r\n<svg height=\"249.703633pt\" version=\"1.1\" viewBox=\"0 0 381.65 249.703633\" width=\"381.65pt\" xmlns=\"http://www.w3.org/2000/svg\" xmlns:xlink=\"http://www.w3.org/1999/xlink\">\r\n <metadata>\r\n  <rdf:RDF xmlns:cc=\"http://creativecommons.org/ns#\" xmlns:dc=\"http://purl.org/dc/elements/1.1/\" xmlns:rdf=\"http://www.w3.org/1999/02/22-rdf-syntax-ns#\">\r\n   <cc:Work>\r\n    <dc:type rdf:resource=\"http://purl.org/dc/dcmitype/StillImage\"/>\r\n    <dc:date>2021-08-25T13:32:41.986589</dc:date>\r\n    <dc:format>image/svg+xml</dc:format>\r\n    <dc:creator>\r\n     <cc:Agent>\r\n      <dc:title>Matplotlib v3.4.2, https://matplotlib.org/</dc:title>\r\n     </cc:Agent>\r\n    </dc:creator>\r\n   </cc:Work>\r\n  </rdf:RDF>\r\n </metadata>\r\n <defs>\r\n  <style type=\"text/css\">*{stroke-linecap:butt;stroke-linejoin:round;}</style>\r\n </defs>\r\n <g id=\"figure_1\">\r\n  <g id=\"patch_1\">\r\n   <path d=\"M -0 249.703633 \r\nL 381.65 249.703633 \r\nL 381.65 0 \r\nL -0 0 \r\nz\r\n\" style=\"fill:none;\"/>\r\n  </g>\r\n  <g id=\"axes_1\">\r\n   <g id=\"patch_2\">\r\n    <path d=\"M 39.65 225.825508 \r\nL 374.45 225.825508 \r\nL 374.45 8.385508 \r\nL 39.65 8.385508 \r\nz\r\n\" style=\"fill:#ffffff;\"/>\r\n   </g>\r\n   <g id=\"matplotlib.axis_1\">\r\n    <g id=\"xtick_1\">\r\n     <g id=\"line2d_1\">\r\n      <defs>\r\n       <path d=\"M 0 0 \r\nL 0 3.5 \r\n\" id=\"m3f7da990da\" style=\"stroke:#000000;stroke-width:0.8;\"/>\r\n      </defs>\r\n      <g>\r\n       <use style=\"stroke:#000000;stroke-width:0.8;\" x=\"123.35\" xlink:href=\"#m3f7da990da\" y=\"225.825508\"/>\r\n      </g>\r\n     </g>\r\n     <g id=\"text_1\">\r\n      <!-- 1 -->\r\n      <g transform=\"translate(120.16875 240.423945)scale(0.1 -0.1)\">\r\n       <defs>\r\n        <path d=\"M 794 531 \r\nL 1825 531 \r\nL 1825 4091 \r\nL 703 3866 \r\nL 703 4441 \r\nL 1819 4666 \r\nL 2450 4666 \r\nL 2450 531 \r\nL 3481 531 \r\nL 3481 0 \r\nL 794 0 \r\nL 794 531 \r\nz\r\n\" id=\"DejaVuSans-31\" transform=\"scale(0.015625)\"/>\r\n       </defs>\r\n       <use xlink:href=\"#DejaVuSans-31\"/>\r\n      </g>\r\n     </g>\r\n    </g>\r\n    <g id=\"xtick_2\">\r\n     <g id=\"line2d_2\">\r\n      <g>\r\n       <use style=\"stroke:#000000;stroke-width:0.8;\" x=\"290.75\" xlink:href=\"#m3f7da990da\" y=\"225.825508\"/>\r\n      </g>\r\n     </g>\r\n     <g id=\"text_2\">\r\n      <!-- 2 -->\r\n      <g transform=\"translate(287.56875 240.423945)scale(0.1 -0.1)\">\r\n       <defs>\r\n        <path d=\"M 1228 531 \r\nL 3431 531 \r\nL 3431 0 \r\nL 469 0 \r\nL 469 531 \r\nQ 828 903 1448 1529 \r\nQ 2069 2156 2228 2338 \r\nQ 2531 2678 2651 2914 \r\nQ 2772 3150 2772 3378 \r\nQ 2772 3750 2511 3984 \r\nQ 2250 4219 1831 4219 \r\nQ 1534 4219 1204 4116 \r\nQ 875 4013 500 3803 \r\nL 500 4441 \r\nQ 881 4594 1212 4672 \r\nQ 1544 4750 1819 4750 \r\nQ 2544 4750 2975 4387 \r\nQ 3406 4025 3406 3419 \r\nQ 3406 3131 3298 2873 \r\nQ 3191 2616 2906 2266 \r\nQ 2828 2175 2409 1742 \r\nQ 1991 1309 1228 531 \r\nz\r\n\" id=\"DejaVuSans-32\" transform=\"scale(0.015625)\"/>\r\n       </defs>\r\n       <use xlink:href=\"#DejaVuSans-32\"/>\r\n      </g>\r\n     </g>\r\n    </g>\r\n   </g>\r\n   <g id=\"matplotlib.axis_2\">\r\n    <g id=\"ytick_1\">\r\n     <g id=\"line2d_3\">\r\n      <defs>\r\n       <path d=\"M 0 0 \r\nL -3.5 0 \r\n\" id=\"md7821e9626\" style=\"stroke:#000000;stroke-width:0.8;\"/>\r\n      </defs>\r\n      <g>\r\n       <use style=\"stroke:#000000;stroke-width:0.8;\" x=\"39.65\" xlink:href=\"#md7821e9626\" y=\"218.711366\"/>\r\n      </g>\r\n     </g>\r\n     <g id=\"text_3\">\r\n      <!-- 0 -->\r\n      <g transform=\"translate(26.2875 222.510585)scale(0.1 -0.1)\">\r\n       <defs>\r\n        <path d=\"M 2034 4250 \r\nQ 1547 4250 1301 3770 \r\nQ 1056 3291 1056 2328 \r\nQ 1056 1369 1301 889 \r\nQ 1547 409 2034 409 \r\nQ 2525 409 2770 889 \r\nQ 3016 1369 3016 2328 \r\nQ 3016 3291 2770 3770 \r\nQ 2525 4250 2034 4250 \r\nz\r\nM 2034 4750 \r\nQ 2819 4750 3233 4129 \r\nQ 3647 3509 3647 2328 \r\nQ 3647 1150 3233 529 \r\nQ 2819 -91 2034 -91 \r\nQ 1250 -91 836 529 \r\nQ 422 1150 422 2328 \r\nQ 422 3509 836 4129 \r\nQ 1250 4750 2034 4750 \r\nz\r\n\" id=\"DejaVuSans-30\" transform=\"scale(0.015625)\"/>\r\n       </defs>\r\n       <use xlink:href=\"#DejaVuSans-30\"/>\r\n      </g>\r\n     </g>\r\n    </g>\r\n    <g id=\"ytick_2\">\r\n     <g id=\"line2d_4\">\r\n      <g>\r\n       <use style=\"stroke:#000000;stroke-width:0.8;\" x=\"39.65\" xlink:href=\"#md7821e9626\" y=\"184.092675\"/>\r\n      </g>\r\n     </g>\r\n     <g id=\"text_4\">\r\n      <!-- 200 -->\r\n      <g transform=\"translate(13.5625 187.891894)scale(0.1 -0.1)\">\r\n       <use xlink:href=\"#DejaVuSans-32\"/>\r\n       <use x=\"63.623047\" xlink:href=\"#DejaVuSans-30\"/>\r\n       <use x=\"127.246094\" xlink:href=\"#DejaVuSans-30\"/>\r\n      </g>\r\n     </g>\r\n    </g>\r\n    <g id=\"ytick_3\">\r\n     <g id=\"line2d_5\">\r\n      <g>\r\n       <use style=\"stroke:#000000;stroke-width:0.8;\" x=\"39.65\" xlink:href=\"#md7821e9626\" y=\"149.473984\"/>\r\n      </g>\r\n     </g>\r\n     <g id=\"text_5\">\r\n      <!-- 400 -->\r\n      <g transform=\"translate(13.5625 153.273203)scale(0.1 -0.1)\">\r\n       <defs>\r\n        <path d=\"M 2419 4116 \r\nL 825 1625 \r\nL 2419 1625 \r\nL 2419 4116 \r\nz\r\nM 2253 4666 \r\nL 3047 4666 \r\nL 3047 1625 \r\nL 3713 1625 \r\nL 3713 1100 \r\nL 3047 1100 \r\nL 3047 0 \r\nL 2419 0 \r\nL 2419 1100 \r\nL 313 1100 \r\nL 313 1709 \r\nL 2253 4666 \r\nz\r\n\" id=\"DejaVuSans-34\" transform=\"scale(0.015625)\"/>\r\n       </defs>\r\n       <use xlink:href=\"#DejaVuSans-34\"/>\r\n       <use x=\"63.623047\" xlink:href=\"#DejaVuSans-30\"/>\r\n       <use x=\"127.246094\" xlink:href=\"#DejaVuSans-30\"/>\r\n      </g>\r\n     </g>\r\n    </g>\r\n    <g id=\"ytick_4\">\r\n     <g id=\"line2d_6\">\r\n      <g>\r\n       <use style=\"stroke:#000000;stroke-width:0.8;\" x=\"39.65\" xlink:href=\"#md7821e9626\" y=\"114.855293\"/>\r\n      </g>\r\n     </g>\r\n     <g id=\"text_6\">\r\n      <!-- 600 -->\r\n      <g transform=\"translate(13.5625 118.654511)scale(0.1 -0.1)\">\r\n       <defs>\r\n        <path d=\"M 2113 2584 \r\nQ 1688 2584 1439 2293 \r\nQ 1191 2003 1191 1497 \r\nQ 1191 994 1439 701 \r\nQ 1688 409 2113 409 \r\nQ 2538 409 2786 701 \r\nQ 3034 994 3034 1497 \r\nQ 3034 2003 2786 2293 \r\nQ 2538 2584 2113 2584 \r\nz\r\nM 3366 4563 \r\nL 3366 3988 \r\nQ 3128 4100 2886 4159 \r\nQ 2644 4219 2406 4219 \r\nQ 1781 4219 1451 3797 \r\nQ 1122 3375 1075 2522 \r\nQ 1259 2794 1537 2939 \r\nQ 1816 3084 2150 3084 \r\nQ 2853 3084 3261 2657 \r\nQ 3669 2231 3669 1497 \r\nQ 3669 778 3244 343 \r\nQ 2819 -91 2113 -91 \r\nQ 1303 -91 875 529 \r\nQ 447 1150 447 2328 \r\nQ 447 3434 972 4092 \r\nQ 1497 4750 2381 4750 \r\nQ 2619 4750 2861 4703 \r\nQ 3103 4656 3366 4563 \r\nz\r\n\" id=\"DejaVuSans-36\" transform=\"scale(0.015625)\"/>\r\n       </defs>\r\n       <use xlink:href=\"#DejaVuSans-36\"/>\r\n       <use x=\"63.623047\" xlink:href=\"#DejaVuSans-30\"/>\r\n       <use x=\"127.246094\" xlink:href=\"#DejaVuSans-30\"/>\r\n      </g>\r\n     </g>\r\n    </g>\r\n    <g id=\"ytick_5\">\r\n     <g id=\"line2d_7\">\r\n      <g>\r\n       <use style=\"stroke:#000000;stroke-width:0.8;\" x=\"39.65\" xlink:href=\"#md7821e9626\" y=\"80.236601\"/>\r\n      </g>\r\n     </g>\r\n     <g id=\"text_7\">\r\n      <!-- 800 -->\r\n      <g transform=\"translate(13.5625 84.03582)scale(0.1 -0.1)\">\r\n       <defs>\r\n        <path d=\"M 2034 2216 \r\nQ 1584 2216 1326 1975 \r\nQ 1069 1734 1069 1313 \r\nQ 1069 891 1326 650 \r\nQ 1584 409 2034 409 \r\nQ 2484 409 2743 651 \r\nQ 3003 894 3003 1313 \r\nQ 3003 1734 2745 1975 \r\nQ 2488 2216 2034 2216 \r\nz\r\nM 1403 2484 \r\nQ 997 2584 770 2862 \r\nQ 544 3141 544 3541 \r\nQ 544 4100 942 4425 \r\nQ 1341 4750 2034 4750 \r\nQ 2731 4750 3128 4425 \r\nQ 3525 4100 3525 3541 \r\nQ 3525 3141 3298 2862 \r\nQ 3072 2584 2669 2484 \r\nQ 3125 2378 3379 2068 \r\nQ 3634 1759 3634 1313 \r\nQ 3634 634 3220 271 \r\nQ 2806 -91 2034 -91 \r\nQ 1263 -91 848 271 \r\nQ 434 634 434 1313 \r\nQ 434 1759 690 2068 \r\nQ 947 2378 1403 2484 \r\nz\r\nM 1172 3481 \r\nQ 1172 3119 1398 2916 \r\nQ 1625 2713 2034 2713 \r\nQ 2441 2713 2670 2916 \r\nQ 2900 3119 2900 3481 \r\nQ 2900 3844 2670 4047 \r\nQ 2441 4250 2034 4250 \r\nQ 1625 4250 1398 4047 \r\nQ 1172 3844 1172 3481 \r\nz\r\n\" id=\"DejaVuSans-38\" transform=\"scale(0.015625)\"/>\r\n       </defs>\r\n       <use xlink:href=\"#DejaVuSans-38\"/>\r\n       <use x=\"63.623047\" xlink:href=\"#DejaVuSans-30\"/>\r\n       <use x=\"127.246094\" xlink:href=\"#DejaVuSans-30\"/>\r\n      </g>\r\n     </g>\r\n    </g>\r\n    <g id=\"ytick_6\">\r\n     <g id=\"line2d_8\">\r\n      <g>\r\n       <use style=\"stroke:#000000;stroke-width:0.8;\" x=\"39.65\" xlink:href=\"#md7821e9626\" y=\"45.61791\"/>\r\n      </g>\r\n     </g>\r\n     <g id=\"text_8\">\r\n      <!-- 1000 -->\r\n      <g transform=\"translate(7.2 49.417129)scale(0.1 -0.1)\">\r\n       <use xlink:href=\"#DejaVuSans-31\"/>\r\n       <use x=\"63.623047\" xlink:href=\"#DejaVuSans-30\"/>\r\n       <use x=\"127.246094\" xlink:href=\"#DejaVuSans-30\"/>\r\n       <use x=\"190.869141\" xlink:href=\"#DejaVuSans-30\"/>\r\n      </g>\r\n     </g>\r\n    </g>\r\n    <g id=\"ytick_7\">\r\n     <g id=\"line2d_9\">\r\n      <g>\r\n       <use style=\"stroke:#000000;stroke-width:0.8;\" x=\"39.65\" xlink:href=\"#md7821e9626\" y=\"10.999219\"/>\r\n      </g>\r\n     </g>\r\n     <g id=\"text_9\">\r\n      <!-- 1200 -->\r\n      <g transform=\"translate(7.2 14.798437)scale(0.1 -0.1)\">\r\n       <use xlink:href=\"#DejaVuSans-31\"/>\r\n       <use x=\"63.623047\" xlink:href=\"#DejaVuSans-32\"/>\r\n       <use x=\"127.246094\" xlink:href=\"#DejaVuSans-30\"/>\r\n       <use x=\"190.869141\" xlink:href=\"#DejaVuSans-30\"/>\r\n      </g>\r\n     </g>\r\n    </g>\r\n   </g>\r\n   <g id=\"line2d_10\">\r\n    <path clip-path=\"url(#p18ac333633)\" d=\"M 110.795 213.518563 \r\nL 135.905 213.518563 \r\nL 135.905 198.978712 \r\nL 110.795 198.978712 \r\nL 110.795 213.518563 \r\n\" style=\"fill:none;stroke:#000000;stroke-linecap:square;\"/>\r\n   </g>\r\n   <g id=\"line2d_11\">\r\n    <path clip-path=\"url(#p18ac333633)\" d=\"M 123.35 213.518563 \r\nL 123.35 215.249497 \r\n\" style=\"fill:none;stroke:#000000;stroke-linecap:square;\"/>\r\n   </g>\r\n   <g id=\"line2d_12\">\r\n    <path clip-path=\"url(#p18ac333633)\" d=\"M 123.35 198.978712 \r\nL 123.35 183.054114 \r\n\" style=\"fill:none;stroke:#000000;stroke-linecap:square;\"/>\r\n   </g>\r\n   <g id=\"line2d_13\">\r\n    <path clip-path=\"url(#p18ac333633)\" d=\"M 117.0725 215.249497 \r\nL 129.6275 215.249497 \r\n\" style=\"fill:none;stroke:#000000;stroke-linecap:square;\"/>\r\n   </g>\r\n   <g id=\"line2d_14\">\r\n    <path clip-path=\"url(#p18ac333633)\" d=\"M 117.0725 183.054114 \r\nL 129.6275 183.054114 \r\n\" style=\"fill:none;stroke:#000000;stroke-linecap:square;\"/>\r\n   </g>\r\n   <g id=\"line2d_15\">\r\n    <defs>\r\n     <path d=\"M 0 3 \r\nC 0.795609 3 1.55874 2.683901 2.12132 2.12132 \r\nC 2.683901 1.55874 3 0.795609 3 0 \r\nC 3 -0.795609 2.683901 -1.55874 2.12132 -2.12132 \r\nC 1.55874 -2.683901 0.795609 -3 0 -3 \r\nC -0.795609 -3 -1.55874 -2.683901 -2.12132 -2.12132 \r\nC -2.683901 -1.55874 -3 -0.795609 -3 0 \r\nC -3 0.795609 -2.683901 1.55874 -2.12132 2.12132 \r\nC -1.55874 2.683901 -0.795609 3 0 3 \r\nz\r\n\" id=\"m3830da0840\" style=\"stroke:#000000;\"/>\r\n    </defs>\r\n    <g clip-path=\"url(#p18ac333633)\">\r\n     <use style=\"fill-opacity:0;stroke:#000000;\" x=\"123.35\" xlink:href=\"#m3830da0840\" y=\"167.82189\"/>\r\n     <use style=\"fill-opacity:0;stroke:#000000;\" x=\"123.35\" xlink:href=\"#m3830da0840\" y=\"176.30347\"/>\r\n     <use style=\"fill-opacity:0;stroke:#000000;\" x=\"123.35\" xlink:href=\"#m3830da0840\" y=\"176.30347\"/>\r\n     <use style=\"fill-opacity:0;stroke:#000000;\" x=\"123.35\" xlink:href=\"#m3830da0840\" y=\"167.82189\"/>\r\n     <use style=\"fill-opacity:0;stroke:#000000;\" x=\"123.35\" xlink:href=\"#m3830da0840\" y=\"167.82189\"/>\r\n     <use style=\"fill-opacity:0;stroke:#000000;\" x=\"123.35\" xlink:href=\"#m3830da0840\" y=\"167.82189\"/>\r\n     <use style=\"fill-opacity:0;stroke:#000000;\" x=\"123.35\" xlink:href=\"#m3830da0840\" y=\"176.30347\"/>\r\n     <use style=\"fill-opacity:0;stroke:#000000;\" x=\"123.35\" xlink:href=\"#m3830da0840\" y=\"167.648797\"/>\r\n     <use style=\"fill-opacity:0;stroke:#000000;\" x=\"123.35\" xlink:href=\"#m3830da0840\" y=\"167.648797\"/>\r\n     <use style=\"fill-opacity:0;stroke:#000000;\" x=\"123.35\" xlink:href=\"#m3830da0840\" y=\"167.648797\"/>\r\n     <use style=\"fill-opacity:0;stroke:#000000;\" x=\"123.35\" xlink:href=\"#m3830da0840\" y=\"176.130376\"/>\r\n     <use style=\"fill-opacity:0;stroke:#000000;\" x=\"123.35\" xlink:href=\"#m3830da0840\" y=\"176.130376\"/>\r\n     <use style=\"fill-opacity:0;stroke:#000000;\" x=\"123.35\" xlink:href=\"#m3830da0840\" y=\"176.30347\"/>\r\n     <use style=\"fill-opacity:0;stroke:#000000;\" x=\"123.35\" xlink:href=\"#m3830da0840\" y=\"176.30347\"/>\r\n     <use style=\"fill-opacity:0;stroke:#000000;\" x=\"123.35\" xlink:href=\"#m3830da0840\" y=\"167.82189\"/>\r\n     <use style=\"fill-opacity:0;stroke:#000000;\" x=\"123.35\" xlink:href=\"#m3830da0840\" y=\"167.82189\"/>\r\n     <use style=\"fill-opacity:0;stroke:#000000;\" x=\"123.35\" xlink:href=\"#m3830da0840\" y=\"176.130376\"/>\r\n     <use style=\"fill-opacity:0;stroke:#000000;\" x=\"123.35\" xlink:href=\"#m3830da0840\" y=\"176.130376\"/>\r\n     <use style=\"fill-opacity:0;stroke:#000000;\" x=\"123.35\" xlink:href=\"#m3830da0840\" y=\"176.130376\"/>\r\n     <use style=\"fill-opacity:0;stroke:#000000;\" x=\"123.35\" xlink:href=\"#m3830da0840\" y=\"176.130376\"/>\r\n     <use style=\"fill-opacity:0;stroke:#000000;\" x=\"123.35\" xlink:href=\"#m3830da0840\" y=\"176.130376\"/>\r\n     <use style=\"fill-opacity:0;stroke:#000000;\" x=\"123.35\" xlink:href=\"#m3830da0840\" y=\"176.130376\"/>\r\n     <use style=\"fill-opacity:0;stroke:#000000;\" x=\"123.35\" xlink:href=\"#m3830da0840\" y=\"176.130376\"/>\r\n     <use style=\"fill-opacity:0;stroke:#000000;\" x=\"123.35\" xlink:href=\"#m3830da0840\" y=\"176.130376\"/>\r\n     <use style=\"fill-opacity:0;stroke:#000000;\" x=\"123.35\" xlink:href=\"#m3830da0840\" y=\"167.82189\"/>\r\n     <use style=\"fill-opacity:0;stroke:#000000;\" x=\"123.35\" xlink:href=\"#m3830da0840\" y=\"167.82189\"/>\r\n     <use style=\"fill-opacity:0;stroke:#000000;\" x=\"123.35\" xlink:href=\"#m3830da0840\" y=\"167.648797\"/>\r\n     <use style=\"fill-opacity:0;stroke:#000000;\" x=\"123.35\" xlink:href=\"#m3830da0840\" y=\"167.648797\"/>\r\n     <use style=\"fill-opacity:0;stroke:#000000;\" x=\"123.35\" xlink:href=\"#m3830da0840\" y=\"176.30347\"/>\r\n     <use style=\"fill-opacity:0;stroke:#000000;\" x=\"123.35\" xlink:href=\"#m3830da0840\" y=\"176.30347\"/>\r\n     <use style=\"fill-opacity:0;stroke:#000000;\" x=\"123.35\" xlink:href=\"#m3830da0840\" y=\"167.648797\"/>\r\n     <use style=\"fill-opacity:0;stroke:#000000;\" x=\"123.35\" xlink:href=\"#m3830da0840\" y=\"167.648797\"/>\r\n     <use style=\"fill-opacity:0;stroke:#000000;\" x=\"123.35\" xlink:href=\"#m3830da0840\" y=\"176.30347\"/>\r\n     <use style=\"fill-opacity:0;stroke:#000000;\" x=\"123.35\" xlink:href=\"#m3830da0840\" y=\"176.30347\"/>\r\n     <use style=\"fill-opacity:0;stroke:#000000;\" x=\"123.35\" xlink:href=\"#m3830da0840\" y=\"167.82189\"/>\r\n     <use style=\"fill-opacity:0;stroke:#000000;\" x=\"123.35\" xlink:href=\"#m3830da0840\" y=\"167.82189\"/>\r\n     <use style=\"fill-opacity:0;stroke:#000000;\" x=\"123.35\" xlink:href=\"#m3830da0840\" y=\"167.648797\"/>\r\n     <use style=\"fill-opacity:0;stroke:#000000;\" x=\"123.35\" xlink:href=\"#m3830da0840\" y=\"176.130376\"/>\r\n     <use style=\"fill-opacity:0;stroke:#000000;\" x=\"123.35\" xlink:href=\"#m3830da0840\" y=\"167.648797\"/>\r\n     <use style=\"fill-opacity:0;stroke:#000000;\" x=\"123.35\" xlink:href=\"#m3830da0840\" y=\"159.167217\"/>\r\n     <use style=\"fill-opacity:0;stroke:#000000;\" x=\"123.35\" xlink:href=\"#m3830da0840\" y=\"167.648797\"/>\r\n     <use style=\"fill-opacity:0;stroke:#000000;\" x=\"123.35\" xlink:href=\"#m3830da0840\" y=\"167.648797\"/>\r\n     <use style=\"fill-opacity:0;stroke:#000000;\" x=\"123.35\" xlink:href=\"#m3830da0840\" y=\"147.569956\"/>\r\n     <use style=\"fill-opacity:0;stroke:#000000;\" x=\"123.35\" xlink:href=\"#m3830da0840\" y=\"138.569096\"/>\r\n     <use style=\"fill-opacity:0;stroke:#000000;\" x=\"123.35\" xlink:href=\"#m3830da0840\" y=\"138.396003\"/>\r\n     <use style=\"fill-opacity:0;stroke:#000000;\" x=\"123.35\" xlink:href=\"#m3830da0840\" y=\"147.396862\"/>\r\n     <use style=\"fill-opacity:0;stroke:#000000;\" x=\"123.35\" xlink:href=\"#m3830da0840\" y=\"156.397722\"/>\r\n     <use style=\"fill-opacity:0;stroke:#000000;\" x=\"123.35\" xlink:href=\"#m3830da0840\" y=\"174.053255\"/>\r\n     <use style=\"fill-opacity:0;stroke:#000000;\" x=\"123.35\" xlink:href=\"#m3830da0840\" y=\"138.569096\"/>\r\n     <use style=\"fill-opacity:0;stroke:#000000;\" x=\"123.35\" xlink:href=\"#m3830da0840\" y=\"138.396003\"/>\r\n     <use style=\"fill-opacity:0;stroke:#000000;\" x=\"123.35\" xlink:href=\"#m3830da0840\" y=\"156.397722\"/>\r\n     <use style=\"fill-opacity:0;stroke:#000000;\" x=\"123.35\" xlink:href=\"#m3830da0840\" y=\"165.398582\"/>\r\n     <use style=\"fill-opacity:0;stroke:#000000;\" x=\"123.35\" xlink:href=\"#m3830da0840\" y=\"147.396862\"/>\r\n     <use style=\"fill-opacity:0;stroke:#000000;\" x=\"123.35\" xlink:href=\"#m3830da0840\" y=\"156.397722\"/>\r\n     <use style=\"fill-opacity:0;stroke:#000000;\" x=\"123.35\" xlink:href=\"#m3830da0840\" y=\"147.569956\"/>\r\n     <use style=\"fill-opacity:0;stroke:#000000;\" x=\"123.35\" xlink:href=\"#m3830da0840\" y=\"147.396862\"/>\r\n     <use style=\"fill-opacity:0;stroke:#000000;\" x=\"123.35\" xlink:href=\"#m3830da0840\" y=\"147.396862\"/>\r\n     <use style=\"fill-opacity:0;stroke:#000000;\" x=\"123.35\" xlink:href=\"#m3830da0840\" y=\"156.397722\"/>\r\n     <use style=\"fill-opacity:0;stroke:#000000;\" x=\"123.35\" xlink:href=\"#m3830da0840\" y=\"147.396862\"/>\r\n     <use style=\"fill-opacity:0;stroke:#000000;\" x=\"123.35\" xlink:href=\"#m3830da0840\" y=\"156.397722\"/>\r\n     <use style=\"fill-opacity:0;stroke:#000000;\" x=\"123.35\" xlink:href=\"#m3830da0840\" y=\"165.225488\"/>\r\n     <use style=\"fill-opacity:0;stroke:#000000;\" x=\"123.35\" xlink:href=\"#m3830da0840\" y=\"156.397722\"/>\r\n     <use style=\"fill-opacity:0;stroke:#000000;\" x=\"123.35\" xlink:href=\"#m3830da0840\" y=\"147.396862\"/>\r\n     <use style=\"fill-opacity:0;stroke:#000000;\" x=\"123.35\" xlink:href=\"#m3830da0840\" y=\"147.396862\"/>\r\n     <use style=\"fill-opacity:0;stroke:#000000;\" x=\"123.35\" xlink:href=\"#m3830da0840\" y=\"156.397722\"/>\r\n     <use style=\"fill-opacity:0;stroke:#000000;\" x=\"123.35\" xlink:href=\"#m3830da0840\" y=\"147.396862\"/>\r\n     <use style=\"fill-opacity:0;stroke:#000000;\" x=\"123.35\" xlink:href=\"#m3830da0840\" y=\"138.569096\"/>\r\n     <use style=\"fill-opacity:0;stroke:#000000;\" x=\"123.35\" xlink:href=\"#m3830da0840\" y=\"147.396862\"/>\r\n     <use style=\"fill-opacity:0;stroke:#000000;\" x=\"123.35\" xlink:href=\"#m3830da0840\" y=\"165.225488\"/>\r\n     <use style=\"fill-opacity:0;stroke:#000000;\" x=\"123.35\" xlink:href=\"#m3830da0840\" y=\"156.397722\"/>\r\n     <use style=\"fill-opacity:0;stroke:#000000;\" x=\"123.35\" xlink:href=\"#m3830da0840\" y=\"138.569096\"/>\r\n     <use style=\"fill-opacity:0;stroke:#000000;\" x=\"123.35\" xlink:href=\"#m3830da0840\" y=\"147.396862\"/>\r\n     <use style=\"fill-opacity:0;stroke:#000000;\" x=\"123.35\" xlink:href=\"#m3830da0840\" y=\"165.225488\"/>\r\n     <use style=\"fill-opacity:0;stroke:#000000;\" x=\"123.35\" xlink:href=\"#m3830da0840\" y=\"165.225488\"/>\r\n     <use style=\"fill-opacity:0;stroke:#000000;\" x=\"123.35\" xlink:href=\"#m3830da0840\" y=\"156.397722\"/>\r\n     <use style=\"fill-opacity:0;stroke:#000000;\" x=\"123.35\" xlink:href=\"#m3830da0840\" y=\"156.397722\"/>\r\n     <use style=\"fill-opacity:0;stroke:#000000;\" x=\"123.35\" xlink:href=\"#m3830da0840\" y=\"147.396862\"/>\r\n     <use style=\"fill-opacity:0;stroke:#000000;\" x=\"123.35\" xlink:href=\"#m3830da0840\" y=\"156.397722\"/>\r\n     <use style=\"fill-opacity:0;stroke:#000000;\" x=\"123.35\" xlink:href=\"#m3830da0840\" y=\"147.569956\"/>\r\n     <use style=\"fill-opacity:0;stroke:#000000;\" x=\"123.35\" xlink:href=\"#m3830da0840\" y=\"156.397722\"/>\r\n     <use style=\"fill-opacity:0;stroke:#000000;\" x=\"123.35\" xlink:href=\"#m3830da0840\" y=\"147.396862\"/>\r\n     <use style=\"fill-opacity:0;stroke:#000000;\" x=\"123.35\" xlink:href=\"#m3830da0840\" y=\"147.396862\"/>\r\n     <use style=\"fill-opacity:0;stroke:#000000;\" x=\"123.35\" xlink:href=\"#m3830da0840\" y=\"147.396862\"/>\r\n     <use style=\"fill-opacity:0;stroke:#000000;\" x=\"123.35\" xlink:href=\"#m3830da0840\" y=\"147.569956\"/>\r\n     <use style=\"fill-opacity:0;stroke:#000000;\" x=\"123.35\" xlink:href=\"#m3830da0840\" y=\"147.396862\"/>\r\n     <use style=\"fill-opacity:0;stroke:#000000;\" x=\"123.35\" xlink:href=\"#m3830da0840\" y=\"159.340311\"/>\r\n     <use style=\"fill-opacity:0;stroke:#000000;\" x=\"123.35\" xlink:href=\"#m3830da0840\" y=\"159.340311\"/>\r\n     <use style=\"fill-opacity:0;stroke:#000000;\" x=\"123.35\" xlink:href=\"#m3830da0840\" y=\"171.283759\"/>\r\n     <use style=\"fill-opacity:0;stroke:#000000;\" x=\"123.35\" xlink:href=\"#m3830da0840\" y=\"159.340311\"/>\r\n     <use style=\"fill-opacity:0;stroke:#000000;\" x=\"123.35\" xlink:href=\"#m3830da0840\" y=\"159.340311\"/>\r\n     <use style=\"fill-opacity:0;stroke:#000000;\" x=\"123.35\" xlink:href=\"#m3830da0840\" y=\"171.283759\"/>\r\n     <use style=\"fill-opacity:0;stroke:#000000;\" x=\"123.35\" xlink:href=\"#m3830da0840\" y=\"147.396862\"/>\r\n     <use style=\"fill-opacity:0;stroke:#000000;\" x=\"123.35\" xlink:href=\"#m3830da0840\" y=\"147.396862\"/>\r\n     <use style=\"fill-opacity:0;stroke:#000000;\" x=\"123.35\" xlink:href=\"#m3830da0840\" y=\"135.453414\"/>\r\n     <use style=\"fill-opacity:0;stroke:#000000;\" x=\"123.35\" xlink:href=\"#m3830da0840\" y=\"147.396862\"/>\r\n     <use style=\"fill-opacity:0;stroke:#000000;\" x=\"123.35\" xlink:href=\"#m3830da0840\" y=\"135.453414\"/>\r\n     <use style=\"fill-opacity:0;stroke:#000000;\" x=\"123.35\" xlink:href=\"#m3830da0840\" y=\"135.626507\"/>\r\n     <use style=\"fill-opacity:0;stroke:#000000;\" x=\"123.35\" xlink:href=\"#m3830da0840\" y=\"171.283759\"/>\r\n     <use style=\"fill-opacity:0;stroke:#000000;\" x=\"123.35\" xlink:href=\"#m3830da0840\" y=\"171.110666\"/>\r\n     <use style=\"fill-opacity:0;stroke:#000000;\" x=\"123.35\" xlink:href=\"#m3830da0840\" y=\"147.396862\"/>\r\n     <use style=\"fill-opacity:0;stroke:#000000;\" x=\"123.35\" xlink:href=\"#m3830da0840\" y=\"147.396862\"/>\r\n     <use style=\"fill-opacity:0;stroke:#000000;\" x=\"123.35\" xlink:href=\"#m3830da0840\" y=\"147.396862\"/>\r\n     <use style=\"fill-opacity:0;stroke:#000000;\" x=\"123.35\" xlink:href=\"#m3830da0840\" y=\"147.569956\"/>\r\n     <use style=\"fill-opacity:0;stroke:#000000;\" x=\"123.35\" xlink:href=\"#m3830da0840\" y=\"159.340311\"/>\r\n     <use style=\"fill-opacity:0;stroke:#000000;\" x=\"123.35\" xlink:href=\"#m3830da0840\" y=\"147.396862\"/>\r\n     <use style=\"fill-opacity:0;stroke:#000000;\" x=\"123.35\" xlink:href=\"#m3830da0840\" y=\"159.340311\"/>\r\n     <use style=\"fill-opacity:0;stroke:#000000;\" x=\"123.35\" xlink:href=\"#m3830da0840\" y=\"159.167217\"/>\r\n     <use style=\"fill-opacity:0;stroke:#000000;\" x=\"123.35\" xlink:href=\"#m3830da0840\" y=\"174.399442\"/>\r\n     <use style=\"fill-opacity:0;stroke:#000000;\" x=\"123.35\" xlink:href=\"#m3830da0840\" y=\"174.399442\"/>\r\n    </g>\r\n   </g>\r\n   <g id=\"line2d_16\">\r\n    <path clip-path=\"url(#p18ac333633)\" d=\"M 278.195 205.729357 \r\nL 303.305 205.729357 \r\nL 303.305 179.938432 \r\nL 278.195 179.938432 \r\nL 278.195 205.729357 \r\n\" style=\"fill:none;stroke:#000000;stroke-linecap:square;\"/>\r\n   </g>\r\n   <g id=\"line2d_17\">\r\n    <path clip-path=\"url(#p18ac333633)\" d=\"M 290.75 205.729357 \r\nL 290.75 215.941871 \r\n\" style=\"fill:none;stroke:#000000;stroke-linecap:square;\"/>\r\n   </g>\r\n   <g id=\"line2d_18\">\r\n    <path clip-path=\"url(#p18ac333633)\" d=\"M 290.75 179.938432 \r\nL 290.75 145.319741 \r\n\" style=\"fill:none;stroke:#000000;stroke-linecap:square;\"/>\r\n   </g>\r\n   <g id=\"line2d_19\">\r\n    <path clip-path=\"url(#p18ac333633)\" d=\"M 284.4725 215.941871 \r\nL 297.0275 215.941871 \r\n\" style=\"fill:none;stroke:#000000;stroke-linecap:square;\"/>\r\n   </g>\r\n   <g id=\"line2d_20\">\r\n    <path clip-path=\"url(#p18ac333633)\" d=\"M 284.4725 145.319741 \r\nL 297.0275 145.319741 \r\n\" style=\"fill:none;stroke:#000000;stroke-linecap:square;\"/>\r\n   </g>\r\n   <g id=\"line2d_21\">\r\n    <g clip-path=\"url(#p18ac333633)\">\r\n     <use style=\"fill-opacity:0;stroke:#000000;\" x=\"290.75\" xlink:href=\"#m3830da0840\" y=\"82.833003\"/>\r\n     <use style=\"fill-opacity:0;stroke:#000000;\" x=\"290.75\" xlink:href=\"#m3830da0840\" y=\"86.987246\"/>\r\n     <use style=\"fill-opacity:0;stroke:#000000;\" x=\"290.75\" xlink:href=\"#m3830da0840\" y=\"78.67876\"/>\r\n     <use style=\"fill-opacity:0;stroke:#000000;\" x=\"290.75\" xlink:href=\"#m3830da0840\" y=\"82.833003\"/>\r\n     <use style=\"fill-opacity:0;stroke:#000000;\" x=\"290.75\" xlink:href=\"#m3830da0840\" y=\"78.67876\"/>\r\n     <use style=\"fill-opacity:0;stroke:#000000;\" x=\"290.75\" xlink:href=\"#m3830da0840\" y=\"78.67876\"/>\r\n     <use style=\"fill-opacity:0;stroke:#000000;\" x=\"290.75\" xlink:href=\"#m3830da0840\" y=\"78.67876\"/>\r\n     <use style=\"fill-opacity:0;stroke:#000000;\" x=\"290.75\" xlink:href=\"#m3830da0840\" y=\"78.67876\"/>\r\n     <use style=\"fill-opacity:0;stroke:#000000;\" x=\"290.75\" xlink:href=\"#m3830da0840\" y=\"78.67876\"/>\r\n     <use style=\"fill-opacity:0;stroke:#000000;\" x=\"290.75\" xlink:href=\"#m3830da0840\" y=\"78.67876\"/>\r\n     <use style=\"fill-opacity:0;stroke:#000000;\" x=\"290.75\" xlink:href=\"#m3830da0840\" y=\"83.006097\"/>\r\n     <use style=\"fill-opacity:0;stroke:#000000;\" x=\"290.75\" xlink:href=\"#m3830da0840\" y=\"83.006097\"/>\r\n     <use style=\"fill-opacity:0;stroke:#000000;\" x=\"290.75\" xlink:href=\"#m3830da0840\" y=\"83.006097\"/>\r\n     <use style=\"fill-opacity:0;stroke:#000000;\" x=\"290.75\" xlink:href=\"#m3830da0840\" y=\"83.006097\"/>\r\n     <use style=\"fill-opacity:0;stroke:#000000;\" x=\"290.75\" xlink:href=\"#m3830da0840\" y=\"87.16034\"/>\r\n     <use style=\"fill-opacity:0;stroke:#000000;\" x=\"290.75\" xlink:href=\"#m3830da0840\" y=\"82.833003\"/>\r\n     <use style=\"fill-opacity:0;stroke:#000000;\" x=\"290.75\" xlink:href=\"#m3830da0840\" y=\"78.505667\"/>\r\n     <use style=\"fill-opacity:0;stroke:#000000;\" x=\"290.75\" xlink:href=\"#m3830da0840\" y=\"78.505667\"/>\r\n     <use style=\"fill-opacity:0;stroke:#000000;\" x=\"290.75\" xlink:href=\"#m3830da0840\" y=\"74.17833\"/>\r\n     <use style=\"fill-opacity:0;stroke:#000000;\" x=\"290.75\" xlink:href=\"#m3830da0840\" y=\"74.17833\"/>\r\n     <use style=\"fill-opacity:0;stroke:#000000;\" x=\"290.75\" xlink:href=\"#m3830da0840\" y=\"74.351424\"/>\r\n     <use style=\"fill-opacity:0;stroke:#000000;\" x=\"290.75\" xlink:href=\"#m3830da0840\" y=\"78.67876\"/>\r\n     <use style=\"fill-opacity:0;stroke:#000000;\" x=\"290.75\" xlink:href=\"#m3830da0840\" y=\"91.314583\"/>\r\n     <use style=\"fill-opacity:0;stroke:#000000;\" x=\"290.75\" xlink:href=\"#m3830da0840\" y=\"91.314583\"/>\r\n     <use style=\"fill-opacity:0;stroke:#000000;\" x=\"290.75\" xlink:href=\"#m3830da0840\" y=\"82.833003\"/>\r\n     <use style=\"fill-opacity:0;stroke:#000000;\" x=\"290.75\" xlink:href=\"#m3830da0840\" y=\"82.833003\"/>\r\n     <use style=\"fill-opacity:0;stroke:#000000;\" x=\"290.75\" xlink:href=\"#m3830da0840\" y=\"78.505667\"/>\r\n     <use style=\"fill-opacity:0;stroke:#000000;\" x=\"290.75\" xlink:href=\"#m3830da0840\" y=\"82.833003\"/>\r\n     <use style=\"fill-opacity:0;stroke:#000000;\" x=\"290.75\" xlink:href=\"#m3830da0840\" y=\"99.796162\"/>\r\n     <use style=\"fill-opacity:0;stroke:#000000;\" x=\"290.75\" xlink:href=\"#m3830da0840\" y=\"104.123498\"/>\r\n     <use style=\"fill-opacity:0;stroke:#000000;\" x=\"290.75\" xlink:href=\"#m3830da0840\" y=\"95.641919\"/>\r\n     <use style=\"fill-opacity:0;stroke:#000000;\" x=\"290.75\" xlink:href=\"#m3830da0840\" y=\"95.641919\"/>\r\n     <use style=\"fill-opacity:0;stroke:#000000;\" x=\"290.75\" xlink:href=\"#m3830da0840\" y=\"104.123498\"/>\r\n     <use style=\"fill-opacity:0;stroke:#000000;\" x=\"290.75\" xlink:href=\"#m3830da0840\" y=\"99.796162\"/>\r\n     <use style=\"fill-opacity:0;stroke:#000000;\" x=\"290.75\" xlink:href=\"#m3830da0840\" y=\"82.833003\"/>\r\n     <use style=\"fill-opacity:0;stroke:#000000;\" x=\"290.75\" xlink:href=\"#m3830da0840\" y=\"91.314583\"/>\r\n     <use style=\"fill-opacity:0;stroke:#000000;\" x=\"290.75\" xlink:href=\"#m3830da0840\" y=\"74.351424\"/>\r\n     <use style=\"fill-opacity:0;stroke:#000000;\" x=\"290.75\" xlink:href=\"#m3830da0840\" y=\"74.351424\"/>\r\n     <use style=\"fill-opacity:0;stroke:#000000;\" x=\"290.75\" xlink:href=\"#m3830da0840\" y=\"91.314583\"/>\r\n     <use style=\"fill-opacity:0;stroke:#000000;\" x=\"290.75\" xlink:href=\"#m3830da0840\" y=\"87.16034\"/>\r\n     <use style=\"fill-opacity:0;stroke:#000000;\" x=\"290.75\" xlink:href=\"#m3830da0840\" y=\"83.006097\"/>\r\n     <use style=\"fill-opacity:0;stroke:#000000;\" x=\"290.75\" xlink:href=\"#m3830da0840\" y=\"87.16034\"/>\r\n     <use style=\"fill-opacity:0;stroke:#000000;\" x=\"290.75\" xlink:href=\"#m3830da0840\" y=\"102.911844\"/>\r\n     <use style=\"fill-opacity:0;stroke:#000000;\" x=\"290.75\" xlink:href=\"#m3830da0840\" y=\"107.412274\"/>\r\n     <use style=\"fill-opacity:0;stroke:#000000;\" x=\"290.75\" xlink:href=\"#m3830da0840\" y=\"98.584508\"/>\r\n     <use style=\"fill-opacity:0;stroke:#000000;\" x=\"290.75\" xlink:href=\"#m3830da0840\" y=\"94.084078\"/>\r\n     <use style=\"fill-opacity:0;stroke:#000000;\" x=\"290.75\" xlink:href=\"#m3830da0840\" y=\"129.568236\"/>\r\n     <use style=\"fill-opacity:0;stroke:#000000;\" x=\"290.75\" xlink:href=\"#m3830da0840\" y=\"129.568236\"/>\r\n     <use style=\"fill-opacity:0;stroke:#000000;\" x=\"290.75\" xlink:href=\"#m3830da0840\" y=\"67.427686\"/>\r\n     <use style=\"fill-opacity:0;stroke:#000000;\" x=\"290.75\" xlink:href=\"#m3830da0840\" y=\"67.427686\"/>\r\n     <use style=\"fill-opacity:0;stroke:#000000;\" x=\"290.75\" xlink:href=\"#m3830da0840\" y=\"76.255452\"/>\r\n     <use style=\"fill-opacity:0;stroke:#000000;\" x=\"290.75\" xlink:href=\"#m3830da0840\" y=\"71.755022\"/>\r\n     <use style=\"fill-opacity:0;stroke:#000000;\" x=\"290.75\" xlink:href=\"#m3830da0840\" y=\"85.083218\"/>\r\n     <use style=\"fill-opacity:0;stroke:#000000;\" x=\"290.75\" xlink:href=\"#m3830da0840\" y=\"58.253732\"/>\r\n     <use style=\"fill-opacity:0;stroke:#000000;\" x=\"290.75\" xlink:href=\"#m3830da0840\" y=\"94.084078\"/>\r\n     <use style=\"fill-opacity:0;stroke:#000000;\" x=\"290.75\" xlink:href=\"#m3830da0840\" y=\"102.911844\"/>\r\n     <use style=\"fill-opacity:0;stroke:#000000;\" x=\"290.75\" xlink:href=\"#m3830da0840\" y=\"129.74133\"/>\r\n     <use style=\"fill-opacity:0;stroke:#000000;\" x=\"290.75\" xlink:href=\"#m3830da0840\" y=\"120.74047\"/>\r\n     <use style=\"fill-opacity:0;stroke:#000000;\" x=\"290.75\" xlink:href=\"#m3830da0840\" y=\"62.754162\"/>\r\n     <use style=\"fill-opacity:0;stroke:#000000;\" x=\"290.75\" xlink:href=\"#m3830da0840\" y=\"76.082358\"/>\r\n     <use style=\"fill-opacity:0;stroke:#000000;\" x=\"290.75\" xlink:href=\"#m3830da0840\" y=\"102.911844\"/>\r\n     <use style=\"fill-opacity:0;stroke:#000000;\" x=\"290.75\" xlink:href=\"#m3830da0840\" y=\"102.911844\"/>\r\n     <use style=\"fill-opacity:0;stroke:#000000;\" x=\"290.75\" xlink:href=\"#m3830da0840\" y=\"76.255452\"/>\r\n     <use style=\"fill-opacity:0;stroke:#000000;\" x=\"290.75\" xlink:href=\"#m3830da0840\" y=\"76.255452\"/>\r\n     <use style=\"fill-opacity:0;stroke:#000000;\" x=\"290.75\" xlink:href=\"#m3830da0840\" y=\"98.411414\"/>\r\n     <use style=\"fill-opacity:0;stroke:#000000;\" x=\"290.75\" xlink:href=\"#m3830da0840\" y=\"94.084078\"/>\r\n     <use style=\"fill-opacity:0;stroke:#000000;\" x=\"290.75\" xlink:href=\"#m3830da0840\" y=\"80.755882\"/>\r\n     <use style=\"fill-opacity:0;stroke:#000000;\" x=\"290.75\" xlink:href=\"#m3830da0840\" y=\"76.255452\"/>\r\n     <use style=\"fill-opacity:0;stroke:#000000;\" x=\"290.75\" xlink:href=\"#m3830da0840\" y=\"102.911844\"/>\r\n     <use style=\"fill-opacity:0;stroke:#000000;\" x=\"290.75\" xlink:href=\"#m3830da0840\" y=\"102.911844\"/>\r\n     <use style=\"fill-opacity:0;stroke:#000000;\" x=\"290.75\" xlink:href=\"#m3830da0840\" y=\"54.099489\"/>\r\n     <use style=\"fill-opacity:0;stroke:#000000;\" x=\"290.75\" xlink:href=\"#m3830da0840\" y=\"54.099489\"/>\r\n     <use style=\"fill-opacity:0;stroke:#000000;\" x=\"290.75\" xlink:href=\"#m3830da0840\" y=\"93.910984\"/>\r\n     <use style=\"fill-opacity:0;stroke:#000000;\" x=\"290.75\" xlink:href=\"#m3830da0840\" y=\"98.411414\"/>\r\n     <use style=\"fill-opacity:0;stroke:#000000;\" x=\"290.75\" xlink:href=\"#m3830da0840\" y=\"67.254592\"/>\r\n     <use style=\"fill-opacity:0;stroke:#000000;\" x=\"290.75\" xlink:href=\"#m3830da0840\" y=\"71.755022\"/>\r\n     <use style=\"fill-opacity:0;stroke:#000000;\" x=\"290.75\" xlink:href=\"#m3830da0840\" y=\"67.254592\"/>\r\n     <use style=\"fill-opacity:0;stroke:#000000;\" x=\"290.75\" xlink:href=\"#m3830da0840\" y=\"62.754162\"/>\r\n     <use style=\"fill-opacity:0;stroke:#000000;\" x=\"290.75\" xlink:href=\"#m3830da0840\" y=\"94.084078\"/>\r\n     <use style=\"fill-opacity:0;stroke:#000000;\" x=\"290.75\" xlink:href=\"#m3830da0840\" y=\"85.083218\"/>\r\n     <use style=\"fill-opacity:0;stroke:#000000;\" x=\"290.75\" xlink:href=\"#m3830da0840\" y=\"62.927256\"/>\r\n     <use style=\"fill-opacity:0;stroke:#000000;\" x=\"290.75\" xlink:href=\"#m3830da0840\" y=\"53.926396\"/>\r\n     <use style=\"fill-opacity:0;stroke:#000000;\" x=\"290.75\" xlink:href=\"#m3830da0840\" y=\"27.270004\"/>\r\n     <use style=\"fill-opacity:0;stroke:#000000;\" x=\"290.75\" xlink:href=\"#m3830da0840\" y=\"31.59734\"/>\r\n     <use style=\"fill-opacity:0;stroke:#000000;\" x=\"290.75\" xlink:href=\"#m3830da0840\" y=\"49.252873\"/>\r\n     <use style=\"fill-opacity:0;stroke:#000000;\" x=\"290.75\" xlink:href=\"#m3830da0840\" y=\"49.252873\"/>\r\n     <use style=\"fill-opacity:0;stroke:#000000;\" x=\"290.75\" xlink:href=\"#m3830da0840\" y=\"22.769574\"/>\r\n     <use style=\"fill-opacity:0;stroke:#000000;\" x=\"290.75\" xlink:href=\"#m3830da0840\" y=\"22.769574\"/>\r\n     <use style=\"fill-opacity:0;stroke:#000000;\" x=\"290.75\" xlink:href=\"#m3830da0840\" y=\"44.925536\"/>\r\n     <use style=\"fill-opacity:0;stroke:#000000;\" x=\"290.75\" xlink:href=\"#m3830da0840\" y=\"31.59734\"/>\r\n     <use style=\"fill-opacity:0;stroke:#000000;\" x=\"290.75\" xlink:href=\"#m3830da0840\" y=\"44.925536\"/>\r\n     <use style=\"fill-opacity:0;stroke:#000000;\" x=\"290.75\" xlink:href=\"#m3830da0840\" y=\"40.5982\"/>\r\n     <use style=\"fill-opacity:0;stroke:#000000;\" x=\"290.75\" xlink:href=\"#m3830da0840\" y=\"31.770434\"/>\r\n     <use style=\"fill-opacity:0;stroke:#000000;\" x=\"290.75\" xlink:href=\"#m3830da0840\" y=\"36.09777\"/>\r\n     <use style=\"fill-opacity:0;stroke:#000000;\" x=\"290.75\" xlink:href=\"#m3830da0840\" y=\"40.425106\"/>\r\n     <use style=\"fill-opacity:0;stroke:#000000;\" x=\"290.75\" xlink:href=\"#m3830da0840\" y=\"44.925536\"/>\r\n     <use style=\"fill-opacity:0;stroke:#000000;\" x=\"290.75\" xlink:href=\"#m3830da0840\" y=\"27.09691\"/>\r\n     <use style=\"fill-opacity:0;stroke:#000000;\" x=\"290.75\" xlink:href=\"#m3830da0840\" y=\"44.925536\"/>\r\n     <use style=\"fill-opacity:0;stroke:#000000;\" x=\"290.75\" xlink:href=\"#m3830da0840\" y=\"44.925536\"/>\r\n     <use style=\"fill-opacity:0;stroke:#000000;\" x=\"290.75\" xlink:href=\"#m3830da0840\" y=\"44.925536\"/>\r\n     <use style=\"fill-opacity:0;stroke:#000000;\" x=\"290.75\" xlink:href=\"#m3830da0840\" y=\"40.425106\"/>\r\n     <use style=\"fill-opacity:0;stroke:#000000;\" x=\"290.75\" xlink:href=\"#m3830da0840\" y=\"36.09777\"/>\r\n     <use style=\"fill-opacity:0;stroke:#000000;\" x=\"290.75\" xlink:href=\"#m3830da0840\" y=\"31.770434\"/>\r\n     <use style=\"fill-opacity:0;stroke:#000000;\" x=\"290.75\" xlink:href=\"#m3830da0840\" y=\"27.270004\"/>\r\n     <use style=\"fill-opacity:0;stroke:#000000;\" x=\"290.75\" xlink:href=\"#m3830da0840\" y=\"18.269144\"/>\r\n     <use style=\"fill-opacity:0;stroke:#000000;\" x=\"290.75\" xlink:href=\"#m3830da0840\" y=\"18.269144\"/>\r\n     <use style=\"fill-opacity:0;stroke:#000000;\" x=\"290.75\" xlink:href=\"#m3830da0840\" y=\"27.09691\"/>\r\n     <use style=\"fill-opacity:0;stroke:#000000;\" x=\"290.75\" xlink:href=\"#m3830da0840\" y=\"22.59648\"/>\r\n    </g>\r\n   </g>\r\n   <g id=\"line2d_22\">\r\n    <path clip-path=\"url(#p18ac333633)\" d=\"M 110.795 210.922161 \r\nL 135.905 210.922161 \r\n\" style=\"fill:none;stroke:#ff7f0e;stroke-linecap:square;\"/>\r\n   </g>\r\n   <g id=\"line2d_23\">\r\n    <path clip-path=\"url(#p18ac333633)\" d=\"M 278.195 191.016413 \r\nL 303.305 191.016413 \r\n\" style=\"fill:none;stroke:#ff7f0e;stroke-linecap:square;\"/>\r\n   </g>\r\n   <g id=\"patch_3\">\r\n    <path d=\"M 39.65 225.825508 \r\nL 39.65 8.385508 \r\n\" style=\"fill:none;stroke:#000000;stroke-linecap:square;stroke-linejoin:miter;stroke-width:0.8;\"/>\r\n   </g>\r\n   <g id=\"patch_4\">\r\n    <path d=\"M 374.45 225.825508 \r\nL 374.45 8.385508 \r\n\" style=\"fill:none;stroke:#000000;stroke-linecap:square;stroke-linejoin:miter;stroke-width:0.8;\"/>\r\n   </g>\r\n   <g id=\"patch_5\">\r\n    <path d=\"M 39.65 225.825508 \r\nL 374.45 225.825508 \r\n\" style=\"fill:none;stroke:#000000;stroke-linecap:square;stroke-linejoin:miter;stroke-width:0.8;\"/>\r\n   </g>\r\n   <g id=\"patch_6\">\r\n    <path d=\"M 39.65 8.385508 \r\nL 374.45 8.385508 \r\n\" style=\"fill:none;stroke:#000000;stroke-linecap:square;stroke-linejoin:miter;stroke-width:0.8;\"/>\r\n   </g>\r\n  </g>\r\n </g>\r\n <defs>\r\n  <clipPath id=\"p18ac333633\">\r\n   <rect height=\"217.44\" width=\"334.8\" x=\"39.65\" y=\"8.385508\"/>\r\n  </clipPath>\r\n </defs>\r\n</svg>\r\n",
      "image/png": "[encoded data removed]"
     },
     "metadata": {
      "needs_background": "light"
     }
    }
   ],
   "metadata": {}
  },
  {
   "cell_type": "code",
   "execution_count": 19,
   "source": [
    "forw_df.columns = [\"f_X\", \"f_Y\"]"
   ],
   "outputs": [],
   "metadata": {}
  },
  {
   "cell_type": "code",
   "execution_count": 20,
   "source": [
    "Q1_2 = np.percentile(forw_df[\"f_Y\"] , 25) \r\n",
    "Q3_2 = np.percentile(forw_df[\"f_Y\"] , 75) \r\n",
    "IQR_2 = Q3_2 - Q1_2 \r\n",
    "outlier_step_2 = 1.5 * IQR_2\r\n",
    "\r\n",
    "outlier_step_2"
   ],
   "outputs": [
    {
     "output_type": "execute_result",
     "data": {
      "text/plain": [
       "223.5"
      ]
     },
     "metadata": {},
     "execution_count": 20
    }
   ],
   "metadata": {}
  },
  {
   "cell_type": "code",
   "execution_count": 21,
   "source": [
    "f_Y = (forw_df < Q1_2 - outlier_step_2) | (forw_df > Q3_2 + outlier_step_2)\r\n",
    "f_Y = f_Y.any(axis=1)\r\n",
    "searchf_df = forw_df[f_Y]\r\n",
    "print(searchf_df)"
   ],
   "outputs": [
    {
     "output_type": "stream",
     "name": "stdout",
     "text": [
      "     f_X   f_Y\n",
      "173  294   785\n",
      "174  245   761\n",
      "178  245   809\n",
      "179  294   785\n",
      "180  294   809\n",
      "..   ...   ...\n",
      "507  411  1106\n",
      "511  343  1158\n",
      "512  412  1158\n",
      "513  343  1107\n",
      "514  344  1133\n",
      "\n",
      "[108 rows x 2 columns]\n"
     ]
    }
   ],
   "metadata": {}
  },
  {
   "cell_type": "code",
   "execution_count": 22,
   "source": [
    "forw_df = forw_df.drop(searchf_df.index, axis=0)\r\n",
    "print(forw_df)"
   ],
   "outputs": [
    {
     "output_type": "stream",
     "name": "stdout",
     "text": [
      "      f_X  f_Y\n",
      "0      86  216\n",
      "1     114  216\n",
      "2      45   90\n",
      "3      35   93\n",
      "4     134  255\n",
      "...   ...  ...\n",
      "1675  111  230\n",
      "1676  112  230\n",
      "1677  135  238\n",
      "1678  134  238\n",
      "1679   40   80\n",
      "\n",
      "[1571 rows x 2 columns]\n"
     ]
    }
   ],
   "metadata": {}
  },
  {
   "cell_type": "code",
   "execution_count": 23,
   "source": [
    "forw_df[forw_df[\"f_X\"]==0]"
   ],
   "outputs": [
    {
     "output_type": "execute_result",
     "data": {
      "text/plain": [
       "Empty DataFrame\n",
       "Columns: [f_X, f_Y]\n",
       "Index: []"
      ],
      "text/html": [
       "<div>\n",
       "<style scoped>\n",
       "    .dataframe tbody tr th:only-of-type {\n",
       "        vertical-align: middle;\n",
       "    }\n",
       "\n",
       "    .dataframe tbody tr th {\n",
       "        vertical-align: top;\n",
       "    }\n",
       "\n",
       "    .dataframe thead th {\n",
       "        text-align: right;\n",
       "    }\n",
       "</style>\n",
       "<table border=\"1\" class=\"dataframe\">\n",
       "  <thead>\n",
       "    <tr style=\"text-align: right;\">\n",
       "      <th></th>\n",
       "      <th>f_X</th>\n",
       "      <th>f_Y</th>\n",
       "    </tr>\n",
       "  </thead>\n",
       "  <tbody>\n",
       "  </tbody>\n",
       "</table>\n",
       "</div>"
      ]
     },
     "metadata": {},
     "execution_count": 23
    }
   ],
   "metadata": {}
  },
  {
   "cell_type": "code",
   "execution_count": 13,
   "source": [
    "forw_ratio = forw_df[\"f_Y\"] / forw_df[\"f_X\"]"
   ],
   "outputs": [],
   "metadata": {}
  },
  {
   "cell_type": "code",
   "execution_count": 14,
   "source": [
    "forw_ratio_df = pd.DataFrame(forw_ratio, columns=[\"f_ratio\"]); forw_ratio_df.describe()"
   ],
   "outputs": [
    {
     "output_type": "execute_result",
     "data": {
      "text/plain": [
       "           f_ratio\n",
       "count  1677.000000\n",
       "mean      2.298496\n",
       "std       0.646880\n",
       "min       0.112676\n",
       "25%       1.866667\n",
       "50%       2.266667\n",
       "75%       2.635294\n",
       "max       8.000000"
      ],
      "text/html": [
       "<div>\n",
       "<style scoped>\n",
       "    .dataframe tbody tr th:only-of-type {\n",
       "        vertical-align: middle;\n",
       "    }\n",
       "\n",
       "    .dataframe tbody tr th {\n",
       "        vertical-align: top;\n",
       "    }\n",
       "\n",
       "    .dataframe thead th {\n",
       "        text-align: right;\n",
       "    }\n",
       "</style>\n",
       "<table border=\"1\" class=\"dataframe\">\n",
       "  <thead>\n",
       "    <tr style=\"text-align: right;\">\n",
       "      <th></th>\n",
       "      <th>f_ratio</th>\n",
       "    </tr>\n",
       "  </thead>\n",
       "  <tbody>\n",
       "    <tr>\n",
       "      <th>count</th>\n",
       "      <td>1677.000000</td>\n",
       "    </tr>\n",
       "    <tr>\n",
       "      <th>mean</th>\n",
       "      <td>2.298496</td>\n",
       "    </tr>\n",
       "    <tr>\n",
       "      <th>std</th>\n",
       "      <td>0.646880</td>\n",
       "    </tr>\n",
       "    <tr>\n",
       "      <th>min</th>\n",
       "      <td>0.112676</td>\n",
       "    </tr>\n",
       "    <tr>\n",
       "      <th>25%</th>\n",
       "      <td>1.866667</td>\n",
       "    </tr>\n",
       "    <tr>\n",
       "      <th>50%</th>\n",
       "      <td>2.266667</td>\n",
       "    </tr>\n",
       "    <tr>\n",
       "      <th>75%</th>\n",
       "      <td>2.635294</td>\n",
       "    </tr>\n",
       "    <tr>\n",
       "      <th>max</th>\n",
       "      <td>8.000000</td>\n",
       "    </tr>\n",
       "  </tbody>\n",
       "</table>\n",
       "</div>"
      ]
     },
     "metadata": {},
     "execution_count": 14
    }
   ],
   "metadata": {}
  },
  {
   "cell_type": "code",
   "execution_count": 24,
   "source": [
    "f_labels = [\"1\" for i in range(len(forw_df))]\r\n",
    "f_labels_df = pd.DataFrame(f_labels, columns=[\"f_labels\"]); f_labels_df"
   ],
   "outputs": [
    {
     "output_type": "execute_result",
     "data": {
      "text/plain": [
       "     f_labels\n",
       "0           1\n",
       "1           1\n",
       "2           1\n",
       "3           1\n",
       "4           1\n",
       "...       ...\n",
       "1566        1\n",
       "1567        1\n",
       "1568        1\n",
       "1569        1\n",
       "1570        1\n",
       "\n",
       "[1571 rows x 1 columns]"
      ],
      "text/html": [
       "<div>\n",
       "<style scoped>\n",
       "    .dataframe tbody tr th:only-of-type {\n",
       "        vertical-align: middle;\n",
       "    }\n",
       "\n",
       "    .dataframe tbody tr th {\n",
       "        vertical-align: top;\n",
       "    }\n",
       "\n",
       "    .dataframe thead th {\n",
       "        text-align: right;\n",
       "    }\n",
       "</style>\n",
       "<table border=\"1\" class=\"dataframe\">\n",
       "  <thead>\n",
       "    <tr style=\"text-align: right;\">\n",
       "      <th></th>\n",
       "      <th>f_labels</th>\n",
       "    </tr>\n",
       "  </thead>\n",
       "  <tbody>\n",
       "    <tr>\n",
       "      <th>0</th>\n",
       "      <td>1</td>\n",
       "    </tr>\n",
       "    <tr>\n",
       "      <th>1</th>\n",
       "      <td>1</td>\n",
       "    </tr>\n",
       "    <tr>\n",
       "      <th>2</th>\n",
       "      <td>1</td>\n",
       "    </tr>\n",
       "    <tr>\n",
       "      <th>3</th>\n",
       "      <td>1</td>\n",
       "    </tr>\n",
       "    <tr>\n",
       "      <th>4</th>\n",
       "      <td>1</td>\n",
       "    </tr>\n",
       "    <tr>\n",
       "      <th>...</th>\n",
       "      <td>...</td>\n",
       "    </tr>\n",
       "    <tr>\n",
       "      <th>1566</th>\n",
       "      <td>1</td>\n",
       "    </tr>\n",
       "    <tr>\n",
       "      <th>1567</th>\n",
       "      <td>1</td>\n",
       "    </tr>\n",
       "    <tr>\n",
       "      <th>1568</th>\n",
       "      <td>1</td>\n",
       "    </tr>\n",
       "    <tr>\n",
       "      <th>1569</th>\n",
       "      <td>1</td>\n",
       "    </tr>\n",
       "    <tr>\n",
       "      <th>1570</th>\n",
       "      <td>1</td>\n",
       "    </tr>\n",
       "  </tbody>\n",
       "</table>\n",
       "<p>1571 rows × 1 columns</p>\n",
       "</div>"
      ]
     },
     "metadata": {},
     "execution_count": 24
    }
   ],
   "metadata": {}
  },
  {
   "cell_type": "code",
   "execution_count": 25,
   "source": [
    "# forw_data = forw_ratio_df.join(f_labels_df, how=\"right\")\r\n",
    "forw_data = forw_df.join(f_labels_df, how=\"right\"); forw_data.head()"
   ],
   "outputs": [
    {
     "output_type": "execute_result",
     "data": {
      "text/plain": [
       "     f_X    f_Y f_labels\n",
       "0   86.0  216.0        1\n",
       "1  114.0  216.0        1\n",
       "2   45.0   90.0        1\n",
       "3   35.0   93.0        1\n",
       "4  134.0  255.0        1"
      ],
      "text/html": [
       "<div>\n",
       "<style scoped>\n",
       "    .dataframe tbody tr th:only-of-type {\n",
       "        vertical-align: middle;\n",
       "    }\n",
       "\n",
       "    .dataframe tbody tr th {\n",
       "        vertical-align: top;\n",
       "    }\n",
       "\n",
       "    .dataframe thead th {\n",
       "        text-align: right;\n",
       "    }\n",
       "</style>\n",
       "<table border=\"1\" class=\"dataframe\">\n",
       "  <thead>\n",
       "    <tr style=\"text-align: right;\">\n",
       "      <th></th>\n",
       "      <th>f_X</th>\n",
       "      <th>f_Y</th>\n",
       "      <th>f_labels</th>\n",
       "    </tr>\n",
       "  </thead>\n",
       "  <tbody>\n",
       "    <tr>\n",
       "      <th>0</th>\n",
       "      <td>86.0</td>\n",
       "      <td>216.0</td>\n",
       "      <td>1</td>\n",
       "    </tr>\n",
       "    <tr>\n",
       "      <th>1</th>\n",
       "      <td>114.0</td>\n",
       "      <td>216.0</td>\n",
       "      <td>1</td>\n",
       "    </tr>\n",
       "    <tr>\n",
       "      <th>2</th>\n",
       "      <td>45.0</td>\n",
       "      <td>90.0</td>\n",
       "      <td>1</td>\n",
       "    </tr>\n",
       "    <tr>\n",
       "      <th>3</th>\n",
       "      <td>35.0</td>\n",
       "      <td>93.0</td>\n",
       "      <td>1</td>\n",
       "    </tr>\n",
       "    <tr>\n",
       "      <th>4</th>\n",
       "      <td>134.0</td>\n",
       "      <td>255.0</td>\n",
       "      <td>1</td>\n",
       "    </tr>\n",
       "  </tbody>\n",
       "</table>\n",
       "</div>"
      ]
     },
     "metadata": {},
     "execution_count": 25
    }
   ],
   "metadata": {}
  },
  {
   "cell_type": "code",
   "execution_count": 26,
   "source": [
    "corr_data.columns = [\"x_data\", \"y_data\", \"labels\"]\r\n",
    "forw_data.columns = [\"x_data\", \"y_data\", \"labels\"]"
   ],
   "outputs": [],
   "metadata": {}
  },
  {
   "cell_type": "code",
   "execution_count": 27,
   "source": [
    "total_data = pd.concat([corr_data, forw_data])"
   ],
   "outputs": [],
   "metadata": {}
  },
  {
   "cell_type": "code",
   "execution_count": 28,
   "source": [
    "total_data.head()"
   ],
   "outputs": [
    {
     "output_type": "execute_result",
     "data": {
      "text/plain": [
       "   x_data  y_data labels\n",
       "0    30.0   115.0      0\n",
       "1    25.0   110.0      0\n",
       "2   114.0   304.0      0\n",
       "3    20.0    70.0      0\n",
       "4   120.0   272.0      0"
      ],
      "text/html": [
       "<div>\n",
       "<style scoped>\n",
       "    .dataframe tbody tr th:only-of-type {\n",
       "        vertical-align: middle;\n",
       "    }\n",
       "\n",
       "    .dataframe tbody tr th {\n",
       "        vertical-align: top;\n",
       "    }\n",
       "\n",
       "    .dataframe thead th {\n",
       "        text-align: right;\n",
       "    }\n",
       "</style>\n",
       "<table border=\"1\" class=\"dataframe\">\n",
       "  <thead>\n",
       "    <tr style=\"text-align: right;\">\n",
       "      <th></th>\n",
       "      <th>x_data</th>\n",
       "      <th>y_data</th>\n",
       "      <th>labels</th>\n",
       "    </tr>\n",
       "  </thead>\n",
       "  <tbody>\n",
       "    <tr>\n",
       "      <th>0</th>\n",
       "      <td>30.0</td>\n",
       "      <td>115.0</td>\n",
       "      <td>0</td>\n",
       "    </tr>\n",
       "    <tr>\n",
       "      <th>1</th>\n",
       "      <td>25.0</td>\n",
       "      <td>110.0</td>\n",
       "      <td>0</td>\n",
       "    </tr>\n",
       "    <tr>\n",
       "      <th>2</th>\n",
       "      <td>114.0</td>\n",
       "      <td>304.0</td>\n",
       "      <td>0</td>\n",
       "    </tr>\n",
       "    <tr>\n",
       "      <th>3</th>\n",
       "      <td>20.0</td>\n",
       "      <td>70.0</td>\n",
       "      <td>0</td>\n",
       "    </tr>\n",
       "    <tr>\n",
       "      <th>4</th>\n",
       "      <td>120.0</td>\n",
       "      <td>272.0</td>\n",
       "      <td>0</td>\n",
       "    </tr>\n",
       "  </tbody>\n",
       "</table>\n",
       "</div>"
      ]
     },
     "metadata": {},
     "execution_count": 28
    }
   ],
   "metadata": {}
  },
  {
   "cell_type": "code",
   "execution_count": 29,
   "source": [
    "data_shuffled = total_data.sample(frac=1)  # row 전체 shuffle\r\n",
    "\r\n",
    "data_shuffled = total_data.sample(frac=1).reset_index(drop=True)  # shuffling하고 index reset"
   ],
   "outputs": [],
   "metadata": {}
  },
  {
   "cell_type": "code",
   "execution_count": 30,
   "source": [
    "data_shuffled = data_shuffled.dropna()"
   ],
   "outputs": [],
   "metadata": {}
  },
  {
   "cell_type": "code",
   "execution_count": 31,
   "source": [
    "data_shuffled"
   ],
   "outputs": [
    {
     "output_type": "execute_result",
     "data": {
      "text/plain": [
       "      x_data  y_data labels\n",
       "0       25.0   110.0      0\n",
       "1       35.0   103.0      0\n",
       "2       25.0    85.0      0\n",
       "3      142.0   368.0      1\n",
       "5      114.0   240.0      1\n",
       "...      ...     ...    ...\n",
       "3167    30.0   105.0      0\n",
       "3168    35.0   103.0      0\n",
       "3169    40.0    95.0      1\n",
       "3170    25.0   100.0      0\n",
       "3171    20.0    63.0      0\n",
       "\n",
       "[2929 rows x 3 columns]"
      ],
      "text/html": [
       "<div>\n",
       "<style scoped>\n",
       "    .dataframe tbody tr th:only-of-type {\n",
       "        vertical-align: middle;\n",
       "    }\n",
       "\n",
       "    .dataframe tbody tr th {\n",
       "        vertical-align: top;\n",
       "    }\n",
       "\n",
       "    .dataframe thead th {\n",
       "        text-align: right;\n",
       "    }\n",
       "</style>\n",
       "<table border=\"1\" class=\"dataframe\">\n",
       "  <thead>\n",
       "    <tr style=\"text-align: right;\">\n",
       "      <th></th>\n",
       "      <th>x_data</th>\n",
       "      <th>y_data</th>\n",
       "      <th>labels</th>\n",
       "    </tr>\n",
       "  </thead>\n",
       "  <tbody>\n",
       "    <tr>\n",
       "      <th>0</th>\n",
       "      <td>25.0</td>\n",
       "      <td>110.0</td>\n",
       "      <td>0</td>\n",
       "    </tr>\n",
       "    <tr>\n",
       "      <th>1</th>\n",
       "      <td>35.0</td>\n",
       "      <td>103.0</td>\n",
       "      <td>0</td>\n",
       "    </tr>\n",
       "    <tr>\n",
       "      <th>2</th>\n",
       "      <td>25.0</td>\n",
       "      <td>85.0</td>\n",
       "      <td>0</td>\n",
       "    </tr>\n",
       "    <tr>\n",
       "      <th>3</th>\n",
       "      <td>142.0</td>\n",
       "      <td>368.0</td>\n",
       "      <td>1</td>\n",
       "    </tr>\n",
       "    <tr>\n",
       "      <th>5</th>\n",
       "      <td>114.0</td>\n",
       "      <td>240.0</td>\n",
       "      <td>1</td>\n",
       "    </tr>\n",
       "    <tr>\n",
       "      <th>...</th>\n",
       "      <td>...</td>\n",
       "      <td>...</td>\n",
       "      <td>...</td>\n",
       "    </tr>\n",
       "    <tr>\n",
       "      <th>3167</th>\n",
       "      <td>30.0</td>\n",
       "      <td>105.0</td>\n",
       "      <td>0</td>\n",
       "    </tr>\n",
       "    <tr>\n",
       "      <th>3168</th>\n",
       "      <td>35.0</td>\n",
       "      <td>103.0</td>\n",
       "      <td>0</td>\n",
       "    </tr>\n",
       "    <tr>\n",
       "      <th>3169</th>\n",
       "      <td>40.0</td>\n",
       "      <td>95.0</td>\n",
       "      <td>1</td>\n",
       "    </tr>\n",
       "    <tr>\n",
       "      <th>3170</th>\n",
       "      <td>25.0</td>\n",
       "      <td>100.0</td>\n",
       "      <td>0</td>\n",
       "    </tr>\n",
       "    <tr>\n",
       "      <th>3171</th>\n",
       "      <td>20.0</td>\n",
       "      <td>63.0</td>\n",
       "      <td>0</td>\n",
       "    </tr>\n",
       "  </tbody>\n",
       "</table>\n",
       "<p>2929 rows × 3 columns</p>\n",
       "</div>"
      ]
     },
     "metadata": {},
     "execution_count": 31
    }
   ],
   "metadata": {}
  },
  {
   "cell_type": "code",
   "execution_count": 32,
   "source": [
    "pose_data = data_shuffled[[\"x_data\", \"y_data\"]]\r\n",
    "\r\n",
    "# encoder = LabelEncoder()\r\n",
    "# encoder.fit(data_shuffled[\"labels\"])\r\n",
    "# data_shuffled[\"labels\"] = encoder.transform(data_shuffled[\"labels\"])\r\n",
    "\r\n",
    "pose_label = data_shuffled[\"labels\"]"
   ],
   "outputs": [],
   "metadata": {
    "id": "I-W4v-TZmDYQ"
   }
  },
  {
   "cell_type": "code",
   "execution_count": 33,
   "source": [
    "train_data, test_data , train_label, test_label  =  train_test_split(pose_data, pose_label, test_size=0.2)\r\n",
    "\r\n",
    "# help( train_test_split )"
   ],
   "outputs": [],
   "metadata": {
    "id": "88Wf2LObmDYQ",
    "outputId": "f034f4f2-6eaa-4555-bad8-1951333367c0"
   }
  },
  {
   "cell_type": "code",
   "execution_count": 34,
   "source": [
    "model = svm.SVC(  )\r\n",
    "model.fit(train_data, train_label  ) \r\n",
    "pre = model.predict( test_data )\r\n",
    "ac_score = metrics.accuracy_score( test_label, pre ) \r\n",
    "print(\"SVC 정답률 = \" , ac_score)"
   ],
   "outputs": [
    {
     "output_type": "stream",
     "name": "stdout",
     "text": [
      "SVC 정답률 =  0.8225255972696246\n"
     ]
    }
   ],
   "metadata": {
    "id": "tfoD8xI2mDYR",
    "outputId": "fdc4a32e-0e80-4233-9101-f0cb22efd5ef",
    "scrolled": false
   }
  },
  {
   "cell_type": "code",
   "execution_count": 35,
   "source": [
    "model1 = tree.DecisionTreeClassifier()\r\n",
    "model1.fit(train_data, train_label)\r\n",
    "pre1 = model1.predict(test_data)\r\n",
    "ac_score1 = metrics.accuracy_score(test_label, pre1)\r\n",
    "print(\"의사결정 트리 정답률 = \", ac_score1)"
   ],
   "outputs": [
    {
     "output_type": "stream",
     "name": "stdout",
     "text": [
      "의사결정 트리 정답률 =  0.8737201365187713\n"
     ]
    }
   ],
   "metadata": {}
  },
  {
   "cell_type": "code",
   "execution_count": 36,
   "source": [
    "model3 = tree.ExtraTreeClassifier()\r\n",
    "model3.fit(train_data, train_label)\r\n",
    "pre3 = model3.predict(test_data)\r\n",
    "ac_score3 = metrics.accuracy_score(test_label, pre3)\r\n",
    "print(\"엑스트라 트리 회귀 정답률 = \", ac_score3)"
   ],
   "outputs": [
    {
     "output_type": "stream",
     "name": "stdout",
     "text": [
      "엑스트라 트리 회귀 정답률 =  0.8754266211604096\n"
     ]
    }
   ],
   "metadata": {}
  },
  {
   "cell_type": "code",
   "execution_count": 37,
   "source": [
    "model4 = ensemble.RandomForestClassifier()\r\n",
    "model4.fit(train_data, train_label)\r\n",
    "pre4 = model4.predict(test_data)\r\n",
    "ac_score4 = metrics.accuracy_score(test_label, pre4)\r\n",
    "print(\"앙상블 랜덤포레스트 정답률 = \", ac_score4)"
   ],
   "outputs": [
    {
     "output_type": "stream",
     "name": "stdout",
     "text": [
      "앙상블 랜덤포레스트 정답률 =  0.8703071672354948\n"
     ]
    }
   ],
   "metadata": {}
  },
  {
   "cell_type": "code",
   "execution_count": 38,
   "source": [
    "model5 = ensemble.AdaBoostClassifier()\r\n",
    "model5.fit(train_data, train_label)\r\n",
    "pre5 = model5.predict(test_data)\r\n",
    "ac_score5 = metrics.accuracy_score(test_label, pre5)\r\n",
    "print(\"아다부스트 정답률 = \", ac_score5)"
   ],
   "outputs": [
    {
     "output_type": "stream",
     "name": "stdout",
     "text": [
      "아다부스트 정답률 =  0.8515358361774744\n"
     ]
    }
   ],
   "metadata": {}
  },
  {
   "cell_type": "code",
   "execution_count": 39,
   "source": [
    "model6 = ensemble.BaggingClassifier()\r\n",
    "model6.fit(train_data, train_label)\r\n",
    "pre6 = model6.predict(test_data)\r\n",
    "ac_score6 = metrics.accuracy_score(test_label, pre6)\r\n",
    "print(\"배깅 정답률 = \", ac_score6)"
   ],
   "outputs": [
    {
     "output_type": "stream",
     "name": "stdout",
     "text": [
      "배깅 정답률 =  0.8822525597269625\n"
     ]
    }
   ],
   "metadata": {}
  },
  {
   "cell_type": "code",
   "execution_count": 40,
   "source": [
    "model7 = ensemble.GradientBoostingClassifier()\r\n",
    "model7.fit(train_data, train_label)\r\n",
    "pre7 = model7.predict(test_data)\r\n",
    "ac_score7 = metrics.accuracy_score(test_label, pre7)\r\n",
    "print(\"경사 부스팅 정답률 = \", ac_score7)\r\n"
   ],
   "outputs": [
    {
     "output_type": "stream",
     "name": "stdout",
     "text": [
      "경사 부스팅 정답률 =  0.8617747440273038\n"
     ]
    }
   ],
   "metadata": {}
  },
  {
   "cell_type": "code",
   "execution_count": 41,
   "source": [
    "clf1 = LogisticRegression(multi_class='multinomial', random_state=1)\r\n",
    "clf2 = RandomForestClassifier(n_estimators=50, random_state=1)\r\n",
    "clf3 = GaussianNB()\r\n",
    "model8 = ensemble.StackingClassifier(estimators=[('lr', clf1), ('rf', clf2), ('gnb', clf3)])\r\n",
    "model8.fit(train_data, train_label)\r\n",
    "pre8 = model8.predict(test_data)\r\n",
    "ac_score8 = metrics.accuracy_score(test_label, pre8)\r\n",
    "print(\"스태킹 정답률 = \", ac_score8)"
   ],
   "outputs": [
    {
     "output_type": "stream",
     "name": "stdout",
     "text": [
      "스태킹 정답률 =  0.8720136518771331\n"
     ]
    }
   ],
   "metadata": {}
  },
  {
   "cell_type": "code",
   "execution_count": 42,
   "source": [
    "model9 = ensemble.VotingClassifier(estimators=[('lr', clf1), ('rf', clf2), ('gnb', clf3)], voting=\"hard\")\r\n",
    "model9.fit(train_data, train_label)\r\n",
    "pre9 = model9.predict(test_data)\r\n",
    "ac_score9 = metrics.accuracy_score(test_label, pre9)\r\n",
    "print(\"보팅 하드 정답률 = \", ac_score9)"
   ],
   "outputs": [
    {
     "output_type": "stream",
     "name": "stdout",
     "text": [
      "보팅 하드 정답률 =  0.8344709897610921\n"
     ]
    }
   ],
   "metadata": {}
  },
  {
   "cell_type": "code",
   "execution_count": 43,
   "source": [
    "model9_1 = ensemble.VotingClassifier(estimators=[('lr', clf1), ('rf', clf2), ('gnb', clf3)], voting=\"soft\")\r\n",
    "model9_1.fit(train_data, train_label)\r\n",
    "pre9_1 = model9_1.predict(test_data)\r\n",
    "ac_score9_1 = metrics.accuracy_score(test_label, pre9_1)\r\n",
    "print(\"보팅 소프트 정답률 = \", ac_score9_1)"
   ],
   "outputs": [
    {
     "output_type": "stream",
     "name": "stdout",
     "text": [
      "보팅 소프트 정답률 =  0.856655290102389\n"
     ]
    }
   ],
   "metadata": {}
  },
  {
   "cell_type": "code",
   "execution_count": 44,
   "source": [
    "from sklearn.experimental import enable_hist_gradient_boosting  # noqa\r\n",
    "model10 = ensemble.HistGradientBoostingClassifier()\r\n",
    "model10.fit(train_data, train_label)\r\n",
    "pre10 = model10.predict(test_data)\r\n",
    "ac_score10 = metrics.accuracy_score(test_label, pre10)\r\n",
    "print(\"히스트그래디언트부스팅 정답률 = \", ac_score10)"
   ],
   "outputs": [
    {
     "output_type": "stream",
     "name": "stdout",
     "text": [
      "히스트그래디언트부스팅 정답률 =  0.8737201365187713\n"
     ]
    }
   ],
   "metadata": {}
  },
  {
   "cell_type": "code",
   "execution_count": 45,
   "source": [
    "from sklearn.dummy import DummyClassifier\r\n",
    "model11 = DummyClassifier(strategy=\"most_frequent\")\r\n",
    "model11.fit(train_data, train_label)\r\n",
    "pre11 = model11.predict(test_data)\r\n",
    "ac_score11 = metrics.accuracy_score(test_label, pre11)\r\n",
    "print(\"더미 정답률 = \", ac_score11)"
   ],
   "outputs": [
    {
     "output_type": "stream",
     "name": "stdout",
     "text": [
      "더미 정답률 =  0.49146757679180886\n"
     ]
    }
   ],
   "metadata": {}
  },
  {
   "cell_type": "code",
   "execution_count": 46,
   "source": [
    "corr_test_csv = pd.read_csv('test2_corr.csv')"
   ],
   "outputs": [],
   "metadata": {}
  },
  {
   "cell_type": "code",
   "execution_count": 52,
   "source": [
    "corr_test_df = pd.DataFrame(corr_test_csv)\r\n",
    "corr_test_df"
   ],
   "outputs": [
    {
     "output_type": "execute_result",
     "data": {
      "text/plain": [
       "     c_X  c_Y\n",
       "0    114  280\n",
       "1    114  280\n",
       "2     85  248\n",
       "3    114  248\n",
       "4     86  184\n",
       "..   ...  ...\n",
       "117   85   85\n",
       "118   85   75\n",
       "119   85   75\n",
       "120   86  122\n",
       "121   86  122\n",
       "\n",
       "[122 rows x 2 columns]"
      ],
      "text/html": [
       "<div>\n",
       "<style scoped>\n",
       "    .dataframe tbody tr th:only-of-type {\n",
       "        vertical-align: middle;\n",
       "    }\n",
       "\n",
       "    .dataframe tbody tr th {\n",
       "        vertical-align: top;\n",
       "    }\n",
       "\n",
       "    .dataframe thead th {\n",
       "        text-align: right;\n",
       "    }\n",
       "</style>\n",
       "<table border=\"1\" class=\"dataframe\">\n",
       "  <thead>\n",
       "    <tr style=\"text-align: right;\">\n",
       "      <th></th>\n",
       "      <th>c_X</th>\n",
       "      <th>c_Y</th>\n",
       "    </tr>\n",
       "  </thead>\n",
       "  <tbody>\n",
       "    <tr>\n",
       "      <th>0</th>\n",
       "      <td>114</td>\n",
       "      <td>280</td>\n",
       "    </tr>\n",
       "    <tr>\n",
       "      <th>1</th>\n",
       "      <td>114</td>\n",
       "      <td>280</td>\n",
       "    </tr>\n",
       "    <tr>\n",
       "      <th>2</th>\n",
       "      <td>85</td>\n",
       "      <td>248</td>\n",
       "    </tr>\n",
       "    <tr>\n",
       "      <th>3</th>\n",
       "      <td>114</td>\n",
       "      <td>248</td>\n",
       "    </tr>\n",
       "    <tr>\n",
       "      <th>4</th>\n",
       "      <td>86</td>\n",
       "      <td>184</td>\n",
       "    </tr>\n",
       "    <tr>\n",
       "      <th>...</th>\n",
       "      <td>...</td>\n",
       "      <td>...</td>\n",
       "    </tr>\n",
       "    <tr>\n",
       "      <th>117</th>\n",
       "      <td>85</td>\n",
       "      <td>85</td>\n",
       "    </tr>\n",
       "    <tr>\n",
       "      <th>118</th>\n",
       "      <td>85</td>\n",
       "      <td>75</td>\n",
       "    </tr>\n",
       "    <tr>\n",
       "      <th>119</th>\n",
       "      <td>85</td>\n",
       "      <td>75</td>\n",
       "    </tr>\n",
       "    <tr>\n",
       "      <th>120</th>\n",
       "      <td>86</td>\n",
       "      <td>122</td>\n",
       "    </tr>\n",
       "    <tr>\n",
       "      <th>121</th>\n",
       "      <td>86</td>\n",
       "      <td>122</td>\n",
       "    </tr>\n",
       "  </tbody>\n",
       "</table>\n",
       "<p>122 rows × 2 columns</p>\n",
       "</div>"
      ]
     },
     "metadata": {},
     "execution_count": 52
    }
   ],
   "metadata": {}
  },
  {
   "cell_type": "code",
   "execution_count": 48,
   "source": [
    "# Basic box plot\r\n",
    "import matplotlib.pyplot as plt\r\n",
    "%matplotlib inline \r\n",
    "\r\n",
    "\r\n",
    "c = plt.boxplot(corr_test_df)\r\n",
    "plt.show()"
   ],
   "outputs": [
    {
     "output_type": "display_data",
     "data": {
      "text/plain": [
       "<Figure size 432x288 with 1 Axes>"
      ],
      "image/svg+xml": "<?xml version=\"1.0\" encoding=\"utf-8\" standalone=\"no\"?>\r\n<!DOCTYPE svg PUBLIC \"-//W3C//DTD SVG 1.1//EN\"\r\n  \"http://www.w3.org/Graphics/SVG/1.1/DTD/svg11.dtd\">\r\n<svg height=\"248.518125pt\" version=\"1.1\" viewBox=\"0 0 375.2875 248.518125\" width=\"375.2875pt\" xmlns=\"http://www.w3.org/2000/svg\" xmlns:xlink=\"http://www.w3.org/1999/xlink\">\r\n <metadata>\r\n  <rdf:RDF xmlns:cc=\"http://creativecommons.org/ns#\" xmlns:dc=\"http://purl.org/dc/elements/1.1/\" xmlns:rdf=\"http://www.w3.org/1999/02/22-rdf-syntax-ns#\">\r\n   <cc:Work>\r\n    <dc:type rdf:resource=\"http://purl.org/dc/dcmitype/StillImage\"/>\r\n    <dc:date>2021-08-25T13:36:12.804205</dc:date>\r\n    <dc:format>image/svg+xml</dc:format>\r\n    <dc:creator>\r\n     <cc:Agent>\r\n      <dc:title>Matplotlib v3.4.2, https://matplotlib.org/</dc:title>\r\n     </cc:Agent>\r\n    </dc:creator>\r\n   </cc:Work>\r\n  </rdf:RDF>\r\n </metadata>\r\n <defs>\r\n  <style type=\"text/css\">*{stroke-linecap:butt;stroke-linejoin:round;}</style>\r\n </defs>\r\n <g id=\"figure_1\">\r\n  <g id=\"patch_1\">\r\n   <path d=\"M 0 248.518125 \r\nL 375.2875 248.518125 \r\nL 375.2875 0 \r\nL 0 0 \r\nz\r\n\" style=\"fill:none;\"/>\r\n  </g>\r\n  <g id=\"axes_1\">\r\n   <g id=\"patch_2\">\r\n    <path d=\"M 33.2875 224.64 \r\nL 368.0875 224.64 \r\nL 368.0875 7.2 \r\nL 33.2875 7.2 \r\nz\r\n\" style=\"fill:#ffffff;\"/>\r\n   </g>\r\n   <g id=\"matplotlib.axis_1\">\r\n    <g id=\"xtick_1\">\r\n     <g id=\"line2d_1\">\r\n      <defs>\r\n       <path d=\"M 0 0 \r\nL 0 3.5 \r\n\" id=\"m0206ce687c\" style=\"stroke:#000000;stroke-width:0.8;\"/>\r\n      </defs>\r\n      <g>\r\n       <use style=\"stroke:#000000;stroke-width:0.8;\" x=\"116.9875\" xlink:href=\"#m0206ce687c\" y=\"224.64\"/>\r\n      </g>\r\n     </g>\r\n     <g id=\"text_1\">\r\n      <!-- 1 -->\r\n      <g transform=\"translate(113.80625 239.238437)scale(0.1 -0.1)\">\r\n       <defs>\r\n        <path d=\"M 794 531 \r\nL 1825 531 \r\nL 1825 4091 \r\nL 703 3866 \r\nL 703 4441 \r\nL 1819 4666 \r\nL 2450 4666 \r\nL 2450 531 \r\nL 3481 531 \r\nL 3481 0 \r\nL 794 0 \r\nL 794 531 \r\nz\r\n\" id=\"DejaVuSans-31\" transform=\"scale(0.015625)\"/>\r\n       </defs>\r\n       <use xlink:href=\"#DejaVuSans-31\"/>\r\n      </g>\r\n     </g>\r\n    </g>\r\n    <g id=\"xtick_2\">\r\n     <g id=\"line2d_2\">\r\n      <g>\r\n       <use style=\"stroke:#000000;stroke-width:0.8;\" x=\"284.3875\" xlink:href=\"#m0206ce687c\" y=\"224.64\"/>\r\n      </g>\r\n     </g>\r\n     <g id=\"text_2\">\r\n      <!-- 2 -->\r\n      <g transform=\"translate(281.20625 239.238437)scale(0.1 -0.1)\">\r\n       <defs>\r\n        <path d=\"M 1228 531 \r\nL 3431 531 \r\nL 3431 0 \r\nL 469 0 \r\nL 469 531 \r\nQ 828 903 1448 1529 \r\nQ 2069 2156 2228 2338 \r\nQ 2531 2678 2651 2914 \r\nQ 2772 3150 2772 3378 \r\nQ 2772 3750 2511 3984 \r\nQ 2250 4219 1831 4219 \r\nQ 1534 4219 1204 4116 \r\nQ 875 4013 500 3803 \r\nL 500 4441 \r\nQ 881 4594 1212 4672 \r\nQ 1544 4750 1819 4750 \r\nQ 2544 4750 2975 4387 \r\nQ 3406 4025 3406 3419 \r\nQ 3406 3131 3298 2873 \r\nQ 3191 2616 2906 2266 \r\nQ 2828 2175 2409 1742 \r\nQ 1991 1309 1228 531 \r\nz\r\n\" id=\"DejaVuSans-32\" transform=\"scale(0.015625)\"/>\r\n       </defs>\r\n       <use xlink:href=\"#DejaVuSans-32\"/>\r\n      </g>\r\n     </g>\r\n    </g>\r\n   </g>\r\n   <g id=\"matplotlib.axis_2\">\r\n    <g id=\"ytick_1\">\r\n     <g id=\"line2d_3\">\r\n      <defs>\r\n       <path d=\"M 0 0 \r\nL -3.5 0 \r\n\" id=\"m6915977050\" style=\"stroke:#000000;stroke-width:0.8;\"/>\r\n      </defs>\r\n      <g>\r\n       <use style=\"stroke:#000000;stroke-width:0.8;\" x=\"33.2875\" xlink:href=\"#m6915977050\" y=\"214.756364\"/>\r\n      </g>\r\n     </g>\r\n     <g id=\"text_3\">\r\n      <!-- 0 -->\r\n      <g transform=\"translate(19.925 218.555582)scale(0.1 -0.1)\">\r\n       <defs>\r\n        <path d=\"M 2034 4250 \r\nQ 1547 4250 1301 3770 \r\nQ 1056 3291 1056 2328 \r\nQ 1056 1369 1301 889 \r\nQ 1547 409 2034 409 \r\nQ 2525 409 2770 889 \r\nQ 3016 1369 3016 2328 \r\nQ 3016 3291 2770 3770 \r\nQ 2525 4250 2034 4250 \r\nz\r\nM 2034 4750 \r\nQ 2819 4750 3233 4129 \r\nQ 3647 3509 3647 2328 \r\nQ 3647 1150 3233 529 \r\nQ 2819 -91 2034 -91 \r\nQ 1250 -91 836 529 \r\nQ 422 1150 422 2328 \r\nQ 422 3509 836 4129 \r\nQ 1250 4750 2034 4750 \r\nz\r\n\" id=\"DejaVuSans-30\" transform=\"scale(0.015625)\"/>\r\n       </defs>\r\n       <use xlink:href=\"#DejaVuSans-30\"/>\r\n      </g>\r\n     </g>\r\n    </g>\r\n    <g id=\"ytick_2\">\r\n     <g id=\"line2d_4\">\r\n      <g>\r\n       <use style=\"stroke:#000000;stroke-width:0.8;\" x=\"33.2875\" xlink:href=\"#m6915977050\" y=\"179.457662\"/>\r\n      </g>\r\n     </g>\r\n     <g id=\"text_4\">\r\n      <!-- 50 -->\r\n      <g transform=\"translate(13.5625 183.256881)scale(0.1 -0.1)\">\r\n       <defs>\r\n        <path d=\"M 691 4666 \r\nL 3169 4666 \r\nL 3169 4134 \r\nL 1269 4134 \r\nL 1269 2991 \r\nQ 1406 3038 1543 3061 \r\nQ 1681 3084 1819 3084 \r\nQ 2600 3084 3056 2656 \r\nQ 3513 2228 3513 1497 \r\nQ 3513 744 3044 326 \r\nQ 2575 -91 1722 -91 \r\nQ 1428 -91 1123 -41 \r\nQ 819 9 494 109 \r\nL 494 744 \r\nQ 775 591 1075 516 \r\nQ 1375 441 1709 441 \r\nQ 2250 441 2565 725 \r\nQ 2881 1009 2881 1497 \r\nQ 2881 1984 2565 2268 \r\nQ 2250 2553 1709 2553 \r\nQ 1456 2553 1204 2497 \r\nQ 953 2441 691 2322 \r\nL 691 4666 \r\nz\r\n\" id=\"DejaVuSans-35\" transform=\"scale(0.015625)\"/>\r\n       </defs>\r\n       <use xlink:href=\"#DejaVuSans-35\"/>\r\n       <use x=\"63.623047\" xlink:href=\"#DejaVuSans-30\"/>\r\n      </g>\r\n     </g>\r\n    </g>\r\n    <g id=\"ytick_3\">\r\n     <g id=\"line2d_5\">\r\n      <g>\r\n       <use style=\"stroke:#000000;stroke-width:0.8;\" x=\"33.2875\" xlink:href=\"#m6915977050\" y=\"144.158961\"/>\r\n      </g>\r\n     </g>\r\n     <g id=\"text_5\">\r\n      <!-- 100 -->\r\n      <g transform=\"translate(7.2 147.95818)scale(0.1 -0.1)\">\r\n       <use xlink:href=\"#DejaVuSans-31\"/>\r\n       <use x=\"63.623047\" xlink:href=\"#DejaVuSans-30\"/>\r\n       <use x=\"127.246094\" xlink:href=\"#DejaVuSans-30\"/>\r\n      </g>\r\n     </g>\r\n    </g>\r\n    <g id=\"ytick_4\">\r\n     <g id=\"line2d_6\">\r\n      <g>\r\n       <use style=\"stroke:#000000;stroke-width:0.8;\" x=\"33.2875\" xlink:href=\"#m6915977050\" y=\"108.86026\"/>\r\n      </g>\r\n     </g>\r\n     <g id=\"text_6\">\r\n      <!-- 150 -->\r\n      <g transform=\"translate(7.2 112.659478)scale(0.1 -0.1)\">\r\n       <use xlink:href=\"#DejaVuSans-31\"/>\r\n       <use x=\"63.623047\" xlink:href=\"#DejaVuSans-35\"/>\r\n       <use x=\"127.246094\" xlink:href=\"#DejaVuSans-30\"/>\r\n      </g>\r\n     </g>\r\n    </g>\r\n    <g id=\"ytick_5\">\r\n     <g id=\"line2d_7\">\r\n      <g>\r\n       <use style=\"stroke:#000000;stroke-width:0.8;\" x=\"33.2875\" xlink:href=\"#m6915977050\" y=\"73.561558\"/>\r\n      </g>\r\n     </g>\r\n     <g id=\"text_7\">\r\n      <!-- 200 -->\r\n      <g transform=\"translate(7.2 77.360777)scale(0.1 -0.1)\">\r\n       <use xlink:href=\"#DejaVuSans-32\"/>\r\n       <use x=\"63.623047\" xlink:href=\"#DejaVuSans-30\"/>\r\n       <use x=\"127.246094\" xlink:href=\"#DejaVuSans-30\"/>\r\n      </g>\r\n     </g>\r\n    </g>\r\n    <g id=\"ytick_6\">\r\n     <g id=\"line2d_8\">\r\n      <g>\r\n       <use style=\"stroke:#000000;stroke-width:0.8;\" x=\"33.2875\" xlink:href=\"#m6915977050\" y=\"38.262857\"/>\r\n      </g>\r\n     </g>\r\n     <g id=\"text_8\">\r\n      <!-- 250 -->\r\n      <g transform=\"translate(7.2 42.062076)scale(0.1 -0.1)\">\r\n       <use xlink:href=\"#DejaVuSans-32\"/>\r\n       <use x=\"63.623047\" xlink:href=\"#DejaVuSans-35\"/>\r\n       <use x=\"127.246094\" xlink:href=\"#DejaVuSans-30\"/>\r\n      </g>\r\n     </g>\r\n    </g>\r\n   </g>\r\n   <g id=\"line2d_9\">\r\n    <path clip-path=\"url(#p3639b0fd9b)\" d=\"M 104.4325 154.748571 \r\nL 129.5425 154.748571 \r\nL 129.5425 134.981299 \r\nL 104.4325 134.981299 \r\nL 104.4325 154.748571 \r\n\" style=\"fill:none;stroke:#000000;stroke-linecap:square;\"/>\r\n   </g>\r\n   <g id=\"line2d_10\">\r\n    <path clip-path=\"url(#p3639b0fd9b)\" d=\"M 116.9875 154.748571 \r\nL 116.9875 164.632208 \r\n\" style=\"fill:none;stroke:#000000;stroke-linecap:square;\"/>\r\n   </g>\r\n   <g id=\"line2d_11\">\r\n    <path clip-path=\"url(#p3639b0fd9b)\" d=\"M 116.9875 134.981299 \r\nL 116.9875 113.802078 \r\n\" style=\"fill:none;stroke:#000000;stroke-linecap:square;\"/>\r\n   </g>\r\n   <g id=\"line2d_12\">\r\n    <path clip-path=\"url(#p3639b0fd9b)\" d=\"M 110.71 164.632208 \r\nL 123.265 164.632208 \r\n\" style=\"fill:none;stroke:#000000;stroke-linecap:square;\"/>\r\n   </g>\r\n   <g id=\"line2d_13\">\r\n    <path clip-path=\"url(#p3639b0fd9b)\" d=\"M 110.71 113.802078 \r\nL 123.265 113.802078 \r\n\" style=\"fill:none;stroke:#000000;stroke-linecap:square;\"/>\r\n   </g>\r\n   <g id=\"line2d_14\">\r\n    <defs>\r\n     <path d=\"M 0 3 \r\nC 0.795609 3 1.55874 2.683901 2.12132 2.12132 \r\nC 2.683901 1.55874 3 0.795609 3 0 \r\nC 3 -0.795609 2.683901 -1.55874 2.12132 -2.12132 \r\nC 1.55874 -2.683901 0.795609 -3 0 -3 \r\nC -0.795609 -3 -1.55874 -2.683901 -2.12132 -2.12132 \r\nC -2.683901 -1.55874 -3 -0.795609 -3 0 \r\nC -3 0.795609 -2.683901 1.55874 -2.12132 2.12132 \r\nC -1.55874 2.683901 -0.795609 3 0 3 \r\nz\r\n\" id=\"m2ce51f4cc1\" style=\"stroke:#000000;\"/>\r\n    </defs>\r\n    <g clip-path=\"url(#p3639b0fd9b)\">\r\n     <use style=\"fill-opacity:0;stroke:#000000;\" x=\"116.9875\" xlink:href=\"#m2ce51f4cc1\" y=\"214.756364\"/>\r\n    </g>\r\n   </g>\r\n   <g id=\"line2d_15\">\r\n    <path clip-path=\"url(#p3639b0fd9b)\" d=\"M 271.8325 135.510779 \r\nL 296.9425 135.510779 \r\nL 296.9425 62.265974 \r\nL 271.8325 62.265974 \r\nL 271.8325 135.510779 \r\n\" style=\"fill:none;stroke:#000000;stroke-linecap:square;\"/>\r\n   </g>\r\n   <g id=\"line2d_16\">\r\n    <path clip-path=\"url(#p3639b0fd9b)\" d=\"M 284.3875 135.510779 \r\nL 284.3875 173.103896 \r\n\" style=\"fill:none;stroke:#000000;stroke-linecap:square;\"/>\r\n   </g>\r\n   <g id=\"line2d_17\">\r\n    <path clip-path=\"url(#p3639b0fd9b)\" d=\"M 284.3875 62.265974 \r\nL 284.3875 17.083636 \r\n\" style=\"fill:none;stroke:#000000;stroke-linecap:square;\"/>\r\n   </g>\r\n   <g id=\"line2d_18\">\r\n    <path clip-path=\"url(#p3639b0fd9b)\" d=\"M 278.11 173.103896 \r\nL 290.665 173.103896 \r\n\" style=\"fill:none;stroke:#000000;stroke-linecap:square;\"/>\r\n   </g>\r\n   <g id=\"line2d_19\">\r\n    <path clip-path=\"url(#p3639b0fd9b)\" d=\"M 278.11 17.083636 \r\nL 290.665 17.083636 \r\n\" style=\"fill:none;stroke:#000000;stroke-linecap:square;\"/>\r\n   </g>\r\n   <g id=\"line2d_20\"/>\r\n   <g id=\"line2d_21\">\r\n    <path clip-path=\"url(#p3639b0fd9b)\" d=\"M 104.4325 154.042597 \r\nL 129.5425 154.042597 \r\n\" style=\"fill:none;stroke:#ff7f0e;stroke-linecap:square;\"/>\r\n   </g>\r\n   <g id=\"line2d_22\">\r\n    <path clip-path=\"url(#p3639b0fd9b)\" d=\"M 271.8325 104.271429 \r\nL 296.9425 104.271429 \r\n\" style=\"fill:none;stroke:#ff7f0e;stroke-linecap:square;\"/>\r\n   </g>\r\n   <g id=\"patch_3\">\r\n    <path d=\"M 33.2875 224.64 \r\nL 33.2875 7.2 \r\n\" style=\"fill:none;stroke:#000000;stroke-linecap:square;stroke-linejoin:miter;stroke-width:0.8;\"/>\r\n   </g>\r\n   <g id=\"patch_4\">\r\n    <path d=\"M 368.0875 224.64 \r\nL 368.0875 7.2 \r\n\" style=\"fill:none;stroke:#000000;stroke-linecap:square;stroke-linejoin:miter;stroke-width:0.8;\"/>\r\n   </g>\r\n   <g id=\"patch_5\">\r\n    <path d=\"M 33.2875 224.64 \r\nL 368.0875 224.64 \r\n\" style=\"fill:none;stroke:#000000;stroke-linecap:square;stroke-linejoin:miter;stroke-width:0.8;\"/>\r\n   </g>\r\n   <g id=\"patch_6\">\r\n    <path d=\"M 33.2875 7.2 \r\nL 368.0875 7.2 \r\n\" style=\"fill:none;stroke:#000000;stroke-linecap:square;stroke-linejoin:miter;stroke-width:0.8;\"/>\r\n   </g>\r\n  </g>\r\n </g>\r\n <defs>\r\n  <clipPath id=\"p3639b0fd9b\">\r\n   <rect height=\"217.44\" width=\"334.8\" x=\"33.2875\" y=\"7.2\"/>\r\n  </clipPath>\r\n </defs>\r\n</svg>\r\n",
      "image/png": "[encoded data removed]"
     },
     "metadata": {
      "needs_background": "light"
     }
    }
   ],
   "metadata": {}
  },
  {
   "cell_type": "code",
   "execution_count": 49,
   "source": [
    "Q1_3 = np.percentile(corr_test_df[\"c_X\"] , 25) \r\n",
    "Q3_3 = np.percentile(corr_test_df[\"c_X\"] , 75) \r\n",
    "IQR_3 = Q3_3 - Q1_3 \r\n",
    "outlier_step_3 = 1.5 * IQR_3\r\n",
    "\r\n",
    "outlier_step_3"
   ],
   "outputs": [
    {
     "output_type": "execute_result",
     "data": {
      "text/plain": [
       "42.0"
      ]
     },
     "metadata": {},
     "execution_count": 49
    }
   ],
   "metadata": {}
  },
  {
   "cell_type": "code",
   "execution_count": 50,
   "source": [
    "c_t_X = (corr_test_df < Q1_3 - outlier_step_3) | (corr_test_df > Q3_3 + outlier_step_3)\r\n",
    "c_t_X = c_t_X.any(axis=1)\r\n",
    "searcht_df = corr_test_df[c_t_X]\r\n",
    "print(searcht_df)"
   ],
   "outputs": [
    {
     "output_type": "stream",
     "name": "stdout",
     "text": [
      "    c_X  c_Y\n",
      "0   114  280\n",
      "1   114  280\n",
      "2    85  248\n",
      "3   114  248\n",
      "4    86  184\n",
      "..  ...  ...\n",
      "57  114  208\n",
      "58  114  256\n",
      "59  114  256\n",
      "60   99  159\n",
      "83    0   59\n",
      "\n",
      "[62 rows x 2 columns]\n"
     ]
    }
   ],
   "metadata": {}
  },
  {
   "cell_type": "code",
   "execution_count": 51,
   "source": [
    "corr_test_df = corr_test_df.drop(searcht_df.index, axis=0)\r\n",
    "print(corr_test_df)"
   ],
   "outputs": [
    {
     "output_type": "stream",
     "name": "stdout",
     "text": [
      "     c_X  c_Y\n",
      "61    99  154\n",
      "62    85  128\n",
      "63    85  133\n",
      "64    85  133\n",
      "65    85  133\n",
      "66   100  144\n",
      "67    86  144\n",
      "68    72  118\n",
      "69    71  107\n",
      "70    71  123\n",
      "71    72  129\n",
      "72    71  112\n",
      "73    86  113\n",
      "74    86  112\n",
      "75    86  118\n",
      "76    85  139\n",
      "77    85  150\n",
      "78    85  144\n",
      "79    85  133\n",
      "80    71  123\n",
      "81    85  123\n",
      "82    72   64\n",
      "84    86  123\n",
      "85    86  128\n",
      "86    71  123\n",
      "87    71  112\n",
      "88    85  133\n",
      "89    86  138\n",
      "90    71  144\n",
      "91    71  133\n",
      "92    71  101\n",
      "93    71  101\n",
      "94    71  101\n",
      "95    85  106\n",
      "96    71   96\n",
      "97    71   96\n",
      "98    85  106\n",
      "99    86  112\n",
      "100   86  138\n",
      "101   86  133\n",
      "102   85  117\n",
      "103   85  112\n",
      "104   86  112\n",
      "105   86  112\n",
      "106   85  107\n",
      "107   85  102\n",
      "108   86   86\n",
      "109   86   91\n",
      "110   85   86\n",
      "111   85   75\n",
      "112   86   80\n",
      "113   85   91\n",
      "114   85   96\n",
      "115   86   95\n",
      "116   86   85\n",
      "117   85   85\n",
      "118   85   75\n",
      "119   85   75\n",
      "120   86  122\n",
      "121   86  122\n"
     ]
    }
   ],
   "metadata": {}
  },
  {
   "cell_type": "code",
   "execution_count": 53,
   "source": [
    "corr_test_label = [\"0\" for i in range(len(corr_test_df))]\r\n",
    "corr_test_label = pd.DataFrame(corr_test_label, columns=[\"labels\"])"
   ],
   "outputs": [],
   "metadata": {}
  },
  {
   "cell_type": "code",
   "execution_count": 54,
   "source": [
    "corr_test_data = corr_test_df.join(corr_test_label, how=\"right\")"
   ],
   "outputs": [],
   "metadata": {}
  },
  {
   "cell_type": "code",
   "execution_count": 59,
   "source": [
    "corr_test_data.columns = [\"x_data\", \"y_data\", \"labels\"]\r\n",
    "corr_test_data"
   ],
   "outputs": [
    {
     "output_type": "execute_result",
     "data": {
      "text/plain": [
       "     x_data  y_data labels\n",
       "0       114     280      0\n",
       "1       114     280      0\n",
       "2        85     248      0\n",
       "3       114     248      0\n",
       "4        86     184      0\n",
       "..      ...     ...    ...\n",
       "117      85      85      0\n",
       "118      85      75      0\n",
       "119      85      75      0\n",
       "120      86     122      0\n",
       "121      86     122      0\n",
       "\n",
       "[122 rows x 3 columns]"
      ],
      "text/html": [
       "<div>\n",
       "<style scoped>\n",
       "    .dataframe tbody tr th:only-of-type {\n",
       "        vertical-align: middle;\n",
       "    }\n",
       "\n",
       "    .dataframe tbody tr th {\n",
       "        vertical-align: top;\n",
       "    }\n",
       "\n",
       "    .dataframe thead th {\n",
       "        text-align: right;\n",
       "    }\n",
       "</style>\n",
       "<table border=\"1\" class=\"dataframe\">\n",
       "  <thead>\n",
       "    <tr style=\"text-align: right;\">\n",
       "      <th></th>\n",
       "      <th>x_data</th>\n",
       "      <th>y_data</th>\n",
       "      <th>labels</th>\n",
       "    </tr>\n",
       "  </thead>\n",
       "  <tbody>\n",
       "    <tr>\n",
       "      <th>0</th>\n",
       "      <td>114</td>\n",
       "      <td>280</td>\n",
       "      <td>0</td>\n",
       "    </tr>\n",
       "    <tr>\n",
       "      <th>1</th>\n",
       "      <td>114</td>\n",
       "      <td>280</td>\n",
       "      <td>0</td>\n",
       "    </tr>\n",
       "    <tr>\n",
       "      <th>2</th>\n",
       "      <td>85</td>\n",
       "      <td>248</td>\n",
       "      <td>0</td>\n",
       "    </tr>\n",
       "    <tr>\n",
       "      <th>3</th>\n",
       "      <td>114</td>\n",
       "      <td>248</td>\n",
       "      <td>0</td>\n",
       "    </tr>\n",
       "    <tr>\n",
       "      <th>4</th>\n",
       "      <td>86</td>\n",
       "      <td>184</td>\n",
       "      <td>0</td>\n",
       "    </tr>\n",
       "    <tr>\n",
       "      <th>...</th>\n",
       "      <td>...</td>\n",
       "      <td>...</td>\n",
       "      <td>...</td>\n",
       "    </tr>\n",
       "    <tr>\n",
       "      <th>117</th>\n",
       "      <td>85</td>\n",
       "      <td>85</td>\n",
       "      <td>0</td>\n",
       "    </tr>\n",
       "    <tr>\n",
       "      <th>118</th>\n",
       "      <td>85</td>\n",
       "      <td>75</td>\n",
       "      <td>0</td>\n",
       "    </tr>\n",
       "    <tr>\n",
       "      <th>119</th>\n",
       "      <td>85</td>\n",
       "      <td>75</td>\n",
       "      <td>0</td>\n",
       "    </tr>\n",
       "    <tr>\n",
       "      <th>120</th>\n",
       "      <td>86</td>\n",
       "      <td>122</td>\n",
       "      <td>0</td>\n",
       "    </tr>\n",
       "    <tr>\n",
       "      <th>121</th>\n",
       "      <td>86</td>\n",
       "      <td>122</td>\n",
       "      <td>0</td>\n",
       "    </tr>\n",
       "  </tbody>\n",
       "</table>\n",
       "<p>122 rows × 3 columns</p>\n",
       "</div>"
      ]
     },
     "metadata": {},
     "execution_count": 59
    }
   ],
   "metadata": {}
  },
  {
   "cell_type": "code",
   "execution_count": 60,
   "source": [
    "# from sklearn.preprocessing import LabelEncoder\r\n",
    "# # LabelEncoder를 객체로 생성한 후 , fit( ) 과 transform( ) 으로 label 인코딩 수행. \r\n",
    "# encoder = LabelEncoder()\r\n",
    "# encoder.fit(corr_test_data[\"labels\"])\r\n",
    "# corr_test_data[\"labels\"] = encoder.transform(corr_test_data[\"labels\"])\r\n",
    "a = corr_test_data.values[: ,:2]"
   ],
   "outputs": [],
   "metadata": {}
  },
  {
   "cell_type": "code",
   "execution_count": 61,
   "source": [
    "corr_pre = model.predict( a)"
   ],
   "outputs": [],
   "metadata": {}
  },
  {
   "cell_type": "code",
   "execution_count": 62,
   "source": [
    "corr_score = metrics.accuracy_score( test_label[:122], corr_pre ) \r\n",
    "print(\"정답률 = \" , corr_score)"
   ],
   "outputs": [
    {
     "output_type": "stream",
     "name": "stdout",
     "text": [
      "정답률 =  0.5819672131147541\n"
     ]
    }
   ],
   "metadata": {}
  },
  {
   "cell_type": "code",
   "execution_count": 63,
   "source": [
    "test_forw_csv = pd.read_csv('test2_forw.csv')"
   ],
   "outputs": [],
   "metadata": {}
  },
  {
   "cell_type": "code",
   "execution_count": 64,
   "source": [
    "test_forw_df = pd.DataFrame(test_forw_csv)"
   ],
   "outputs": [],
   "metadata": {}
  },
  {
   "cell_type": "code",
   "execution_count": 65,
   "source": [
    "# Basic box plot\r\n",
    "import matplotlib.pyplot as plt\r\n",
    "%matplotlib inline \r\n",
    "\r\n",
    "\r\n",
    "c = plt.boxplot(test_forw_df)\r\n",
    "plt.show()"
   ],
   "outputs": [
    {
     "output_type": "display_data",
     "data": {
      "text/plain": [
       "<Figure size 432x288 with 1 Axes>"
      ],
      "image/svg+xml": "<?xml version=\"1.0\" encoding=\"utf-8\" standalone=\"no\"?>\r\n<!DOCTYPE svg PUBLIC \"-//W3C//DTD SVG 1.1//EN\"\r\n  \"http://www.w3.org/Graphics/SVG/1.1/DTD/svg11.dtd\">\r\n<svg height=\"248.518125pt\" version=\"1.1\" viewBox=\"0 0 375.2875 248.518125\" width=\"375.2875pt\" xmlns=\"http://www.w3.org/2000/svg\" xmlns:xlink=\"http://www.w3.org/1999/xlink\">\r\n <metadata>\r\n  <rdf:RDF xmlns:cc=\"http://creativecommons.org/ns#\" xmlns:dc=\"http://purl.org/dc/elements/1.1/\" xmlns:rdf=\"http://www.w3.org/1999/02/22-rdf-syntax-ns#\">\r\n   <cc:Work>\r\n    <dc:type rdf:resource=\"http://purl.org/dc/dcmitype/StillImage\"/>\r\n    <dc:date>2021-08-25T13:37:56.343115</dc:date>\r\n    <dc:format>image/svg+xml</dc:format>\r\n    <dc:creator>\r\n     <cc:Agent>\r\n      <dc:title>Matplotlib v3.4.2, https://matplotlib.org/</dc:title>\r\n     </cc:Agent>\r\n    </dc:creator>\r\n   </cc:Work>\r\n  </rdf:RDF>\r\n </metadata>\r\n <defs>\r\n  <style type=\"text/css\">*{stroke-linecap:butt;stroke-linejoin:round;}</style>\r\n </defs>\r\n <g id=\"figure_1\">\r\n  <g id=\"patch_1\">\r\n   <path d=\"M 0 248.518125 \r\nL 375.2875 248.518125 \r\nL 375.2875 0 \r\nL 0 0 \r\nz\r\n\" style=\"fill:none;\"/>\r\n  </g>\r\n  <g id=\"axes_1\">\r\n   <g id=\"patch_2\">\r\n    <path d=\"M 33.2875 224.64 \r\nL 368.0875 224.64 \r\nL 368.0875 7.2 \r\nL 33.2875 7.2 \r\nz\r\n\" style=\"fill:#ffffff;\"/>\r\n   </g>\r\n   <g id=\"matplotlib.axis_1\">\r\n    <g id=\"xtick_1\">\r\n     <g id=\"line2d_1\">\r\n      <defs>\r\n       <path d=\"M 0 0 \r\nL 0 3.5 \r\n\" id=\"m7db13aa035\" style=\"stroke:#000000;stroke-width:0.8;\"/>\r\n      </defs>\r\n      <g>\r\n       <use style=\"stroke:#000000;stroke-width:0.8;\" x=\"116.9875\" xlink:href=\"#m7db13aa035\" y=\"224.64\"/>\r\n      </g>\r\n     </g>\r\n     <g id=\"text_1\">\r\n      <!-- 1 -->\r\n      <g transform=\"translate(113.80625 239.238437)scale(0.1 -0.1)\">\r\n       <defs>\r\n        <path d=\"M 794 531 \r\nL 1825 531 \r\nL 1825 4091 \r\nL 703 3866 \r\nL 703 4441 \r\nL 1819 4666 \r\nL 2450 4666 \r\nL 2450 531 \r\nL 3481 531 \r\nL 3481 0 \r\nL 794 0 \r\nL 794 531 \r\nz\r\n\" id=\"DejaVuSans-31\" transform=\"scale(0.015625)\"/>\r\n       </defs>\r\n       <use xlink:href=\"#DejaVuSans-31\"/>\r\n      </g>\r\n     </g>\r\n    </g>\r\n    <g id=\"xtick_2\">\r\n     <g id=\"line2d_2\">\r\n      <g>\r\n       <use style=\"stroke:#000000;stroke-width:0.8;\" x=\"284.3875\" xlink:href=\"#m7db13aa035\" y=\"224.64\"/>\r\n      </g>\r\n     </g>\r\n     <g id=\"text_2\">\r\n      <!-- 2 -->\r\n      <g transform=\"translate(281.20625 239.238437)scale(0.1 -0.1)\">\r\n       <defs>\r\n        <path d=\"M 1228 531 \r\nL 3431 531 \r\nL 3431 0 \r\nL 469 0 \r\nL 469 531 \r\nQ 828 903 1448 1529 \r\nQ 2069 2156 2228 2338 \r\nQ 2531 2678 2651 2914 \r\nQ 2772 3150 2772 3378 \r\nQ 2772 3750 2511 3984 \r\nQ 2250 4219 1831 4219 \r\nQ 1534 4219 1204 4116 \r\nQ 875 4013 500 3803 \r\nL 500 4441 \r\nQ 881 4594 1212 4672 \r\nQ 1544 4750 1819 4750 \r\nQ 2544 4750 2975 4387 \r\nQ 3406 4025 3406 3419 \r\nQ 3406 3131 3298 2873 \r\nQ 3191 2616 2906 2266 \r\nQ 2828 2175 2409 1742 \r\nQ 1991 1309 1228 531 \r\nz\r\n\" id=\"DejaVuSans-32\" transform=\"scale(0.015625)\"/>\r\n       </defs>\r\n       <use xlink:href=\"#DejaVuSans-32\"/>\r\n      </g>\r\n     </g>\r\n    </g>\r\n   </g>\r\n   <g id=\"matplotlib.axis_2\">\r\n    <g id=\"ytick_1\">\r\n     <g id=\"line2d_3\">\r\n      <defs>\r\n       <path d=\"M 0 0 \r\nL -3.5 0 \r\n\" id=\"me1eb14b900\" style=\"stroke:#000000;stroke-width:0.8;\"/>\r\n      </defs>\r\n      <g>\r\n       <use style=\"stroke:#000000;stroke-width:0.8;\" x=\"33.2875\" xlink:href=\"#me1eb14b900\" y=\"214.756364\"/>\r\n      </g>\r\n     </g>\r\n     <g id=\"text_3\">\r\n      <!-- 0 -->\r\n      <g transform=\"translate(19.925 218.555582)scale(0.1 -0.1)\">\r\n       <defs>\r\n        <path d=\"M 2034 4250 \r\nQ 1547 4250 1301 3770 \r\nQ 1056 3291 1056 2328 \r\nQ 1056 1369 1301 889 \r\nQ 1547 409 2034 409 \r\nQ 2525 409 2770 889 \r\nQ 3016 1369 3016 2328 \r\nQ 3016 3291 2770 3770 \r\nQ 2525 4250 2034 4250 \r\nz\r\nM 2034 4750 \r\nQ 2819 4750 3233 4129 \r\nQ 3647 3509 3647 2328 \r\nQ 3647 1150 3233 529 \r\nQ 2819 -91 2034 -91 \r\nQ 1250 -91 836 529 \r\nQ 422 1150 422 2328 \r\nQ 422 3509 836 4129 \r\nQ 1250 4750 2034 4750 \r\nz\r\n\" id=\"DejaVuSans-30\" transform=\"scale(0.015625)\"/>\r\n       </defs>\r\n       <use xlink:href=\"#DejaVuSans-30\"/>\r\n      </g>\r\n     </g>\r\n    </g>\r\n    <g id=\"ytick_2\">\r\n     <g id=\"line2d_4\">\r\n      <g>\r\n       <use style=\"stroke:#000000;stroke-width:0.8;\" x=\"33.2875\" xlink:href=\"#me1eb14b900\" y=\"179.457662\"/>\r\n      </g>\r\n     </g>\r\n     <g id=\"text_4\">\r\n      <!-- 50 -->\r\n      <g transform=\"translate(13.5625 183.256881)scale(0.1 -0.1)\">\r\n       <defs>\r\n        <path d=\"M 691 4666 \r\nL 3169 4666 \r\nL 3169 4134 \r\nL 1269 4134 \r\nL 1269 2991 \r\nQ 1406 3038 1543 3061 \r\nQ 1681 3084 1819 3084 \r\nQ 2600 3084 3056 2656 \r\nQ 3513 2228 3513 1497 \r\nQ 3513 744 3044 326 \r\nQ 2575 -91 1722 -91 \r\nQ 1428 -91 1123 -41 \r\nQ 819 9 494 109 \r\nL 494 744 \r\nQ 775 591 1075 516 \r\nQ 1375 441 1709 441 \r\nQ 2250 441 2565 725 \r\nQ 2881 1009 2881 1497 \r\nQ 2881 1984 2565 2268 \r\nQ 2250 2553 1709 2553 \r\nQ 1456 2553 1204 2497 \r\nQ 953 2441 691 2322 \r\nL 691 4666 \r\nz\r\n\" id=\"DejaVuSans-35\" transform=\"scale(0.015625)\"/>\r\n       </defs>\r\n       <use xlink:href=\"#DejaVuSans-35\"/>\r\n       <use x=\"63.623047\" xlink:href=\"#DejaVuSans-30\"/>\r\n      </g>\r\n     </g>\r\n    </g>\r\n    <g id=\"ytick_3\">\r\n     <g id=\"line2d_5\">\r\n      <g>\r\n       <use style=\"stroke:#000000;stroke-width:0.8;\" x=\"33.2875\" xlink:href=\"#me1eb14b900\" y=\"144.158961\"/>\r\n      </g>\r\n     </g>\r\n     <g id=\"text_5\">\r\n      <!-- 100 -->\r\n      <g transform=\"translate(7.2 147.95818)scale(0.1 -0.1)\">\r\n       <use xlink:href=\"#DejaVuSans-31\"/>\r\n       <use x=\"63.623047\" xlink:href=\"#DejaVuSans-30\"/>\r\n       <use x=\"127.246094\" xlink:href=\"#DejaVuSans-30\"/>\r\n      </g>\r\n     </g>\r\n    </g>\r\n    <g id=\"ytick_4\">\r\n     <g id=\"line2d_6\">\r\n      <g>\r\n       <use style=\"stroke:#000000;stroke-width:0.8;\" x=\"33.2875\" xlink:href=\"#me1eb14b900\" y=\"108.86026\"/>\r\n      </g>\r\n     </g>\r\n     <g id=\"text_6\">\r\n      <!-- 150 -->\r\n      <g transform=\"translate(7.2 112.659478)scale(0.1 -0.1)\">\r\n       <use xlink:href=\"#DejaVuSans-31\"/>\r\n       <use x=\"63.623047\" xlink:href=\"#DejaVuSans-35\"/>\r\n       <use x=\"127.246094\" xlink:href=\"#DejaVuSans-30\"/>\r\n      </g>\r\n     </g>\r\n    </g>\r\n    <g id=\"ytick_5\">\r\n     <g id=\"line2d_7\">\r\n      <g>\r\n       <use style=\"stroke:#000000;stroke-width:0.8;\" x=\"33.2875\" xlink:href=\"#me1eb14b900\" y=\"73.561558\"/>\r\n      </g>\r\n     </g>\r\n     <g id=\"text_7\">\r\n      <!-- 200 -->\r\n      <g transform=\"translate(7.2 77.360777)scale(0.1 -0.1)\">\r\n       <use xlink:href=\"#DejaVuSans-32\"/>\r\n       <use x=\"63.623047\" xlink:href=\"#DejaVuSans-30\"/>\r\n       <use x=\"127.246094\" xlink:href=\"#DejaVuSans-30\"/>\r\n      </g>\r\n     </g>\r\n    </g>\r\n    <g id=\"ytick_6\">\r\n     <g id=\"line2d_8\">\r\n      <g>\r\n       <use style=\"stroke:#000000;stroke-width:0.8;\" x=\"33.2875\" xlink:href=\"#me1eb14b900\" y=\"38.262857\"/>\r\n      </g>\r\n     </g>\r\n     <g id=\"text_8\">\r\n      <!-- 250 -->\r\n      <g transform=\"translate(7.2 42.062076)scale(0.1 -0.1)\">\r\n       <use xlink:href=\"#DejaVuSans-32\"/>\r\n       <use x=\"63.623047\" xlink:href=\"#DejaVuSans-35\"/>\r\n       <use x=\"127.246094\" xlink:href=\"#DejaVuSans-30\"/>\r\n      </g>\r\n     </g>\r\n    </g>\r\n   </g>\r\n   <g id=\"line2d_9\">\r\n    <path clip-path=\"url(#p7395b30bb4)\" d=\"M 104.4325 154.748571 \r\nL 129.5425 154.748571 \r\nL 129.5425 134.981299 \r\nL 104.4325 134.981299 \r\nL 104.4325 154.748571 \r\n\" style=\"fill:none;stroke:#000000;stroke-linecap:square;\"/>\r\n   </g>\r\n   <g id=\"line2d_10\">\r\n    <path clip-path=\"url(#p7395b30bb4)\" d=\"M 116.9875 154.748571 \r\nL 116.9875 164.632208 \r\n\" style=\"fill:none;stroke:#000000;stroke-linecap:square;\"/>\r\n   </g>\r\n   <g id=\"line2d_11\">\r\n    <path clip-path=\"url(#p7395b30bb4)\" d=\"M 116.9875 134.981299 \r\nL 116.9875 113.802078 \r\n\" style=\"fill:none;stroke:#000000;stroke-linecap:square;\"/>\r\n   </g>\r\n   <g id=\"line2d_12\">\r\n    <path clip-path=\"url(#p7395b30bb4)\" d=\"M 110.71 164.632208 \r\nL 123.265 164.632208 \r\n\" style=\"fill:none;stroke:#000000;stroke-linecap:square;\"/>\r\n   </g>\r\n   <g id=\"line2d_13\">\r\n    <path clip-path=\"url(#p7395b30bb4)\" d=\"M 110.71 113.802078 \r\nL 123.265 113.802078 \r\n\" style=\"fill:none;stroke:#000000;stroke-linecap:square;\"/>\r\n   </g>\r\n   <g id=\"line2d_14\">\r\n    <defs>\r\n     <path d=\"M 0 3 \r\nC 0.795609 3 1.55874 2.683901 2.12132 2.12132 \r\nC 2.683901 1.55874 3 0.795609 3 0 \r\nC 3 -0.795609 2.683901 -1.55874 2.12132 -2.12132 \r\nC 1.55874 -2.683901 0.795609 -3 0 -3 \r\nC -0.795609 -3 -1.55874 -2.683901 -2.12132 -2.12132 \r\nC -2.683901 -1.55874 -3 -0.795609 -3 0 \r\nC -3 0.795609 -2.683901 1.55874 -2.12132 2.12132 \r\nC -1.55874 2.683901 -0.795609 3 0 3 \r\nz\r\n\" id=\"maa13548b2b\" style=\"stroke:#000000;\"/>\r\n    </defs>\r\n    <g clip-path=\"url(#p7395b30bb4)\">\r\n     <use style=\"fill-opacity:0;stroke:#000000;\" x=\"116.9875\" xlink:href=\"#maa13548b2b\" y=\"214.756364\"/>\r\n    </g>\r\n   </g>\r\n   <g id=\"line2d_15\">\r\n    <path clip-path=\"url(#p7395b30bb4)\" d=\"M 271.8325 135.510779 \r\nL 296.9425 135.510779 \r\nL 296.9425 62.265974 \r\nL 271.8325 62.265974 \r\nL 271.8325 135.510779 \r\n\" style=\"fill:none;stroke:#000000;stroke-linecap:square;\"/>\r\n   </g>\r\n   <g id=\"line2d_16\">\r\n    <path clip-path=\"url(#p7395b30bb4)\" d=\"M 284.3875 135.510779 \r\nL 284.3875 173.103896 \r\n\" style=\"fill:none;stroke:#000000;stroke-linecap:square;\"/>\r\n   </g>\r\n   <g id=\"line2d_17\">\r\n    <path clip-path=\"url(#p7395b30bb4)\" d=\"M 284.3875 62.265974 \r\nL 284.3875 17.083636 \r\n\" style=\"fill:none;stroke:#000000;stroke-linecap:square;\"/>\r\n   </g>\r\n   <g id=\"line2d_18\">\r\n    <path clip-path=\"url(#p7395b30bb4)\" d=\"M 278.11 173.103896 \r\nL 290.665 173.103896 \r\n\" style=\"fill:none;stroke:#000000;stroke-linecap:square;\"/>\r\n   </g>\r\n   <g id=\"line2d_19\">\r\n    <path clip-path=\"url(#p7395b30bb4)\" d=\"M 278.11 17.083636 \r\nL 290.665 17.083636 \r\n\" style=\"fill:none;stroke:#000000;stroke-linecap:square;\"/>\r\n   </g>\r\n   <g id=\"line2d_20\"/>\r\n   <g id=\"line2d_21\">\r\n    <path clip-path=\"url(#p7395b30bb4)\" d=\"M 104.4325 154.042597 \r\nL 129.5425 154.042597 \r\n\" style=\"fill:none;stroke:#ff7f0e;stroke-linecap:square;\"/>\r\n   </g>\r\n   <g id=\"line2d_22\">\r\n    <path clip-path=\"url(#p7395b30bb4)\" d=\"M 271.8325 104.271429 \r\nL 296.9425 104.271429 \r\n\" style=\"fill:none;stroke:#ff7f0e;stroke-linecap:square;\"/>\r\n   </g>\r\n   <g id=\"patch_3\">\r\n    <path d=\"M 33.2875 224.64 \r\nL 33.2875 7.2 \r\n\" style=\"fill:none;stroke:#000000;stroke-linecap:square;stroke-linejoin:miter;stroke-width:0.8;\"/>\r\n   </g>\r\n   <g id=\"patch_4\">\r\n    <path d=\"M 368.0875 224.64 \r\nL 368.0875 7.2 \r\n\" style=\"fill:none;stroke:#000000;stroke-linecap:square;stroke-linejoin:miter;stroke-width:0.8;\"/>\r\n   </g>\r\n   <g id=\"patch_5\">\r\n    <path d=\"M 33.2875 224.64 \r\nL 368.0875 224.64 \r\n\" style=\"fill:none;stroke:#000000;stroke-linecap:square;stroke-linejoin:miter;stroke-width:0.8;\"/>\r\n   </g>\r\n   <g id=\"patch_6\">\r\n    <path d=\"M 33.2875 7.2 \r\nL 368.0875 7.2 \r\n\" style=\"fill:none;stroke:#000000;stroke-linecap:square;stroke-linejoin:miter;stroke-width:0.8;\"/>\r\n   </g>\r\n  </g>\r\n </g>\r\n <defs>\r\n  <clipPath id=\"p7395b30bb4\">\r\n   <rect height=\"217.44\" width=\"334.8\" x=\"33.2875\" y=\"7.2\"/>\r\n  </clipPath>\r\n </defs>\r\n</svg>\r\n",
      "image/png": "[encoded data removed]"
     },
     "metadata": {
      "needs_background": "light"
     }
    }
   ],
   "metadata": {}
  },
  {
   "cell_type": "code",
   "execution_count": 66,
   "source": [
    "Q1_4 = np.percentile(test_forw_df , 25) \r\n",
    "Q3_4 = np.percentile(test_forw_df , 75) \r\n",
    "IQR_4 = Q3_4 - Q1_4 \r\n",
    "outlier_step_4 = 1.5 * IQR_4\r\n",
    "\r\n",
    "outlier_step_4"
   ],
   "outputs": [
    {
     "output_type": "execute_result",
     "data": {
      "text/plain": [
       "105.375"
      ]
     },
     "metadata": {},
     "execution_count": 66
    }
   ],
   "metadata": {}
  },
  {
   "cell_type": "code",
   "execution_count": 67,
   "source": [
    "c_t_X = (corr_test_df < Q1_3 - outlier_step_3) | (corr_test_df > Q3_3 + outlier_step_3)\r\n",
    "c_t_X = c_t_X.any(axis=1)\r\n",
    "searcht_df = corr_test_df[c_t_X]\r\n",
    "print(searcht_df)"
   ],
   "outputs": [
    {
     "output_type": "stream",
     "name": "stdout",
     "text": [
      "    c_X  c_Y\n",
      "0   114  280\n",
      "1   114  280\n",
      "2    85  248\n",
      "3   114  248\n",
      "4    86  184\n",
      "..  ...  ...\n",
      "57  114  208\n",
      "58  114  256\n",
      "59  114  256\n",
      "60   99  159\n",
      "83    0   59\n",
      "\n",
      "[62 rows x 2 columns]\n"
     ]
    }
   ],
   "metadata": {}
  },
  {
   "cell_type": "code",
   "execution_count": 68,
   "source": [
    "test_forw_label = [\"1\" for i in range(len(test_forw_df))]\r\n",
    "test_forw_label = pd.DataFrame(test_forw_label, columns=[\"labels\"])"
   ],
   "outputs": [],
   "metadata": {}
  },
  {
   "cell_type": "code",
   "execution_count": 69,
   "source": [
    "test_forw_data = test_forw_df.join(test_forw_label, how=\"right\")"
   ],
   "outputs": [],
   "metadata": {}
  },
  {
   "cell_type": "code",
   "execution_count": 71,
   "source": [
    "test_forw_data.columns = [\"x_data\", \"y_data\", \"labels\"]\r\n",
    "test_forw_data"
   ],
   "outputs": [
    {
     "output_type": "execute_result",
     "data": {
      "text/plain": [
       "     x_data  y_data labels\n",
       "0       114     280      1\n",
       "1       114     280      1\n",
       "2        85     248      1\n",
       "3       114     248      1\n",
       "4        86     184      1\n",
       "..      ...     ...    ...\n",
       "117      85      85      1\n",
       "118      85      75      1\n",
       "119      85      75      1\n",
       "120      86     122      1\n",
       "121      86     122      1\n",
       "\n",
       "[122 rows x 3 columns]"
      ],
      "text/html": [
       "<div>\n",
       "<style scoped>\n",
       "    .dataframe tbody tr th:only-of-type {\n",
       "        vertical-align: middle;\n",
       "    }\n",
       "\n",
       "    .dataframe tbody tr th {\n",
       "        vertical-align: top;\n",
       "    }\n",
       "\n",
       "    .dataframe thead th {\n",
       "        text-align: right;\n",
       "    }\n",
       "</style>\n",
       "<table border=\"1\" class=\"dataframe\">\n",
       "  <thead>\n",
       "    <tr style=\"text-align: right;\">\n",
       "      <th></th>\n",
       "      <th>x_data</th>\n",
       "      <th>y_data</th>\n",
       "      <th>labels</th>\n",
       "    </tr>\n",
       "  </thead>\n",
       "  <tbody>\n",
       "    <tr>\n",
       "      <th>0</th>\n",
       "      <td>114</td>\n",
       "      <td>280</td>\n",
       "      <td>1</td>\n",
       "    </tr>\n",
       "    <tr>\n",
       "      <th>1</th>\n",
       "      <td>114</td>\n",
       "      <td>280</td>\n",
       "      <td>1</td>\n",
       "    </tr>\n",
       "    <tr>\n",
       "      <th>2</th>\n",
       "      <td>85</td>\n",
       "      <td>248</td>\n",
       "      <td>1</td>\n",
       "    </tr>\n",
       "    <tr>\n",
       "      <th>3</th>\n",
       "      <td>114</td>\n",
       "      <td>248</td>\n",
       "      <td>1</td>\n",
       "    </tr>\n",
       "    <tr>\n",
       "      <th>4</th>\n",
       "      <td>86</td>\n",
       "      <td>184</td>\n",
       "      <td>1</td>\n",
       "    </tr>\n",
       "    <tr>\n",
       "      <th>...</th>\n",
       "      <td>...</td>\n",
       "      <td>...</td>\n",
       "      <td>...</td>\n",
       "    </tr>\n",
       "    <tr>\n",
       "      <th>117</th>\n",
       "      <td>85</td>\n",
       "      <td>85</td>\n",
       "      <td>1</td>\n",
       "    </tr>\n",
       "    <tr>\n",
       "      <th>118</th>\n",
       "      <td>85</td>\n",
       "      <td>75</td>\n",
       "      <td>1</td>\n",
       "    </tr>\n",
       "    <tr>\n",
       "      <th>119</th>\n",
       "      <td>85</td>\n",
       "      <td>75</td>\n",
       "      <td>1</td>\n",
       "    </tr>\n",
       "    <tr>\n",
       "      <th>120</th>\n",
       "      <td>86</td>\n",
       "      <td>122</td>\n",
       "      <td>1</td>\n",
       "    </tr>\n",
       "    <tr>\n",
       "      <th>121</th>\n",
       "      <td>86</td>\n",
       "      <td>122</td>\n",
       "      <td>1</td>\n",
       "    </tr>\n",
       "  </tbody>\n",
       "</table>\n",
       "<p>122 rows × 3 columns</p>\n",
       "</div>"
      ]
     },
     "metadata": {},
     "execution_count": 71
    }
   ],
   "metadata": {}
  },
  {
   "cell_type": "code",
   "execution_count": 72,
   "source": [
    "\r\n",
    "# LabelEncoder를 객체로 생성한 후 , fit( ) 과 transform( ) 으로 label 인코딩 수행. \r\n",
    "# encoder = LabelEncoder()\r\n",
    "# encoder.fit(test_forw_data[\"labels\"])\r\n",
    "# test_forw_data[\"labels\"] = encoder.transform(test_forw_data[\"labels\"])\r\n",
    "b = test_forw_data.values[: ,:2]"
   ],
   "outputs": [],
   "metadata": {}
  },
  {
   "cell_type": "code",
   "execution_count": 73,
   "source": [
    "forw_pre = model.predict(b)"
   ],
   "outputs": [],
   "metadata": {}
  },
  {
   "cell_type": "code",
   "execution_count": 74,
   "source": [
    "forw_score = metrics.accuracy_score( test_label[:122], forw_pre ) \r\n",
    "print(\"정답률 = \" , forw_score)"
   ],
   "outputs": [
    {
     "output_type": "stream",
     "name": "stdout",
     "text": [
      "정답률 =  0.5819672131147541\n"
     ]
    }
   ],
   "metadata": {}
  },
  {
   "cell_type": "code",
   "execution_count": 75,
   "source": [
    "total_test = pd.concat([corr_test_data,test_forw_data]); total_test"
   ],
   "outputs": [
    {
     "output_type": "execute_result",
     "data": {
      "text/plain": [
       "     x_data  y_data labels\n",
       "0       114     280      0\n",
       "1       114     280      0\n",
       "2        85     248      0\n",
       "3       114     248      0\n",
       "4        86     184      0\n",
       "..      ...     ...    ...\n",
       "117      85      85      1\n",
       "118      85      75      1\n",
       "119      85      75      1\n",
       "120      86     122      1\n",
       "121      86     122      1\n",
       "\n",
       "[244 rows x 3 columns]"
      ],
      "text/html": [
       "<div>\n",
       "<style scoped>\n",
       "    .dataframe tbody tr th:only-of-type {\n",
       "        vertical-align: middle;\n",
       "    }\n",
       "\n",
       "    .dataframe tbody tr th {\n",
       "        vertical-align: top;\n",
       "    }\n",
       "\n",
       "    .dataframe thead th {\n",
       "        text-align: right;\n",
       "    }\n",
       "</style>\n",
       "<table border=\"1\" class=\"dataframe\">\n",
       "  <thead>\n",
       "    <tr style=\"text-align: right;\">\n",
       "      <th></th>\n",
       "      <th>x_data</th>\n",
       "      <th>y_data</th>\n",
       "      <th>labels</th>\n",
       "    </tr>\n",
       "  </thead>\n",
       "  <tbody>\n",
       "    <tr>\n",
       "      <th>0</th>\n",
       "      <td>114</td>\n",
       "      <td>280</td>\n",
       "      <td>0</td>\n",
       "    </tr>\n",
       "    <tr>\n",
       "      <th>1</th>\n",
       "      <td>114</td>\n",
       "      <td>280</td>\n",
       "      <td>0</td>\n",
       "    </tr>\n",
       "    <tr>\n",
       "      <th>2</th>\n",
       "      <td>85</td>\n",
       "      <td>248</td>\n",
       "      <td>0</td>\n",
       "    </tr>\n",
       "    <tr>\n",
       "      <th>3</th>\n",
       "      <td>114</td>\n",
       "      <td>248</td>\n",
       "      <td>0</td>\n",
       "    </tr>\n",
       "    <tr>\n",
       "      <th>4</th>\n",
       "      <td>86</td>\n",
       "      <td>184</td>\n",
       "      <td>0</td>\n",
       "    </tr>\n",
       "    <tr>\n",
       "      <th>...</th>\n",
       "      <td>...</td>\n",
       "      <td>...</td>\n",
       "      <td>...</td>\n",
       "    </tr>\n",
       "    <tr>\n",
       "      <th>117</th>\n",
       "      <td>85</td>\n",
       "      <td>85</td>\n",
       "      <td>1</td>\n",
       "    </tr>\n",
       "    <tr>\n",
       "      <th>118</th>\n",
       "      <td>85</td>\n",
       "      <td>75</td>\n",
       "      <td>1</td>\n",
       "    </tr>\n",
       "    <tr>\n",
       "      <th>119</th>\n",
       "      <td>85</td>\n",
       "      <td>75</td>\n",
       "      <td>1</td>\n",
       "    </tr>\n",
       "    <tr>\n",
       "      <th>120</th>\n",
       "      <td>86</td>\n",
       "      <td>122</td>\n",
       "      <td>1</td>\n",
       "    </tr>\n",
       "    <tr>\n",
       "      <th>121</th>\n",
       "      <td>86</td>\n",
       "      <td>122</td>\n",
       "      <td>1</td>\n",
       "    </tr>\n",
       "  </tbody>\n",
       "</table>\n",
       "<p>244 rows × 3 columns</p>\n",
       "</div>"
      ]
     },
     "metadata": {},
     "execution_count": 75
    }
   ],
   "metadata": {}
  },
  {
   "cell_type": "code",
   "execution_count": 76,
   "source": [
    "total_shuffled = total_test.sample(frac=1)  # row 전체 shuffle\r\n",
    "\r\n",
    "total_shuffled = total_test.sample(frac=1).reset_index(drop=True)  # shuffling하고 index reset"
   ],
   "outputs": [],
   "metadata": {}
  },
  {
   "cell_type": "code",
   "execution_count": 77,
   "source": [
    "total_shuffled.dropna()"
   ],
   "outputs": [
    {
     "output_type": "execute_result",
     "data": {
      "text/plain": [
       "     x_data  y_data labels\n",
       "0        71     112      1\n",
       "1       142     240      0\n",
       "2        85      96      1\n",
       "3        86     184      0\n",
       "4       114     208      1\n",
       "..      ...     ...    ...\n",
       "239      85     128      0\n",
       "240      85     192      0\n",
       "241     114     248      1\n",
       "242      71     101      1\n",
       "243      72      64      0\n",
       "\n",
       "[244 rows x 3 columns]"
      ],
      "text/html": [
       "<div>\n",
       "<style scoped>\n",
       "    .dataframe tbody tr th:only-of-type {\n",
       "        vertical-align: middle;\n",
       "    }\n",
       "\n",
       "    .dataframe tbody tr th {\n",
       "        vertical-align: top;\n",
       "    }\n",
       "\n",
       "    .dataframe thead th {\n",
       "        text-align: right;\n",
       "    }\n",
       "</style>\n",
       "<table border=\"1\" class=\"dataframe\">\n",
       "  <thead>\n",
       "    <tr style=\"text-align: right;\">\n",
       "      <th></th>\n",
       "      <th>x_data</th>\n",
       "      <th>y_data</th>\n",
       "      <th>labels</th>\n",
       "    </tr>\n",
       "  </thead>\n",
       "  <tbody>\n",
       "    <tr>\n",
       "      <th>0</th>\n",
       "      <td>71</td>\n",
       "      <td>112</td>\n",
       "      <td>1</td>\n",
       "    </tr>\n",
       "    <tr>\n",
       "      <th>1</th>\n",
       "      <td>142</td>\n",
       "      <td>240</td>\n",
       "      <td>0</td>\n",
       "    </tr>\n",
       "    <tr>\n",
       "      <th>2</th>\n",
       "      <td>85</td>\n",
       "      <td>96</td>\n",
       "      <td>1</td>\n",
       "    </tr>\n",
       "    <tr>\n",
       "      <th>3</th>\n",
       "      <td>86</td>\n",
       "      <td>184</td>\n",
       "      <td>0</td>\n",
       "    </tr>\n",
       "    <tr>\n",
       "      <th>4</th>\n",
       "      <td>114</td>\n",
       "      <td>208</td>\n",
       "      <td>1</td>\n",
       "    </tr>\n",
       "    <tr>\n",
       "      <th>...</th>\n",
       "      <td>...</td>\n",
       "      <td>...</td>\n",
       "      <td>...</td>\n",
       "    </tr>\n",
       "    <tr>\n",
       "      <th>239</th>\n",
       "      <td>85</td>\n",
       "      <td>128</td>\n",
       "      <td>0</td>\n",
       "    </tr>\n",
       "    <tr>\n",
       "      <th>240</th>\n",
       "      <td>85</td>\n",
       "      <td>192</td>\n",
       "      <td>0</td>\n",
       "    </tr>\n",
       "    <tr>\n",
       "      <th>241</th>\n",
       "      <td>114</td>\n",
       "      <td>248</td>\n",
       "      <td>1</td>\n",
       "    </tr>\n",
       "    <tr>\n",
       "      <th>242</th>\n",
       "      <td>71</td>\n",
       "      <td>101</td>\n",
       "      <td>1</td>\n",
       "    </tr>\n",
       "    <tr>\n",
       "      <th>243</th>\n",
       "      <td>72</td>\n",
       "      <td>64</td>\n",
       "      <td>0</td>\n",
       "    </tr>\n",
       "  </tbody>\n",
       "</table>\n",
       "<p>244 rows × 3 columns</p>\n",
       "</div>"
      ]
     },
     "metadata": {},
     "execution_count": 77
    }
   ],
   "metadata": {}
  },
  {
   "cell_type": "code",
   "execution_count": 78,
   "source": [
    "# encoder = LabelEncoder()\r\n",
    "# encoder.fit(total_shuffled[\"labels\"])\r\n",
    "# total_shuffled[\"labels\"] = encoder.transform(total_shuffled[\"labels\"])\r\n",
    "c = total_shuffled.values[: ,:2]"
   ],
   "outputs": [],
   "metadata": {}
  },
  {
   "cell_type": "code",
   "execution_count": 79,
   "source": [
    "total_pre = model.predict(c)"
   ],
   "outputs": [],
   "metadata": {}
  },
  {
   "cell_type": "code",
   "execution_count": 80,
   "source": [
    "total_score = metrics.accuracy_score( test_label[:244], total_pre ) \r\n",
    "print(\"정답률 = \" , total_score)"
   ],
   "outputs": [
    {
     "output_type": "stream",
     "name": "stdout",
     "text": [
      "정답률 =  0.5491803278688525\n"
     ]
    }
   ],
   "metadata": {}
  },
  {
   "cell_type": "code",
   "execution_count": 82,
   "source": [
    "total_pre1 = model10.predict(c)\r\n",
    "total_score1 = metrics.accuracy_score(test_label[:244], total_pre1)\r\n",
    "print(\"히스트그래디언트부스팅 정답률 = \", total_score1)"
   ],
   "outputs": [
    {
     "output_type": "stream",
     "name": "stdout",
     "text": [
      "히스트그래디언트부스팅 정답률 =  0.5327868852459017\n"
     ]
    }
   ],
   "metadata": {}
  },
  {
   "cell_type": "code",
   "execution_count": 83,
   "source": [
    "total_pre2 = model9.predict(c)\r\n",
    "total_score2 = metrics.accuracy_score(test_label[:244], total_pre2)\r\n",
    "print(\"보팅 하드 정답률 = \", total_score2)"
   ],
   "outputs": [
    {
     "output_type": "stream",
     "name": "stdout",
     "text": [
      "보팅 하드 정답률 =  0.5491803278688525\n"
     ]
    }
   ],
   "metadata": {}
  },
  {
   "cell_type": "code",
   "execution_count": 84,
   "source": [
    "total_pre3 = model4.predict(c)\r\n",
    "total_score3 = metrics.accuracy_score(test_label[:244], total_pre3)\r\n",
    "print(\"앙상블 랜덤포레스트 정답률 = \", total_score3)"
   ],
   "outputs": [
    {
     "output_type": "stream",
     "name": "stdout",
     "text": [
      "앙상블 랜덤포레스트 정답률 =  0.5327868852459017\n"
     ]
    }
   ],
   "metadata": {}
  },
  {
   "cell_type": "code",
   "execution_count": 86,
   "source": [
    "total_pre4 = model8.predict(c)\r\n",
    "total_score4 = metrics.accuracy_score(test_label[:244], total_pre4)\r\n",
    "print(\"스태킹 정답률 = \", total_score4)"
   ],
   "outputs": [
    {
     "output_type": "stream",
     "name": "stdout",
     "text": [
      "스태킹 정답률 =  0.5327868852459017\n"
     ]
    }
   ],
   "metadata": {}
  }
 ],
 "metadata": {
  "colab": {
   "collapsed_sections": [],
   "name": "ex03_iris.ipynb",
   "provenance": []
  },
  "kernelspec": {
   "name": "python3",
   "display_name": "Python 3.8.10 64-bit"
  },
  "language_info": {
   "codemirror_mode": {
    "name": "ipython",
    "version": 3
   },
   "file_extension": ".py",
   "mimetype": "text/x-python",
   "name": "python",
   "nbconvert_exporter": "python",
   "pygments_lexer": "ipython3",
   "version": "3.8.10"
  },
  "interpreter": {
   "hash": "435c7524b81c754d2a38f9b1930a50d7a83318eec9a7b6faab8c4b8cfd59b603"
  }
 },
 "nbformat": 4,
 "nbformat_minor": 1
}