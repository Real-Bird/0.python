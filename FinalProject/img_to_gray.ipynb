{
 "cells": [
  {
   "cell_type": "code",
   "execution_count": 1,
   "source": [
    "import numpy as np\r\n",
    "import cv2 as cv"
   ],
   "outputs": [],
   "metadata": {}
  },
  {
   "cell_type": "code",
   "execution_count": 3,
   "source": [
    "BLUE, GREEN, RED, BLACK, WHITE = (255, 0, 0), (0, 255, 0), (0, 0, 255), (0, 0, 0), (255, 255, 255)\r\n",
    "\r\n",
    "DRAW_BG = {'color' : BLACK, 'val' : 0}\r\n",
    "DRAW_FG = {'color' : WHITE, 'val' : 1}"
   ],
   "outputs": [],
   "metadata": {}
  },
  {
   "cell_type": "code",
   "execution_count": 4,
   "source": [
    "rect = (0, 0, 1, 1)\r\n",
    "\r\n",
    "drawing = False\r\n",
    "rectangle = False\r\n",
    "rect_over = False\r\n",
    "rect_or_mask = 100\r\n",
    "value = DRAW_FG\r\n",
    "thickness = 3"
   ],
   "outputs": [],
   "metadata": {}
  },
  {
   "cell_type": "code",
   "execution_count": 2,
   "source": [
    "def onMouse(event, x, y, flags, param):\r\n",
    "    global ix, iy, img, img2, drawing, value, mask, rectangle\r\n",
    "    global rect, rect_or_mask, rect_over\r\n",
    "\r\n",
    "    if event == cv.EVENT_RBUTTONDOWN:\r\n",
    "        rectangle = True\r\n",
    "        ix, iy = x, y\r\n",
    "    elif event == cv.EVENT_MOUSEMOVE:\r\n",
    "        if rectangle:\r\n",
    "            img = img2.copy()\r\n",
    "            rect = (min(ix, x), min(iy, y), abs(ix-x), abs(iy-y))\r\n",
    "            rect_or_mask = 0\r\n",
    "    elif event == cv.EVENT_RBUTTONUP:\r\n",
    "        rectangle = False\r\n",
    "        rect_over = True\r\n",
    "        cv.rectangle(img, (ix, iy), (x,y), RED, 2)\r\n",
    "        rect = (min(ix, x), min(iy, y), abs(ix-x), abs(iy-y))\r\n",
    "        rect_or_mask = 0\r\n",
    "        print('n:적용하기')\r\n",
    "\r\n",
    "    if event == cv.EVENT_LBUTTONDOWN:\r\n",
    "        if not rect_over:\r\n",
    "            print(\"마우스 왼쪽 버튼을 누른채로 전경이 되는 부분을 선택하세요\")\r\n",
    "        else:\r\n",
    "            drawing = True\r\n",
    "\r\n",
    "            cv.circle(img, (x, y), thickness, value['color'], -1)\r\n",
    "            cv.circle(mask, (x, y), thickness, value['val'], -1)\r\n",
    "\r\n",
    "    elif event == cv.EVENT_MOUSEMOVE:\r\n",
    "        if drawing:\r\n",
    "            cv.circle(img, (x, y), thickness, value['color'], -1)\r\n",
    "            cv.circle(mask, (x, y), thickness, value['val'], -1)\r\n",
    "    elif event == cv.EVENT_LBUTTONUP:\r\n",
    "        if drawing:\r\n",
    "            drawing = False\r\n",
    "            cv.circle(img, (x, y), thickness, value['color'], -1)\r\n",
    "            cv.circle(mask, (x, y), thickness, value['val'], -1)\r\n",
    "\r\n",
    "    return\r\n"
   ],
   "outputs": [],
   "metadata": {}
  },
  {
   "cell_type": "code",
   "execution_count": null,
   "source": [
    "def grabcut(img_path):\r\n",
    "    global ix, iy, img, img2, drawing, value, mask, rectangle\r\n",
    "    global rect, rect_or_mask, rect_over\r\n",
    "\r\n",
    "    img = cv.imread(img_path)\r\n",
    "    img2 = img.copy\r\n",
    "\r\n",
    "    mask = np.zeros(img.shape[:2], dtype=np.uint8)\r\n",
    "    output = np.zeros(img.shape, np.uint8)\r\n",
    "    cv.namedWindow('input')\r\n",
    "    cv.namedWindow('output')\r\n",
    "    cv.setMouseCallback('input', onMouse, param=(img,img2))\r\n",
    "    cv.moveWindow('input', img.shape[1] + 10, 90)\r\n",
    "    print('오른쪽 마우스 버튼을 누르고 영역을 지정한 후 n을 누르세요')\r\n",
    "\r\n",
    "    while True:\r\n",
    "        cv.imshow('output', output)\r\n",
    "        cv.imshow('input', img)\r\n",
    "        k = cv.waitKey(1) & 0xFF\r\n",
    "        if k == 27:\r\n",
    "            break\r\n",
    "        if k == ord('0'):\r\n",
    "            print('왼쪽 마우스로 제거할 부분을 표시한 후 n을 누르세요')\r\n",
    "            value = DRAW_BG\r\n",
    "        elif k == ord('1'):\r\n",
    "            print('왼쪽 마우스로 복원할 부분을 표시한 후 n을 누르세요')\r\n",
    "            value = DRAW_FG\r\n",
    "        elif k == ord('r'):\r\n",
    "            print('리셋합니다.')\r\n",
    "            rect = (0, 0, 1, 1)\r\n",
    "            drawing = False\r\n",
    "            rectangle = False\r\n",
    "            rect_or_mask = 100\r\n",
    "            rect_over = False\r\n",
    "            value = DRAW_FG\r\n",
    "            img = img2.copy()\r\n",
    "            mask = np.zeros(img.shape[:2], dtype=np.uint8)\r\n",
    "            output = np.zeros(img.shape, np.uint8)\r\n",
    "            print('0: 제거배경 선택, 1: 복원 전경 선택, n: 적용하기, r: 리셋')\r\n",
    "        elif k == ord('n'):\r\n",
    "            bgdModel = np.zeros((1, 65), np.float64)\r\n",
    "            fgdModel = np.zeros((1, 65), np.float64)\r\n",
    "\r\n",
    "            if rect_or_mask == 0:\r\n",
    "                cv.grabCut(img2, mask, rect, bgdModel, fgdModel, 1, cv.GC_INIT_WITH_RECT)\r\n",
    "                rect_or_mask = 1\r\n",
    "            elif rect_or_mask == 1:\r\n",
    "                cv.grabCut(img2, mask, rect, bgdModel, fgdModel, 1, cv.GC_INIT_WITH_MASK)\r\n",
    "            print('0: 제거배경 선택, 1: 복원 전경 선택, n: 적용하기, r: 리셋')\r\n",
    "\r\n",
    "        mask2 = np.where((mask==1) + (mask==3), 255, 0).astype('uint8')\r\n",
    "        output = cv.bitwise_and(img, img, mask=mask2)\r\n",
    "        cv.imwrite('cut', img)\r\n",
    "\r\n",
    "    cv.destroyAllWindows()"
   ],
   "outputs": [
    {
     "output_type": "error",
     "ename": "Error",
     "evalue": "Session cannot generate requests",
     "traceback": [
      "Error: Session cannot generate requests",
      "at w.executeCodeCell (c:\\Users\\marbi\\.vscode\\extensions\\ms-toolsai.jupyter-2021.8.1236758218\\out\\client\\extension.js:90:327199)",
      "at w.execute (c:\\Users\\marbi\\.vscode\\extensions\\ms-toolsai.jupyter-2021.8.1236758218\\out\\client\\extension.js:90:326520)",
      "at w.start (c:\\Users\\marbi\\.vscode\\extensions\\ms-toolsai.jupyter-2021.8.1236758218\\out\\client\\extension.js:90:322336)",
      "at processTicksAndRejections (internal/process/task_queues.js:93:5)",
      "at t.CellExecutionQueue.executeQueuedCells (c:\\Users\\marbi\\.vscode\\extensions\\ms-toolsai.jupyter-2021.8.1236758218\\out\\client\\extension.js:90:336863)",
      "at t.CellExecutionQueue.start (c:\\Users\\marbi\\.vscode\\extensions\\ms-toolsai.jupyter-2021.8.1236758218\\out\\client\\extension.js:90:336403)"
     ]
    }
   ],
   "metadata": {}
  },
  {
   "cell_type": "code",
   "execution_count": 7,
   "source": [
    "grabcut('images.jpg')"
   ],
   "outputs": [
    {
     "output_type": "stream",
     "name": "stdout",
     "text": [
      "오른쪽 마우스 버튼을 누르고 영역을 지정한 후 n을 누르세요\n"
     ]
    },
    {
     "output_type": "error",
     "ename": "error",
     "evalue": "OpenCV(4.5.3) D:\\Program Files\\opencv_source\\opencv-4.5.3\\modules\\imgcodecs\\src\\loadsave.cpp:732: error: (-2:Unspecified error) could not find a writer for the specified extension in function 'cv::imwrite_'\n",
     "traceback": [
      "\u001b[1;31m---------------------------------------------------------------------------\u001b[0m",
      "\u001b[1;31merror\u001b[0m                                     Traceback (most recent call last)",
      "\u001b[1;32m~\\AppData\\Local\\Temp/ipykernel_22804/3160471631.py\u001b[0m in \u001b[0;36m<module>\u001b[1;34m\u001b[0m\n\u001b[1;32m----> 1\u001b[1;33m \u001b[0mgrabcut\u001b[0m\u001b[1;33m(\u001b[0m\u001b[1;34m'images.jpg'\u001b[0m\u001b[1;33m)\u001b[0m\u001b[1;33m\u001b[0m\u001b[1;33m\u001b[0m\u001b[0m\n\u001b[0m",
      "\u001b[1;32m~\\AppData\\Local\\Temp/ipykernel_22804/1766600512.py\u001b[0m in \u001b[0;36mgrabcut\u001b[1;34m(img_path)\u001b[0m\n\u001b[0;32m     51\u001b[0m         \u001b[0mmask2\u001b[0m \u001b[1;33m=\u001b[0m \u001b[0mnp\u001b[0m\u001b[1;33m.\u001b[0m\u001b[0mwhere\u001b[0m\u001b[1;33m(\u001b[0m\u001b[1;33m(\u001b[0m\u001b[0mmask\u001b[0m\u001b[1;33m==\u001b[0m\u001b[1;36m1\u001b[0m\u001b[1;33m)\u001b[0m \u001b[1;33m+\u001b[0m \u001b[1;33m(\u001b[0m\u001b[0mmask\u001b[0m\u001b[1;33m==\u001b[0m\u001b[1;36m3\u001b[0m\u001b[1;33m)\u001b[0m\u001b[1;33m,\u001b[0m \u001b[1;36m255\u001b[0m\u001b[1;33m,\u001b[0m \u001b[1;36m0\u001b[0m\u001b[1;33m)\u001b[0m\u001b[1;33m.\u001b[0m\u001b[0mastype\u001b[0m\u001b[1;33m(\u001b[0m\u001b[1;34m'uint8'\u001b[0m\u001b[1;33m)\u001b[0m\u001b[1;33m\u001b[0m\u001b[1;33m\u001b[0m\u001b[0m\n\u001b[0;32m     52\u001b[0m         \u001b[0moutput\u001b[0m \u001b[1;33m=\u001b[0m \u001b[0mcv\u001b[0m\u001b[1;33m.\u001b[0m\u001b[0mbitwise_and\u001b[0m\u001b[1;33m(\u001b[0m\u001b[0mimg\u001b[0m\u001b[1;33m,\u001b[0m \u001b[0mimg\u001b[0m\u001b[1;33m,\u001b[0m \u001b[0mmask\u001b[0m\u001b[1;33m=\u001b[0m\u001b[0mmask2\u001b[0m\u001b[1;33m)\u001b[0m\u001b[1;33m\u001b[0m\u001b[1;33m\u001b[0m\u001b[0m\n\u001b[1;32m---> 53\u001b[1;33m         \u001b[0mcv\u001b[0m\u001b[1;33m.\u001b[0m\u001b[0mimwrite\u001b[0m\u001b[1;33m(\u001b[0m\u001b[1;34m'cut'\u001b[0m\u001b[1;33m,\u001b[0m \u001b[0moutput\u001b[0m\u001b[1;33m)\u001b[0m\u001b[1;33m\u001b[0m\u001b[1;33m\u001b[0m\u001b[0m\n\u001b[0m\u001b[0;32m     54\u001b[0m \u001b[1;33m\u001b[0m\u001b[0m\n\u001b[0;32m     55\u001b[0m     \u001b[0mcv\u001b[0m\u001b[1;33m.\u001b[0m\u001b[0mdestroyAllWindows\u001b[0m\u001b[1;33m(\u001b[0m\u001b[1;33m)\u001b[0m\u001b[1;33m\u001b[0m\u001b[1;33m\u001b[0m\u001b[0m\n",
      "\u001b[1;31merror\u001b[0m: OpenCV(4.5.3) D:\\Program Files\\opencv_source\\opencv-4.5.3\\modules\\imgcodecs\\src\\loadsave.cpp:732: error: (-2:Unspecified error) could not find a writer for the specified extension in function 'cv::imwrite_'\n"
     ]
    }
   ],
   "metadata": {}
  },
  {
   "cell_type": "code",
   "execution_count": null,
   "source": [],
   "outputs": [],
   "metadata": {}
  }
 ],
 "metadata": {
  "orig_nbformat": 4,
  "language_info": {
   "name": "python",
   "version": "3.8.10",
   "mimetype": "text/x-python",
   "codemirror_mode": {
    "name": "ipython",
    "version": 3
   },
   "pygments_lexer": "ipython3",
   "nbconvert_exporter": "python",
   "file_extension": ".py"
  },
  "kernelspec": {
   "name": "python3",
   "display_name": "Python 3.8.10 64-bit"
  },
  "interpreter": {
   "hash": "435c7524b81c754d2a38f9b1930a50d7a83318eec9a7b6faab8c4b8cfd59b603"
  }
 },
 "nbformat": 4,
 "nbformat_minor": 2
}