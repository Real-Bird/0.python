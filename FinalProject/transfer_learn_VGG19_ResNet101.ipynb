{
 "cells": [
  {
   "cell_type": "code",
   "execution_count": null,
   "source": [
    "from tensorflow.keras.applications import ResNet101\r\n",
    "from tensorflow.keras.applications import VGG19\r\n",
    "import tensorflow.keras,os\r\n",
    "from tensorflow.keras.models import Sequential\r\n",
    "from tensorflow.keras.layers import Dense, Conv2D, MaxPool2D , Flatten, Dropout, ZeroPadding2D, GlobalAveragePooling2D, DepthwiseConv2D\r\n",
    "from tensorflow.keras import optimizers\r\n",
    "import numpy as np\r\n",
    "from tensorflow.keras.models import load_model\r\n",
    "import tensorflow as tf\r\n",
    "from tensorflow.keras.preprocessing.image import ImageDataGenerator "
   ],
   "outputs": [],
   "metadata": {}
  },
  {
   "cell_type": "code",
   "execution_count": null,
   "source": [
    "img_shape = (224, 224, 3)\r\n",
    "model = VGG19(include_top=False, weights=None, input_shape=img_shape)\r\n",
    "model.trainable = False"
   ],
   "outputs": [],
   "metadata": {}
  },
  {
   "cell_type": "code",
   "execution_count": null,
   "source": [
    "model1 = ResNet101(include_top=False, weights=None, input_shape=img_shape)\r\n",
    "model1.trainable = False"
   ],
   "outputs": [],
   "metadata": {}
  },
  {
   "cell_type": "code",
   "execution_count": null,
   "source": [
    "tensorflow.keras.layers.concatenate([model, model1])"
   ],
   "outputs": [],
   "metadata": {}
  },
  {
   "cell_type": "code",
   "execution_count": null,
   "source": [
    "model2 = Sequential([model, model1])\r\n",
    "model2.add(ZeroPadding2D())\r\n",
    "model2.add(DepthwiseConv2D(kernel_size=(3,3), strides=(1, 1), padding='valid', depth_multiplier=1))\r\n",
    "model2.add(GlobalAveragePooling2D())\r\n",
    "model2.add(Flatten())\r\n",
    "model2.add(Dense(units=1024,activation=\"relu\"))\r\n",
    "model2.add(Dense(units=1024,activation=\"relu\"))\r\n",
    "model2.add(Dense(units=1, activation=\"sigmoid\"))\r\n",
    "model2.compile(optimizer=optimizers.Adam(learning_rate=0.0001), loss='binary_crossentropy', metrics=['accuracy'])"
   ],
   "outputs": [],
   "metadata": {}
  },
  {
   "cell_type": "code",
   "execution_count": null,
   "source": [
    "model2.trainable = False\r\n",
    "model2.summary()"
   ],
   "outputs": [],
   "metadata": {}
  },
  {
   "cell_type": "code",
   "execution_count": null,
   "source": [
    "model2 = ResNet101(include_top=False, weights=None, input_shape=img_shape)\r\n",
    "model2.trainable = False"
   ],
   "outputs": [],
   "metadata": {}
  },
  {
   "cell_type": "code",
   "execution_count": null,
   "source": [
    "model2 = Sequential([model1])\r\n"
   ],
   "outputs": [],
   "metadata": {}
  },
  {
   "cell_type": "code",
   "execution_count": null,
   "source": [
    "model2.trainable = False\r\n",
    "model2.summary()"
   ],
   "outputs": [],
   "metadata": {}
  },
  {
   "cell_type": "code",
   "execution_count": null,
   "source": [],
   "outputs": [],
   "metadata": {}
  },
  {
   "cell_type": "code",
   "execution_count": null,
   "source": [
    "###########################################################\r\n",
    "# 데이터 전처리\r\n",
    "###########################################################\r\n",
    "\r\n",
    "\r\n",
    "train_datagen = ImageDataGenerator(rescale=1./255)  # 모든 이미지를 1/255로 스케일을 조정합니다\r\n",
    "test_datagen = ImageDataGenerator(rescale=1./255)\r\n",
    "\r\n",
    "train_dir = \"./dataset/train2\"\r\n",
    "validation_dir = './dataset/vali2'\r\n",
    "\r\n",
    "batch_size = 16\r\n",
    "# batch_size = 64\r\n",
    "\r\n",
    "\r\n",
    "train_generator = train_datagen.flow_from_directory( \\\r\n",
    "        train_dir,                  # 타깃 디렉터리\r\n",
    "        target_size=(224, 224),     # 모든 이미지를 224 × 224 크기\r\n",
    "        batch_size=batch_size,\r\n",
    "        class_mode='binary')        #\r\n",
    "\r\n",
    "validation_generator = test_datagen.flow_from_directory(\r\n",
    "        validation_dir,\r\n",
    "        target_size=(224, 224),\r\n",
    "        batch_size=batch_size,\r\n",
    "        class_mode='binary')"
   ],
   "outputs": [],
   "metadata": {}
  },
  {
   "cell_type": "code",
   "execution_count": null,
   "source": [
    "for data_batch, labels_batch in train_generator:\r\n",
    "    print('배치 데이터 크기:', data_batch.shape)  #(20, 150, 150, 3)\r\n",
    "    print('배치 레이블 크기:', labels_batch.shape) #(20,)\r\n",
    "    break"
   ],
   "outputs": [],
   "metadata": {}
  },
  {
   "cell_type": "code",
   "execution_count": null,
   "source": [
    "steps_per_epochs = 50 # 학습데이터의 총 개수 / 배치 사이즈 (소수점 올림)\r\n",
    "epochs = 30\r\n",
    "\r\n",
    "history = model2.fit(\r\n",
    "      train_generator ,\r\n",
    "      steps_per_epoch=steps_per_epochs  ,\r\n",
    "      epochs=epochs ,\r\n",
    "      validation_data=validation_generator,\r\n",
    "      validation_steps=18)"
   ],
   "outputs": [],
   "metadata": {}
  },
  {
   "cell_type": "code",
   "execution_count": null,
   "source": [
    "###########################################################\r\n",
    "# 학습 결과 정확도 및 비용 그래프\r\n",
    "###########################################################\r\n",
    "import matplotlib.pyplot as plt\r\n",
    "acc = history.history['accuracy']\r\n",
    "val_acc = history.history['val_accuracy']\r\n",
    "loss = history.history['loss']\r\n",
    "val_loss = history.history['val_loss']\r\n",
    "\r\n",
    "epochs = range(len(acc))\r\n",
    "plt.plot(epochs, acc, 'bo', label='Training acc')\r\n",
    "plt.plot(epochs, val_acc, 'b', label='Validation acc')\r\n",
    "plt.title('Training and validation accuracy')\r\n",
    "plt.legend()\r\n",
    "plt.figure()\r\n",
    "\r\n",
    "plt.plot(epochs, loss, 'bo', label='Training loss')\r\n",
    "\r\n",
    "plt.plot(epochs, val_loss, 'b', label='Validation loss')\r\n",
    "plt.title('Training and validation loss')\r\n",
    "plt.legend()\r\n",
    "plt.show()"
   ],
   "outputs": [],
   "metadata": {}
  },
  {
   "cell_type": "code",
   "execution_count": null,
   "source": [
    "model2.save(\"./tn_model/vgg_res_v3.h5\")"
   ],
   "outputs": [],
   "metadata": {}
  },
  {
   "cell_type": "code",
   "execution_count": null,
   "source": [],
   "outputs": [],
   "metadata": {}
  }
 ],
 "metadata": {
  "orig_nbformat": 4,
  "language_info": {
   "name": "python",
   "version": "3.8.10",
   "mimetype": "text/x-python",
   "codemirror_mode": {
    "name": "ipython",
    "version": 3
   },
   "pygments_lexer": "ipython3",
   "nbconvert_exporter": "python",
   "file_extension": ".py"
  },
  "kernelspec": {
   "name": "python3",
   "display_name": "Python 3.8.10 64-bit"
  },
  "interpreter": {
   "hash": "435c7524b81c754d2a38f9b1930a50d7a83318eec9a7b6faab8c4b8cfd59b603"
  }
 },
 "nbformat": 4,
 "nbformat_minor": 2
}