{
 "cells": [
  {
   "cell_type": "code",
   "execution_count": 1,
   "source": [
    "from tensorflow.keras.applications import ResNet101\r\n",
    "model1 = ResNet101(include_top=False, weights=None, input_shape=(224,224, 3))\r\n",
    "model1.trainable = False"
   ],
   "outputs": [],
   "metadata": {}
  },
  {
   "cell_type": "code",
   "execution_count": 3,
   "source": [
    "import tensorflow.keras,os\r\n",
    "from tensorflow.keras.models import Sequential\r\n",
    "from tensorflow.keras.layers import Dense, Conv2D, MaxPool2D , Flatten, Dropout, ZeroPadding2D, GlobalAveragePooling2D, DepthwiseConv2D\r\n",
    "from tensorflow.keras import optimizers\r\n",
    "import numpy as np\r\n",
    "from tensorflow.keras.models import load_model\r\n",
    "import tensorflow as tf\r\n",
    "from tensorflow.keras.preprocessing.image import ImageDataGenerator "
   ],
   "outputs": [],
   "metadata": {}
  },
  {
   "cell_type": "code",
   "execution_count": 4,
   "source": [
    "model2 = Sequential([model1])\r\n",
    "model2.add(Flatten())\r\n",
    "model2.add(Dense(units=1024,activation=\"relu\"))\r\n",
    "model2.add(Dense(units=1024,activation=\"relu\"))\r\n",
    "model2.add(Dense(units=1, activation=\"sigmoid\"))\r\n",
    "model2.compile(optimizer=optimizers.Adam(learning_rate=0.0001), loss='binary_crossentropy', metrics=['accuracy'])"
   ],
   "outputs": [],
   "metadata": {}
  },
  {
   "cell_type": "code",
   "execution_count": 9,
   "source": [
    "model2.trainable = False\r\n",
    "model2.summary()"
   ],
   "outputs": [
    {
     "output_type": "stream",
     "name": "stdout",
     "text": [
      "Model: \"sequential\"\n",
      "_________________________________________________________________\n",
      "Layer (type)                 Output Shape              Param #   \n",
      "=================================================================\n",
      "resnet101 (Functional)       (None, 7, 7, 2048)        42658176  \n",
      "_________________________________________________________________\n",
      "flatten (Flatten)            (None, 100352)            0         \n",
      "_________________________________________________________________\n",
      "dense (Dense)                (None, 1024)              102761472 \n",
      "_________________________________________________________________\n",
      "dense_1 (Dense)              (None, 1024)              1049600   \n",
      "_________________________________________________________________\n",
      "dense_2 (Dense)              (None, 1)                 1025      \n",
      "=================================================================\n",
      "Total params: 146,470,273\n",
      "Trainable params: 0\n",
      "Non-trainable params: 146,470,273\n",
      "_________________________________________________________________\n"
     ]
    }
   ],
   "metadata": {}
  },
  {
   "cell_type": "code",
   "execution_count": 6,
   "source": [
    "###########################################################\r\n",
    "# 데이터 전처리\r\n",
    "###########################################################\r\n",
    "\r\n",
    "\r\n",
    "train_datagen = ImageDataGenerator(rescale=1./255)  # 모든 이미지를 1/255로 스케일을 조정합니다\r\n",
    "test_datagen = ImageDataGenerator(rescale=1./255)\r\n",
    "\r\n",
    "train_dir = \"./dataset/train2\"\r\n",
    "validation_dir = './dataset/vali2'\r\n",
    "\r\n",
    "batch_size = 16\r\n",
    "# batch_size = 64\r\n",
    "\r\n",
    "\r\n",
    "train_generator = train_datagen.flow_from_directory( \\\r\n",
    "        train_dir,                  # 타깃 디렉터리\r\n",
    "        target_size=(224, 224),     # 모든 이미지를 224 × 224 크기\r\n",
    "        batch_size=batch_size,\r\n",
    "        class_mode='binary')        #\r\n",
    "\r\n",
    "validation_generator = test_datagen.flow_from_directory(\r\n",
    "        validation_dir,\r\n",
    "        target_size=(224, 224),\r\n",
    "        batch_size=batch_size,\r\n",
    "        class_mode='binary')"
   ],
   "outputs": [
    {
     "output_type": "stream",
     "name": "stdout",
     "text": [
      "Found 802 images belonging to 2 classes.\n",
      "Found 286 images belonging to 2 classes.\n"
     ]
    }
   ],
   "metadata": {}
  },
  {
   "cell_type": "code",
   "execution_count": 7,
   "source": [
    "for data_batch, labels_batch in train_generator:\r\n",
    "    print('배치 데이터 크기:', data_batch.shape)  #(20, 150, 150, 3)\r\n",
    "    print('배치 레이블 크기:', labels_batch.shape) #(20,)\r\n",
    "    break"
   ],
   "outputs": [
    {
     "output_type": "stream",
     "name": "stdout",
     "text": [
      "배치 데이터 크기: (16, 224, 224, 3)\n",
      "배치 레이블 크기: (16,)\n"
     ]
    }
   ],
   "metadata": {}
  },
  {
   "cell_type": "code",
   "execution_count": 10,
   "source": [
    "steps_per_epochs = 50 # 학습데이터의 총 개수 / 배치 사이즈 (소수점 올림)\r\n",
    "epochs = 15\r\n",
    "\r\n",
    "history = model2.fit(\r\n",
    "      train_generator ,\r\n",
    "      steps_per_epoch=steps_per_epochs  ,\r\n",
    "      epochs=epochs ,\r\n",
    "      validation_data=validation_generator,\r\n",
    "      validation_steps=18)"
   ],
   "outputs": [
    {
     "output_type": "stream",
     "name": "stdout",
     "text": [
      "Epoch 1/15\n",
      "50/50 [==============================] - 19s 383ms/step - loss: 0.2580 - accuracy: 0.8880 - val_loss: 1.0791 - val_accuracy: 0.5769\n",
      "Epoch 2/15\n",
      "50/50 [==============================] - 20s 395ms/step - loss: 0.2900 - accuracy: 0.8626 - val_loss: 1.4744 - val_accuracy: 0.5000\n",
      "Epoch 3/15\n",
      "50/50 [==============================] - 20s 407ms/step - loss: 0.2086 - accuracy: 0.9186 - val_loss: 1.1977 - val_accuracy: 0.5629\n",
      "Epoch 4/15\n",
      "50/50 [==============================] - 20s 402ms/step - loss: 0.2497 - accuracy: 0.8944 - val_loss: 2.3086 - val_accuracy: 0.5000\n",
      "Epoch 5/15\n",
      "50/50 [==============================] - 20s 406ms/step - loss: 0.1710 - accuracy: 0.9402 - val_loss: 1.6497 - val_accuracy: 0.5000\n",
      "Epoch 6/15\n",
      "50/50 [==============================] - 20s 409ms/step - loss: 0.1858 - accuracy: 0.9300 - val_loss: 1.5508 - val_accuracy: 0.5175\n",
      "Epoch 7/15\n",
      "50/50 [==============================] - 20s 404ms/step - loss: 0.1417 - accuracy: 0.9529 - val_loss: 1.2425 - val_accuracy: 0.4930\n",
      "Epoch 8/15\n",
      "50/50 [==============================] - 21s 414ms/step - loss: 0.1520 - accuracy: 0.9288 - val_loss: 2.2076 - val_accuracy: 0.5000\n",
      "Epoch 9/15\n",
      "50/50 [==============================] - 20s 409ms/step - loss: 0.1413 - accuracy: 0.9567 - val_loss: 2.0059 - val_accuracy: 0.5000\n",
      "Epoch 10/15\n",
      "50/50 [==============================] - 20s 407ms/step - loss: 0.1070 - accuracy: 0.9682 - val_loss: 1.5386 - val_accuracy: 0.5559\n",
      "Epoch 11/15\n",
      "50/50 [==============================] - 21s 417ms/step - loss: 0.1108 - accuracy: 0.9644 - val_loss: 2.3153 - val_accuracy: 0.5000\n",
      "Epoch 12/15\n",
      "50/50 [==============================] - 21s 423ms/step - loss: 0.1417 - accuracy: 0.9440 - val_loss: 2.1533 - val_accuracy: 0.4825\n",
      "Epoch 13/15\n",
      "50/50 [==============================] - 22s 444ms/step - loss: 0.0800 - accuracy: 0.9847 - val_loss: 2.1413 - val_accuracy: 0.4790\n",
      "Epoch 14/15\n",
      "50/50 [==============================] - 22s 435ms/step - loss: 0.1587 - accuracy: 0.9275 - val_loss: 2.4310 - val_accuracy: 0.5000\n",
      "Epoch 15/15\n",
      "50/50 [==============================] - 21s 424ms/step - loss: 0.1334 - accuracy: 0.9567 - val_loss: 2.1892 - val_accuracy: 0.4790\n"
     ]
    }
   ],
   "metadata": {}
  },
  {
   "cell_type": "code",
   "execution_count": 11,
   "source": [
    "model2.save(\"./tn_model/res.h5\")"
   ],
   "outputs": [
    {
     "output_type": "stream",
     "name": "stderr",
     "text": [
      "D:\\Program Files\\python38\\lib\\site-packages\\tensorflow\\python\\keras\\utils\\generic_utils.py:494: CustomMaskWarning: Custom mask layers require a config and must override get_config. When loading, the custom mask layer must be passed to the custom_objects argument.\n",
      "  warnings.warn('Custom mask layers require a config and must override '\n"
     ]
    }
   ],
   "metadata": {}
  }
 ],
 "metadata": {
  "orig_nbformat": 4,
  "language_info": {
   "name": "python",
   "version": "3.8.10",
   "mimetype": "text/x-python",
   "codemirror_mode": {
    "name": "ipython",
    "version": 3
   },
   "pygments_lexer": "ipython3",
   "nbconvert_exporter": "python",
   "file_extension": ".py"
  },
  "kernelspec": {
   "name": "python3",
   "display_name": "Python 3.8.10 64-bit"
  },
  "interpreter": {
   "hash": "435c7524b81c754d2a38f9b1930a50d7a83318eec9a7b6faab8c4b8cfd59b603"
  }
 },
 "nbformat": 4,
 "nbformat_minor": 2
}