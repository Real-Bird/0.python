{
 "cells": [
  {
   "cell_type": "code",
   "execution_count": 1,
   "source": [
    "from tensorflow.keras.preprocessing import image\r\n",
    "import os\r\n",
    "import numpy as np\r\n",
    "import tensorflow as tf\r\n",
    "from tensorflow.keras.models import load_model    #학습된 모델 로드\r\n",
    "import matplotlib.pyplot as plt"
   ],
   "outputs": [],
   "metadata": {}
  },
  {
   "cell_type": "code",
   "execution_count": 8,
   "source": [
    "######################################################################\r\n",
    "#이미지 전처리\r\n",
    "# 정자세 정밀도\r\n",
    "#######################################################################\r\n",
    "# model = load_model(\"./tn_model/com_last_model.h5\")\r\n",
    "model = load_model(\"./tn_model/inception_v3_last.h5\")"
   ],
   "outputs": [],
   "metadata": {}
  },
  {
   "cell_type": "code",
   "execution_count": 9,
   "source": [
    "img_path = './dataset/corr_test/'\r\n",
    "real_co_cnt = 0\r\n",
    "fake_co_cnt = 0\r\n",
    "\r\n",
    "for n,i in enumerate(os.listdir(img_path)):\r\n",
    "    aa = img_path + i\r\n",
    "    img = image.load_img(aa, target_size =(224, 224))\r\n",
    "    img_tensor = image.img_to_array(img)\r\n",
    "    img_tensor = np.expand_dims(img_tensor, axis=0)\r\n",
    "    img_tensor /= 255.  # 모델이 훈련될 때 입력에 적용한 전처리 방식을 동일하게 사용합니다\r\n",
    "\r\n",
    "    #######################################################################\r\n",
    "\r\n",
    "    result = model.predict( img_tensor ) \r\n",
    "    \r\n",
    "    if (result > 0.5)  :\r\n",
    "    # if (result[0][1] > result[0][0])  :\r\n",
    "        fake_co_cnt += 1\r\n",
    "    else :\r\n",
    "        real_co_cnt += 1"
   ],
   "outputs": [],
   "metadata": {}
  },
  {
   "cell_type": "code",
   "execution_count": 10,
   "source": [
    "print(real_co_cnt)"
   ],
   "outputs": [
    {
     "output_type": "stream",
     "name": "stdout",
     "text": [
      "322\n"
     ]
    }
   ],
   "metadata": {}
  },
  {
   "cell_type": "code",
   "execution_count": 11,
   "source": [
    "print(fake_co_cnt)"
   ],
   "outputs": [
    {
     "output_type": "stream",
     "name": "stdout",
     "text": [
      "10\n"
     ]
    }
   ],
   "metadata": {}
  },
  {
   "cell_type": "code",
   "execution_count": 12,
   "source": [
    "img_path = './dataset/forw_test/'\r\n",
    "real_fo_cnt = 0\r\n",
    "fake_fo_cnt = 0\r\n",
    "\r\n",
    "\r\n",
    "for i in os.listdir(img_path):\r\n",
    "    aa = img_path + i\r\n",
    "    img = image.load_img(aa, target_size =(224, 224))\r\n",
    "    img_tensor = image.img_to_array(img)\r\n",
    "    img_tensor = np.expand_dims(img_tensor, axis=0)\r\n",
    "    img_tensor /= 255.  # 모델이 훈련될 때 입력에 적용한 전처리 방식을 동일하게 사용합니다\r\n",
    "\r\n",
    "    #######################################################################\r\n",
    "\r\n",
    "    result = model.predict( img_tensor ) \r\n",
    "    \r\n",
    "    if (result > 0.5) :\r\n",
    "    # if (result[0][1] > result[0][0])  :\r\n",
    "        real_fo_cnt += 1\r\n",
    "    else :\r\n",
    "        fake_fo_cnt += 1"
   ],
   "outputs": [],
   "metadata": {}
  },
  {
   "cell_type": "code",
   "execution_count": 13,
   "source": [
    "print(fake_fo_cnt)\r\n",
    "print(real_fo_cnt)"
   ],
   "outputs": [
    {
     "output_type": "stream",
     "name": "stdout",
     "text": [
      "42\n",
      "270\n"
     ]
    }
   ],
   "metadata": {}
  }
 ],
 "metadata": {
  "orig_nbformat": 4,
  "language_info": {
   "name": "python",
   "version": "3.8.10",
   "mimetype": "text/x-python",
   "codemirror_mode": {
    "name": "ipython",
    "version": 3
   },
   "pygments_lexer": "ipython3",
   "nbconvert_exporter": "python",
   "file_extension": ".py"
  },
  "kernelspec": {
   "name": "python3",
   "display_name": "Python 3.8.10 64-bit"
  },
  "interpreter": {
   "hash": "435c7524b81c754d2a38f9b1930a50d7a83318eec9a7b6faab8c4b8cfd59b603"
  }
 },
 "nbformat": 4,
 "nbformat_minor": 2
}