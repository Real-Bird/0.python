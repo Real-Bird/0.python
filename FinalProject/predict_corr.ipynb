{
 "cells": [
  {
   "cell_type": "code",
   "execution_count": 1,
   "source": [
    "######################################################################\r\n",
    "#이미지 전처리\r\n",
    "# 정자세 정밀도\r\n",
    "#######################################################################\r\n",
    "img_path = './dataset/corr_test/'\r\n",
    "# 이미지를 4D 텐서로 변경\r\n",
    "from tensorflow.keras.preprocessing import image\r\n",
    "import os\r\n",
    "import numpy as np\r\n",
    "from tensorflow.keras.models import load_model    #학습된 모델 로드\r\n",
    "import matplotlib.pyplot as plt\r\n",
    "\r\n",
    "model = load_model(\"tn_model.h5\")\r\n",
    "\r\n",
    "TP_cnt = 0\r\n",
    "FP_cnt = 0\r\n",
    "num = 0\r\n",
    "FP_list = []\r\n",
    "TP_list = []\r\n",
    "\r\n",
    "for i in os.listdir(img_path):\r\n",
    "    aa = img_path + i\r\n",
    "    img = image.load_img(aa, target_size =(150, 150))\r\n",
    "    img_tensor = image.img_to_array(img)\r\n",
    "    img_tensor = np.expand_dims(img_tensor, axis=0)\r\n",
    "    img_tensor /= 255.  # 모델이 훈련될 때 입력에 적용한 전처리 방식을 동일하게 사용합니다\r\n",
    "\r\n",
    "    #######################################################################\r\n",
    "\r\n",
    "    result = model.predict( img_tensor ) \r\n",
    "\r\n",
    "    if result > 0.5 :\r\n",
    "        FP_cnt += 1\r\n",
    "        FP_list.append(num)\r\n",
    "        num +=1\r\n",
    "    else :\r\n",
    "        TP_cnt += 1\r\n",
    "        TP_list.append(num)\r\n",
    "        num +=1"
   ],
   "outputs": [],
   "metadata": {}
  },
  {
   "cell_type": "code",
   "execution_count": 2,
   "source": [
    "print(FP_cnt)"
   ],
   "outputs": [
    {
     "output_type": "stream",
     "name": "stdout",
     "text": [
      "74\n"
     ]
    }
   ],
   "metadata": {}
  },
  {
   "cell_type": "code",
   "execution_count": 3,
   "source": [
    "print(FP_list)"
   ],
   "outputs": [
    {
     "output_type": "stream",
     "name": "stdout",
     "text": [
      "[3, 4, 17, 22, 25, 31, 37, 51, 54, 63, 66, 72, 78, 88, 91, 96, 102, 106, 107, 112, 119, 123, 127, 135, 146, 149, 153, 155, 170, 181, 183, 186, 189, 191, 194, 196, 198, 199, 203, 208, 214, 218, 220, 222, 226, 229, 233, 237, 240, 242, 246, 257, 264, 265, 270, 271, 276, 277, 281, 285, 290, 291, 293, 294, 300, 301, 303, 304, 305, 307, 310, 312, 321, 326]\n"
     ]
    }
   ],
   "metadata": {}
  },
  {
   "cell_type": "code",
   "execution_count": 4,
   "source": [
    "print(TP_cnt)"
   ],
   "outputs": [
    {
     "output_type": "stream",
     "name": "stdout",
     "text": [
      "258\n"
     ]
    }
   ],
   "metadata": {}
  },
  {
   "cell_type": "code",
   "execution_count": 5,
   "source": [
    "print(TP_list)"
   ],
   "outputs": [
    {
     "output_type": "stream",
     "name": "stdout",
     "text": [
      "[0, 1, 2, 5, 6, 7, 8, 9, 10, 11, 12, 13, 14, 15, 16, 18, 19, 20, 21, 23, 24, 26, 27, 28, 29, 30, 32, 33, 34, 35, 36, 38, 39, 40, 41, 42, 43, 44, 45, 46, 47, 48, 49, 50, 52, 53, 55, 56, 57, 58, 59, 60, 61, 62, 64, 65, 67, 68, 69, 70, 71, 73, 74, 75, 76, 77, 79, 80, 81, 82, 83, 84, 85, 86, 87, 89, 90, 92, 93, 94, 95, 97, 98, 99, 100, 101, 103, 104, 105, 108, 109, 110, 111, 113, 114, 115, 116, 117, 118, 120, 121, 122, 124, 125, 126, 128, 129, 130, 131, 132, 133, 134, 136, 137, 138, 139, 140, 141, 142, 143, 144, 145, 147, 148, 150, 151, 152, 154, 156, 157, 158, 159, 160, 161, 162, 163, 164, 165, 166, 167, 168, 169, 171, 172, 173, 174, 175, 176, 177, 178, 179, 180, 182, 184, 185, 187, 188, 190, 192, 193, 195, 197, 200, 201, 202, 204, 205, 206, 207, 209, 210, 211, 212, 213, 215, 216, 217, 219, 221, 223, 224, 225, 227, 228, 230, 231, 232, 234, 235, 236, 238, 239, 241, 243, 244, 245, 247, 248, 249, 250, 251, 252, 253, 254, 255, 256, 258, 259, 260, 261, 262, 263, 266, 267, 268, 269, 272, 273, 274, 275, 278, 279, 280, 282, 283, 284, 286, 287, 288, 289, 292, 295, 296, 297, 298, 299, 302, 306, 308, 309, 311, 313, 314, 315, 316, 317, 318, 319, 320, 322, 323, 324, 325, 327, 328, 329, 330, 331]\n"
     ]
    }
   ],
   "metadata": {}
  },
  {
   "cell_type": "code",
   "execution_count": 6,
   "source": [
    "TP_cnt/(TP_cnt + FP_cnt)"
   ],
   "outputs": [
    {
     "output_type": "execute_result",
     "data": {
      "text/plain": [
       "0.7771084337349398"
      ]
     },
     "metadata": {},
     "execution_count": 6
    }
   ],
   "metadata": {}
  }
 ],
 "metadata": {
  "orig_nbformat": 4,
  "language_info": {
   "name": "python",
   "version": "3.8.10",
   "mimetype": "text/x-python",
   "codemirror_mode": {
    "name": "ipython",
    "version": 3
   },
   "pygments_lexer": "ipython3",
   "nbconvert_exporter": "python",
   "file_extension": ".py"
  },
  "kernelspec": {
   "name": "python3",
   "display_name": "Python 3.8.10 64-bit"
  },
  "interpreter": {
   "hash": "435c7524b81c754d2a38f9b1930a50d7a83318eec9a7b6faab8c4b8cfd59b603"
  }
 },
 "nbformat": 4,
 "nbformat_minor": 2
}