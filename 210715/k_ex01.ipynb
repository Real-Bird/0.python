{
 "cells": [
  {
   "cell_type": "code",
   "execution_count": 1,
   "id": "559a751a",
   "metadata": {},
   "outputs": [],
   "source": [
    "import keras\n",
    "import numpy"
   ]
  },
  {
   "cell_type": "code",
   "execution_count": 2,
   "id": "92725e1f",
   "metadata": {},
   "outputs": [],
   "source": [
    "# 학습 데이터\n",
    "x = numpy.array([0,1,2,3,4])\n",
    "y = x * 2 + 1"
   ]
  },
  {
   "cell_type": "code",
   "execution_count": 3,
   "id": "b50902f1",
   "metadata": {},
   "outputs": [],
   "source": [
    "# keras 모델 시작\n",
    "model = keras.models.Sequential()\n",
    "\n",
    "# 인공지능 계층을 하나 추가(입력 노드 하나와 가중치 하나)\n",
    "model.add(keras.layers.Dense(1, input_shape=(1,)))\n",
    "\n",
    "# SGD - 확률적 경사하강법, mse - 평균 제곱 오차 cost function\n",
    "model.compile(\"SGD\",\"mse\")"
   ]
  },
  {
   "cell_type": "code",
   "execution_count": 4,
   "id": "ebadbe58",
   "metadata": {},
   "outputs": [
    {
     "name": "stdout",
     "output_type": "stream",
     "text": [
      "Target :  [5 7 9]\n",
      "Predictions :  [1.0246433 2.9847693]\n"
     ]
    }
   ],
   "source": [
    "# 지도 학습 # 1000 에포크(학습 횟수), verbose는 학습 진행 사항 보시여부\n",
    "# 0은 표시하지 않음\n",
    "model.fit(x[:2],y[:2], epochs=1000, verbose=0)\n",
    "\n",
    "print(\"Target : \", y[2:])\n",
    "print(\"Predictions : \", model.predict(x[:2]).flatten())"
   ]
  },
  {
   "cell_type": "code",
   "execution_count": null,
   "id": "3bc46904",
   "metadata": {},
   "outputs": [],
   "source": []
  }
 ],
 "metadata": {
  "kernelspec": {
   "display_name": "Python 3",
   "language": "python",
   "name": "python3"
  },
  "language_info": {
   "codemirror_mode": {
    "name": "ipython",
    "version": 3
   },
   "file_extension": ".py",
   "mimetype": "text/x-python",
   "name": "python",
   "nbconvert_exporter": "python",
   "pygments_lexer": "ipython3",
   "version": "3.8.8"
  }
 },
 "nbformat": 4,
 "nbformat_minor": 5
}
