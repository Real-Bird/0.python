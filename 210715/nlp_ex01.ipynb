{
 "cells": [
  {
   "cell_type": "code",
   "execution_count": 2,
   "id": "b5182885",
   "metadata": {},
   "outputs": [
    {
     "name": "stdout",
     "output_type": "stream",
     "text": [
      "['I', 'am', 'going', 'to', 'Seoul', ',', 'Korea', '.']\n",
      "[('I', 'PRP'), ('am', 'VBP'), ('going', 'VBG'), ('to', 'TO'), ('Seoul', 'NNP'), (',', ','), ('Korea', 'NNP'), ('.', '.')]\n",
      "['At', 'eight', \"o'clock\", 'on', 'Thursday', 'morning', 'Arthur', 'did', \"n't\", 'feel', 'very', 'good', '.']\n",
      "[('At', 'IN'), ('eight', 'CD'), (\"o'clock\", 'NN'), ('on', 'IN'), ('Thursday', 'NNP'), ('morning', 'NN'), ('Arthur', 'NNP'), ('did', 'VBD'), (\"n't\", 'RB'), ('feel', 'VB'), ('very', 'RB'), ('good', 'JJ'), ('.', '.')]\n"
     ]
    }
   ],
   "source": [
    "import nltk\n",
    "from nltk import word_tokenize\n",
    "tokens = word_tokenize(\"I am going to Seoul, Korea.\")\n",
    "print( tokens )\n",
    "print( nltk.pos_tag(tokens) )\n",
    "sentence = \"\"\"At eight o'clock on Thursday morning Arthur didn't feel very good.\"\"\"\n",
    "tokens = word_tokenize(sentence)\n",
    "print( tokens )\n",
    "print( nltk.pos_tag(tokens) )"
   ]
  },
  {
   "cell_type": "code",
   "execution_count": 3,
   "id": "06a3ca23",
   "metadata": {},
   "outputs": [
    {
     "name": "stdout",
     "output_type": "stream",
     "text": [
      "[\"London (CNN)Boris Johnson, the UK's new prime minister, wants you to know that he loves\\nhis country.\", 'Specifically, he wants you to know that he loves the Union between the four nations that make\\nup the United Kingdom of Great Britain and Northern Ireland.']\n"
     ]
    }
   ],
   "source": [
    "from nltk import sent_tokenize\n",
    "paragraph=\"\"\"London (CNN)Boris Johnson, the UK's new prime minister, wants you to know that he loves\n",
    "his country. Specifically, he wants you to know that he loves the Union between the four nations that make\n",
    "up the United Kingdom of Great Britain and Northern Ireland. \"\"\"\n",
    "print ( sent_tokenize(paragraph))"
   ]
  },
  {
   "cell_type": "code",
   "execution_count": null,
   "id": "b163b23d",
   "metadata": {},
   "outputs": [],
   "source": []
  }
 ],
 "metadata": {
  "kernelspec": {
   "display_name": "Python 3",
   "language": "python",
   "name": "python3"
  },
  "language_info": {
   "codemirror_mode": {
    "name": "ipython",
    "version": 3
   },
   "file_extension": ".py",
   "mimetype": "text/x-python",
   "name": "python",
   "nbconvert_exporter": "python",
   "pygments_lexer": "ipython3",
   "version": "3.8.8"
  }
 },
 "nbformat": 4,
 "nbformat_minor": 5
}
