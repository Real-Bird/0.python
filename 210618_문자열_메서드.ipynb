{
 "cells": [
  {
   "cell_type": "markdown",
   "id": "8bd4f1da",
   "metadata": {},
   "source": [
    "center(i) : 문자열을 i만큼의 공간 가운데에 정렬"
   ]
  },
  {
   "cell_type": "code",
   "execution_count": null,
   "id": "c745e067",
   "metadata": {},
   "outputs": [],
   "source": [
    "txt = \"banana\"\n",
    "\n",
    "txt.center(20)\n"
   ]
  },
  {
   "cell_type": "code",
   "execution_count": 5,
   "id": "c50e3af3",
   "metadata": {},
   "outputs": [
    {
     "data": {
      "text/plain": [
       "'_______banana_______'"
      ]
     },
     "execution_count": 5,
     "metadata": {},
     "output_type": "execute_result"
    }
   ],
   "source": [
    "txt.center(20,\"_\")"
   ]
  },
  {
   "cell_type": "markdown",
   "id": "f0f3dfaf",
   "metadata": {},
   "source": [
    "count(\"str\", start, end) : 해당 문자열이 객체에 얼마나 있는지 셈"
   ]
  },
  {
   "cell_type": "code",
   "execution_count": 6,
   "id": "2c5e6cbd",
   "metadata": {},
   "outputs": [
    {
     "data": {
      "text/plain": [
       "2"
      ]
     },
     "execution_count": 6,
     "metadata": {},
     "output_type": "execute_result"
    }
   ],
   "source": [
    "txt = \"I love apples, apple are my favorite fruit\"\n",
    "\n",
    "txt.count(\"apple\")"
   ]
  },
  {
   "cell_type": "code",
   "execution_count": 7,
   "id": "e422caf9",
   "metadata": {},
   "outputs": [
    {
     "data": {
      "text/plain": [
       "1"
      ]
     },
     "execution_count": 7,
     "metadata": {},
     "output_type": "execute_result"
    }
   ],
   "source": [
    "txt.count(\"apple\", 10, 24)"
   ]
  },
  {
   "cell_type": "markdown",
   "id": "5ef450c0",
   "metadata": {},
   "source": [
    "encode() : 영어 외 문자를 converting<br>\n",
    "특수문자를 표현하려면 .decode()를 붙여 써야 함"
   ]
  },
  {
   "cell_type": "code",
   "execution_count": 15,
   "id": "44e59ee3",
   "metadata": {},
   "outputs": [
    {
     "name": "stdout",
     "output_type": "stream",
     "text": [
      "b'\\xec\\x95\\x88\\xeb\\x85\\x95\\xed\\x95\\x98\\xec\\x84\\xb8\\xec\\x9a\\x94'\n",
      "안녕하세요\n"
     ]
    }
   ],
   "source": [
    "txt = \"안녕하세요\"\n",
    "\n",
    "print(txt.encode())\n",
    "print(txt.encode().decode())"
   ]
  },
  {
   "cell_type": "code",
   "execution_count": 22,
   "id": "50f23ed0",
   "metadata": {},
   "outputs": [
    {
     "name": "stdout",
     "output_type": "stream",
     "text": [
      "b'\\xbe\\xc8\\xb3\\xe7\\xc7\\xcf\\xbc\\xbc\\xbf\\xe4'\n",
      "안녕하세요\n"
     ]
    }
   ],
   "source": [
    "txt = \"안녕하세요\"\n",
    "\n",
    "print(txt.encode(\"euc-kr\")) #한글  encoding: utf-8, cp949, euc-kr\n",
    "print(txt.encode().decode())"
   ]
  },
  {
   "cell_type": "markdown",
   "id": "fb3c2049",
   "metadata": {},
   "source": [
    "endswith(\"str\") : 문장 끝이 \"str\"로 끝나면 True, 아니면 False"
   ]
  },
  {
   "cell_type": "code",
   "execution_count": null,
   "id": "e2015785",
   "metadata": {},
   "outputs": [],
   "source": [
    "txt = \"Hello, welcome to my world.\"\n",
    "\n",
    "txt.endswith(\"my world\")"
   ]
  },
  {
   "cell_type": "markdown",
   "id": "3b4057b2",
   "metadata": {},
   "source": [
    "find(\"str\") : \"str\"의 index 번호를 알려줌<br>\n",
    "                    \"str\"이 없으면 -1 return"
   ]
  },
  {
   "cell_type": "code",
   "execution_count": 25,
   "id": "2397d485",
   "metadata": {},
   "outputs": [
    {
     "data": {
      "text/plain": [
       "7"
      ]
     },
     "execution_count": 25,
     "metadata": {},
     "output_type": "execute_result"
    }
   ],
   "source": [
    "txt = \"Hello, welcome to my world.\"\n",
    "\n",
    "txt.find(\"welcome\")"
   ]
  },
  {
   "cell_type": "markdown",
   "id": "7ebea57e",
   "metadata": {},
   "source": [
    "format() : \"str\"의 {}에 값을 넣어줌<br>\n",
    "\"str {var:.2f}\".format() : {}의 출력 형태를 정의"
   ]
  },
  {
   "cell_type": "code",
   "execution_count": 27,
   "id": "30bf398c",
   "metadata": {
    "scrolled": true
   },
   "outputs": [
    {
     "data": {
      "text/plain": [
       "\"My name is John, I'm 36\""
      ]
     },
     "execution_count": 27,
     "metadata": {},
     "output_type": "execute_result"
    }
   ],
   "source": [
    "\"My name is {}, I'm {}\".format(\"John\", 36)"
   ]
  },
  {
   "cell_type": "code",
   "execution_count": 28,
   "id": "ba5725aa",
   "metadata": {},
   "outputs": [
    {
     "data": {
      "text/plain": [
       "\"My name is John, I'm 36\""
      ]
     },
     "execution_count": 28,
     "metadata": {},
     "output_type": "execute_result"
    }
   ],
   "source": [
    "\"My name is {0}, I'm {1}\".format(\"John\", 36)"
   ]
  },
  {
   "cell_type": "code",
   "execution_count": 29,
   "id": "68db157e",
   "metadata": {},
   "outputs": [
    {
     "data": {
      "text/plain": [
       "\"My name is 36, I'm John\""
      ]
     },
     "execution_count": 29,
     "metadata": {},
     "output_type": "execute_result"
    }
   ],
   "source": [
    "\"My name is {1}, I'm {0}\".format(\"John\", 36)"
   ]
  },
  {
   "cell_type": "code",
   "execution_count": 30,
   "id": "08ff2a88",
   "metadata": {},
   "outputs": [
    {
     "name": "stdout",
     "output_type": "stream",
     "text": [
      "For only 49.00 dollars!\n"
     ]
    }
   ],
   "source": [
    "txt = \"For only {price:.2f} dollars!\"\n",
    "print(txt.format(price = 49))"
   ]
  },
  {
   "cell_type": "markdown",
   "id": "a13dcedf",
   "metadata": {},
   "source": [
    "join() : 문자열 합침"
   ]
  },
  {
   "cell_type": "code",
   "execution_count": 31,
   "id": "c5d4f746",
   "metadata": {},
   "outputs": [
    {
     "data": {
      "text/plain": [
       "'a,b,c'"
      ]
     },
     "execution_count": 31,
     "metadata": {},
     "output_type": "execute_result"
    }
   ],
   "source": [
    "a = [\"a\", \"b\", \"c\"]\n",
    "\",\".join(a)"
   ]
  },
  {
   "cell_type": "code",
   "execution_count": 32,
   "id": "3bfcd8dd",
   "metadata": {},
   "outputs": [],
   "source": [
    "a = \"c:/python/text6.csv\""
   ]
  },
  {
   "cell_type": "markdown",
   "id": "ed50ea37",
   "metadata": {},
   "source": [
    "split(\"delimiter\") : delimiter로 \"str\" 쪼개서 리스트 저장"
   ]
  },
  {
   "cell_type": "code",
   "execution_count": 34,
   "id": "6f3a52f7",
   "metadata": {},
   "outputs": [
    {
     "data": {
      "text/plain": [
       "['c:', 'python', 'text6.csv']"
      ]
     },
     "execution_count": 34,
     "metadata": {},
     "output_type": "execute_result"
    }
   ],
   "source": [
    "a.split(\"/\")"
   ]
  },
  {
   "cell_type": "code",
   "execution_count": 35,
   "id": "48dd5b3b",
   "metadata": {},
   "outputs": [
    {
     "data": {
      "text/plain": [
       "'aaaa'"
      ]
     },
     "execution_count": 35,
     "metadata": {},
     "output_type": "execute_result"
    }
   ],
   "source": [
    "a = \"c://python/text6.csv//aaaa\"\n",
    "\n",
    "a.split('//')[-1]"
   ]
  },
  {
   "cell_type": "code",
   "execution_count": 43,
   "id": "605d3170",
   "metadata": {},
   "outputs": [
    {
     "data": {
      "text/plain": [
       "['APPA', '포럼', '폐막…포스트코로나', '시대', '개인정보보호', '원칙', '공감대기사입력', '2021']"
      ]
     },
     "execution_count": 43,
     "metadata": {},
     "output_type": "execute_result"
    }
   ],
   "source": [
    "a = \"APPA 포럼 폐막…포스트코로나 시대 개인정보보호 원칙 공감대\\\n",
    "기사입력 2021.06.18. 오후 12:00 최종수정 2021.06.18. 오후 2:01\"\n",
    "\n",
    "a.split(\"오후\")[0].split(\".\")[0].split(\" \")"
   ]
  },
  {
   "cell_type": "code",
   "execution_count": 46,
   "id": "25ad0d4f",
   "metadata": {},
   "outputs": [
    {
     "data": {
      "text/plain": [
       "['APPA 포럼 폐막…',\n",
       " '포스트코로나 시대 ',\n",
       " '개인정보보호 원칙 공감대',\n",
       " '기사입력 2021.06.18. 오후 12:00 ',\n",
       " '최종수정 2021.06.18. 오후 2:01']"
      ]
     },
     "execution_count": 46,
     "metadata": {},
     "output_type": "execute_result"
    }
   ],
   "source": [
    "a = \"\"\"APPA 포럼 폐막…\n",
    "포스트코로나 시대 \n",
    "개인정보보호 원칙 공감대\n",
    "기사입력 2021.06.18. 오후 12:00 \n",
    "최종수정 2021.06.18. 오후 2:01\"\"\"\n",
    "\n",
    "a.split(\"\\n\")"
   ]
  },
  {
   "cell_type": "markdown",
   "id": "b92a7716",
   "metadata": {},
   "source": [
    "replace(\"oldstr\", \"newstr\") : \"oldstr\"을 \"newstr\"로 변환"
   ]
  },
  {
   "cell_type": "code",
   "execution_count": 50,
   "id": "9833229c",
   "metadata": {},
   "outputs": [
    {
     "data": {
      "text/plain": [
       "'python hello'"
      ]
     },
     "execution_count": 50,
     "metadata": {},
     "output_type": "execute_result"
    }
   ],
   "source": [
    "a = \"python hell\"\n",
    "\n",
    "a.replace(\"hell\", \"hello\")"
   ]
  },
  {
   "cell_type": "code",
   "execution_count": 52,
   "id": "4e4afb95",
   "metadata": {},
   "outputs": [],
   "source": [
    "a = \"python\"\n",
    "str1 = \"py\"\n",
    "str2 = \"ja\""
   ]
  },
  {
   "cell_type": "markdown",
   "id": "6d237554",
   "metadata": {},
   "source": [
    "maketrans(str1, str2) : str1을 str2로 변환(문자열 길이 같아야 함)<br>\n",
    "translate(str) : 기존 문자열을 str로 변환"
   ]
  },
  {
   "cell_type": "code",
   "execution_count": 53,
   "id": "100745ec",
   "metadata": {},
   "outputs": [
    {
     "name": "stdout",
     "output_type": "stream",
     "text": [
      "jathon\n"
     ]
    }
   ],
   "source": [
    "string = a.maketrans(str1, str2)\n",
    "print(a.translate(string))"
   ]
  },
  {
   "cell_type": "code",
   "execution_count": null,
   "id": "23107cf4",
   "metadata": {},
   "outputs": [],
   "source": []
  }
 ],
 "metadata": {
  "kernelspec": {
   "display_name": "Python 3",
   "language": "python",
   "name": "python3"
  },
  "language_info": {
   "codemirror_mode": {
    "name": "ipython",
    "version": 3
   },
   "file_extension": ".py",
   "mimetype": "text/x-python",
   "name": "python",
   "nbconvert_exporter": "python",
   "pygments_lexer": "ipython3",
   "version": "3.8.8"
  }
 },
 "nbformat": 4,
 "nbformat_minor": 5
}
