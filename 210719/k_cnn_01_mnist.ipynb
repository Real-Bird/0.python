{
 "cells": [
  {
   "cell_type": "code",
   "execution_count": 2,
   "id": "100b7ba2",
   "metadata": {},
   "outputs": [],
   "source": [
    "###############################\n",
    "# 분류 CNN 모델링\n",
    "###############################\n",
    "import tensorflow.keras as keras\n",
    "from tensorflow.keras import models, layers\n",
    "\n",
    "def CNN(W,H,C , Nout):\n",
    "        model = models.Sequential()\n",
    "        model.add(layers.Conv2D(32, kernel_size=(3, 3),\n",
    "                               activation=\"relu\",\n",
    "                               input_shape=(W,H,C)))\n",
    "        model.add(layers.Conv2D(64,(3,3),activation=\"relu\"))\n",
    "        model.add(layers.MaxPooling2D(pool_size=(2,2)))\n",
    "        model.add(layers.Dropout(0.25))\n",
    "        model.add(layers.Flatten())\n",
    "        model.add(layers.Dense(128, activation='relu'))\n",
    "        model.add(layers.Dropout(0.5))\n",
    "        model.add(layers.Dense(Nout, activation=\"softmax\"))\n",
    "\n",
    "        model.compile(loss=keras.losses.categorical_crossentropy,\n",
    "                      optimizer='rmsprop',\n",
    "                      metrics=['acc'])\n",
    "        return model;"
   ]
  },
  {
   "cell_type": "code",
   "execution_count": 7,
   "id": "85a41fde",
   "metadata": {},
   "outputs": [],
   "source": [
    "##############################################\n",
    "# Data\n",
    "##############################################\n",
    "from tensorflow.keras import datasets  # mnist\n",
    "from tensorflow.keras.utils import to_categorical  # to_categorical\n",
    "\n",
    "def Data_func():\n",
    "    (X_train, y_train), (X_test, y_test) = datasets.mnist.load_data()\n",
    "    \"\"\" 이미지 데이터 X ,  0~9까지 붙인 이름표를 Y   \n",
    "        70,000개의 데이터 중 60,000개를 학습 데이터로,  10,000개를 테스트 데이터로 읽어옵니다. \n",
    "    \"\"\"\n",
    "\n",
    "    Y_train = to_categorical(y_train)\n",
    "    Y_test = to_categorical(y_test)\n",
    "    \"\"\"원-핫 인코딩을 위해 케라스의 np_utils 의 to_categorical() 함수를 사용\n",
    "     0 ~ 9까지의 정수 값을 갖는 형태가 아닌 0 이나 1로 이뤄진 벡터로 수정 \n",
    "     만약에 '3' 이라는 숫자이라면 [0, 0, 1, 0, 0, 0, 0, 0, 0]으로 변환 \n",
    "    \"\"\"\n",
    "\n",
    "    L, W, H = X_train.shape\n",
    "    print(L, W, H)  # 60000 28 28\n",
    "\n",
    "    X_train = X_train.reshape(60000, W, H,-1)\n",
    "    X_test = X_test.reshape(10000,W, H,-1)\n",
    "\n",
    "    X_train = X_train  / 255.0\n",
    "    X_test = X_test / 255.0\n",
    "\n",
    "    return (X_train, Y_train), (X_test, Y_test)"
   ]
  },
  {
   "cell_type": "code",
   "execution_count": 10,
   "id": "8443c75b",
   "metadata": {},
   "outputs": [
    {
     "name": "stdout",
     "output_type": "stream",
     "text": [
      "60000 28 28\n",
      "Epoch 1/10\n",
      "375/375 [==============================] - 76s 201ms/step - loss: 0.2560 - acc: 0.9203 - val_loss: 0.0716 - val_acc: 0.9796\n",
      "Epoch 2/10\n",
      "375/375 [==============================] - 78s 208ms/step - loss: 0.0884 - acc: 0.9739 - val_loss: 0.0520 - val_acc: 0.9849\n",
      "Epoch 3/10\n",
      "375/375 [==============================] - 74s 196ms/step - loss: 0.0657 - acc: 0.9804 - val_loss: 0.0426 - val_acc: 0.9881\n",
      "Epoch 4/10\n",
      "375/375 [==============================] - 72s 191ms/step - loss: 0.0550 - acc: 0.9842 - val_loss: 0.0409 - val_acc: 0.9883\n",
      "Epoch 5/10\n",
      "375/375 [==============================] - 82s 219ms/step - loss: 0.0494 - acc: 0.9852 - val_loss: 0.0413 - val_acc: 0.9887\n",
      "Epoch 6/10\n",
      "375/375 [==============================] - 76s 203ms/step - loss: 0.0449 - acc: 0.9866 - val_loss: 0.0368 - val_acc: 0.9906\n",
      "Epoch 7/10\n",
      "375/375 [==============================] - 79s 210ms/step - loss: 0.0412 - acc: 0.9876 - val_loss: 0.0407 - val_acc: 0.9885\n",
      "Epoch 8/10\n",
      "375/375 [==============================] - 84s 225ms/step - loss: 0.0397 - acc: 0.9880 - val_loss: 0.0421 - val_acc: 0.9883\n",
      "Epoch 9/10\n",
      "375/375 [==============================] - 74s 196ms/step - loss: 0.0389 - acc: 0.9889 - val_loss: 0.0390 - val_acc: 0.9891\n",
      "Epoch 10/10\n",
      "375/375 [==============================] - 80s 213ms/step - loss: 0.0377 - acc: 0.9899 - val_loss: 0.0385 - val_acc: 0.9894\n",
      "313/313 [==============================] - 4s 13ms/step - loss: 0.0318 - acc: 0.9905\n",
      "\n",
      "Test loss: 0.031796544790267944\n",
      "Test accuracy: 0.9904999732971191\n"
     ]
    },
    {
     "ename": "KeyError",
     "evalue": "'val_accuracy'",
     "output_type": "error",
     "traceback": [
      "\u001b[1;31m---------------------------------------------------------------------------\u001b[0m",
      "\u001b[1;31mKeyError\u001b[0m                                  Traceback (most recent call last)",
      "\u001b[1;32m<ipython-input-10-34a9208cabbc>\u001b[0m in \u001b[0;36m<module>\u001b[1;34m\u001b[0m\n\u001b[0;32m     46\u001b[0m \u001b[1;33m\u001b[0m\u001b[0m\n\u001b[0;32m     47\u001b[0m \u001b[1;32mif\u001b[0m \u001b[0m__name__\u001b[0m \u001b[1;33m==\u001b[0m \u001b[1;34m'__main__'\u001b[0m\u001b[1;33m:\u001b[0m\u001b[1;33m\u001b[0m\u001b[1;33m\u001b[0m\u001b[0m\n\u001b[1;32m---> 48\u001b[1;33m     \u001b[0mmain\u001b[0m\u001b[1;33m(\u001b[0m\u001b[1;33m)\u001b[0m\u001b[1;33m\u001b[0m\u001b[1;33m\u001b[0m\u001b[0m\n\u001b[0m",
      "\u001b[1;32m<ipython-input-10-34a9208cabbc>\u001b[0m in \u001b[0;36mmain\u001b[1;34m()\u001b[0m\n\u001b[0;32m     31\u001b[0m     \u001b[1;34m\"\"\"정확도 변화 추이  그래프\"\"\"\u001b[0m\u001b[1;33m\u001b[0m\u001b[1;33m\u001b[0m\u001b[0m\n\u001b[0;32m     32\u001b[0m     \u001b[0mplt\u001b[0m\u001b[1;33m.\u001b[0m\u001b[0mplot\u001b[0m\u001b[1;33m(\u001b[0m\u001b[0mhistory\u001b[0m\u001b[1;33m[\u001b[0m\u001b[1;34m'acc'\u001b[0m\u001b[1;33m]\u001b[0m\u001b[1;33m)\u001b[0m\u001b[1;33m\u001b[0m\u001b[1;33m\u001b[0m\u001b[0m\n\u001b[1;32m---> 33\u001b[1;33m     \u001b[0mplt\u001b[0m\u001b[1;33m.\u001b[0m\u001b[0mplot\u001b[0m\u001b[1;33m(\u001b[0m\u001b[0mhistory\u001b[0m\u001b[1;33m[\u001b[0m\u001b[1;34m'val_accuracy'\u001b[0m\u001b[1;33m]\u001b[0m\u001b[1;33m)\u001b[0m\u001b[1;33m\u001b[0m\u001b[1;33m\u001b[0m\u001b[0m\n\u001b[0m\u001b[0;32m     34\u001b[0m     \u001b[0mplt\u001b[0m\u001b[1;33m.\u001b[0m\u001b[0mylabel\u001b[0m\u001b[1;33m(\u001b[0m\u001b[1;34m'Accuracy'\u001b[0m\u001b[1;33m)\u001b[0m\u001b[1;33m\u001b[0m\u001b[1;33m\u001b[0m\u001b[0m\n\u001b[0;32m     35\u001b[0m     \u001b[0mplt\u001b[0m\u001b[1;33m.\u001b[0m\u001b[0mxlabel\u001b[0m\u001b[1;33m(\u001b[0m\u001b[1;34m'Epoch'\u001b[0m\u001b[1;33m)\u001b[0m\u001b[1;33m\u001b[0m\u001b[1;33m\u001b[0m\u001b[0m\n",
      "\u001b[1;31mKeyError\u001b[0m: 'val_accuracy'"
     ]
    },
    {
     "data": {
      "image/png": "[encoded data removed]",
      "text/plain": [
       "<Figure size 432x288 with 1 Axes>"
      ]
     },
     "metadata": {
      "needs_background": "light"
     },
     "output_type": "display_data"
    }
   ],
   "source": [
    "###########################\n",
    "# 학습 효과 분석\n",
    "###########################\n",
    "import matplotlib.pyplot as plt\n",
    "###############################\n",
    "# 분류 CNN 학습 및 테스트\n",
    "###############################\n",
    "def main():\n",
    "    number_of_class = 10\n",
    "    Nout = number_of_class\n",
    "\n",
    "    batch_size = 128\n",
    "    epochs = 10\n",
    "\n",
    "    (X_train, Y_train), (X_test, Y_test) = Data_func()\n",
    "    model = CNN(28,28,1,Nout)\n",
    "               #width, hight, color\n",
    "\n",
    "    history = model.fit(X_train, Y_train,\n",
    "              batch_size=batch_size,\n",
    "              epochs=epochs,\n",
    "              validation_split=0.2)\n",
    "\n",
    "    score = model.evaluate(X_test, Y_test)\n",
    "    print()\n",
    "    print('Test loss:', score[0])\n",
    "    print('Test accuracy:', score[1])\n",
    "\n",
    "    history = history.history\n",
    "\n",
    "    \"\"\"정확도 변화 추이  그래프\"\"\"\n",
    "    plt.plot(history['acc'])\n",
    "    plt.plot(history['val_acc'])\n",
    "    plt.ylabel('Accuracy')\n",
    "    plt.xlabel('Epoch')\n",
    "    plt.legend(['Training', 'Verification'], loc=0)\n",
    "    plt.show()\n",
    "\n",
    "    \"\"\"Cost/Loss  변화 추이 그래프\"\"\"\n",
    "    plt.plot(history['loss'])\n",
    "    plt.plot(history['val_loss'])\n",
    "    plt.ylabel('Loss')\n",
    "    plt.xlabel('Epoch')\n",
    "    plt.legend(['Training', 'Verification'], loc=0)\n",
    "    plt.show()\n",
    "\n",
    "if __name__ == '__main__':\n",
    "    main()\n"
   ]
  },
  {
   "cell_type": "code",
   "execution_count": null,
   "id": "4c4221af",
   "metadata": {},
   "outputs": [],
   "source": []
  }
 ],
 "metadata": {
  "kernelspec": {
   "display_name": "Python 3",
   "language": "python",
   "name": "python3"
  },
  "language_info": {
   "codemirror_mode": {
    "name": "ipython",
    "version": 3
   },
   "file_extension": ".py",
   "mimetype": "text/x-python",
   "name": "python",
   "nbconvert_exporter": "python",
   "pygments_lexer": "ipython3",
   "version": "3.8.8"
  }
 },
 "nbformat": 4,
 "nbformat_minor": 5
}
