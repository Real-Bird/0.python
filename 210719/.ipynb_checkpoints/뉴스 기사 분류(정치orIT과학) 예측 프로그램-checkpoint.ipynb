{
 "cells": [
  {
   "cell_type": "code",
   "execution_count": 1,
   "id": "eb1a01fd",
   "metadata": {},
   "outputs": [],
   "source": [
    "# csv read 및 DataFrame return\n",
    "\n",
    "import csv\n",
    "import pandas as pd\n",
    "\n",
    "def cate(infile):\n",
    "\n",
    "    read_file = open(infile, 'r')\n",
    "    if '\\0' in open(infile).read():\n",
    "        read_line = csv.reader(x.replace('\\0', '') for x in read_file)\n",
    "    else:\n",
    "        read_line = csv.reader(read_file)\n",
    "    \n",
    "\n",
    "    total_file = []\n",
    "\n",
    "    categorical = []\n",
    "    content = []\n",
    "\n",
    "    for i in read_line:\n",
    "        categorical.append(i[0])\n",
    "        content.append(i[2])\n",
    "    \n",
    "    total_file.append(categorical)\n",
    "    total_file.append(content)\n",
    "\n",
    "    df = pd.DataFrame(total_file)\n",
    "    df = df.T\n",
    "    df.columns = [\"label\",\"data\"]\n",
    "    return df"
   ]
  },
  {
   "cell_type": "code",
   "execution_count": 2,
   "id": "692f80c7",
   "metadata": {},
   "outputs": [],
   "source": [
    "# DataFrame의 \"data\"열 형태소 분석\n",
    "from konlpy.tag import Okt\n",
    "\n",
    "def tokeniging(df):\n",
    "    okt = Okt()\n",
    "        \n",
    "    for n, i in enumerate(df[\"data\"]):\n",
    "        df[\"data\"][n] = okt.nouns(i)\n",
    "    \n",
    "    data = df\n",
    "    return data"
   ]
  },
  {
   "cell_type": "code",
   "execution_count": 3,
   "id": "d99604c0",
   "metadata": {},
   "outputs": [],
   "source": [
    "# DataFrame의 \"label\"열 라벨링\n",
    "\n",
    "from sklearn.preprocessing import LabelEncoder\n",
    "# LabelEncoder를 객체로 생성한 후 , fit( ) 과 transform( ) 으로 label 인코딩 수행. \n",
    "\n",
    "def to_lab(df):\n",
    "    encoder = LabelEncoder()\n",
    "    encoder.fit(df[\"label\"])\n",
    "    labels = encoder.transform(df[\"label\"])\n",
    "    \n",
    "    return labels"
   ]
  },
  {
   "cell_type": "code",
   "execution_count": 4,
   "id": "34eded76",
   "metadata": {},
   "outputs": [],
   "source": [
    "# DataFrame의 \"data\"열 정수 변경\n",
    "\n",
    "from keras.preprocessing.text import Tokenizer\n",
    "\n",
    "def to_seq(df):\n",
    "    tokenizer = Tokenizer(num_words=1000)\n",
    "    tokenizer.fit_on_texts(df[\"data\"])\n",
    "    sequences = tokenizer.texts_to_sequences(df[\"data\"])\n",
    "    \n",
    "    return sequences"
   ]
  },
  {
   "cell_type": "code",
   "execution_count": 5,
   "id": "93b2f287",
   "metadata": {},
   "outputs": [],
   "source": [
    "# 학습\n",
    "\n",
    "from tensorflow.keras.layers import Embedding\n",
    "from tensorflow.keras import preprocessing\n",
    "from keras.models import Sequential\n",
    "from keras.layers import Flatten, Dense, Embedding\n",
    "\n",
    "def learning(X_train, Y_train):\n",
    "    ####### 데이터 준비 \n",
    "\n",
    "\n",
    "    max_features = 10000 # 특성으로 사용할 단어의 수\n",
    "    maxlen = 20  # 사용할 텍스트의 길이(가장 빈번한 20 개의 단어만 사용합니다)\n",
    "\n",
    "    # 리스트를 (samples, maxlen) 크기의 2D 정수 텐서로 변환.\n",
    "    X_train = preprocessing.sequence.pad_sequences(X_train, maxlen=maxlen) # 가장 빈번한 단어 최대 maxlen(20)개만\n",
    "\n",
    "    ####### 모델 생성\n",
    "    model = Sequential()\n",
    "\n",
    "    # 가능한 토큰의 개수(1,0000)와 임베딩 차원(8)로 설정 \n",
    "    model.add(Embedding(10000, 8, input_length=maxlen))\n",
    "    # Embedding 층의 출력 크기는 (samples, maxlen, 8)가 됨\n",
    "\n",
    "    model.add(Flatten())  #(samples, maxlen * 8) 크기의 2D 텐서로 펼침\n",
    "\n",
    "    # 분류기를 추가\n",
    "    model.add(Dense(1, activation='sigmoid'))\n",
    "    model.compile(optimizer='rmsprop', loss='binary_crossentropy', metrics=['acc'])\n",
    "    #model.summary()\n",
    "    ####### 학습\n",
    "\n",
    "    history = model.fit(X_train, Y_train,\n",
    "                        epochs=10,\n",
    "                        batch_size=32,\n",
    "                        validation_split=0.3)\n",
    "    return history"
   ]
  },
  {
   "cell_type": "code",
   "execution_count": 6,
   "id": "44464cbe",
   "metadata": {},
   "outputs": [],
   "source": [
    "# 학습 loss와 accuracy 시각화\n",
    "\n",
    "import matplotlib.pyplot as plt\n",
    "\n",
    "def visual(history):\n",
    "    history = history.history\n",
    "    plt.plot(history[\"loss\"])\n",
    "    plt.plot(history[\"val_loss\"])\n",
    "    plt.ylabel('Loss')\n",
    "    plt.xlabel('Epoch')\n",
    "    plt.legend(['Training', 'Verification'], loc=0)\n",
    "    plt.show()\n",
    "    \n",
    "    plt.plot(history[\"acc\"])\n",
    "    plt.plot(history[\"val_acc\"])\n",
    "    plt.ylabel('Accuracy')\n",
    "    plt.xlabel('Epoch')\n",
    "    plt.legend(['Training', 'Verification'], loc=0)\n",
    "    plt.show()"
   ]
  },
  {
   "cell_type": "code",
   "execution_count": 7,
   "id": "f567a98e",
   "metadata": {},
   "outputs": [
    {
     "name": "stdout",
     "output_type": "stream",
     "text": [
      "(5660, 20)\n",
      "(680, 20)\n",
      "Epoch 1/10\n",
      "124/124 [==============================] - 16s 9ms/step - loss: 0.6902 - acc: 0.5439 - val_loss: 0.6750 - val_acc: 0.6451\n",
      "Epoch 2/10\n",
      "124/124 [==============================] - 0s 3ms/step - loss: 0.6597 - acc: 0.7481 - val_loss: 0.6344 - val_acc: 0.7263\n",
      "Epoch 3/10\n",
      "124/124 [==============================] - 0s 2ms/step - loss: 0.6007 - acc: 0.8104 - val_loss: 0.5768 - val_acc: 0.7504\n",
      "Epoch 4/10\n",
      "124/124 [==============================] - 0s 2ms/step - loss: 0.5312 - acc: 0.8134 - val_loss: 0.5211 - val_acc: 0.7593\n",
      "Epoch 5/10\n",
      "124/124 [==============================] - 0s 1ms/step - loss: 0.4585 - acc: 0.8315 - val_loss: 0.4833 - val_acc: 0.7728\n",
      "Epoch 6/10\n",
      "124/124 [==============================] - 0s 1ms/step - loss: 0.4132 - acc: 0.8470 - val_loss: 0.4608 - val_acc: 0.7840\n",
      "Epoch 7/10\n",
      "124/124 [==============================] - 0s 2ms/step - loss: 0.3776 - acc: 0.8538 - val_loss: 0.4488 - val_acc: 0.7893\n",
      "Epoch 8/10\n",
      "124/124 [==============================] - 0s 1ms/step - loss: 0.3390 - acc: 0.8709 - val_loss: 0.4425 - val_acc: 0.7916\n",
      "Epoch 9/10\n",
      "124/124 [==============================] - 0s 2ms/step - loss: 0.3116 - acc: 0.8852 - val_loss: 0.4401 - val_acc: 0.7922\n",
      "Epoch 10/10\n",
      "124/124 [==============================] - 0s 1ms/step - loss: 0.2941 - acc: 0.8909 - val_loss: 0.4405 - val_acc: 0.7922\n"
     ]
    },
    {
     "data": {
      "image/png": "[encoded data removed]",
      "text/plain": [
       "<Figure size 432x288 with 1 Axes>"
      ]
     },
     "metadata": {
      "needs_background": "light"
     },
     "output_type": "display_data"
    },
    {
     "data": {
      "image/png": "[encoded data removed]",
      "text/plain": [
       "<Figure size 432x288 with 1 Axes>"
      ]
     },
     "metadata": {
      "needs_background": "light"
     },
     "output_type": "display_data"
    }
   ],
   "source": [
    "# 기사 형태는 0열에 \"분류, 제목, 내용\"이 모두 들어있어야 함\n",
    "\n",
    "read = cate(\"../210716/Article_shuffled.csv\")\n",
    "\n",
    "token = tokeniging(read)\n",
    "\n",
    "X_train = to_seq(token)\n",
    "Y_train = to_lab(token)\n",
    "\n",
    "learn = learning(X_train, Y_train)\n",
    "visual(learn)"
   ]
  },
  {
   "cell_type": "code",
   "execution_count": 8,
   "id": "61d6634c",
   "metadata": {},
   "outputs": [],
   "source": [
    "# 예측할 데이터 입력, 분석, 출력\n",
    "\n",
    "def main():\n",
    "    okt = Okt()\n",
    "    tokenizer = Tokenizer(num_words=1000)\n",
    "    max_features = 10000 # 특성으로 사용할 단어의 수\n",
    "    maxlen = 20  # 사용할 텍스트의 길이(가장 빈번한 20 개의 단어만 사용합니다)\n",
    "    \n",
    "    ####### 모델 생성\n",
    "    model = Sequential()\n",
    "\n",
    "    # 가능한 토큰의 개수(1,0000)와 임베딩 차원(8)로 설정 \n",
    "    model.add(Embedding(10000, 8, input_length=maxlen))\n",
    "    # Embedding 층의 출력 크기는 (samples, maxlen, 8)가 됨\n",
    "\n",
    "    model.add(Flatten())  #(samples, maxlen * 8) 크기의 2D 텐서로 펼침\n",
    "\n",
    "    # 분류기를 추가\n",
    "    model.add(Dense(1, activation='sigmoid'))\n",
    "    model.compile(optimizer='rmsprop', loss='binary_crossentropy', metrics=['acc'])\n",
    "    \n",
    "    news_input = [input(\"기사 입력> \")]\n",
    "\n",
    "    news_title = [okt.nouns(news_input[0])]\n",
    "    \n",
    "    tokenizer.fit_on_texts(news_title)\n",
    "\n",
    "    n_sequences = tokenizer.texts_to_sequences(news_title)\n",
    "\n",
    "    nt_data = preprocessing.sequence.pad_sequences(n_sequences, maxlen=maxlen)\n",
    "    \n",
    "    atc_result = model.predict(nt_data,batch_size=32)\n",
    "\n",
    "    if atc_result > 0.5:\n",
    "        print(\"IT과학,\", \"embd = \", atc_result)\n",
    "    else:\n",
    "        print(\"경제,\", \"embd = \", atc_result)"
   ]
  },
  {
   "cell_type": "code",
   "execution_count": 9,
   "id": "d280beb5",
   "metadata": {},
   "outputs": [
    {
     "name": "stdout",
     "output_type": "stream",
     "text": [
      "기사 제목 입력> 한글과컴퓨터그룹이 한컴MDS를 통해 토탈 헬스케어 서비스 기업 ‘케어링크’의 지분 63.4%를 인수한다고 19일 밝혔다.  한컴MDS는 자사가 보유한 인공지능(AI) 기술 및 클라우드 사업을 케어링크의 헬스케어 기술 및 서비스 역량과 연계함으로써 데이터 분석 기반의 디지털 헬스케어 사업을 추진한다.  이를 위해 고객 동의 데이터를 기반으로 AI가 건강검진을 설계해주는 ‘맞춤형 건강검진 및 건강관리 서비스’를 제공하며, 자체 유전자검사연구소를 설립해 유전자 데이터 기반의 특화서비스를 개발한다.  특히 한컴MDS는 이번 인수를 통한 디지털 헬스케어 사업 진출과 함께 AI, 클라우드, 모빌리티, 메타버스 등 신사업 비중 확대와 사업 포트폴리오 다각화로 임베디드 솔루션 사업 의존도를 낮춘다는 계획이다.  또한 한컴그룹은 그룹사인 한컴헬스케어의 진단키트 및 진단 솔루션 사업, 한컴피플의 시니어케어 서비스 등 그룹 내 헬스케어 사업과의 시너지 창출에도 기대를 걸고 있다.  2016년에 설립된 케어링크는 건강검진 대행 플랫폼(앱/웹) ‘케어헬스’, 유전자 검사 서비스 등 건강검진 및 건강관리에 특화된 데이터 중심의 토탈 헬스케어 서비스를 제공하고 있다.  케어링크는 현재 전국 410개 병원과 제휴하고 있으며, 이를 기반으로 고객별 특성 및 니즈에 적합한 건강검진 서비스를 제공하고 있다. 특히 국내 최초로 유전자 검사와 건강검진을 결합한 맞춤형 건강관리 서비스를 시작했으며, AI 기반 건강검진 항목 추천 특허 기술과 10만건 이상의 의료 데이터를 보유하는 등 차별화된 기술력과 경쟁력을 갖추고 있다.  한편, 중소벤처기업부에 따르면 세계 디지털 헬스케어 시장 규모는 2023년까지 약 409조원 규모가 될 것으로 예상되며, 국내 시장 역시 11조 7000억원 규모로 연평균 16% 이상 성장할 것으로 기대된다.\n",
      "IT과학, embd =  [[0.5079168]]\n"
     ]
    }
   ],
   "source": [
    "# 실행\n",
    "if __name__ == \"__main__\":\n",
    "    main()"
   ]
  },
  {
   "cell_type": "code",
   "execution_count": null,
   "id": "c720d2dc",
   "metadata": {},
   "outputs": [],
   "source": []
  }
 ],
 "metadata": {
  "kernelspec": {
   "display_name": "Python 3",
   "language": "python",
   "name": "python3"
  },
  "language_info": {
   "codemirror_mode": {
    "name": "ipython",
    "version": 3
   },
   "file_extension": ".py",
   "mimetype": "text/x-python",
   "name": "python",
   "nbconvert_exporter": "python",
   "pygments_lexer": "ipython3",
   "version": "3.8.8"
  }
 },
 "nbformat": 4,
 "nbformat_minor": 5
}
