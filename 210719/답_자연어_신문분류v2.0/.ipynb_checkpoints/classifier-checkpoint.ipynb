{
 "cells": [
  {
   "cell_type": "code",
   "execution_count": 1,
   "metadata": {},
   "outputs": [],
   "source": [
    "import option as opt\n",
    "import data\n",
    "from tensorflow.keras.models import load_model\n",
    "from konlpy.tag import Okt\n",
    "import os\n",
    "\n",
    "op = opt.Options()\n",
    "twitter = Okt()\n",
    "tokenizer = data.get_word_index()"
   ]
  },
  {
   "cell_type": "code",
   "execution_count": 2,
   "metadata": {},
   "outputs": [],
   "source": [
    "def predict_o(X_nouns):\n",
    "    # print(data.make_onehot(tokenizer, [X_nouns]))\n",
    "    if os.path.exists(op.model_o) :\n",
    "        model = load_model(op.model_o)\n",
    "    return model.predict(data.make_onehot(tokenizer,[X_nouns]))\n",
    "\n",
    "def predict_e(X_nouns):\n",
    "    if os.path.exists(op.model_e) :\n",
    "        model = load_model(op.model_e)\n",
    "    return model.predict(data.make_word_seq(tokenizer,[X_nouns]))\n",
    "\n",
    "# def predict_r(X_nouns):\n",
    "#     if os.path.exists(op.model_r) :\n",
    "#         model = load_model(op.model_r)\n",
    "#     return model.predict(data.make_word_seq(tokenizer,[X_nouns]))"
   ]
  },
  {
   "cell_type": "code",
   "execution_count": 7,
   "metadata": {},
   "outputs": [],
   "source": [
    "def main() :\n",
    "    X_test = input(\"신문기사를 입력하세요> \")\n",
    "    X_nouns = twitter.nouns(X_test)\n",
    "\n",
    "\n",
    "    #원 핫 인코딩으로 예측\n",
    "    result = predict_o( X_nouns )\n",
    "    print(\"원 핫 인코딩으로 예측 ==>\",result)\n",
    "    if result < 0.5 :\n",
    "        print( \"증권\")\n",
    "    else :\n",
    "         print(\"부동산\")\n",
    "\n",
    "\n",
    "    #임배딩으로 예측\n",
    "    result = predict_e( X_nouns )\n",
    "    print(\"임배딩으로 예측  ==>\",result)\n",
    "    if result < 0.5 :\n",
    "        print( \"증권\")\n",
    "    else :\n",
    "         print(\"부동산\")\n",
    "\n",
    "    #임배딩+RNN 으로 예측\n",
    "#     result = predict_r( X_nouns )\n",
    "#     print(\"RNN으로 예측  ==>\",result)\n",
    "#     if result < 0.5 :\n",
    "#         print( \"증권\")\n",
    "#     else :\n",
    "#          print(\"부동산\")\n"
   ]
  },
  {
   "cell_type": "code",
   "execution_count": 9,
   "metadata": {},
   "outputs": [
    {
     "name": "stdout",
     "output_type": "stream",
     "text": [
      "신문기사를 입력하세요> 중소기업계가 5.1% 인상이 결정된 내년도 최저임금 인상안에 대해 반대 의견을 표명했다.  코로나19 4차 유행이 시작된 가운데 최저임금의 일괄 인상이 중소기업과 소상공인의 경기 어려움을 가중시킬 것이란 우려에서다.  중소기업중앙회는 19일 이 같은 내용을 담은 내년도 최저임금 인상안에 대한 이의제기서를 고용노동부에 제출했다고 밝혔다.  중소기업계는 최저임금위원회가 최저임금 인상률의 주된 근거로 경제성장률 4.0%를 반영한 것에 대해 문제를 제기했다.  앞서 한국은행과 국책연구기관은 수출과 내수 경기 회복을 근거로 올해 우리나라 경제 성장률 전망치를 4.0%로 올려잡았다.  하지만 이달부터 갑작스레 4차 대유행이 시작되면서 여름 휴가철 특수와 보복 소비에 대한 기대감 마저 모두 날아가 버린 상태다.  이들을 둘러싼 외부 환경은 급격히 악화되고 있지만 이들을 고려한 정책적 배려는 부족하다는 것이 중소기업계 주장이다.  중소기업 관계자는 \"작년 경제가 마이너스 성장하던 시기에도 최저임금은 올랐으며, 코로나 피해 규모에 이어 회복세에서도 양극화가 심각한 상황인 점과 기저효과 등이 고려되지 못했다\"고 지적했다.  중소기업계는 최저임금 영향 근로자의 97.9%가 300인 미만, 83.6%는 30인 미만 기업에서 일하고 있는 것으로 파악하고 있다.  최저임금을 지급해야하는 사업주들의 사업 규모가 영세하다는 점을 감안해 최저임금 인상이 대출만기 연장과 각종 지원금으로 버티는 중소기업에 직접적인 타격을 줄 수 있다는 점을 고려해야 한다고 지적했다.  중기중앙회는 \"이미 최저임금 수준이 중위임금 대비 60%를 넘어 현장에서 여러 부작용이 발생하고 있으며 지금도 319만명이 최저임금을 못 받는 상황에서 무리한 인상으로 일자리 악화가 심해질 것\"이라고 우려했다.  그러면서 \"지금도 중소기업의 취업자수는 정상 회복을 못하고 있고 고용원 있는 자영업자는 계속 줄어들고 있는 현실을 근거로 최저임금 재심의가 필요하다\"고 주장했다.\n",
      "원 핫 인코딩으로 예측 ==> [[0.99966073]]\n",
      "부동산\n",
      "임배딩으로 예측  ==> [[0.15790576]]\n",
      "증권\n"
     ]
    }
   ],
   "source": [
    "if __name__ == '__main__':\n",
    "    main()"
   ]
  },
  {
   "cell_type": "code",
   "execution_count": null,
   "metadata": {},
   "outputs": [],
   "source": []
  }
 ],
 "metadata": {
  "kernelspec": {
   "display_name": "Python 3",
   "language": "python",
   "name": "python3"
  },
  "language_info": {
   "codemirror_mode": {
    "name": "ipython",
    "version": 3
   },
   "file_extension": ".py",
   "mimetype": "text/x-python",
   "name": "python",
   "nbconvert_exporter": "python",
   "pygments_lexer": "ipython3",
   "version": "3.8.8"
  }
 },
 "nbformat": 4,
 "nbformat_minor": 2
}
