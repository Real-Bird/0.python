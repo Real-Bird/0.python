{
 "cells": [
  {
   "cell_type": "code",
   "execution_count": 57,
   "metadata": {},
   "outputs": [
    {
     "ename": "KeyError",
     "evalue": "'model_o'",
     "output_type": "error",
     "traceback": [
      "\u001b[1;31m---------------------------------------------------------------------------\u001b[0m",
      "\u001b[1;31mKeyError\u001b[0m                                  Traceback (most recent call last)",
      "\u001b[1;32m<ipython-input-57-8283e93e7857>\u001b[0m in \u001b[0;36m<module>\u001b[1;34m\u001b[0m\n\u001b[0;32m      7\u001b[0m \u001b[1;32mfrom\u001b[0m \u001b[0mtensorflow\u001b[0m\u001b[1;33m.\u001b[0m\u001b[0mkeras\u001b[0m \u001b[1;32mimport\u001b[0m \u001b[0mpreprocessing\u001b[0m\u001b[1;33m\u001b[0m\u001b[1;33m\u001b[0m\u001b[0m\n\u001b[0;32m      8\u001b[0m \u001b[1;33m\u001b[0m\u001b[0m\n\u001b[1;32m----> 9\u001b[1;33m \u001b[0mop\u001b[0m \u001b[1;33m=\u001b[0m \u001b[0mopt\u001b[0m\u001b[1;33m.\u001b[0m\u001b[0mOptions\u001b[0m\u001b[1;33m(\u001b[0m\u001b[1;33m)\u001b[0m\u001b[1;33m\u001b[0m\u001b[1;33m\u001b[0m\u001b[0m\n\u001b[0m",
      "\u001b[1;32mC:\\00_빅데이터\\05_머신러닝과딥러닝\\문제\\miniPjt한글신문기사분류\\option.py\u001b[0m in \u001b[0;36m__init__\u001b[1;34m(self)\u001b[0m\n\u001b[0;32m     11\u001b[0m         \u001b[0mself\u001b[0m\u001b[1;33m.\u001b[0m\u001b[0membd_size\u001b[0m \u001b[1;33m=\u001b[0m\u001b[0mcate1\u001b[0m\u001b[1;33m[\u001b[0m\u001b[1;34m\"embd_size\"\u001b[0m\u001b[1;33m]\u001b[0m\u001b[1;33m\u001b[0m\u001b[1;33m\u001b[0m\u001b[0m\n\u001b[0;32m     12\u001b[0m         \u001b[0mself\u001b[0m\u001b[1;33m.\u001b[0m\u001b[0mmax_len\u001b[0m\u001b[1;33m=\u001b[0m\u001b[0mcate1\u001b[0m\u001b[1;33m[\u001b[0m\u001b[1;34m\"max_len\"\u001b[0m\u001b[1;33m]\u001b[0m\u001b[1;33m\u001b[0m\u001b[1;33m\u001b[0m\u001b[0m\n\u001b[1;32m---> 13\u001b[1;33m         \u001b[0mself\u001b[0m\u001b[1;33m.\u001b[0m\u001b[0mmax_unique_word\u001b[0m \u001b[1;33m=\u001b[0m \u001b[0mcate1\u001b[0m\u001b[1;33m[\u001b[0m\u001b[1;34m\"max_unique_word\"\u001b[0m\u001b[1;33m]\u001b[0m\u001b[1;33m\u001b[0m\u001b[1;33m\u001b[0m\u001b[0m\n\u001b[0m",
      "\u001b[1;31mKeyError\u001b[0m: 'model_o'"
     ]
    }
   ],
   "source": [
    "import option as opt \n",
    "import data\n",
    "import network \n",
    "import matplotlib.pyplot as plt\n",
    "import os \n",
    "from tensorflow.keras.models import load_model\n",
    "from tensorflow.keras import preprocessing\n",
    "\n",
    "op = opt.Options()"
   ]
  },
  {
   "cell_type": "code",
   "execution_count": null,
   "metadata": {},
   "outputs": [],
   "source": [
    "def train_o () :   # 원-핫 이진 벡터 로 학습 \n",
    "    tokenizer = data.get_word_index()    # 단어 인덱스를 구축\n",
    "    X_total, Y_total = data.load_one_hot_data(tokenizer)   # 원-핫 이진 벡터 표현\n",
    "    model = network.make_ann_model() \n",
    " \n",
    "    history = model.fit(X_total,\n",
    "                        Y_total ,\n",
    "                        epochs=op.num_epochs, \n",
    "                        shuffle=True,\n",
    "                        batch_size=100,\n",
    "                        validation_split=0.2 )\n",
    "\n",
    "    return history"
   ]
  },
  {
   "cell_type": "code",
   "execution_count": null,
   "metadata": {},
   "outputs": [],
   "source": [
    "def train_e():  # Embedding 으로 학습\n",
    "    tokenizer = data.get_word_index()  # 단어 인덱스를 구축\n",
    "\n",
    "    X_total, Y_total = data.load_one_word_seq(tokenizer )\n",
    "    model = network.make_emd_model() \n",
    "\n",
    "    history = model.fit(X_total,\n",
    "                        Y_total,\n",
    "                        epochs=op.num_epochs, \n",
    "                        shuffle=True,\n",
    "                        batch_size=100,\n",
    "                        validation_split=0.2)\n",
    "\n",
    "    return history"
   ]
  },
  {
   "cell_type": "code",
   "execution_count": null,
   "metadata": {},
   "outputs": [],
   "source": [
    "def showHistoryGraph(history, title) :\n",
    "    history = history.history\n",
    "    \"\"\"Cost/Loss  변화 추이 그래프\"\"\"\n",
    "    plt.plot(history['loss'])\n",
    "    plt.plot(history['val_loss'])\n",
    "    plt.ylabel('Loss')\n",
    "    plt.xlabel('Epoch')\n",
    "    plt.legend(['Training', 'Verification'], loc=0)\n",
    "    plt.title(title)\n",
    "    plt.show()"
   ]
  },
  {
   "cell_type": "code",
   "execution_count": null,
   "metadata": {},
   "outputs": [],
   "source": [
    "if __name__ == '__main__':\n",
    "    # 원핫\n",
    "    history = train_o ()\n",
    "    showHistoryGraph(history, \"one hot encoding\" )\n",
    "\n",
    "    # Embedding\n",
    "    history = train_e()\n",
    "    showHistoryGraph(history, \"Embedding\")\n",
    " \n"
   ]
  }
 ],
 "metadata": {
  "kernelspec": {
   "display_name": "Python 3",
   "language": "python",
   "name": "python3"
  },
  "language_info": {
   "codemirror_mode": {
    "name": "ipython",
    "version": 3
   },
   "file_extension": ".py",
   "mimetype": "text/x-python",
   "name": "python",
   "nbconvert_exporter": "python",
   "pygments_lexer": "ipython3",
   "version": "3.8.8"
  }
 },
 "nbformat": 4,
 "nbformat_minor": 2
}
