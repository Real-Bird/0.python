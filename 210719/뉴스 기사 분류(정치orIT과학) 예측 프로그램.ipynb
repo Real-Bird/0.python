{
 "cells": [
  {
   "cell_type": "code",
   "execution_count": 1,
   "source": [
    "# csv read 및 DataFrame return\r\n",
    "\r\n",
    "import csv\r\n",
    "import pandas as pd\r\n",
    "\r\n",
    "def cate(infile):\r\n",
    "\r\n",
    "    read_file = open(infile, 'r')\r\n",
    "    if '\\0' in open(infile).read():\r\n",
    "        read_line = csv.reader(x.replace('\\0', '') for x in read_file)\r\n",
    "    else:\r\n",
    "        read_line = csv.reader(read_file)\r\n",
    "    \r\n",
    "\r\n",
    "    total_file = []\r\n",
    "\r\n",
    "    categorical = []\r\n",
    "    content = []\r\n",
    "\r\n",
    "    for i in read_line:\r\n",
    "        categorical.append(i[0])\r\n",
    "        content.append(i[2])\r\n",
    "    \r\n",
    "    total_file.append(categorical)\r\n",
    "    total_file.append(content)\r\n",
    "\r\n",
    "    df = pd.DataFrame(total_file)\r\n",
    "    df = df.T\r\n",
    "    df.columns = [\"label\",\"data\"]\r\n",
    "    return df"
   ],
   "outputs": [],
   "metadata": {}
  },
  {
   "cell_type": "code",
   "execution_count": 2,
   "source": [
    "# DataFrame의 \"data\"열 형태소 분석\r\n",
    "from konlpy.tag import Okt\r\n",
    "\r\n",
    "def tokeniging(df):\r\n",
    "    okt = Okt()\r\n",
    "        \r\n",
    "    for n, i in enumerate(df[\"data\"]):\r\n",
    "        df[\"data\"][n] = okt.nouns(i)\r\n",
    "    \r\n",
    "    data = df\r\n",
    "    return data"
   ],
   "outputs": [],
   "metadata": {}
  },
  {
   "cell_type": "code",
   "execution_count": 3,
   "source": [
    "# DataFrame의 \"label\"열 라벨링\r\n",
    "\r\n",
    "from sklearn.preprocessing import LabelEncoder\r\n",
    "# LabelEncoder를 객체로 생성한 후 , fit( ) 과 transform( ) 으로 label 인코딩 수행. \r\n",
    "\r\n",
    "def to_lab(df):\r\n",
    "    encoder = LabelEncoder()\r\n",
    "    encoder.fit(df[\"label\"])\r\n",
    "    labels = encoder.transform(df[\"label\"])\r\n",
    "    \r\n",
    "    return labels"
   ],
   "outputs": [],
   "metadata": {}
  },
  {
   "cell_type": "code",
   "execution_count": 4,
   "source": [
    "# DataFrame의 \"data\"열 정수 변경\r\n",
    "\r\n",
    "from keras.preprocessing.text import Tokenizer\r\n",
    "\r\n",
    "def to_seq(df):\r\n",
    "    tokenizer = Tokenizer(num_words=1000)\r\n",
    "    tokenizer.fit_on_texts(df[\"data\"])\r\n",
    "    sequences = tokenizer.texts_to_sequences(df[\"data\"])\r\n",
    "    \r\n",
    "    return sequences"
   ],
   "outputs": [],
   "metadata": {}
  },
  {
   "cell_type": "code",
   "execution_count": 5,
   "source": [
    "# 학습\r\n",
    "\r\n",
    "from tensorflow.keras.layers import Embedding\r\n",
    "from tensorflow.keras import preprocessing\r\n",
    "from keras.models import Sequential\r\n",
    "from keras.layers import Flatten, Dense, Embedding\r\n",
    "\r\n",
    "def learning(X_train, Y_train):\r\n",
    "    ####### 데이터 준비 \r\n",
    "\r\n",
    "\r\n",
    "    max_features = 10000 # 특성으로 사용할 단어의 수\r\n",
    "    maxlen = 20  # 사용할 텍스트의 길이(가장 빈번한 20 개의 단어만 사용합니다)\r\n",
    "\r\n",
    "    # 리스트를 (samples, maxlen) 크기의 2D 정수 텐서로 변환.\r\n",
    "    X_train = preprocessing.sequence.pad_sequences(X_train, maxlen=maxlen) # 가장 빈번한 단어 최대 maxlen(20)개만\r\n",
    "\r\n",
    "    ####### 모델 생성\r\n",
    "    model = Sequential()\r\n",
    "\r\n",
    "    # 가능한 토큰의 개수(1,0000)와 임베딩 차원(8)로 설정 \r\n",
    "    model.add(Embedding(10000, 8, input_length=maxlen))\r\n",
    "    # Embedding 층의 출력 크기는 (samples, maxlen, 8)가 됨\r\n",
    "\r\n",
    "    model.add(Flatten())  #(samples, maxlen * 8) 크기의 2D 텐서로 펼침\r\n",
    "\r\n",
    "    # 분류기를 추가\r\n",
    "    model.add(Dense(1, activation='sigmoid'))\r\n",
    "    model.compile(optimizer='rmsprop', loss='binary_crossentropy', metrics=['acc'])\r\n",
    "    #model.summary()\r\n",
    "    ####### 학습\r\n",
    "\r\n",
    "    history = model.fit(X_train, Y_train,\r\n",
    "                        epochs=10,\r\n",
    "                        batch_size=32,\r\n",
    "                        validation_split=0.3)\r\n",
    "    return history"
   ],
   "outputs": [],
   "metadata": {}
  },
  {
   "cell_type": "code",
   "execution_count": 6,
   "source": [
    "# 학습 loss와 accuracy 시각화\r\n",
    "\r\n",
    "import matplotlib.pyplot as plt\r\n",
    "\r\n",
    "def visual(history):\r\n",
    "    history = history.history\r\n",
    "    plt.plot(history[\"loss\"])\r\n",
    "    plt.plot(history[\"val_loss\"])\r\n",
    "    plt.ylabel('Loss')\r\n",
    "    plt.xlabel('Epoch')\r\n",
    "    plt.legend(['Training', 'Verification'], loc=0)\r\n",
    "    plt.show()\r\n",
    "    \r\n",
    "    plt.plot(history[\"acc\"])\r\n",
    "    plt.plot(history[\"val_acc\"])\r\n",
    "    plt.ylabel('Accuracy')\r\n",
    "    plt.xlabel('Epoch')\r\n",
    "    plt.legend(['Training', 'Verification'], loc=0)\r\n",
    "    plt.show()"
   ],
   "outputs": [],
   "metadata": {}
  },
  {
   "cell_type": "code",
   "execution_count": 8,
   "source": [
    "# 기사 형태는 0열에 \"분류, 제목, 내용\"이 모두 들어있어야 함\r\n",
    "\r\n",
    "read = cate(\"../210716/Article_shuffled.csv\")\r\n",
    "\r\n",
    "token = tokeniging(read)\r\n",
    "\r\n",
    "X_train = to_seq(token)\r\n",
    "Y_train = to_lab(token)\r\n",
    "\r\n",
    "learn = learning(X_train, Y_train)\r\n",
    "visual(learn)"
   ],
   "outputs": [
    {
     "output_type": "stream",
     "name": "stdout",
     "text": [
      "Epoch 1/10\n",
      "124/124 [==============================] - 15s 8ms/step - loss: 0.6883 - acc: 0.5660 - val_loss: 0.6715 - val_acc: 0.6516\n",
      "Epoch 2/10\n",
      "124/124 [==============================] - 0s 4ms/step - loss: 0.6516 - acc: 0.7623 - val_loss: 0.6274 - val_acc: 0.7316\n",
      "Epoch 3/10\n",
      "124/124 [==============================] - 0s 2ms/step - loss: 0.5891 - acc: 0.8162 - val_loss: 0.5706 - val_acc: 0.7534\n",
      "Epoch 4/10\n",
      "124/124 [==============================] - 0s 2ms/step - loss: 0.5157 - acc: 0.8195 - val_loss: 0.5197 - val_acc: 0.7640\n",
      "Epoch 5/10\n",
      "124/124 [==============================] - 0s 2ms/step - loss: 0.4506 - acc: 0.8376 - val_loss: 0.4837 - val_acc: 0.7746\n",
      "Epoch 6/10\n",
      "124/124 [==============================] - 0s 2ms/step - loss: 0.4126 - acc: 0.8446 - val_loss: 0.4611 - val_acc: 0.7840\n",
      "Epoch 7/10\n",
      "124/124 [==============================] - 0s 2ms/step - loss: 0.3666 - acc: 0.8688 - val_loss: 0.4487 - val_acc: 0.7846\n",
      "Epoch 8/10\n",
      "124/124 [==============================] - 0s 2ms/step - loss: 0.3363 - acc: 0.8762 - val_loss: 0.4423 - val_acc: 0.7858\n",
      "Epoch 9/10\n",
      "124/124 [==============================] - 0s 2ms/step - loss: 0.3209 - acc: 0.8759 - val_loss: 0.4395 - val_acc: 0.7869\n",
      "Epoch 10/10\n",
      "124/124 [==============================] - 0s 2ms/step - loss: 0.2940 - acc: 0.8913 - val_loss: 0.4394 - val_acc: 0.7893\n"
     ]
    },
    {
     "output_type": "display_data",
     "data": {
      "text/plain": [
       "<Figure size 432x288 with 1 Axes>"
      ],
      "image/png": "[encoded data removed]"
     },
     "metadata": {
      "needs_background": "light"
     }
    },
    {
     "output_type": "display_data",
     "data": {
      "text/plain": [
       "<Figure size 432x288 with 1 Axes>"
      ],
      "image/png": "[encoded data removed]"
     },
     "metadata": {
      "needs_background": "light"
     }
    }
   ],
   "metadata": {}
  },
  {
   "cell_type": "code",
   "execution_count": 11,
   "source": [
    "# 예측할 데이터 입력, 분석, 출력\r\n",
    "\r\n",
    "def main():\r\n",
    "    okt = Okt()\r\n",
    "    tokenizer = Tokenizer(num_words=1000)\r\n",
    "    max_features = 10000 # 특성으로 사용할 단어의 수\r\n",
    "    maxlen = 20  # 사용할 텍스트의 길이(가장 빈번한 20 개의 단어만 사용합니다)\r\n",
    "    \r\n",
    "    ####### 모델 생성\r\n",
    "    model = Sequential()\r\n",
    "\r\n",
    "    # 가능한 토큰의 개수(1,0000)와 임베딩 차원(8)로 설정 \r\n",
    "    model.add(Embedding(10000, 8, input_length=maxlen))\r\n",
    "    # Embedding 층의 출력 크기는 (samples, maxlen, 8)가 됨\r\n",
    "\r\n",
    "    model.add(Flatten())  #(samples, maxlen * 8) 크기의 2D 텐서로 펼침\r\n",
    "\r\n",
    "    # 분류기를 추가\r\n",
    "    model.add(Dense(1, activation='sigmoid'))\r\n",
    "    model.compile(optimizer='rmsprop', loss='binary_crossentropy', metrics=['acc'])\r\n",
    "    \r\n",
    "    news_input = [input(\"기사 입력> \")]\r\n",
    "    print(news_input)\r\n",
    "    news_title = [okt.nouns(news_input[0])]\r\n",
    "    \r\n",
    "    tokenizer.fit_on_texts(news_title)\r\n",
    "\r\n",
    "    n_sequences = tokenizer.texts_to_sequences(news_title)\r\n",
    "\r\n",
    "    nt_data = preprocessing.sequence.pad_sequences(n_sequences, maxlen=maxlen)\r\n",
    "    \r\n",
    "    atc_result = model.predict(nt_data,batch_size=32)\r\n",
    "\r\n",
    "    if atc_result > 0.5:\r\n",
    "        print(\"IT과학,\", \"embd = \", atc_result)\r\n",
    "    else:\r\n",
    "        print(\"경제,\", \"embd = \", atc_result)"
   ],
   "outputs": [],
   "metadata": {}
  },
  {
   "cell_type": "code",
   "execution_count": 12,
   "source": [
    "# 실행\r\n",
    "if __name__ == \"__main__\":\r\n",
    "    main()"
   ],
   "outputs": [
    {
     "output_type": "stream",
     "name": "stdout",
     "text": [
      "['미국 금융당국이 가상화폐 시장에 대한 규제 강도를 높이기 시작했다. 달러와 연동되는 스테이블코인이 규제 사각지대에 놓여 있다는 지적에 미 금융당국도 움직이는 모양새다.  지난 17일(현지시간) 미 월스트리트저널(WSJ)에 따르면 재닛 옐런 재무장관은 19일(현지시간) 대통령 직속 금융시장실무그룹(PWG)을 소집해 스테이블코인의 시장 영향력과 관련 규제를 논의할 예정이다. 회의엔 연방준비제도(Fed), 증권거래위원회(SEC), 상품선물거래위원회(CFTC)의 각 위원장도 참석하기로 했다.  달러·유로 등 주요국 통화와 연동되는 가상화폐인 스테이블코인은 변동성이 심하지 않다. 이에 스테이블코인은 가상화폐 파생상품 시장에서 담보로 사용되는 등 가치가 안정적인 것으로 평가 받는다.  하지만 규제 사각지대에 놓여 투자자들이 손실을 입을 수 있다는 지적이 나왔다. 한 번에 많은 인원이 스테이블코인과 연동된 달러 인출을 시도하면 뱅크런과 같은 지불 불능 상태에 빠질 수 있다는 것이다. 현재 테더 등 스테이블코인 업체 측은 보유하고 있는 달러를 어떻게 관리해야 하는지 명확하게 규제되지 않은 상황이다. 2019년 해외 가상화폐 거래소 비트파이넥스는 고객 자산 손실을 숨기기 위해 테더에 예치된 8억5000만달러(약 9749억원)를 지원 받아 사용한 바 있다.']\n",
      "경제, embd =  [[0.4979554]]\n"
     ]
    }
   ],
   "metadata": {}
  },
  {
   "cell_type": "code",
   "execution_count": null,
   "source": [],
   "outputs": [],
   "metadata": {}
  }
 ],
 "metadata": {
  "kernelspec": {
   "display_name": "Python 3",
   "language": "python",
   "name": "python3"
  },
  "language_info": {
   "codemirror_mode": {
    "name": "ipython",
    "version": 3
   },
   "file_extension": ".py",
   "mimetype": "text/x-python",
   "name": "python",
   "nbconvert_exporter": "python",
   "pygments_lexer": "ipython3",
   "version": "3.8.8"
  }
 },
 "nbformat": 4,
 "nbformat_minor": 5
}