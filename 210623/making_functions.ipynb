{
 "cells": [
  {
   "cell_type": "markdown",
   "id": "6b4ad9c0",
   "metadata": {},
   "source": [
    "### 섭씨 온도를 화씨로 계산하는 함수 만들기\n",
    "1. 섭씨(celsius), 화씨(fahr),함수(conv_fahr)\n",
    "2. 화씨 = ((9/5)*섭씨) + 32\n",
    "    - 섭씨 25도 == 화씨 77도\n",
    "3. 섭씨를 화씨로 변환하여 결과 반환 함수 만들기\n",
    "4. 화면에서 섭씨 온도를 입력 받아 함수를 이용해 결과 받아서\n",
    "5. 화면에 출력\n",
    "    - 섭씨 OO은 화씨 OO입니다"
   ]
  },
  {
   "cell_type": "code",
   "execution_count": 6,
   "id": "2e1025a6",
   "metadata": {},
   "outputs": [],
   "source": [
    "def conv_fahr(celsius):\n",
    "    fahr = ((9/5)*celsius) + 32\n",
    "    return fahr"
   ]
  },
  {
   "cell_type": "code",
   "execution_count": 15,
   "id": "7f6f5048",
   "metadata": {},
   "outputs": [
    {
     "name": "stdout",
     "output_type": "stream",
     "text": [
      "25.3\n",
      "섭씨 25도는 화씨 77.54도입니다.\n",
      "섭씨 25도는 화씨 77.54도입니다.\n"
     ]
    }
   ],
   "source": [
    "celsius = float(input())\n",
    "fahr = conv_fahr(celsius)\n",
    "print(\"섭씨 {:.0f}도는 화씨 {:.2f}도입니다.\".format(celsius, fahr))\n",
    "print(\"섭씨 %.0f도는 화씨 %.2f도입니다.\"%(celsius,fahr))"
   ]
  },
  {
   "cell_type": "markdown",
   "id": "635c45a7",
   "metadata": {},
   "source": [
    "### 다음 데이터를 화씨로 변환하기\n",
    "1. 함수 이용\n",
    "2. x = [25,20,32,35]\n",
    "3. 화씨 y를 만들기"
   ]
  },
  {
   "cell_type": "code",
   "execution_count": 20,
   "id": "2eda28ec",
   "metadata": {},
   "outputs": [
    {
     "name": "stdout",
     "output_type": "stream",
     "text": [
      "[77.0, 68.0, 89.6, 95.0]\n"
     ]
    }
   ],
   "source": [
    "x = [25, 20, 32, 35]\n",
    "y = [conv_fahr(i) for i in x]\n",
    "\n",
    "print(y)"
   ]
  },
  {
   "cell_type": "code",
   "execution_count": 21,
   "id": "f3fcb343",
   "metadata": {},
   "outputs": [
    {
     "data": {
      "text/plain": [
       "<map at 0x22123e48610>"
      ]
     },
     "execution_count": 21,
     "metadata": {},
     "output_type": "execute_result"
    }
   ],
   "source": [
    "map(conv_fahr,x)"
   ]
  },
  {
   "cell_type": "code",
   "execution_count": 22,
   "id": "379aca4b",
   "metadata": {},
   "outputs": [
    {
     "data": {
      "text/plain": [
       "[77.0, 68.0, 89.6, 95.0]"
      ]
     },
     "execution_count": 22,
     "metadata": {},
     "output_type": "execute_result"
    }
   ],
   "source": [
    "list(map(conv_fahr,x))"
   ]
  },
  {
   "cell_type": "code",
   "execution_count": 26,
   "id": "284c0f00",
   "metadata": {},
   "outputs": [
    {
     "name": "stdout",
     "output_type": "stream",
     "text": [
      "[77.0, 68.0, 89.6, 95.0]\n"
     ]
    }
   ],
   "source": [
    "a = [i for i in map(conv_fahr,x)]\n",
    "print(a)"
   ]
  },
  {
   "cell_type": "code",
   "execution_count": 29,
   "id": "3e2d650d",
   "metadata": {},
   "outputs": [
    {
     "name": "stdout",
     "output_type": "stream",
     "text": [
      "[77.0, 68.0, 89.6, 95.0]\n"
     ]
    }
   ],
   "source": [
    "b = [i for i in map(lambda c: (9/5)*c+32, x)]\n",
    "print(b)"
   ]
  },
  {
   "cell_type": "markdown",
   "id": "dc7d8d42",
   "metadata": {},
   "source": [
    "### 화면에서 입력 받아 반복 처리\n",
    "1. while True:\n",
    "2. 입력이 0이거나 5번 작업 후 종료"
   ]
  },
  {
   "cell_type": "code",
   "execution_count": 41,
   "id": "7707dad0",
   "metadata": {},
   "outputs": [
    {
     "name": "stdout",
     "output_type": "stream",
     "text": [
      "섭씨 온도는? 1\n",
      "섭씨 1.0는 화씨 33.80입니다.\n",
      "섭씨 온도는? 2\n",
      "섭씨 2.0는 화씨 35.60입니다.\n",
      "섭씨 온도는? 3\n",
      "섭씨 3.0는 화씨 37.40입니다.\n",
      "섭씨 온도는? 4\n",
      "섭씨 4.0는 화씨 39.20입니다.\n",
      "섭씨 온도는? 5\n",
      "작업 종료!!!\n"
     ]
    }
   ],
   "source": [
    "count = 1\n",
    "while True:\n",
    "    aa = float(input(\"섭씨 온도는? \"))\n",
    "    if (aa == 0) | (count == 5):\n",
    "        break\n",
    "    bb = conv_fahr(aa)\n",
    "    count += 1\n",
    "    print(\"섭씨 %s는 화씨 %3.2f입니다.\"%(aa,bb))\n",
    "print(\"작업 종료!!!\")"
   ]
  },
  {
   "cell_type": "code",
   "execution_count": null,
   "id": "9e3d0f41",
   "metadata": {},
   "outputs": [],
   "source": []
  }
 ],
 "metadata": {
  "kernelspec": {
   "display_name": "Python 3",
   "language": "python",
   "name": "python3"
  },
  "language_info": {
   "codemirror_mode": {
    "name": "ipython",
    "version": 3
   },
   "file_extension": ".py",
   "mimetype": "text/x-python",
   "name": "python",
   "nbconvert_exporter": "python",
   "pygments_lexer": "ipython3",
   "version": "3.8.8"
  }
 },
 "nbformat": 4,
 "nbformat_minor": 5
}
