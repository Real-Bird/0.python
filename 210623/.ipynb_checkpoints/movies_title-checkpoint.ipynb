{
 "cells": [
  {
   "cell_type": "code",
   "execution_count": 1,
   "id": "dfcf5e28",
   "metadata": {},
   "outputs": [],
   "source": [
    "import numpy as np\n",
    "import pandas as pd\n",
    "import matplotlib.pyplot as plt\n",
    "import seaborn as sns"
   ]
  },
  {
   "cell_type": "code",
   "execution_count": 2,
   "id": "a23072de",
   "metadata": {},
   "outputs": [],
   "source": [
    "mt = pd.read_csv(\"c:/python/movies_title.csv\")"
   ]
  },
  {
   "cell_type": "code",
   "execution_count": 3,
   "id": "ca18b63f",
   "metadata": {},
   "outputs": [
    {
     "data": {
      "text/html": [
       "<div>\n",
       "<style scoped>\n",
       "    .dataframe tbody tr th:only-of-type {\n",
       "        vertical-align: middle;\n",
       "    }\n",
       "\n",
       "    .dataframe tbody tr th {\n",
       "        vertical-align: top;\n",
       "    }\n",
       "\n",
       "    .dataframe thead th {\n",
       "        text-align: right;\n",
       "    }\n",
       "</style>\n",
       "<table border=\"1\" class=\"dataframe\">\n",
       "  <thead>\n",
       "    <tr style=\"text-align: right;\">\n",
       "      <th></th>\n",
       "      <th>title</th>\n",
       "      <th>year</th>\n",
       "    </tr>\n",
       "  </thead>\n",
       "  <tbody>\n",
       "    <tr>\n",
       "      <th>165182</th>\n",
       "      <td>Miss Jerry</td>\n",
       "      <td>1894</td>\n",
       "    </tr>\n",
       "    <tr>\n",
       "      <th>85708</th>\n",
       "      <td>Reproduction of the Corbett and Fitzsimmons Fight</td>\n",
       "      <td>1897</td>\n",
       "    </tr>\n",
       "    <tr>\n",
       "      <th>115903</th>\n",
       "      <td>Reproduction of the Corbett and Jeffries Fight</td>\n",
       "      <td>1899</td>\n",
       "    </tr>\n",
       "    <tr>\n",
       "      <th>198354</th>\n",
       "      <td>Sharkey-McCoy Fight Reproduced in 10 Rounds</td>\n",
       "      <td>1899</td>\n",
       "    </tr>\n",
       "    <tr>\n",
       "      <th>12582</th>\n",
       "      <td>Family Troubles (II)</td>\n",
       "      <td>1900</td>\n",
       "    </tr>\n",
       "    <tr>\n",
       "      <th>...</th>\n",
       "      <td>...</td>\n",
       "      <td>...</td>\n",
       "    </tr>\n",
       "    <tr>\n",
       "      <th>26537</th>\n",
       "      <td>Spider in the Web</td>\n",
       "      <td>2022</td>\n",
       "    </tr>\n",
       "    <tr>\n",
       "      <th>185368</th>\n",
       "      <td>The Tree of Death</td>\n",
       "      <td>2022</td>\n",
       "    </tr>\n",
       "    <tr>\n",
       "      <th>40476</th>\n",
       "      <td>Rosie</td>\n",
       "      <td>2022</td>\n",
       "    </tr>\n",
       "    <tr>\n",
       "      <th>199790</th>\n",
       "      <td>New in Village</td>\n",
       "      <td>2024</td>\n",
       "    </tr>\n",
       "    <tr>\n",
       "      <th>44198</th>\n",
       "      <td>Wild Runs</td>\n",
       "      <td>2024</td>\n",
       "    </tr>\n",
       "  </tbody>\n",
       "</table>\n",
       "<p>215981 rows × 2 columns</p>\n",
       "</div>"
      ],
      "text/plain": [
       "                                                    title  year\n",
       "165182                                         Miss Jerry  1894\n",
       "85708   Reproduction of the Corbett and Fitzsimmons Fight  1897\n",
       "115903     Reproduction of the Corbett and Jeffries Fight  1899\n",
       "198354        Sharkey-McCoy Fight Reproduced in 10 Rounds  1899\n",
       "12582                                Family Troubles (II)  1900\n",
       "...                                                   ...   ...\n",
       "26537                                   Spider in the Web  2022\n",
       "185368                                  The Tree of Death  2022\n",
       "40476                                               Rosie  2022\n",
       "199790                                     New in Village  2024\n",
       "44198                                           Wild Runs  2024\n",
       "\n",
       "[215981 rows x 2 columns]"
      ]
     },
     "execution_count": 3,
     "metadata": {},
     "output_type": "execute_result"
    }
   ],
   "source": [
    "mt.sort_values(by = \"year\")"
   ]
  },
  {
   "cell_type": "code",
   "execution_count": 4,
   "id": "91d92b25",
   "metadata": {},
   "outputs": [
    {
     "data": {
      "text/plain": [
       "(215981, 2)"
      ]
     },
     "execution_count": 4,
     "metadata": {},
     "output_type": "execute_result"
    }
   ],
   "source": [
    "mt.shape"
   ]
  },
  {
   "cell_type": "code",
   "execution_count": 5,
   "id": "f1cc2348",
   "metadata": {},
   "outputs": [
    {
     "data": {
      "text/html": [
       "<div>\n",
       "<style scoped>\n",
       "    .dataframe tbody tr th:only-of-type {\n",
       "        vertical-align: middle;\n",
       "    }\n",
       "\n",
       "    .dataframe tbody tr th {\n",
       "        vertical-align: top;\n",
       "    }\n",
       "\n",
       "    .dataframe thead th {\n",
       "        text-align: right;\n",
       "    }\n",
       "</style>\n",
       "<table border=\"1\" class=\"dataframe\">\n",
       "  <thead>\n",
       "    <tr style=\"text-align: right;\">\n",
       "      <th></th>\n",
       "      <th>title</th>\n",
       "      <th>year</th>\n",
       "    </tr>\n",
       "  </thead>\n",
       "  <tbody>\n",
       "    <tr>\n",
       "      <th>0</th>\n",
       "      <td>False</td>\n",
       "      <td>False</td>\n",
       "    </tr>\n",
       "    <tr>\n",
       "      <th>1</th>\n",
       "      <td>False</td>\n",
       "      <td>False</td>\n",
       "    </tr>\n",
       "    <tr>\n",
       "      <th>2</th>\n",
       "      <td>False</td>\n",
       "      <td>False</td>\n",
       "    </tr>\n",
       "    <tr>\n",
       "      <th>3</th>\n",
       "      <td>False</td>\n",
       "      <td>False</td>\n",
       "    </tr>\n",
       "    <tr>\n",
       "      <th>4</th>\n",
       "      <td>False</td>\n",
       "      <td>False</td>\n",
       "    </tr>\n",
       "    <tr>\n",
       "      <th>...</th>\n",
       "      <td>...</td>\n",
       "      <td>...</td>\n",
       "    </tr>\n",
       "    <tr>\n",
       "      <th>215976</th>\n",
       "      <td>False</td>\n",
       "      <td>False</td>\n",
       "    </tr>\n",
       "    <tr>\n",
       "      <th>215977</th>\n",
       "      <td>False</td>\n",
       "      <td>False</td>\n",
       "    </tr>\n",
       "    <tr>\n",
       "      <th>215978</th>\n",
       "      <td>False</td>\n",
       "      <td>False</td>\n",
       "    </tr>\n",
       "    <tr>\n",
       "      <th>215979</th>\n",
       "      <td>False</td>\n",
       "      <td>False</td>\n",
       "    </tr>\n",
       "    <tr>\n",
       "      <th>215980</th>\n",
       "      <td>False</td>\n",
       "      <td>False</td>\n",
       "    </tr>\n",
       "  </tbody>\n",
       "</table>\n",
       "<p>215981 rows × 2 columns</p>\n",
       "</div>"
      ],
      "text/plain": [
       "        title   year\n",
       "0       False  False\n",
       "1       False  False\n",
       "2       False  False\n",
       "3       False  False\n",
       "4       False  False\n",
       "...       ...    ...\n",
       "215976  False  False\n",
       "215977  False  False\n",
       "215978  False  False\n",
       "215979  False  False\n",
       "215980  False  False\n",
       "\n",
       "[215981 rows x 2 columns]"
      ]
     },
     "execution_count": 5,
     "metadata": {},
     "output_type": "execute_result"
    }
   ],
   "source": [
    "mt.isnull()"
   ]
  },
  {
   "cell_type": "code",
   "execution_count": 6,
   "id": "eb162850",
   "metadata": {},
   "outputs": [
    {
     "name": "stdout",
     "output_type": "stream",
     "text": [
      "<class 'pandas.core.frame.DataFrame'>\n",
      "RangeIndex: 215981 entries, 0 to 215980\n",
      "Data columns (total 2 columns):\n",
      " #   Column  Non-Null Count   Dtype \n",
      "---  ------  --------------   ----- \n",
      " 0   title   215981 non-null  object\n",
      " 1   year    215981 non-null  int64 \n",
      "dtypes: int64(1), object(1)\n",
      "memory usage: 3.3+ MB\n"
     ]
    }
   ],
   "source": [
    "mt.info()"
   ]
  },
  {
   "cell_type": "code",
   "execution_count": 7,
   "id": "8a853503",
   "metadata": {},
   "outputs": [
    {
     "data": {
      "text/html": [
       "<div>\n",
       "<style scoped>\n",
       "    .dataframe tbody tr th:only-of-type {\n",
       "        vertical-align: middle;\n",
       "    }\n",
       "\n",
       "    .dataframe tbody tr th {\n",
       "        vertical-align: top;\n",
       "    }\n",
       "\n",
       "    .dataframe thead th {\n",
       "        text-align: right;\n",
       "    }\n",
       "</style>\n",
       "<table border=\"1\" class=\"dataframe\">\n",
       "  <thead>\n",
       "    <tr style=\"text-align: right;\">\n",
       "      <th></th>\n",
       "      <th>year</th>\n",
       "    </tr>\n",
       "  </thead>\n",
       "  <tbody>\n",
       "    <tr>\n",
       "      <th>count</th>\n",
       "      <td>215981.000000</td>\n",
       "    </tr>\n",
       "    <tr>\n",
       "      <th>mean</th>\n",
       "      <td>1984.553822</td>\n",
       "    </tr>\n",
       "    <tr>\n",
       "      <th>std</th>\n",
       "      <td>29.343957</td>\n",
       "    </tr>\n",
       "    <tr>\n",
       "      <th>min</th>\n",
       "      <td>1894.000000</td>\n",
       "    </tr>\n",
       "    <tr>\n",
       "      <th>25%</th>\n",
       "      <td>1965.000000</td>\n",
       "    </tr>\n",
       "    <tr>\n",
       "      <th>50%</th>\n",
       "      <td>1994.000000</td>\n",
       "    </tr>\n",
       "    <tr>\n",
       "      <th>75%</th>\n",
       "      <td>2010.000000</td>\n",
       "    </tr>\n",
       "    <tr>\n",
       "      <th>max</th>\n",
       "      <td>2024.000000</td>\n",
       "    </tr>\n",
       "  </tbody>\n",
       "</table>\n",
       "</div>"
      ],
      "text/plain": [
       "                year\n",
       "count  215981.000000\n",
       "mean     1984.553822\n",
       "std        29.343957\n",
       "min      1894.000000\n",
       "25%      1965.000000\n",
       "50%      1994.000000\n",
       "75%      2010.000000\n",
       "max      2024.000000"
      ]
     },
     "execution_count": 7,
     "metadata": {},
     "output_type": "execute_result"
    }
   ],
   "source": [
    "mt.describe()"
   ]
  },
  {
   "cell_type": "code",
   "execution_count": 8,
   "id": "0f8527a8",
   "metadata": {},
   "outputs": [
    {
     "data": {
      "text/plain": [
       "title    object\n",
       "year      int64\n",
       "dtype: object"
      ]
     },
     "execution_count": 8,
     "metadata": {},
     "output_type": "execute_result"
    }
   ],
   "source": [
    "mt.dtypes"
   ]
  },
  {
   "cell_type": "code",
   "execution_count": 9,
   "id": "ceeea490",
   "metadata": {},
   "outputs": [
    {
     "data": {
      "text/plain": [
       "RangeIndex(start=0, stop=215981, step=1)"
      ]
     },
     "execution_count": 9,
     "metadata": {},
     "output_type": "execute_result"
    }
   ],
   "source": [
    "mt.index"
   ]
  },
  {
   "cell_type": "code",
   "execution_count": 10,
   "id": "7f18b1dd",
   "metadata": {},
   "outputs": [],
   "source": [
    "def necs(df):\n",
    "    print(\"head = \\n\", df.head())\n",
    "    print(\"-\"*50)\n",
    "    print(\"tail = \\n\",df.tail())\n",
    "    print(\"-\"*50)\n",
    "    print(\"shape = \\n\",df.shape)\n",
    "    print(\"-\"*50)\n",
    "    print(\"info = \\n\",df.info())\n",
    "    print(\"-\"*50)\n",
    "    print(\"isnull = \\n\",df.isnull().sum())\n",
    "    print(\"-\"*50)\n",
    "    print(\"describe = \\n\",df.describe())\n",
    "    print(\"-\"*50)\n",
    "    print(\"title_data = \\n\",df[\"title\"].value_counts())\n",
    "    print(\"-\"*50)\n",
    "    print(\"year_data = \\n\",df[\"year\"].value_counts())\n",
    "    print(\"-\"*50)\n",
    "    print(\"col = \\n\", df.columns)"
   ]
  },
  {
   "cell_type": "code",
   "execution_count": 23,
   "id": "b22c8866",
   "metadata": {},
   "outputs": [
    {
     "name": "stdout",
     "output_type": "stream",
     "text": [
      "head = \n",
      "                      title  year\n",
      "0           The Rising Son  1990\n",
      "1        Ashes of Kukulcan  2016\n",
      "2  The Thousand Plane Raid  1969\n",
      "3         Crucea de piatra  1993\n",
      "4                   The 86  2015\n",
      "--------------------------------------------------\n",
      "tail = \n",
      "                       title  year\n",
      "215976       Le mouton noir  1922\n",
      "215977  Edge of the Unknown  2015\n",
      "215978                E yue  2005\n",
      "215979         Lakota Girls  2015\n",
      "215980         The Sting II  1983\n",
      "--------------------------------------------------\n",
      "shape = \n",
      " (215981, 2)\n",
      "--------------------------------------------------\n",
      "<class 'pandas.core.frame.DataFrame'>\n",
      "RangeIndex: 215981 entries, 0 to 215980\n",
      "Data columns (total 2 columns):\n",
      " #   Column  Non-Null Count   Dtype \n",
      "---  ------  --------------   ----- \n",
      " 0   title   215981 non-null  object\n",
      " 1   year    215981 non-null  int64 \n",
      "dtypes: int64(1), object(1)\n",
      "memory usage: 3.3+ MB\n",
      "info = \n",
      " None\n",
      "--------------------------------------------------\n",
      "isnull = \n",
      " title    0\n",
      "year     0\n",
      "dtype: int64\n",
      "--------------------------------------------------\n",
      "describe = \n",
      "                 year\n",
      "count  215981.000000\n",
      "mean     1984.553822\n",
      "std        29.343957\n",
      "min      1894.000000\n",
      "25%      1965.000000\n",
      "50%      1994.000000\n",
      "75%      2010.000000\n",
      "max      2024.000000\n",
      "--------------------------------------------------\n",
      "title_data = \n",
      " Hamlet                  19\n",
      "Carmen                  14\n",
      "Macbeth                 14\n",
      "The Three Musketeers    12\n",
      "Maya                    11\n",
      "                        ..\n",
      "Pour toujours            1\n",
      "Jiu qing mian mian       1\n",
      "Country Hooker           1\n",
      "Road to El Rey           1\n",
      "Thor: Ragnarok           1\n",
      "Name: title, Length: 197575, dtype: int64\n",
      "--------------------------------------------------\n",
      "year_data = \n",
      " 2015    13978\n",
      "2014     8209\n",
      "2013     7664\n",
      "2012     7273\n",
      "2011     6844\n",
      "        ...  \n",
      "1899        2\n",
      "2024        2\n",
      "1903        1\n",
      "1897        1\n",
      "1894        1\n",
      "Name: year, Length: 124, dtype: int64\n",
      "--------------------------------------------------\n",
      "col = \n",
      " Index(['title', 'year'], dtype='object')\n"
     ]
    }
   ],
   "source": [
    "# 필수 명령어 실행\n",
    "necs(mt)"
   ]
  },
  {
   "cell_type": "code",
   "execution_count": 24,
   "id": "2bd0215e",
   "metadata": {},
   "outputs": [
    {
     "name": "stdout",
     "output_type": "stream",
     "text": [
      "전체 영화 개수 =  215981\n"
     ]
    }
   ],
   "source": [
    "#전체 영화 개수\n",
    "print(\"전체 영화 개수 = \", len(mt[\"title\"]))\n",
    "# mt.shpae[0]\n",
    "# mt.count()\n",
    "# mt[\"title\"].count()\n",
    "# mt.title.count()"
   ]
  },
  {
   "cell_type": "code",
   "execution_count": 27,
   "id": "e32f2896",
   "metadata": {},
   "outputs": [
    {
     "name": "stdout",
     "output_type": "stream",
     "text": [
      "가장 빠른 시기에 제작된 영화 2개 = \n",
      " ['Miss Jerry' 'Reproduction of the Corbett and Fitzsimmons Fight']\n"
     ]
    }
   ],
   "source": [
    "#가장 빠른 시기에 제작된 영화 2개 찾기\n",
    "ealy_movies = mt.sort_values(by=\"year\").head(2)[\"title\"].values\n",
    "print(\"가장 빠른 시기에 제작된 영화 2개 = \\n\", ealy_movies)\n",
    "# print(mt.sort_values(by=\"year\").head(2))"
   ]
  },
  {
   "cell_type": "code",
   "execution_count": 14,
   "id": "4f752ec2",
   "metadata": {},
   "outputs": [
    {
     "name": "stdout",
     "output_type": "stream",
     "text": [
      "제목이 'Hamlet'인 영화의 개수 =  19\n"
     ]
    }
   ],
   "source": [
    "#제목이 \"Hamlet\"인 영화는 몇 개?\n",
    "hamlet = []\n",
    "\n",
    "for i in mt[\"title\"]:\n",
    "    if i == \"Hamlet\":\n",
    "        hamlet.append(i)\n",
    "print(\"제목이 'Hamlet'인 영화의 개수 = \", len(hamlet))"
   ]
  },
  {
   "cell_type": "code",
   "execution_count": 30,
   "id": "56a824c1",
   "metadata": {},
   "outputs": [
    {
     "name": "stdout",
     "output_type": "stream",
     "text": [
      "제목이 'Treasure Island'인 영화의 개수(제작년도 오름차순 나열) = \n",
      " 8 \n",
      " [['Treasure Island', 1918], ['Treasure Island', 1920], ['Treasure Island', 1934], ['Treasure Island', 1950], ['Treasure Island', 1972], ['Treasure Island', 1973], ['Treasure Island', 1985], ['Treasure Island', 1999]]\n"
     ]
    }
   ],
   "source": [
    "#제목이 \"Treasure Island\"인 영화는 몇 개? 제작년도 오름차순 나열\n",
    "mt2 = mt.copy()\n",
    "mt2 = mt2.loc[mt2[\"title\"]==\"Treasure Island\"].sort_values(by=\"year\")\n",
    "ti = []\n",
    "for i in mt2.values:\n",
    "    ti.append(list(i))\n",
    "\n",
    "print(\"제목이 'Treasure Island'인 영화의 개수(제작년도 오름차순 나열) = \\n\",len(ti),\n",
    "      \"\\n\",ti)"
   ]
  },
  {
   "cell_type": "code",
   "execution_count": 58,
   "id": "e8d11e76",
   "metadata": {},
   "outputs": [
    {
     "name": "stdout",
     "output_type": "stream",
     "text": [
      "1950년 ~ 1959년 사이 영화 개수 =  12120\n"
     ]
    }
   ],
   "source": [
    "#1950년 ~ 1959년 사이에 만들어진 영화는 몇 개?\n",
    "fifty_movies = []\n",
    "for i in mt[\"year\"]:\n",
    "    if i >= 1950 and i <= 1959:\n",
    "        fifty_movies.append(mt[\"title\"])\n",
    "print(\"1950년 ~ 1959년 사이 영화 개수 = \",len(fifty_movies))"
   ]
  },
  {
   "cell_type": "markdown",
   "id": "30b60efe",
   "metadata": {},
   "source": [
    "### 년도별 영화를 가장 많이 제작된 해 top 5\n",
    "1. 년도별 영화건수 누적\n",
    "2. 내림차순 영화건수\n",
    "3. top 5"
   ]
  },
  {
   "cell_type": "code",
   "execution_count": 59,
   "id": "e8749dbd",
   "metadata": {},
   "outputs": [
    {
     "data": {
      "text/html": [
       "<div>\n",
       "<style scoped>\n",
       "    .dataframe tbody tr th:only-of-type {\n",
       "        vertical-align: middle;\n",
       "    }\n",
       "\n",
       "    .dataframe tbody tr th {\n",
       "        vertical-align: top;\n",
       "    }\n",
       "\n",
       "    .dataframe thead th {\n",
       "        text-align: right;\n",
       "    }\n",
       "</style>\n",
       "<table border=\"1\" class=\"dataframe\">\n",
       "  <thead>\n",
       "    <tr style=\"text-align: right;\">\n",
       "      <th></th>\n",
       "      <th>title</th>\n",
       "    </tr>\n",
       "    <tr>\n",
       "      <th>year</th>\n",
       "      <th></th>\n",
       "    </tr>\n",
       "  </thead>\n",
       "  <tbody>\n",
       "    <tr>\n",
       "      <th>2015</th>\n",
       "      <td>13978</td>\n",
       "    </tr>\n",
       "    <tr>\n",
       "      <th>2014</th>\n",
       "      <td>8209</td>\n",
       "    </tr>\n",
       "    <tr>\n",
       "      <th>2013</th>\n",
       "      <td>7664</td>\n",
       "    </tr>\n",
       "    <tr>\n",
       "      <th>2012</th>\n",
       "      <td>7273</td>\n",
       "    </tr>\n",
       "    <tr>\n",
       "      <th>2011</th>\n",
       "      <td>6844</td>\n",
       "    </tr>\n",
       "  </tbody>\n",
       "</table>\n",
       "</div>"
      ],
      "text/plain": [
       "      title\n",
       "year       \n",
       "2015  13978\n",
       "2014   8209\n",
       "2013   7664\n",
       "2012   7273\n",
       "2011   6844"
      ]
     },
     "execution_count": 59,
     "metadata": {},
     "output_type": "execute_result"
    }
   ],
   "source": [
    "#DataFrame\n",
    "mt.groupby([\"year\"]).count().sort_values(\"title\", ascending=False).head(5)"
   ]
  },
  {
   "cell_type": "code",
   "execution_count": 60,
   "id": "e0eec07b",
   "metadata": {},
   "outputs": [
    {
     "data": {
      "text/plain": [
       "year\n",
       "2015    13978\n",
       "2014     8209\n",
       "2013     7664\n",
       "2012     7273\n",
       "2011     6844\n",
       "Name: title, dtype: int64"
      ]
     },
     "execution_count": 60,
     "metadata": {},
     "output_type": "execute_result"
    }
   ],
   "source": [
    "#Series\n",
    "mt.groupby(\"year\").count()[\"title\"].sort_values(ascending=False).head(5)"
   ]
  },
  {
   "cell_type": "code",
   "execution_count": null,
   "id": "5bbddda8",
   "metadata": {},
   "outputs": [],
   "source": []
  }
 ],
 "metadata": {
  "kernelspec": {
   "display_name": "Python 3",
   "language": "python",
   "name": "python3"
  },
  "language_info": {
   "codemirror_mode": {
    "name": "ipython",
    "version": 3
   },
   "file_extension": ".py",
   "mimetype": "text/x-python",
   "name": "python",
   "nbconvert_exporter": "python",
   "pygments_lexer": "ipython3",
   "version": "3.8.8"
  }
 },
 "nbformat": 4,
 "nbformat_minor": 5
}
