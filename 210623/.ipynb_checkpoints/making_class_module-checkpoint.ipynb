{
 "cells": [
  {
   "cell_type": "markdown",
   "id": "f663d1f9",
   "metadata": {},
   "source": [
    "### 클래스\n",
    "1. 클래스, class : 같은 명령문 생성을 반복하는 설계, 틀\n",
    "    - 객체(object)는 클래스에 의해 만들어진 것\n",
    "    - 각각의 객체는 독립적\n",
    "    - 클래스는 변수와 함수로 구성\n",
    "2. 인스턴스, instance : 클래스에 의해 만들어진 객체\n",
    "    - 메모리에 할당\n",
    "    - 객체 이름 = 클래스 이름(파라미터...)\n",
    "    - 객체이름.변수, 객체이름.메소드() 형식으로 사용\n",
    "3. 속성, attribute\n",
    "    - 클래스의 속성\n",
    "4. 메소드, method\n",
    "    - 객체가 할 수 있는 기능, 동작\n",
    "5. 객체지향, 캡슐화 : 속성과 메소드를 하나로 묶어서 처리"
   ]
  },
  {
   "cell_type": "code",
   "execution_count": 2,
   "id": "ea1c49e7",
   "metadata": {},
   "outputs": [],
   "source": [
    "result = 0\n",
    "def add(num):\n",
    "    global result\n",
    "    result += num\n",
    "    return result"
   ]
  },
  {
   "cell_type": "code",
   "execution_count": 5,
   "id": "91622bf3",
   "metadata": {},
   "outputs": [],
   "source": [
    "result1 = 0\n",
    "result2 = 0\n",
    "def add1(num):\n",
    "    global result1\n",
    "    result1 += num\n",
    "    return result1\n",
    "def add2(num):\n",
    "    global result2\n",
    "    result2 += num\n",
    "    return result2"
   ]
  },
  {
   "cell_type": "markdown",
   "id": "69dee95b",
   "metadata": {},
   "source": [
    "## class 만들기\n",
    "- class 클래스명:\n",
    "    - 클래스 변수 선언\n",
    "    - def 함수\n",
    "    - def 함수\n",
    "    - def 함수"
   ]
  },
  {
   "cell_type": "code",
   "execution_count": 9,
   "id": "6bee8a60",
   "metadata": {},
   "outputs": [],
   "source": [
    "class Calculator:\n",
    "    txt = \"문자\"\n",
    "    def sum(self, a, b):\n",
    "        c = a + b\n",
    "        return c"
   ]
  },
  {
   "cell_type": "code",
   "execution_count": 11,
   "id": "03a5df0b",
   "metadata": {},
   "outputs": [
    {
     "data": {
      "text/plain": [
       "<__main__.Calculator at 0x1d500cb90d0>"
      ]
     },
     "execution_count": 11,
     "metadata": {},
     "output_type": "execute_result"
    }
   ],
   "source": [
    "Calculator()"
   ]
  },
  {
   "cell_type": "code",
   "execution_count": 16,
   "id": "de61e989",
   "metadata": {},
   "outputs": [],
   "source": [
    "x = Calculator()"
   ]
  },
  {
   "cell_type": "code",
   "execution_count": 17,
   "id": "b5e41239",
   "metadata": {},
   "outputs": [
    {
     "data": {
      "text/plain": [
       "7"
      ]
     },
     "execution_count": 17,
     "metadata": {},
     "output_type": "execute_result"
    }
   ],
   "source": [
    "x.sum(2,5)"
   ]
  },
  {
   "cell_type": "code",
   "execution_count": 18,
   "id": "cca50306",
   "metadata": {},
   "outputs": [],
   "source": [
    "y = Calculator()"
   ]
  },
  {
   "cell_type": "code",
   "execution_count": 19,
   "id": "1405fa05",
   "metadata": {},
   "outputs": [
    {
     "data": {
      "text/plain": [
       "'문자'"
      ]
     },
     "execution_count": 19,
     "metadata": {},
     "output_type": "execute_result"
    }
   ],
   "source": [
    "y.txt"
   ]
  },
  {
   "cell_type": "code",
   "execution_count": 20,
   "id": "3fdf3ae5",
   "metadata": {},
   "outputs": [],
   "source": [
    "class Employee:\n",
    "    def __init__(self, name, salary):\n",
    "        print(\"시작\")\n",
    "        self.name = name\n",
    "        self.salary = salary\n",
    "    def display(self):\n",
    "        print(\"hello~ \", self.name)"
   ]
  },
  {
   "cell_type": "code",
   "execution_count": 25,
   "id": "50b6f6c5",
   "metadata": {},
   "outputs": [
    {
     "name": "stdout",
     "output_type": "stream",
     "text": [
      "시작\n"
     ]
    }
   ],
   "source": [
    "x = Employee(\"김개똥\", 300)"
   ]
  },
  {
   "cell_type": "code",
   "execution_count": 26,
   "id": "63e7aec3",
   "metadata": {},
   "outputs": [
    {
     "name": "stdout",
     "output_type": "stream",
     "text": [
      "hello~  김개똥\n"
     ]
    }
   ],
   "source": [
    "x.display()"
   ]
  },
  {
   "cell_type": "code",
   "execution_count": 27,
   "id": "3bc75702",
   "metadata": {},
   "outputs": [
    {
     "data": {
      "text/plain": [
       "'김개똥'"
      ]
     },
     "execution_count": 27,
     "metadata": {},
     "output_type": "execute_result"
    }
   ],
   "source": [
    "x.name"
   ]
  },
  {
   "cell_type": "markdown",
   "id": "ac86dac0",
   "metadata": {},
   "source": [
    "### 모듈"
   ]
  },
  {
   "cell_type": "markdown",
   "id": "62702d71",
   "metadata": {},
   "source": [
    "1. 모듈 사용하기 위해 import 하기"
   ]
  },
  {
   "cell_type": "code",
   "execution_count": 32,
   "id": "9916a2a4",
   "metadata": {},
   "outputs": [
    {
     "name": "stderr",
     "output_type": "stream",
     "text": [
      "<ipython-input-32-8f94c0e8863e>:2: DeprecationWarning: The default dtype for empty Series will be 'object' instead of 'float64' in a future version. Specify a dtype explicitly to silence this warning.\n",
      "  pd.Series()\n"
     ]
    },
    {
     "data": {
      "text/plain": [
       "Series([], dtype: float64)"
      ]
     },
     "execution_count": 32,
     "metadata": {},
     "output_type": "execute_result"
    }
   ],
   "source": [
    "import pandas as pd\n",
    "pd.Series()"
   ]
  },
  {
   "cell_type": "code",
   "execution_count": 33,
   "id": "cbc9b875",
   "metadata": {},
   "outputs": [
    {
     "name": "stderr",
     "output_type": "stream",
     "text": [
      "<ipython-input-33-563cc5c8f0f0>:2: DeprecationWarning: The default dtype for empty Series will be 'object' instead of 'float64' in a future version. Specify a dtype explicitly to silence this warning.\n",
      "  Series()\n"
     ]
    },
    {
     "data": {
      "text/plain": [
       "Series([], dtype: float64)"
      ]
     },
     "execution_count": 33,
     "metadata": {},
     "output_type": "execute_result"
    }
   ],
   "source": [
    "from pandas import Series, DataFrame\n",
    "Series()"
   ]
  },
  {
   "cell_type": "code",
   "execution_count": 30,
   "id": "a26c91d2",
   "metadata": {},
   "outputs": [],
   "source": [
    "import matplotlib.pyplot as plt"
   ]
  },
  {
   "cell_type": "code",
   "execution_count": 31,
   "id": "2d312dff",
   "metadata": {},
   "outputs": [],
   "source": [
    "plt.show()"
   ]
  },
  {
   "cell_type": "markdown",
   "id": "e00e5f81",
   "metadata": {},
   "source": [
    "2. 모듈 설치하기\n",
    "    - conda promt -> install 실행\n",
    "        + codna install 라이브러리명\n",
    "        + prompt -> pip install 라이브러리\n",
    "        + 실행(window + R) -> pip install 라이브러리\n",
    "    - https://www.lfd.uci.edu/~gohlke/pythonlibs\n",
    "        + 필요한 라이브러리 *.whl 다운로드\n",
    "        + pip install *.whl"
   ]
  },
  {
   "cell_type": "code",
   "execution_count": 35,
   "id": "79d63aac",
   "metadata": {},
   "outputs": [],
   "source": [
    "#설치가 안 되어 있거나 오탈자 발생 시 'ModuleNotFoundError' 발생\n",
    "import selenium"
   ]
  },
  {
   "cell_type": "code",
   "execution_count": null,
   "id": "ef43238c",
   "metadata": {},
   "outputs": [],
   "source": []
  }
 ],
 "metadata": {
  "kernelspec": {
   "display_name": "Python 3",
   "language": "python",
   "name": "python3"
  },
  "language_info": {
   "codemirror_mode": {
    "name": "ipython",
    "version": 3
   },
   "file_extension": ".py",
   "mimetype": "text/x-python",
   "name": "python",
   "nbconvert_exporter": "python",
   "pygments_lexer": "ipython3",
   "version": "3.8.8"
  }
 },
 "nbformat": 4,
 "nbformat_minor": 5
}
