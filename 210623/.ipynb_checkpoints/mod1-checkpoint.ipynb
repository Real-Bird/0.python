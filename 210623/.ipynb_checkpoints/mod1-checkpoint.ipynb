{
 "cells": [
  {
   "cell_type": "code",
   "execution_count": 6,
   "id": "415263d8",
   "metadata": {},
   "outputs": [
    {
     "name": "stdout",
     "output_type": "stream",
     "text": [
      "Overwriting mod1.py\n"
     ]
    }
   ],
   "source": [
    "%%writefile mod1.py\n",
    "\n",
    "class MyClass():\n",
    "    def __init__(self):\n",
    "        print(\"MyClass 초기화\")\n",
    "        self.size = 5\n",
    "        \n",
    "length = 10\n",
    "def add(self,a, b):\n",
    "    return a+b\n",
    "def sub(self,a, b):\n",
    "    return a*b"
   ]
  },
  {
   "cell_type": "code",
   "execution_count": 4,
   "id": "3aa6071d",
   "metadata": {},
   "outputs": [
    {
     "name": "stdout",
     "output_type": "stream",
     "text": [
      "Overwriting mod21.py\n"
     ]
    }
   ],
   "source": [
    "%%writefile mod21.py\n",
    "\n",
    "class MyClass2:\n",
    "    def __init__(self):\n",
    "        print(\"MyClass 초기화\")\n",
    "        self.size = 5\n",
    "        \n",
    "    length = 10\n",
    "    def add(self, a, b):\n",
    "        self.a = a\n",
    "        self.b = b\n",
    "        return self.a+self.b\n",
    "    def sub(self, a, b):\n",
    "        return a*b\n",
    "    def run(self):\n",
    "        print(\"hahaha\")\n",
    "    def div(self, a, b):\n",
    "        return a//b"
   ]
  },
  {
   "cell_type": "code",
   "execution_count": null,
   "id": "afdae6f3",
   "metadata": {},
   "outputs": [],
   "source": []
  }
 ],
 "metadata": {
  "kernelspec": {
   "display_name": "Python 3",
   "language": "python",
   "name": "python3"
  },
  "language_info": {
   "codemirror_mode": {
    "name": "ipython",
    "version": 3
   },
   "file_extension": ".py",
   "mimetype": "text/x-python",
   "name": "python",
   "nbconvert_exporter": "python",
   "pygments_lexer": "ipython3",
   "version": "3.8.8"
  }
 },
 "nbformat": 4,
 "nbformat_minor": 5
}
