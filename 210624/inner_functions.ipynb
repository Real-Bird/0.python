{
 "cells": [
  {
   "cell_type": "markdown",
   "id": "17ad9ef9",
   "metadata": {},
   "source": [
    "https://docs.python.org/ko/3/library/functions.html  \n",
    "https://www.w3schools.com/python/python_ref_functions.asp"
   ]
  },
  {
   "cell_type": "code",
   "execution_count": 1,
   "id": "cabadea1",
   "metadata": {},
   "outputs": [
    {
     "name": "stdout",
     "output_type": "stream",
     "text": [
      "1 1\n"
     ]
    }
   ],
   "source": [
    "a = 1; b = -1\n",
    "print(abs(a),abs(b))"
   ]
  },
  {
   "cell_type": "code",
   "execution_count": 2,
   "id": "fa75fe39",
   "metadata": {},
   "outputs": [
    {
     "data": {
      "text/plain": [
       "False"
      ]
     },
     "execution_count": 2,
     "metadata": {},
     "output_type": "execute_result"
    }
   ],
   "source": [
    "mylist = [False, True, True]\n",
    "all(mylist)"
   ]
  },
  {
   "cell_type": "code",
   "execution_count": 3,
   "id": "bf53b1b8",
   "metadata": {},
   "outputs": [
    {
     "data": {
      "text/plain": [
       "True"
      ]
     },
     "execution_count": 3,
     "metadata": {},
     "output_type": "execute_result"
    }
   ],
   "source": [
    "mylist = [True, True, True]\n",
    "all(mylist)"
   ]
  },
  {
   "cell_type": "code",
   "execution_count": 4,
   "id": "569215aa",
   "metadata": {},
   "outputs": [
    {
     "data": {
      "text/plain": [
       "True"
      ]
     },
     "execution_count": 4,
     "metadata": {},
     "output_type": "execute_result"
    }
   ],
   "source": [
    "mylist = [False, True, True]\n",
    "any(mylist)"
   ]
  },
  {
   "cell_type": "code",
   "execution_count": 5,
   "id": "db1e55c6",
   "metadata": {},
   "outputs": [
    {
     "data": {
      "text/plain": [
       "False"
      ]
     },
     "execution_count": 5,
     "metadata": {},
     "output_type": "execute_result"
    }
   ],
   "source": [
    "mylist = [False,False,False]\n",
    "any(mylist)"
   ]
  },
  {
   "cell_type": "markdown",
   "id": "90d69be9",
   "metadata": {},
   "source": [
    "### enumerate"
   ]
  },
  {
   "cell_type": "code",
   "execution_count": 6,
   "id": "5b490b9b",
   "metadata": {},
   "outputs": [
    {
     "data": {
      "text/plain": [
       "['봄', '여름', '가을', '겨울']"
      ]
     },
     "execution_count": 6,
     "metadata": {},
     "output_type": "execute_result"
    }
   ],
   "source": [
    "a = [\"봄\",\"여름\",\"가을\",\"겨울\"]; a"
   ]
  },
  {
   "cell_type": "code",
   "execution_count": 7,
   "id": "0f3afb10",
   "metadata": {},
   "outputs": [
    {
     "data": {
      "text/plain": [
       "'여름'"
      ]
     },
     "execution_count": 7,
     "metadata": {},
     "output_type": "execute_result"
    }
   ],
   "source": [
    "a[1]"
   ]
  },
  {
   "cell_type": "code",
   "execution_count": 10,
   "id": "190b4f9d",
   "metadata": {},
   "outputs": [
    {
     "name": "stdout",
     "output_type": "stream",
     "text": [
      "0 **  봄\n",
      "1 **  여름\n",
      "2 **  가을\n",
      "3 **  겨울\n"
     ]
    }
   ],
   "source": [
    "n = 0\n",
    "for i in a:\n",
    "    print(n, \"** \", i)\n",
    "    n += 1"
   ]
  },
  {
   "cell_type": "code",
   "execution_count": 15,
   "id": "b86448de",
   "metadata": {},
   "outputs": [
    {
     "data": {
      "text/plain": [
       "<enumerate at 0x262a8c3d200>"
      ]
     },
     "execution_count": 15,
     "metadata": {},
     "output_type": "execute_result"
    }
   ],
   "source": [
    "enumerate(a)"
   ]
  },
  {
   "cell_type": "code",
   "execution_count": 14,
   "id": "b396e743",
   "metadata": {},
   "outputs": [
    {
     "data": {
      "text/plain": [
       "[(0, '봄'), (1, '여름'), (2, '가을'), (3, '겨울')]"
      ]
     },
     "execution_count": 14,
     "metadata": {},
     "output_type": "execute_result"
    }
   ],
   "source": [
    "list(enumerate(a))"
   ]
  },
  {
   "cell_type": "code",
   "execution_count": 19,
   "id": "ada35c7c",
   "metadata": {},
   "outputs": [
    {
     "name": "stdout",
     "output_type": "stream",
     "text": [
      "(0, '봄')\n",
      "(1, '여름')\n",
      "(2, '가을')\n",
      "(3, '겨울')\n"
     ]
    }
   ],
   "source": [
    "for i in enumerate(a):\n",
    "    print(i)"
   ]
  },
  {
   "cell_type": "code",
   "execution_count": 20,
   "id": "97114385",
   "metadata": {},
   "outputs": [
    {
     "name": "stdout",
     "output_type": "stream",
     "text": [
      "0  **  봄\n",
      "1  **  여름\n",
      "2  **  가을\n",
      "3  **  겨울\n"
     ]
    }
   ],
   "source": [
    "for i in enumerate(a):\n",
    "    print(i[0],\" ** \", i[1])"
   ]
  },
  {
   "cell_type": "code",
   "execution_count": 22,
   "id": "56f36fa7",
   "metadata": {},
   "outputs": [
    {
     "name": "stdout",
     "output_type": "stream",
     "text": [
      "0  **  봄\n",
      "1  **  여름\n",
      "2  **  가을\n",
      "3  **  겨울\n"
     ]
    }
   ],
   "source": [
    "# 2개 이상의 튜플형태는 같은 수의 반복변수를 할당하면 분리해서 추출 가능\n",
    "for n,i in enumerate(a):\n",
    "    print(n,\" ** \", i)"
   ]
  },
  {
   "cell_type": "code",
   "execution_count": 25,
   "id": "cb166624",
   "metadata": {},
   "outputs": [
    {
     "data": {
      "text/plain": [
       "(1, 2)"
      ]
     },
     "execution_count": 25,
     "metadata": {},
     "output_type": "execute_result"
    }
   ],
   "source": [
    "aa = (1,2); aa"
   ]
  },
  {
   "cell_type": "code",
   "execution_count": 24,
   "id": "346fc640",
   "metadata": {},
   "outputs": [
    {
     "name": "stdout",
     "output_type": "stream",
     "text": [
      "1\n",
      "2\n"
     ]
    }
   ],
   "source": [
    "a,b = (1,2)\n",
    "print(a);print(b)"
   ]
  },
  {
   "cell_type": "code",
   "execution_count": 29,
   "id": "ff8f1204",
   "metadata": {},
   "outputs": [
    {
     "name": "stdout",
     "output_type": "stream",
     "text": [
      "10  **  봄\n",
      "11  **  여름\n",
      "12  **  가을\n",
      "13  **  겨울\n"
     ]
    }
   ],
   "source": [
    "a = [\"봄\",\"여름\",\"가을\",\"겨울\"]\n",
    "for n,i in enumerate(a, 10):\n",
    "    print(n,\" ** \", i)"
   ]
  },
  {
   "cell_type": "markdown",
   "id": "5283744d",
   "metadata": {},
   "source": [
    "## eval"
   ]
  },
  {
   "cell_type": "code",
   "execution_count": 30,
   "id": "cfcd49ff",
   "metadata": {},
   "outputs": [
    {
     "name": "stdout",
     "output_type": "stream",
     "text": [
      "55\n"
     ]
    }
   ],
   "source": [
    "print(55)"
   ]
  },
  {
   "cell_type": "code",
   "execution_count": 31,
   "id": "6a56e4d4",
   "metadata": {},
   "outputs": [
    {
     "data": {
      "text/plain": [
       "'print(55)'"
      ]
     },
     "execution_count": 31,
     "metadata": {},
     "output_type": "execute_result"
    }
   ],
   "source": [
    "x = \"print(55)\"; x"
   ]
  },
  {
   "cell_type": "code",
   "execution_count": 32,
   "id": "44657fb2",
   "metadata": {},
   "outputs": [
    {
     "name": "stdout",
     "output_type": "stream",
     "text": [
      "55\n"
     ]
    }
   ],
   "source": [
    "eval(x)"
   ]
  },
  {
   "cell_type": "code",
   "execution_count": 33,
   "id": "efba601b",
   "metadata": {},
   "outputs": [
    {
     "data": {
      "text/plain": [
       "1"
      ]
     },
     "execution_count": 33,
     "metadata": {},
     "output_type": "execute_result"
    }
   ],
   "source": [
    "x = 1; x"
   ]
  },
  {
   "cell_type": "code",
   "execution_count": 34,
   "id": "c6929998",
   "metadata": {},
   "outputs": [
    {
     "data": {
      "text/plain": [
       "2"
      ]
     },
     "execution_count": 34,
     "metadata": {},
     "output_type": "execute_result"
    }
   ],
   "source": [
    "eval(\"x+1\")"
   ]
  },
  {
   "cell_type": "markdown",
   "id": "4758b5ea",
   "metadata": {},
   "source": [
    "### filter"
   ]
  },
  {
   "cell_type": "code",
   "execution_count": 35,
   "id": "52d9ef5a",
   "metadata": {},
   "outputs": [],
   "source": [
    "ages = [5, 12, 17, 18, 24, 32]\n",
    "\n",
    "def myFunc(x):\n",
    "    if x < 20:\n",
    "        return False\n",
    "    else:\n",
    "        return True"
   ]
  },
  {
   "cell_type": "code",
   "execution_count": 41,
   "id": "af08fb0a",
   "metadata": {},
   "outputs": [
    {
     "name": "stdout",
     "output_type": "stream",
     "text": [
      "24\n",
      "32\n"
     ]
    }
   ],
   "source": [
    "adults = filter(myFunc, ages)\n",
    "for x in adults:\n",
    "    print(x)"
   ]
  },
  {
   "cell_type": "code",
   "execution_count": 42,
   "id": "3d0e76d6",
   "metadata": {},
   "outputs": [
    {
     "data": {
      "text/plain": [
       "[24, 32]"
      ]
     },
     "execution_count": 42,
     "metadata": {},
     "output_type": "execute_result"
    }
   ],
   "source": [
    "list(filter(myFunc, ages))"
   ]
  },
  {
   "cell_type": "code",
   "execution_count": 45,
   "id": "9af2cf88",
   "metadata": {},
   "outputs": [
    {
     "data": {
      "text/plain": [
       "[24, 32]"
      ]
     },
     "execution_count": 45,
     "metadata": {},
     "output_type": "execute_result"
    }
   ],
   "source": [
    "list(filter(lambda x : x>20, ages))"
   ]
  },
  {
   "cell_type": "markdown",
   "id": "c0564423",
   "metadata": {},
   "source": [
    "### filter() 함수\n",
    "1. b = [2,18,9,22,17,24,8,12,72]\n",
    "2. b에서 3의 배수 추출"
   ]
  },
  {
   "cell_type": "code",
   "execution_count": 49,
   "id": "bbe22a87",
   "metadata": {},
   "outputs": [
    {
     "data": {
      "text/plain": [
       "[9, 12, 18, 24, 72]"
      ]
     },
     "execution_count": 49,
     "metadata": {},
     "output_type": "execute_result"
    }
   ],
   "source": [
    "b = [2,18,9,22,17,24,8,12,72]\n",
    "list(sorted(filter(lambda x : x % 3 == 0, b)))"
   ]
  },
  {
   "cell_type": "markdown",
   "id": "7d4cffda",
   "metadata": {},
   "source": [
    "1. 1~10으로 구성된 리스트 target\n",
    "2. 짝수를 추출하기"
   ]
  },
  {
   "cell_type": "code",
   "execution_count": 52,
   "id": "b82fff08",
   "metadata": {},
   "outputs": [
    {
     "data": {
      "text/plain": [
       "[1, 2, 3, 4, 5, 6, 7, 8, 9, 10]"
      ]
     },
     "execution_count": 52,
     "metadata": {},
     "output_type": "execute_result"
    }
   ],
   "source": [
    "target = list(range(1,11)); target"
   ]
  },
  {
   "cell_type": "code",
   "execution_count": 53,
   "id": "244eac9a",
   "metadata": {},
   "outputs": [
    {
     "data": {
      "text/plain": [
       "[2, 4, 6, 8, 10]"
      ]
     },
     "execution_count": 53,
     "metadata": {},
     "output_type": "execute_result"
    }
   ],
   "source": [
    "def is_even(n):\n",
    "    return True if n % 2 == 0 else False\n",
    "\n",
    "list(filter(is_even,target))"
   ]
  },
  {
   "cell_type": "code",
   "execution_count": 55,
   "id": "61ffbbba",
   "metadata": {},
   "outputs": [
    {
     "data": {
      "text/plain": [
       "[2, 4, 6, 8, 10]"
      ]
     },
     "execution_count": 55,
     "metadata": {},
     "output_type": "execute_result"
    }
   ],
   "source": [
    "list(filter(lambda x : x % 2 == 0,target))"
   ]
  },
  {
   "cell_type": "markdown",
   "id": "9ac6a962",
   "metadata": {},
   "source": [
    "### map"
   ]
  },
  {
   "cell_type": "code",
   "execution_count": 69,
   "id": "64a11e98",
   "metadata": {},
   "outputs": [
    {
     "data": {
      "text/plain": [
       "['apple-orange', 'banana-lemon', 'cherry-pineapple']"
      ]
     },
     "execution_count": 69,
     "metadata": {},
     "output_type": "execute_result"
    }
   ],
   "source": [
    "def myfunc(a, b):\n",
    "    return a + \"-\" + b\n",
    "a = ('apple', 'banana', 'cherry')\n",
    "b = ('orange', 'lemon', 'pineapple')\n",
    "list(map(myfunc, a, b))"
   ]
  },
  {
   "cell_type": "code",
   "execution_count": 70,
   "id": "f062e5b5",
   "metadata": {},
   "outputs": [],
   "source": [
    "def aa(n):\n",
    "    return len(n)"
   ]
  },
  {
   "cell_type": "code",
   "execution_count": 72,
   "id": "845be864",
   "metadata": {},
   "outputs": [
    {
     "data": {
      "text/plain": [
       "[5, 6, 6]"
      ]
     },
     "execution_count": 72,
     "metadata": {},
     "output_type": "execute_result"
    }
   ],
   "source": [
    "list(map(aa, a))"
   ]
  },
  {
   "cell_type": "markdown",
   "id": "98ca4ea2",
   "metadata": {},
   "source": [
    "1. 1~10으로 구성된 리스트 target\n",
    "2. 각각 3제곱 구하기"
   ]
  },
  {
   "cell_type": "code",
   "execution_count": 74,
   "id": "ad1be7c6",
   "metadata": {},
   "outputs": [],
   "source": [
    "def cube(n):\n",
    "    return n ** 3"
   ]
  },
  {
   "cell_type": "code",
   "execution_count": 75,
   "id": "efe067b4",
   "metadata": {},
   "outputs": [
    {
     "data": {
      "text/plain": [
       "[1, 2, 3, 4, 5, 6, 7, 8, 9, 10]"
      ]
     },
     "execution_count": 75,
     "metadata": {},
     "output_type": "execute_result"
    }
   ],
   "source": [
    "target = list(range(1,11)); target"
   ]
  },
  {
   "cell_type": "code",
   "execution_count": 76,
   "id": "335d4bb8",
   "metadata": {},
   "outputs": [
    {
     "data": {
      "text/plain": [
       "[1, 8, 27, 64, 125, 216, 343, 512, 729, 1000]"
      ]
     },
     "execution_count": 76,
     "metadata": {},
     "output_type": "execute_result"
    }
   ],
   "source": [
    "list(map(cube, target))"
   ]
  },
  {
   "cell_type": "code",
   "execution_count": 77,
   "id": "7e96ea50",
   "metadata": {},
   "outputs": [
    {
     "data": {
      "text/plain": [
       "[1, 8, 27, 64, 125, 216, 343, 512, 729, 1000]"
      ]
     },
     "execution_count": 77,
     "metadata": {},
     "output_type": "execute_result"
    }
   ],
   "source": [
    "list(map(lambda x : x ** 3, target))"
   ]
  },
  {
   "cell_type": "markdown",
   "id": "b8c8475f",
   "metadata": {},
   "source": [
    "### zip"
   ]
  },
  {
   "cell_type": "code",
   "execution_count": 84,
   "id": "2f7c9041",
   "metadata": {},
   "outputs": [],
   "source": [
    "x = [1,2,3]\n",
    "y = [4,5,6]"
   ]
  },
  {
   "cell_type": "code",
   "execution_count": 85,
   "id": "5d9ce2d2",
   "metadata": {},
   "outputs": [
    {
     "name": "stdout",
     "output_type": "stream",
     "text": [
      "1 4\n",
      "2 5\n",
      "3 6\n"
     ]
    }
   ],
   "source": [
    "for i in range(len(x)):\n",
    "    print(x[i],y[i])"
   ]
  },
  {
   "cell_type": "code",
   "execution_count": 86,
   "id": "8abd75b2",
   "metadata": {},
   "outputs": [
    {
     "data": {
      "text/plain": [
       "[(1, 4), (2, 5), (3, 6)]"
      ]
     },
     "execution_count": 86,
     "metadata": {},
     "output_type": "execute_result"
    }
   ],
   "source": [
    "list(zip(x,y))"
   ]
  },
  {
   "cell_type": "code",
   "execution_count": 87,
   "id": "4b905100",
   "metadata": {},
   "outputs": [
    {
     "data": {
      "text/plain": [
       "[(1, 2, 3), (4, 5, 6)]"
      ]
     },
     "execution_count": 87,
     "metadata": {},
     "output_type": "execute_result"
    }
   ],
   "source": [
    "list(zip(*zip(x,y)))"
   ]
  },
  {
   "cell_type": "markdown",
   "id": "03867689",
   "metadata": {},
   "source": [
    "### lambda"
   ]
  },
  {
   "cell_type": "code",
   "execution_count": 88,
   "id": "2d781243",
   "metadata": {},
   "outputs": [
    {
     "data": {
      "text/plain": [
       "15"
      ]
     },
     "execution_count": 88,
     "metadata": {},
     "output_type": "execute_result"
    }
   ],
   "source": [
    "def x(a):\n",
    "    return a + 10\n",
    "\n",
    "x(5)"
   ]
  },
  {
   "cell_type": "code",
   "execution_count": 89,
   "id": "1f12989d",
   "metadata": {},
   "outputs": [
    {
     "data": {
      "text/plain": [
       "15"
      ]
     },
     "execution_count": 89,
     "metadata": {},
     "output_type": "execute_result"
    }
   ],
   "source": [
    "(lambda a : a + 10)(5)"
   ]
  },
  {
   "cell_type": "code",
   "execution_count": 91,
   "id": "67022338",
   "metadata": {},
   "outputs": [
    {
     "data": {
      "text/plain": [
       "15"
      ]
     },
     "execution_count": 91,
     "metadata": {},
     "output_type": "execute_result"
    }
   ],
   "source": [
    "y = lambda a : a + 10\n",
    "y(5)"
   ]
  },
  {
   "cell_type": "code",
   "execution_count": 92,
   "id": "45a78908",
   "metadata": {},
   "outputs": [
    {
     "data": {
      "text/plain": [
       "30"
      ]
     },
     "execution_count": 92,
     "metadata": {},
     "output_type": "execute_result"
    }
   ],
   "source": [
    "x = lambda a, b : a*b\n",
    "x(5,6)"
   ]
  },
  {
   "cell_type": "code",
   "execution_count": 93,
   "id": "502aa6d1",
   "metadata": {},
   "outputs": [
    {
     "data": {
      "text/plain": [
       "30"
      ]
     },
     "execution_count": 93,
     "metadata": {},
     "output_type": "execute_result"
    }
   ],
   "source": [
    "(lambda a,b : a*b)(5,6)"
   ]
  },
  {
   "cell_type": "code",
   "execution_count": 97,
   "id": "ae6ee85c",
   "metadata": {},
   "outputs": [
    {
     "data": {
      "text/plain": [
       "110"
      ]
     },
     "execution_count": 97,
     "metadata": {},
     "output_type": "execute_result"
    }
   ],
   "source": [
    "def myfunc(n):\n",
    "    return lambda a : a*n\n",
    "res = myfunc(10)\n",
    "res(11)"
   ]
  },
  {
   "cell_type": "markdown",
   "id": "692f5a48",
   "metadata": {},
   "source": [
    "### next"
   ]
  },
  {
   "cell_type": "code",
   "execution_count": 112,
   "id": "9a05e404",
   "metadata": {},
   "outputs": [],
   "source": [
    "mylist = iter([1,3,5,7])"
   ]
  },
  {
   "cell_type": "code",
   "execution_count": 113,
   "id": "948556e8",
   "metadata": {},
   "outputs": [
    {
     "name": "stdout",
     "output_type": "stream",
     "text": [
      "1\n",
      "3\n",
      "5\n",
      "7\n"
     ]
    }
   ],
   "source": [
    "print(next(mylist))\n",
    "print(next(mylist))\n",
    "print(next(mylist))\n",
    "print(next(mylist))"
   ]
  },
  {
   "cell_type": "markdown",
   "id": "2583fb58",
   "metadata": {},
   "source": [
    "### reduce"
   ]
  },
  {
   "cell_type": "code",
   "execution_count": 114,
   "id": "5364b104",
   "metadata": {},
   "outputs": [],
   "source": [
    "import functools"
   ]
  },
  {
   "cell_type": "code",
   "execution_count": 115,
   "id": "78423578",
   "metadata": {},
   "outputs": [
    {
     "name": "stdout",
     "output_type": "stream",
     "text": [
      "['RLock', 'WRAPPER_ASSIGNMENTS', 'WRAPPER_UPDATES', '_CacheInfo', '_HashedSeq', '_NOT_FOUND', '__all__', '__builtins__', '__cached__', '__doc__', '__file__', '__loader__', '__name__', '__package__', '__spec__', '_c3_merge', '_c3_mro', '_compose_mro', '_convert', '_find_impl', '_ge_from_gt', '_ge_from_le', '_ge_from_lt', '_gt_from_ge', '_gt_from_le', '_gt_from_lt', '_initial_missing', '_le_from_ge', '_le_from_gt', '_le_from_lt', '_lru_cache_wrapper', '_lt_from_ge', '_lt_from_gt', '_lt_from_le', '_make_key', '_unwrap_partial', 'cached_property', 'cmp_to_key', 'get_cache_token', 'lru_cache', 'namedtuple', 'partial', 'partialmethod', 'recursive_repr', 'reduce', 'singledispatch', 'singledispatchmethod', 'total_ordering', 'update_wrapper', 'wraps']\n"
     ]
    }
   ],
   "source": [
    "print(dir(functools))"
   ]
  },
  {
   "cell_type": "code",
   "execution_count": 116,
   "id": "8685fc6b",
   "metadata": {},
   "outputs": [
    {
     "data": {
      "text/plain": [
       "<function _functools.reduce>"
      ]
     },
     "execution_count": 116,
     "metadata": {},
     "output_type": "execute_result"
    }
   ],
   "source": [
    "functools.reduce"
   ]
  },
  {
   "cell_type": "code",
   "execution_count": 117,
   "id": "c962baaf",
   "metadata": {},
   "outputs": [],
   "source": [
    "from functools import reduce"
   ]
  },
  {
   "cell_type": "code",
   "execution_count": 122,
   "id": "e9899d6c",
   "metadata": {},
   "outputs": [
    {
     "data": {
      "text/plain": [
       "[0, 1, 2, 3, 4]"
      ]
     },
     "execution_count": 122,
     "metadata": {},
     "output_type": "execute_result"
    }
   ],
   "source": [
    "num"
   ]
  },
  {
   "cell_type": "code",
   "execution_count": 121,
   "id": "b2b28558",
   "metadata": {},
   "outputs": [
    {
     "name": "stdout",
     "output_type": "stream",
     "text": [
      "0 + 1 = 1\n",
      "1 + 2 = 3\n",
      "3 + 3 = 6\n",
      "6 + 4 = 10\n"
     ]
    },
    {
     "data": {
      "text/plain": [
       "10"
      ]
     },
     "execution_count": 121,
     "metadata": {},
     "output_type": "execute_result"
    }
   ],
   "source": [
    "def my_add(a,b):\n",
    "    result = a + b\n",
    "    print(f\"{a} + {b} = {result}\")\n",
    "    return a+b\n",
    "\n",
    "num = list(range(0,5))\n",
    "reduce(my_add, num)"
   ]
  },
  {
   "cell_type": "code",
   "execution_count": null,
   "id": "9bac7a8a",
   "metadata": {},
   "outputs": [],
   "source": []
  }
 ],
 "metadata": {
  "kernelspec": {
   "display_name": "Python 3",
   "language": "python",
   "name": "python3"
  },
  "language_info": {
   "codemirror_mode": {
    "name": "ipython",
    "version": 3
   },
   "file_extension": ".py",
   "mimetype": "text/x-python",
   "name": "python",
   "nbconvert_exporter": "python",
   "pygments_lexer": "ipython3",
   "version": "3.8.8"
  }
 },
 "nbformat": 4,
 "nbformat_minor": 5
}
