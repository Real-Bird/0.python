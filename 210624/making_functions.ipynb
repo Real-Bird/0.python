{
 "cells": [
  {
   "cell_type": "markdown",
   "id": "0126280b",
   "metadata": {},
   "source": [
    "### 년도를 입력받아 윤년인지 판별하는 함수(leap_year)\n",
    "1. 연도 입력\n",
    "2. 윤년이면 \"윤년\", 아니면 \"평년\" 출력\n",
    "3. 윤년은 2월 29일까지\n",
    "    - 4로 나눠 떨어지면 윤년\n",
    "    - 100으로 나눠서 떨어지지 않으면 윤년\n",
    "    - 400으로 나눠서 떨어지면 윤년"
   ]
  },
  {
   "cell_type": "code",
   "execution_count": 37,
   "id": "700b20ff",
   "metadata": {},
   "outputs": [],
   "source": [
    "def leap_year(year):\n",
    "    if year % 4 == 0 and year % 100 != 0 or year % 400 == 0:\n",
    "        res = \"윤년\"\n",
    "    else:\n",
    "        res = \"평년\"\n",
    "    return res"
   ]
  },
  {
   "cell_type": "code",
   "execution_count": 38,
   "id": "8b5b77e4",
   "metadata": {},
   "outputs": [
    {
     "data": {
      "text/plain": [
       "'윤년'"
      ]
     },
     "execution_count": 38,
     "metadata": {},
     "output_type": "execute_result"
    }
   ],
   "source": [
    "year = 2400\n",
    "leap_year(year)"
   ]
  },
  {
   "cell_type": "code",
   "execution_count": 39,
   "id": "cd3419a1",
   "metadata": {},
   "outputs": [
    {
     "name": "stdout",
     "output_type": "stream",
     "text": [
      "윤년?> 2020\n",
      "2020년은 '윤년'입니다.\n",
      "2020 년은  윤년 입니다.\n",
      "2020년은 윤년입니다.\n"
     ]
    }
   ],
   "source": [
    "year = int(input(\"윤년?> \"))\n",
    "result = leap_year(year)\n",
    "print(\"%s년은 '%s'입니다.\"%(year, result))\n",
    "print(year,\"년은 \",result,\"입니다.\")\n",
    "print(\"{}년은 {}입니다.\".format(year, result))"
   ]
  },
  {
   "cell_type": "code",
   "execution_count": 40,
   "id": "30ed7e71",
   "metadata": {},
   "outputs": [],
   "source": [
    "years = [1980, 2019, 2020, 2040]"
   ]
  },
  {
   "cell_type": "code",
   "execution_count": 41,
   "id": "207b4035",
   "metadata": {},
   "outputs": [
    {
     "name": "stdout",
     "output_type": "stream",
     "text": [
      "['윤년', '평년', '윤년', '윤년']\n"
     ]
    }
   ],
   "source": [
    "result = []\n",
    "for i in years:\n",
    "    result.append(leap_year(i))\n",
    "print(result)"
   ]
  },
  {
   "cell_type": "code",
   "execution_count": 42,
   "id": "4b939944",
   "metadata": {},
   "outputs": [
    {
     "name": "stdout",
     "output_type": "stream",
     "text": [
      "['윤년', '평년', '윤년', '윤년']\n"
     ]
    }
   ],
   "source": [
    "print(list(map(leap_year, years)))"
   ]
  },
  {
   "cell_type": "code",
   "execution_count": 46,
   "id": "9e156464",
   "metadata": {},
   "outputs": [
    {
     "name": "stdout",
     "output_type": "stream",
     "text": [
      "['윤년', '평년', '윤년', '윤년']\n"
     ]
    }
   ],
   "source": [
    "print(list(map(lambda year:\"윤년\" if year % 4 == 0 and year\\\n",
    "               % 100 != 0 or year % 400 == 0 else \"평년\", years)))"
   ]
  },
  {
   "cell_type": "markdown",
   "id": "017dc9bf",
   "metadata": {},
   "source": [
    "### 반복 입력 후 판정\n",
    "1. while 반복문\n",
    "2. 년도가 0이면 종료"
   ]
  },
  {
   "cell_type": "code",
   "execution_count": 49,
   "id": "252db40f",
   "metadata": {},
   "outputs": [
    {
     "name": "stdout",
     "output_type": "stream",
     "text": [
      "년도는(0이면 종료)? 0\n",
      "입력이 종료되었습니다.\n"
     ]
    }
   ],
   "source": [
    "while True:\n",
    "    year = int(input(\"년도는(0이면 종료)? \"))\n",
    "    if year == 0:\n",
    "        print(\"입력이 종료되었습니다.\")\n",
    "        break\n",
    "    result = leap_year(year)\n",
    "    print(\"%s년은 '%s'입니다.\"%(year, result))"
   ]
  },
  {
   "cell_type": "markdown",
   "id": "f27cb0ad",
   "metadata": {},
   "source": [
    "### 입력 받은 년도와 결과를 저장하기"
   ]
  },
  {
   "cell_type": "code",
   "execution_count": 52,
   "id": "b1dde861",
   "metadata": {},
   "outputs": [
    {
     "name": "stdout",
     "output_type": "stream",
     "text": [
      "년도는(0이면 종료)? 2020\n",
      "2020년은 '윤년'입니다.\n",
      "년도는(0이면 종료)? 2021\n",
      "2021년은 '평년'입니다.\n",
      "년도는(0이면 종료)? 2040\n",
      "2040년은 '윤년'입니다.\n",
      "년도는(0이면 종료)? 2060\n",
      "2060년은 '윤년'입니다.\n",
      "년도는(0이면 종료)? 0\n",
      "입력이 종료되었습니다.\n",
      "[[2020, '윤년'], [2021, '평년'], [2040, '윤년'], [2060, '윤년']]\n"
     ]
    }
   ],
   "source": [
    "save = []\n",
    "while True:\n",
    "    year = int(input(\"년도는(0이면 종료)? \"))\n",
    "    if year == 0:\n",
    "        print(\"입력이 종료되었습니다.\")\n",
    "        break\n",
    "    result = leap_year(year)\n",
    "    print(\"%s년은 '%s'입니다.\"%(year, result))\n",
    "    save.append([year,result])\n",
    "print(save)"
   ]
  },
  {
   "cell_type": "markdown",
   "id": "9d2346f5",
   "metadata": {},
   "source": [
    "### 데이터 프레임으로 만들기"
   ]
  },
  {
   "cell_type": "code",
   "execution_count": 53,
   "id": "fbe1500f",
   "metadata": {},
   "outputs": [],
   "source": [
    "import pandas as pd"
   ]
  },
  {
   "cell_type": "code",
   "execution_count": 55,
   "id": "c1285138",
   "metadata": {},
   "outputs": [],
   "source": [
    "leapyear = pd.DataFrame(save)"
   ]
  },
  {
   "cell_type": "code",
   "execution_count": 57,
   "id": "324a67e8",
   "metadata": {},
   "outputs": [],
   "source": [
    "# 컬럼명 변경\n",
    "leapyear.columns = [\"year\", \"isLeap\"]"
   ]
  },
  {
   "cell_type": "code",
   "execution_count": 58,
   "id": "6d2f0c1a",
   "metadata": {},
   "outputs": [
    {
     "data": {
      "text/html": [
       "<div>\n",
       "<style scoped>\n",
       "    .dataframe tbody tr th:only-of-type {\n",
       "        vertical-align: middle;\n",
       "    }\n",
       "\n",
       "    .dataframe tbody tr th {\n",
       "        vertical-align: top;\n",
       "    }\n",
       "\n",
       "    .dataframe thead th {\n",
       "        text-align: right;\n",
       "    }\n",
       "</style>\n",
       "<table border=\"1\" class=\"dataframe\">\n",
       "  <thead>\n",
       "    <tr style=\"text-align: right;\">\n",
       "      <th></th>\n",
       "      <th>year</th>\n",
       "      <th>isLeap</th>\n",
       "    </tr>\n",
       "  </thead>\n",
       "  <tbody>\n",
       "    <tr>\n",
       "      <th>0</th>\n",
       "      <td>2020</td>\n",
       "      <td>윤년</td>\n",
       "    </tr>\n",
       "    <tr>\n",
       "      <th>1</th>\n",
       "      <td>2021</td>\n",
       "      <td>평년</td>\n",
       "    </tr>\n",
       "    <tr>\n",
       "      <th>2</th>\n",
       "      <td>2040</td>\n",
       "      <td>윤년</td>\n",
       "    </tr>\n",
       "    <tr>\n",
       "      <th>3</th>\n",
       "      <td>2060</td>\n",
       "      <td>윤년</td>\n",
       "    </tr>\n",
       "  </tbody>\n",
       "</table>\n",
       "</div>"
      ],
      "text/plain": [
       "   year isLeap\n",
       "0  2020     윤년\n",
       "1  2021     평년\n",
       "2  2040     윤년\n",
       "3  2060     윤년"
      ]
     },
     "execution_count": 58,
     "metadata": {},
     "output_type": "execute_result"
    }
   ],
   "source": [
    "leapyear"
   ]
  },
  {
   "cell_type": "code",
   "execution_count": 59,
   "id": "97b1ca94",
   "metadata": {},
   "outputs": [
    {
     "data": {
      "text/html": [
       "<div>\n",
       "<style scoped>\n",
       "    .dataframe tbody tr th:only-of-type {\n",
       "        vertical-align: middle;\n",
       "    }\n",
       "\n",
       "    .dataframe tbody tr th {\n",
       "        vertical-align: top;\n",
       "    }\n",
       "\n",
       "    .dataframe thead th {\n",
       "        text-align: right;\n",
       "    }\n",
       "</style>\n",
       "<table border=\"1\" class=\"dataframe\">\n",
       "  <thead>\n",
       "    <tr style=\"text-align: right;\">\n",
       "      <th></th>\n",
       "      <th>년도</th>\n",
       "      <th>윤년여부</th>\n",
       "    </tr>\n",
       "  </thead>\n",
       "  <tbody>\n",
       "    <tr>\n",
       "      <th>0</th>\n",
       "      <td>2020</td>\n",
       "      <td>윤년</td>\n",
       "    </tr>\n",
       "    <tr>\n",
       "      <th>1</th>\n",
       "      <td>2021</td>\n",
       "      <td>평년</td>\n",
       "    </tr>\n",
       "    <tr>\n",
       "      <th>2</th>\n",
       "      <td>2040</td>\n",
       "      <td>윤년</td>\n",
       "    </tr>\n",
       "    <tr>\n",
       "      <th>3</th>\n",
       "      <td>2060</td>\n",
       "      <td>윤년</td>\n",
       "    </tr>\n",
       "  </tbody>\n",
       "</table>\n",
       "</div>"
      ],
      "text/plain": [
       "     년도 윤년여부\n",
       "0  2020   윤년\n",
       "1  2021   평년\n",
       "2  2040   윤년\n",
       "3  2060   윤년"
      ]
     },
     "execution_count": 59,
     "metadata": {},
     "output_type": "execute_result"
    }
   ],
   "source": [
    "leapyear1 = pd.DataFrame(save, columns=[\"년도\",\"윤년여부\"])\n",
    "leapyear1"
   ]
  },
  {
   "cell_type": "code",
   "execution_count": 60,
   "id": "ca28bb7b",
   "metadata": {},
   "outputs": [
    {
     "name": "stdout",
     "output_type": "stream",
     "text": [
      "년도는(0이면 종료)? 1990\n",
      "1990년은 '평년'입니다.\n",
      "년도는(0이면 종료)? 1992\n",
      "1992년은 '윤년'입니다.\n",
      "년도는(0이면 종료)? 1994\n",
      "1994년은 '평년'입니다.\n",
      "년도는(0이면 종료)? 1996\n",
      "1996년은 '윤년'입니다.\n",
      "년도는(0이면 종료)? 0\n",
      "입력이 종료되었습니다.\n",
      "[[1990, '평년'], [1992, '윤년'], [1994, '평년'], [1996, '윤년']]\n"
     ]
    }
   ],
   "source": [
    "save1 = []\n",
    "while True:\n",
    "    year = int(input(\"년도는(0이면 종료)? \"))\n",
    "    if year == 0:\n",
    "        print(\"입력이 종료되었습니다.\")\n",
    "        break\n",
    "    result = leap_year(year)\n",
    "    print(\"%s년은 '%s'입니다.\"%(year, result))\n",
    "    save1.append([year,result])\n",
    "print(save1)"
   ]
  },
  {
   "cell_type": "code",
   "execution_count": 62,
   "id": "8b53a4ef",
   "metadata": {},
   "outputs": [
    {
     "data": {
      "text/html": [
       "<div>\n",
       "<style scoped>\n",
       "    .dataframe tbody tr th:only-of-type {\n",
       "        vertical-align: middle;\n",
       "    }\n",
       "\n",
       "    .dataframe tbody tr th {\n",
       "        vertical-align: top;\n",
       "    }\n",
       "\n",
       "    .dataframe thead th {\n",
       "        text-align: right;\n",
       "    }\n",
       "</style>\n",
       "<table border=\"1\" class=\"dataframe\">\n",
       "  <thead>\n",
       "    <tr style=\"text-align: right;\">\n",
       "      <th></th>\n",
       "      <th>year</th>\n",
       "      <th>isLeap</th>\n",
       "    </tr>\n",
       "  </thead>\n",
       "  <tbody>\n",
       "    <tr>\n",
       "      <th>0</th>\n",
       "      <td>1990</td>\n",
       "      <td>평년</td>\n",
       "    </tr>\n",
       "    <tr>\n",
       "      <th>1</th>\n",
       "      <td>1992</td>\n",
       "      <td>윤년</td>\n",
       "    </tr>\n",
       "    <tr>\n",
       "      <th>2</th>\n",
       "      <td>1994</td>\n",
       "      <td>평년</td>\n",
       "    </tr>\n",
       "    <tr>\n",
       "      <th>3</th>\n",
       "      <td>1996</td>\n",
       "      <td>윤년</td>\n",
       "    </tr>\n",
       "  </tbody>\n",
       "</table>\n",
       "</div>"
      ],
      "text/plain": [
       "   year isLeap\n",
       "0  1990     평년\n",
       "1  1992     윤년\n",
       "2  1994     평년\n",
       "3  1996     윤년"
      ]
     },
     "execution_count": 62,
     "metadata": {},
     "output_type": "execute_result"
    }
   ],
   "source": [
    "leapyear1 = pd.DataFrame(save1, columns=[\"year\",\"isLeap\"])\n",
    "leapyear1"
   ]
  },
  {
   "cell_type": "markdown",
   "id": "e8f16ff8",
   "metadata": {},
   "source": [
    "###  데이터프레임 합치기\n",
    "1. leapyear 과 leapyear1 합쳐서 leapyear2\n",
    "2. pd.concat\n",
    "3. df.append()"
   ]
  },
  {
   "cell_type": "code",
   "execution_count": 69,
   "id": "61b604eb",
   "metadata": {},
   "outputs": [
    {
     "data": {
      "text/html": [
       "<div>\n",
       "<style scoped>\n",
       "    .dataframe tbody tr th:only-of-type {\n",
       "        vertical-align: middle;\n",
       "    }\n",
       "\n",
       "    .dataframe tbody tr th {\n",
       "        vertical-align: top;\n",
       "    }\n",
       "\n",
       "    .dataframe thead th {\n",
       "        text-align: right;\n",
       "    }\n",
       "</style>\n",
       "<table border=\"1\" class=\"dataframe\">\n",
       "  <thead>\n",
       "    <tr style=\"text-align: right;\">\n",
       "      <th></th>\n",
       "      <th>year</th>\n",
       "      <th>isLeap</th>\n",
       "    </tr>\n",
       "  </thead>\n",
       "  <tbody>\n",
       "    <tr>\n",
       "      <th>0</th>\n",
       "      <td>2020</td>\n",
       "      <td>윤년</td>\n",
       "    </tr>\n",
       "    <tr>\n",
       "      <th>1</th>\n",
       "      <td>2021</td>\n",
       "      <td>평년</td>\n",
       "    </tr>\n",
       "    <tr>\n",
       "      <th>2</th>\n",
       "      <td>2040</td>\n",
       "      <td>윤년</td>\n",
       "    </tr>\n",
       "    <tr>\n",
       "      <th>3</th>\n",
       "      <td>2060</td>\n",
       "      <td>윤년</td>\n",
       "    </tr>\n",
       "    <tr>\n",
       "      <th>4</th>\n",
       "      <td>1990</td>\n",
       "      <td>평년</td>\n",
       "    </tr>\n",
       "    <tr>\n",
       "      <th>5</th>\n",
       "      <td>1992</td>\n",
       "      <td>윤년</td>\n",
       "    </tr>\n",
       "    <tr>\n",
       "      <th>6</th>\n",
       "      <td>1994</td>\n",
       "      <td>평년</td>\n",
       "    </tr>\n",
       "    <tr>\n",
       "      <th>7</th>\n",
       "      <td>1996</td>\n",
       "      <td>윤년</td>\n",
       "    </tr>\n",
       "  </tbody>\n",
       "</table>\n",
       "</div>"
      ],
      "text/plain": [
       "   year isLeap\n",
       "0  2020     윤년\n",
       "1  2021     평년\n",
       "2  2040     윤년\n",
       "3  2060     윤년\n",
       "4  1990     평년\n",
       "5  1992     윤년\n",
       "6  1994     평년\n",
       "7  1996     윤년"
      ]
     },
     "execution_count": 69,
     "metadata": {},
     "output_type": "execute_result"
    }
   ],
   "source": [
    "leapyear2 = pd.concat([leapyear,leapyear1], ignore_index=True)\n",
    "leapyear2"
   ]
  },
  {
   "cell_type": "code",
   "execution_count": 70,
   "id": "12c7873f",
   "metadata": {},
   "outputs": [
    {
     "data": {
      "text/html": [
       "<div>\n",
       "<style scoped>\n",
       "    .dataframe tbody tr th:only-of-type {\n",
       "        vertical-align: middle;\n",
       "    }\n",
       "\n",
       "    .dataframe tbody tr th {\n",
       "        vertical-align: top;\n",
       "    }\n",
       "\n",
       "    .dataframe thead th {\n",
       "        text-align: right;\n",
       "    }\n",
       "</style>\n",
       "<table border=\"1\" class=\"dataframe\">\n",
       "  <thead>\n",
       "    <tr style=\"text-align: right;\">\n",
       "      <th></th>\n",
       "      <th>year</th>\n",
       "      <th>isLeap</th>\n",
       "    </tr>\n",
       "  </thead>\n",
       "  <tbody>\n",
       "    <tr>\n",
       "      <th>0</th>\n",
       "      <td>2020</td>\n",
       "      <td>윤년</td>\n",
       "    </tr>\n",
       "    <tr>\n",
       "      <th>1</th>\n",
       "      <td>2021</td>\n",
       "      <td>평년</td>\n",
       "    </tr>\n",
       "    <tr>\n",
       "      <th>2</th>\n",
       "      <td>2040</td>\n",
       "      <td>윤년</td>\n",
       "    </tr>\n",
       "    <tr>\n",
       "      <th>3</th>\n",
       "      <td>2060</td>\n",
       "      <td>윤년</td>\n",
       "    </tr>\n",
       "    <tr>\n",
       "      <th>4</th>\n",
       "      <td>1990</td>\n",
       "      <td>평년</td>\n",
       "    </tr>\n",
       "    <tr>\n",
       "      <th>5</th>\n",
       "      <td>1992</td>\n",
       "      <td>윤년</td>\n",
       "    </tr>\n",
       "    <tr>\n",
       "      <th>6</th>\n",
       "      <td>1994</td>\n",
       "      <td>평년</td>\n",
       "    </tr>\n",
       "    <tr>\n",
       "      <th>7</th>\n",
       "      <td>1996</td>\n",
       "      <td>윤년</td>\n",
       "    </tr>\n",
       "  </tbody>\n",
       "</table>\n",
       "</div>"
      ],
      "text/plain": [
       "   year isLeap\n",
       "0  2020     윤년\n",
       "1  2021     평년\n",
       "2  2040     윤년\n",
       "3  2060     윤년\n",
       "4  1990     평년\n",
       "5  1992     윤년\n",
       "6  1994     평년\n",
       "7  1996     윤년"
      ]
     },
     "execution_count": 70,
     "metadata": {},
     "output_type": "execute_result"
    }
   ],
   "source": [
    "leapyear3 = leapyear.append(leapyear1,ignore_index=True)\n",
    "leapyear3"
   ]
  },
  {
   "cell_type": "markdown",
   "id": "90a0f623",
   "metadata": {},
   "source": [
    "### DataFrame -> csv 만들고 읽어오기"
   ]
  },
  {
   "cell_type": "code",
   "execution_count": null,
   "id": "bf4b8e4d",
   "metadata": {},
   "outputs": [],
   "source": [
    "leapyear3.to_csv(\"leapyear3.csv\", index=False)"
   ]
  },
  {
   "cell_type": "code",
   "execution_count": 85,
   "id": "d3572095",
   "metadata": {},
   "outputs": [
    {
     "data": {
      "text/html": [
       "<div>\n",
       "<style scoped>\n",
       "    .dataframe tbody tr th:only-of-type {\n",
       "        vertical-align: middle;\n",
       "    }\n",
       "\n",
       "    .dataframe tbody tr th {\n",
       "        vertical-align: top;\n",
       "    }\n",
       "\n",
       "    .dataframe thead th {\n",
       "        text-align: right;\n",
       "    }\n",
       "</style>\n",
       "<table border=\"1\" class=\"dataframe\">\n",
       "  <thead>\n",
       "    <tr style=\"text-align: right;\">\n",
       "      <th></th>\n",
       "      <th>year</th>\n",
       "      <th>isLeap</th>\n",
       "    </tr>\n",
       "  </thead>\n",
       "  <tbody>\n",
       "    <tr>\n",
       "      <th>0</th>\n",
       "      <td>2020</td>\n",
       "      <td>윤년</td>\n",
       "    </tr>\n",
       "    <tr>\n",
       "      <th>1</th>\n",
       "      <td>2021</td>\n",
       "      <td>평년</td>\n",
       "    </tr>\n",
       "    <tr>\n",
       "      <th>2</th>\n",
       "      <td>2040</td>\n",
       "      <td>윤년</td>\n",
       "    </tr>\n",
       "    <tr>\n",
       "      <th>3</th>\n",
       "      <td>2060</td>\n",
       "      <td>윤년</td>\n",
       "    </tr>\n",
       "    <tr>\n",
       "      <th>4</th>\n",
       "      <td>1990</td>\n",
       "      <td>평년</td>\n",
       "    </tr>\n",
       "    <tr>\n",
       "      <th>5</th>\n",
       "      <td>1992</td>\n",
       "      <td>윤년</td>\n",
       "    </tr>\n",
       "    <tr>\n",
       "      <th>6</th>\n",
       "      <td>1994</td>\n",
       "      <td>평년</td>\n",
       "    </tr>\n",
       "    <tr>\n",
       "      <th>7</th>\n",
       "      <td>1996</td>\n",
       "      <td>윤년</td>\n",
       "    </tr>\n",
       "  </tbody>\n",
       "</table>\n",
       "</div>"
      ],
      "text/plain": [
       "   year isLeap\n",
       "0  2020     윤년\n",
       "1  2021     평년\n",
       "2  2040     윤년\n",
       "3  2060     윤년\n",
       "4  1990     평년\n",
       "5  1992     윤년\n",
       "6  1994     평년\n",
       "7  1996     윤년"
      ]
     },
     "execution_count": 85,
     "metadata": {},
     "output_type": "execute_result"
    }
   ],
   "source": [
    "pd.read_csv(\"leapyear3.csv\")"
   ]
  },
  {
   "cell_type": "code",
   "execution_count": 90,
   "id": "8729ac74",
   "metadata": {},
   "outputs": [
    {
     "data": {
      "text/html": [
       "<div>\n",
       "<style scoped>\n",
       "    .dataframe tbody tr th:only-of-type {\n",
       "        vertical-align: middle;\n",
       "    }\n",
       "\n",
       "    .dataframe tbody tr th {\n",
       "        vertical-align: top;\n",
       "    }\n",
       "\n",
       "    .dataframe thead th {\n",
       "        text-align: right;\n",
       "    }\n",
       "</style>\n",
       "<table border=\"1\" class=\"dataframe\">\n",
       "  <thead>\n",
       "    <tr style=\"text-align: right;\">\n",
       "      <th></th>\n",
       "      <th>year</th>\n",
       "      <th>isLeap</th>\n",
       "    </tr>\n",
       "  </thead>\n",
       "  <tbody>\n",
       "    <tr>\n",
       "      <th>0</th>\n",
       "      <td>2020</td>\n",
       "      <td>윤년</td>\n",
       "    </tr>\n",
       "    <tr>\n",
       "      <th>1</th>\n",
       "      <td>2021</td>\n",
       "      <td>평년</td>\n",
       "    </tr>\n",
       "    <tr>\n",
       "      <th>2</th>\n",
       "      <td>2040</td>\n",
       "      <td>윤년</td>\n",
       "    </tr>\n",
       "    <tr>\n",
       "      <th>3</th>\n",
       "      <td>2060</td>\n",
       "      <td>윤년</td>\n",
       "    </tr>\n",
       "    <tr>\n",
       "      <th>4</th>\n",
       "      <td>1990</td>\n",
       "      <td>평년</td>\n",
       "    </tr>\n",
       "    <tr>\n",
       "      <th>5</th>\n",
       "      <td>1992</td>\n",
       "      <td>윤년</td>\n",
       "    </tr>\n",
       "    <tr>\n",
       "      <th>6</th>\n",
       "      <td>1994</td>\n",
       "      <td>평년</td>\n",
       "    </tr>\n",
       "    <tr>\n",
       "      <th>7</th>\n",
       "      <td>1996</td>\n",
       "      <td>윤년</td>\n",
       "    </tr>\n",
       "  </tbody>\n",
       "</table>\n",
       "</div>"
      ],
      "text/plain": [
       "   year isLeap\n",
       "0  2020     윤년\n",
       "1  2021     평년\n",
       "2  2040     윤년\n",
       "3  2060     윤년\n",
       "4  1990     평년\n",
       "5  1992     윤년\n",
       "6  1994     평년\n",
       "7  1996     윤년"
      ]
     },
     "execution_count": 90,
     "metadata": {},
     "output_type": "execute_result"
    }
   ],
   "source": [
    "leapyear3.to_csv(\"leapyear03.csv\")\n",
    "pd.read_csv(\"leapyear03.csv\").drop(\"Unnamed: 0\",axis=1)"
   ]
  },
  {
   "cell_type": "code",
   "execution_count": 91,
   "id": "2fb21f7a",
   "metadata": {},
   "outputs": [
    {
     "data": {
      "text/plain": [
       "Index(['Unnamed: 0', 'year', 'isLeap'], dtype='object')"
      ]
     },
     "execution_count": 91,
     "metadata": {},
     "output_type": "execute_result"
    }
   ],
   "source": [
    "pd.read_csv(\"leapyear03.csv\").columns"
   ]
  },
  {
   "cell_type": "code",
   "execution_count": 92,
   "id": "e5aa26fb",
   "metadata": {},
   "outputs": [
    {
     "name": "stdout",
     "output_type": "stream",
     "text": [
      "년도는(0이면 종료)? 2020\n",
      "2020년은 '윤년'입니다.\n",
      "save2 =  {2020: '윤년'}\n",
      "년도는(0이면 종료)? 2021\n",
      "2021년은 '평년'입니다.\n",
      "save2 =  {2020: '윤년', 2021: '평년'}\n",
      "년도는(0이면 종료)? 2022\n",
      "2022년은 '평년'입니다.\n",
      "save2 =  {2020: '윤년', 2021: '평년', 2022: '평년'}\n",
      "년도는(0이면 종료)? 0\n",
      "입력이 종료되었습니다.\n",
      "{2020: '윤년', 2021: '평년', 2022: '평년'}\n"
     ]
    }
   ],
   "source": [
    "save2 = {}\n",
    "while True:\n",
    "    year = int(input(\"년도는(0이면 종료)? \"))\n",
    "    if year == 0:\n",
    "        print(\"입력이 종료되었습니다.\")\n",
    "        break\n",
    "    result = leap_year(year)\n",
    "    print(\"%s년은 '%s'입니다.\"%(year, result))\n",
    "    save2[year] = result\n",
    "    print(\"save2 = \", save2)\n",
    "print(save2)"
   ]
  },
  {
   "cell_type": "code",
   "execution_count": 108,
   "id": "586886a1",
   "metadata": {},
   "outputs": [
    {
     "data": {
      "text/html": [
       "<div>\n",
       "<style scoped>\n",
       "    .dataframe tbody tr th:only-of-type {\n",
       "        vertical-align: middle;\n",
       "    }\n",
       "\n",
       "    .dataframe tbody tr th {\n",
       "        vertical-align: top;\n",
       "    }\n",
       "\n",
       "    .dataframe thead th {\n",
       "        text-align: right;\n",
       "    }\n",
       "</style>\n",
       "<table border=\"1\" class=\"dataframe\">\n",
       "  <thead>\n",
       "    <tr style=\"text-align: right;\">\n",
       "      <th></th>\n",
       "      <th>2020</th>\n",
       "      <th>2021</th>\n",
       "      <th>2022</th>\n",
       "    </tr>\n",
       "  </thead>\n",
       "  <tbody>\n",
       "    <tr>\n",
       "      <th>0</th>\n",
       "      <td>윤년</td>\n",
       "      <td>평년</td>\n",
       "      <td>평년</td>\n",
       "    </tr>\n",
       "  </tbody>\n",
       "</table>\n",
       "</div>"
      ],
      "text/plain": [
       "  2020 2021 2022\n",
       "0   윤년   평년   평년"
      ]
     },
     "execution_count": 108,
     "metadata": {},
     "output_type": "execute_result"
    }
   ],
   "source": [
    "pd.DataFrame(save2, index=[0])"
   ]
  },
  {
   "cell_type": "code",
   "execution_count": 95,
   "id": "80ebf56a",
   "metadata": {},
   "outputs": [
    {
     "name": "stdout",
     "output_type": "stream",
     "text": [
      "년도는(0이면 종료)? 2020\n",
      "2020년은 '윤년'입니다.\n",
      "save3 =  {'윤년': 2020}\n",
      "년도는(0이면 종료)? 2021\n",
      "2021년은 '평년'입니다.\n",
      "save3 =  {'윤년': 2020, '평년': 2021}\n",
      "년도는(0이면 종료)? 2022\n",
      "2022년은 '평년'입니다.\n",
      "save3 =  {'윤년': 2020, '평년': 2022}\n",
      "년도는(0이면 종료)? 0\n",
      "입력이 종료되었습니다.\n",
      "{'윤년': 2020, '평년': 2022}\n"
     ]
    }
   ],
   "source": [
    "save3 = {}\n",
    "while True:\n",
    "    year = int(input(\"년도는(0이면 종료)? \"))\n",
    "    if year == 0:\n",
    "        print(\"입력이 종료되었습니다.\")\n",
    "        break\n",
    "    result = leap_year(year)\n",
    "    print(\"%s년은 '%s'입니다.\"%(year, result))\n",
    "    save3[result] = year\n",
    "    print(\"save3 = \", save3)\n",
    "print(save3)"
   ]
  },
  {
   "cell_type": "code",
   "execution_count": 99,
   "id": "1d932d32",
   "metadata": {},
   "outputs": [
    {
     "name": "stdout",
     "output_type": "stream",
     "text": [
      "년도는(0이면 종료)? 2021\n",
      "2021년은 '평년'입니다.\n",
      "년도는(0이면 종료)? 2022\n",
      "2022년은 '평년'입니다.\n",
      "년도는(0이면 종료)? 2024\n",
      "2024년은 '윤년'입니다.\n",
      "년도는(0이면 종료)? 2028\n",
      "2028년은 '윤년'입니다.\n",
      "년도는(0이면 종료)? 0\n",
      "입력이 종료되었습니다.\n"
     ]
    },
    {
     "data": {
      "text/plain": [
       "{'평년': [2021, 2022], '윤년': [2024, 2028]}"
      ]
     },
     "execution_count": 99,
     "metadata": {},
     "output_type": "execute_result"
    }
   ],
   "source": [
    "save4 = {}\n",
    "common = []\n",
    "leap = []\n",
    "while True:\n",
    "    year = int(input(\"년도는(0이면 종료)? \"))\n",
    "    if year == 0:\n",
    "        print(\"입력이 종료되었습니다.\")\n",
    "        break\n",
    "    result = leap_year(year)\n",
    "    print(\"%s년은 '%s'입니다.\"%(year, result))\n",
    "    if result == \"평년\":\n",
    "        common.append(year)\n",
    "    else:\n",
    "        leap.append(year)\n",
    "\n",
    "save4[\"평년\"] = common\n",
    "save4[\"윤년\"] = leap\n",
    "save4"
   ]
  },
  {
   "cell_type": "code",
   "execution_count": 100,
   "id": "025195f3",
   "metadata": {},
   "outputs": [
    {
     "data": {
      "text/html": [
       "<div>\n",
       "<style scoped>\n",
       "    .dataframe tbody tr th:only-of-type {\n",
       "        vertical-align: middle;\n",
       "    }\n",
       "\n",
       "    .dataframe tbody tr th {\n",
       "        vertical-align: top;\n",
       "    }\n",
       "\n",
       "    .dataframe thead th {\n",
       "        text-align: right;\n",
       "    }\n",
       "</style>\n",
       "<table border=\"1\" class=\"dataframe\">\n",
       "  <thead>\n",
       "    <tr style=\"text-align: right;\">\n",
       "      <th></th>\n",
       "      <th>평년</th>\n",
       "      <th>윤년</th>\n",
       "    </tr>\n",
       "  </thead>\n",
       "  <tbody>\n",
       "    <tr>\n",
       "      <th>0</th>\n",
       "      <td>2021</td>\n",
       "      <td>2024</td>\n",
       "    </tr>\n",
       "    <tr>\n",
       "      <th>1</th>\n",
       "      <td>2022</td>\n",
       "      <td>2028</td>\n",
       "    </tr>\n",
       "  </tbody>\n",
       "</table>\n",
       "</div>"
      ],
      "text/plain": [
       "     평년    윤년\n",
       "0  2021  2024\n",
       "1  2022  2028"
      ]
     },
     "execution_count": 100,
     "metadata": {},
     "output_type": "execute_result"
    }
   ],
   "source": [
    "pd.DataFrame(save4)"
   ]
  },
  {
   "cell_type": "code",
   "execution_count": 103,
   "id": "f9c8659b",
   "metadata": {},
   "outputs": [],
   "source": [
    "isYears = {}\n",
    "comms = []\n",
    "leaps = []\n",
    "year = 1990\n",
    "\n",
    "while True:    \n",
    "    result = leap_year(year)\n",
    "    if result == \"평년\":\n",
    "        comms.append(year)\n",
    "        leaps.append(\"\")\n",
    "    else:\n",
    "        comms.append(\"\")\n",
    "        leaps.append(year)\n",
    "    year += 1\n",
    "    if year == 2024:\n",
    "        break\n",
    "isYears[\"평년\"] = comms\n",
    "isYears[\"윤년\"] = leaps"
   ]
  },
  {
   "cell_type": "code",
   "execution_count": 104,
   "id": "a470e6b4",
   "metadata": {},
   "outputs": [
    {
     "data": {
      "text/html": [
       "<div>\n",
       "<style scoped>\n",
       "    .dataframe tbody tr th:only-of-type {\n",
       "        vertical-align: middle;\n",
       "    }\n",
       "\n",
       "    .dataframe tbody tr th {\n",
       "        vertical-align: top;\n",
       "    }\n",
       "\n",
       "    .dataframe thead th {\n",
       "        text-align: right;\n",
       "    }\n",
       "</style>\n",
       "<table border=\"1\" class=\"dataframe\">\n",
       "  <thead>\n",
       "    <tr style=\"text-align: right;\">\n",
       "      <th></th>\n",
       "      <th>평년</th>\n",
       "      <th>윤년</th>\n",
       "    </tr>\n",
       "  </thead>\n",
       "  <tbody>\n",
       "    <tr>\n",
       "      <th>0</th>\n",
       "      <td>1990</td>\n",
       "      <td></td>\n",
       "    </tr>\n",
       "    <tr>\n",
       "      <th>1</th>\n",
       "      <td>1991</td>\n",
       "      <td></td>\n",
       "    </tr>\n",
       "    <tr>\n",
       "      <th>2</th>\n",
       "      <td></td>\n",
       "      <td>1992</td>\n",
       "    </tr>\n",
       "    <tr>\n",
       "      <th>3</th>\n",
       "      <td>1993</td>\n",
       "      <td></td>\n",
       "    </tr>\n",
       "    <tr>\n",
       "      <th>4</th>\n",
       "      <td>1994</td>\n",
       "      <td></td>\n",
       "    </tr>\n",
       "    <tr>\n",
       "      <th>5</th>\n",
       "      <td>1995</td>\n",
       "      <td></td>\n",
       "    </tr>\n",
       "    <tr>\n",
       "      <th>6</th>\n",
       "      <td></td>\n",
       "      <td>1996</td>\n",
       "    </tr>\n",
       "    <tr>\n",
       "      <th>7</th>\n",
       "      <td>1997</td>\n",
       "      <td></td>\n",
       "    </tr>\n",
       "    <tr>\n",
       "      <th>8</th>\n",
       "      <td>1998</td>\n",
       "      <td></td>\n",
       "    </tr>\n",
       "    <tr>\n",
       "      <th>9</th>\n",
       "      <td>1999</td>\n",
       "      <td></td>\n",
       "    </tr>\n",
       "    <tr>\n",
       "      <th>10</th>\n",
       "      <td></td>\n",
       "      <td>2000</td>\n",
       "    </tr>\n",
       "    <tr>\n",
       "      <th>11</th>\n",
       "      <td>2001</td>\n",
       "      <td></td>\n",
       "    </tr>\n",
       "    <tr>\n",
       "      <th>12</th>\n",
       "      <td>2002</td>\n",
       "      <td></td>\n",
       "    </tr>\n",
       "    <tr>\n",
       "      <th>13</th>\n",
       "      <td>2003</td>\n",
       "      <td></td>\n",
       "    </tr>\n",
       "    <tr>\n",
       "      <th>14</th>\n",
       "      <td></td>\n",
       "      <td>2004</td>\n",
       "    </tr>\n",
       "    <tr>\n",
       "      <th>15</th>\n",
       "      <td>2005</td>\n",
       "      <td></td>\n",
       "    </tr>\n",
       "    <tr>\n",
       "      <th>16</th>\n",
       "      <td>2006</td>\n",
       "      <td></td>\n",
       "    </tr>\n",
       "    <tr>\n",
       "      <th>17</th>\n",
       "      <td>2007</td>\n",
       "      <td></td>\n",
       "    </tr>\n",
       "    <tr>\n",
       "      <th>18</th>\n",
       "      <td></td>\n",
       "      <td>2008</td>\n",
       "    </tr>\n",
       "    <tr>\n",
       "      <th>19</th>\n",
       "      <td>2009</td>\n",
       "      <td></td>\n",
       "    </tr>\n",
       "    <tr>\n",
       "      <th>20</th>\n",
       "      <td>2010</td>\n",
       "      <td></td>\n",
       "    </tr>\n",
       "    <tr>\n",
       "      <th>21</th>\n",
       "      <td>2011</td>\n",
       "      <td></td>\n",
       "    </tr>\n",
       "    <tr>\n",
       "      <th>22</th>\n",
       "      <td></td>\n",
       "      <td>2012</td>\n",
       "    </tr>\n",
       "    <tr>\n",
       "      <th>23</th>\n",
       "      <td>2013</td>\n",
       "      <td></td>\n",
       "    </tr>\n",
       "    <tr>\n",
       "      <th>24</th>\n",
       "      <td>2014</td>\n",
       "      <td></td>\n",
       "    </tr>\n",
       "    <tr>\n",
       "      <th>25</th>\n",
       "      <td>2015</td>\n",
       "      <td></td>\n",
       "    </tr>\n",
       "    <tr>\n",
       "      <th>26</th>\n",
       "      <td></td>\n",
       "      <td>2016</td>\n",
       "    </tr>\n",
       "    <tr>\n",
       "      <th>27</th>\n",
       "      <td>2017</td>\n",
       "      <td></td>\n",
       "    </tr>\n",
       "    <tr>\n",
       "      <th>28</th>\n",
       "      <td>2018</td>\n",
       "      <td></td>\n",
       "    </tr>\n",
       "    <tr>\n",
       "      <th>29</th>\n",
       "      <td>2019</td>\n",
       "      <td></td>\n",
       "    </tr>\n",
       "    <tr>\n",
       "      <th>30</th>\n",
       "      <td></td>\n",
       "      <td>2020</td>\n",
       "    </tr>\n",
       "    <tr>\n",
       "      <th>31</th>\n",
       "      <td>2021</td>\n",
       "      <td></td>\n",
       "    </tr>\n",
       "    <tr>\n",
       "      <th>32</th>\n",
       "      <td>2022</td>\n",
       "      <td></td>\n",
       "    </tr>\n",
       "    <tr>\n",
       "      <th>33</th>\n",
       "      <td>2023</td>\n",
       "      <td></td>\n",
       "    </tr>\n",
       "  </tbody>\n",
       "</table>\n",
       "</div>"
      ],
      "text/plain": [
       "      평년    윤년\n",
       "0   1990      \n",
       "1   1991      \n",
       "2         1992\n",
       "3   1993      \n",
       "4   1994      \n",
       "5   1995      \n",
       "6         1996\n",
       "7   1997      \n",
       "8   1998      \n",
       "9   1999      \n",
       "10        2000\n",
       "11  2001      \n",
       "12  2002      \n",
       "13  2003      \n",
       "14        2004\n",
       "15  2005      \n",
       "16  2006      \n",
       "17  2007      \n",
       "18        2008\n",
       "19  2009      \n",
       "20  2010      \n",
       "21  2011      \n",
       "22        2012\n",
       "23  2013      \n",
       "24  2014      \n",
       "25  2015      \n",
       "26        2016\n",
       "27  2017      \n",
       "28  2018      \n",
       "29  2019      \n",
       "30        2020\n",
       "31  2021      \n",
       "32  2022      \n",
       "33  2023      "
      ]
     },
     "execution_count": 104,
     "metadata": {},
     "output_type": "execute_result"
    }
   ],
   "source": [
    "pd.DataFrame(isYears)"
   ]
  },
  {
   "cell_type": "code",
   "execution_count": null,
   "id": "70694abb",
   "metadata": {},
   "outputs": [],
   "source": []
  }
 ],
 "metadata": {
  "kernelspec": {
   "display_name": "Python 3",
   "language": "python",
   "name": "python3"
  },
  "language_info": {
   "codemirror_mode": {
    "name": "ipython",
    "version": 3
   },
   "file_extension": ".py",
   "mimetype": "text/x-python",
   "name": "python",
   "nbconvert_exporter": "python",
   "pygments_lexer": "ipython3",
   "version": "3.8.8"
  }
 },
 "nbformat": 4,
 "nbformat_minor": 5
}
