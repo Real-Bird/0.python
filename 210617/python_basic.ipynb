{
 "cells": [
  {
   "cell_type": "code",
   "execution_count": null,
   "id": "75f47140",
   "metadata": {},
   "outputs": [],
   "source": [
    "temp = 2\n",
    "print(temp)"
   ]
  },
  {
   "cell_type": "code",
   "execution_count": null,
   "id": "50fbee97",
   "metadata": {},
   "outputs": [],
   "source": [
    "temp = \"python \""
   ]
  },
  {
   "cell_type": "code",
   "execution_count": 3,
   "id": "ec52a49e",
   "metadata": {
    "scrolled": true
   },
   "outputs": [
    {
     "name": "stdout",
     "output_type": "stream",
     "text": [
      "python \n"
     ]
    }
   ],
   "source": [
    "print(temp)"
   ]
  },
  {
   "cell_type": "markdown",
   "id": "6ec82b85",
   "metadata": {},
   "source": [
    "# 변수 이름 규칙\n",
    "1. A-Z, a-z. _, 숫자(0-9)로 조합\n",
    "    - temp, Temp, 김개똥, 0-9\n",
    "    - Hello_Python\n",
    "2. 단, 맨앞에 숫자로 시작하면 안 됨"
   ]
  },
  {
   "cell_type": "code",
   "execution_count": 4,
   "id": "aaf69893",
   "metadata": {},
   "outputs": [],
   "source": [
    "Hello_Python = 3"
   ]
  },
  {
   "cell_type": "code",
   "execution_count": 6,
   "id": "7e322c7b",
   "metadata": {},
   "outputs": [
    {
     "data": {
      "text/plain": [
       "3"
      ]
     },
     "execution_count": 6,
     "metadata": {},
     "output_type": "execute_result"
    }
   ],
   "source": [
    "Hello_Python"
   ]
  },
  {
   "cell_type": "code",
   "execution_count": 7,
   "id": "2372422b",
   "metadata": {},
   "outputs": [],
   "source": [
    "김개똥 = \"파이썬\""
   ]
  },
  {
   "cell_type": "code",
   "execution_count": 9,
   "id": "99327e16",
   "metadata": {},
   "outputs": [
    {
     "data": {
      "text/plain": [
       "'파이썬'"
      ]
     },
     "execution_count": 9,
     "metadata": {},
     "output_type": "execute_result"
    }
   ],
   "source": [
    "김개똥"
   ]
  },
  {
   "cell_type": "code",
   "execution_count": 12,
   "id": "442cda4d",
   "metadata": {},
   "outputs": [
    {
     "ename": "SyntaxError",
     "evalue": "invalid syntax (<ipython-input-12-b61824059284>, line 1)",
     "output_type": "error",
     "traceback": [
      "\u001b[1;36m  File \u001b[1;32m\"<ipython-input-12-b61824059284>\"\u001b[1;36m, line \u001b[1;32m1\u001b[0m\n\u001b[1;33m    1jin = 3\u001b[0m\n\u001b[1;37m         ^\u001b[0m\n\u001b[1;31mSyntaxError\u001b[0m\u001b[1;31m:\u001b[0m invalid syntax\n"
     ]
    }
   ],
   "source": [
    "1jin = 3"
   ]
  },
  {
   "cell_type": "code",
   "execution_count": 13,
   "id": "90d654c4",
   "metadata": {},
   "outputs": [],
   "source": [
    "_abc = 3"
   ]
  },
  {
   "cell_type": "code",
   "execution_count": 14,
   "id": "d36ef987",
   "metadata": {},
   "outputs": [
    {
     "data": {
      "text/plain": [
       "3"
      ]
     },
     "execution_count": 14,
     "metadata": {},
     "output_type": "execute_result"
    }
   ],
   "source": [
    "_abc"
   ]
  },
  {
   "cell_type": "code",
   "execution_count": 17,
   "id": "1ffb1440",
   "metadata": {},
   "outputs": [],
   "source": [
    "abc = 200"
   ]
  },
  {
   "cell_type": "code",
   "execution_count": 19,
   "id": "abddfea5",
   "metadata": {},
   "outputs": [
    {
     "data": {
      "text/plain": [
       "int"
      ]
     },
     "execution_count": 19,
     "metadata": {},
     "output_type": "execute_result"
    }
   ],
   "source": [
    "type(abc)"
   ]
  },
  {
   "cell_type": "code",
   "execution_count": 21,
   "id": "3a684b09",
   "metadata": {},
   "outputs": [],
   "source": [
    "b=1.1"
   ]
  },
  {
   "cell_type": "code",
   "execution_count": 22,
   "id": "46d9a2b2",
   "metadata": {},
   "outputs": [
    {
     "data": {
      "text/plain": [
       "float"
      ]
     },
     "execution_count": 22,
     "metadata": {},
     "output_type": "execute_result"
    }
   ],
   "source": [
    "type(b)"
   ]
  },
  {
   "cell_type": "code",
   "execution_count": 23,
   "id": "b884a0f6",
   "metadata": {},
   "outputs": [],
   "source": [
    "a = 7\n",
    "b =0"
   ]
  },
  {
   "cell_type": "markdown",
   "id": "e004b3e6",
   "metadata": {},
   "source": [
    "##실습 a= 7, b=3\n",
    "1. 연산자 ->//\n",
    "2. 연산자 -> %"
   ]
  },
  {
   "cell_type": "code",
   "execution_count": 27,
   "id": "190675fe",
   "metadata": {},
   "outputs": [
    {
     "name": "stdout",
     "output_type": "stream",
     "text": [
      "몫 =  2\n",
      "나머지 =  1\n"
     ]
    }
   ],
   "source": [
    "a = 7 ; b = 3\n",
    "print(\"몫 = \",a//b)\n",
    "print(\"나머지 = \",a%b)"
   ]
  },
  {
   "cell_type": "code",
   "execution_count": 28,
   "id": "16f3223e",
   "metadata": {},
   "outputs": [
    {
     "name": "stdout",
     "output_type": "stream",
     "text": [
      "0\n"
     ]
    }
   ],
   "source": [
    "a = 10\n",
    "print(a%2)"
   ]
  },
  {
   "cell_type": "code",
   "execution_count": 29,
   "id": "b840beef",
   "metadata": {},
   "outputs": [
    {
     "name": "stdout",
     "output_type": "stream",
     "text": [
      "1000\n"
     ]
    }
   ],
   "source": [
    "print(a**b)"
   ]
  },
  {
   "cell_type": "markdown",
   "id": "3db5243d",
   "metadata": {},
   "source": [
    "# 예약어\n",
    "import keyword\n",
    "#녹색 이름 = 예약어\n",
    "#사용불가"
   ]
  },
  {
   "cell_type": "code",
   "execution_count": 31,
   "id": "fa91104b",
   "metadata": {},
   "outputs": [
    {
     "name": "stdout",
     "output_type": "stream",
     "text": [
      "['False', 'None', 'True', 'and', 'as', 'assert', 'async', 'await', 'break', 'class', 'continue', 'def', 'del', 'elif', 'else', 'except', 'finally', 'for', 'from', 'global', 'if', 'import', 'in', 'is', 'lambda', 'nonlocal', 'not', 'or', 'pass', 'raise', 'return', 'try', 'while', 'with', 'yield']\n"
     ]
    }
   ],
   "source": [
    "print(keyword.kwlist)"
   ]
  },
  {
   "cell_type": "markdown",
   "id": "87da7886",
   "metadata": {},
   "source": [
    "각각의 자료구조에는 method라는 기능을 제공한다."
   ]
  },
  {
   "cell_type": "code",
   "execution_count": 37,
   "id": "6e179b9e",
   "metadata": {},
   "outputs": [
    {
     "data": {
      "text/plain": [
       "['__abs__',\n",
       " '__add__',\n",
       " '__and__',\n",
       " '__bool__',\n",
       " '__ceil__',\n",
       " '__class__',\n",
       " '__delattr__',\n",
       " '__dir__',\n",
       " '__divmod__',\n",
       " '__doc__',\n",
       " '__eq__',\n",
       " '__float__',\n",
       " '__floor__',\n",
       " '__floordiv__',\n",
       " '__format__',\n",
       " '__ge__',\n",
       " '__getattribute__',\n",
       " '__getnewargs__',\n",
       " '__gt__',\n",
       " '__hash__',\n",
       " '__index__',\n",
       " '__init__',\n",
       " '__init_subclass__',\n",
       " '__int__',\n",
       " '__invert__',\n",
       " '__le__',\n",
       " '__lshift__',\n",
       " '__lt__',\n",
       " '__mod__',\n",
       " '__mul__',\n",
       " '__ne__',\n",
       " '__neg__',\n",
       " '__new__',\n",
       " '__or__',\n",
       " '__pos__',\n",
       " '__pow__',\n",
       " '__radd__',\n",
       " '__rand__',\n",
       " '__rdivmod__',\n",
       " '__reduce__',\n",
       " '__reduce_ex__',\n",
       " '__repr__',\n",
       " '__rfloordiv__',\n",
       " '__rlshift__',\n",
       " '__rmod__',\n",
       " '__rmul__',\n",
       " '__ror__',\n",
       " '__round__',\n",
       " '__rpow__',\n",
       " '__rrshift__',\n",
       " '__rshift__',\n",
       " '__rsub__',\n",
       " '__rtruediv__',\n",
       " '__rxor__',\n",
       " '__setattr__',\n",
       " '__sizeof__',\n",
       " '__str__',\n",
       " '__sub__',\n",
       " '__subclasshook__',\n",
       " '__truediv__',\n",
       " '__trunc__',\n",
       " '__xor__',\n",
       " 'as_integer_ratio',\n",
       " 'bit_length',\n",
       " 'conjugate',\n",
       " 'denominator',\n",
       " 'from_bytes',\n",
       " 'imag',\n",
       " 'numerator',\n",
       " 'real',\n",
       " 'to_bytes']"
      ]
     },
     "execution_count": 37,
     "metadata": {},
     "output_type": "execute_result"
    }
   ],
   "source": [
    "dir(a)"
   ]
  },
  {
   "cell_type": "code",
   "execution_count": 39,
   "id": "75b1d025",
   "metadata": {},
   "outputs": [],
   "source": [
    "temp = \"python is easy\""
   ]
  },
  {
   "cell_type": "code",
   "execution_count": 40,
   "id": "e0c7ef9a",
   "metadata": {},
   "outputs": [
    {
     "data": {
      "text/plain": [
       "['python', 'is', 'easy']"
      ]
     },
     "execution_count": 40,
     "metadata": {},
     "output_type": "execute_result"
    }
   ],
   "source": [
    "temp.split()"
   ]
  },
  {
   "cell_type": "code",
   "execution_count": 48,
   "id": "12fecdd2",
   "metadata": {},
   "outputs": [],
   "source": [
    "#구분자 없으면 공백으로 구분\n",
    "temp1 = temp.split()"
   ]
  },
  {
   "cell_type": "code",
   "execution_count": 49,
   "id": "52b0f8d1",
   "metadata": {},
   "outputs": [
    {
     "name": "stdout",
     "output_type": "stream",
     "text": [
      "['python', 'is', 'easy']\n"
     ]
    }
   ],
   "source": [
    "print(temp1)"
   ]
  },
  {
   "cell_type": "code",
   "execution_count": 50,
   "id": "859d75cf",
   "metadata": {},
   "outputs": [
    {
     "data": {
      "text/plain": [
       "['python', 'java', 'R', 'SAS']"
      ]
     },
     "execution_count": 50,
     "metadata": {},
     "output_type": "execute_result"
    }
   ],
   "source": [
    "temp2 = \"python,java,R,SAS\"\n",
    "temp2.split(\",\")"
   ]
  },
  {
   "cell_type": "code",
   "execution_count": 51,
   "id": "21389dee",
   "metadata": {},
   "outputs": [
    {
     "data": {
      "text/plain": [
       "['python', 'java', 'R', 'SAS']"
      ]
     },
     "execution_count": 51,
     "metadata": {},
     "output_type": "execute_result"
    }
   ],
   "source": [
    "temp3 = temp2.split(\",\");temp3"
   ]
  },
  {
   "cell_type": "code",
   "execution_count": 52,
   "id": "fff63deb",
   "metadata": {},
   "outputs": [
    {
     "data": {
      "text/plain": [
       "'python,java,R,SAS'"
      ]
     },
     "execution_count": 52,
     "metadata": {},
     "output_type": "execute_result"
    }
   ],
   "source": [
    "\",\".join(temp3)"
   ]
  }
 ],
 "metadata": {
  "kernelspec": {
   "display_name": "Python 3",
   "language": "python",
   "name": "python3"
  },
  "language_info": {
   "codemirror_mode": {
    "name": "ipython",
    "version": 3
   },
   "file_extension": ".py",
   "mimetype": "text/x-python",
   "name": "python",
   "nbconvert_exporter": "python",
   "pygments_lexer": "ipython3",
   "version": "3.8.8"
  }
 },
 "nbformat": 4,
 "nbformat_minor": 5
}
