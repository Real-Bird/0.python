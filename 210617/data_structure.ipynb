{
 "cells": [
  {
   "cell_type": "code",
   "execution_count": 16,
   "id": "4f0a6ca7",
   "metadata": {},
   "outputs": [],
   "source": [
    "num=['one','two','three','four']\n"
   ]
  },
  {
   "cell_type": "code",
   "execution_count": 17,
   "id": "c5a971d4",
   "metadata": {},
   "outputs": [
    {
     "data": {
      "text/plain": [
       "list"
      ]
     },
     "execution_count": 17,
     "metadata": {},
     "output_type": "execute_result"
    }
   ],
   "source": [
    "type(num)"
   ]
  },
  {
   "cell_type": "code",
   "execution_count": 18,
   "id": "71ef75bc",
   "metadata": {},
   "outputs": [
    {
     "data": {
      "text/plain": [
       "list"
      ]
     },
     "execution_count": 18,
     "metadata": {},
     "output_type": "execute_result"
    }
   ],
   "source": [
    "num1=[1,2,3,4];type(num1)"
   ]
  },
  {
   "cell_type": "code",
   "execution_count": 19,
   "id": "45aecb73",
   "metadata": {},
   "outputs": [
    {
     "data": {
      "text/plain": [
       "list"
      ]
     },
     "execution_count": 19,
     "metadata": {},
     "output_type": "execute_result"
    }
   ],
   "source": [
    "num2=[\"a\",1,\"b\",2];type(num2)"
   ]
  },
  {
   "cell_type": "code",
   "execution_count": 20,
   "id": "f3b1e7a4",
   "metadata": {},
   "outputs": [
    {
     "data": {
      "text/plain": [
       "[1, 2, 3, 4]"
      ]
     },
     "execution_count": 20,
     "metadata": {},
     "output_type": "execute_result"
    }
   ],
   "source": [
    "num_tuple = (1, 2, 3, 4);list(num_tuple)"
   ]
  },
  {
   "cell_type": "code",
   "execution_count": 21,
   "id": "20ce2e3f",
   "metadata": {},
   "outputs": [
    {
     "data": {
      "text/plain": [
       "'two'"
      ]
     },
     "execution_count": 21,
     "metadata": {},
     "output_type": "execute_result"
    }
   ],
   "source": [
    "num[1]"
   ]
  },
  {
   "cell_type": "code",
   "execution_count": 22,
   "id": "e758b025",
   "metadata": {},
   "outputs": [
    {
     "data": {
      "text/plain": [
       "['three', 'four']"
      ]
     },
     "execution_count": 22,
     "metadata": {},
     "output_type": "execute_result"
    }
   ],
   "source": [
    "num[2:4]"
   ]
  },
  {
   "cell_type": "code",
   "execution_count": 23,
   "id": "fb389bd3",
   "metadata": {},
   "outputs": [
    {
     "data": {
      "text/plain": [
       "['first', 'two', 'three', 'four']"
      ]
     },
     "execution_count": 23,
     "metadata": {},
     "output_type": "execute_result"
    }
   ],
   "source": [
    "num[0] = 'first'\n",
    "num"
   ]
  },
  {
   "cell_type": "code",
   "execution_count": 28,
   "id": "7b41ccdf",
   "metadata": {},
   "outputs": [
    {
     "data": {
      "text/plain": [
       "['first', 'two', 'three', 'six', 'seven', 'eight', 'nine']"
      ]
     },
     "execution_count": 28,
     "metadata": {},
     "output_type": "execute_result"
    }
   ],
   "source": [
    "del num[7:11]\n",
    "num"
   ]
  },
  {
   "cell_type": "code",
   "execution_count": 30,
   "id": "ebb3138b",
   "metadata": {},
   "outputs": [
    {
     "data": {
      "text/plain": [
       "['first', 'two', 'three', 'six', 'seven', 'eight', 'nine']"
      ]
     },
     "execution_count": 30,
     "metadata": {},
     "output_type": "execute_result"
    }
   ],
   "source": [
    "num2=['six','seven','eight','nine']\n",
    "num.extend(num2)\n",
    "num"
   ]
  },
  {
   "cell_type": "code",
   "execution_count": 29,
   "id": "68dbffab",
   "metadata": {},
   "outputs": [
    {
     "data": {
      "text/plain": [
       "['eight', 'first', 'nine', 'seven', 'six', 'three', 'two']"
      ]
     },
     "execution_count": 29,
     "metadata": {},
     "output_type": "execute_result"
    }
   ],
   "source": [
    "sorted(num)"
   ]
  },
  {
   "cell_type": "code",
   "execution_count": 35,
   "id": "fcec744c",
   "metadata": {},
   "outputs": [
    {
     "data": {
      "text/plain": [
       "['two', 'three', 'six', 'seven', 'nine', 'first', 'eight']"
      ]
     },
     "execution_count": 35,
     "metadata": {},
     "output_type": "execute_result"
    }
   ],
   "source": [
    "# 'reverse=' 작성해야 적용\n",
    "sorted(num, reverse=True)"
   ]
  },
  {
   "cell_type": "code",
   "execution_count": 36,
   "id": "db75c317",
   "metadata": {},
   "outputs": [
    {
     "data": {
      "text/plain": [
       "tuple"
      ]
     },
     "execution_count": 36,
     "metadata": {},
     "output_type": "execute_result"
    }
   ],
   "source": [
    "num_tuple = (1,2,3,4); type(num_tuple)\n",
    "num_tuple"
   ]
  },
  {
   "cell_type": "markdown",
   "id": "b61e0abb",
   "metadata": {},
   "source": [
    "### (dictionary)"
   ]
  },
  {
   "cell_type": "code",
   "execution_count": 40,
   "id": "cdd37388",
   "metadata": {},
   "outputs": [
    {
     "data": {
      "text/plain": [
       "{'apple': 2000, 'peer': 5000, 'blueberry': 10000}"
      ]
     },
     "execution_count": 40,
     "metadata": {},
     "output_type": "execute_result"
    }
   ],
   "source": [
    "num_dic = {\"apple\":2000,\n",
    "          \"peer\":5000,\n",
    "          \"blueberry\":10000}\n",
    "num_dic"
   ]
  },
  {
   "cell_type": "code",
   "execution_count": 41,
   "id": "2f07de53",
   "metadata": {},
   "outputs": [
    {
     "data": {
      "text/plain": [
       "{'apple': [2000, 5], 'peer': [5000, 10], 'blueberry': [10000, 2]}"
      ]
     },
     "execution_count": 41,
     "metadata": {},
     "output_type": "execute_result"
    }
   ],
   "source": [
    "num_dic1 = {\"apple\":[2000,5],\n",
    "          \"peer\":[5000,10],\n",
    "          \"blueberry\":[10000,2]}\n",
    "num_dic1"
   ]
  },
  {
   "cell_type": "code",
   "execution_count": 45,
   "id": "b3e61d21",
   "metadata": {},
   "outputs": [
    {
     "data": {
      "text/plain": [
       "[['apple', 3500], ['peer', 2500], ['cherry', 5000]]"
      ]
     },
     "execution_count": 45,
     "metadata": {},
     "output_type": "execute_result"
    }
   ],
   "source": [
    "fruit=[[\"apple\",3500],\n",
    "      [\"peer\",2500],\n",
    "      [\"cherry\",5000]]\n",
    "fruit"
   ]
  },
  {
   "cell_type": "code",
   "execution_count": 47,
   "id": "d05ff226",
   "metadata": {},
   "outputs": [
    {
     "data": {
      "text/plain": [
       "{'apple': 3500, 'peer': 2500, 'cherry': 5000}"
      ]
     },
     "execution_count": 47,
     "metadata": {},
     "output_type": "execute_result"
    }
   ],
   "source": [
    "dict(fruit)"
   ]
  },
  {
   "cell_type": "code",
   "execution_count": 51,
   "id": "848e9f8f",
   "metadata": {},
   "outputs": [
    {
     "data": {
      "text/plain": [
       "{'apple': 3500, 'peer': 2500, 'cherry': 5000}"
      ]
     },
     "execution_count": 51,
     "metadata": {},
     "output_type": "execute_result"
    }
   ],
   "source": [
    "fruit_dic=dict(fruit); fruit_dic"
   ]
  },
  {
   "cell_type": "code",
   "execution_count": 57,
   "id": "e07bdc86",
   "metadata": {},
   "outputs": [
    {
     "ename": "ValueError",
     "evalue": "dictionary update sequence element #1 has length 3; 2 is required",
     "output_type": "error",
     "traceback": [
      "\u001b[1;31m---------------------------------------------------------------------------\u001b[0m",
      "\u001b[1;31mValueError\u001b[0m                                Traceback (most recent call last)",
      "\u001b[1;32m<ipython-input-57-440e25a0dc27>\u001b[0m in \u001b[0;36m<module>\u001b[1;34m\u001b[0m\n\u001b[0;32m      2\u001b[0m       \u001b[1;33m[\u001b[0m\u001b[1;34m\"peer\"\u001b[0m\u001b[1;33m,\u001b[0m\u001b[1;36m1\u001b[0m\u001b[1;33m,\u001b[0m\u001b[1;36m3\u001b[0m\u001b[1;33m]\u001b[0m\u001b[1;33m,\u001b[0m\u001b[1;33m\u001b[0m\u001b[1;33m\u001b[0m\u001b[0m\n\u001b[0;32m      3\u001b[0m       [\"cherry\",5000,5]]\n\u001b[1;32m----> 4\u001b[1;33m \u001b[0mdict\u001b[0m\u001b[1;33m(\u001b[0m\u001b[0mtmp\u001b[0m\u001b[1;33m)\u001b[0m\u001b[1;33m\u001b[0m\u001b[1;33m\u001b[0m\u001b[0m\n\u001b[0m",
      "\u001b[1;31mValueError\u001b[0m: dictionary update sequence element #1 has length 3; 2 is required"
     ]
    }
   ],
   "source": [
    "tmp=[[\"apple\",3500],\n",
    "      [\"peer\",1,3],\n",
    "      [\"cherry\",5000,5]]\n",
    "dict(tmp)"
   ]
  },
  {
   "cell_type": "code",
   "execution_count": 58,
   "id": "0e1defa5",
   "metadata": {},
   "outputs": [
    {
     "data": {
      "text/plain": [
       "dict_keys(['apple', 'peer', 'cherry'])"
      ]
     },
     "execution_count": 58,
     "metadata": {},
     "output_type": "execute_result"
    }
   ],
   "source": [
    "fruit_dic.keys()"
   ]
  },
  {
   "cell_type": "code",
   "execution_count": 59,
   "id": "8ea53ff2",
   "metadata": {},
   "outputs": [
    {
     "data": {
      "text/plain": [
       "dict_values([3500, 2500, 5000])"
      ]
     },
     "execution_count": 59,
     "metadata": {},
     "output_type": "execute_result"
    }
   ],
   "source": [
    "fruit_dic.values()"
   ]
  },
  {
   "cell_type": "code",
   "execution_count": 60,
   "id": "e7220a46",
   "metadata": {},
   "outputs": [
    {
     "data": {
      "text/plain": [
       "dict_items([('apple', 3500), ('peer', 2500), ('cherry', 5000)])"
      ]
     },
     "execution_count": 60,
     "metadata": {},
     "output_type": "execute_result"
    }
   ],
   "source": [
    "fruit_dic.items()"
   ]
  },
  {
   "cell_type": "code",
   "execution_count": 64,
   "id": "81d1807b",
   "metadata": {},
   "outputs": [
    {
     "data": {
      "text/plain": [
       "3500"
      ]
     },
     "execution_count": 64,
     "metadata": {},
     "output_type": "execute_result"
    }
   ],
   "source": [
    "fruit_dic[\"apple\"]"
   ]
  },
  {
   "cell_type": "code",
   "execution_count": 66,
   "id": "5091bba4",
   "metadata": {},
   "outputs": [
    {
     "data": {
      "text/plain": [
       "2500"
      ]
     },
     "execution_count": 66,
     "metadata": {},
     "output_type": "execute_result"
    }
   ],
   "source": [
    "fruit_dic.get(\"peer\")"
   ]
  },
  {
   "cell_type": "code",
   "execution_count": null,
   "id": "4d3212eb",
   "metadata": {},
   "outputs": [],
   "source": []
  }
 ],
 "metadata": {
  "kernelspec": {
   "display_name": "Python 3",
   "language": "python",
   "name": "python3"
  },
  "language_info": {
   "codemirror_mode": {
    "name": "ipython",
    "version": 3
   },
   "file_extension": ".py",
   "mimetype": "text/x-python",
   "name": "python",
   "nbconvert_exporter": "python",
   "pygments_lexer": "ipython3",
   "version": "3.8.8"
  }
 },
 "nbformat": 4,
 "nbformat_minor": 5
}
