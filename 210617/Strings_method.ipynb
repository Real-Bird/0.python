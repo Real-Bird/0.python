{
 "cells": [
  {
   "cell_type": "code",
   "execution_count": 1,
   "id": "9898a77a",
   "metadata": {},
   "outputs": [],
   "source": [
    "# https://www.w3schools.com/python/python_strings_methods.asp"
   ]
  },
  {
   "cell_type": "markdown",
   "id": "844234df",
   "metadata": {},
   "source": [
    "capitalize() : 첫 문자를 대문자로 변환"
   ]
  },
  {
   "cell_type": "code",
   "execution_count": 2,
   "id": "c30c5dfb",
   "metadata": {},
   "outputs": [
    {
     "data": {
      "text/plain": [
       "'Hello, and welcome to my world.'"
      ]
     },
     "execution_count": 2,
     "metadata": {},
     "output_type": "execute_result"
    }
   ],
   "source": [
    "txt = \"hello, and welcome to my world.\"\n",
    "\n",
    "txt.capitalize()"
   ]
  },
  {
   "cell_type": "markdown",
   "id": "05a4ef67",
   "metadata": {},
   "source": [
    "casefold() : 모든 문자를 소문자로 변환"
   ]
  },
  {
   "cell_type": "code",
   "execution_count": 3,
   "id": "7ac1a676",
   "metadata": {},
   "outputs": [
    {
     "data": {
      "text/plain": [
       "'hello, and welcome to my world.'"
      ]
     },
     "execution_count": 3,
     "metadata": {},
     "output_type": "execute_result"
    }
   ],
   "source": [
    "txt.casefold()"
   ]
  },
  {
   "cell_type": "markdown",
   "id": "f864d08a",
   "metadata": {},
   "source": [
    "replace() : oldvalue를 newvalue로 count만큼 변환"
   ]
  },
  {
   "cell_type": "code",
   "execution_count": 5,
   "id": "9740ff80",
   "metadata": {},
   "outputs": [
    {
     "data": {
      "text/plain": [
       "'five five was a race horse, two two was one too.'"
      ]
     },
     "execution_count": 5,
     "metadata": {},
     "output_type": "execute_result"
    }
   ],
   "source": [
    "txt = \"one one was a race horse, two two was one too.\"\n",
    "\n",
    "txt.replace('one', 'five', 2)"
   ]
  },
  {
   "cell_type": "markdown",
   "id": "58f248a3",
   "metadata": {},
   "source": [
    "center() : 문자열 길이 초과분만큼 양 옆에 문자 삽입(기본값 공백)"
   ]
  },
  {
   "cell_type": "code",
   "execution_count": 24,
   "id": "2c9399a1",
   "metadata": {},
   "outputs": [
    {
     "data": {
      "text/plain": [
       "' banana '"
      ]
     },
     "execution_count": 24,
     "metadata": {},
     "output_type": "execute_result"
    }
   ],
   "source": [
    "txt = \"banana\"\n",
    "\n",
    "txt.center(8)"
   ]
  },
  {
   "cell_type": "markdown",
   "id": "fb7fdb4a",
   "metadata": {},
   "source": [
    "count() : 해당 문자or문자열이 몇 개 있는지 셈"
   ]
  },
  {
   "cell_type": "code",
   "execution_count": 27,
   "id": "31fb66b7",
   "metadata": {},
   "outputs": [
    {
     "data": {
      "text/plain": [
       "2"
      ]
     },
     "execution_count": 27,
     "metadata": {},
     "output_type": "execute_result"
    }
   ],
   "source": [
    "txt = \"I love apples, apple are my favorite fruit\"\n",
    "\n",
    "txt.count(\"i\")"
   ]
  }
 ],
 "metadata": {
  "kernelspec": {
   "display_name": "Python 3",
   "language": "python",
   "name": "python3"
  },
  "language_info": {
   "codemirror_mode": {
    "name": "ipython",
    "version": 3
   },
   "file_extension": ".py",
   "mimetype": "text/x-python",
   "name": "python",
   "nbconvert_exporter": "python",
   "pygments_lexer": "ipython3",
   "version": "3.8.8"
  }
 },
 "nbformat": 4,
 "nbformat_minor": 5
}
