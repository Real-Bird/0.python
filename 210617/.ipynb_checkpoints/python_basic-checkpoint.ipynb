{
 "cells": [
  {
   "cell_type": "code",
   "execution_count": null,
   "id": "0c17bfb9",
   "metadata": {},
   "outputs": [],
   "source": [
    "temp = 2\n",
    "print(temp)"
   ]
  },
  {
   "cell_type": "code",
   "execution_count": null,
   "id": "ae3626e1",
   "metadata": {},
   "outputs": [],
   "source": [
    "temp = \"python \""
   ]
  },
  {
   "cell_type": "code",
   "execution_count": 3,
   "id": "4e5bd398",
   "metadata": {
    "scrolled": true
   },
   "outputs": [
    {
     "name": "stdout",
     "output_type": "stream",
     "text": [
      "python \n"
     ]
    }
   ],
   "source": [
    "print(temp)"
   ]
  },
  {
   "cell_type": "code",
   "execution_count": null,
   "id": "69c1178c",
   "metadata": {},
   "outputs": [],
   "source": [
    "# 변수 이름 규칙\n",
    "1. A-Z, a-z. _, 숫자(0-9)로 조합\n",
    "    - temp, Temp, 김개똥, 0-9\n",
    "    - Hello_Python\n",
    "2. 단, 맨앞에 숫자로 시작하면 안 됨"
   ]
  },
  {
   "cell_type": "code",
   "execution_count": 4,
   "id": "f11c798d",
   "metadata": {},
   "outputs": [],
   "source": [
    "Hello_Python = 3"
   ]
  },
  {
   "cell_type": "code",
   "execution_count": 6,
   "id": "29f7c7cd",
   "metadata": {},
   "outputs": [
    {
     "data": {
      "text/plain": [
       "3"
      ]
     },
     "execution_count": 6,
     "metadata": {},
     "output_type": "execute_result"
    }
   ],
   "source": [
    "Hello_Python"
   ]
  },
  {
   "cell_type": "code",
   "execution_count": 7,
   "id": "11ad4990",
   "metadata": {},
   "outputs": [],
   "source": [
    "김개똥 = \"파이썬\""
   ]
  },
  {
   "cell_type": "code",
   "execution_count": 9,
   "id": "6f335e33",
   "metadata": {},
   "outputs": [
    {
     "data": {
      "text/plain": [
       "'파이썬'"
      ]
     },
     "execution_count": 9,
     "metadata": {},
     "output_type": "execute_result"
    }
   ],
   "source": [
    "김개똥"
   ]
  },
  {
   "cell_type": "code",
   "execution_count": 12,
   "id": "38e54548",
   "metadata": {},
   "outputs": [
    {
     "ename": "SyntaxError",
     "evalue": "invalid syntax (<ipython-input-12-b61824059284>, line 1)",
     "output_type": "error",
     "traceback": [
      "\u001b[1;36m  File \u001b[1;32m\"<ipython-input-12-b61824059284>\"\u001b[1;36m, line \u001b[1;32m1\u001b[0m\n\u001b[1;33m    1jin = 3\u001b[0m\n\u001b[1;37m         ^\u001b[0m\n\u001b[1;31mSyntaxError\u001b[0m\u001b[1;31m:\u001b[0m invalid syntax\n"
     ]
    }
   ],
   "source": [
    "1jin = 3"
   ]
  },
  {
   "cell_type": "code",
   "execution_count": 13,
   "id": "af5815eb",
   "metadata": {},
   "outputs": [],
   "source": [
    "_abc = 3"
   ]
  },
  {
   "cell_type": "code",
   "execution_count": 14,
   "id": "4bd1d887",
   "metadata": {},
   "outputs": [
    {
     "data": {
      "text/plain": [
       "3"
      ]
     },
     "execution_count": 14,
     "metadata": {},
     "output_type": "execute_result"
    }
   ],
   "source": [
    "_abc"
   ]
  },
  {
   "cell_type": "code",
   "execution_count": 17,
   "id": "f396523e",
   "metadata": {},
   "outputs": [],
   "source": [
    "abc = 200"
   ]
  },
  {
   "cell_type": "code",
   "execution_count": 19,
   "id": "e277d020",
   "metadata": {},
   "outputs": [
    {
     "data": {
      "text/plain": [
       "int"
      ]
     },
     "execution_count": 19,
     "metadata": {},
     "output_type": "execute_result"
    }
   ],
   "source": [
    "type(abc)"
   ]
  },
  {
   "cell_type": "code",
   "execution_count": 21,
   "id": "05e1f38e",
   "metadata": {},
   "outputs": [],
   "source": [
    "b=1.1"
   ]
  },
  {
   "cell_type": "code",
   "execution_count": 22,
   "id": "8a87c348",
   "metadata": {},
   "outputs": [
    {
     "data": {
      "text/plain": [
       "float"
      ]
     },
     "execution_count": 22,
     "metadata": {},
     "output_type": "execute_result"
    }
   ],
   "source": [
    "type(b)"
   ]
  },
  {
   "cell_type": "code",
   "execution_count": 23,
   "id": "b14c92de",
   "metadata": {},
   "outputs": [],
   "source": [
    "a = 7\n",
    "b =0"
   ]
  },
  {
   "cell_type": "markdown",
   "id": "8c6af9ef",
   "metadata": {},
   "source": [
    "##실습 a= 7, b=3\n",
    "1. 연산자 ->//\n",
    "2. 연산자 -> %"
   ]
  },
  {
   "cell_type": "code",
   "execution_count": 27,
   "id": "fa7a933e",
   "metadata": {},
   "outputs": [
    {
     "name": "stdout",
     "output_type": "stream",
     "text": [
      "몫 =  2\n",
      "나머지 =  1\n"
     ]
    }
   ],
   "source": [
    "a = 7 ; b = 3\n",
    "print(\"몫 = \",a//b)\n",
    "print(\"나머지 = \",a%b)"
   ]
  },
  {
   "cell_type": "code",
   "execution_count": 28,
   "id": "d93d3b31",
   "metadata": {},
   "outputs": [
    {
     "name": "stdout",
     "output_type": "stream",
     "text": [
      "0\n"
     ]
    }
   ],
   "source": [
    "a = 10\n",
    "print(a%2)"
   ]
  },
  {
   "cell_type": "code",
   "execution_count": 29,
   "id": "e3f9455a",
   "metadata": {},
   "outputs": [
    {
     "name": "stdout",
     "output_type": "stream",
     "text": [
      "1000\n"
     ]
    }
   ],
   "source": [
    "print(a**b)"
   ]
  },
  {
   "cell_type": "code",
   "execution_count": 30,
   "id": "7f5b7960",
   "metadata": {},
   "outputs": [],
   "source": [
    "# 예약어\n",
    "import keyword\n",
    "#녹색 이름 = 예약어\n",
    "#사용불가"
   ]
  },
  {
   "cell_type": "code",
   "execution_count": 31,
   "id": "e6c5b191",
   "metadata": {},
   "outputs": [
    {
     "name": "stdout",
     "output_type": "stream",
     "text": [
      "['False', 'None', 'True', 'and', 'as', 'assert', 'async', 'await', 'break', 'class', 'continue', 'def', 'del', 'elif', 'else', 'except', 'finally', 'for', 'from', 'global', 'if', 'import', 'in', 'is', 'lambda', 'nonlocal', 'not', 'or', 'pass', 'raise', 'return', 'try', 'while', 'with', 'yield']\n"
     ]
    }
   ],
   "source": [
    "print(keyword.kwlist)"
   ]
  },
  {
   "cell_type": "code",
   "execution_count": null,
   "id": "c7d46183",
   "metadata": {},
   "outputs": [],
   "source": []
  }
 ],
 "metadata": {
  "kernelspec": {
   "display_name": "Python 3",
   "language": "python",
   "name": "python3"
  },
  "language_info": {
   "codemirror_mode": {
    "name": "ipython",
    "version": 3
   },
   "file_extension": ".py",
   "mimetype": "text/x-python",
   "name": "python",
   "nbconvert_exporter": "python",
   "pygments_lexer": "ipython3",
   "version": "3.8.8"
  }
 },
 "nbformat": 4,
 "nbformat_minor": 5
}
